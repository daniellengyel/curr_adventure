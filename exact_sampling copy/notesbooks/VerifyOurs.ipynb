{
 "cells": [
  {
   "cell_type": "code",
   "execution_count": 3,
   "metadata": {},
   "outputs": [],
   "source": [
    "import numpy as np\n",
    "import jax.numpy as jnp\n",
    "from jax import grad\n",
    "import jax.random as jrandom\n",
    "\n",
    "from jax.config import config\n",
    "config.update(\"jax_enable_x64\", True)\n",
    "\n",
    "import sys\n",
    "HOME = \"/Users/daniellengyel/curr_adventure/exact_sampling\"\n",
    "sys.path.append(HOME + \"/Ours\")\n",
    "\n",
    "from generate_sing_vals_V import generate_sing_vals_V\n"
   ]
  },
  {
   "cell_type": "code",
   "execution_count": 2,
   "metadata": {},
   "outputs": [],
   "source": [
    "def helper_linesearch(f, g, c1, c2):\n",
    "\n",
    "    def helper(X, search_direction):\n",
    "        f0 = f(X)\n",
    "        f1 = g(X)\n",
    "        dg = jnp.inner(search_direction, f1)\n",
    "\n",
    "        def armijo_rule(alpha):\n",
    "            return f(X + alpha * search_direction) > f0 + c1*alpha*dg\n",
    "        \n",
    "        def armijo_update(alpha):\n",
    "            return c2*alpha\n",
    "            \n",
    "        alpha = 1\n",
    "        while armijo_rule(alpha):\n",
    "            alpha = armijo_update(alpha)\n",
    "\n",
    "\n",
    "        return alpha\n",
    "\n",
    "    return helper\n",
    "\n",
    "\n",
    "def loss_getter(dim, N, H, sig):\n",
    "    def helper(X):\n",
    "\n",
    "        S = X.reshape(N, dim).T\n",
    "        \n",
    "        S_inv = jnp.linalg.inv(S)\n",
    "        \n",
    "        first_term = S_inv.T @ jnp.diag(S.T @ H @ S)\n",
    "        second_term = jnp.linalg.norm(S_inv, ord=\"fro\")**2\n",
    "        third_term = S_inv.T @ jnp.ones(dim)\n",
    "        third_term = jnp.linalg.norm(third_term)**2\n",
    "        return 1/4 * jnp.linalg.norm(first_term)**2 + sig**2 * (second_term + third_term)\n",
    "\n",
    "    return helper\n",
    "\n",
    "def optimize_uncentered_S(H, sig, max_steps=15, jrandom_key=None, x_curr=None):\n",
    "    \n",
    "    dim = H.shape[0]\n",
    "    N = dim\n",
    "    \n",
    "    H = (H + H.T) / 2. # to combat numerical inaccuracies. \n",
    "    D, U = jnp.linalg.eigh(H)\n",
    "    U = jnp.real(U)\n",
    "\n",
    "    D = jnp.diag(D)\n",
    "\n",
    "    if x_curr is None:\n",
    "\n",
    "        if jrandom_key is None:\n",
    "            x_curr = jnp.diag(jnp.sqrt(sig / jnp.abs(jnp.diag(D)))).flatten()\n",
    "            pass\n",
    "        else:\n",
    "            x_curr = jrandom.normal(jrandom_key, shape=(dim * dim,)) * 0.1\n",
    "    \n",
    "    l = loss_getter(dim, N, D, sig)\n",
    "    g_l = grad(l)\n",
    "    linesearch = helper_linesearch(l, g_l, c1=0.1, c2=0.9)\n",
    "\n",
    "    eps = 1e-20\n",
    "\n",
    "    for t in range(max_steps):\n",
    "\n",
    "        curr_grad = g_l(x_curr)\n",
    "    \n",
    "        search_direction = -curr_grad\n",
    "\n",
    "        if jnp.linalg.norm(curr_grad) < eps:\n",
    "            break    \n",
    "\n",
    "        alpha = linesearch(x_curr, search_direction)\n",
    "\n",
    "        x_curr += alpha*search_direction \n",
    "    \n",
    "    return U.dot(x_curr.reshape(N, dim).T)"
   ]
  },
  {
   "cell_type": "code",
   "execution_count": 12,
   "metadata": {},
   "outputs": [
    {
     "data": {
      "text/plain": [
       "(DeviceArray([[0.29734129, 0.        , 0.        , 0.        ],\n",
       "              [0.        , 0.31951401, 0.        , 0.        ],\n",
       "              [0.        , 0.        , 0.5       , 0.        ],\n",
       "              [0.        , 0.        , 0.        , 0.5       ]],            dtype=float64),\n",
       " DeviceArray([[1., 0., 0., 0.],\n",
       "              [0., 1., 0., 0.],\n",
       "              [0., 0., 1., 0.],\n",
       "              [0., 0., 0., 1.]], dtype=float64))"
      ]
     },
     "execution_count": 12,
     "metadata": {},
     "output_type": "execute_result"
    }
   ],
   "source": [
    "D_diag = jnp.array([-4, -3, 1, 1])\n",
    "sig = 0.1\n",
    "generate_sing_vals_V(D_diag, sig, max_h=0.5)\n",
    "\n"
   ]
  },
  {
   "cell_type": "code",
   "execution_count": null,
   "metadata": {},
   "outputs": [],
   "source": [
    "generate_sing_vals_V(D_diag, sig, max_h)\n",
    "\n"
   ]
  }
 ],
 "metadata": {
  "kernelspec": {
   "display_name": "Python3 (new_adv)",
   "language": "python",
   "name": "new_adv"
  },
  "language_info": {
   "codemirror_mode": {
    "name": "ipython",
    "version": 3
   },
   "file_extension": ".py",
   "mimetype": "text/x-python",
   "name": "python",
   "nbconvert_exporter": "python",
   "pygments_lexer": "ipython3",
   "version": "3.6.8"
  }
 },
 "nbformat": 4,
 "nbformat_minor": 2
}
