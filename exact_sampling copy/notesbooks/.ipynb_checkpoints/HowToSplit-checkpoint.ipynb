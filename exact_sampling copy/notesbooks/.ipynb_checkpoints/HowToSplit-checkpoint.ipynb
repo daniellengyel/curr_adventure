{
 "cells": [
  {
   "cell_type": "code",
   "execution_count": 94,
   "metadata": {},
   "outputs": [
    {
     "name": "stdout",
     "output_type": "stream",
     "text": [
      "The autoreload extension is already loaded. To reload it, use:\n",
      "  %reload_ext autoreload\n"
     ]
    }
   ],
   "source": [
    "import jax.numpy as jnp\n",
    "import numpy as np\n",
    "import jax.random as jrandom\n",
    "from jax import jit, grad, jacfwd\n",
    "\n",
    "import sys \n",
    "import os \n",
    "HOME = os.getenv(\"HOME\")\n",
    "sys.path.append(HOME + \"/curr_adventure/exact_sampling/\")\n",
    "sys.path.append(HOME + \"/curr_adventure/exact_sampling/Optimization\")\n",
    "\n",
    "from Optimization import NewtonMethod\n",
    "from pdfo import newuoa\n",
    "\n",
    "from NEWUO_test import NEWUOA_Wrapper\n",
    "\n",
    "from pow_sampling_set import pow_SG, create_approx_S_multi\n",
    "from Functions import PyCutestGetter, load_cutest_quadratic, HeartDisease\n",
    "from AdaptiveFD import adapt_FD\n",
    "from FD import FD\n",
    "\n",
    "from tqdm import tqdm\n",
    "\n",
    "import matplotlib.pyplot as plt\n",
    "\n",
    "import scipy\n",
    "\n",
    "%load_ext autoreload\n",
    "%autoreload 2"
   ]
  },
  {
   "cell_type": "code",
   "execution_count": 9,
   "metadata": {},
   "outputs": [],
   "source": [
    "def loss_getter(dim, D, sig, coeff=0.1):\n",
    "    def helper(X):\n",
    "        S = X.reshape(dim, dim).T\n",
    "        \n",
    "        S_inv = jnp.linalg.inv(S)\n",
    "        \n",
    "        first_term = S_inv.T @ jnp.diag(S.T @ D @ S)\n",
    "        second_term = jnp.linalg.norm(S_inv, ord=\"fro\")**2\n",
    "        third_term = S_inv.T @ jnp.ones(dim)\n",
    "        third_term = jnp.linalg.norm(third_term)**2\n",
    "        \n",
    "        return 1/4 * jnp.linalg.norm(first_term)**2 + sig**2 * (second_term + third_term) + coeff*jnp.linalg.norm(S, ord=\"fro\")**4\n",
    "    return helper\n",
    "\n",
    "def lmbda_loss(lmbdas, D_diag, sig, l_max_idx):\n",
    "    dim = len(D_diag)\n",
    "\n",
    "    a = D_diag @ lmbdas / len(lmbdas)\n",
    "#     print(repr(lmbdas))\n",
    "    return 1/4. * a**2 * dim / lmbdas[l_max_idx] + sig**2 * dim/lmbdas[l_max_idx] + sig**2 * jnp.sum(1/lmbdas)\n",
    "\n"
   ]
  },
  {
   "cell_type": "code",
   "execution_count": 15,
   "metadata": {},
   "outputs": [],
   "source": [
    "def lambda_coeff_zero(D_diag, sig):\n",
    "    dim = len(D_diag)\n",
    "    D_diag = jnp.abs(D_diag)\n",
    "    D_min = jnp.min(D_diag)\n",
    "    D_sum = jnp.sum(jnp.sqrt(D_diag)) - jnp.sqrt(D_min)\n",
    "    numerator = 2 * (1 + dim) * D_min * sig**2 + D_sum**2 * sig**2 + jnp.sqrt(D_sum**2 * (8 * (1 + dim) * D_min + D_sum**2) * sig**4)\n",
    "    \n",
    "    a = jnp.sqrt(2 * numerator/(dim * D_min))\n",
    "    l = (2 * (1 + dim) * D_min * sig**2 + numerator)/(D_min**2 * a)\n",
    "\n",
    "    lmbdas = [(sig * jnp.sqrt(2*l/(D_diag[i] * a))) for i in range(len(D_diag))]\n",
    "    lmbdas[jnp.argmin(jnp.abs(D_diag))] = l\n",
    "    \n",
    "    return jnp.array(lmbdas)"
   ]
  },
  {
   "cell_type": "code",
   "execution_count": 65,
   "metadata": {},
   "outputs": [],
   "source": [
    "sig = 1 \n",
    "\n",
    "D_diag1 = np.array([10])\n",
    "D_diag2 = np.array([10, 200, 1e4, 1e3, 1e4])\n",
    "\n",
    "\n"
   ]
  },
  {
   "cell_type": "code",
   "execution_count": 191,
   "metadata": {},
   "outputs": [
    {
     "name": "stdout",
     "output_type": "stream",
     "text": [
      "[70.06956454  0.44201352  0.31563015  0.2585657   0.22429736]\n"
     ]
    },
    {
     "data": {
      "text/plain": [
       "DeviceArray(27.68424963, dtype=float64)"
      ]
     },
     "execution_count": 191,
     "metadata": {},
     "output_type": "execute_result"
    }
   ],
   "source": [
    "l1 = lambda_coeff_zero(D_diag, sig)\n",
    "print(l1)\n",
    "lmbda_loss(l1, D_diag, sig, np.argmin(D_diag))"
   ]
  },
  {
   "cell_type": "code",
   "execution_count": 61,
   "metadata": {},
   "outputs": [
    {
     "name": "stdout",
     "output_type": "stream",
     "text": [
      "[0.01414214]\n",
      "fun1 282.842712474619\n",
      "[1.46831838e+01 6.32749362e-03 2.00092917e-02 6.32749362e-03]\n",
      "fun2 732.7964531258563\n",
      "sum 1015.6391656004753\n"
     ]
    }
   ],
   "source": [
    "l1 = lambda_coeff_zero(D_diag1, sig)\n",
    "print(l1)\n",
    "f1 = lmbda_loss(l1, D_diag1, sig, np.argmin(D_diag1))\n",
    "print(\"fun1\", f1)\n",
    "l2 = lambda_coeff_zero(D_diag2, sig)\n",
    "print(l2)\n",
    "f2 = lmbda_loss(l2, D_diag2, sig, np.argmin(D_diag2))\n",
    "print(\"fun2\", f2)\n",
    "print(\"sum\", f1 + f2)\n",
    "\n",
    "\n"
   ]
  },
  {
   "cell_type": "code",
   "execution_count": 66,
   "metadata": {},
   "outputs": [
    {
     "name": "stdout",
     "output_type": "stream",
     "text": [
      "[0.28284271]\n",
      "fun1 14.14213562373095\n",
      "[1.74212821e+01 5.00247545e-02 7.07456862e-03 2.23717503e-02\n",
      " 7.07456862e-03]\n",
      "fun2 695.4729766472464\n",
      "sum 709.6151122709773\n"
     ]
    }
   ],
   "source": [
    "l1 = lambda_coeff_zero(D_diag1, sig)\n",
    "print(l1)\n",
    "f1 = lmbda_loss(l1, D_diag1, sig, np.argmin(D_diag1))\n",
    "print(\"fun1\", f1)\n",
    "l2 = lambda_coeff_zero(D_diag2, sig)\n",
    "print(l2)\n",
    "f2 = lmbda_loss(l2, D_diag2, sig, np.argmin(D_diag2))\n",
    "print(\"fun2\", f2)\n",
    "print(\"sum\", f1 + f2)\n",
    "\n",
    "\n",
    "\n"
   ]
  },
  {
   "cell_type": "code",
   "execution_count": 67,
   "metadata": {},
   "outputs": [
    {
     "ename": "NameError",
     "evalue": "name 'D_diag' is not defined",
     "output_type": "error",
     "traceback": [
      "\u001b[0;31m---------------------------------------------------------------------------\u001b[0m",
      "\u001b[0;31mNameError\u001b[0m                                 Traceback (most recent call last)",
      "Input \u001b[0;32mIn [67]\u001b[0m, in \u001b[0;36m<cell line: 50>\u001b[0;34m()\u001b[0m\n\u001b[1;32m     44\u001b[0m         curr_n \u001b[38;5;241m=\u001b[39m curr_n \u001b[38;5;241m%\u001b[39m upper_n\n\u001b[1;32m     48\u001b[0m     \u001b[38;5;28;01mreturn\u001b[39;00m res\n\u001b[0;32m---> 50\u001b[0m pow_index \u001b[38;5;241m=\u001b[39m get_S_pow_index_sets(\u001b[43mD_diag\u001b[49m)\n",
      "\u001b[0;31mNameError\u001b[0m: name 'D_diag' is not defined"
     ]
    }
   ],
   "source": [
    "\n",
    "def get_S_pow_index_sets(D_diag,):\n",
    "    \"\"\"Returns a set of sets. Each set with the indecies of H to use.\"\"\"\n",
    "    dim = len(D_diag)\n",
    "    binary_dim = (bin(dim)[2:])[::-1]\n",
    "    res = {}\n",
    "    for i in range(len(binary_dim)):\n",
    "        if binary_dim[i] == \"1\":\n",
    "            res[i] = []\n",
    "            \n",
    "    bin_used = sorted(res.keys())\n",
    "    \n",
    "    curr_n = len(bin_used) - 1\n",
    "    upper_n = curr_n + 1\n",
    "    lower_n = 0\n",
    "\n",
    "    end_mid = True\n",
    "    \n",
    "    start = 0\n",
    "    if end_mid:\n",
    "        end = len(D_diag) // 2 + len(D_diag) % 2 \n",
    "    else:\n",
    "        end = len(D_diag) - 1\n",
    "    \n",
    "    argsorted_D_diag = jnp.argsort(D_diag)\n",
    "    while end < len(D_diag) and start < end:\n",
    "        while len(res[bin_used[curr_n]]) == 2**bin_used[curr_n]:\n",
    "            curr_n -= 1\n",
    "            curr_n = curr_n % upper_n\n",
    "            \n",
    "        curr_exp = bin_used[curr_n]\n",
    "        if curr_exp == 0:\n",
    "            res[curr_exp].append(int(argsorted_D_diag[start]))\n",
    "            start += 1\n",
    "        else:\n",
    "            res[curr_exp].append(int(argsorted_D_diag[start]))\n",
    "            res[curr_exp].append(int(argsorted_D_diag[end]))\n",
    "            start += 1\n",
    "            if end_mid:\n",
    "                end += 1\n",
    "            else:\n",
    "                end -=1\n",
    "\n",
    "        curr_n -= 1\n",
    "        curr_n = curr_n % upper_n\n",
    "\n",
    "        \n",
    "\n",
    "    return res\n",
    "\n"
   ]
  },
  {
   "cell_type": "code",
   "execution_count": 108,
   "metadata": {},
   "outputs": [],
   "source": [
    "D_diag = jnp.linspace(1, 1e3, 15)\n",
    "pow_index = get_S_pow_index_sets(D_diag)"
   ]
  },
  {
   "cell_type": "code",
   "execution_count": 76,
   "metadata": {},
   "outputs": [
    {
     "name": "stdout",
     "output_type": "stream",
     "text": [
      "[1.19790539e+04 4.58228169e-02 3.24027585e-02 2.64570502e-02\n",
      " 2.29126112e-02 2.04937342e-02 1.87081779e-02 1.73204360e-02\n",
      " 1.62018045e-02 1.52752227e-02 1.44913599e-02 1.38169783e-02\n",
      " 1.32287566e-02 1.27097839e-02 1.22474590e-02]\n",
      "fun all 1597.2018452165864\n"
     ]
    }
   ],
   "source": [
    "lall = lambda_coeff_zero(D_diag, sig)\n",
    "print(lall)\n",
    "fall = lmbda_loss(lall, D_diag, sig, np.argmin(D_diag))\n",
    "print(\"fun all\", fall)\n",
    "\n",
    "\n",
    "\n",
    "\n"
   ]
  },
  {
   "cell_type": "code",
   "execution_count": 78,
   "metadata": {},
   "outputs": [
    {
     "name": "stdout",
     "output_type": "stream",
     "text": [
      "[21429.35714286]\n",
      "30305.687504365327\n",
      "\n",
      "[14286.57142857 71428.85714286]\n",
      "54408.576231468076\n",
      "\n",
      "[ 7143.78571429 64286.07142857 35714.92857143 85714.42857143]\n",
      "64057.69435804452\n",
      "\n",
      "[1.00000000e+00 5.71432857e+04 2.85721429e+04 7.85716429e+04\n",
      " 4.28577143e+04 9.28572143e+04 5.00005000e+04 1.00000000e+05]\n",
      "1230.3446234779253\n",
      "\n"
     ]
    }
   ],
   "source": [
    "res = 0 \n",
    "for k in pow_index:\n",
    "    curr_D = D_diag[np.array(pow_index[k])]\n",
    "    print(curr_D)\n",
    "    l_curr = lambda_coeff_zero(curr_D, sig)\n",
    "    f_curr = lmbda_loss(l_curr, curr_D, sig, np.argmin(curr_D))\n",
    "    print(f_curr)\n",
    "    print()"
   ]
  },
  {
   "cell_type": "code",
   "execution_count": 75,
   "metadata": {},
   "outputs": [
    {
     "data": {
      "text/plain": [
       "DeviceArray(150002.30271736, dtype=float64)"
      ]
     },
     "execution_count": 75,
     "metadata": {},
     "output_type": "execute_result"
    }
   ],
   "source": [
    "res"
   ]
  },
  {
   "cell_type": "code",
   "execution_count": 618,
   "metadata": {},
   "outputs": [],
   "source": [
    "\n",
    "def helper_linesearch(f, g, c1, c2):\n",
    "\n",
    "    def helper(X, search_direction):\n",
    "        f0 = f(X)\n",
    "        f1 = g(X)\n",
    "        dg = jnp.inner(search_direction, f1)\n",
    "\n",
    "        def armijo_rule(alpha):\n",
    "            return f(X + alpha * search_direction) > f0 + c1*alpha*dg\n",
    "        \n",
    "        def armijo_update(alpha):\n",
    "            return c2*alpha\n",
    "            \n",
    "        alpha = 1\n",
    "        while armijo_rule(alpha):\n",
    "            alpha = armijo_update(alpha)\n",
    "\n",
    "\n",
    "        return alpha\n",
    "\n",
    "    return helper\n",
    "\n",
    "\n",
    "def loss_getter(dim, N, H, sig):\n",
    "    def helper(X):\n",
    "\n",
    "        S = X.reshape(N, dim).T\n",
    "        \n",
    "        S_inv = jnp.linalg.inv(S)\n",
    "        \n",
    "        first_term = S_inv.T @ jnp.diag(S.T @ H @ S)\n",
    "        second_term = jnp.linalg.norm(S_inv, ord=\"fro\")**2\n",
    "        third_term = S_inv.T @ jnp.ones(dim)\n",
    "        third_term = jnp.linalg.norm(third_term)**2\n",
    "        return 1/4 * jnp.linalg.norm(first_term)**2 + sig**2 * (second_term + third_term)\n",
    "\n",
    "    return helper\n",
    "\n",
    "def optimize_uncentered_S(H, sig, max_steps=15, jrandom_key=None, x_curr=None):\n",
    "    \n",
    "    dim = H.shape[0]\n",
    "    N = dim\n",
    "    \n",
    "    H = (H + H.T) / 2. # to combat numerical inaccuracies. \n",
    "    D, U = jnp.linalg.eigh(H)\n",
    "    U = jnp.real(U)\n",
    "\n",
    "    D = jnp.diag(D)\n",
    "\n",
    "    if x_curr is None:\n",
    "\n",
    "        if jrandom_key is None:\n",
    "            x_curr = jnp.diag(jnp.sqrt(sig / jnp.abs(jnp.diag(D)))).flatten()\n",
    "            pass\n",
    "        else:\n",
    "            x_curr = jrandom.normal(jrandom_key, shape=(dim * dim,)) * 0.1\n",
    "    \n",
    "    l = loss_getter(dim, N, D, sig)\n",
    "    g_l = grad(l)\n",
    "    linesearch = helper_linesearch(l, g_l, c1=0.1, c2=0.9)\n",
    "    h_l = jacfwd(g_l)\n",
    "\n",
    "\n",
    "    eps = 1e-20\n",
    "    \n",
    "    res = []\n",
    "\n",
    "    for t in tqdm(range(max_steps)):\n",
    "        \n",
    "        curr_grad = g_l(x_curr)\n",
    "        \n",
    "        res.append(l(x_curr))\n",
    "        \n",
    "        curr_hess = h_l(x_curr) - jnp.min(jnp.linalg.eigh(h_l(x_curr))[0])*jnp.eye(dim**2) + jnp.eye(dim**2)\n",
    "        search_direction = -jnp.linalg.inv(curr_hess) @ curr_grad #+ np.random.normal(size=(dim**2))*0.1\n",
    "#         search_direction = -curr_grad\n",
    "\n",
    "        if jnp.linalg.norm(curr_grad) < eps:\n",
    "            break    \n",
    "\n",
    "        alpha = linesearch(x_curr, search_direction)\n",
    "\n",
    "        x_curr += alpha*search_direction \n",
    "    \n",
    "    return U.dot(x_curr.reshape(N, dim).T), res"
   ]
  },
  {
   "cell_type": "code",
   "execution_count": 619,
   "metadata": {},
   "outputs": [
    {
     "data": {
      "text/plain": [
       "DeviceArray([[ 3.51819817e+01,  3.56076443e+01,  3.54527550e+01,\n",
       "               3.52353658e+01,  3.57860438e+01],\n",
       "             [ 1.06610743e-01,  1.94824305e-01, -1.72926665e-01,\n",
       "              -1.61500054e-01,  2.74798524e-02],\n",
       "             [ 1.77569451e-01, -2.39227257e-02,  2.59349618e-02,\n",
       "               2.77512767e-02, -2.01858108e-01],\n",
       "             [ 4.42022105e-02, -5.03229949e-02,  1.47800605e-01,\n",
       "              -1.83359074e-01,  3.87740812e-02],\n",
       "             [ 1.10699362e-01, -1.44537601e-01, -9.10132241e-02,\n",
       "               1.53565441e-02,  1.04768739e-01]], dtype=float64)"
      ]
     },
     "execution_count": 619,
     "metadata": {},
     "output_type": "execute_result"
    }
   ],
   "source": [
    "opt_S"
   ]
  },
  {
   "cell_type": "code",
   "execution_count": 620,
   "metadata": {},
   "outputs": [
    {
     "data": {
      "text/plain": [
       "DeviceArray(98.52927288, dtype=float64)"
      ]
     },
     "execution_count": 620,
     "metadata": {},
     "output_type": "execute_result"
    }
   ],
   "source": [
    "res[-1]"
   ]
  },
  {
   "cell_type": "code",
   "execution_count": 624,
   "metadata": {},
   "outputs": [
    {
     "name": "stderr",
     "output_type": "stream",
     "text": [
      "100%|██████████████████████████████████████████████████████████████████████████| 10/10 [00:02<00:00,  3.98it/s]\n"
     ]
    }
   ],
   "source": [
    "D_diag = jnp.linspace(0.1, 1e4, 5)\n",
    "\n",
    "sig = 1\n",
    "\n",
    "x_init = create_approx_S_multi(jnp.diag(D_diag), sig, None, None)\n",
    "\n",
    "opt_S, res = optimize_uncentered_S(jnp.diag(D_diag), sig, max_steps=10, jrandom_key=None, x_curr=opt_S.T.flatten())\n",
    "\n",
    "\n"
   ]
  },
  {
   "cell_type": "code",
   "execution_count": 625,
   "metadata": {},
   "outputs": [
    {
     "data": {
      "text/plain": [
       "[<matplotlib.lines.Line2D at 0x7fce3243a500>]"
      ]
     },
     "execution_count": 625,
     "metadata": {},
     "output_type": "execute_result"
    },
    {
     "data": {
      "image/png": "[encoded data removed]",
      "text/plain": [
       "<Figure size 432x288 with 1 Axes>"
      ]
     },
     "metadata": {
      "needs_background": "light"
     },
     "output_type": "display_data"
    }
   ],
   "source": [
    "plt.plot(res)\n"
   ]
  },
  {
   "cell_type": "code",
   "execution_count": 616,
   "metadata": {},
   "outputs": [
    {
     "data": {
      "text/plain": [
       "DeviceArray([-2.53507206e-01,  3.40150844e+00,  1.22910173e+01,\n",
       "              4.85148673e+00,  1.46558410e+01,  3.53709327e-02,\n",
       "             -3.96412821e+01,  9.75707424e+00,  3.06421624e+01,\n",
       "              1.18586505e+02, -1.31880508e-01,  1.00279191e+01,\n",
       "             -2.88804056e+00, -2.51926799e+01,  2.14898960e+01,\n",
       "             -1.79824364e-01,  3.25620395e+00, -9.60920064e-01,\n",
       "              1.10086470e+01, -1.72229628e+00, -4.73453514e-01,\n",
       "              6.81385891e+00, -1.00107168e+02,  2.92034355e+01,\n",
       "              1.03391606e+02], dtype=float64)"
      ]
     },
     "execution_count": 616,
     "metadata": {},
     "output_type": "execute_result"
    }
   ],
   "source": [
    "l = loss_getter(5, 5, jnp.diag(D_diag), sig)\n",
    "g_l = grad(loss_getter(5, 5, jnp.diag(D_diag), sig))\n",
    "h_l = jacfwd(g_l)\n",
    "\n",
    "g_l(opt_S.T.flatten())"
   ]
  },
  {
   "cell_type": "code",
   "execution_count": 617,
   "metadata": {},
   "outputs": [
    {
     "data": {
      "text/plain": [
       "(DeviceArray([-3.48341769e+02, -1.39065264e+02, -8.57124383e+01,\n",
       "              -9.18878244e+00,  1.22866369e-02,  2.93527484e-02,\n",
       "               4.77386766e-02,  5.52226327e-02,  6.64137351e-02,\n",
       "               1.29423129e+02,  1.49637118e+02,  3.88802190e+02,\n",
       "               5.84660703e+02,  6.77288102e+02,  8.53440985e+02,\n",
       "               1.00191921e+03,  1.24375079e+03,  1.93903521e+03,\n",
       "               2.03667247e+03,  2.30966817e+03,  3.30212144e+03,\n",
       "               4.29531942e+07,  5.92749929e+07,  7.09821487e+07,\n",
       "               8.82990699e+07], dtype=float64),\n",
       " DeviceArray([[ 7.88474571e-05,  1.53204985e-03,  3.84906984e-03,\n",
       "                1.10115449e-02,  4.20996115e-01, -1.71248623e-01,\n",
       "                8.18704493e-01, -2.72647666e-01,  2.20632034e-01,\n",
       "               -6.24556883e-04,  1.08257079e-03, -6.74214844e-05,\n",
       "                3.26859877e-05,  1.55958989e-04,  1.96651132e-05,\n",
       "               -5.70143272e-04,  9.42126330e-05, -5.05035545e-04,\n",
       "                2.55169713e-04,  6.55346217e-05, -5.38162215e-04,\n",
       "               -7.32589030e-04,  1.21620717e-03,  2.82416855e-04,\n",
       "               -9.10983900e-04],\n",
       "              [-6.86051637e-03, -1.90142950e-01, -4.64793008e-01,\n",
       "               -3.42172373e-02,  3.07117681e-04,  1.44057142e-04,\n",
       "                3.34915331e-03, -3.09135914e-04,  2.25833774e-03,\n",
       "                3.52460678e-02, -2.84940697e-01,  5.00947262e-01,\n",
       "               -2.48965684e-01, -1.85156976e-01, -5.37719571e-02,\n",
       "                5.30987329e-01, -1.38952727e-02, -3.81042568e-02,\n",
       "                5.21862109e-02, -1.60501863e-02,  4.01069816e-02,\n",
       "                6.88606943e-02, -1.14342080e-01, -2.65529681e-02,\n",
       "                8.56476243e-02],\n",
       "              [-8.05950688e-03, -1.79551166e-03, -1.47226012e-02,\n",
       "               -2.58936234e-02,  4.00429298e-04, -1.27171736e-04,\n",
       "                3.87299249e-04, -1.27000438e-03,  1.42570758e-03,\n",
       "               -1.07557671e-01,  4.16264521e-01,  3.97389212e-02,\n",
       "                4.38894711e-01, -2.42251088e-01, -1.61741762e-02,\n",
       "                1.89183627e-01,  5.66660590e-02,  3.88924265e-01,\n",
       "               -2.81168883e-01,  4.05360082e-02,  5.62016034e-02,\n",
       "                2.29429989e-01, -3.80875788e-01, -8.84444958e-02,\n",
       "                2.85293976e-01],\n",
       "              [-9.88632709e-02,  2.91923383e-02,  8.89657103e-02,\n",
       "               -4.61932644e-01,  1.32333925e-04,  3.57565474e-04,\n",
       "                8.19117320e-05, -9.10155842e-04,  2.21291879e-02,\n",
       "               -2.20365551e-01, -1.88961929e-01, -4.56615375e-02,\n",
       "               -1.02545514e-01,  6.10599917e-02,  4.84456222e-01,\n",
       "               -5.31945252e-02, -1.35658386e-02,  3.83522907e-01,\n",
       "                4.65149632e-01, -1.43147802e-01,  7.30181203e-02,\n",
       "                8.56672270e-02, -1.42216443e-01, -3.30129135e-02,\n",
       "                1.06523913e-01],\n",
       "              [ 3.80764082e-02,  3.69957355e-02,  9.70814312e-02,\n",
       "                1.67581392e-01,  4.16822363e-04, -4.09050671e-04,\n",
       "                9.28728201e-04,  3.31935980e-04, -7.77504761e-03,\n",
       "                1.43263678e-01, -2.08341019e-01, -1.40460015e-01,\n",
       "               -2.91501814e-01,  1.43823385e-01, -1.24640037e-01,\n",
       "               -2.26176274e-01, -8.28564144e-02, -2.00224947e-01,\n",
       "               -6.86190845e-02, -5.75824063e-02,  4.50111636e-01,\n",
       "                2.86058512e-01, -4.74884867e-01, -1.10273700e-01,\n",
       "                3.55692569e-01],\n",
       "              [ 5.19962340e-04, -4.87139323e-03, -8.57397804e-04,\n",
       "               -5.22460908e-03,  6.09690407e-01, -6.24988755e-01,\n",
       "               -2.97411868e-01,  3.78490470e-01, -7.68259671e-02,\n",
       "               -7.38970865e-05,  1.84243128e-04, -5.66262293e-04,\n",
       "                3.63799518e-04,  5.33034080e-04,  3.65484567e-05,\n",
       "                2.79862670e-04, -2.39437568e-04, -1.62154147e-04,\n",
       "                1.17676646e-04, -1.64752011e-05, -1.54013465e-04,\n",
       "               -9.84644482e-04, -1.41614916e-04, -3.64833362e-04,\n",
       "                1.20238115e-03],\n",
       "              [-7.61434272e-02,  7.38843550e-01,  1.08035931e-01,\n",
       "                8.30313033e-02,  1.52037393e-03, -3.60050150e-03,\n",
       "               -2.29511344e-03,  2.38772076e-03, -4.58492191e-03,\n",
       "                1.33731874e-02, -1.23367637e-01,  1.15926184e-01,\n",
       "               -2.30862365e-01, -4.78213405e-01, -2.34606598e-05,\n",
       "               -4.68710464e-02,  1.18462854e-01,  1.24320578e-01,\n",
       "               -9.29890656e-02,  1.77412769e-02,  9.40206255e-03,\n",
       "                1.71745937e-01,  2.47021664e-02,  6.36362620e-02,\n",
       "               -2.09723314e-01],\n",
       "              [ 1.65465782e-02, -1.44089395e-01,  7.27818503e-01,\n",
       "                7.19121076e-02, -2.39645100e-04,  8.01933385e-04,\n",
       "               -2.02327338e-03, -1.39677051e-04, -3.88490477e-03,\n",
       "                1.61765461e-01, -3.51876647e-01,  8.05921058e-02,\n",
       "                2.47321723e-01, -1.10261904e-01, -2.72684781e-02,\n",
       "                3.75329954e-01,  2.31480294e-01, -7.90968221e-02,\n",
       "                8.92287880e-02, -3.25163881e-03,  1.03731223e-02,\n",
       "               -4.21762264e-02, -6.05691880e-03, -1.56260646e-02,\n",
       "                5.14990764e-02],\n",
       "              [ 7.49797636e-01,  1.59576318e-01, -5.48929210e-03,\n",
       "               -3.24445301e-02, -1.31928651e-04,  1.52698714e-04,\n",
       "               -4.02522166e-04,  2.21090682e-04,  2.48567586e-03,\n",
       "               -7.64531239e-02, -2.72011370e-02,  2.62793355e-02,\n",
       "               -1.21150944e-02, -9.15408129e-03,  4.53421485e-01,\n",
       "                6.08666099e-02, -2.16693791e-02, -1.91898459e-01,\n",
       "               -1.62715692e-01,  2.85766153e-01, -4.57860557e-02,\n",
       "               -1.33084578e-01, -1.91402012e-02, -4.93105845e-02,\n",
       "                1.62507626e-01],\n",
       "              [-2.23095457e-01,  2.20400790e-01, -2.23810398e-02,\n",
       "                3.03504599e-02, -4.35626855e-04, -1.65795881e-04,\n",
       "                9.42372103e-05,  2.87187142e-04, -1.70432438e-03,\n",
       "                1.14800622e-02, -5.60732037e-03,  2.68011707e-02,\n",
       "               -7.17297822e-02, -9.01418502e-02, -1.11901728e-01,\n",
       "               -9.18098117e-02,  6.11807474e-02, -6.99733795e-02,\n",
       "                1.14054505e-01, -1.27163243e-02, -3.93996099e-01,\n",
       "               -5.09650909e-01, -7.32987326e-02, -1.88832486e-01,\n",
       "                6.22339509e-01],\n",
       "              [-1.49281110e-03,  1.17676554e-03, -5.72608066e-04,\n",
       "                3.09552917e-02,  4.31543656e-01,  5.65941367e-01,\n",
       "               -2.07061075e-01,  2.06595712e-01,  6.37932624e-01,\n",
       "                6.08131592e-04,  9.13592465e-05,  4.22760162e-04,\n",
       "                2.68545031e-04,  4.65921336e-04,  4.44114442e-04,\n",
       "                4.83998362e-05,  6.31271954e-05, -2.06725474e-04,\n",
       "                3.32056391e-05,  2.09325393e-04, -4.77740770e-04,\n",
       "                9.12541462e-04,  1.36515536e-04,  1.24936068e-03,\n",
       "                6.19359152e-04],\n",
       "              [-2.81618138e-01,  1.83478853e-01, -1.03807298e-01,\n",
       "                4.85706937e-01, -2.92180414e-04, -2.24501060e-03,\n",
       "                3.25054190e-04,  1.24830782e-03, -2.41922325e-02,\n",
       "               -1.83227732e-01, -1.71038511e-01,  2.89819348e-01,\n",
       "                2.72716918e-01,  4.46949024e-01,  3.43935111e-01,\n",
       "               -3.90167953e-02,  1.33147306e-01, -8.46043743e-03,\n",
       "               -3.38067390e-02,  1.11442359e-01, -3.65851393e-02,\n",
       "                1.40490975e-01,  2.10183107e-02,  1.92356475e-01,\n",
       "                9.53572425e-02],\n",
       "              [ 6.93713722e-02, -4.49770099e-02, -2.62115384e-01,\n",
       "                1.97912769e-01,  1.86481722e-04, -5.48474146e-05,\n",
       "                2.12818091e-03,  8.95599725e-04, -9.57620332e-03,\n",
       "                6.32381767e-01, -2.36957213e-01, -9.15986294e-02,\n",
       "                3.51890761e-01, -2.34494938e-01,  1.32477559e-01,\n",
       "               -2.22795290e-01, -1.75141988e-01,  2.31515388e-01,\n",
       "                2.54818501e-01,  1.37775920e-01,  2.43460314e-02,\n",
       "               -4.21453414e-02, -6.29539254e-03, -5.77006787e-02,\n",
       "               -2.86040185e-02],\n",
       "              [ 1.55017881e-01, -1.47154519e-01, -1.95026332e-02,\n",
       "                3.00808743e-01,  3.49412104e-04,  8.87630772e-04,\n",
       "               -2.30237440e-04,  3.51597938e-04, -1.29745361e-02,\n",
       "               -2.15585902e-01, -9.08942407e-02,  1.57769414e-01,\n",
       "               -7.40419717e-02, -6.80036044e-03, -1.46572382e-02,\n",
       "               -2.02946854e-01,  3.12414471e-01,  3.27321662e-01,\n",
       "               -8.71104623e-02, -1.96023195e-01,  2.24165515e-01,\n",
       "               -3.60253782e-01, -5.38935795e-02, -4.93197371e-01,\n",
       "               -2.44502858e-01],\n",
       "              [ 3.32035969e-01, -2.70974533e-01, -1.17817701e-02,\n",
       "                1.63502267e-01, -4.62714281e-04,  3.08710083e-04,\n",
       "                5.39695007e-04, -2.63431156e-04, -7.61192555e-03,\n",
       "               -8.48057425e-02, -6.36304820e-02,  4.34946757e-02,\n",
       "               -1.32629385e-01, -1.59918652e-01, -1.55648130e-01,\n",
       "               -3.06341289e-01,  3.47235209e-01,  1.69209509e-01,\n",
       "                1.20642230e-01, -1.84022446e-01, -3.51675765e-01,\n",
       "                2.95778969e-01,  4.42475369e-02,  4.04951099e-01,\n",
       "                2.00745548e-01],\n",
       "              [ 8.79823051e-04,  1.21643847e-03, -1.38301217e-04,\n",
       "               -3.47664889e-02,  4.12774186e-01,  5.09635350e-01,\n",
       "                1.36389481e-01,  1.35319241e-01, -7.29218867e-01,\n",
       "               -8.45308978e-04, -8.21416618e-05,  3.33725220e-04,\n",
       "                2.07148223e-04,  3.91448745e-04, -4.17539670e-04,\n",
       "               -1.85803056e-04,  2.50294827e-04, -1.65062886e-04,\n",
       "                1.09036802e-04,  5.96147646e-05, -6.33749547e-04,\n",
       "                1.05326035e-03,  2.52556435e-04, -1.35347281e-03,\n",
       "               -8.32534183e-05],\n",
       "              [ 2.11113541e-01,  2.80578593e-01, -4.91650088e-02,\n",
       "               -4.46772108e-01, -1.97689386e-04, -1.17415065e-03,\n",
       "               -1.68023643e-04,  1.13899772e-04,  2.22436748e-02,\n",
       "                2.21277979e-01, -9.95156945e-02,  3.52276820e-01,\n",
       "                2.49336736e-01,  4.13254224e-01, -3.55147230e-01,\n",
       "               -1.51584757e-01,  1.94798817e-01,  3.17509955e-02,\n",
       "               -1.18846686e-02, -6.16481580e-02, -7.03668211e-02,\n",
       "                1.50275722e-01,  3.60358129e-02, -1.93121483e-01,\n",
       "               -1.18796554e-02],\n",
       "              [-5.29567451e-02, -4.70207537e-02, -1.50298854e-01,\n",
       "               -2.05185875e-01,  8.37683975e-05,  4.21014079e-04,\n",
       "                9.38193506e-04, -3.39843954e-04,  1.03751664e-02,\n",
       "               -3.98966989e-01, -5.33487652e-01, -1.22071611e-01,\n",
       "                3.97384846e-01, -2.62567538e-01, -7.80841809e-02,\n",
       "               -2.09523492e-01, -1.62788392e-01, -2.08295581e-01,\n",
       "               -2.99383160e-01, -1.66129880e-01,  1.69240867e-02,\n",
       "               -5.16506374e-02, -1.23762560e-02,  6.63729452e-02,\n",
       "                4.08299841e-03],\n",
       "              [-1.01546519e-01, -1.16195472e-01,  1.06845472e-03,\n",
       "                7.53235917e-02, -6.13096608e-04, -6.02609369e-04,\n",
       "               -2.41150398e-05, -1.75287588e-04, -2.36662234e-03,\n",
       "               -8.16646702e-02, -2.68859123e-02, -9.93667224e-02,\n",
       "               -2.61887529e-02, -9.85725162e-02,  1.25829462e-01,\n",
       "               -3.92268339e-02,  7.97298124e-03, -2.11160462e-01,\n",
       "                4.80421547e-02,  1.08191975e-01, -3.94255490e-01,\n",
       "                5.11876988e-01,  1.22738761e-01, -6.57755899e-01,\n",
       "               -4.04589306e-02],\n",
       "              [-3.03902717e-01, -2.71060166e-01,  1.60658324e-02,\n",
       "               -3.13884016e-01, -1.15876500e-04,  1.02720702e-03,\n",
       "                8.16710868e-04, -8.91181795e-04,  1.42935406e-02,\n",
       "                2.07307463e-01, -1.79440860e-02,  1.34570378e-01,\n",
       "               -1.55719935e-01, -1.13112661e-01,  2.23973458e-01,\n",
       "               -2.89861577e-01,  4.07088947e-01, -4.97771687e-02,\n",
       "               -3.57638054e-01,  4.38673431e-01,  7.16870740e-02,\n",
       "               -5.71606193e-02, -1.37059340e-02,  7.34420175e-02,\n",
       "                4.50979933e-03],\n",
       "              [ 3.19778293e-05,  8.19187255e-04, -2.14100238e-03,\n",
       "               -1.72766468e-03,  3.07283763e-01, -4.69812692e-03,\n",
       "               -4.23982299e-01, -8.49352266e-01, -6.61736649e-02,\n",
       "                9.36793501e-04, -1.24901867e-03, -3.51332254e-05,\n",
       "               -5.56245482e-05,  3.10073912e-04,  2.18154820e-05,\n",
       "               -1.90950822e-04,  4.14587224e-04, -7.78208846e-04,\n",
       "                6.13494546e-04,  1.85011347e-04, -7.93847261e-04,\n",
       "               -2.31838754e-04, -1.40766521e-03,  1.72641208e-04,\n",
       "               -8.38147146e-04],\n",
       "              [-1.99216235e-03, -1.38604467e-01,  3.11677335e-01,\n",
       "                1.99038173e-02, -9.11611331e-05,  3.83424442e-04,\n",
       "               -1.66445944e-03, -6.61914130e-04, -1.30428034e-03,\n",
       "               -5.04598588e-02,  1.85761503e-01,  6.40023135e-01,\n",
       "               -1.10425979e-03, -1.62355265e-01,  4.62658266e-02,\n",
       "               -3.51138123e-01, -5.24448367e-01, -6.69253089e-02,\n",
       "                4.79398579e-02, -2.95546522e-02,  1.91118654e-02,\n",
       "                5.71755761e-03,  3.48553142e-02, -4.27704193e-03,\n",
       "                2.07558298e-02],\n",
       "              [ 5.46422704e-04,  3.60648652e-02, -9.69238093e-02,\n",
       "               -1.35439004e-02, -3.83834803e-04, -1.53317597e-04,\n",
       "                4.90819614e-04,  1.49560278e-03,  7.60459880e-04,\n",
       "               -7.74177866e-02,  2.18181690e-01,  8.09275442e-02,\n",
       "                1.99929244e-01, -1.47980479e-01,  3.07652415e-02,\n",
       "               -9.63167630e-02,  2.81036078e-01, -4.82690852e-01,\n",
       "                4.22126064e-01, -1.19177237e-02, -1.97476385e-02,\n",
       "               -8.43318728e-02, -5.12032151e-01,  6.27997366e-02,\n",
       "               -3.04880334e-01],\n",
       "              [-4.46656609e-02,  1.78159480e-02, -5.36341318e-02,\n",
       "               -3.92757419e-02,  9.86649645e-05, -4.17010377e-05,\n",
       "                2.00316434e-04, -2.75706449e-04,  1.31533280e-03,\n",
       "                3.25576159e-01,  1.67930870e-01,  3.76855343e-02,\n",
       "                3.58327706e-02, -5.98475305e-02,  3.97648784e-01,\n",
       "                2.38081778e-02,  1.38170723e-01, -2.26692813e-01,\n",
       "               -2.30922834e-01, -7.33638895e-01,  4.06983469e-02,\n",
       "                2.42993688e-02,  1.47534565e-01, -1.80749183e-02,\n",
       "                8.78434394e-02],\n",
       "              [ 1.34338650e-02,  3.72912675e-02, -9.89370931e-02,\n",
       "               -3.23181486e-03,  1.79052818e-04, -9.92394965e-05,\n",
       "               -6.24932715e-04, -1.04916674e-03,  2.50183949e-04,\n",
       "               -1.62189463e-01,  1.51746617e-01,  2.37526833e-02,\n",
       "                1.50305027e-01, -1.97786386e-01, -8.96590221e-02,\n",
       "               -3.60861899e-02,  2.18606929e-01, -1.64039382e-01,\n",
       "                3.14701717e-01,  1.16922093e-01,  5.34500386e-01,\n",
       "                8.75458151e-02,  5.31528396e-01, -6.51896730e-02,\n",
       "                3.16459683e-01]], dtype=float64))"
      ]
     },
     "execution_count": 617,
     "metadata": {},
     "output_type": "execute_result"
    }
   ],
   "source": [
    "jnp.linalg.eigh(h_l(opt_S.T.flatten()))"
   ]
  },
  {
   "cell_type": "code",
   "execution_count": 502,
   "metadata": {},
   "outputs": [],
   "source": [
    "_, SIG, V = jnp.linalg.svd(opt_S)"
   ]
  },
  {
   "cell_type": "code",
   "execution_count": 196,
   "metadata": {},
   "outputs": [
    {
     "data": {
      "text/plain": [
       "DeviceArray([[2.00000000e-01, 2.00000000e-01, 2.00000000e-01,\n",
       "              2.00000000e-01, 2.00000000e-01],\n",
       "             [8.62957698e-04, 2.85651167e-01, 2.00445958e-01,\n",
       "              2.83489751e-01, 2.29550167e-01],\n",
       "             [4.88320787e-01, 1.59221482e-02, 2.63074223e-01,\n",
       "              2.16876373e-02, 2.10995205e-01],\n",
       "             [3.10581652e-01, 2.83587203e-01, 6.06286388e-02,\n",
       "              2.79031928e-01, 6.61705783e-02],\n",
       "             [2.34602463e-04, 2.14839482e-01, 2.75851180e-01,\n",
       "              2.15790684e-01, 2.93284050e-01]], dtype=float64)"
      ]
     },
     "execution_count": 196,
     "metadata": {},
     "output_type": "execute_result"
    }
   ],
   "source": [
    "V**2"
   ]
  },
  {
   "cell_type": "code",
   "execution_count": 203,
   "metadata": {},
   "outputs": [
    {
     "data": {
      "text/plain": [
       "DeviceArray([27.85550812, 27.85550799, 27.85550799, 27.85550798,\n",
       "             27.85550798], dtype=float64)"
      ]
     },
     "execution_count": 203,
     "metadata": {},
     "output_type": "execute_result"
    }
   ],
   "source": [
    "V.T**2 @ (SIG**2 * D_diag)"
   ]
  },
  {
   "cell_type": "code",
   "execution_count": 209,
   "metadata": {},
   "outputs": [
    {
     "data": {
      "text/plain": [
       "DeviceArray([2.00000000e-01, 8.62957698e-04, 4.88320787e-01,\n",
       "             3.10581652e-01, 2.34602463e-04], dtype=float64)"
      ]
     },
     "execution_count": 209,
     "metadata": {},
     "output_type": "execute_result"
    }
   ],
   "source": [
    "(V.T**2)[0]"
   ]
  },
  {
   "cell_type": "code",
   "execution_count": 208,
   "metadata": {},
   "outputs": [
    {
     "data": {
      "text/plain": [
       "DeviceArray([0.2       , 0.28565117, 0.01592215, 0.2835872 , 0.21483948],            dtype=float64)"
      ]
     },
     "execution_count": 208,
     "metadata": {},
     "output_type": "execute_result"
    }
   ],
   "source": [
    "(V.T**2)[1]"
   ]
  },
  {
   "cell_type": "code",
   "execution_count": 210,
   "metadata": {},
   "outputs": [
    {
     "data": {
      "text/plain": [
       "DeviceArray([0.2       , 0.20044596, 0.26307422, 0.06062864, 0.27585118],            dtype=float64)"
      ]
     },
     "execution_count": 210,
     "metadata": {},
     "output_type": "execute_result"
    }
   ],
   "source": [
    "(V.T**2)[2]"
   ]
  },
  {
   "cell_type": "code",
   "execution_count": 211,
   "metadata": {},
   "outputs": [
    {
     "data": {
      "text/plain": [
       "DeviceArray([70.06956453, 11.38184803, 15.93932236, 19.45706893,\n",
       "             22.4297362 ], dtype=float64)"
      ]
     },
     "execution_count": 211,
     "metadata": {},
     "output_type": "execute_result"
    }
   ],
   "source": [
    " (SIG**2 * D_diag)"
   ]
  },
  {
   "cell_type": "code",
   "execution_count": 333,
   "metadata": {},
   "outputs": [],
   "source": [
    "_, SIG, V = jnp.linalg.svd(opt_S)"
   ]
  },
  {
   "cell_type": "code",
   "execution_count": 334,
   "metadata": {},
   "outputs": [
    {
     "data": {
      "text/plain": [
       "DeviceArray([33.90075415, 32.68117736, 34.1853202 , 34.1853202 ,\n",
       "             33.90075415], dtype=float64)"
      ]
     },
     "execution_count": 334,
     "metadata": {},
     "output_type": "execute_result"
    }
   ],
   "source": [
    "D_diag = jnp.l(1, 1e2, 5)\n",
    "\n",
    "\n",
    "V.T**2 @ (SIG**2 * D_diag)"
   ]
  },
  {
   "cell_type": "code",
   "execution_count": 335,
   "metadata": {},
   "outputs": [
    {
     "data": {
      "text/plain": [
       "DeviceArray([[2.03107769e-01, 1.97428363e-01, 1.98178050e-01,\n",
       "              1.98178050e-01, 2.03107769e-01],\n",
       "             [1.69203849e-02, 4.97947021e-01, 2.34106105e-01,\n",
       "              2.34106105e-01, 1.69203849e-02],\n",
       "             [5.00000000e-01, 5.80550481e-24, 8.27660310e-25,\n",
       "              8.33123483e-25, 5.00000000e-01],\n",
       "             [1.72551904e-27, 3.16507320e-27, 5.00000000e-01,\n",
       "              5.00000000e-01, 1.47332791e-27],\n",
       "             [2.79971846e-01, 3.04624617e-01, 6.77158454e-02,\n",
       "              6.77158454e-02, 2.79971846e-01]], dtype=float64)"
      ]
     },
     "execution_count": 335,
     "metadata": {},
     "output_type": "execute_result"
    }
   ],
   "source": [
    "V**2"
   ]
  },
  {
   "cell_type": "code",
   "execution_count": 336,
   "metadata": {},
   "outputs": [
    {
     "data": {
      "text/plain": [
       "DeviceArray(-1., dtype=float64)"
      ]
     },
     "execution_count": 336,
     "metadata": {},
     "output_type": "execute_result"
    }
   ],
   "source": [
    "jnp.linalg.det(V)"
   ]
  },
  {
   "cell_type": "code",
   "execution_count": 340,
   "metadata": {},
   "outputs": [],
   "source": [
    "\n",
    "def generate_regular_simplex(dim):\n",
    "    res = []\n",
    "    I = np.eye(dim)\n",
    "    for i in range(dim):\n",
    "        res.append(jnp.sqrt(1 + 1/dim) * I[i] - 1/pow(dim, 3/2) *(np.sqrt(dim + 1) + 1) * np.ones(dim))\n",
    "        \n",
    "    res.append(1/np.sqrt(dim) * np.ones(dim))\n",
    "    \n",
    "    return jnp.array(res).T\n",
    "\n",
    "def loss_getter(dim, N, H, sig):\n",
    "    def helper(X):\n",
    "\n",
    "        S = X.reshape(N, dim).T\n",
    "        \n",
    "        S_inv = jnp.linalg.inv(S)\n",
    "        \n",
    "        first_term = S_inv.T @ jnp.diag(S.T @ H @ S)\n",
    "        second_term = jnp.linalg.norm(S_inv, ord=\"fro\")**2\n",
    "        third_term = S_inv.T @ jnp.ones(dim)\n",
    "        third_term = jnp.linalg.norm(third_term)**2\n",
    "        \n",
    "        return 1/2 * jnp.linalg.norm(first_term)**2 + sig**2 * (second_term + third_term)\n",
    "\n",
    "    return helper\n",
    "\n",
    "\n",
    "\n",
    "def convert_to_U(W, to_insert):\n",
    "    dim = W.shape[0] + 1\n",
    "    V = generate_regular_simplex(dim - 1)\n",
    "    tmp_U = (jnp.sqrt((dim - 1)/dim) * W @ V)\n",
    "    U = jnp.insert(tmp_U, to_insert, jnp.ones(shape=(1, dim))/jnp.sqrt(dim), axis=0)\n",
    "    return U\n",
    "\n",
    "def construct_c(sing_vals, D):\n",
    "    return sing_vals**2 * jnp.diag(D)\n",
    "\n",
    "def orthog_linesearch(l, c1, c2):\n",
    "\n",
    "    def helper(X, search_direction, A):\n",
    "        f0 = l(X)\n",
    "        g_tau_0 = -1/2 * jnp.linalg.norm(A, \"fro\")**2\n",
    "        \n",
    "        def armijo_rule(alpha):\n",
    "            return (l(search_direction(alpha)) > f0 + c1*alpha*g_tau_0) # and alpha > 0.001\n",
    "        \n",
    "        def armijo_update(alpha):\n",
    "            return c2*alpha\n",
    "            \n",
    "        alpha = 1\n",
    "        max_calls = 100\n",
    "        while armijo_rule(alpha) and max_calls > 0:\n",
    "            alpha = armijo_update(alpha)\n",
    "            max_calls -= 1\n",
    "\n",
    "        return alpha\n",
    "\n",
    "    return helper\n",
    "\n",
    "\n",
    "def optimize_W(c, num_iter, x_init=None):\n",
    "    \"\"\"Constraint is U.c = \\bar{c} 1 and U.U^T = I\"\"\"\n",
    "    \n",
    "    dim = len(c)\n",
    "    \n",
    "    V = generate_regular_simplex(dim)\n",
    "    \n",
    "    # init X\n",
    "    if x_init is None:\n",
    "        X = jnp.eye(dim)\n",
    "    else:\n",
    "        X = x_init\n",
    "    I = jnp.eye(dim)\n",
    "    \n",
    "    \n",
    "    def l(U):\n",
    "        U_matrix = U.reshape(dim, dim)\n",
    "        return jnp.linalg.norm(jnp.diag(V.T @ U_matrix.T @ jnp.diag(c) @ U_matrix @ V) - jnp.ones(dim + 1) * jnp.mean(c)) \n",
    "    \n",
    "    \n",
    "    g_l = grad(l)\n",
    "    linesearch = orthog_linesearch(l, c1=0.1, c2=0.9)\n",
    "\n",
    "\n",
    "    eps = 1e-4\n",
    "    l_eps = 1e-2\n",
    "    \n",
    "    l_hist = []\n",
    "    for _ in range(num_iter):\n",
    "        num_iter -= 1\n",
    "        \n",
    "        G = g_l(X.flatten()).reshape(dim, dim)\n",
    "        l_hist.append(l(X))\n",
    "        \n",
    "        if l_hist[-1] < l_eps:\n",
    "            break\n",
    "\n",
    "        if jnp.linalg.norm(G) < eps:\n",
    "            break\n",
    "        \n",
    "        A = G @ X.T - X @ G.T\n",
    "                \n",
    "        Y = lambda tau: jnp.linalg.inv(I + tau/2 * A) @ (I - tau/2 * A) @ X\n",
    "        \n",
    "        alpha = linesearch(X, Y, A)\n",
    "\n",
    "        \n",
    "        X = Y(alpha)\n",
    "    # plt.plot(l_hist)\n",
    "    # plt.show()\n",
    "    print(l_hist[-1])\n",
    "    return X, l_hist\n",
    "\n",
    "\n",
    "def create_S(H, sig, num_iter=10, x_init=None):\n",
    "    dim = H.shape[0] \n",
    "\n",
    "\n",
    "    sing_vals = get_full_sing_vals(D, dim, sig)\n",
    "    c = construct_c(sing_vals, D)\n",
    "    min_D = jnp.diag(D).argmin()\n",
    "    W, l_hist = optimize_W(np.delete(c, min_D), num_iter, x_init=x_init) \n",
    "    U = convert_to_U(W, min_D)\n"
   ]
  },
  {
   "cell_type": "code",
   "execution_count": 344,
   "metadata": {},
   "outputs": [
    {
     "name": "stdout",
     "output_type": "stream",
     "text": [
      "0.04648069580806054\n"
     ]
    }
   ],
   "source": [
    "min_D = D_diag.argmin()\n",
    "\n",
    "\n",
    "c = D_diag * SIG\n",
    "num_iter = 100\n",
    "\n",
    "W, l_hist = optimize_W(np.delete(c, min_D), num_iter, x_init=None) "
   ]
  },
  {
   "cell_type": "code",
   "execution_count": 361,
   "metadata": {},
   "outputs": [
    {
     "data": {
      "text/plain": [
       "DeviceArray([  1.        ,   3.16227766,  10.        ,  31.6227766 ,\n",
       "             100.        ], dtype=float64)"
      ]
     },
     "execution_count": 361,
     "metadata": {},
     "output_type": "execute_result"
    }
   ],
   "source": [
    "D_diag"
   ]
  },
  {
   "cell_type": "code",
   "execution_count": 343,
   "metadata": {},
   "outputs": [
    {
     "data": {
      "text/plain": [
       "[<matplotlib.lines.Line2D at 0x7fce45fef100>]"
      ]
     },
     "execution_count": 343,
     "metadata": {},
     "output_type": "execute_result"
    },
    {
     "data": {
      "image/png": "[encoded data removed]",
      "text/plain": [
       "<Figure size 432x288 with 1 Axes>"
      ]
     },
     "metadata": {
      "needs_background": "light"
     },
     "output_type": "display_data"
    }
   ],
   "source": [
    "plt.plot(l_hist)"
   ]
  },
  {
   "cell_type": "code",
   "execution_count": 345,
   "metadata": {},
   "outputs": [
    {
     "data": {
      "text/plain": [
       "DeviceArray([[ 0.4472136 ,  0.4472136 ,  0.4472136 ,  0.4472136 ,\n",
       "               0.4472136 ],\n",
       "             [ 0.45325026, -0.36939767, -0.11589638, -0.55150087,\n",
       "               0.58354467],\n",
       "             [-0.53255701,  0.61633658, -0.12679408, -0.37818662,\n",
       "               0.42120113],\n",
       "             [-0.26450555, -0.20711341,  0.87709287, -0.33623676,\n",
       "              -0.06923716],\n",
       "             [-0.49090126, -0.49069198, -0.03463205,  0.48965959,\n",
       "               0.52656571]], dtype=float64)"
      ]
     },
     "execution_count": 345,
     "metadata": {},
     "output_type": "execute_result"
    }
   ],
   "source": [
    "convert_to_U(W, min_D)\n",
    "\n"
   ]
  },
  {
   "cell_type": "code",
   "execution_count": 346,
   "metadata": {},
   "outputs": [
    {
     "data": {
      "text/plain": [
       "DeviceArray([[0.2       , 0.2       , 0.2       , 0.2       , 0.2       ],\n",
       "             [0.2054358 , 0.13645464, 0.01343197, 0.30415321, 0.34052438],\n",
       "             [0.28361697, 0.37987078, 0.01607674, 0.14302512, 0.17741039],\n",
       "             [0.06996318, 0.04289596, 0.76929191, 0.11305516, 0.00479378],\n",
       "             [0.24098405, 0.24077862, 0.00119938, 0.23976651, 0.27727144]],            dtype=float64)"
      ]
     },
     "execution_count": 346,
     "metadata": {},
     "output_type": "execute_result"
    }
   ],
   "source": [
    "convert_to_U(W, min_D)**2"
   ]
  },
  {
   "cell_type": "code",
   "execution_count": 347,
   "metadata": {},
   "outputs": [
    {
     "data": {
      "text/plain": [
       "DeviceArray([[2.03107769e-01, 1.97428363e-01, 1.98178050e-01,\n",
       "              1.98178050e-01, 2.03107769e-01],\n",
       "             [1.69203849e-02, 4.97947021e-01, 2.34106105e-01,\n",
       "              2.34106105e-01, 1.69203849e-02],\n",
       "             [5.00000000e-01, 5.80550481e-24, 8.27660310e-25,\n",
       "              8.33123483e-25, 5.00000000e-01],\n",
       "             [1.72551904e-27, 3.16507320e-27, 5.00000000e-01,\n",
       "              5.00000000e-01, 1.47332791e-27],\n",
       "             [2.79971846e-01, 3.04624617e-01, 6.77158454e-02,\n",
       "              6.77158454e-02, 2.79971846e-01]], dtype=float64)"
      ]
     },
     "execution_count": 347,
     "metadata": {},
     "output_type": "execute_result"
    }
   ],
   "source": [
    "V**2"
   ]
  },
  {
   "cell_type": "code",
   "execution_count": 348,
   "metadata": {},
   "outputs": [
    {
     "data": {
      "text/plain": [
       "DeviceArray([17.26930315, 17.26283491, 17.22727846, 17.27195904,\n",
       "             17.26202293], dtype=float64)"
      ]
     },
     "execution_count": 348,
     "metadata": {},
     "output_type": "execute_result"
    }
   ],
   "source": [
    "convert_to_U(W, min_D).T**2 @ (SIG * D_diag)"
   ]
  },
  {
   "cell_type": "code",
   "execution_count": 349,
   "metadata": {},
   "outputs": [
    {
     "data": {
      "text/plain": [
       "DeviceArray([18.83362301, 17.52869294, 15.54872977, 15.54872977,\n",
       "             18.83362301], dtype=float64)"
      ]
     },
     "execution_count": 349,
     "metadata": {},
     "output_type": "execute_result"
    }
   ],
   "source": [
    "V.T**2 @ (SIG * D_diag)"
   ]
  },
  {
   "cell_type": "code",
   "execution_count": 350,
   "metadata": {},
   "outputs": [],
   "source": [
    "l_curr = lambda_coeff_zero(D_diag, sig)\n",
    "pred_S = jnp.diag(l_curr) @ convert_to_U(W, min_D)"
   ]
  },
  {
   "cell_type": "code",
   "execution_count": 353,
   "metadata": {},
   "outputs": [
    {
     "data": {
      "text/plain": [
       "DeviceArray(258.96128594, dtype=float64)"
      ]
     },
     "execution_count": 353,
     "metadata": {},
     "output_type": "execute_result"
    }
   ],
   "source": [
    "l(pred_S.T.flatten())"
   ]
  },
  {
   "cell_type": "code",
   "execution_count": 355,
   "metadata": {},
   "outputs": [
    {
     "data": {
      "text/plain": [
       "(DeviceArray([[-1.00000000e+00,  2.08166817e-17, -1.38777878e-17,\n",
       "                1.73472348e-18, -2.60208521e-18],\n",
       "              [-1.38777878e-17, -1.00000000e+00,  2.58446693e-16,\n",
       "               -2.75793928e-17,  6.45913444e-17],\n",
       "              [ 1.73472348e-17, -1.85615412e-16, -1.00000000e+00,\n",
       "                6.36989105e-16, -1.01237378e-17],\n",
       "              [ 3.46944695e-18, -1.11374668e-16,  4.17851517e-16,\n",
       "                1.00000000e+00, -3.04994541e-16],\n",
       "              [ 1.73472348e-18, -1.87431451e-17, -4.47639972e-17,\n",
       "               -3.12544993e-16, -1.00000000e+00]], dtype=float64),\n",
       " DeviceArray([47.57289783,  1.26596709,  0.71190561,  0.40033395,\n",
       "               0.22512432], dtype=float64),\n",
       " DeviceArray([[-0.4472136 , -0.4472136 , -0.4472136 , -0.4472136 ,\n",
       "               -0.4472136 ],\n",
       "              [-0.45325026,  0.36939767,  0.11589638,  0.55150087,\n",
       "               -0.58354467],\n",
       "              [ 0.53255701, -0.61633658,  0.12679408,  0.37818662,\n",
       "               -0.42120113],\n",
       "              [-0.26450555, -0.20711341,  0.87709287, -0.33623676,\n",
       "               -0.06923716],\n",
       "              [ 0.49090126,  0.49069198,  0.03463205, -0.48965959,\n",
       "               -0.52656571]], dtype=float64))"
      ]
     },
     "execution_count": 355,
     "metadata": {},
     "output_type": "execute_result"
    }
   ],
   "source": [
    "jnp.linalg.svd(pred_S)"
   ]
  },
  {
   "cell_type": "code",
   "execution_count": 356,
   "metadata": {},
   "outputs": [
    {
     "data": {
      "text/plain": [
       "(DeviceArray([[-9.99985446e-01, -4.34846654e-03,  4.22162305e-14,\n",
       "                2.18026143e-15, -3.19348724e-03],\n",
       "              [ 4.34841515e-03, -9.99990545e-01,  3.15034457e-13,\n",
       "               -2.21401785e-14,  2.30376463e-05],\n",
       "              [ 5.94246874e-14,  3.15533190e-13,  1.00000000e+00,\n",
       "               -2.97401202e-16, -5.83223227e-12],\n",
       "              [ 1.97239564e-15, -2.23280427e-14,  2.26449090e-16,\n",
       "                1.00000000e+00,  9.50542440e-14],\n",
       "              [ 3.19355723e-03, -9.15070268e-06, -5.83235456e-12,\n",
       "                9.52262003e-14, -9.99994901e-01]], dtype=float64),\n",
       " DeviceArray([6.89762766, 1.13436291, 0.83101709, 0.64164327, 0.47207888],            dtype=float64),\n",
       " DeviceArray([[-4.50674793e-01, -4.44329115e-01, -4.45171933e-01,\n",
       "               -4.45171933e-01, -4.50674793e-01],\n",
       "              [-1.30078380e-01, -7.05653612e-01,  4.83845125e-01,\n",
       "                4.83845125e-01, -1.30078380e-01],\n",
       "              [ 7.07106781e-01,  2.40946152e-12,  9.09758380e-13,\n",
       "                9.12755982e-13, -7.07106781e-01],\n",
       "              [ 4.15393673e-14, -5.62589833e-14,  7.07106781e-01,\n",
       "               -7.07106781e-01,  3.83839538e-14],\n",
       "              [-5.29123659e-01,  5.51928090e-01,  2.60222684e-01,\n",
       "                2.60222684e-01, -5.29123659e-01]], dtype=float64))"
      ]
     },
     "execution_count": 356,
     "metadata": {},
     "output_type": "execute_result"
    }
   ],
   "source": [
    "jnp.linalg.svd(opt_S)"
   ]
  },
  {
   "cell_type": "code",
   "execution_count": 354,
   "metadata": {},
   "outputs": [
    {
     "data": {
      "text/plain": [
       "DeviceArray(27.80474141, dtype=float64)"
      ]
     },
     "execution_count": 354,
     "metadata": {},
     "output_type": "execute_result"
    }
   ],
   "source": [
    "l(opt_S.T.flatten())"
   ]
  },
  {
   "cell_type": "code",
   "execution_count": 357,
   "metadata": {},
   "outputs": [
    {
     "data": {
      "text/plain": [
       "DeviceArray(35.08296268, dtype=float64)"
      ]
     },
     "execution_count": 357,
     "metadata": {},
     "output_type": "execute_result"
    }
   ],
   "source": [
    "l(create_approx_S_multi(jnp.diag(D_diag), sig, None, None).T.flatten())\n",
    "\n"
   ]
  },
  {
   "cell_type": "code",
   "execution_count": 359,
   "metadata": {},
   "outputs": [
    {
     "data": {
      "text/plain": [
       "(DeviceArray([[-1.00000000e+00, -4.15654436e-17,  5.55111512e-17,\n",
       "               -4.16333634e-17, -4.16333634e-17],\n",
       "              [ 0.00000000e+00,  1.00000000e+00, -1.66533454e-15,\n",
       "               -3.55271368e-15,  1.72084569e-15],\n",
       "              [-2.77555756e-17,  2.10678390e-15,  1.00000000e+00,\n",
       "               -4.76181594e-16,  3.44342610e-16],\n",
       "              [-1.38777878e-17, -3.66571559e-15, -8.63024929e-16,\n",
       "               -1.00000000e+00, -2.35922393e-16],\n",
       "              [-2.77555756e-17,  1.71936119e-15,  3.98986399e-17,\n",
       "                9.58434720e-17, -1.00000000e+00]], dtype=float64),\n",
       " DeviceArray([6.23450918, 0.94574161, 0.79796106, 0.59838638, 0.44872648],            dtype=float64),\n",
       " DeviceArray([[-5.00000000e-01,  0.00000000e+00, -5.00000000e-01,\n",
       "               -5.00000000e-01, -5.00000000e-01],\n",
       "              [ 0.00000000e+00,  1.00000000e+00, -2.44249065e-15,\n",
       "                1.77635684e-15,  9.99200722e-16],\n",
       "              [ 5.00000000e-01, -1.55431223e-15, -5.00000000e-01,\n",
       "                5.00000000e-01, -5.00000000e-01],\n",
       "              [-5.00000000e-01, -2.44249065e-15, -5.00000000e-01,\n",
       "                5.00000000e-01,  5.00000000e-01],\n",
       "              [-5.00000000e-01,  8.32667268e-16,  5.00000000e-01,\n",
       "                5.00000000e-01, -5.00000000e-01]], dtype=float64))"
      ]
     },
     "execution_count": 359,
     "metadata": {},
     "output_type": "execute_result"
    }
   ],
   "source": [
    "jnp.linalg.svd(create_approx_S_multi(jnp.diag(D_diag), sig, None, None))"
   ]
  },
  {
   "cell_type": "code",
   "execution_count": 372,
   "metadata": {},
   "outputs": [
    {
     "name": "stdout",
     "output_type": "stream",
     "text": [
      "[2.17307594e+04 1.41419684e-01 9.99998177e-02 8.16497814e-02\n",
      " 7.07109027e-02]\n",
      "fun all 86.92193336252464\n"
     ]
    }
   ],
   "source": [
    "lall = lambda_coeff_zero(D_diag, sig)\n",
    "print(lall)\n",
    "fall = lmbda_loss(lall, D_diag, sig, np.argmin(D_diag))\n",
    "print(\"fun all\", fall)\n",
    "\n"
   ]
  },
  {
   "cell_type": "code",
   "execution_count": null,
   "metadata": {},
   "outputs": [],
   "source": []
  }
 ],
 "metadata": {
  "kernelspec": {
   "display_name": "Python (simplex_grad)",
   "language": "python",
   "name": "simplex_grad"
  },
  "language_info": {
   "codemirror_mode": {
    "name": "ipython",
    "version": 3
   },
   "file_extension": ".py",
   "mimetype": "text/x-python",
   "name": "python",
   "nbconvert_exporter": "python",
   "pygments_lexer": "ipython3",
   "version": "3.10.0"
  }
 },
 "nbformat": 4,
 "nbformat_minor": 2
}
