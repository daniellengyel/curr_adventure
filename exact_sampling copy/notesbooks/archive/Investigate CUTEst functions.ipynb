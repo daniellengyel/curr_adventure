{
 "cells": [
  {
   "cell_type": "code",
   "execution_count": 1,
   "metadata": {},
   "outputs": [],
   "source": [
    "import jax.numpy as jnp\n",
    "import jax.random as jrandom\n",
    "\n",
    "import matplotlib.pyplot as plt\n",
    "import pandas as pd\n",
    "from jax import jit, grad, jacfwd, jacrev\n",
    "\n",
    "import pycutest\n",
    "\n",
    "\n",
    "from scipy.stats import linregress\n",
    "\n",
    "from tqdm import tqdm\n",
    "import pickle\n",
    "\n",
    "import numpy as np\n",
    "\n",
    "from tqdm import tqdm\n",
    "\n",
    "from jax.config import config\n",
    "config.update(\"jax_enable_x64\", True)\n",
    "\n",
    "import matplotlib.pyplot as plt\n",
    "\n",
    "%matplotlib inline\n",
    "plt.rcParams['figure.figsize'] = [12,12]\n",
    "plt.style.use('ggplot')\n",
    "plt.rcParams['lines.markersize'] = 8\n",
    "plt.rcParams.update({'font.size': 12})\n",
    "\n",
    "%load_ext autoreload\n",
    "%autoreload 2"
   ]
  },
  {
   "cell_type": "code",
   "execution_count": 4,
   "metadata": {},
   "outputs": [],
   "source": [
    "import sys\n",
    "sys.path.append(\"../..\")\n",
    "from Functions import PyCutestWrapper, PyCutestGetter"
   ]
  },
  {
   "cell_type": "code",
   "execution_count": null,
   "metadata": {},
   "outputs": [],
   "source": []
  },
  {
   "cell_type": "code",
   "execution_count": 5,
   "metadata": {},
   "outputs": [],
   "source": [
    "def simplex_gradient(F, x_0, S, jrandom_key_f):\n",
    "    num_func_calls = 0\n",
    "    jrandom_key, subkey = jrandom.split(jrandom_key_f)\n",
    "    FS = []\n",
    "    for s_i in S.T:\n",
    "        jrandom_key, subkey = jrandom.split(jrandom_key)\n",
    "        FS.append(F.f(s_i + x_0, subkey))\n",
    "        num_func_calls += 1\n",
    "    FS = jnp.array(FS)\n",
    "    jrandom_key, subkey = jrandom.split(jrandom_key)\n",
    "    F_x_0 = F.f(x_0, subkey)\n",
    "    num_func_calls += 1\n",
    "    SS_inv = jnp.linalg.inv(S.dot(S.T))\n",
    "    return SS_inv.dot(S.dot(FS - F_x_0)), num_func_calls\n",
    "\n",
    "\n"
   ]
  },
  {
   "cell_type": "code",
   "execution_count": 258,
   "metadata": {},
   "outputs": [],
   "source": [
    "\n",
    "# eps = 0.1\n",
    "sig = 0.01 # eps/jnp.sqrt(3)\n",
    "eps = sig * jnp.sqrt(3)\n",
    "noise_type = \"uniform\"\n",
    "jrandom_key = jrandom.PRNGKey(0)\n",
    "\n",
    "\n",
    "\n",
    "_, x_0, F = PyCutestGetter(4, eps, noise_type) # pycutest.import_problem(\"QUARTC\")\n",
    "\n",
    "coeff = .1 * len(x_0)\n",
    "H = F.f2(x_0)\n",
    "\n"
   ]
  },
  {
   "cell_type": "code",
   "execution_count": null,
   "metadata": {},
   "outputs": [],
   "source": [
    "def lambda_coeff_zero_set_max_lambda(D_diag, l_max, l_max_idx, sig):\n",
    "    dim = len(D_diag)\n",
    "    D_diag = jnp.abs(D_diag)\n",
    "    D_sum = jnp.sum(jnp.sqrt(D_diag)) - jnp.sqrt(D_diag[l_max_idx])\n",
    "    D_l_max_idx = D_diag[l_max_idx]\n",
    "\n",
    "    D_l_max_idx * l_max + dim * ((-D_l_max_idx**3 * l_max**3))\n",
    "\n",
    "\n",
    "    lmbdas = [(sig * jnp.sqrt(2*l/(D_diag[i] * a))) for i in range(len(D_diag))]\n",
    "    lmbdas[jnp.argmin(jnp.abs(D_diag))] = l\n",
    "    \n",
    "    return jnp.array(lmbdas), [a, 0, l_max]"
   ]
  },
  {
   "cell_type": "code",
   "execution_count": 102,
   "metadata": {},
   "outputs": [],
   "source": [
    "\n",
    "\n",
    "def helper_linesearch(f, g, c1, c2):\n",
    "\n",
    "    def helper(X, search_direction):\n",
    "        f0 = f(X)\n",
    "        f1 = g(X)\n",
    "        dg = jnp.inner(search_direction, f1)\n",
    "\n",
    "        def armijo_rule(alpha):\n",
    "            return f(X + alpha * search_direction) > f0 + c1*alpha*dg\n",
    "        \n",
    "        def armijo_update(alpha):\n",
    "            return c2*alpha\n",
    "            \n",
    "        alpha = 1\n",
    "        while armijo_rule(alpha):\n",
    "            alpha = armijo_update(alpha)\n",
    "\n",
    "\n",
    "        return alpha\n",
    "\n",
    "    return helper\n",
    "\n",
    "\n",
    "def loss_getter(dim, N, H, sig):\n",
    "    def helper(X):\n",
    "\n",
    "        S = X.reshape(N, dim).T\n",
    "        \n",
    "        S_inv = jnp.linalg.inv(S)\n",
    "        \n",
    "        first_term = S_inv.T @ jnp.diag(S.T @ H @ S)\n",
    "        second_term = jnp.linalg.norm(S_inv, ord=\"fro\")**2\n",
    "        third_term = S_inv.T @ jnp.ones(dim)\n",
    "        third_term = jnp.linalg.norm(third_term)**2\n",
    "        return 1/4 * jnp.linalg.norm(first_term)**2 + sig**2 * (second_term + third_term)\n",
    "\n",
    "    return helper\n",
    "\n",
    "def optimize_uncentered_S(H, sig, max_steps=15, jrandom_key=None, x_curr=None):\n",
    "    \n",
    "    dim = H.shape[0]\n",
    "    N = dim\n",
    "    \n",
    "    H = (H + H.T) / 2. # to combat numerical inaccuracies. \n",
    "    D, U = jnp.linalg.eig(H)\n",
    "    U = jnp.real(U)\n",
    "\n",
    "    # print(\"D\", repr(jnp.real(D)))\n",
    "#     D = jnp.abs(jnp.real(jnp.diag(D)))\n",
    "    D = jnp.diag(D)\n",
    "\n",
    "    if x_curr is None:\n",
    "\n",
    "        if jrandom_key is None:\n",
    "            x_curr = jnp.diag(jnp.sqrt(sig / jnp.abs(jnp.diag(D)))).flatten()\n",
    "            pass\n",
    "        else:\n",
    "            x_curr = jrandom.normal(jrandom_key, shape=(dim * dim,)) * 0.1\n",
    "        \n",
    "\n",
    "    \n",
    "    l = loss_getter(dim, N, D, sig)\n",
    "    g_l = grad(l)\n",
    "    h_l = jacfwd(g_l)\n",
    "    linesearch = helper_linesearch(l, g_l, c1=0.1, c2=0.9)\n",
    "\n",
    "    eps = 1e-20\n",
    "\n",
    "    res = []\n",
    "    res_x = []\n",
    "\n",
    "    for t in tqdm(range(max_steps)):\n",
    "\n",
    "        \n",
    "        res.append(l(x_curr))\n",
    "#         res_x.append(U.dot(x_curr.reshape(N, dim).T)) # TURN ON FOR HISTORY \n",
    "\n",
    "        curr_grad = g_l(x_curr)\n",
    "#         print(curr_grad)\n",
    "    \n",
    "        # print(curr_grad)\n",
    "#         curr_hess = h_l(x_curr) + 0.1*jnp.eye(dim**2)\n",
    "#         search_direction = -jnp.linalg.inv(curr_hess) @ curr_grad #+ np.random.normal(size=(dim**2))*0.1\n",
    "        search_direction = -curr_grad + np.random.normal(size=(dim * dim))*0.1\n",
    "\n",
    "        if jnp.linalg.norm(curr_grad) < eps:\n",
    "            break    \n",
    "\n",
    "        alpha = linesearch(x_curr, search_direction)\n",
    "\n",
    "\n",
    "        S = x_curr.reshape(N, dim).T\n",
    "\n",
    "        SS = S.dot(S.T)\n",
    "\n",
    "        x_curr += alpha*search_direction \n",
    "    \n",
    "    return x_curr.reshape(N, dim).T, res"
   ]
  },
  {
   "cell_type": "code",
   "execution_count": null,
   "metadata": {},
   "outputs": [],
   "source": [
    "l(jnp.diag([0.00519615]))"
   ]
  },
  {
   "cell_type": "code",
   "execution_count": null,
   "metadata": {},
   "outputs": [],
   "source": [
    "0.69282, lm -> 0.00519615"
   ]
  },
  {
   "cell_type": "code",
   "execution_count": 103,
   "metadata": {},
   "outputs": [
    {
     "name": "stderr",
     "output_type": "stream",
     "text": [
      "100%|███████████████████████████████████████████| 10/10 [00:04<00:00,  2.40it/s]\n"
     ]
    }
   ],
   "source": [
    "jrandom_key = jrandom.PRNGKey(5)\n",
    "# jrandom_key, subkey = jrandom.split(jrandom_key)\n",
    "\n",
    "H = jnp.diag(jnp.array([100, 100]))\n",
    "\n",
    "dim = len(H)\n",
    "\n",
    "sig = 0.1\n",
    "\n",
    "l = loss_getter(dim, dim, H, sig)\n",
    "g_l = grad(l)\n",
    "f2_l = jacfwd(g_l)\n",
    "\n",
    "opt_S, l_hist = optimize_uncentered_S(H, sig=sig, max_steps=10, jrandom_key=jrandom_key, x_curr=opt_S.T.flatten())\n",
    "\n"
   ]
  },
  {
   "cell_type": "code",
   "execution_count": 104,
   "metadata": {},
   "outputs": [
    {
     "data": {
      "text/plain": [
       "[<matplotlib.lines.Line2D at 0x7ff2f5b21300>]"
      ]
     },
     "execution_count": 104,
     "metadata": {},
     "output_type": "execute_result"
    },
    {
     "data": {
      "image/png": "[encoded data removed]",
      "text/plain": [
       "<Figure size 864x864 with 1 Axes>"
      ]
     },
     "metadata": {},
     "output_type": "display_data"
    }
   ],
   "source": [
    "plt.plot(l_hist)"
   ]
  },
  {
   "cell_type": "code",
   "execution_count": 121,
   "metadata": {},
   "outputs": [
    {
     "data": {
      "text/plain": [
       "(DeviceArray([[-0.84517568,  0.5344886 ],\n",
       "              [ 0.5344886 ,  0.84517568]], dtype=float64),\n",
       " DeviceArray([0.07208434, 0.04161791], dtype=float64),\n",
       " DeviceArray([[-0.70710678, -0.70710678],\n",
       "              [ 0.70710678, -0.70710678]], dtype=float64))"
      ]
     },
     "execution_count": 121,
     "metadata": {},
     "output_type": "execute_result"
    }
   ],
   "source": [
    "jnp.linalg.svd(opt_S)"
   ]
  },
  {
   "cell_type": "code",
   "execution_count": 123,
   "metadata": {},
   "outputs": [
    {
     "data": {
      "text/plain": [
       "0.053182986001163945"
      ]
     },
     "execution_count": 123,
     "metadata": {},
     "output_type": "execute_result"
    }
   ],
   "source": [
    "(0.282843 / 100)**0.5"
   ]
  },
  {
   "cell_type": "code",
   "execution_count": 122,
   "metadata": {},
   "outputs": [
    {
     "data": {
      "text/plain": [
       "0.0752120336116502"
      ]
     },
     "execution_count": 122,
     "metadata": {},
     "output_type": "execute_result"
    }
   ],
   "source": [
    "0.00565685**0.5"
   ]
  },
  {
   "cell_type": "code",
   "execution_count": 108,
   "metadata": {},
   "outputs": [],
   "source": [
    "U, S, V = jnp.linalg.svd(opt_S)"
   ]
  },
  {
   "cell_type": "code",
   "execution_count": 126,
   "metadata": {},
   "outputs": [
    {
     "data": {
      "text/plain": [
       "DeviceArray([-2.87627699e-11, -1.02318154e-12,  1.09707798e-11,\n",
       "             -1.62572178e-11], dtype=float64)"
      ]
     },
     "execution_count": 126,
     "metadata": {},
     "output_type": "execute_result"
    }
   ],
   "source": [
    "g_l((U @ jnp.diag(S) @ V).T.flatten())"
   ]
  },
  {
   "cell_type": "code",
   "execution_count": 127,
   "metadata": {},
   "outputs": [
    {
     "data": {
      "text/plain": [
       "DeviceArray([ 2.67337757e-04,  1.88030608e+02,  2.67337723e-04,\n",
       "             -1.88030608e+02], dtype=float64)"
      ]
     },
     "execution_count": 127,
     "metadata": {},
     "output_type": "execute_result"
    }
   ],
   "source": [
    "g_l((jnp.diag(jnp.array([0.00565685**0.5, (0.282843 / 100)**0.5])) @ V).T.flatten())"
   ]
  },
  {
   "cell_type": "code",
   "execution_count": 125,
   "metadata": {},
   "outputs": [
    {
     "data": {
      "text/plain": [
       "DeviceArray(23.09401077, dtype=float64)"
      ]
     },
     "execution_count": 125,
     "metadata": {},
     "output_type": "execute_result"
    }
   ],
   "source": [
    "l((jnp.diag(S) @ V).T.flatten())"
   ]
  },
  {
   "cell_type": "code",
   "execution_count": 94,
   "metadata": {},
   "outputs": [
    {
     "data": {
      "text/plain": [
       "(DeviceArray([5.28709953e-12, 9.81649846e+03, 2.22222222e+04,\n",
       "              3.01835015e+04], dtype=float64),\n",
       " DeviceArray([[ 0.02849136, -0.63080512, -0.70653255, -0.31950729],\n",
       "              [ 0.70653255,  0.31950729,  0.02849136, -0.63080512],\n",
       "              [ 0.62612081, -0.55905713,  0.32859204,  0.43296089],\n",
       "              [ 0.32859204,  0.43296089, -0.62612081,  0.55905713]],            dtype=float64))"
      ]
     },
     "execution_count": 94,
     "metadata": {},
     "output_type": "execute_result"
    }
   ],
   "source": [
    "jnp.linalg.eigh(f2_l(opt_S.T.flatten()))"
   ]
  },
  {
   "cell_type": "code",
   "execution_count": 95,
   "metadata": {},
   "outputs": [
    {
     "data": {
      "text/plain": [
       "DeviceArray([ 0.00000000e+00,  3.37507799e-14, -2.84217094e-14,\n",
       "             -2.27373675e-13], dtype=float64)"
      ]
     },
     "execution_count": 95,
     "metadata": {},
     "output_type": "execute_result"
    }
   ],
   "source": [
    "g_l(opt_S.T.flatten())"
   ]
  },
  {
   "cell_type": "code",
   "execution_count": 39,
   "metadata": {},
   "outputs": [],
   "source": [
    "def lmbda_loss(lmbdas, D_diag, sig, coeff, l_max_idx):\n",
    "    dim = len(D_diag)\n",
    "    \n",
    "    l_max = 1\n",
    "\n",
    "    a = D_diag @ lmbdas / len(lmbdas)\n",
    "    b = jnp.sum(lmbdas)\n",
    "    lmbdas[0] = 1\n",
    "    return 1/4 * a**2 * dim / lmbdas[l_max_idx] + sig**2 * dim/lmbdas[l_max_idx] + sig**2 * jnp.sum(1/lmbdas) + coeff*b**2"
   ]
  },
  {
   "cell_type": "markdown",
   "metadata": {},
   "source": [
    "$\\frac{\\left(d \\sqrt[3]{\\frac{3 \\sqrt{3} \\sqrt{d} \\sqrt{27 d \\text{dSum}^4 l^2 \\text{sig}^4-2 \\text{dMin}^3 \\text{dSum}^2 l^4 \\text{sig}^2}+27 d \\text{dSum}^2 l \\text{sig}^2-\\text{dMin}^3 l^3}{d^3}}+\\text{dMin} l\\right)^2}{3 d^2 \\sqrt[3]{\\frac{3 \\sqrt{3} \\sqrt{d} \\sqrt{27 d \\text{dSum}^4 l^2 \\text{sig}^4-2 \\text{dMin}^3 \\text{dSum}^2 l^4 \\text{sig}^2}+27 d \\text{dSum}^2 l \\text{sig}^2-\\text{dMin}^3 l^3}{d^3}}}$"
   ]
  },
  {
   "cell_type": "code",
   "execution_count": 64,
   "metadata": {},
   "outputs": [
    {
     "data": {
      "text/plain": [
       "DeviceArray([1.        , 0.10901637, 0.07817969, 0.06413961, 0.05568054,\n",
       "             0.04987452, 0.04557318, 0.04222186], dtype=float64)"
      ]
     },
     "execution_count": 64,
     "metadata": {},
     "output_type": "execute_result"
    }
   ],
   "source": [
    "D_diag = jnp.linspace(1, 120, 8)\n",
    "\n",
    "D_sum = jnp.sum(jnp.sqrt(D_diag)) - jnp.sqrt(D_diag[l_max_idx])\n",
    "D_min = 1\n",
    "dim = 8\n",
    "sig = 0.6\n",
    "l_max = 1\n",
    "\n",
    "sqrt_term = 3 * jnp.sqrt(3 * dim) * jnp.sqrt(27 * dim * D_sum**4 * l_max**2 * sig**4 - 2 * D_min**3 * D_sum**2 * l_max**4 * sig**2)\n",
    "cbrt_term = jnp.cbrt(sqrt_term + 27 * dim * D_sum**2 * l_max * sig**2 - D_min**3 * l_max**3)/dim\n",
    "\n",
    "a = (dim * cbrt_term + D_min * l_max)**2 / (3 * dim**2 * cbrt_term)\n",
    "\n",
    "lmbdas = [(sig * jnp.sqrt(2*l_max/(D_diag[i] * a))) for i in range(len(D_diag))]\n",
    "lmbdas[jnp.argmin(jnp.abs(D_diag))] = l_max\n",
    "\n",
    "jnp.array(lmbdas)\n",
    "\n"
   ]
  },
  {
   "cell_type": "code",
   "execution_count": 49,
   "metadata": {},
   "outputs": [],
   "source": [
    "import scipy\n",
    "from jax import grad"
   ]
  },
  {
   "cell_type": "code",
   "execution_count": 54,
   "metadata": {},
   "outputs": [],
   "source": [
    "def lmbda_loss(lmbdas, D_diag, sig, coeff, l_max_idx):\n",
    "    dim = len(D_diag)\n",
    "    \n",
    "    l_max = 1\n",
    "\n",
    "    a = (D_diag @ lmbdas - D_diag[0] * lmbdas[0] + l_max * D_diag[0] ) / len(lmbdas)\n",
    "\n",
    "    return 1/4 * a**2 * dim / l_max + sig**2 * dim / l_max + sig**2 * jnp.sum(1/lmbdas[1:]) + sig**2 / l_max\n"
   ]
  },
  {
   "cell_type": "code",
   "execution_count": 65,
   "metadata": {},
   "outputs": [
    {
     "data": {
      "text/plain": [
       "DeviceArray([ 0.00000000e+00,  3.55271368e-15, -7.10542736e-15,\n",
       "              1.42108547e-14, -2.84217094e-14,  2.84217094e-14,\n",
       "              0.00000000e+00, -8.52651283e-14], dtype=float64)"
      ]
     },
     "execution_count": 65,
     "metadata": {},
     "output_type": "execute_result"
    }
   ],
   "source": [
    "# D_diag = jnp.linspace(1, 10, 8)\n",
    "\n",
    "coeff = 0\n",
    "x0 = jnp.ones(dim)\n",
    "\n",
    "grad(lambda x: lmbda_loss(x, D_diag, sig, coeff, l_max_idx))(jnp.array(lmbdas))"
   ]
  },
  {
   "cell_type": "code",
   "execution_count": 21,
   "metadata": {},
   "outputs": [],
   "source": [
    "D_diag = jnp.array([0.00000000e+00, 2.00000000e+00, 3.42398638e+00,\n",
    "             1.06092485e+02, 1.06092485e+02, 1.06092485e+02,\n",
    "             1.06092485e+02, 1.06092485e+02, 1.06092485e+02,\n",
    "             1.06092485e+02, 1.06092485e+02, 1.06092485e+02,\n",
    "             1.06092485e+02, 1.06092485e+02, 1.06092485e+02,\n",
    "             1.06092485e+02, 2.74818379e+04, 2.74818379e+04,\n",
    "             2.74818379e+04, 2.74818379e+04, 2.74818379e+04,\n",
    "             2.74818379e+04, 2.74818379e+04, 2.74818379e+04,\n",
    "             2.74818379e+04, 2.74818379e+04, 2.74818379e+04,\n",
    "             2.74818379e+04, 2.74818379e+04, 2.74818379e+04,\n",
    "             2.74818379e+04, 2.74818379e+04])"
   ]
  },
  {
   "cell_type": "code",
   "execution_count": 22,
   "metadata": {},
   "outputs": [],
   "source": [
    "def lambda_coeff_zero_set_max_lambda(D_diag, l_max, sig):\n",
    "    dim = len(D_diag)\n",
    "    D_diag = jnp.abs(D_diag)\n",
    "    D_min = jnp.min(D_diag)\n",
    "    D_sum = jnp.sum(jnp.sqrt(D_diag)) - jnp.sqrt(D_min)\n",
    "\n",
    "    sqrt_term = 3 * jnp.sqrt(3 * dim) * jnp.sqrt(27 * dim * D_sum**4 * l_max**2 * sig**4 - 2 * D_min**3 * D_sum**2 * l_max**4 * sig**2)\n",
    "    cbrt_term = jnp.cbrt(sqrt_term + 27 * dim * D_sum**2 * l_max * sig**2 - D_min**3 * l_max**3)/dim\n",
    "\n",
    "    a = (dim * cbrt_term + D_min * l_max)**2 / (3 * dim**2 * cbrt_term)\n",
    "    \n",
    "    lmbdas = []\n",
    "    for i in range(len(D_diag)):\n",
    "        if D_diag[i] != 0:\n",
    "            lmbdas.append(min(sig * jnp.sqrt(2*l_max/(D_diag[i] * a)), l_max))\n",
    "        else:\n",
    "            lmbdas.append(l_max)\n",
    "        \n",
    "    lmbdas[jnp.argmin(D_diag)] = l_max\n",
    "    \n",
    "    \n",
    "    \n",
    "    return jnp.array(lmbdas)"
   ]
  },
  {
   "cell_type": "code",
   "execution_count": 24,
   "metadata": {},
   "outputs": [],
   "source": [
    "def generate_sing_vals_V(D_diag, sig, max_h):\n",
    "    dim = len(D_diag)\n",
    "    lmbda = lambda_coeff_zero_set_max_lambda(D_diag, sig, 10)\n",
    "    if jnp.max(lmbda) > max_h**2:\n",
    "        lmbda = lambda_coeff_zero_set_max_lambda(D_diag, max_h**2, sig)\n",
    "\n",
    "    if jnp.max(lmbda) > max_h**2:\n",
    "        lmbda = max_h**2 * jnp.ones(dim)\n",
    "\n",
    "    sing_vals = jnp.diag(lmbda**0.5)\n",
    "    V = jnp.eye(dim)\n",
    "\n",
    "    print(repr(D_diag))\n",
    "\n",
    "    print(lmbda**0.5)\n",
    "    \n",
    "    return sing_vals, V\n"
   ]
  },
  {
   "cell_type": "code",
   "execution_count": 25,
   "metadata": {},
   "outputs": [
    {
     "data": {
      "text/plain": [
       "DeviceArray([0.25      , 0.25      , 0.25      , 0.08066483, 0.08066483,\n",
       "             0.08066483, 0.08066483, 0.08066483, 0.08066483, 0.08066483,\n",
       "             0.08066483, 0.08066483, 0.08066483, 0.08066483, 0.08066483,\n",
       "             0.08066483, 0.00501191, 0.00501191, 0.00501191, 0.00501191,\n",
       "             0.00501191, 0.00501191, 0.00501191, 0.00501191, 0.00501191,\n",
       "             0.00501191, 0.00501191, 0.00501191, 0.00501191, 0.00501191,\n",
       "             0.00501191, 0.00501191], dtype=float64)"
      ]
     },
     "execution_count": 25,
     "metadata": {},
     "output_type": "execute_result"
    }
   ],
   "source": [
    "lambda_coeff_zero_set_max_lambda(D_diag, 0.5**2, 10)"
   ]
  },
  {
   "cell_type": "code",
   "execution_count": null,
   "metadata": {},
   "outputs": [],
   "source": []
  },
  {
   "cell_type": "code",
   "execution_count": null,
   "metadata": {},
   "outputs": [],
   "source": []
  },
  {
   "cell_type": "code",
   "execution_count": 59,
   "metadata": {},
   "outputs": [
    {
     "data": {
      "text/plain": [
       "[0.1,\n",
       " DeviceArray(0.06364063, dtype=float64),\n",
       " DeviceArray(0.0509125, dtype=float64),\n",
       " DeviceArray(0.04365711, dtype=float64),\n",
       " DeviceArray(0.03882042, dtype=float64),\n",
       " DeviceArray(0.03530147, dtype=float64),\n",
       " DeviceArray(0.03259339, dtype=float64),\n",
       " DeviceArray(0.03042604, dtype=float64)]"
      ]
     },
     "execution_count": 59,
     "metadata": {},
     "output_type": "execute_result"
    }
   ],
   "source": [
    "D_diag = jnp.linspace(1, 10, 8)\n",
    "\n",
    "D_sum = jnp.sum(jnp.sqrt(D_diag)) - jnp.sqrt(D_diag[l_max_idx])\n",
    "D_min = 1\n",
    "dim = 8\n",
    "sig = 0.1\n",
    "l_max = 0.1\n",
    "\n",
    "sqrt_term = 3 * jnp.sqrt(3 * dim) * jnp.sqrt(27 * dim * D_sum**4 * l_max**2 * sig**4 - 2 * D_min**3 * D_sum**2 * l_max**4 * sig**2)\n",
    "cbrt_term = jnp.cbrt(sqrt_term + 27 * dim * D_sum**2 * l_max * sig**2 - D_min**3 * l_max**3)/dim\n",
    "\n",
    "a = (dim * cbrt_term + D_min * l_max)**2 / (3 * dim**2 * cbrt_term)\n",
    "\n",
    "lmbdas = [(sig * jnp.sqrt(2*l_max/(D_diag[i] * a))) for i in range(len(D_diag))]\n",
    "lmbdas[jnp.argmin(jnp.abs(D_diag))] = l_max\n",
    "\n",
    "lmbdas\n",
    "\n",
    "\n"
   ]
  },
  {
   "cell_type": "code",
   "execution_count": 29,
   "metadata": {},
   "outputs": [
    {
     "data": {
      "text/plain": [
       "(DeviceArray([5.14329454, 0.18975851, 0.15180681, 0.13017327, 0.11575161,\n",
       "              0.10525908, 0.09718435, 0.09072192], dtype=float64),\n",
       " [DeviceArray(1.2498184, dtype=float64),\n",
       "  0,\n",
       "  DeviceArray(5.14329454, dtype=float64)])"
      ]
     },
     "execution_count": 29,
     "metadata": {},
     "output_type": "execute_result"
    }
   ],
   "source": [
    "def lambda_coeff_zero(D_diag, l_max_idx, sig):\n",
    "    dim = len(D_diag)\n",
    "    D_diag = jnp.abs(D_diag)\n",
    "    D_sum = jnp.sum(jnp.sqrt(D_diag)) - jnp.sqrt(D_diag[l_max_idx])\n",
    "    D_l_max_idx = D_diag[l_max_idx]\n",
    "    numerator = 2 * (1 + dim) * D_l_max_idx * sig**2 + D_sum**2 * sig**2 + jnp.sqrt(D_sum**2 * (8 * (1 + dim) * D_l_max_idx + D_sum**2) * sig**4)\n",
    "    \n",
    "    a = jnp.sqrt(2 * numerator/(dim * D_l_max_idx))\n",
    "    l = (2 * (1 + dim) * D_l_max_idx * sig**2 + numerator)/(D_l_max_idx**2 * a)\n",
    "\n",
    "    lmbdas = [(sig * jnp.sqrt(2*l/(D_diag[i] * a))) for i in range(len(D_diag))]\n",
    "    lmbdas[jnp.argmin(jnp.abs(D_diag))] = l\n",
    "    \n",
    "    return jnp.array(lmbdas), [a, 0, l]\n",
    "\n",
    "\n",
    "lambda_coeff_zero(D_diag, 0, sig)"
   ]
  },
  {
   "cell_type": "code",
   "execution_count": 11,
   "metadata": {},
   "outputs": [
    {
     "data": {
      "text/plain": [
       "[<matplotlib.lines.Line2D at 0x7f9439f9af20>]"
      ]
     },
     "execution_count": 11,
     "metadata": {},
     "output_type": "execute_result"
    },
    {
     "data": {
      "image/png": "[encoded data removed]",
      "text/plain": [
       "<Figure size 864x864 with 1 Axes>"
      ]
     },
     "metadata": {},
     "output_type": "display_data"
    }
   ],
   "source": [
    "plt.plot(l_hist)"
   ]
  },
  {
   "cell_type": "code",
   "execution_count": 12,
   "metadata": {},
   "outputs": [
    {
     "data": {
      "text/plain": [
       "DeviceArray([-0.52296128,  0.22943354, -0.3531154 ,  1.11570721,\n",
       "             -0.90322739,  0.20856244, -2.11594852,  0.31786149,\n",
       "             -2.06394907,  2.25483303,  0.21091912, -0.07047817,\n",
       "             -0.10676361,  0.79200935, -0.14500933, -0.44771145,\n",
       "              2.26412436, -2.42588899, -1.97268315,  5.22494019,\n",
       "             -0.60532069, -0.18773841, -0.7728482 ,  1.91589632,\n",
       "             -2.0359586 ], dtype=float64)"
      ]
     },
     "execution_count": 12,
     "metadata": {},
     "output_type": "execute_result"
    }
   ],
   "source": [
    "g_l(opt_S.T.flatten())"
   ]
  },
  {
   "cell_type": "code",
   "execution_count": 9,
   "metadata": {},
   "outputs": [
    {
     "data": {
      "text/plain": [
       "[DeviceArray([ 2.11206096e+02+0.j,  1.91813110e+02+0.j,\n",
       "               1.36021935e+02+0.j,  8.06275795e+01+0.j,\n",
       "               7.92992130e+00+0.j,  8.55326280e-01+0.j,\n",
       "              -4.05621394e-03+0.j,  1.56153062e-01+0.j,\n",
       "               5.70469092e+01+0.j,  2.70548441e+01+0.j,\n",
       "               3.52484843e+01+0.j,  4.48723902e+01+0.j,\n",
       "               4.25669247e+01+0.j,  4.15451327e+01+0.j,\n",
       "               3.89926980e+01+0.j,  3.93534169e+01+0.j], dtype=complex128),\n",
       " DeviceArray([[ 1.76963147e-01+0.j,  4.78909259e-01+0.j,\n",
       "               -2.82689285e-01+0.j, -1.29173361e-01+0.j,\n",
       "                7.95077501e-02+0.j, -1.83214822e-01+0.j,\n",
       "                3.42330428e-01+0.j, -1.32387667e-01+0.j,\n",
       "                2.62102954e-01+0.j,  6.16205626e-02+0.j,\n",
       "               -2.30899931e-01+0.j, -2.96435896e-01+0.j,\n",
       "               -4.01765680e-01+0.j,  1.83780117e-01+0.j,\n",
       "                2.40644586e-01+0.j, -3.66132205e-02+0.j],\n",
       "              [ 8.39539792e-02+0.j,  2.66995505e-01+0.j,\n",
       "               -1.45890106e-01+0.j, -1.50790765e-01+0.j,\n",
       "               -1.74581487e-01+0.j,  2.87818573e-01+0.j,\n",
       "               -3.90836617e-01+0.j,  3.07382288e-01+0.j,\n",
       "                2.24847397e-01+0.j,  4.25784136e-02+0.j,\n",
       "                1.88846172e-01+0.j,  2.06723103e-01+0.j,\n",
       "               -3.59135076e-01+0.j,  1.33813664e-01+0.j,\n",
       "               -4.06650890e-01+0.j, -2.72162372e-01+0.j],\n",
       "              [ 3.89508881e-02+0.j,  1.38363553e-01+0.j,\n",
       "               -6.73919578e-02+0.j, -8.63579198e-02+0.j,\n",
       "               -1.62593495e-01+0.j,  5.90586248e-02+0.j,\n",
       "                3.51564383e-01+0.j,  4.92186230e-01+0.j,\n",
       "               -1.77365301e-01+0.j, -3.40797388e-01+0.j,\n",
       "                3.91350957e-01+0.j,  4.43857947e-02+0.j,\n",
       "                2.35299455e-01+0.j,  1.91169983e-01+0.j,\n",
       "                3.65648266e-01+0.j, -2.07923525e-01+0.j],\n",
       "              [-1.97432229e-01+0.j, -5.88517779e-01+0.j,\n",
       "                3.26014498e-01+0.j,  7.56519411e-02+0.j,\n",
       "               -4.98267677e-02+0.j, -2.21466595e-02+0.j,\n",
       "                1.86952014e-01+0.j,  1.58170032e-01+0.j,\n",
       "                3.07447258e-01+0.j, -8.70438074e-02+0.j,\n",
       "                2.64851790e-03+0.j, -1.43063451e-01+0.j,\n",
       "               -4.77571575e-01+0.j,  2.21102819e-01+0.j,\n",
       "                8.02600578e-02+0.j, -1.83682676e-01+0.j],\n",
       "              [ 5.80821527e-01+0.j, -2.69041669e-01+0.j,\n",
       "               -9.72392900e-02+0.j, -1.23906081e-01+0.j,\n",
       "               -2.25440308e-02+0.j,  1.88260227e-01+0.j,\n",
       "                9.87559421e-02+0.j, -1.10308871e-01+0.j,\n",
       "                3.10836315e-01+0.j,  1.05778348e-01+0.j,\n",
       "                3.41396803e-01+0.j, -9.36388469e-02+0.j,\n",
       "                1.63840575e-02+0.j, -5.05298833e-01+0.j,\n",
       "                1.30499155e-01+0.j, -4.27802113e-02+0.j],\n",
       "              [ 1.78332238e-01+0.j, -2.99376716e-02+0.j,\n",
       "                1.89376120e-02+0.j, -1.08566863e-01+0.j,\n",
       "                2.76493083e-01+0.j, -3.92987464e-01+0.j,\n",
       "               -2.85721670e-01+0.j,  2.64851437e-01+0.j,\n",
       "                1.26663335e-01+0.j, -5.11950472e-01+0.j,\n",
       "               -3.69783657e-01+0.j,  1.56692657e-01+0.j,\n",
       "               -5.88222758e-04+0.j, -2.98869607e-01+0.j,\n",
       "                8.34509663e-02+0.j, -1.91750735e-01+0.j],\n",
       "              [-9.99824522e-02+0.j, -1.10393524e-02+0.j,\n",
       "               -1.14497059e-02+0.j, -3.91571924e-02+0.j,\n",
       "               -6.75570200e-01+0.j, -3.70940115e-01+0.j,\n",
       "               -1.33022397e-02+0.j,  2.15990958e-02+0.j,\n",
       "                1.03723647e-01+0.j,  3.72140777e-01+0.j,\n",
       "               -2.05884130e-01+0.j,  1.37590260e-01+0.j,\n",
       "                1.61529468e-01+0.j, -1.65575357e-01+0.j,\n",
       "                1.42124626e-01+0.j, -3.30619179e-01+0.j],\n",
       "              [ 6.48240094e-01+0.j, -3.07135900e-01+0.j,\n",
       "               -5.96204014e-02+0.j, -8.93336394e-02+0.j,\n",
       "               -1.20480993e-01+0.j, -1.06056963e-01+0.j,\n",
       "               -2.65459660e-02+0.j,  1.54046362e-02+0.j,\n",
       "               -3.21075630e-01+0.j,  7.13539426e-02+0.j,\n",
       "               -2.30070506e-01+0.j,  7.39345138e-02+0.j,\n",
       "                2.23879652e-02+0.j,  5.12451160e-01+0.j,\n",
       "               -1.22892034e-01+0.j,  4.92130999e-02+0.j],\n",
       "              [-2.03410038e-01+0.j, -2.79750763e-01+0.j,\n",
       "               -5.60938433e-01+0.j, -6.29048599e-02+0.j,\n",
       "                1.08434741e-01+0.j,  8.38533434e-02+0.j,\n",
       "               -2.97866969e-01+0.j, -3.69363580e-02+0.j,\n",
       "                2.86177997e-01+0.j, -1.33560557e-02+0.j,\n",
       "               -3.43326743e-02+0.j, -3.31027901e-01+0.j,\n",
       "                3.84082961e-01+0.j,  2.78054866e-01+0.j,\n",
       "                1.00859967e-01+0.j, -1.58224594e-01+0.j],\n",
       "              [ 1.03044033e-01+0.j,  8.72151101e-02+0.j,\n",
       "                1.96034915e-01+0.j,  2.32958186e-01+0.j,\n",
       "                3.38789656e-01+0.j,  6.12392960e-03+0.j,\n",
       "               -4.00336554e-01+0.j,  1.56000907e-01+0.j,\n",
       "               -1.36654150e-01+0.j,  4.67351866e-01+0.j,\n",
       "                1.05451847e-01+0.j,  7.44069279e-03+0.j,\n",
       "               -9.48471737e-02+0.j,  8.74704760e-02+0.j,\n",
       "                5.41299858e-01+0.j, -1.78141764e-01+0.j],\n",
       "              [ 1.19723447e-01+0.j,  1.20139750e-01+0.j,\n",
       "                2.45281851e-01+0.j,  1.61894221e-01+0.j,\n",
       "                3.16427476e-01+0.j, -1.98373512e-01+0.j,\n",
       "                2.85756915e-01+0.j,  2.90486987e-01+0.j,\n",
       "                3.30198973e-01+0.j,  2.89966226e-01+0.j,\n",
       "                1.45454527e-02+0.j, -1.02277639e-01+0.j,\n",
       "                3.98946502e-01+0.j,  9.77012409e-02+0.j,\n",
       "               -4.30965404e-01+0.j, -1.45336255e-01+0.j],\n",
       "              [ 1.84948471e-01+0.j,  2.54441143e-01+0.j,\n",
       "                5.24965607e-01+0.j,  5.86373263e-02+0.j,\n",
       "               -3.07381231e-01+0.j,  1.59535145e-01+0.j,\n",
       "               -2.90582492e-01+0.j, -2.19267736e-01+0.j,\n",
       "                2.31604821e-01+0.j, -3.04604742e-01+0.j,\n",
       "               -3.82676841e-02+0.j, -3.63505604e-01+0.j,\n",
       "                2.19803926e-01+0.j,  1.76831966e-01+0.j,\n",
       "                9.77813431e-02+0.j,  2.01308574e-02+0.j],\n",
       "              [ 1.17007517e-02+0.j,  2.03756284e-02+0.j,\n",
       "                5.68046211e-02+0.j,  5.77594510e-02+0.j,\n",
       "                1.86384379e-01+0.j,  2.72940314e-01+0.j,\n",
       "                2.02160436e-01+0.j, -4.97557612e-01+0.j,\n",
       "                1.67916089e-02+0.j, -1.08256226e-01+0.j,\n",
       "               -1.11881727e-01+0.j,  4.17896128e-01+0.j,\n",
       "                9.92923905e-02+0.j,  1.17209229e-01+0.j,\n",
       "                3.39030556e-02+0.j, -6.09355868e-01+0.j],\n",
       "              [-1.08061801e-01+0.j, -1.28144341e-02+0.j,\n",
       "                2.13333078e-01+0.j, -6.79558944e-01+0.j,\n",
       "                1.26737444e-01+0.j, -1.01714753e-01+0.j,\n",
       "               -3.51131990e-02+0.j, -8.53019143e-02+0.j,\n",
       "                2.96020423e-01+0.j,  1.26265395e-01+0.j,\n",
       "                1.21031230e-01+0.j,  3.77721902e-01+0.j,\n",
       "                1.20674250e-01+0.j,  2.21528167e-01+0.j,\n",
       "                1.78957368e-01+0.j,  2.98953632e-01+0.j],\n",
       "              [ 7.97982671e-02+0.j,  9.65155742e-03+0.j,\n",
       "               -1.42881207e-01+0.j,  4.75850788e-01+0.j,\n",
       "               -1.16501000e-01+0.j,  2.67810713e-01+0.j,\n",
       "                7.54840547e-02+0.j,  1.79225344e-01+0.j,\n",
       "                3.96407270e-01+0.j, -2.98086381e-02+0.j,\n",
       "               -2.71120705e-01+0.j,  4.28290216e-01+0.j,\n",
       "                7.06025127e-02+0.j,  7.54213247e-02+0.j,\n",
       "                2.06827556e-01+0.j,  3.93901627e-01+0.j],\n",
       "              [ 5.52810401e-02+0.j,  2.03547014e-02+0.j,\n",
       "               -1.28411142e-01+0.j,  3.62349442e-01+0.j,\n",
       "               -2.98823462e-02+0.j, -5.58973534e-01+0.j,\n",
       "               -1.27858871e-01+0.j, -3.04274731e-01+0.j,\n",
       "                1.41277466e-01+0.j, -1.72616587e-01+0.j,\n",
       "                5.42770660e-01+0.j,  1.90421799e-01+0.j,\n",
       "               -7.68789162e-02+0.j,  1.84209752e-01+0.j,\n",
       "               -5.35305198e-02+0.j,  5.60571779e-02+0.j]],            dtype=complex128)]"
      ]
     },
     "execution_count": 9,
     "metadata": {},
     "output_type": "execute_result"
    }
   ],
   "source": [
    "jnp.linalg.eig(jacfwd(g_l)(opt_S.T.flatten()))"
   ]
  },
  {
   "cell_type": "code",
   "execution_count": 547,
   "metadata": {},
   "outputs": [
    {
     "data": {
      "text/plain": [
       "(DeviceArray([[-3.43269255e-01,  3.28351735e-01,  8.23266701e-01,\n",
       "               -3.10778532e-01],\n",
       "              [-1.57669635e-01, -9.43711408e-01,  2.75127097e-01,\n",
       "               -9.40964692e-02],\n",
       "              [-9.03379783e-01,  3.99238178e-02, -2.66735445e-01,\n",
       "                3.33411547e-01],\n",
       "              [-2.03006090e-01,  7.49105358e-05, -4.18794965e-01,\n",
       "               -8.85098469e-01]], dtype=float64),\n",
       " DeviceArray([1.01096617, 0.67607382, 0.67607382, 0.67607382], dtype=float64),\n",
       " DeviceArray([[-0.5       , -0.5       , -0.5       , -0.5       ],\n",
       "              [ 0.04600649, -0.20940294,  0.76751329, -0.60411684],\n",
       "              [ 0.25763312,  0.67422047, -0.31613296, -0.61572063],\n",
       "              [-0.82553533,  0.50157469,  0.24694797,  0.07701267]],            dtype=float64))"
      ]
     },
     "execution_count": 547,
     "metadata": {},
     "output_type": "execute_result"
    }
   ],
   "source": [
    "jnp.linalg.svd(opt_S)"
   ]
  },
  {
   "cell_type": "code",
   "execution_count": 196,
   "metadata": {},
   "outputs": [
    {
     "data": {
      "text/plain": [
       "DeviceArray([0.14260624, 0.14260624, 0.14260624, 0.14260624, 0.14260624,\n",
       "             0.14260624], dtype=float64)"
      ]
     },
     "execution_count": 196,
     "metadata": {},
     "output_type": "execute_result"
    }
   ],
   "source": [
    "jnp.diag(opt_S.T @ D @ opt_S)"
   ]
  },
  {
   "cell_type": "code",
   "execution_count": 36,
   "metadata": {},
   "outputs": [
    {
     "data": {
      "text/plain": [
       "(DeviceArray([[-0.51204034, -0.30460385, -0.55900857, -0.57666334],\n",
       "              [-0.47424182,  0.85747832,  0.1264342 , -0.15440214],\n",
       "              [-0.69850683, -0.39047352,  0.47507435,  0.36595491],\n",
       "              [-0.15810626,  0.1395631 , -0.66770366,  0.71393023]],            dtype=float64),\n",
       " DeviceArray([1.01096617, 0.67607382, 0.67607382, 0.67607382], dtype=float64),\n",
       " DeviceArray([[-0.5       , -0.5       , -0.5       , -0.5       ],\n",
       "              [ 0.42729776,  0.04620924, -0.82970244,  0.35619544],\n",
       "              [-0.75197927,  0.31141208, -0.12648721,  0.56705439],\n",
       "              [ 0.04408868, -0.80677582,  0.21352949,  0.54915765]],            dtype=float64))"
      ]
     },
     "execution_count": 36,
     "metadata": {},
     "output_type": "execute_result"
    }
   ],
   "source": [
    "jnp.linalg.svd(opt_S)"
   ]
  },
  {
   "cell_type": "code",
   "execution_count": 44,
   "metadata": {},
   "outputs": [],
   "source": [
    "opt_S_V, opt_S_sing_vals, opt_S_U = jnp.linalg.svd(opt_S)"
   ]
  },
  {
   "cell_type": "code",
   "execution_count": 195,
   "metadata": {},
   "outputs": [],
   "source": [
    "def set_loss(F, x_0, H, sig, coeff, num_runs):\n",
    "    g_F = F.f1(x_0)\n",
    "    def helper(S, jrandom_key):\n",
    "        errs = []\n",
    "        for _ in range(num_runs):\n",
    "            jrandom_key, subkey = jrandom.split(jrandom_key)\n",
    "            sgd = simplex_gradient(F, x_0, S, subkey)[0]\n",
    "            errs.append(float(jnp.linalg.norm(sgd - g_F)**2))\n",
    "        errs = jnp.array(errs)\n",
    "        return jnp.mean(errs)\n",
    "    return helper"
   ]
  },
  {
   "cell_type": "code",
   "execution_count": 244,
   "metadata": {},
   "outputs": [],
   "source": [
    "mc_l = set_loss(F, x_0, H, sig, coeff, num_runs=50)"
   ]
  },
  {
   "cell_type": "code",
   "execution_count": 251,
   "metadata": {},
   "outputs": [],
   "source": [
    "trial_S = jnp.eye(dim) * 0.0005"
   ]
  },
  {
   "cell_type": "code",
   "execution_count": 252,
   "metadata": {},
   "outputs": [
    {
     "data": {
      "text/plain": [
       "DeviceArray(77034.30935475, dtype=float64)"
      ]
     },
     "execution_count": 252,
     "metadata": {},
     "output_type": "execute_result"
    }
   ],
   "source": [
    "mc_l(trial_S, jrandom_key)"
   ]
  },
  {
   "cell_type": "code",
   "execution_count": 260,
   "metadata": {},
   "outputs": [
    {
     "data": {
      "text/plain": [
       "DeviceArray(165.06548232, dtype=float64)"
      ]
     },
     "execution_count": 260,
     "metadata": {},
     "output_type": "execute_result"
    }
   ],
   "source": [
    "mc_l(pow_S, jrandom_key)"
   ]
  },
  {
   "cell_type": "code",
   "execution_count": 201,
   "metadata": {},
   "outputs": [
    {
     "data": {
      "text/plain": [
       "(DeviceArray([  -5.08353094,    4.57266158,   11.49318782,  170.32038347,\n",
       "              1233.49134915], dtype=float64),\n",
       " DeviceArray([[-0.56782602,  0.12077836,  0.71701966,  0.38387151,\n",
       "               -0.03888029],\n",
       "              [-0.32845181,  0.85098683, -0.40883139,  0.00728071,\n",
       "               -0.02728919],\n",
       "              [ 0.69297634,  0.50838248,  0.50305692, -0.0790808 ,\n",
       "               -0.04484431],\n",
       "              [-0.09747424, -0.0434688 ,  0.04527115, -0.31062402,\n",
       "               -0.94343653],\n",
       "              [ 0.28279955, -0.02986163, -0.2522379 ,  0.86593799,\n",
       "               -0.32505404]], dtype=float64))"
      ]
     },
     "execution_count": 201,
     "metadata": {},
     "output_type": "execute_result"
    }
   ],
   "source": [
    "jnp.linalg.eigh(H)"
   ]
  },
  {
   "cell_type": "code",
   "execution_count": 152,
   "metadata": {},
   "outputs": [
    {
     "data": {
      "text/plain": [
       "[<matplotlib.lines.Line2D at 0x7ff31a729420>]"
      ]
     },
     "execution_count": 152,
     "metadata": {},
     "output_type": "execute_result"
    },
    {
     "data": {
      "image/png": "[encoded data removed]",
      "text/plain": [
       "<Figure size 864x864 with 1 Axes>"
      ]
     },
     "metadata": {},
     "output_type": "display_data"
    }
   ],
   "source": [
    "\n",
    "def hinge_loss(data, thresh):\n",
    "    l = 0\n",
    "    for d in data:\n",
    "        y = -thresh + d[0]\n",
    "#         print(y)\n",
    "        l += max(0, 1 - 10* y * d[1])\n",
    "    return l\n",
    "\n",
    "bs = np.linspace(-1, 1, 100)\n",
    "data = [[-0.25, -1], [0, -1], [0.25, 1]]\n",
    "\n",
    "# print(hinge_loss(data, 0.26))\n",
    "# print()\n",
    "# print(hinge_loss(data, 0.24))\n",
    "\n",
    "\n",
    "ys = [hinge_loss(data, b) for b  in bs]\n",
    "plt.plot(bs, ys)\n",
    "    \n"
   ]
  },
  {
   "cell_type": "code",
   "execution_count": null,
   "metadata": {},
   "outputs": [],
   "source": []
  }
 ],
 "metadata": {
  "kernelspec": {
   "display_name": "Python (simplex_grad)",
   "language": "python",
   "name": "simplex_grad"
  },
  "language_info": {
   "codemirror_mode": {
    "name": "ipython",
    "version": 3
   },
   "file_extension": ".py",
   "mimetype": "text/x-python",
   "name": "python",
   "nbconvert_exporter": "python",
   "pygments_lexer": "ipython3",
   "version": "3.10.0"
  }
 },
 "nbformat": 4,
 "nbformat_minor": 2
}
