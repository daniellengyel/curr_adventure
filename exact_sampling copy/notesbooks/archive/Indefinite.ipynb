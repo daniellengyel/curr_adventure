{
 "cells": [
  {
   "cell_type": "code",
   "execution_count": 1,
   "metadata": {},
   "outputs": [],
   "source": [
    "import jax.numpy as jnp\n",
    "import numpy as np\n",
    "import jax.random as jrandom\n",
    "from jax import jit, grad, jacfwd\n",
    "\n",
    "import sys \n",
    "import os \n",
    "HOME = os.getenv(\"HOME\")\n",
    "sys.path.append(HOME + \"/curr_adventure/exact_sampling/\")\n",
    "sys.path.append(HOME + \"/curr_adventure/exact_sampling/Optimization\")\n",
    "\n",
    "# from Optimization import NewtonMethod\n",
    "# from pdfo import newuoa\n",
    "\n",
    "# from NEWUO_test import NEWUOA_Wrapper\n",
    "\n",
    "# from pow_sampling_set import pow_SG\n",
    "# from Functions import PyCutestGetter, load_cutest_quadratic, HeartDisease\n",
    "# from AdaptiveFD import adapt_FD\n",
    "# from FD import FD\n",
    "\n",
    "import sys\n",
    "sys.path.append(\"/Users/daniellengyel/curr_adventure/exact_sampling/Ours\")\n",
    "from pow_sampling_set import create_approx_S\n",
    "\n",
    "from tqdm import tqdm\n",
    "\n",
    "import matplotlib.pyplot as plt\n",
    "\n",
    "import scipy\n",
    "\n",
    "%load_ext autoreload\n",
    "%autoreload 2"
   ]
  },
  {
   "cell_type": "code",
   "execution_count": 2,
   "metadata": {},
   "outputs": [],
   "source": [
    "def loss_getter(dim, D, sig):\n",
    "    def helper(X):\n",
    "        S = X.reshape(dim, dim).T\n",
    "        \n",
    "        S_inv = jnp.linalg.inv(S)\n",
    "        \n",
    "        first_term = S_inv.T @ jnp.diag(S.T @ D @ S)\n",
    "        second_term = jnp.linalg.norm(S_inv, ord=\"fro\")**2\n",
    "        third_term = S_inv.T @ jnp.ones(dim)\n",
    "        third_term = jnp.linalg.norm(third_term)**2\n",
    "        \n",
    "        return 1/4 * jnp.linalg.norm(first_term)**2 + sig**2 * (second_term + third_term)\n",
    "    return helper\n",
    "\n",
    "def lmbda_loss(lmbdas, D_diag, sig, l_max_idx):\n",
    "    dim = len(D_diag)\n",
    "\n",
    "    a = D_diag @ lmbdas / len(lmbdas)\n",
    "#     print(repr(lmbdas))\n",
    "    return 1/4. * a**2 * dim / lmbdas[l_max_idx] + sig**2 * dim/lmbdas[l_max_idx] + sig**2 * jnp.sum(1/lmbdas)\n"
   ]
  },
  {
   "cell_type": "code",
   "execution_count": 3,
   "metadata": {},
   "outputs": [
    {
     "name": "stderr",
     "output_type": "stream",
     "text": [
      "WARNING:absl:No GPU/TPU found, falling back to CPU. (Set TF_CPP_MIN_LOG_LEVEL=0 and rerun for more info.)\n"
     ]
    },
    {
     "ename": "NameError",
     "evalue": "name 'l_max' is not defined",
     "output_type": "error",
     "traceback": [
      "\u001b[0;31m---------------------------------------------------------------------------\u001b[0m",
      "\u001b[0;31mNameError\u001b[0m                                 Traceback (most recent call last)",
      "Input \u001b[0;32mIn [3]\u001b[0m, in \u001b[0;36m<cell line: 7>\u001b[0;34m()\u001b[0m\n\u001b[1;32m      5\u001b[0m dim \u001b[38;5;241m=\u001b[39m \u001b[38;5;28mlen\u001b[39m(D_diag)\n\u001b[1;32m      6\u001b[0m l_max_idx \u001b[38;5;241m=\u001b[39m \u001b[38;5;241m0\u001b[39m\u001b[38;5;66;03m# dim - 1\u001b[39;00m\n\u001b[0;32m----> 7\u001b[0m x0 \u001b[38;5;241m=\u001b[39m jnp\u001b[38;5;241m.\u001b[39mones(dim) \u001b[38;5;241m*\u001b[39m \u001b[43ml_max\u001b[49m\n",
      "\u001b[0;31mNameError\u001b[0m: name 'l_max' is not defined"
     ]
    }
   ],
   "source": [
    "dim = 502\n",
    "# l_max_idx = dim - 1\n",
    "jrandom_key = jrandom.PRNGKey(0)\n",
    "D_diag = 1000*(jrandom.uniform(jrandom_key, shape=(dim,)) - 1/2.)*2 # jnp.linspace(-51065, 10, dim)\n",
    "dim = len(D_diag)\n",
    "l_max_idx = 0# dim - 1\n",
    "x0 = jnp.ones(dim) * l_max\n",
    "\n",
    "\n"
   ]
  },
  {
   "cell_type": "code",
   "execution_count": 402,
   "metadata": {},
   "outputs": [],
   "source": [
    "grad_lmbda_loss = grad(lambda x: lmbda_loss(x, D_diag, sig, l_max_idx))\n",
    "hess_lmbda_loss = jacfwd(lambda x: grad_lmbda_loss(x))"
   ]
  },
  {
   "cell_type": "code",
   "execution_count": 403,
   "metadata": {},
   "outputs": [],
   "source": [
    "sig = .135\n",
    "l_max = 245"
   ]
  },
  {
   "cell_type": "code",
   "execution_count": 19,
   "metadata": {},
   "outputs": [],
   "source": [
    "def grad_lmbda_loss_analytic(lmbdas, D_diag, sig, l_max_idx):\n",
    "    dim = len(lmbdas)\n",
    "    D_diag = jnp.array(D_diag)\n",
    "    a = D_diag @ lmbdas / len(lmbdas)\n",
    "    grad = 1/2. * a * D_diag / lmbdas[l_max_idx] - sig**2 / lmbdas**2\n",
    "    grad = grad.at[l_max_idx].add(-1/4. * a**2 * dim / lmbdas[l_max_idx]**2 - sig**2 * dim / lmbdas[l_max_idx]**2)\n",
    "    return jnp.array(grad)"
   ]
  },
  {
   "cell_type": "code",
   "execution_count": 350,
   "metadata": {},
   "outputs": [
    {
     "data": {
      "text/plain": [
       "DeviceArray([-2.41625355e-06, -2.74576237e-08, -8.55595531e-07,\n",
       "             -1.49130954e-06, -9.29952340e-02], dtype=float64)"
      ]
     },
     "execution_count": 350,
     "metadata": {},
     "output_type": "execute_result"
    }
   ],
   "source": [
    "grad_lmbda_loss_analytic(res[\"x\"], D_diag, sig, l_max_idx)"
   ]
  },
  {
   "cell_type": "code",
   "execution_count": 519,
   "metadata": {},
   "outputs": [
    {
     "data": {
      "text/plain": [
       "DeviceArray(245933.7755102, dtype=float64)"
      ]
     },
     "execution_count": 519,
     "metadata": {},
     "output_type": "execute_result"
    }
   ],
   "source": [
    "jnp.sum(D_diag)"
   ]
  },
  {
   "cell_type": "code",
   "execution_count": 465,
   "metadata": {},
   "outputs": [
    {
     "data": {
      "text/plain": [
       "23734.56186942714"
      ]
     },
     "execution_count": 465,
     "metadata": {},
     "output_type": "execute_result"
    }
   ],
   "source": [
    "factor = l_max * np.sum(D_diag[np.array(D_diag > 0)]) / np.abs(np.sum(D_diag[np.array(D_diag < 0)]))\n",
    "factor"
   ]
  },
  {
   "cell_type": "code",
   "execution_count": 467,
   "metadata": {},
   "outputs": [
    {
     "data": {
      "text/plain": [
       "DeviceArray(4.457779e-05, dtype=float64)"
      ]
     },
     "execution_count": 467,
     "metadata": {},
     "output_type": "execute_result"
    }
   ],
   "source": [
    "l = np.ones(dim) * l_max \n",
    "l[np.array(D_diag) < 0] = factor\n",
    "fun(l)"
   ]
  },
  {
   "cell_type": "code",
   "execution_count": 13,
   "metadata": {},
   "outputs": [],
   "source": [
    "def compute_lmbda_indefinite_hess(D_diag, sig, l_max, tol=1e-6):\n",
    "\n",
    "\n",
    "    dim = len(D_diag)\n",
    "    D_diag_sum = jnp.sum(D_diag)\n",
    "\n",
    "    if D_diag_sum > 0:\n",
    "        D_diag_use = -D_diag\n",
    "    else:\n",
    "        D_diag_use = D_diag\n",
    "\n",
    "    k = 1/dim * jnp.sum(D_diag_use[D_diag_use >= 0]) * l_max\n",
    "    c = 1/dim * jnp.sqrt(2 * l_max) * sig * jnp.sum(jnp.sqrt(-D_diag_use[D_diag_use < 0])) \n",
    "    cbrt_term = jnp.cbrt(27 * c**2 + 2 * k**3 + 3 * jnp.sqrt(81*c**4 + 12 * c**2 * k**3))\n",
    "\n",
    "    a = -(1/3. * (-2*k + jnp.cbrt(2) * k**2 / cbrt_term + cbrt_term/jnp.cbrt(2)))\n",
    "    lmbda = np.ones(dim) * float(l_max) \n",
    "    \n",
    "    # ensures that no lmbda is larger than l_max. TODO check further what this even implies. I think essentially\n",
    "    # that we are then just minimizing sum_i 1/lambda_i^2 such that a = 0. \n",
    "    # Which should happen when all have the same value. \n",
    "    if abs(a) <= max(tol, 2 * sig**2 / (np.min(np.abs(D_diag_use)) * l_max)):\n",
    "        print(a)\n",
    "        lmbda[np.array(D_diag_use) < 0] = l_max * np.sum(D_diag_use[np.array(D_diag_use > 0)]) / np.abs(np.sum(D_diag_use[np.array(D_diag_use < 0)]))\n",
    "    else:\n",
    "        lmbda[np.array(D_diag_use < 0)] = sig * jnp.sqrt(2 * l_max / (a * D_diag_use[D_diag_use < 0]))\n",
    "    \n",
    "    return jnp.array(lmbda)\n",
    "    "
   ]
  },
  {
   "cell_type": "code",
   "execution_count": 14,
   "metadata": {},
   "outputs": [
    {
     "data": {
      "text/plain": [
       "DeviceArray([4.49741537e-01, 4.92667169e-01, 5.50818641e-01,\n",
       "             6.36030581e-01, 7.78975192e-01, 1.10163728e+00,\n",
       "             5.51038901e+07, 1.00000000e+00, 1.00000000e+00,\n",
       "             1.00000000e+00], dtype=float64)"
      ]
     },
     "execution_count": 14,
     "metadata": {},
     "output_type": "execute_result"
    }
   ],
   "source": [
    "D_diag = jnp.linspace(-10, 5, 10)\n",
    "sig = 1 \n",
    "l_max = 1\n",
    "\n",
    "compute_lmbda_indefinite_hess(D_diag, sig, l_max)"
   ]
  },
  {
   "cell_type": "code",
   "execution_count": 23,
   "metadata": {
    "scrolled": true
   },
   "outputs": [
    {
     "name": "stdout",
     "output_type": "stream",
     "text": [
      "9\n",
      "      fun: DeviceArray(26.28562551, dtype=float64)\n",
      " hess_inv: <10x10 LbfgsInvHessProduct with dtype=float64>\n",
      "      jac: array([ 2.84217094e-06, -1.10134124e-05, -2.06057392e-05,  1.63424828e-05,\n",
      "        3.55271366e-06, -1.83364789e-01, -1.00000008e+00, -1.81663537e+00,\n",
      "       -2.63327065e+00, -1.58507215e+01])\n",
      "  message: 'CONVERGENCE: REL_REDUCTION_OF_F_<=_FACTR*EPSMCH'\n",
      "     nfev: 154\n",
      "      nit: 12\n",
      "     njev: 14\n",
      "   status: 0\n",
      "  success: True\n",
      "        x: array([0.45176276, 0.49488049, 0.5532922 , 0.63889091, 0.78247663,\n",
      "       1.        , 1.        , 1.        , 1.        , 1.        ])\n",
      "[-1.00000000e+01 -8.33333333e+00 -6.66666667e+00 -5.00000000e+00\n",
      " -3.33333333e+00 -1.66666667e+00 -6.66133815e-16  1.66666667e+00\n",
      "  3.33333333e+00  5.00000000e+00]\n"
     ]
    }
   ],
   "source": [
    "l_max_idx = dim - 1\n",
    "print(l_max_idx)\n",
    "# l_max = 1e5\n",
    "dim = len(D_diag)\n",
    "x0 = jnp.ones(len(D_diag))\n",
    "fun = lambda x: lmbda_loss(x, D_diag, sig, l_max_idx)\n",
    "res = scipy.optimize.minimize(fun, x0, bounds=[(1e-3, l_max)]*dim)\n",
    "print(res)\n",
    "print(D_diag)\n",
    "# res[\"x\"][-jnp.sum(D_diag > 0):]"
   ]
  },
  {
   "cell_type": "code",
   "execution_count": 547,
   "metadata": {},
   "outputs": [],
   "source": [
    "D_diag = np.linspace(1, 10000)\n",
    "D_diag[:5] *= -1"
   ]
  },
  {
   "cell_type": "code",
   "execution_count": 553,
   "metadata": {},
   "outputs": [
    {
     "data": {
      "text/plain": [
       "DeviceArray([ 96416.24235226,  96416.24235226,  96416.24235226,\n",
       "              96416.24235226,  96416.24235226,  96416.24235226,\n",
       "              96416.24235226,  96416.24235226, 100000.        ,\n",
       "             100000.        , 100000.        , 100000.        ,\n",
       "             100000.        , 100000.        ,  96416.24235226,\n",
       "             100000.        , 100000.        , 100000.        ,\n",
       "             100000.        ,  96416.24235226,  96416.24235226,\n",
       "             100000.        ,  96416.24235226, 100000.        ,\n",
       "             100000.        , 100000.        , 100000.        ,\n",
       "             100000.        , 100000.        , 100000.        ,\n",
       "             100000.        ,  96416.24235226, 100000.        ,\n",
       "             100000.        ,  96416.24235226,  96416.24235226,\n",
       "              96416.24235226,  96416.24235226,  96416.24235226,\n",
       "              96416.24235226,  96416.24235226, 100000.        ,\n",
       "             100000.        , 100000.        , 100000.        ,\n",
       "             100000.        ,  96416.24235226, 100000.        ,\n",
       "              96416.24235226, 100000.        ,  96416.24235226,\n",
       "             100000.        ,  96416.24235226,  96416.24235226,\n",
       "              96416.24235226, 100000.        , 100000.        ,\n",
       "             100000.        ,  96416.24235226,  96416.24235226,\n",
       "             100000.        ,  96416.24235226, 100000.        ,\n",
       "              96416.24235226,  96416.24235226,  96416.24235226,\n",
       "             100000.        ,  96416.24235226, 100000.        ,\n",
       "              96416.24235226,  96416.24235226,  96416.24235226,\n",
       "             100000.        ,  96416.24235226, 100000.        ,\n",
       "              96416.24235226, 100000.        , 100000.        ,\n",
       "             100000.        , 100000.        ,  96416.24235226,\n",
       "              96416.24235226,  96416.24235226,  96416.24235226,\n",
       "             100000.        , 100000.        ,  96416.24235226,\n",
       "             100000.        , 100000.        , 100000.        ,\n",
       "              96416.24235226, 100000.        ,  96416.24235226,\n",
       "              96416.24235226,  96416.24235226,  96416.24235226,\n",
       "             100000.        , 100000.        , 100000.        ,\n",
       "             100000.        ,  96416.24235226, 100000.        ,\n",
       "              96416.24235226,  96416.24235226,  96416.24235226,\n",
       "             100000.        , 100000.        ,  96416.24235226,\n",
       "              96416.24235226, 100000.        , 100000.        ,\n",
       "              96416.24235226, 100000.        ,  96416.24235226,\n",
       "              96416.24235226, 100000.        ,  96416.24235226,\n",
       "              96416.24235226,  96416.24235226, 100000.        ,\n",
       "             100000.        , 100000.        , 100000.        ,\n",
       "              96416.24235226, 100000.        ,  96416.24235226,\n",
       "              96416.24235226,  96416.24235226,  96416.24235226,\n",
       "             100000.        , 100000.        , 100000.        ,\n",
       "              96416.24235226, 100000.        , 100000.        ,\n",
       "              96416.24235226, 100000.        , 100000.        ,\n",
       "             100000.        , 100000.        , 100000.        ,\n",
       "             100000.        , 100000.        , 100000.        ,\n",
       "              96416.24235226,  96416.24235226, 100000.        ,\n",
       "              96416.24235226,  96416.24235226,  96416.24235226,\n",
       "              96416.24235226,  96416.24235226, 100000.        ,\n",
       "              96416.24235226,  96416.24235226, 100000.        ,\n",
       "              96416.24235226,  96416.24235226,  96416.24235226,\n",
       "              96416.24235226,  96416.24235226, 100000.        ,\n",
       "              96416.24235226, 100000.        ,  96416.24235226,\n",
       "              96416.24235226, 100000.        ,  96416.24235226,\n",
       "             100000.        ,  96416.24235226,  96416.24235226,\n",
       "             100000.        , 100000.        ,  96416.24235226,\n",
       "              96416.24235226,  96416.24235226,  96416.24235226,\n",
       "              96416.24235226,  96416.24235226, 100000.        ,\n",
       "              96416.24235226, 100000.        ,  96416.24235226,\n",
       "              96416.24235226, 100000.        , 100000.        ,\n",
       "              96416.24235226, 100000.        ,  96416.24235226,\n",
       "              96416.24235226, 100000.        , 100000.        ,\n",
       "             100000.        ,  96416.24235226, 100000.        ,\n",
       "             100000.        , 100000.        ,  96416.24235226,\n",
       "             100000.        ,  96416.24235226,  96416.24235226,\n",
       "             100000.        , 100000.        , 100000.        ,\n",
       "             100000.        ,  96416.24235226, 100000.        ,\n",
       "              96416.24235226,  96416.24235226, 100000.        ,\n",
       "             100000.        ,  96416.24235226,  96416.24235226,\n",
       "             100000.        , 100000.        , 100000.        ,\n",
       "             100000.        , 100000.        , 100000.        ,\n",
       "              96416.24235226, 100000.        , 100000.        ,\n",
       "             100000.        ,  96416.24235226,  96416.24235226,\n",
       "              96416.24235226,  96416.24235226,  96416.24235226,\n",
       "              96416.24235226,  96416.24235226,  96416.24235226,\n",
       "              96416.24235226,  96416.24235226,  96416.24235226,\n",
       "             100000.        , 100000.        ,  96416.24235226,\n",
       "              96416.24235226,  96416.24235226,  96416.24235226,\n",
       "             100000.        ,  96416.24235226,  96416.24235226,\n",
       "             100000.        , 100000.        ,  96416.24235226,\n",
       "             100000.        , 100000.        ,  96416.24235226,\n",
       "             100000.        ,  96416.24235226, 100000.        ,\n",
       "             100000.        , 100000.        , 100000.        ,\n",
       "             100000.        ,  96416.24235226,  96416.24235226,\n",
       "             100000.        ,  96416.24235226,  96416.24235226,\n",
       "             100000.        , 100000.        ,  96416.24235226,\n",
       "             100000.        , 100000.        ,  96416.24235226,\n",
       "             100000.        ,  96416.24235226,  96416.24235226,\n",
       "             100000.        , 100000.        ,  96416.24235226,\n",
       "             100000.        ,  96416.24235226,  96416.24235226,\n",
       "             100000.        , 100000.        ,  96416.24235226,\n",
       "              96416.24235226,  96416.24235226, 100000.        ,\n",
       "             100000.        ,  96416.24235226, 100000.        ,\n",
       "             100000.        ,  96416.24235226, 100000.        ,\n",
       "             100000.        , 100000.        ,  96416.24235226,\n",
       "             100000.        ,  96416.24235226, 100000.        ,\n",
       "             100000.        , 100000.        ,  96416.24235226,\n",
       "              96416.24235226, 100000.        , 100000.        ,\n",
       "              96416.24235226,  96416.24235226,  96416.24235226,\n",
       "              96416.24235226, 100000.        ,  96416.24235226,\n",
       "              96416.24235226, 100000.        , 100000.        ,\n",
       "             100000.        , 100000.        , 100000.        ,\n",
       "              96416.24235226,  96416.24235226,  96416.24235226,\n",
       "             100000.        ,  96416.24235226,  96416.24235226,\n",
       "              96416.24235226,  96416.24235226, 100000.        ,\n",
       "              96416.24235226, 100000.        ,  96416.24235226,\n",
       "             100000.        , 100000.        ,  96416.24235226,\n",
       "             100000.        , 100000.        ,  96416.24235226,\n",
       "             100000.        ,  96416.24235226,  96416.24235226,\n",
       "              96416.24235226,  96416.24235226,  96416.24235226,\n",
       "             100000.        ,  96416.24235226, 100000.        ,\n",
       "              96416.24235226, 100000.        ,  96416.24235226,\n",
       "             100000.        ,  96416.24235226, 100000.        ,\n",
       "              96416.24235226,  96416.24235226,  96416.24235226,\n",
       "              96416.24235226,  96416.24235226, 100000.        ,\n",
       "             100000.        , 100000.        , 100000.        ,\n",
       "             100000.        , 100000.        , 100000.        ,\n",
       "              96416.24235226, 100000.        ,  96416.24235226,\n",
       "              96416.24235226, 100000.        ,  96416.24235226,\n",
       "             100000.        ,  96416.24235226, 100000.        ,\n",
       "              96416.24235226,  96416.24235226, 100000.        ,\n",
       "              96416.24235226,  96416.24235226, 100000.        ,\n",
       "             100000.        , 100000.        , 100000.        ,\n",
       "             100000.        , 100000.        , 100000.        ,\n",
       "             100000.        ,  96416.24235226,  96416.24235226,\n",
       "              96416.24235226,  96416.24235226,  96416.24235226,\n",
       "             100000.        ,  96416.24235226, 100000.        ,\n",
       "              96416.24235226, 100000.        , 100000.        ,\n",
       "              96416.24235226, 100000.        , 100000.        ,\n",
       "              96416.24235226,  96416.24235226,  96416.24235226,\n",
       "              96416.24235226,  96416.24235226,  96416.24235226,\n",
       "              96416.24235226, 100000.        ,  96416.24235226,\n",
       "              96416.24235226,  96416.24235226,  96416.24235226,\n",
       "             100000.        ,  96416.24235226,  96416.24235226,\n",
       "              96416.24235226, 100000.        ,  96416.24235226,\n",
       "              96416.24235226,  96416.24235226, 100000.        ,\n",
       "              96416.24235226, 100000.        ,  96416.24235226,\n",
       "             100000.        , 100000.        ,  96416.24235226,\n",
       "             100000.        ,  96416.24235226, 100000.        ,\n",
       "              96416.24235226,  96416.24235226, 100000.        ,\n",
       "              96416.24235226, 100000.        ,  96416.24235226,\n",
       "              96416.24235226, 100000.        , 100000.        ,\n",
       "              96416.24235226, 100000.        , 100000.        ,\n",
       "              96416.24235226,  96416.24235226, 100000.        ,\n",
       "             100000.        , 100000.        ,  96416.24235226,\n",
       "             100000.        , 100000.        , 100000.        ,\n",
       "             100000.        ,  96416.24235226,  96416.24235226,\n",
       "             100000.        ,  96416.24235226, 100000.        ,\n",
       "             100000.        ,  96416.24235226,  96416.24235226,\n",
       "              96416.24235226, 100000.        ,  96416.24235226,\n",
       "              96416.24235226, 100000.        , 100000.        ,\n",
       "             100000.        , 100000.        ,  96416.24235226,\n",
       "              96416.24235226,  96416.24235226, 100000.        ,\n",
       "              96416.24235226, 100000.        ,  96416.24235226,\n",
       "             100000.        , 100000.        , 100000.        ,\n",
       "              96416.24235226,  96416.24235226,  96416.24235226,\n",
       "             100000.        ,  96416.24235226,  96416.24235226,\n",
       "             100000.        , 100000.        , 100000.        ,\n",
       "             100000.        ,  96416.24235226,  96416.24235226,\n",
       "              96416.24235226, 100000.        , 100000.        ,\n",
       "              96416.24235226,  96416.24235226,  96416.24235226,\n",
       "              96416.24235226, 100000.        , 100000.        ,\n",
       "              96416.24235226,  96416.24235226,  96416.24235226,\n",
       "              96416.24235226, 100000.        , 100000.        ,\n",
       "             100000.        , 100000.        ,  96416.24235226,\n",
       "              96416.24235226], dtype=float64)"
      ]
     },
     "execution_count": 553,
     "metadata": {},
     "output_type": "execute_result"
    }
   ],
   "source": [
    "compute_lmbda_indefinite_hess(D_diag, sig, 1e5)"
   ]
  },
  {
   "cell_type": "code",
   "execution_count": 554,
   "metadata": {},
   "outputs": [
    {
     "data": {
      "text/plain": [
       "DeviceArray(0.00018813, dtype=float64)"
      ]
     },
     "execution_count": 554,
     "metadata": {},
     "output_type": "execute_result"
    }
   ],
   "source": [
    "fun(compute_lmbda_indefinite_hess(D_diag, sig, 1e5))"
   ]
  },
  {
   "cell_type": "code",
   "execution_count": 504,
   "metadata": {},
   "outputs": [
    {
     "data": {
      "image/png": "[encoded data removed]",
      "text/plain": [
       "<Figure size 432x288 with 1 Axes>"
      ]
     },
     "metadata": {
      "needs_background": "light"
     },
     "output_type": "display_data"
    }
   ],
   "source": [
    "res_f = []\n",
    "for l_max in jnp.linspace(1, 1e5, 100):\n",
    "    res_f.append(fun(compute_lmbda_indefinite_hess(D_diag, sig, l_max)))\n",
    "    \n",
    "plt.plot(jnp.linspace(1, 1e5, 100), res_f)\n",
    "plt.yscale(\"log\")"
   ]
  },
  {
   "cell_type": "code",
   "execution_count": 428,
   "metadata": {},
   "outputs": [
    {
     "data": {
      "text/plain": [
       "DeviceArray([4.23276493e-03, 4.23699641e-03, 4.24124061e-03,\n",
       "             4.24549758e-03, 4.24976740e-03, 4.25405013e-03,\n",
       "             4.25834584e-03, 4.26265458e-03, 4.26697643e-03,\n",
       "             4.27131145e-03, 4.27565971e-03, 4.28002127e-03,\n",
       "             4.28439622e-03, 4.28878460e-03, 4.29318650e-03,\n",
       "             4.29760198e-03, 4.30203111e-03, 4.30647396e-03,\n",
       "             4.31093061e-03, 4.31540112e-03, 4.31988557e-03,\n",
       "             4.32438403e-03, 4.32889657e-03, 4.33342327e-03,\n",
       "             4.33796420e-03, 4.34251943e-03, 4.34708904e-03,\n",
       "             4.35167311e-03, 4.35627171e-03, 4.36088492e-03,\n",
       "             4.36551282e-03, 4.37015548e-03, 4.37481299e-03,\n",
       "             4.37948542e-03, 4.38417286e-03, 4.38887537e-03,\n",
       "             4.39359305e-03, 4.39832598e-03, 4.40307424e-03,\n",
       "             4.40783790e-03, 4.41261706e-03, 4.41741181e-03,\n",
       "             4.42222221e-03, 4.42704836e-03, 4.43189035e-03,\n",
       "             4.43674827e-03, 4.44162219e-03, 4.44651221e-03,\n",
       "             4.45141841e-03, 4.45634090e-03, 4.46127975e-03,\n",
       "             4.46623505e-03, 4.47120691e-03, 4.47619540e-03,\n",
       "             4.48120063e-03, 4.48622269e-03, 4.49126167e-03,\n",
       "             4.49631767e-03, 4.50139078e-03, 4.50648111e-03,\n",
       "             4.51158874e-03, 4.51671378e-03, 4.52185632e-03,\n",
       "             4.52701647e-03, 4.53219432e-03, 4.53738998e-03,\n",
       "             4.54260356e-03, 4.54783514e-03, 4.55308484e-03,\n",
       "             4.55835277e-03, 4.56363902e-03, 4.56894370e-03,\n",
       "             4.57426693e-03, 4.57960880e-03, 4.58496944e-03,\n",
       "             4.59034894e-03, 4.59574742e-03, 4.60116500e-03,\n",
       "             4.60660178e-03, 4.61205787e-03, 4.61753340e-03,\n",
       "             4.62302848e-03, 4.62854322e-03, 4.63407775e-03,\n",
       "             4.63963218e-03, 4.64520662e-03, 4.65080121e-03,\n",
       "             4.65641606e-03, 4.66205130e-03, 4.66770705e-03,\n",
       "             4.67338343e-03, 4.67908057e-03, 4.68479859e-03,\n",
       "             4.69053763e-03, 4.69629782e-03, 4.70207927e-03,\n",
       "             4.70788213e-03, 4.71370653e-03, 4.71955260e-03,\n",
       "             4.72542048e-03, 4.73131030e-03, 4.73722219e-03,\n",
       "             4.74315630e-03, 4.74911277e-03, 4.75509173e-03,\n",
       "             4.76109334e-03, 4.76711772e-03, 4.77316504e-03,\n",
       "             4.77923542e-03, 4.78532903e-03, 4.79144600e-03,\n",
       "             4.79758649e-03, 4.80375065e-03, 4.80993863e-03,\n",
       "             4.81615058e-03, 4.82238667e-03, 4.82864704e-03,\n",
       "             4.83493186e-03, 4.84124128e-03, 4.84757547e-03,\n",
       "             4.85393458e-03, 4.86031879e-03, 4.86672825e-03,\n",
       "             4.87316314e-03, 4.87962362e-03, 4.88610987e-03,\n",
       "             4.89262204e-03, 4.89916033e-03, 4.90572490e-03,\n",
       "             4.91231593e-03, 4.91893359e-03, 4.92557807e-03,\n",
       "             4.93224956e-03, 4.93894822e-03, 4.94567425e-03,\n",
       "             4.95242784e-03, 4.95920916e-03, 4.96601843e-03,\n",
       "             4.97285581e-03, 4.97972152e-03, 4.98661575e-03,\n",
       "             4.99353868e-03, 5.00049053e-03, 5.00747150e-03,\n",
       "             5.01448179e-03, 5.02152160e-03, 5.02859114e-03,\n",
       "             5.03569063e-03, 5.04282027e-03, 5.04998028e-03,\n",
       "             5.05717088e-03, 5.06439227e-03, 5.07164470e-03,\n",
       "             5.07892837e-03, 5.08624351e-03, 5.09359035e-03,\n",
       "             5.10096912e-03, 5.10838005e-03, 5.11582338e-03,\n",
       "             5.12329933e-03, 5.13080816e-03, 5.13835010e-03,\n",
       "             5.14592540e-03, 5.15353430e-03, 5.16117705e-03,\n",
       "             5.16885391e-03, 5.17656512e-03, 5.18431095e-03,\n",
       "             5.19209166e-03, 5.19990750e-03, 5.20775875e-03,\n",
       "             5.21564567e-03, 5.22356853e-03, 5.23152760e-03,\n",
       "             5.23952317e-03, 5.24755551e-03, 5.25562491e-03,\n",
       "             5.26373164e-03, 5.27187601e-03, 5.28005830e-03,\n",
       "             5.28827880e-03, 5.29653782e-03, 5.30483566e-03,\n",
       "             5.31317262e-03, 5.32154901e-03, 5.32996514e-03,\n",
       "             5.33842133e-03, 5.34691789e-03, 5.35545516e-03,\n",
       "             5.36403345e-03, 5.37265309e-03, 5.38131442e-03,\n",
       "             5.39001778e-03, 5.39876350e-03, 5.40755193e-03,\n",
       "             5.41638342e-03, 5.42525832e-03, 5.43417699e-03,\n",
       "             5.44313980e-03, 5.45214709e-03, 5.46119925e-03,\n",
       "             5.47029665e-03, 5.47943967e-03, 5.48862868e-03,\n",
       "             5.49786408e-03, 5.50714625e-03, 5.51647560e-03,\n",
       "             5.52585252e-03, 5.53527743e-03, 5.54475072e-03,\n",
       "             5.55427282e-03, 5.56384415e-03, 5.57346512e-03,\n",
       "             5.58313618e-03, 5.59285776e-03, 5.60263030e-03,\n",
       "             5.61245425e-03, 5.62233006e-03, 5.63225818e-03,\n",
       "             5.64223909e-03, 5.65227324e-03, 5.66236112e-03,\n",
       "             5.67250321e-03, 5.68269999e-03, 5.69295196e-03,\n",
       "             5.70325961e-03, 5.71362346e-03, 5.72404401e-03,\n",
       "             5.73452178e-03, 5.74505731e-03, 5.75565112e-03,\n",
       "             5.76630374e-03, 5.77701574e-03, 5.78778766e-03,\n",
       "             5.79862006e-03, 5.80951351e-03, 5.82046859e-03,\n",
       "             5.83148587e-03, 5.84256596e-03, 5.85370944e-03,\n",
       "             5.86491693e-03, 5.87618904e-03, 5.88752640e-03,\n",
       "             5.89892963e-03, 5.91039938e-03, 5.92193629e-03,\n",
       "             5.93354103e-03, 5.94521426e-03, 5.95695665e-03,\n",
       "             5.96876890e-03, 5.98065170e-03, 5.99260575e-03,\n",
       "             6.00463177e-03, 6.01673049e-03, 6.02890263e-03,\n",
       "             6.04114895e-03, 6.05347019e-03, 6.06586714e-03,\n",
       "             6.07834057e-03, 6.09089125e-03, 6.10352001e-03,\n",
       "             6.11622765e-03, 6.12901499e-03, 6.14188287e-03,\n",
       "             6.15483215e-03, 6.16786367e-03, 6.18097832e-03,\n",
       "             6.19417699e-03, 6.20746057e-03, 6.22082998e-03,\n",
       "             6.23428614e-03, 6.24783001e-03, 6.26146253e-03,\n",
       "             6.27518469e-03, 6.28899745e-03, 6.30290183e-03,\n",
       "             6.31689885e-03, 6.33098953e-03, 6.34517493e-03,\n",
       "             6.35945611e-03, 6.37383416e-03, 6.38831017e-03,\n",
       "             6.40288526e-03, 6.41756057e-03, 6.43233725e-03,\n",
       "             6.44721647e-03, 6.46219943e-03, 6.47728734e-03,\n",
       "             6.49248143e-03, 6.50778294e-03, 6.52319315e-03,\n",
       "             6.53871336e-03, 6.55434488e-03, 6.57008904e-03,\n",
       "             6.58594720e-03, 6.60192076e-03, 6.61801110e-03,\n",
       "             6.63421967e-03, 6.65054792e-03, 6.66699733e-03,\n",
       "             6.68356940e-03, 6.70026567e-03, 6.71708769e-03,\n",
       "             6.73403706e-03, 6.75111538e-03, 6.76832430e-03,\n",
       "             6.78566550e-03, 6.80314067e-03, 6.82075156e-03,\n",
       "             6.83849992e-03, 6.85638756e-03, 6.87441630e-03,\n",
       "             6.89258801e-03, 6.91090459e-03, 6.92936798e-03,\n",
       "             6.94798015e-03, 6.96674310e-03, 6.98565889e-03,\n",
       "             7.00472959e-03, 7.02395734e-03, 7.04334430e-03,\n",
       "             7.06289269e-03, 7.08260475e-03, 7.10248278e-03,\n",
       "             7.12252913e-03, 7.14274617e-03, 7.16313636e-03,\n",
       "             7.18370218e-03, 7.20444615e-03, 7.22537087e-03,\n",
       "             7.24647898e-03, 7.26777317e-03, 7.28925619e-03,\n",
       "             7.31093086e-03, 7.33280003e-03, 7.35486663e-03,\n",
       "             7.37713366e-03, 7.39960416e-03, 7.42228125e-03,\n",
       "             7.44516812e-03, 7.46826802e-03, 7.49158427e-03,\n",
       "             7.51512029e-03, 7.53887953e-03, 7.56286555e-03,\n",
       "             7.58708199e-03, 7.61153254e-03, 7.63622102e-03,\n",
       "             7.66115131e-03, 7.68632737e-03, 7.71175328e-03,\n",
       "             7.73743319e-03, 7.76337136e-03, 7.78957214e-03,\n",
       "             7.81604001e-03, 7.84277953e-03, 7.86979537e-03,\n",
       "             7.89709234e-03, 7.92467533e-03, 7.95254938e-03,\n",
       "             7.98071965e-03, 8.00919142e-03, 8.03797010e-03,\n",
       "             8.06706125e-03, 8.09647057e-03, 8.12620389e-03,\n",
       "             8.15626722e-03, 8.18666670e-03, 8.21740863e-03,\n",
       "             8.24849951e-03, 8.27994598e-03, 8.31175488e-03,\n",
       "             8.34393321e-03, 8.37648819e-03, 8.40942721e-03,\n",
       "             8.44275790e-03, 8.47648808e-03, 8.51062578e-03,\n",
       "             8.54517929e-03, 8.58015711e-03, 8.61556800e-03,\n",
       "             8.65142097e-03, 8.68772529e-03, 8.72449052e-03,\n",
       "             8.76172649e-03, 8.79944334e-03, 8.83765150e-03,\n",
       "             8.87636173e-03, 8.91558513e-03, 8.95533313e-03,\n",
       "             8.99561754e-03, 9.03645053e-03, 9.07784467e-03,\n",
       "             9.11981292e-03, 9.16236868e-03, 9.20552579e-03,\n",
       "             9.24929855e-03, 9.29370173e-03, 9.33875061e-03,\n",
       "             9.38446100e-03, 9.43084924e-03, 9.47793225e-03,\n",
       "             9.52572756e-03, 9.57425331e-03, 9.62352829e-03,\n",
       "             9.67357198e-03, 9.72440458e-03, 9.77604705e-03,\n",
       "             9.82852111e-03, 9.88184932e-03, 9.93605511e-03,\n",
       "             9.99116283e-03, 1.00471978e-02, 1.01041862e-02,\n",
       "             1.01621555e-02, 1.02211341e-02, 1.02811517e-02,\n",
       "             1.03422391e-02, 1.04044285e-02, 1.04677534e-02,\n",
       "             1.05322488e-02, 1.05979512e-02, 1.06648988e-02,\n",
       "             1.07331313e-02, 1.08026905e-02, 1.08736198e-02,\n",
       "             1.09459649e-02, 1.10197734e-02, 1.10950955e-02,\n",
       "             1.11719834e-02, 1.12504924e-02, 1.13306800e-02,\n",
       "             1.14126071e-02, 1.14963374e-02, 1.15819381e-02,\n",
       "             1.16694798e-02, 1.17590370e-02, 1.18506884e-02,\n",
       "             1.19445167e-02, 1.20406095e-02, 1.21390595e-02,\n",
       "             1.22399646e-02, 1.23434286e-02, 1.24495614e-02,\n",
       "             1.25584799e-02, 1.26703081e-02, 1.27851778e-02,\n",
       "             1.29032295e-02, 1.30246128e-02, 1.31494875e-02,\n",
       "             1.32780243e-02, 1.34104056e-02, 1.35468271e-02,\n",
       "             1.36874985e-02, 1.38326451e-02, 1.39825094e-02,\n",
       "             1.41373526e-02, 1.42974567e-02, 1.44631265e-02,\n",
       "             1.46346921e-02, 1.48125116e-02, 1.49969746e-02,\n",
       "             1.51885053e-02, 1.53875668e-02, 1.55946660e-02,\n",
       "             1.58103587e-02, 1.60352562e-02, 1.62700324e-02,\n",
       "             1.65154323e-02, 1.67722821e-02, 1.70415008e-02,\n",
       "             1.73241141e-02, 1.76212710e-02, 1.79342630e-02,\n",
       "             1.82645486e-02, 1.86137813e-02, 1.89838447e-02,\n",
       "             1.93768956e-02, 1.97954169e-02, 2.02422838e-02,\n",
       "             2.07208477e-02, 2.12350421e-02, 2.17895198e-02,\n",
       "             2.23898313e-02, 2.30426601e-02, 2.37561392e-02,\n",
       "             2.45402815e-02, 2.54075784e-02, 2.63738485e-02,\n",
       "             2.74594720e-02, 2.86912334e-02, 3.01051662e-02,\n",
       "             3.17511105e-02, 3.37003555e-02, 3.60591828e-02,\n",
       "             3.89945794e-02, 4.27875947e-02, 4.79580954e-02,\n",
       "             5.56107308e-02, 6.86919162e-02, 9.97514330e-02,\n",
       "             7.22855477e+03], dtype=float64)"
      ]
     },
     "execution_count": 428,
     "metadata": {},
     "output_type": "execute_result"
    }
   ],
   "source": [
    "lambda_coeff_zero(jnp.abs(D_diag), sig)"
   ]
  },
  {
   "cell_type": "code",
   "execution_count": 420,
   "metadata": {},
   "outputs": [
    {
     "data": {
      "text/plain": [
       "DeviceArray(5011.85417274, dtype=float64)"
      ]
     },
     "execution_count": 420,
     "metadata": {},
     "output_type": "execute_result"
    }
   ],
   "source": [
    "fun(compute_lmbda_indefinite_hess(D_diag, sig, l_max))"
   ]
  },
  {
   "cell_type": "code",
   "execution_count": 400,
   "metadata": {},
   "outputs": [
    {
     "data": {
      "text/plain": [
       "DeviceArray(3.58476061, dtype=float64)"
      ]
     },
     "execution_count": 400,
     "metadata": {},
     "output_type": "execute_result"
    }
   ],
   "source": [
    "fun(jnp.array([1.56362948e-02, 1.80554695e-02, 2.21148112e-02, 3.12795882e-02,\n",
    "       2.44997180e+02]))"
   ]
  },
  {
   "cell_type": "code",
   "execution_count": 353,
   "metadata": {},
   "outputs": [
    {
     "data": {
      "text/plain": [
       "6.874928460915464"
      ]
     },
     "execution_count": 353,
     "metadata": {},
     "output_type": "execute_result"
    }
   ],
   "source": [
    "1/0.38138702**2"
   ]
  },
  {
   "cell_type": "code",
   "execution_count": 411,
   "metadata": {},
   "outputs": [
    {
     "data": {
      "text/plain": [
       "DeviceArray(-55.50487435, dtype=float64)"
      ]
     },
     "execution_count": 411,
     "metadata": {},
     "output_type": "execute_result"
    }
   ],
   "source": [
    "D_diag @ res[\"x\"] / dim\n"
   ]
  },
  {
   "cell_type": "code",
   "execution_count": 55,
   "metadata": {},
   "outputs": [],
   "source": [
    "def lambda_coeff_zero(D_diag, sig):\n",
    "    dim = len(D_diag)\n",
    "    D_diag = jnp.abs(D_diag)\n",
    "    D_min = jnp.min(D_diag)\n",
    "    D_sum = jnp.sum(jnp.sqrt(D_diag)) - jnp.sqrt(D_min)\n",
    "    numerator = 2 * (1 + dim) * D_min * sig**2 + D_sum**2 * sig**2 + jnp.sqrt(D_sum**2 * (8 * (1 + dim) * D_min + D_sum**2) * sig**4)\n",
    "    \n",
    "    a = jnp.sqrt(2 * numerator/(dim * D_min))\n",
    "    l = (2 * (1 + dim) * D_min * sig**2 + numerator)/(D_min**2 * a)\n",
    "\n",
    "    lmbdas = [(sig * jnp.sqrt(2*l/(D_diag[i] * a))) for i in range(len(D_diag))]\n",
    "    lmbdas[jnp.argmin(jnp.abs(D_diag))] = l\n",
    "    \n",
    "    return jnp.array(lmbdas)"
   ]
  },
  {
   "cell_type": "code",
   "execution_count": 56,
   "metadata": {},
   "outputs": [],
   "source": [
    "def lambda_coeff_zero_set_max_lambda(D_diag, l_max, sig):\n",
    "    dim = len(D_diag)\n",
    "    D_diag = jnp.abs(D_diag)\n",
    "    D_min = jnp.min(D_diag)\n",
    "    D_sum = jnp.sum(jnp.sqrt(D_diag)) - jnp.sqrt(D_min)\n",
    "\n",
    "    sqrt_term = 3 * jnp.sqrt(3 * dim) * jnp.sqrt(27 * dim * D_sum**4 * l_max**2 * sig**4 - 2 * D_min**3 * D_sum**2 * l_max**4 * sig**2)\n",
    "    cbrt_term = jnp.cbrt(sqrt_term + 27 * dim * D_sum**2 * l_max * sig**2 - D_min**3 * l_max**3)/dim\n",
    "\n",
    "    a = (dim * cbrt_term + D_min * l_max)**2 / (3 * dim**2 * cbrt_term)\n",
    "    \n",
    "    lmbdas = []\n",
    "    for i in range(len(D_diag)):\n",
    "        if D_diag[i] != 0:\n",
    "            lmbdas.append(min(sig * jnp.sqrt(2*l_max/(D_diag[i] * a)), l_max))\n",
    "        else:\n",
    "            lmbdas.append(l_max)\n",
    "        \n",
    "    lmbdas[jnp.argmin(D_diag)] = l_max\n",
    "    \n",
    "    return jnp.array(lmbdas)"
   ]
  },
  {
   "cell_type": "code",
   "execution_count": 72,
   "metadata": {},
   "outputs": [],
   "source": [
    "def new_lambda_coeff_zero_set_max_lambda(D_diag, sig, l_max):\n",
    "\n",
    "\n",
    "    dim = len(D_diag)\n",
    "    \n",
    "    bool_filter = np.zeros(dim) == 0\n",
    "    \n",
    "    lmbda = lambda_coeff_zero(D_diag, sig)\n",
    "    if (l_max is None) or all(lmbda <= l_max):\n",
    "        return lmbda \n",
    "    \n",
    "    bool_filter[np.argmax(lmbda)] = 0\n",
    "    \n",
    "    def helper(k, c):\n",
    "        cbrt_term = jnp.cbrt(27 * c**2 - 2 * k**3 + 3 * jnp.sqrt(81*c**4 - 12 * c**2 * k**3))\n",
    "        a = (1/3. * (2*k + jnp.cbrt(2) * k**2 / cbrt_term + cbrt_term/jnp.cbrt(2)))\n",
    "        return a\n",
    "    \n",
    "    while True:\n",
    "        k = 1/dim * jnp.sum(D_diag[~bool_filter]) * l_max\n",
    "        c = 1/dim * jnp.sqrt(2 * l_max) * sig * jnp.sum(jnp.sqrt(D_diag[bool_filter])) \n",
    "        a = helper(k, c)\n",
    "        lmbda = np.ones(dim) * float(l_max) \n",
    "        lmbda[bool_filter] = sig * jnp.sqrt(2 * l_max / (a * D_diag[bool_filter]))\n",
    "        print(lmbda)\n",
    "        print(l_max)\n",
    "        print()\n",
    "        if any(lmbda > l_max):\n",
    "            bool_filter[np.argmax(lmbda)] = 0\n",
    "        else:\n",
    "            break\n",
    "        \n",
    "    \n",
    "    return jnp.array(lmbda)\n",
    "    "
   ]
  },
  {
   "cell_type": "code",
   "execution_count": 29,
   "metadata": {},
   "outputs": [
    {
     "data": {
      "text/plain": [
       "DeviceArray([1.        , 1.        , 1.        , 0.87229565, 0.59428811,\n",
       "             0.40488377, 0.2758441 , 0.1879304 , 0.12803549, 0.08722956],            dtype=float64)"
      ]
     },
     "execution_count": 29,
     "metadata": {},
     "output_type": "execute_result"
    }
   ],
   "source": [
    "new_lambda_coeff_zero_set_max_lambda(D_diag, sig, l_max)"
   ]
  },
  {
   "cell_type": "code",
   "execution_count": 67,
   "metadata": {},
   "outputs": [],
   "source": [
    "D_diag = jnp.linspace(-4, 20, 4)\n",
    "l_max = 1\n",
    "sig = 20\n",
    "dim = len(D_diag)\n",
    "l = loss_getter(dim, jnp.diag(D_diag), sig)"
   ]
  },
  {
   "cell_type": "code",
   "execution_count": 55,
   "metadata": {},
   "outputs": [],
   "source": [
    "import time"
   ]
  },
  {
   "cell_type": "code",
   "execution_count": 56,
   "metadata": {},
   "outputs": [
    {
     "name": "stdout",
     "output_type": "stream",
     "text": [
      "0.3471097946166992\n",
      "0.21743297576904297\n"
     ]
    }
   ],
   "source": [
    "start_time = time.time()\n",
    "lambda1 = new_lambda_coeff_zero_set_max_lambda(D_diag, l_max, sig)\n",
    "print(time.time() - start_time)\n",
    "start_time = time.time()\n",
    "lambda2 = lambda_coeff_zero_set_max_lambda(D_diag, l_max, sig)\n",
    "print(time.time() - start_time)"
   ]
  },
  {
   "cell_type": "code",
   "execution_count": 50,
   "metadata": {},
   "outputs": [
    {
     "data": {
      "text/plain": [
       "DeviceArray(903.07398274, dtype=float64)"
      ]
     },
     "execution_count": 50,
     "metadata": {},
     "output_type": "execute_result"
    }
   ],
   "source": [
    "lmbda_loss(lambda1, D_diag, sig, 0)"
   ]
  },
  {
   "cell_type": "code",
   "execution_count": 51,
   "metadata": {},
   "outputs": [
    {
     "data": {
      "text/plain": [
       "DeviceArray(903.08549946, dtype=float64)"
      ]
     },
     "execution_count": 51,
     "metadata": {},
     "output_type": "execute_result"
    }
   ],
   "source": [
    "lmbda_loss(lambda2, D_diag, sig, 0)"
   ]
  },
  {
   "cell_type": "code",
   "execution_count": 76,
   "metadata": {},
   "outputs": [],
   "source": [
    "D_diag = jnp.linspace(1, 1e5, 10)"
   ]
  },
  {
   "cell_type": "code",
   "execution_count": 77,
   "metadata": {},
   "outputs": [
    {
     "name": "stdout",
     "output_type": "stream",
     "text": [
      "[2.00000000e+01 2.38339395e-02 1.68535194e-02 1.37609442e-02\n",
      " 1.19173720e-02 1.06592455e-02 9.73052994e-03 9.00872986e-03\n",
      " 8.42690192e-03 7.94496429e-03]\n",
      "20\n",
      "\n"
     ]
    },
    {
     "data": {
      "text/plain": [
       "DeviceArray([4.47213595, 0.15438245, 0.12982111, 0.11730705, 0.10916672,\n",
       "             0.10324362, 0.09864345, 0.09491433, 0.09179816, 0.08913453],            dtype=float64)"
      ]
     },
     "execution_count": 77,
     "metadata": {},
     "output_type": "execute_result"
    }
   ],
   "source": [
    "new_lambda_coeff_zero_set_max_lambda(D_diag, 3**2, sig)**0.5"
   ]
  },
  {
   "cell_type": "code",
   "execution_count": 80,
   "metadata": {},
   "outputs": [
    {
     "name": "stdout",
     "output_type": "stream",
     "text": [
      "[2.00000000e+01 2.11273369e-02 1.49396193e-02 1.21982396e-02\n",
      " 1.05640250e-02 9.44877245e-03 8.62552262e-03 7.98569077e-03\n",
      " 7.46993572e-03 7.04272734e-03]\n",
      "20\n",
      "\n"
     ]
    },
    {
     "data": {
      "text/plain": [
       "DeviceArray([4.47213595, 0.14535246, 0.12222774, 0.11044564, 0.10278144,\n",
       "             0.0972048 , 0.09287369, 0.08936269, 0.08642879, 0.08392096],            dtype=float64)"
      ]
     },
     "execution_count": 80,
     "metadata": {},
     "output_type": "execute_result"
    }
   ],
   "source": [
    "D_diag = np.linspace(1, 1e5, 10)\n",
    "D_diag[0] = 100\n",
    "new_lambda_coeff_zero_set_max_lambda(D_diag, 3**2, sig)**0.5"
   ]
  },
  {
   "cell_type": "code",
   "execution_count": 47,
   "metadata": {},
   "outputs": [],
   "source": [
    "S_curr = create_approx_S(jnp.diag(D_diag), sig, 100)"
   ]
  },
  {
   "cell_type": "code",
   "execution_count": 48,
   "metadata": {},
   "outputs": [
    {
     "data": {
      "text/plain": [
       "DeviceArray(0.00296822, dtype=float64)"
      ]
     },
     "execution_count": 48,
     "metadata": {},
     "output_type": "execute_result"
    }
   ],
   "source": [
    "l(S_curr.T.flatten())"
   ]
  },
  {
   "cell_type": "code",
   "execution_count": 50,
   "metadata": {},
   "outputs": [
    {
     "data": {
      "text/plain": [
       "DeviceArray([[59.31928888, 45.41230292, 49.87623934, 43.94662056],\n",
       "             [45.41230292, 59.31928888, 43.94662056, 49.87623934],\n",
       "             [49.87623934, 43.94662056, 59.31928888, 45.41230292],\n",
       "             [43.94662056, 49.87623934, 45.41230292, 59.31928888]],            dtype=float64)"
      ]
     },
     "execution_count": 50,
     "metadata": {},
     "output_type": "execute_result"
    }
   ],
   "source": [
    "jnp.sqrt(S_curr.T @ S_curr)"
   ]
  },
  {
   "cell_type": "code",
   "execution_count": null,
   "metadata": {},
   "outputs": [],
   "source": []
  }
 ],
 "metadata": {
  "kernelspec": {
   "display_name": "Python (simplex_grad)",
   "language": "python",
   "name": "simplex_grad"
  },
  "language_info": {
   "codemirror_mode": {
    "name": "ipython",
    "version": 3
   },
   "file_extension": ".py",
   "mimetype": "text/x-python",
   "name": "python",
   "nbconvert_exporter": "python",
   "pygments_lexer": "ipython3",
   "version": "3.10.0"
  }
 },
 "nbformat": 4,
 "nbformat_minor": 2
}
