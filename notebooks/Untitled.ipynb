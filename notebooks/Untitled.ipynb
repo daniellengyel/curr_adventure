{
 "cells": [
  {
   "cell_type": "code",
   "execution_count": 1,
   "metadata": {},
   "outputs": [],
   "source": [
    "import jax.numpy as jnp\n",
    "import jax.random as jrandom\n",
    "\n",
    "import matplotlib.pyplot as plt\n",
    "import pandas as pd\n",
    "from jax import jit, grad, jacfwd, jacrev\n",
    "\n",
    "\n",
    "\n",
    "from scipy.stats import linregress\n",
    "\n",
    "from tqdm import tqdm\n",
    "import pickle\n",
    "\n",
    "import numpy as np\n",
    "\n",
    "from jax.config import config\n",
    "config.update(\"jax_enable_x64\", True)\n",
    "\n",
    "import matplotlib.pyplot as plt"
   ]
  },
  {
   "cell_type": "markdown",
   "metadata": {},
   "source": [
    "## Here we are going to compute the derivatives of each term"
   ]
  },
  {
   "cell_type": "code",
   "execution_count": 191,
   "metadata": {},
   "outputs": [],
   "source": [
    "dim = 3\n",
    "N = dim\n",
    "\n",
    "jrandom_key = jrandom.PRNGKey(1)\n",
    "jrandom_key, subkey = jrandom.split(jrandom_key)\n",
    "U = jrandom.normal(subkey, shape=(dim, N))\n",
    "U /= jnp.linalg.norm(U, axis=0)\n",
    "D_half = jnp.diag(jnp.linspace(1, 10, dim))\n",
    "D = D_half**2\n",
    "a = jnp.linspace(5, 15, dim)\n",
    "A = jnp.diag(a)\n",
    "U_inv = jnp.linalg.inv(U)\n",
    "U_inv_T = U_inv.T\n",
    "A_inv = jnp.diag(1/a)"
   ]
  },
  {
   "cell_type": "code",
   "execution_count": 194,
   "metadata": {},
   "outputs": [
    {
     "name": "stdout",
     "output_type": "stream",
     "text": [
      "Exact g [[12570.47427468     0.             0.        ]\n",
      " [    0.         -6265.11970908     0.        ]\n",
      " [    0.             0.          7523.56219726]]\n",
      "Analytic g [[12570.47427468 12570.47427468 12570.47427468]\n",
      " [-6265.11970908 -6265.11970908 -6265.11970908]\n",
      " [ 7523.56219726  7523.56219726  7523.56219726]]\n"
     ]
    }
   ],
   "source": [
    "first_A_term = lambda A: jnp.linalg.norm(D_half @ U_inv_T @ jnp.diag(A.reshape(dim, dim)))**2\n",
    "g_first_A_term = lambda A: grad(first_A_term)(A).reshape(dim, N)\n",
    "\n",
    "analytic_g_first_A = lambda A: 2 * U_inv @ D @ U_inv_T @ jnp.outer(a, jnp.ones(dim))\n",
    "\n",
    "print(\"Exact g\", g_first_A_term(A.flatten()))\n",
    "print(\"Analytic g\", analytic_g_first_A(A))"
   ]
  },
  {
   "cell_type": "code",
   "execution_count": 185,
   "metadata": {},
   "outputs": [
    {
     "name": "stdout",
     "output_type": "stream",
     "text": [
      "Exact g [[-12.11622848   3.57635372  -2.47799392]\n",
      " [  1.78817686  -0.69122928   0.38697646]\n",
      " [ -0.82599797   0.25798431  -0.17149571]]\n",
      "Analytic g [[-12.11622848   0.89408843  -0.27533266]\n",
      " [  7.15270744  -0.69122928   0.17198954]\n",
      " [ -7.43398175   0.58046469  -0.17149571]]\n"
     ]
    }
   ],
   "source": [
    "second_A_term = lambda A: jnp.linalg.norm(jnp.linalg.inv(A.reshape(dim, dim)) @ U_inv @ D_half, \"fro\")**2\n",
    "g_second_A_term = lambda A: grad(second_A_term)(A).reshape(dim, N)\n",
    "\n",
    "analytic_g_second_A = lambda A_inv: -2 *  U_inv @ D @ U_inv.T @ A_inv**3\n",
    "\n",
    "print(\"Exact g\", g_second_A_term(A.flatten()))\n",
    "print(\"Analytic g\", analytic_g_second_A(A_inv))"
   ]
  },
  {
   "cell_type": "code",
   "execution_count": 189,
   "metadata": {},
   "outputs": [
    {
     "name": "stdout",
     "output_type": "stream",
     "text": [
      "Exact g [[-11.01786867   0.           0.        ]\n",
      " [  0.           1.48392404   0.        ]\n",
      " [  0.           0.          -0.73950938]]\n",
      "Analytic g [[-11.01786867  -2.75446717  -1.22420763]\n",
      " [  5.93569615   1.48392404   0.65952179]\n",
      " [ -6.65558441  -1.6638961   -0.73950938]]\n"
     ]
    }
   ],
   "source": [
    "third_A_term = lambda A: jnp.linalg.norm(D_half @ U_inv_T @ jnp.diag(jnp.linalg.inv(A.reshape(dim, dim))))**2\n",
    "g_third_A_term = lambda A: grad(third_A_term)(A).reshape(dim, N)\n",
    "\n",
    "analytic_g_third_A = lambda A: - 2 * U_inv @ D @ U_inv_T @ jnp.outer(1/a, 1/a**2) \n",
    "\n",
    "print(\"Exact g\", g_third_A_term(A.flatten()))\n",
    "print(\"Analytic g\", analytic_g_third_A(A_inv))"
   ]
  },
  {
   "cell_type": "code",
   "execution_count": null,
   "metadata": {},
   "outputs": [],
   "source": []
  },
  {
   "cell_type": "code",
   "execution_count": 112,
   "metadata": {},
   "outputs": [
    {
     "name": "stdout",
     "output_type": "stream",
     "text": [
      "Exact g [[-1.00583772e+01 -4.72979961e+03 -2.74042177e+03]\n",
      " [-2.01167544e+01 -9.45959923e+03 -5.48084355e+03]\n",
      " [-3.01751316e+01 -1.41893988e+04 -8.22126532e+03]]\n",
      "Analytic g [[-1.00583772e+01 -4.72979961e+03 -2.74042177e+03]\n",
      " [-2.01167544e+01 -9.45959923e+03 -5.48084355e+03]\n",
      " [-3.01751316e+01 -1.41893988e+04 -8.22126532e+03]]\n"
     ]
    }
   ],
   "source": [
    "first_term = lambda U_inv: jnp.linalg.norm(D_half @ U_inv.reshape(dim, N).T @ a)**2\n",
    "g_first_term = lambda U_inv: grad(first_term)(U_inv).reshape(dim, N)\n",
    "\n",
    "analytic_g_first = lambda U_inv: 2 * np.outer(a, a) @ U_inv.reshape(dim, N) @ D_half**2\n",
    "\n",
    "print(\"Exact g\", g_first_term(U_inv.flatten()))\n",
    "print(\"Analytic g\", analytic_g_first(U_inv.flatten()))\n",
    "\n"
   ]
  },
  {
   "cell_type": "code",
   "execution_count": 121,
   "metadata": {},
   "outputs": [
    {
     "name": "stdout",
     "output_type": "stream",
     "text": [
      "Exact g [[-0.07349626 -0.55062823 -8.24363717]\n",
      " [-0.03919891 -0.14805724 -0.14729715]\n",
      " [ 0.01374052 -0.21602197  0.18656813]]\n",
      "Analytic g [[-0.07349626 -0.55062823 -8.24363717]\n",
      " [-0.03919891 -0.14805724 -0.14729715]\n",
      " [ 0.01374052 -0.21602197  0.18656813]]\n"
     ]
    }
   ],
   "source": [
    "second_term = lambda U_inv: jnp.linalg.norm(A_inv @ U_inv.reshape(dim, dim) @ D_half, \"fro\")**2 \n",
    "g_second_term = lambda U_inv: grad(second_term)(U_inv).reshape(dim, N)\n",
    "\n",
    "analytic_g_second = lambda U_inv: 2 * A_inv**2 @ U_inv.reshape(dim, dim) @ D\n",
    "\n",
    "print(\"Exact g\", g_second_term(U_inv.flatten()))\n",
    "print(\"Analytic g\", analytic_g_second(U_inv.flatten()))"
   ]
  },
  {
   "cell_type": "code",
   "execution_count": 128,
   "metadata": {},
   "outputs": [
    {
     "name": "stdout",
     "output_type": "stream",
     "text": [
      "Exact g [[-0.11173332  0.30075564  1.9740977 ]\n",
      " [ 0.05162012 -0.13894728 -0.91202118]\n",
      " [-0.00499371  0.01344171  0.08822861]]\n",
      "Analytic g [[-0.11173332  0.30075564  1.9740977 ]\n",
      " [ 0.05162012 -0.13894728 -0.91202118]\n",
      " [-0.00499371  0.01344171  0.08822861]]\n"
     ]
    }
   ],
   "source": [
    "e_idx = 0 \n",
    "e_vec = np.zeros(dim)\n",
    "e_vec[e_idx] = 1\n",
    "e_vec = jnp.array(e_vec)\n",
    "constraint_term = lambda U_inv: jnp.linalg.norm(jnp.linalg.inv(U_inv.reshape(dim, dim))[:, e_idx])**2 \n",
    "g_constraint_term = lambda U_inv: grad(constraint_term)(U_inv).reshape(dim, N)\n",
    "\n",
    "analytic_g_constraint = lambda U: - 2 * U.T @ U @ jnp.outer(e_vec, e_vec) @ U.T\n",
    "\n",
    "print(\"Exact g\", g_constraint_term(U_inv.flatten()))\n",
    "print(\"Analytic g\", analytic_g_constraint(U))"
   ]
  },
  {
   "cell_type": "code",
   "execution_count": 119,
   "metadata": {},
   "outputs": [],
   "source": [
    "import numpy as np"
   ]
  },
  {
   "cell_type": "code",
   "execution_count": null,
   "metadata": {},
   "outputs": [],
   "source": [
    "def createS(ts, dim):\n",
    "    S = []\n",
    "    for c in range(dim):\n",
    "        tmp_S = []\n",
    "        for r in range(dim):\n",
    "            curr_term = 1\n",
    "            if len(tmp_S) > 0:\n",
    "                curr_term = tmp_S[-1] / np.cos(ts[c][r-1]) * np.sin(ts[c][r - 1])\n",
    "            if r < dim - 1:\n",
    "                curr_term *= np.cos(ts[c][r])\n",
    "                \n",
    "            tmp_S.append(curr_term)\n",
    "        S.append(tmp_S)\n",
    "    S = np.array(S).T\n",
    "    return S\n",
    "\n",
    "def createPartialS(ts, dim, r_theta, c_theta):\n",
    "    \n",
    "    S = []\n",
    "    for c in range(dim):\n",
    "        tmp_S = []\n",
    "        for r in range(dim):\n",
    "            if c != c_theta:\n",
    "                tmp_S.append(0)\n",
    "                continue\n",
    "                \n",
    "            curr_term = 1\n",
    "            if len(tmp_S) > 0:\n",
    "                if r == r_theta + 1:\n",
    "                    curr_term = - tmp_S[-1] / np.sin(ts[c][r - 1]) * np.cos(ts[c][r - 1])\n",
    "                else:\n",
    "                    curr_term = tmp_S[-1] / np.cos(ts[c][r - 1]) * np.sin(ts[c][r - 1])\n",
    "            if r < dim - 1:\n",
    "                if r == r_theta:\n",
    "                    curr_term *= -np.sin(ts[c][r])\n",
    "                else:\n",
    "                    curr_term *= np.cos(ts[c][r])\n",
    "                \n",
    "            tmp_S.append(curr_term)\n",
    "            \n",
    "        S_to_append = np.zeros(dim)\n",
    "        S_to_append[r_theta:] = tmp_S[r_theta:]\n",
    "        S.append(S_to_append)\n",
    "    S = np.array(S).T\n",
    "    return S"
   ]
  },
  {
   "cell_type": "code",
   "execution_count": null,
   "metadata": {},
   "outputs": [],
   "source": [
    "dim = 5\n",
    "A = np.diag(np.linspace(1, 5, dim))\n",
    "D = np.diag(np.linspace(5, 10, dim))\n",
    "ts = np.random.normal(size=(dim, dim-1))"
   ]
  },
  {
   "cell_type": "code",
   "execution_count": null,
   "metadata": {},
   "outputs": [],
   "source": [
    "print(\"First term\")\n",
    "h = 0.00001\n",
    "first_term = lambda ts: np.linalg.norm(D.dot(np.linalg.inv(createS(ts, dim)).T).dot(np.diag(A)))**2\n",
    "\n",
    "r, c = 1, 1\n",
    "h_ts = ts.copy()\n",
    "h_ts[c][r] += h\n",
    "print(\"FD Estimate\", (first_term(h_ts) - first_term(ts))/h)"
   ]
  },
  {
   "cell_type": "code",
   "execution_count": null,
   "metadata": {},
   "outputs": [],
   "source": [
    "S = createS(ts, dim)\n",
    "S_inv = np.linalg.inv(S)\n",
    "p_S = createPartialS(ts, dim, r, c)\n",
    "-np.trace(2 * ((D**2).dot(S_inv.T).dot(np.outer(np.diag(A), np.diag(A)))).dot(S_inv).dot(p_S).dot(S_inv))"
   ]
  },
  {
   "cell_type": "code",
   "execution_count": null,
   "metadata": {},
   "outputs": [],
   "source": [
    "print(\"Second term\")\n",
    "h = 0.00001\n",
    "second_term = lambda ts: np.linalg.norm(D.dot(np.linalg.inv(createS(ts, dim)).T).dot(1/np.diag(A)))**2\n",
    "\n",
    "r, c = 1, 1\n",
    "h_ts = ts.copy()\n",
    "h_ts[c][r] += h\n",
    "print(\"FD Estimate\", (second_term(h_ts) - second_term(ts))/h)\n",
    "\n",
    "S = createS(ts, dim)\n",
    "S_inv = np.linalg.inv(S)\n",
    "p_S = createPartialS(ts, dim, r, c)\n",
    "print(\"analytic\", -np.trace(2 * ((D**2).dot(S_inv.T).dot(np.outer(1/np.diag(A), 1/np.diag(A)))).dot(S_inv).dot(p_S).dot(S_inv)))"
   ]
  },
  {
   "cell_type": "code",
   "execution_count": null,
   "metadata": {},
   "outputs": [],
   "source": [
    "print(\"Third term\")\n",
    "h = 0.00001\n",
    "third_term = lambda ts: np.linalg.norm(np.linalg.inv(A).dot(np.linalg.inv(createS(ts, dim))).dot(D), \"fro\")**2\n",
    "\n",
    "r, c = 1, 1\n",
    "h_ts = ts.copy()\n",
    "h_ts[c][r] += h\n",
    "print(\"FD Estimate\", (third_term(h_ts) - third_term(ts))/h)\n",
    "\n",
    "S = createS(ts, dim)\n",
    "S_inv = np.linalg.inv(S)\n",
    "p_S = createPartialS(ts, dim, r, c)\n",
    "print(\"analytic\", -np.trace(2 * ((D**2).dot(S_inv.T).dot(np.linalg.inv(A)**2).dot(S_inv).dot(p_S).dot(S_inv))))\n",
    "\n"
   ]
  },
  {
   "cell_type": "code",
   "execution_count": null,
   "metadata": {},
   "outputs": [],
   "source": [
    "f = lambda S: np.linalg.norm(D.dot(S).dot(np.diag(A)))**2\n",
    "\n",
    "r, c = 3, 2\n",
    "S_inv = np.linalg.inv(S)\n",
    "# tmp_S_inv = S_inv.copy()\n",
    "\n",
    "\n",
    "\n",
    "res = np.zeros(shape=(dim, dim))\n",
    "for c in range(dim):\n",
    "    for r in range(dim):\n",
    "        tmp_S_inv = S_inv.copy()\n",
    "        tmp_S_inv[c][r] += h\n",
    "    \n",
    "        res[c][r] = (f(tmp_S_inv.T) - f(S_inv.T))/h\n",
    "res"
   ]
  },
  {
   "cell_type": "code",
   "execution_count": null,
   "metadata": {},
   "outputs": [],
   "source": [
    "(2 * ((D**2).dot(S_inv.T).dot(np.outer(np.diag(A), np.diag(A))))).T"
   ]
  },
  {
   "cell_type": "code",
   "execution_count": null,
   "metadata": {},
   "outputs": [],
   "source": [
    "D = jnp.diag(jnp.array([1, 2]))\n",
    "\n",
    "A = jnp.array([2, 3])\n",
    "\n",
    "def f(X):\n",
    "    X = jnp.linalg.inv(X.reshape(2, 2))\n",
    "\n",
    "    return jnp.linalg.norm(D.dot(X.T.dot(A))) + jnp.linalg.norm(D.dot(X.T.dot(1/A)))\n",
    "\n",
    "gf = grad(f)\n",
    "\n",
    "\n"
   ]
  },
  {
   "cell_type": "code",
   "execution_count": null,
   "metadata": {},
   "outputs": [],
   "source": [
    "t = np.pi/4\n",
    "X = jnp.array([[np.cos(t), np.sin(t)], [-np.sin(t), np.cos(t)]])\n",
    "print(X.T.dot(X))\n",
    "X = X.flatten()\n",
    "\n",
    "gf(X)"
   ]
  },
  {
   "cell_type": "code",
   "execution_count": null,
   "metadata": {},
   "outputs": [],
   "source": [
    "min_val = float(\"inf\")\n",
    "min_S = None\n",
    "for _ in range(1000):\n",
    "    X = np.random.normal(size=(2, 2))\n",
    "    X /= jnp.linalg.norm(X, axis=0)\n",
    "    X = X.flatten()\n",
    "    \n",
    "    curr_val = f(X)\n",
    "    if curr_val < min_val:\n",
    "        min_val = curr_val\n",
    "        min_S = X\n",
    "    "
   ]
  },
  {
   "cell_type": "code",
   "execution_count": null,
   "metadata": {},
   "outputs": [],
   "source": [
    "min_val"
   ]
  },
  {
   "cell_type": "code",
   "execution_count": null,
   "metadata": {},
   "outputs": [],
   "source": [
    "S = min_S.reshape(2, 2)\n",
    "print(S)\n",
    "S.T.dot(S)"
   ]
  },
  {
   "cell_type": "code",
   "execution_count": null,
   "metadata": {},
   "outputs": [],
   "source": [
    "np.linalg.eig(S.T.dot(S))"
   ]
  },
  {
   "cell_type": "code",
   "execution_count": null,
   "metadata": {},
   "outputs": [],
   "source": [
    "S.T.dot(A)"
   ]
  },
  {
   "cell_type": "code",
   "execution_count": null,
   "metadata": {},
   "outputs": [],
   "source": [
    "A"
   ]
  },
  {
   "cell_type": "code",
   "execution_count": null,
   "metadata": {},
   "outputs": [],
   "source": [
    "def createU(dim):\n",
    "    res = [jnp.ones(dim)/jnp.linalg.norm(jnp.ones(dim))]\n",
    "    for i in range(dim-1):\n",
    "        tmp = np.zeros(dim)\n",
    "        tmp[:i+1] = 1\n",
    "        tmp[i + 1] = -(i + 1)\n",
    "        tmp /= np.linalg.norm(tmp)\n",
    "        res.append(tmp)\n",
    "        \n",
    "    return jnp.array(res).T\n",
    "    \n"
   ]
  },
  {
   "cell_type": "code",
   "execution_count": null,
   "metadata": {},
   "outputs": [],
   "source": [
    "dim = 3\n",
    "N = dim\n",
    "D = jnp.diag(jnp.linspace(1, 10, dim))\n",
    "sig = 1\n",
    "\n",
    "l = loss_getter(dim, N, D, sig)\n",
    "g_l = grad(l)"
   ]
  },
  {
   "cell_type": "code",
   "execution_count": null,
   "metadata": {},
   "outputs": [],
   "source": [
    "res = []\n",
    "jrandom_key = jrandom.PRNGKey(0)\n",
    "eps = 1e-4\n",
    "for _ in range(1000):\n",
    "    jrandom_key, subkey = jrandom.split(jrandom_key)\n",
    "    res.append(jnp.linalg.norm(g_l(opt_S.T.flatten() + eps*jrandom.normal(subkey, shape=(9,)))))"
   ]
  },
  {
   "cell_type": "code",
   "execution_count": null,
   "metadata": {},
   "outputs": [],
   "source": [
    "U = createU(dim)\n",
    "S = jnp.linalg.inv(D**(0.5)).dot(U)\n",
    "\n",
    "print(S)\n",
    "for a in jnp.linspace(1, 10, 10):\n",
    "    curr_S = a * S\n",
    "    \n",
    "    print(a)\n",
    "    print(g_l(curr_S.T.flatten()))\n",
    "    print(l(curr_S.T.flatten()))\n",
    "    print()"
   ]
  },
  {
   "cell_type": "code",
   "execution_count": 4,
   "metadata": {},
   "outputs": [],
   "source": [
    "def helper_linesearch(f, g, c1, c2):\n",
    "\n",
    "    def helper(X, search_direction):\n",
    "        f0 = f(X)\n",
    "        f1 = g(X)\n",
    "        dg = jnp.inner(search_direction, f1)\n",
    "\n",
    "        def armijo_rule(alpha):\n",
    "            return f(X + alpha * search_direction) > f0 + c1*alpha*dg\n",
    "        \n",
    "        def armijo_update(alpha):\n",
    "            return c2*alpha\n",
    "            \n",
    "        alpha = 1\n",
    "        while armijo_rule(alpha):\n",
    "            alpha = armijo_update(alpha)\n",
    "\n",
    "\n",
    "        return alpha\n",
    "\n",
    "    return helper\n",
    "\n",
    "def loss_getter(dim, N, H, sig):\n",
    "    def helper(X):\n",
    "    \n",
    "#         S = X.reshape(N, dim).T\n",
    "\n",
    "#         SS = S.dot(S.T)\n",
    "\n",
    "#         SS_inv = jnp.linalg.inv(SS)\n",
    "#         S_sum = jnp.sum(S, axis=1)  \n",
    "\n",
    "#         first_term = 10*S.dot(jnp.diag(S.T.dot(H.dot(S))))\n",
    "#         first_term = jnp.linalg.norm(SS_inv.dot(first_term))**2\n",
    "        \n",
    "#         second_term = 0#*jnp.linalg.norm(SS_inv.dot(S), ord=\"fro\")**2        \n",
    "#         third_term = S_sum.T.dot(SS_inv.dot(SS_inv.dot(S_sum)))  \n",
    "        \n",
    "#         return  + sig**2*(second_term + third_term)\n",
    "\n",
    "        S = X.reshape(N, dim).T\n",
    "        \n",
    "        S_inv = jnp.linalg.inv(S)\n",
    "        \n",
    "        first_term = S_inv.T @ jnp.diag(S.T @ H @ S)\n",
    "        second_term = jnp.linalg.norm(S_inv, ord=\"fro\")**2\n",
    "        third_term = S_inv.T @ jnp.ones(dim)\n",
    "        third_term = jnp.linalg.norm(third_term)**2\n",
    "        \n",
    "        return jnp.linalg.norm(first_term)**2 + sig**2 * (second_term + third_term)\n",
    "\n",
    "    return helper\n",
    "\n",
    "def optimize_uncentered_S(H, sig, max_steps=15, jrandom_key=None, x_curr=None):\n",
    "    \n",
    "    dim = H.shape[0]\n",
    "    N = dim\n",
    "    \n",
    "    H = (H + H.T) / 2. # to combat numerical inaccuracies. \n",
    "    D, U = jnp.linalg.eig(H)\n",
    "    U = jnp.real(U)\n",
    "\n",
    "    # print(\"D\", repr(jnp.real(D)))\n",
    "    D = jnp.diag(D)\n",
    "\n",
    "    if x_curr is None:\n",
    "        if jrandom_key is None:\n",
    "            x_curr = jnp.diag(jnp.sqrt(sig / jnp.abs(jnp.diag(D)))).flatten()\n",
    "            pass\n",
    "        else:\n",
    "            x_curr = jrandom.normal(jrandom_key, shape=(dim * dim,)) * 0.1\n",
    "        \n",
    "    \n",
    "        \n",
    "#     x_curr = jnp.array([ 0.05915076, -0.0340726 ,  0.01818264, -0.31835382,\n",
    "#              -0.05880886, -0.04264622,  0.01758689, -0.35780406,\n",
    "#              -0.00296912,  0.07070069,  0.02147466, -0.25530761,\n",
    "#               0.00104251,  0.00597147, -0.09367059, -0.20932359])\n",
    "    \n",
    "    l = loss_getter(dim, N, D, sig)\n",
    "    g_l = grad(l)\n",
    "    h_l = jacfwd(g_l)\n",
    "    linesearch = helper_linesearch(l, g_l, c1=0.01, c2=0.9)\n",
    "\n",
    "    eps = 1e-20\n",
    "\n",
    "    res = []\n",
    "    res_x = []\n",
    "\n",
    "    for t in tqdm(range(max_steps)):\n",
    "        \n",
    "#         D = jnp.sqrt(jnp.linalg.inv(H))\n",
    "#         tmp = x_curr.reshape(N, dim).T\n",
    "#         tmp = D.dot(tmp\")\n",
    "#         tmp = tmp.dot(jnp.diag(1/jnp.linalg.norm(tmp, axis=0))) * jnp.mean(jnp.linalg.norm(tmp, axis=0))\n",
    "#         tmp = jnp.linalg.inv(D).dot(tmp)\n",
    "#         x_curr = tmp.T.flatten()\n",
    "#         x_curr = np.array(x_curr.reshape(N, dim).T)\n",
    "#         x_curr[0] = np.mean(x_curr[0])\n",
    "#         x_curr = jnp.array(x_curr).T.flatten()\n",
    "        \n",
    "        res.append(l(x_curr))\n",
    "#         res_x.append(U.dot(x_curr.reshape(N, dim).T)) # TURN ON FOR HISTORY \n",
    "\n",
    "        curr_grad = g_l(x_curr)\n",
    "    \n",
    "        # print(curr_grad)\n",
    "        curr_hess = h_l(x_curr)#+ 0.1*jnp.eye(25)\n",
    "        search_direction = -jnp.linalg.inv(curr_hess) @ curr_grad #+ np.random.normal(size=(25))*0.1\n",
    "#         search_direction = -curr_grad + np.random.normal(size=(25))*0.1\n",
    "\n",
    "        if jnp.linalg.norm(curr_grad) < eps:\n",
    "            break    \n",
    "\n",
    "        alpha = linesearch(x_curr, search_direction)\n",
    "\n",
    "        S = x_curr.reshape(N, dim).T\n",
    "\n",
    "        SS = S.dot(S.T)\n",
    "\n",
    "        x_curr += alpha*search_direction \n",
    "    \n",
    "    return U.dot(x_curr.reshape(N, dim).T), res"
   ]
  },
  {
   "cell_type": "code",
   "execution_count": 38,
   "metadata": {},
   "outputs": [],
   "source": [
    "dim = 5\n",
    "N = dim\n",
    "D = jnp.diag(jnp.linspace(1, 1000, dim))\n",
    "# sig = 1\n",
    "# D = jnp.array([[ 6.96867074e+03+0.j,  0.00000000e+00+0.j,  0.00000000e+00+0.j,\n",
    "#                0.00000000e+00+0.j,  0.00000000e+00+0.j],\n",
    "#              [ 0.00000000e+00+0.j, -5.65090364e+03+0.j,  0.00000000e+00+0.j,\n",
    "#                0.00000000e+00+0.j,  0.00000000e+00+0.j],\n",
    "#              [ 0.00000000e+00+0.j,  0.00000000e+00+0.j,  3.30117392e+01+0.j,\n",
    "#                0.00000000e+00+0.j,  0.00000000e+00+0.j],\n",
    "#              [ 0.00000000e+00+0.j,  0.00000000e+00+0.j,  0.00000000e+00+0.j,\n",
    "#                8.67518225e+00+0.j,  0.00000000e+00+0.j],\n",
    "#              [ 0.00000000e+00+0.j,  0.00000000e+00+0.j,  0.00000000e+00+0.j,\n",
    "#                0.00000000e+00+0.j, -3.02376833e+00+0.j]])\n",
    "sig = 1 #0.00016666666666666666\n",
    "\n",
    "l = loss_getter(dim, N, D, sig)\n",
    "g_l = grad(l)"
   ]
  },
  {
   "cell_type": "code",
   "execution_count": 436,
   "metadata": {},
   "outputs": [
    {
     "name": "stderr",
     "output_type": "stream",
     "text": [
      "100%|██████████| 10/10 [00:07<00:00,  1.15it/s]\n"
     ]
    }
   ],
   "source": [
    "jrandom_key = jrandom.PRNGKey(10)\n",
    "jrandom_key, subkey = jrandom.split(jrandom_key)\n",
    "opt_S, l_hist = optimize_uncentered_S(D, sig=sig, max_steps=10, jrandom_key=subkey, x_curr=opt_S.T.flatten())"
   ]
  },
  {
   "cell_type": "code",
   "execution_count": 437,
   "metadata": {},
   "outputs": [
    {
     "data": {
      "text/plain": [
       "[<matplotlib.lines.Line2D at 0x7fd5a43b44e0>]"
      ]
     },
     "execution_count": 437,
     "metadata": {},
     "output_type": "execute_result"
    },
    {
     "data": {
      "image/png": "[encoded data removed]",
      "text/plain": [
       "<Figure size 432x288 with 1 Axes>"
      ]
     },
     "metadata": {
      "needs_background": "light"
     },
     "output_type": "display_data"
    }
   ],
   "source": [
    "plt.plot(l_hist)\n",
    "# plt.yscale(\"log\")"
   ]
  },
  {
   "cell_type": "code",
   "execution_count": 438,
   "metadata": {},
   "outputs": [
    {
     "data": {
      "text/plain": [
       "DeviceArray([ 1.28441475e-08, -2.59858237e-08, -8.55163584e-09,\n",
       "             -1.02133330e-08,  8.94890251e-08,  1.56628222e-09,\n",
       "             -1.61076357e-07,  3.84689651e-08,  6.52281494e-07,\n",
       "              8.09353982e-08,  9.99914240e-09,  5.20393244e-08,\n",
       "              3.20310911e-08, -2.14833609e-08, -2.53389786e-07,\n",
       "              9.27050214e-09, -2.77893855e-08,  3.84702519e-08,\n",
       "             -2.43560111e-07,  1.40196478e-07,  2.01159116e-08,\n",
       "              7.27566620e-08,  2.93866894e-07,  7.29218015e-08,\n",
       "              1.75050417e-07], dtype=float64)"
      ]
     },
     "execution_count": 438,
     "metadata": {},
     "output_type": "execute_result"
    }
   ],
   "source": [
    "g_l(opt_S.T.flatten())"
   ]
  },
  {
   "cell_type": "code",
   "execution_count": 404,
   "metadata": {},
   "outputs": [
    {
     "name": "stdout",
     "output_type": "stream",
     "text": [
      "A \n",
      " [[2.03444394 2.03444394 2.03444394 2.03444394 2.03444394]\n",
      " [1.12213326 0.86034682 1.53067561 2.19503784 2.1430926 ]\n",
      " [2.4060512  1.40352441 0.57211272 1.93113485 1.58521161]\n",
      " [1.19886772 2.06453855 0.74428357 0.7929425  2.81530496]]\n",
      "B \n",
      " [[2.03444394 2.03444394 2.03444394 2.03444394 2.03444394]\n",
      " [1.58035738 0.91204486 2.03075562 1.05003246 2.28656864]\n",
      " [0.49395874 1.66397923 2.31533068 1.92496785 1.43627884]\n",
      " [1.82238635 2.38873858 2.27941033 0.3024852  1.09162902]]\n",
      "C \n",
      " [[2.03444394 2.03444394 2.03444394 2.03444394 2.03444394]\n",
      " [0.86937093 2.10415196 0.98844627 2.07019392 1.78029836]\n",
      " [1.9400284  1.39822582 0.89243964 1.05378383 2.58436577]\n",
      " [1.43360404 0.06076004 1.59691576 2.6695567  2.06975822]]\n"
     ]
    }
   ],
   "source": [
    "def get_multi_spherical(M):\n",
    "    res = []\n",
    "    prev = jnp.ones(len(M))\n",
    "    for i in range(len(M) - 1):\n",
    "        curr_m = M[i]\n",
    "        curr_m = curr_m / prev\n",
    "            \n",
    "        res.append(jnp.arccos(curr_m))\n",
    "        prev *= jnp.sin(res[-1])\n",
    "    \n",
    "    return jnp.array(res)\n",
    "\n",
    "\n",
    "print(\"A \\n\", get_multi_spherical(-A))\n",
    "print(\"B \\n\", get_multi_spherical(B))\n",
    "print(\"C \\n\", get_multi_spherical(C))"
   ]
  },
  {
   "cell_type": "code",
   "execution_count": 6,
   "metadata": {},
   "outputs": [],
   "source": [
    "C = jnp.array([[-0.4472136 , -0.4472136 , -0.4472136 , -0.4472136 ,\n",
    "               -0.4472136 ],\n",
    "              [ 0.57718034, -0.45474982,  0.49192436, -0.42833831,\n",
    "               -0.18601657],\n",
    "              [-0.24659302,  0.13225447,  0.46875384,  0.38810881,\n",
    "               -0.7425241 ],\n",
    "              [ 0.08714827,  0.7573563 , -0.01518982, -0.60792455,\n",
    "               -0.22139019],\n",
    "              [ 0.63123681,  0.04607368, -0.58142027,  0.31036363,\n",
    "               -0.40625385]])"
   ]
  },
  {
   "cell_type": "code",
   "execution_count": 12,
   "metadata": {},
   "outputs": [
    {
     "data": {
      "text/plain": [
       "DeviceArray([[43.51963602, 19.35973774, 10.88921759, 20.30648493,\n",
       "              14.79295034],\n",
       "             [19.35973774, 43.5196361 , 18.06320501, 12.90913535,\n",
       "              15.01631263],\n",
       "             [10.88921759, 18.06320501, 43.51963607, 16.49480532,\n",
       "              19.9011626 ],\n",
       "             [20.30648493, 12.90913535, 16.49480532, 43.51963615,\n",
       "              15.63796467],\n",
       "             [14.79295034, 15.01631263, 19.9011626 , 15.63796467,\n",
       "              43.51963629]], dtype=float64)"
      ]
     },
     "execution_count": 12,
     "metadata": {},
     "output_type": "execute_result"
    }
   ],
   "source": [
    "ZC = jnp.diag(jnp.array([10.43398411,  0.26575781,  0.22358633,  0.20206671,\n",
    "               0.18805993]))\n",
    "\n",
    "C.T @ ZC @ jnp.diag(jnp.linspace(1, 1000, 5)) @ ZC @ C"
   ]
  },
  {
   "cell_type": "code",
   "execution_count": null,
   "metadata": {},
   "outputs": [],
   "source": [
    "first_term = S_inv.T @ jnp.diag(S.T @ H @ S)\n",
    "second_term = jnp.linalg.norm(S_inv, ord=\"fro\")**2\n",
    "third_term = S_inv.T @ jnp.ones(dim)\n",
    "third_term = jnp.linalg.norm(third_term)**2\n",
    "\n",
    "return jnp.linalg.norm(first_term)**2 + sig**2 * (second_term + third_term)"
   ]
  },
  {
   "cell_type": "code",
   "execution_count": 58,
   "metadata": {},
   "outputs": [
    {
     "name": "stdout",
     "output_type": "stream",
     "text": [
      "86.98415813871\n",
      "86.93823345694823\n"
     ]
    }
   ],
   "source": [
    "S = ZC @ C\n",
    "S_inv = jnp.linalg.inv(S)\n",
    "first_term = S_inv.T @ jnp.diag(S.T @ D @ S)\n",
    "print(jnp.linalg.norm(first_term)**2)\n",
    "print(jnp.linalg.norm(S_inv, ord=\"fro\")**2)\n",
    "\n"
   ]
  },
  {
   "cell_type": "code",
   "execution_count": 59,
   "metadata": {},
   "outputs": [
    {
     "data": {
      "text/plain": [
       "DeviceArray(86.93823333, dtype=float64)"
      ]
     },
     "execution_count": 59,
     "metadata": {},
     "output_type": "execute_result"
    }
   ],
   "source": [
    "jnp.sum(1/jnp.diag(ZC**2))"
   ]
  },
  {
   "cell_type": "code",
   "execution_count": 52,
   "metadata": {},
   "outputs": [
    {
     "data": {
      "text/plain": [
       "DeviceArray(86.98415827, dtype=float64)"
      ]
     },
     "execution_count": 52,
     "metadata": {},
     "output_type": "execute_result"
    }
   ],
   "source": [
    "a**2 / ZC[0, 0]**2 * 5"
   ]
  },
  {
   "cell_type": "code",
   "execution_count": 66,
   "metadata": {},
   "outputs": [
    {
     "data": {
      "text/plain": [
       "DeviceArray(43.51963572, dtype=float64)"
      ]
     },
     "execution_count": 66,
     "metadata": {},
     "output_type": "execute_result"
    }
   ],
   "source": [
    "a = jnp.sum(ZC**2 @ jnp.diag(jnp.linspace(1, 1000, 5))) / 5\n",
    "a"
   ]
  },
  {
   "cell_type": "code",
   "execution_count": 24,
   "metadata": {},
   "outputs": [
    {
     "name": "stdout",
     "output_type": "stream",
     "text": [
      "0.21430624499959866\n"
     ]
    }
   ],
   "source": [
    "C_inv = jnp.linalg.inv(C)\n",
    "print(jnp.linalg.norm(jnp.linalg.inv(ZC) @ C_inv.T @ jnp.ones(dim)))"
   ]
  },
  {
   "cell_type": "code",
   "execution_count": 42,
   "metadata": {},
   "outputs": [
    {
     "data": {
      "text/plain": [
       "DeviceArray(173.96831876, dtype=float64)"
      ]
     },
     "execution_count": 42,
     "metadata": {},
     "output_type": "execute_result"
    }
   ],
   "source": [
    "l((ZC @ C).T.flatten())"
   ]
  },
  {
   "cell_type": "code",
   "execution_count": 61,
   "metadata": {},
   "outputs": [
    {
     "data": {
      "text/plain": [
       "DeviceArray(173.96831876, dtype=float64)"
      ]
     },
     "execution_count": 61,
     "metadata": {},
     "output_type": "execute_result"
    }
   ],
   "source": [
    "a**2 / ZC[0, 0]**2 * 5 + jnp.sum(1/jnp.diag(ZC**2)) + 1/ZC[0, 0]**2 * 5"
   ]
  },
  {
   "cell_type": "code",
   "execution_count": 88,
   "metadata": {},
   "outputs": [
    {
     "name": "stdout",
     "output_type": "stream",
     "text": [
      "47348.967327828854\n"
     ]
    },
    {
     "data": {
      "text/plain": [
       "DeviceArray([  0.79949344, 200.47298031, 400.14646717, 599.81995404,\n",
       "             799.4934409 ], dtype=float64)"
      ]
     },
     "execution_count": 88,
     "metadata": {},
     "output_type": "execute_result"
    }
   ],
   "source": [
    "test_func = lambda ZT: (jnp.sum(ZT @ D))**2  #+ 1/(jnp.max(ZT)) * 5\n",
    "print(test_func(ZC**2))\n",
    "jnp.diag(grad(test_func)(ZC**2)) / (5 * ZC[0, 0]**2)\n"
   ]
  },
  {
   "cell_type": "code",
   "execution_count": 100,
   "metadata": {},
   "outputs": [
    {
     "data": {
      "text/plain": [
       "DeviceArray(97.22041339, dtype=float64)"
      ]
     },
     "execution_count": 100,
     "metadata": {},
     "output_type": "execute_result"
    }
   ],
   "source": [
    "jnp.sum(jnp.sqrt((jnp.diag(D)[1:])))"
   ]
  },
  {
   "cell_type": "code",
   "execution_count": 92,
   "metadata": {},
   "outputs": [
    {
     "data": {
      "text/plain": [
       "[1, 250.75, 500.5, 750.25, 1000]"
      ]
     },
     "execution_count": 92,
     "metadata": {},
     "output_type": "execute_result"
    }
   ],
   "source": [
    "[1, 1003/4, 1001/2, 3001/4, 1000]"
   ]
  },
  {
   "cell_type": "code",
   "execution_count": 90,
   "metadata": {},
   "outputs": [
    {
     "data": {
      "text/plain": [
       "DeviceArray([[1.18522467e+04, 0.00000000e+00, 0.00000000e+00,\n",
       "              0.00000000e+00, 0.00000000e+00],\n",
       "             [0.00000000e+00, 1.25079198e+00, 0.00000000e+00,\n",
       "              0.00000000e+00, 0.00000000e+00],\n",
       "             [0.00000000e+00, 0.00000000e+00, 1.25079193e+00,\n",
       "              0.00000000e+00, 0.00000000e+00],\n",
       "             [0.00000000e+00, 0.00000000e+00, 0.00000000e+00,\n",
       "              1.25079197e+00, 0.00000000e+00],\n",
       "             [0.00000000e+00, 0.00000000e+00, 0.00000000e+00,\n",
       "              0.00000000e+00, 1.25079196e+00]], dtype=float64)"
      ]
     },
     "execution_count": 90,
     "metadata": {},
     "output_type": "execute_result"
    }
   ],
   "source": [
    "jnp.diag(ZC)**4 * D"
   ]
  },
  {
   "cell_type": "code",
   "execution_count": 86,
   "metadata": {},
   "outputs": [
    {
     "data": {
      "text/plain": [
       "DeviceArray(0.00367417, dtype=float64)"
      ]
     },
     "execution_count": 86,
     "metadata": {},
     "output_type": "execute_result"
    }
   ],
   "source": [
    "(2 / (5 * ZC[0, 0]**2))"
   ]
  },
  {
   "cell_type": "code",
   "execution_count": 89,
   "metadata": {},
   "outputs": [
    {
     "data": {
      "text/plain": [
       "DeviceArray([  0.79949344, 200.47298031, 400.14646717, 599.81995404,\n",
       "             799.4934409 ], dtype=float64)"
      ]
     },
     "execution_count": 89,
     "metadata": {},
     "output_type": "execute_result"
    }
   ],
   "source": [
    "(2 / ( ZC[0, 0]**2)) * a * jnp.diag(D)"
   ]
  },
  {
   "cell_type": "code",
   "execution_count": 64,
   "metadata": {},
   "outputs": [
    {
     "data": {
      "text/plain": [
       "DeviceArray([8.43721888e-05, 2.00472984e+02, 4.00146489e+02,\n",
       "             5.99819966e+02, 7.99493467e+02], dtype=float64)"
      ]
     },
     "execution_count": 64,
     "metadata": {},
     "output_type": "execute_result"
    }
   ],
   "source": [
    "1/jnp.diag(ZC**2)**2"
   ]
  },
  {
   "cell_type": "code",
   "execution_count": 7,
   "metadata": {},
   "outputs": [],
   "source": [
    "C2 = jnp.array([[ 0.4472136 ,  0.4472136 ,  0.4472136 ,  0.4472136 ,\n",
    "                0.4472136 ],\n",
    "              [-0.57764951,  0.45484391, -0.49441266,  0.41932271,\n",
    "                0.19789555],\n",
    "              [ 0.26099774, -0.12920141, -0.46758444, -0.39786876,\n",
    "                0.73365688],\n",
    "              [ 0.06697981,  0.75570216,  0.00909401, -0.61390265,\n",
    "               -0.21787333],\n",
    "              [ 0.62746708,  0.07306336, -0.58037765,  0.29831603,\n",
    "               -0.41846882]])"
   ]
  },
  {
   "cell_type": "code",
   "execution_count": 8,
   "metadata": {},
   "outputs": [
    {
     "data": {
      "text/plain": [
       "DeviceArray([[-8.94427200e-01, -8.94427200e-01, -8.94427200e-01,\n",
       "              -8.94427200e-01, -8.94427200e-01],\n",
       "             [ 1.15482985e+00, -9.09593730e-01,  9.86337020e-01,\n",
       "              -8.47661020e-01, -3.83912120e-01],\n",
       "             [-5.07590760e-01,  2.61455880e-01,  9.36338280e-01,\n",
       "               7.85977570e-01, -1.47618098e+00],\n",
       "             [ 2.01684600e-02,  1.65414000e-03, -2.42838300e-02,\n",
       "               5.97810000e-03, -3.51686000e-03],\n",
       "             [ 3.76973000e-03, -2.69896800e-02, -1.04262000e-03,\n",
       "               1.20476000e-02,  1.22149700e-02]], dtype=float64)"
      ]
     },
     "execution_count": 8,
     "metadata": {},
     "output_type": "execute_result"
    }
   ],
   "source": [
    "C - C2"
   ]
  },
  {
   "cell_type": "code",
   "execution_count": 434,
   "metadata": {},
   "outputs": [
    {
     "data": {
      "text/plain": [
       "DeviceArray(18.55509841, dtype=float64)"
      ]
     },
     "execution_count": 434,
     "metadata": {},
     "output_type": "execute_result"
    }
   ],
   "source": [
    "l((Z @ C).T.flatten())"
   ]
  },
  {
   "cell_type": "code",
   "execution_count": 444,
   "metadata": {},
   "outputs": [
    {
     "data": {
      "text/plain": [
       "DeviceArray(18.55493391, dtype=float64)"
      ]
     },
     "execution_count": 444,
     "metadata": {},
     "output_type": "execute_result"
    }
   ],
   "source": [
    "l(opt_S.T.flatten())"
   ]
  },
  {
   "cell_type": "code",
   "execution_count": 400,
   "metadata": {},
   "outputs": [
    {
     "data": {
      "text/plain": [
       "DeviceArray(-2.23606801, dtype=float64)"
      ]
     },
     "execution_count": 400,
     "metadata": {},
     "output_type": "execute_result"
    }
   ],
   "source": [
    "jnp.sum(B)"
   ]
  },
  {
   "cell_type": "code",
   "execution_count": 9,
   "metadata": {},
   "outputs": [],
   "source": [
    "Z = jnp.diag(jnp.array([3.57749375, 0.79727649, 0.69901923, 0.64158525, 0.60197686]))"
   ]
  },
  {
   "cell_type": "code",
   "execution_count": null,
   "metadata": {},
   "outputs": [],
   "source": [
    "[[0.4472136 , 0.4472136 ,  0.4472136 ,  0.4472136 , 0.4472136 ],\n",
    "[-0.38796791, -0.58332269, -0.03587543,  0.52277659, 0.48438944],\n",
    "[ 0.5975515 , -0.11288845, -0.75139256,  0.2558909 , 0.0108386 ],\n",
    "[-0.19651635,  0.31685345, -0.35591583, -0.47658445, 0.71216318],\n",
    "[-0.50378014,  0.58872296, -0.32778972,  0.48383029,-0.24098339]]"
   ]
  },
  {
   "cell_type": "code",
   "execution_count": null,
   "metadata": {},
   "outputs": [],
   "source": [
    "[-0.4472136 ,-0.4472136 ,-0.4472136, -0.4472136, -0.4472136 ],\n",
    "[-0.00855154,  0.54750575, -0.39704663,  0.44501589,-0.58692347],\n",
    "[ 0.78747393, -0.06581057, -0.54309959, -0.26907914, 0.09051537],\n",
    "[-0.10556283, -0.51388777, -0.3835734 ,  0.69466832, 0.30835568],\n",
    "[ 0.4106923 , -0.48148291,  0.44751341,  0.21677916,-0.59350197]"
   ]
  },
  {
   "cell_type": "code",
   "execution_count": 419,
   "metadata": {},
   "outputs": [
    {
     "data": {
      "text/plain": [
       "DeviceArray([[4.87313665, 1.8672349 , 2.21253   , 2.07106324, 1.77449676],\n",
       "             [1.8672349 , 4.87313665, 2.05466759, 1.59357236, 2.40985005],\n",
       "             [2.21253   , 2.05466759, 4.87313665, 2.08891926, 1.56920806],\n",
       "             [2.07106324, 1.59357236, 2.08891926, 4.87313665, 2.17177003],\n",
       "             [1.77449676, 2.40985005, 1.56920806, 2.17177003, 4.87313665]],            dtype=float64)"
      ]
     },
     "execution_count": 419,
     "metadata": {},
     "output_type": "execute_result"
    }
   ],
   "source": [
    "opt_S.T @ D @ opt_S"
   ]
  },
  {
   "cell_type": "code",
   "execution_count": 416,
   "metadata": {},
   "outputs": [
    {
     "data": {
      "text/plain": [
       "DeviceArray([[4.87313671, 1.57253124, 2.2033262 , 1.96713407, 2.18233356],\n",
       "             [1.57253124, 4.8731367 , 1.7718173 , 2.40254409, 2.17843246],\n",
       "             [2.2033262 , 1.7718173 , 4.87313671, 1.97063471, 1.97954689],\n",
       "             [1.96713407, 2.40254409, 1.97063471, 4.87313673, 1.58501219],\n",
       "             [2.18233356, 2.17843246, 1.97954689, 1.58501219, 4.87313669]],            dtype=float64)"
      ]
     },
     "execution_count": 416,
     "metadata": {},
     "output_type": "execute_result"
    }
   ],
   "source": [
    "A.T @ Z @ D @ Z @ A"
   ]
  },
  {
   "cell_type": "code",
   "execution_count": 415,
   "metadata": {},
   "outputs": [
    {
     "data": {
      "text/plain": [
       "DeviceArray([[4.87313669, 1.86723494, 2.21253004, 2.07106329, 1.77449682],\n",
       "             [1.86723494, 4.87313675, 2.05466763, 1.59357239, 2.4098501 ],\n",
       "             [2.21253004, 2.05466763, 4.8731367 , 2.08891931, 1.5692081 ],\n",
       "             [2.07106329, 1.59357239, 2.08891931, 4.87313673, 2.17177006],\n",
       "             [1.77449682, 2.4098501 , 1.5692081 , 2.17177006, 4.87313674]],            dtype=float64)"
      ]
     },
     "execution_count": 415,
     "metadata": {},
     "output_type": "execute_result"
    }
   ],
   "source": [
    "B.T @ Z @ D @ Z @ B"
   ]
  },
  {
   "cell_type": "code",
   "execution_count": 10,
   "metadata": {},
   "outputs": [],
   "source": [
    "A = jnp.array([[ 0.4472136 ,  0.4472136 ,  0.4472136 ,  0.4472136 ,\n",
    "                0.4472136 ],\n",
    "              [-0.38796791, -0.58332269, -0.03587543,  0.52277659,\n",
    "                0.48438944],\n",
    "              [ 0.5975515 , -0.11288845, -0.75139256,  0.2558909 ,\n",
    "                0.0108386 ],\n",
    "              [-0.19651635,  0.31685345, -0.35591583, -0.47658445,\n",
    "                0.71216318],\n",
    "              [-0.50378014,  0.58872296, -0.32778972,  0.48383029,\n",
    "               -0.24098339]])"
   ]
  },
  {
   "cell_type": "code",
   "execution_count": 11,
   "metadata": {},
   "outputs": [],
   "source": [
    "B = jnp.array([[-0.4472136 , -0.4472136 , -0.4472136 , -0.4472136 ,\n",
    "               -0.4472136 ],\n",
    "              [-0.00855154,  0.54750575, -0.39704663,  0.44501589,\n",
    "               -0.58692347],\n",
    "              [ 0.78747393, -0.06581057, -0.54309959, -0.26907914,\n",
    "                0.09051537],\n",
    "              [-0.10556283, -0.51388777, -0.3835734 ,  0.69466832,\n",
    "                0.30835568],\n",
    "              [ 0.4106923 , -0.48148291,  0.44751341,  0.21677916,\n",
    "               -0.59350197]])"
   ]
  },
  {
   "cell_type": "code",
   "execution_count": 357,
   "metadata": {},
   "outputs": [
    {
     "data": {
      "text/plain": [
       "DeviceArray([ 1.55544315e-08, -7.15509778e-08,  4.91580110e-09,\n",
       "              1.02368248e-07, -1.62178875e-08,  1.58995537e-08,\n",
       "              5.76665227e-08,  5.65188758e-08, -7.44026920e-08,\n",
       "             -2.46677351e-07,  2.64872546e-08,  2.96571333e-08,\n",
       "             -1.25122557e-07,  1.58791766e-08, -8.02480704e-08,\n",
       "              3.24209553e-08,  3.15642155e-07,  1.60152444e-07,\n",
       "             -4.69963793e-07,  6.37457372e-07,  6.39292130e-09,\n",
       "             -2.41272913e-07, -5.41016829e-08, -6.13566387e-07,\n",
       "              2.00258671e-07], dtype=float64)"
      ]
     },
     "execution_count": 357,
     "metadata": {},
     "output_type": "execute_result"
    }
   ],
   "source": [
    "tmp_S = jnp.diag(jnp.array([3.57749375, 0.79727649, 0.69901923, 0.64158525, 0.60197686])) @ jnp.array([[ 0.4472136 ,  0.4472136 ,  0.4472136 ,  0.4472136 ,\n",
    "                0.4472136 ],\n",
    "              [-0.38796791, -0.58332269, -0.03587543,  0.52277659,\n",
    "                0.48438944],\n",
    "              [ 0.5975515 , -0.11288845, -0.75139256,  0.2558909 ,\n",
    "                0.0108386 ],\n",
    "              [-0.19651635,  0.31685345, -0.35591583, -0.47658445,\n",
    "                0.71216318],\n",
    "              [-0.50378014,  0.58872296, -0.32778972,  0.48383029,\n",
    "               -0.24098339]])\n",
    "\n",
    "g_l(tmp_S.T.flatten())"
   ]
  },
  {
   "cell_type": "code",
   "execution_count": 325,
   "metadata": {},
   "outputs": [
    {
     "data": {
      "text/plain": [
       "[DeviceArray([ 3.81004172e+02+0.j,  3.30797105e+02+0.j,\n",
       "               2.83008425e+02+0.j,  2.38906747e+02+0.j,\n",
       "               6.40902445e+01+0.j,  4.65494659e+01+0.j,\n",
       "               4.55359741e+01+0.j,  3.57308559e+01+0.j,\n",
       "               2.98319103e+01+0.j,  2.40737328e+01+0.j,\n",
       "               1.93044458e+01+0.j,  1.71695369e+01+0.j,\n",
       "               1.20798121e+01+0.j,  6.16024008e+00+0.j,\n",
       "               3.72846265e+00+0.j,  3.35537657e+00+0.j,\n",
       "               2.97586224e+00+0.j,  2.27368920e+00+0.j,\n",
       "               1.34097834e+00+0.j,  6.68260407e-01+0.j,\n",
       "               3.76190246e-01+0.j,  3.00043761e-01+0.j,\n",
       "              -1.94286087e-02+0.j, -4.17355735e-02+0.j,\n",
       "               1.61233373e-01+0.j], dtype=complex128),\n",
       " DeviceArray([[ 1.26249992e-02+0.j, -1.23451798e-02+0.j,\n",
       "               -5.81053778e-03+0.j, -4.80346613e-03+0.j,\n",
       "                2.32116173e-02+0.j,  5.06318879e-03+0.j,\n",
       "               -1.44774467e-02+0.j, -1.21836329e-02+0.j,\n",
       "               -2.32850789e-02+0.j,  5.81845003e-02+0.j,\n",
       "                4.86137740e-02+0.j, -3.47404051e-02+0.j,\n",
       "                1.54706950e-01+0.j,  1.15075851e-01+0.j,\n",
       "                5.39199947e-01+0.j,  3.01920600e-01+0.j,\n",
       "                5.63314519e-01+0.j,  2.51545927e-01+0.j,\n",
       "               -4.30794614e-01+0.j,  3.15931162e-02+0.j,\n",
       "               -5.60438776e-02+0.j, -4.20125842e-02+0.j,\n",
       "                7.17565273e-03+0.j, -1.53296077e-03+0.j,\n",
       "                1.10892391e-03+0.j],\n",
       "              [ 8.95440175e-02+0.j, -7.99792660e-02+0.j,\n",
       "               -6.32924951e-02+0.j,  9.80808402e-03+0.j,\n",
       "               -2.94917334e-02+0.j,  1.32133484e-01+0.j,\n",
       "               -8.02715888e-03+0.j, -2.99882952e-02+0.j,\n",
       "               -3.71991760e-01+0.j, -3.46000474e-01+0.j,\n",
       "                8.37148160e-02+0.j,  1.29833251e-01+0.j,\n",
       "               -1.19491494e-01+0.j,  4.79871454e-01+0.j,\n",
       "                3.90220400e-02+0.j, -4.12884361e-03+0.j,\n",
       "                5.72894620e-02+0.j, -2.57113974e-01+0.j,\n",
       "               -1.74527382e-02+0.j, -2.77577992e-01+0.j,\n",
       "                5.46865037e-02+0.j,  2.07713675e-01+0.j,\n",
       "               -1.80684299e-01+0.j,  4.49173591e-01+0.j,\n",
       "               -8.27860137e-02+0.j],\n",
       "              [ 3.33443013e-01+0.j, -3.33920056e-01+0.j,\n",
       "               -1.54543377e-01+0.j, -1.90804748e-01+0.j,\n",
       "               -5.05598508e-02+0.j,  3.35339166e-03+0.j,\n",
       "                1.52858146e-01+0.j,  5.17914190e-01+0.j,\n",
       "                6.10461326e-02+0.j, -2.16132830e-01+0.j,\n",
       "               -1.35273885e-01+0.j,  6.49554622e-02+0.j,\n",
       "                2.98116615e-01+0.j, -5.63181116e-02+0.j,\n",
       "                3.94446309e-02+0.j,  9.77180206e-03+0.j,\n",
       "               -5.45513268e-02+0.j,  4.29061230e-02+0.j,\n",
       "               -2.35496306e-02+0.j, -6.17412335e-02+0.j,\n",
       "                4.19116434e-01+0.j,  1.59665931e-01+0.j,\n",
       "                1.96631891e-02+0.j, -2.12237197e-01+0.j,\n",
       "               -2.08204166e-02+0.j],\n",
       "              [-1.14270280e-01+0.j,  7.25477053e-02+0.j,\n",
       "                9.58259312e-02+0.j,  4.45689375e-02+0.j,\n",
       "                5.31448376e-02+0.j,  5.36875460e-01+0.j,\n",
       "               -1.41557631e-01+0.j,  6.61014773e-02+0.j,\n",
       "                1.87796464e-01+0.j,  1.53152607e-01+0.j,\n",
       "               -6.76156740e-02+0.j,  4.56262951e-01+0.j,\n",
       "                5.73061890e-02+0.j, -1.82960592e-02+0.j,\n",
       "               -1.23730872e-02+0.j,  6.05687253e-02+0.j,\n",
       "               -1.64119926e-02+0.j,  2.98145688e-02+0.j,\n",
       "                4.91472738e-03+0.j, -4.52410132e-02+0.j,\n",
       "                1.62309038e-01+0.j, -2.39173724e-01+0.j,\n",
       "               -1.26966422e-01+0.j,  2.12106228e-02+0.j,\n",
       "               -5.22286615e-01+0.j],\n",
       "              [ 3.72554352e-01+0.j, -4.55626452e-01+0.j,\n",
       "               -2.70692947e-01+0.j, -2.60099361e-01+0.j,\n",
       "               -4.41011391e-01+0.j,  1.01157286e-01+0.j,\n",
       "               -1.91785635e-02+0.j, -2.02898068e-01+0.j,\n",
       "                6.45569316e-02+0.j,  2.13064215e-01+0.j,\n",
       "                1.88413668e-01+0.j,  3.31768186e-02+0.j,\n",
       "               -1.14108695e-01+0.j, -2.13304810e-02+0.j,\n",
       "               -6.48621028e-02+0.j, -1.01927243e-02+0.j,\n",
       "               -7.16317184e-03+0.j,  4.14073946e-03+0.j,\n",
       "               -1.74583679e-02+0.j,  9.01830607e-02+0.j,\n",
       "               -2.98523873e-01+0.j, -2.21141206e-01+0.j,\n",
       "               -1.13941721e-02+0.j,  8.58107059e-02+0.j,\n",
       "               -9.19322655e-02+0.j],\n",
       "              [-6.66285633e-03+0.j,  4.83622683e-03+0.j,\n",
       "               -1.27814575e-02+0.j,  7.83522056e-03+0.j,\n",
       "                2.48450676e-02+0.j,  1.96678774e-03+0.j,\n",
       "                3.70639935e-04+0.j, -1.30103989e-02+0.j,\n",
       "                1.06611527e-02+0.j, -1.70742569e-02+0.j,\n",
       "               -6.82476214e-02+0.j,  6.24772672e-02+0.j,\n",
       "                8.60627501e-02+0.j, -2.29974760e-01+0.j,\n",
       "               -3.50052073e-01+0.j, -4.18964573e-01+0.j,\n",
       "                4.41058829e-01+0.j, -4.57254323e-01+0.j,\n",
       "               -4.63824591e-01+0.j,  1.06062247e-01+0.j,\n",
       "                1.38254168e-02+0.j,  3.08931913e-02+0.j,\n",
       "               -3.10132385e-03+0.j, -5.50745671e-03+0.j,\n",
       "               -2.01314681e-02+0.j],\n",
       "              [ 1.06064933e-01+0.j, -8.84224290e-02+0.j,\n",
       "                2.60231075e-01+0.j, -1.16539659e-01+0.j,\n",
       "                1.08520763e-02+0.j, -1.18243017e-01+0.j,\n",
       "               -1.39808755e-01+0.j, -1.05666103e-02+0.j,\n",
       "               -5.55262071e-02+0.j,  2.53646225e-01+0.j,\n",
       "               -5.10430561e-01+0.j,  6.37781696e-02+0.j,\n",
       "                1.29584988e-01+0.j,  3.27446812e-01+0.j,\n",
       "                6.69788878e-03+0.j,  6.95913172e-02+0.j,\n",
       "               -8.62744750e-02+0.j, -1.10577918e-01+0.j,\n",
       "                2.32291567e-02+0.j,  5.49356876e-01+0.j,\n",
       "               -8.19115359e-02+0.j,  2.36366566e-01+0.j,\n",
       "                2.46872026e-03+0.j,  1.21347889e-01+0.j,\n",
       "               -7.50414093e-02+0.j],\n",
       "              [-1.12610203e-01+0.j,  1.11720218e-01+0.j,\n",
       "               -1.99352071e-01+0.j,  1.69566761e-01+0.j,\n",
       "               -6.51787465e-02+0.j,  1.32278273e-01+0.j,\n",
       "               -5.79498259e-02+0.j,  4.27616120e-01+0.j,\n",
       "                2.85783076e-01+0.j,  1.69903072e-01+0.j,\n",
       "                8.00958613e-02+0.j, -1.66932983e-01+0.j,\n",
       "                4.34431912e-01+0.j,  8.19140384e-02+0.j,\n",
       "               -2.50955845e-02+0.j, -3.98673457e-02+0.j,\n",
       "               -1.10747782e-01+0.j, -6.53530561e-02+0.j,\n",
       "               -1.57874987e-02+0.j, -4.00527574e-02+0.j,\n",
       "               -3.28940446e-01+0.j, -4.55164753e-03+0.j,\n",
       "               -1.82162322e-01+0.j,  3.85888099e-01+0.j,\n",
       "                2.17250663e-01+0.j],\n",
       "              [-1.68609456e-01+0.j,  8.64697954e-02+0.j,\n",
       "               -3.42375851e-01+0.j,  2.65852204e-01+0.j,\n",
       "               -1.67896469e-01+0.j, -9.62176637e-02+0.j,\n",
       "                4.64003722e-01+0.j,  1.08039843e-01+0.j,\n",
       "               -1.42218594e-01+0.j,  2.87063428e-01+0.j,\n",
       "               -1.70021371e-02+0.j,  3.47641583e-01+0.j,\n",
       "               -5.96339044e-02+0.j,  7.27408582e-02+0.j,\n",
       "               -2.90845736e-03+0.j,  7.00635105e-02+0.j,\n",
       "               -8.49096851e-03+0.j, -4.61690465e-02+0.j,\n",
       "               -1.68090564e-02+0.j, -1.70759789e-02+0.j,\n",
       "               -1.14781070e-01+0.j,  2.52163046e-01+0.j,\n",
       "                4.15739005e-01+0.j, -5.60683617e-02+0.j,\n",
       "               -1.36801762e-01+0.j],\n",
       "              [ 1.74869157e-01+0.j, -1.52063499e-01+0.j,\n",
       "                4.81841541e-01+0.j, -2.88726779e-01+0.j,\n",
       "                4.25123074e-01+0.j,  3.18006826e-02+0.j,\n",
       "                2.21019172e-01+0.j,  1.10781870e-01+0.j,\n",
       "                4.81103797e-03+0.j,  3.14490726e-01+0.j,\n",
       "                2.41316076e-01+0.j,  7.78942616e-02+0.j,\n",
       "                4.84840735e-02+0.j,  6.48920194e-03+0.j,\n",
       "               -3.88263281e-02+0.j, -2.29110667e-02+0.j,\n",
       "                1.03793763e-02+0.j, -6.60178652e-02+0.j,\n",
       "                1.25280084e-02+0.j, -3.20658147e-01+0.j,\n",
       "               -2.11701928e-01+0.j,  6.92607893e-02+0.j,\n",
       "                2.31683531e-01+0.j,  8.79596675e-02+0.j,\n",
       "                4.21032230e-02+0.j],\n",
       "              [ 1.04240725e-02+0.j,  1.59932385e-02+0.j,\n",
       "                3.72984376e-03+0.j, -3.76134696e-03+0.j,\n",
       "                2.20605265e-02+0.j, -9.27852141e-04+0.j,\n",
       "               -1.32615808e-02+0.j, -1.82978978e-02+0.j,\n",
       "                5.62870519e-03+0.j,  6.17137631e-02+0.j,\n",
       "                1.09642212e-02+0.j,  1.01130923e-01+0.j,\n",
       "               -1.26886210e-01+0.j,  8.75370507e-02+0.j,\n",
       "                3.96021229e-01+0.j, -6.07117330e-01+0.j,\n",
       "               -4.54230071e-01+0.j,  1.97883349e-01+0.j,\n",
       "               -4.32184659e-01+0.j,  4.67270522e-03+0.j,\n",
       "                3.19656218e-02+0.j,  1.04593795e-02+0.j,\n",
       "               -5.92695967e-03+0.j,  9.08611425e-03+0.j,\n",
       "                4.11964519e-02+0.j],\n",
       "              [ 5.76163213e-02+0.j,  8.21410547e-02+0.j,\n",
       "                1.41424803e-02+0.j,  3.01847544e-02+0.j,\n",
       "               -4.72072867e-02+0.j,  6.86661054e-02+0.j,\n",
       "               -7.55922616e-02+0.j, -1.33619494e-01+0.j,\n",
       "                4.51665115e-01+0.j, -1.63905038e-01+0.j,\n",
       "                1.52544203e-01+0.j, -8.74596534e-02+0.j,\n",
       "                7.08671296e-02+0.j,  4.90578465e-01+0.j,\n",
       "                2.96962255e-02+0.j, -2.53676014e-02+0.j,\n",
       "               -1.90686552e-02+0.j, -2.57455810e-01+0.j,\n",
       "               -1.45005742e-02+0.j, -9.17147510e-02+0.j,\n",
       "               -1.87711956e-01+0.j,  1.74891759e-01+0.j,\n",
       "                9.05972007e-02+0.j, -5.36560237e-01+0.j,\n",
       "               -1.10061874e-01+0.j],\n",
       "              [-2.28452331e-01+0.j, -3.55993957e-01+0.j,\n",
       "               -5.38362548e-02+0.j,  1.22560814e-01+0.j,\n",
       "                8.55907000e-02+0.j,  2.65092528e-01+0.j,\n",
       "                8.78775552e-02+0.j, -4.38499784e-01+0.j,\n",
       "               -1.29969701e-01+0.j,  1.73577599e-01+0.j,\n",
       "                1.91497869e-02+0.j,  1.64481321e-01+0.j,\n",
       "                3.69095433e-01+0.j,  2.45704221e-02+0.j,\n",
       "               -2.73306986e-02+0.j,  2.64682315e-02+0.j,\n",
       "               -7.31843426e-02+0.j, -1.60407496e-02+0.j,\n",
       "                1.98944257e-02+0.j, -3.87260250e-02+0.j,\n",
       "                1.58921995e-01+0.j,  1.29945399e-01+0.j,\n",
       "               -2.09251974e-01+0.j, -1.86054509e-01+0.j,\n",
       "                4.29855524e-01+0.j],\n",
       "              [ 3.03100713e-01+0.j,  4.86337720e-01+0.j,\n",
       "                1.73409216e-01+0.j, -1.61921420e-01+0.j,\n",
       "               -2.53087163e-01+0.j, -1.00907548e-01+0.j,\n",
       "                4.38973315e-01+0.j, -1.34652780e-01+0.j,\n",
       "                4.54669055e-02+0.j, -7.08336263e-02+0.j,\n",
       "               -9.54318548e-02+0.j,  2.99456486e-01+0.j,\n",
       "                1.42614500e-01+0.j, -1.58506706e-02+0.j,\n",
       "               -2.48309101e-03+0.j,  5.55588427e-02+0.j,\n",
       "               -2.68121252e-02+0.j, -3.62761815e-03+0.j,\n",
       "               -2.01196372e-02+0.j, -4.39864036e-02+0.j,\n",
       "               -6.63519341e-02+0.j, -1.31343769e-01+0.j,\n",
       "               -3.76888073e-01+0.j, -4.02991206e-02+0.j,\n",
       "                1.79746142e-01+0.j],\n",
       "              [ 1.73877228e-01+0.j,  3.96735284e-01+0.j,\n",
       "                8.86849423e-02+0.j, -1.47411679e-01+0.j,\n",
       "               -3.43346741e-01+0.j,  3.41494722e-01+0.j,\n",
       "               -3.09036802e-01+0.j,  2.39046851e-02+0.j,\n",
       "               -2.07391860e-01+0.j,  2.27716086e-01+0.j,\n",
       "                2.50787580e-01+0.j, -9.42722254e-02+0.j,\n",
       "                4.96550995e-02+0.j, -2.42744360e-02+0.j,\n",
       "               -5.50157510e-02+0.j,  4.46101474e-03+0.j,\n",
       "                1.29543934e-02+0.j,  2.39908740e-02+0.j,\n",
       "               -1.07529301e-02+0.j,  4.30690734e-02+0.j,\n",
       "                2.83718795e-01+0.j,  2.68784990e-01+0.j,\n",
       "                2.89108851e-01+0.j, -1.44176594e-02+0.j,\n",
       "                2.00487279e-01+0.j],\n",
       "              [ 3.95911185e-04+0.j, -6.29296574e-03+0.j,\n",
       "                1.23001676e-02+0.j,  1.03002779e-02+0.j,\n",
       "                1.90205663e-02+0.j,  9.00397150e-04+0.j,\n",
       "               -1.51970722e-02+0.j, -1.39407516e-02+0.j,\n",
       "               -1.37134283e-02+0.j,  9.68566641e-03+0.j,\n",
       "                1.33514895e-02+0.j, -1.04007664e-01+0.j,\n",
       "               -9.14258869e-02+0.j, -2.14152820e-01+0.j,\n",
       "                7.19790452e-02+0.j,  5.44466366e-01+0.j,\n",
       "               -4.53323294e-01+0.j, -4.52258180e-01+0.j,\n",
       "               -4.65553316e-01+0.j, -2.96021380e-02+0.j,\n",
       "                4.71785179e-02+0.j, -4.30214696e-02+0.j,\n",
       "                2.27978407e-04+0.j,  2.42945446e-03+0.j,\n",
       "               -7.36524564e-03+0.j],\n",
       "              [-8.10352260e-03+0.j,  1.04103837e-01+0.j,\n",
       "               -2.30479264e-01+0.j, -1.44800380e-01+0.j,\n",
       "                9.34032538e-02+0.j,  1.31624497e-02+0.j,\n",
       "                1.31230266e-01+0.j,  3.02356840e-02+0.j,\n",
       "               -4.47518088e-02+0.j,  3.96661062e-01+0.j,\n",
       "               -2.71654515e-01+0.j, -3.04489073e-01+0.j,\n",
       "               -1.25984336e-01+0.j,  3.71186270e-01+0.j,\n",
       "               -2.39881436e-02+0.j, -5.86165406e-02+0.j,\n",
       "                7.22538692e-02+0.j, -1.67959111e-01+0.j,\n",
       "                1.86000040e-02+0.j, -2.07809379e-01+0.j,\n",
       "                3.22734090e-01+0.j, -4.57608373e-01+0.j,\n",
       "                1.16199858e-02+0.j, -6.15501683e-02+0.j,\n",
       "                1.00065061e-01+0.j],\n",
       "              [-2.36597218e-03+0.j,  1.36705523e-01+0.j,\n",
       "               -2.07202118e-01+0.j, -2.20637903e-01+0.j,\n",
       "                1.19702063e-01+0.j, -2.12842199e-01+0.j,\n",
       "                1.14236724e-01+0.j, -4.34097358e-01+0.j,\n",
       "                1.76389697e-01+0.j,  1.27064486e-02+0.j,\n",
       "                1.16429453e-01+0.j, -1.95517784e-01+0.j,\n",
       "                4.16377375e-01+0.j, -6.64717761e-02+0.j,\n",
       "                1.16724770e-02+0.j, -3.75222993e-02+0.j,\n",
       "               -8.82873876e-02+0.j,  4.25326986e-02+0.j,\n",
       "                1.60012527e-02+0.j, -2.13240474e-02+0.j,\n",
       "                2.47318362e-01+0.j,  1.46024761e-01+0.j,\n",
       "                1.14878379e-01+0.j,  3.12375292e-01+0.j,\n",
       "               -4.03238474e-01+0.j],\n",
       "              [-2.24938080e-02+0.j,  2.10006488e-01+0.j,\n",
       "               -5.03123804e-01+0.j, -4.68917467e-01+0.j,\n",
       "                4.06113229e-01+0.j, -4.47130229e-02+0.j,\n",
       "               -2.75130564e-01+0.j,  6.03509273e-02+0.j,\n",
       "               -1.08328780e-01+0.j,  4.37443959e-02+0.j,\n",
       "                2.31600876e-02+0.j,  2.73791743e-01+0.j,\n",
       "               -8.35138816e-02+0.j, -5.12701561e-02+0.j,\n",
       "               -6.71526303e-03+0.j,  6.43840039e-02+0.j,\n",
       "               -6.27544014e-03+0.j, -1.78060147e-03+0.j,\n",
       "                2.26882019e-02+0.j,  3.93441186e-02+0.j,\n",
       "               -2.06257072e-01+0.j,  1.56300186e-01+0.j,\n",
       "               -1.74258977e-01+0.j, -1.61903144e-01+0.j,\n",
       "                8.66687383e-02+0.j],\n",
       "              [-3.92972208e-02+0.j, -6.40889479e-02+0.j,\n",
       "                1.15198878e-01+0.j,  1.41591360e-01+0.j,\n",
       "               -1.81295937e-01+0.j, -5.02695271e-01+0.j,\n",
       "               -2.49387660e-01+0.j,  1.20214950e-01+0.j,\n",
       "               -1.03841257e-01+0.j,  4.03049287e-01+0.j,\n",
       "                2.45219585e-01+0.j,  5.41594626e-02+0.j,\n",
       "                2.03592431e-02+0.j,  2.46279332e-02+0.j,\n",
       "               -3.98063481e-02+0.j, -7.96000352e-03+0.j,\n",
       "                2.69413209e-02+0.j, -2.37259951e-02+0.j,\n",
       "               -6.15402513e-03+0.j, -2.18310694e-01+0.j,\n",
       "                1.47151786e-01+0.j,  1.40698388e-01+0.j,\n",
       "               -4.40960793e-01+0.j, -1.58908809e-01+0.j,\n",
       "               -2.22961832e-01+0.j],\n",
       "              [-1.49268581e-02+0.j, -1.78943014e-03+0.j,\n",
       "                3.02069812e-03+0.j, -7.57767429e-03+0.j,\n",
       "                2.78597848e-02+0.j, -4.62950761e-03+0.j,\n",
       "               -1.66651546e-03+0.j, -1.35279348e-02+0.j,\n",
       "                5.22765376e-03+0.j, -5.07524178e-02+0.j,\n",
       "               -7.08573537e-02+0.j, -4.42668766e-02+0.j,\n",
       "               -2.15258503e-02+0.j,  2.50084642e-01+0.j,\n",
       "               -6.29412896e-01+0.j,  1.68102143e-01+0.j,\n",
       "               -9.19505257e-02+0.j,  5.36355281e-01+0.j,\n",
       "               -4.35572312e-01+0.j, -1.10736598e-01+0.j,\n",
       "               -3.75056675e-02+0.j,  4.46721633e-02+0.j,\n",
       "                1.72725685e-03+0.j, -4.37285089e-03+0.j,\n",
       "               -1.31865117e-02+0.j],\n",
       "              [-2.62426068e-01+0.j, -3.32627510e-02+0.j,\n",
       "                6.53312986e-02+0.j, -1.59630136e-01+0.j,\n",
       "                2.70442096e-02+0.j, -1.64643031e-01+0.j,\n",
       "                1.10031890e-01+0.j,  1.53731650e-01+0.j,\n",
       "                3.25846834e-03+0.j, -1.13813217e-01+0.j,\n",
       "                5.38947444e-01+0.j,  1.96804470e-01+0.j,\n",
       "                4.25673314e-02+0.j,  2.70775267e-01+0.j,\n",
       "               -9.10379335e-02+0.j,  3.78486846e-02+0.j,\n",
       "               -3.69329298e-02+0.j, -5.98831007e-02+0.j,\n",
       "               -2.91750700e-02+0.j,  4.88193371e-01+0.j,\n",
       "                2.22374795e-01+0.j, -3.16568032e-01+0.j,\n",
       "                5.96705381e-02+0.j,  4.27152225e-02+0.j,\n",
       "                1.02469318e-01+0.j],\n",
       "              [ 5.17346333e-02+0.j,  5.49170730e-02+0.j,\n",
       "                2.39195127e-02+0.j,  5.61234812e-02+0.j,\n",
       "               -2.80455272e-02+0.j, -1.01860189e-01+0.j,\n",
       "               -2.06903875e-01+0.j,  2.89809791e-03+0.j,\n",
       "               -5.23976179e-01+0.j, -1.44601952e-01+0.j,\n",
       "               -5.09366304e-02+0.j,  2.88030992e-02+0.j,\n",
       "                4.99709463e-01+0.j,  3.12031442e-02+0.j,\n",
       "               -1.18453108e-02+0.j, -6.68273524e-02+0.j,\n",
       "               -1.35168686e-01+0.j, -3.46030881e-02+0.j,\n",
       "                2.16784205e-03+0.j, -1.12929742e-01+0.j,\n",
       "               -2.65022392e-01+0.j, -3.95963057e-01+0.j,\n",
       "                2.37790453e-01+0.j, -2.07471469e-01+0.j,\n",
       "               -1.53602046e-01+0.j],\n",
       "              [ 1.98316908e-01+0.j, -2.28894301e-02+0.j,\n",
       "               -4.33357460e-02+0.j,  1.79679991e-01+0.j,\n",
       "                2.15409301e-02+0.j, -3.10937175e-01+0.j,\n",
       "               -3.75026449e-01+0.j, -1.25796523e-01+0.j,\n",
       "                3.29243797e-01+0.j, -2.75204236e-02+0.j,\n",
       "               -1.09870059e-01+0.j,  4.43515862e-01+0.j,\n",
       "                1.22167298e-02+0.j,  3.95635526e-02+0.j,\n",
       "               -9.43403679e-03+0.j,  6.94551054e-02+0.j,\n",
       "                3.22425252e-02+0.j, -3.32012562e-02+0.j,\n",
       "                7.48442635e-03+0.j, -2.08938505e-01+0.j,\n",
       "                1.63418645e-01+0.j, -1.53984090e-01+0.j,\n",
       "                3.22585667e-01+0.j,  2.17759832e-01+0.j,\n",
       "                3.16311687e-01+0.j],\n",
       "              [ 5.95701362e-01+0.j,  8.99053474e-02+0.j,\n",
       "               -1.49055434e-01+0.j,  5.12683863e-01+0.j,\n",
       "                4.10935138e-01+0.j,  7.82885889e-02+0.j,\n",
       "                5.59388856e-02+0.j, -4.03987405e-02+0.j,\n",
       "               -8.93511642e-02+0.j,  9.84853510e-02+0.j,\n",
       "                2.19121588e-01+0.j, -6.56316475e-02+0.j,\n",
       "               -2.21332836e-02+0.j,  2.99571093e-02+0.j,\n",
       "               -5.83346290e-02+0.j,  6.51023778e-03+0.j,\n",
       "               -1.82826009e-02+0.j,  2.87619226e-02+0.j,\n",
       "                2.06534743e-02+0.j,  2.75229093e-01+0.j,\n",
       "                6.08007642e-02+0.j, -4.08509856e-02+0.j,\n",
       "               -1.04774686e-01+0.j, -3.55603870e-02+0.j,\n",
       "               -4.95207808e-02+0.j]], dtype=complex128)]"
      ]
     },
     "execution_count": 325,
     "metadata": {},
     "output_type": "execute_result"
    }
   ],
   "source": [
    "jnp.linalg.eig(jacfwd(g_l)(opt_S.T.flatten()))"
   ]
  },
  {
   "cell_type": "code",
   "execution_count": 336,
   "metadata": {},
   "outputs": [
    {
     "data": {
      "text/plain": [
       "(DeviceArray([[-1.00000000e+00, -4.83987850e-16,  2.77555756e-16,\n",
       "               -1.38777878e-16,  2.77555756e-16],\n",
       "              [ 3.00107161e-16, -1.00000000e+00,  2.17182045e-12,\n",
       "               -3.17276722e-14, -1.20523638e-12],\n",
       "              [ 2.77555756e-16,  2.17241188e-12,  1.00000000e+00,\n",
       "               -4.86930895e-12,  8.33080827e-12],\n",
       "              [ 1.31838984e-16,  3.18889338e-14, -4.86934798e-12,\n",
       "               -1.00000000e+00,  6.07175378e-12],\n",
       "              [ 1.94289029e-16, -1.20537602e-12, -8.33062438e-12,\n",
       "                6.07166184e-12,  1.00000000e+00]], dtype=float64),\n",
       " DeviceArray([3.57749375, 0.79727649, 0.69901923, 0.64158525, 0.60197686],            dtype=float64),\n",
       " DeviceArray([[-0.4472136 , -0.4472136 , -0.4472136 , -0.4472136 ,\n",
       "               -0.4472136 ],\n",
       "              [-0.00855154,  0.54750575, -0.39704663,  0.44501589,\n",
       "               -0.58692347],\n",
       "              [ 0.78747393, -0.06581057, -0.54309959, -0.26907914,\n",
       "                0.09051537],\n",
       "              [-0.10556283, -0.51388777, -0.3835734 ,  0.69466832,\n",
       "                0.30835568],\n",
       "              [ 0.4106923 , -0.48148291,  0.44751341,  0.21677916,\n",
       "               -0.59350197]], dtype=float64))"
      ]
     },
     "execution_count": 336,
     "metadata": {},
     "output_type": "execute_result"
    }
   ],
   "source": [
    "jnp.linalg.svd(opt_S)"
   ]
  },
  {
   "cell_type": "code",
   "execution_count": 312,
   "metadata": {},
   "outputs": [
    {
     "data": {
      "text/plain": [
       "(DeviceArray([[-1.00000000e+00,  2.49800181e-16,  2.77555756e-17,\n",
       "                0.00000000e+00, -5.55111512e-17],\n",
       "              [ 1.38777878e-16,  1.00000000e+00,  7.57787964e-11,\n",
       "               -1.66162668e-10,  7.16268052e-11],\n",
       "              [ 1.66533454e-16, -7.57782656e-11,  1.00000000e+00,\n",
       "               -2.21553076e-10, -3.26113164e-10],\n",
       "              [ 1.38777878e-17,  1.66162710e-10,  2.21553336e-10,\n",
       "                1.00000000e+00,  9.66468598e-11],\n",
       "              [-2.77555756e-17,  7.16268954e-11, -3.26113230e-10,\n",
       "                9.66466993e-11, -1.00000000e+00]], dtype=float64),\n",
       " DeviceArray([3.57749375, 0.79727649, 0.69901923, 0.64158525, 0.60197686],            dtype=float64),\n",
       " DeviceArray([[ 0.4472136 ,  0.4472136 ,  0.4472136 ,  0.4472136 ,\n",
       "                0.4472136 ],\n",
       "              [-0.38796791, -0.58332269, -0.03587543,  0.52277659,\n",
       "                0.48438944],\n",
       "              [ 0.5975515 , -0.11288845, -0.75139256,  0.2558909 ,\n",
       "                0.0108386 ],\n",
       "              [-0.19651635,  0.31685345, -0.35591583, -0.47658445,\n",
       "                0.71216318],\n",
       "              [-0.50378014,  0.58872296, -0.32778972,  0.48383029,\n",
       "               -0.24098339]], dtype=float64))"
      ]
     },
     "execution_count": 312,
     "metadata": {},
     "output_type": "execute_result"
    }
   ],
   "source": [
    "jnp.linalg.svd(opt_S)"
   ]
  },
  {
   "cell_type": "code",
   "execution_count": 234,
   "metadata": {},
   "outputs": [
    {
     "data": {
      "text/plain": [
       "(DeviceArray([[-1.00000000e+00,  1.94289029e-16, -1.38777878e-16,\n",
       "               -1.83880688e-16,  1.45716772e-16],\n",
       "              [-2.08166817e-16, -1.00000000e+00, -1.27409910e-13,\n",
       "               -1.91092631e-12, -8.79287962e-16],\n",
       "              [-1.35308431e-16, -1.27821365e-13,  1.00000000e+00,\n",
       "               -2.16263043e-12, -1.11445171e-11],\n",
       "              [ 1.83447008e-16,  1.91083096e-12, -2.16264495e-12,\n",
       "               -1.00000000e+00, -1.23530697e-12],\n",
       "              [ 1.45716772e-16, -4.32000356e-16,  1.11450234e-11,\n",
       "               -1.23527608e-12,  1.00000000e+00]], dtype=float64),\n",
       " DeviceArray([10.43398411,  0.26575781,  0.22358633,  0.20206671,\n",
       "               0.18805993], dtype=float64),\n",
       " DeviceArray([[-0.4472136 , -0.4472136 , -0.4472136 , -0.4472136 ,\n",
       "               -0.4472136 ],\n",
       "              [ 0.57718034, -0.45474982,  0.49192436, -0.42833831,\n",
       "               -0.18601657],\n",
       "              [-0.24659302,  0.13225447,  0.46875384,  0.38810881,\n",
       "               -0.7425241 ],\n",
       "              [ 0.08714827,  0.7573563 , -0.01518982, -0.60792455,\n",
       "               -0.22139019],\n",
       "              [ 0.63123681,  0.04607368, -0.58142027,  0.31036363,\n",
       "               -0.40625385]], dtype=float64))"
      ]
     },
     "execution_count": 234,
     "metadata": {},
     "output_type": "execute_result"
    }
   ],
   "source": [
    "jnp.linalg.svd(opt_S) # big cond"
   ]
  },
  {
   "cell_type": "code",
   "execution_count": 233,
   "metadata": {},
   "outputs": [
    {
     "data": {
      "text/plain": [
       "DeviceArray([[ 4.66621955e+00,  4.66621955e+00,  4.66621955e+00,\n",
       "               4.66621955e+00,  4.66621955e+00],\n",
       "             [-1.53390184e-01,  1.20853318e-01, -1.30732741e-01,\n",
       "               1.13834252e-01,  4.94353553e-02],\n",
       "             [-5.51348291e-02,  2.95702925e-02,  1.04806951e-01,\n",
       "               8.67758245e-02, -1.66018239e-01],\n",
       "             [-1.76097633e-02, -1.53036497e-01,  3.06935688e-03,\n",
       "               1.22841315e-01,  4.47355884e-02],\n",
       "             [ 1.18710352e-01,  8.66461263e-03, -1.09341857e-01,\n",
       "               5.83669627e-02, -7.64000703e-02]], dtype=float64)"
      ]
     },
     "execution_count": 233,
     "metadata": {},
     "output_type": "execute_result"
    }
   ],
   "source": [
    "opt_S # big cond"
   ]
  },
  {
   "cell_type": "code",
   "execution_count": 24,
   "metadata": {},
   "outputs": [
    {
     "data": {
      "text/plain": [
       "DeviceArray([[ 7634.94445675, 13529.81519909, -2254.41501565],\n",
       "             [13529.81519909, 23980.8739728 , -3990.67954831],\n",
       "             [-2254.41501565, -3990.67954831,   895.88605011]],            dtype=float64)"
      ]
     },
     "execution_count": 24,
     "metadata": {},
     "output_type": "execute_result"
    }
   ],
   "source": [
    "tmp_S = jnp.array([[ 0.46894552,  0.47597278,  0.47130594],\n",
    "                   [-0.2711654 , -0.25765545, -0.26738272],\n",
    "                   [-0.00906304,  0.05779771, -0.03156821]])\n",
    "\n",
    "jnp.linalg.inv(tmp_S).T @ jnp.linalg.inv(tmp_S)"
   ]
  },
  {
   "cell_type": "code",
   "execution_count": 19,
   "metadata": {},
   "outputs": [
    {
     "data": {
      "text/plain": [
       "DeviceArray(4.74187763, dtype=float64)"
      ]
     },
     "execution_count": 19,
     "metadata": {},
     "output_type": "execute_result"
    }
   ],
   "source": [
    "l(opt_S.T.flatten())"
   ]
  },
  {
   "cell_type": "code",
   "execution_count": 71,
   "metadata": {},
   "outputs": [
    {
     "data": {
      "text/plain": [
       "DeviceArray([2.59581233e+00, 1.18250514e-15, 8.05796821e-03], dtype=float64)"
      ]
     },
     "execution_count": 71,
     "metadata": {},
     "output_type": "execute_result"
    }
   ],
   "source": [
    "jnp.linalg.inv(opt_S).T @ jnp.diag((opt_S.T @ D @ opt_S))"
   ]
  },
  {
   "cell_type": "code",
   "execution_count": 70,
   "metadata": {},
   "outputs": [
    {
     "data": {
      "text/plain": [
       "DeviceArray([3.65963382, 3.65963382, 3.76305915], dtype=float64)"
      ]
     },
     "execution_count": 70,
     "metadata": {},
     "output_type": "execute_result"
    }
   ],
   "source": [
    "jnp.diag((opt_S.T @ D @ opt_S))"
   ]
  },
  {
   "cell_type": "code",
   "execution_count": 132,
   "metadata": {},
   "outputs": [
    {
     "data": {
      "text/plain": [
       "DeviceArray([[ 1.40907226e+00,  1.40907226e+00,  1.45092927e+00],\n",
       "             [-4.45282412e-01,  4.45282412e-01,  1.56062810e-15],\n",
       "             [ 2.41584116e-01,  2.41584116e-01, -4.07168687e-01]],            dtype=float64)"
      ]
     },
     "execution_count": 132,
     "metadata": {},
     "output_type": "execute_result"
    }
   ],
   "source": [
    "opt_S"
   ]
  },
  {
   "cell_type": "code",
   "execution_count": 539,
   "metadata": {},
   "outputs": [],
   "source": [
    "a = jnp.linalg.norm(D**(0.5) @ opt_S, axis=0)\n",
    "A_inv = jnp.diag(1/a)\n",
    "A = jnp.diag(a)\n",
    "\n",
    "D = jnp.diag(jnp.linspace(1, 10, dim))\n",
    "\n",
    "U = D**(0.5) @ opt_S @ A_inv\n",
    "U_inv = jnp.linalg.inv(U)\n",
    "\n",
    "M = jnp.outer(a, a) + jnp.outer(1/a, 1/a) + A_inv @ A_inv\n",
    "\n",
    "LHS = M @ U_inv @ D @ U_inv.T\n",
    "\n",
    "RHS = U.T @ U"
   ]
  },
  {
   "cell_type": "code",
   "execution_count": 503,
   "metadata": {},
   "outputs": [
    {
     "data": {
      "text/plain": [
       "DeviceArray([[4.20613658, 3.9328852 , 3.98045634],\n",
       "             [3.9328852 , 4.20613658, 3.98045634],\n",
       "             [3.98045634, 3.98045634, 4.29454162]], dtype=float64)"
      ]
     },
     "execution_count": 503,
     "metadata": {},
     "output_type": "execute_result"
    }
   ],
   "source": [
    "M"
   ]
  },
  {
   "cell_type": "code",
   "execution_count": 505,
   "metadata": {},
   "outputs": [
    {
     "data": {
      "text/plain": [
       "DeviceArray([[ 7.36570715e-01,  7.36570715e-01,  7.47955431e-01],\n",
       "             [-5.45881116e-01,  5.45881116e-01,  1.49634540e-14],\n",
       "             [ 3.99346203e-01,  3.99346203e-01, -6.63748953e-01]],            dtype=float64)"
      ]
     },
     "execution_count": 505,
     "metadata": {},
     "output_type": "execute_result"
    }
   ],
   "source": [
    "U"
   ]
  },
  {
   "cell_type": "code",
   "execution_count": 362,
   "metadata": {},
   "outputs": [
    {
     "name": "stdout",
     "output_type": "stream",
     "text": [
      "[[ 4.7986754   2.38559048  0.10864699]\n",
      " [-2.00660082  5.03323623  4.51810515]\n",
      " [-4.92366488  3.81310719  8.73677208]]\n",
      "[[1.         0.4040276  0.68104522]\n",
      " [0.4040276  1.         0.08507283]\n",
      " [0.68104522 0.08507283 1.        ]]\n"
     ]
    }
   ],
   "source": [
    "print(LHS)\n",
    "print(RHS)"
   ]
  },
  {
   "cell_type": "code",
   "execution_count": 506,
   "metadata": {},
   "outputs": [
    {
     "data": {
      "text/plain": [
       "DeviceArray([[ 7.04657316, -2.18204237, -4.22711258],\n",
       "             [-2.18204237,  7.04657316, -4.22711258],\n",
       "             [-4.22711258, -4.22711258,  9.00345389]], dtype=float64)"
      ]
     },
     "execution_count": 506,
     "metadata": {},
     "output_type": "execute_result"
    }
   ],
   "source": [
    "U_inv @ D @ U_inv.T"
   ]
  },
  {
   "cell_type": "code",
   "execution_count": 335,
   "metadata": {},
   "outputs": [
    {
     "data": {
      "text/plain": [
       "DeviceArray([[ 7.04657316, -2.18204237, -4.22711258],\n",
       "             [-2.18204237,  7.04657316, -4.22711258],\n",
       "             [-4.22711258, -4.22711258,  9.00345389]], dtype=float64)"
      ]
     },
     "execution_count": 335,
     "metadata": {},
     "output_type": "execute_result"
    }
   ],
   "source": [
    "U_inv @ D @ U_inv.T "
   ]
  },
  {
   "cell_type": "code",
   "execution_count": 365,
   "metadata": {},
   "outputs": [
    {
     "data": {
      "text/plain": [
       "DeviceArray([[ 20.29051132,  -4.61430769, -15.67620363],\n",
       "             [ -4.61430769,   5.07510625,   0.46079857],\n",
       "             [-15.67620363,   0.46079857,  16.1370022 ]], dtype=float64)"
      ]
     },
     "execution_count": 365,
     "metadata": {},
     "output_type": "execute_result"
    }
   ],
   "source": [
    "U_inv @ D @ U_inv.T "
   ]
  },
  {
   "cell_type": "code",
   "execution_count": 460,
   "metadata": {},
   "outputs": [
    {
     "data": {
      "text/plain": [
       "DeviceArray([[3.71098678, 1.61467636, 1.78435418, 1.30390991, 1.33234607],\n",
       "             [1.61467636, 3.71098678, 1.14895301, 1.77023792, 1.50141922],\n",
       "             [1.78435418, 1.14895301, 3.71098678, 1.43079839, 1.67118093],\n",
       "             [1.30390991, 1.77023792, 1.43079839, 3.71098678, 1.53034029],\n",
       "             [1.33234607, 1.50141922, 1.67118093, 1.53034029, 3.71098678]],            dtype=float64)"
      ]
     },
     "execution_count": 460,
     "metadata": {},
     "output_type": "execute_result"
    }
   ],
   "source": [
    "U.T @ U @ lmbda"
   ]
  },
  {
   "cell_type": "code",
   "execution_count": 339,
   "metadata": {},
   "outputs": [
    {
     "data": {
      "text/plain": [
       "DeviceArray([[4.23128993, 1.70955798, 1.20954149],\n",
       "             [1.70955798, 4.23128993, 1.20954149],\n",
       "             [1.43329374, 1.43329374, 5.01403335]], dtype=float64)"
      ]
     },
     "execution_count": 339,
     "metadata": {},
     "output_type": "execute_result"
    }
   ],
   "source": [
    "lmbda @ U.T @ U "
   ]
  },
  {
   "cell_type": "code",
   "execution_count": 459,
   "metadata": {},
   "outputs": [
    {
     "data": {
      "text/plain": [
       "DeviceArray([[3.71098678, 1.61467636, 1.78435418, 1.30390991, 1.33234607],\n",
       "             [1.61467636, 3.71098678, 1.14895301, 1.77023792, 1.50141922],\n",
       "             [1.78435418, 1.14895301, 3.71098678, 1.43079839, 1.67118093],\n",
       "             [1.30390991, 1.77023792, 1.43079839, 3.71098678, 1.53034029],\n",
       "             [1.33234607, 1.50141922, 1.67118093, 1.53034029, 3.71098678]],            dtype=float64)"
      ]
     },
     "execution_count": 459,
     "metadata": {},
     "output_type": "execute_result"
    }
   ],
   "source": [
    "lmbda = jnp.diag(jnp.array([3.71098678, 3.71098678, 3.71098678, 3.71098678, 3.71098678]))\n",
    "\n",
    "U_inv @ D @ U @ lmbda @ U.T @ jnp.linalg.inv(D) @ U"
   ]
  },
  {
   "cell_type": "code",
   "execution_count": 333,
   "metadata": {},
   "outputs": [
    {
     "data": {
      "text/plain": [
       "DeviceArray([[2.59235675, 2.13386003, 2.21895404],\n",
       "             [2.13386003, 2.59235675, 2.21895404],\n",
       "             [2.62943683, 2.62943683, 3.02593701]], dtype=float64)"
      ]
     },
     "execution_count": 333,
     "metadata": {},
     "output_type": "execute_result"
    }
   ],
   "source": [
    "lmbda @ U.T @ jnp.linalg.inv(D) @ U"
   ]
  },
  {
   "cell_type": "code",
   "execution_count": 455,
   "metadata": {},
   "outputs": [
    {
     "data": {
      "text/plain": [
       "DeviceArray([[3.71098678, 3.71098678, 3.71098678, 3.71098678, 3.71098678],\n",
       "             [3.71098678, 3.71098678, 3.71098678, 3.71098678, 3.71098678],\n",
       "             [3.71098678, 3.71098678, 3.71098678, 3.71098678, 3.71098678],\n",
       "             [3.71098678, 3.71098678, 3.71098678, 3.71098678, 3.71098678],\n",
       "             [3.71098678, 3.71098678, 3.71098678, 3.71098678, 3.71098678]],            dtype=float64)"
      ]
     },
     "execution_count": 455,
     "metadata": {},
     "output_type": "execute_result"
    }
   ],
   "source": [
    "LHS/RHS"
   ]
  },
  {
   "cell_type": "code",
   "execution_count": 304,
   "metadata": {},
   "outputs": [
    {
     "data": {
      "text/plain": [
       "[DeviceArray([1.65394012+0.j, 0.59597238+0.j, 0.7500875 +0.j], dtype=complex128),\n",
       " DeviceArray([[-6.01457829e-01+0.j, -7.07106781e-01+0.j,\n",
       "               -3.71817805e-01+0.j],\n",
       "              [-6.01457829e-01+0.j,  7.07106781e-01+0.j,\n",
       "               -3.71817805e-01+0.j],\n",
       "              [-5.25829783e-01+0.j,  3.80837462e-15+0.j,\n",
       "                8.50589818e-01+0.j]], dtype=complex128)]"
      ]
     },
     "execution_count": 304,
     "metadata": {},
     "output_type": "execute_result"
    }
   ],
   "source": [
    "jnp.linalg.eig(U.T @ U)"
   ]
  },
  {
   "cell_type": "code",
   "execution_count": 461,
   "metadata": {},
   "outputs": [
    {
     "name": "stdout",
     "output_type": "stream",
     "text": [
      "[[11.66353269 11.21053529 11.21053529 11.21053529 11.21053529]\n",
      " [11.21053529 11.66353269 11.21053529 11.21053529 11.21053529]\n",
      " [11.21053529 11.21053529 11.66353269 11.21053529 11.21053529]\n",
      " [11.21053529 11.21053529 11.21053529 11.66353269 11.21053529]\n",
      " [11.21053529 11.21053529 11.21053529 11.21053529 11.66353269]]\n",
      "[[-2.54887105e-14  2.09631042e+00  1.92663260e+00  2.40707687e+00\n",
      "   2.37864071e+00]\n",
      " [ 2.09631042e+00 -2.35280404e-14  2.56203377e+00  1.94074886e+00\n",
      "   2.20956756e+00]\n",
      " [ 1.92663260e+00  2.56203377e+00  1.96067004e-15  2.28018839e+00\n",
      "   2.03980585e+00]\n",
      " [ 2.40707687e+00  1.94074886e+00  2.28018839e+00  0.00000000e+00\n",
      "   2.18064649e+00]\n",
      " [ 2.37864071e+00  2.20956756e+00  2.03980585e+00  2.18064649e+00\n",
      "   3.13707206e-14]]\n"
     ]
    },
    {
     "data": {
      "text/plain": [
       "DeviceArray([[2.02160206, 2.11456014, 2.11456014, 2.11456014, 2.11456014],\n",
       "             [2.11456014, 2.02160206, 2.11456014, 2.11456014, 2.11456014],\n",
       "             [2.11456014, 2.11456014, 2.02160206, 2.11456014, 2.11456014],\n",
       "             [2.11456014, 2.11456014, 2.11456014, 2.02160206, 2.11456014],\n",
       "             [2.11456014, 2.11456014, 2.11456014, 2.11456014, 2.02160206]],            dtype=float64)"
      ]
     },
     "execution_count": 461,
     "metadata": {},
     "output_type": "execute_result"
    }
   ],
   "source": [
    "C = U_inv @ D**(0.5)\n",
    "C = C @ C.T\n",
    "\n",
    "\n",
    "\n",
    "\n",
    "H = jnp.outer(a, jnp.ones(dim)) - A_inv ** 3 - jnp.outer(1/a, 1/a**2)\n",
    "\n",
    "print(M @ A)\n",
    "\n",
    "print(C @ H @ A)\n",
    "\n",
    "\n",
    "H"
   ]
  },
  {
   "cell_type": "code",
   "execution_count": 464,
   "metadata": {},
   "outputs": [
    {
     "name": "stdout",
     "output_type": "stream",
     "text": [
      "[ 8.66131328 -1.55429387 -0.72743067 -3.06870124 -2.93012794]\n",
      "[-1.55429387  8.66131328 -3.82382737 -0.79622112 -2.10621136]\n",
      "[-0.72743067 -3.82382737  8.66131328 -2.45035632 -1.27893936]\n",
      "[-3.06870124 -0.79622112 -2.45035632  8.66131328 -1.96527505]\n",
      "[-2.93012794 -2.10621136 -1.27893936 -1.96527505  8.66131328]\n"
     ]
    }
   ],
   "source": [
    "for i in range(5):\n",
    "    print(C[i])"
   ]
  },
  {
   "cell_type": "code",
   "execution_count": 348,
   "metadata": {},
   "outputs": [
    {
     "data": {
      "text/plain": [
       "DeviceArray([[3.11313105, 3.38638244, 3.44151604],\n",
       "             [3.38638244, 3.11313105, 3.44151604],\n",
       "             [3.44151604, 3.44151604, 3.23157667]], dtype=float64)"
      ]
     },
     "execution_count": 348,
     "metadata": {},
     "output_type": "execute_result"
    }
   ],
   "source": [
    "(jnp.outer(a, jnp.ones(dim)) - A_inv ** 3 - jnp.outer(1/a, 1/a**2) ) @ A"
   ]
  },
  {
   "cell_type": "code",
   "execution_count": 315,
   "metadata": {},
   "outputs": [
    {
     "data": {
      "text/plain": [
       "DeviceArray([[-2.94778312, -1.75780798,  1.52123635],\n",
       "             [-2.94778312, -1.75780798,  1.52123635],\n",
       "             [-2.94778312, -1.75780798,  1.52123635]], dtype=float64)"
      ]
     },
     "execution_count": 315,
     "metadata": {},
     "output_type": "execute_result"
    }
   ],
   "source": [
    "jrandom_key, subkey = jrandom.split(jrandom_key)\n",
    "lmbda = jrandom.normal(subkey, shape=(dim,))\n",
    "lmbda = jnp.ones(shape=(dim, dim,)) * lmbda \n",
    "jrandom_key, subkey = jrandom.split(jrandom_key)\n",
    "R = jrandom.normal(subkey, shape=(dim, dim,))\n",
    "\n",
    "lmbda.dot(R)\n"
   ]
  },
  {
   "cell_type": "code",
   "execution_count": 465,
   "metadata": {},
   "outputs": [
    {
     "data": {
      "text/plain": [
       "DeviceArray([[0.87592835, 0.87592835, 0.87592835, 0.87592835, 0.87592835],\n",
       "             [0.87592835, 0.87592835, 0.87592835, 0.87592835, 0.87592835],\n",
       "             [0.87592835, 0.87592835, 0.87592835, 0.87592835, 0.87592835],\n",
       "             [0.87592835, 0.87592835, 0.87592835, 0.87592835, 0.87592835],\n",
       "             [0.87592835, 0.87592835, 0.87592835, 0.87592835, 0.87592835]],            dtype=float64)"
      ]
     },
     "execution_count": 465,
     "metadata": {},
     "output_type": "execute_result"
    }
   ],
   "source": [
    "(jnp.outer(a, jnp.ones(dim)) + jnp.outer(1/a, 1/a**2)) @ (U_inv @ D @ U_inv.T)"
   ]
  },
  {
   "cell_type": "code",
   "execution_count": 488,
   "metadata": {},
   "outputs": [
    {
     "data": {
      "text/plain": [
       "DeviceArray([[ 0.72475227,  0.72475227,  0.72475227,  0.72475227,\n",
       "               0.72475227],\n",
       "             [-0.32866282,  0.34160635,  0.35979745, -0.19845954,\n",
       "              -0.17428145],\n",
       "             [-0.07457038, -0.24951459,  0.24210356,  0.50016954,\n",
       "              -0.41818812],\n",
       "             [-0.52008212, -0.27753713,  0.12480351,  0.15583895,\n",
       "               0.51697679],\n",
       "             [ 0.30111251, -0.46771236,  0.52066293, -0.40111421,\n",
       "               0.04705113]], dtype=float64)"
      ]
     },
     "execution_count": 488,
     "metadata": {},
     "output_type": "execute_result"
    }
   ],
   "source": [
    "U"
   ]
  },
  {
   "cell_type": "code",
   "execution_count": 487,
   "metadata": {},
   "outputs": [
    {
     "data": {
      "text/plain": [
       "DeviceArray([[3.62376137e+00, 4.24660307e-15, 3.33066907e-16,\n",
       "              3.33066907e-16, 1.26287869e-15],\n",
       "             [3.62376137e+00, 4.24660307e-15, 3.33066907e-16,\n",
       "              3.33066907e-16, 1.26287869e-15],\n",
       "             [3.62376137e+00, 4.24660307e-15, 3.33066907e-16,\n",
       "              3.33066907e-16, 1.26287869e-15],\n",
       "             [3.62376137e+00, 4.24660307e-15, 3.33066907e-16,\n",
       "              3.33066907e-16, 1.26287869e-15],\n",
       "             [3.62376137e+00, 4.24660307e-15, 3.33066907e-16,\n",
       "              3.33066907e-16, 1.26287869e-15]], dtype=float64)"
      ]
     },
     "execution_count": 487,
     "metadata": {},
     "output_type": "execute_result"
    }
   ],
   "source": [
    "jnp.outer(jnp.ones(dim), jnp.ones(dim)) @ U.T"
   ]
  },
  {
   "cell_type": "code",
   "execution_count": 507,
   "metadata": {},
   "outputs": [
    {
     "data": {
      "text/plain": [
       "DeviceArray([[ 2.22109686e+00, -1.33472332e-14,  1.34943453e-01],\n",
       "             [ 2.22109686e+00, -1.33472332e-14,  1.34943453e-01],\n",
       "             [ 2.22109686e+00, -1.33472332e-14,  1.34943453e-01]],            dtype=float64)"
      ]
     },
     "execution_count": 507,
     "metadata": {},
     "output_type": "execute_result"
    }
   ],
   "source": [
    "jnp.outer(jnp.ones(dim), jnp.ones(dim)) @ U.T"
   ]
  },
  {
   "cell_type": "code",
   "execution_count": 284,
   "metadata": {},
   "outputs": [],
   "source": [
    "R /= jnp.linalg.norm(R, axis=0)"
   ]
  },
  {
   "cell_type": "code",
   "execution_count": 285,
   "metadata": {},
   "outputs": [
    {
     "data": {
      "text/plain": [
       "DeviceArray([[ 1.59517388,  1.49538716, -2.1206521 ],\n",
       "             [ 1.49538716,  7.64693912, -5.96978696],\n",
       "             [-2.1206521 , -5.96978696,  8.90720217]], dtype=float64)"
      ]
     },
     "execution_count": 285,
     "metadata": {},
     "output_type": "execute_result"
    }
   ],
   "source": [
    "R.T @ D @ R"
   ]
  },
  {
   "cell_type": "code",
   "execution_count": 520,
   "metadata": {},
   "outputs": [
    {
     "data": {
      "text/plain": [
       "DeviceArray([2.59581233e+00, 2.44623260e-16, 8.05796821e-03], dtype=float64)"
      ]
     },
     "execution_count": 520,
     "metadata": {},
     "output_type": "execute_result"
    }
   ],
   "source": [
    "jnp.linalg.inv(opt_S.T) @ jnp.diag(opt_S.T @ D @ opt_S)"
   ]
  },
  {
   "cell_type": "code",
   "execution_count": 513,
   "metadata": {},
   "outputs": [
    {
     "data": {
      "text/plain": [
       "DeviceArray(40.9464535, dtype=float64)"
      ]
     },
     "execution_count": 513,
     "metadata": {},
     "output_type": "execute_result"
    }
   ],
   "source": [
    "jnp.linalg.norm(jnp.diag(opt_S.T @ D @ opt_S))**2"
   ]
  },
  {
   "cell_type": "code",
   "execution_count": 527,
   "metadata": {},
   "outputs": [
    {
     "data": {
      "text/plain": [
       "DeviceArray([[ 5.73022280e-01+0.j,  7.07106781e-01+0.j,\n",
       "              -4.14301179e-01+0.j],\n",
       "             [ 5.73022280e-01+0.j, -7.07106781e-01+0.j,\n",
       "              -4.14301179e-01+0.j],\n",
       "             [ 5.85910346e-01+0.j, -2.68757255e-14+0.j,\n",
       "               8.10375880e-01+0.j]], dtype=complex128)"
      ]
     },
     "execution_count": 527,
     "metadata": {},
     "output_type": "execute_result"
    }
   ],
   "source": [
    "W"
   ]
  },
  {
   "cell_type": "code",
   "execution_count": 583,
   "metadata": {},
   "outputs": [
    {
     "data": {
      "text/plain": [
       "DeviceArray(2.+0.j, dtype=complex128)"
      ]
     },
     "execution_count": 583,
     "metadata": {},
     "output_type": "execute_result"
    }
   ],
   "source": [
    "1-(W[:, 0] @ v) "
   ]
  },
  {
   "cell_type": "code",
   "execution_count": 552,
   "metadata": {},
   "outputs": [
    {
     "data": {
      "text/plain": [
       "DeviceArray([0.56539395, 0.56539395, 0.60054923], dtype=float64)"
      ]
     },
     "execution_count": 552,
     "metadata": {},
     "output_type": "execute_result"
    }
   ],
   "source": [
    "v"
   ]
  },
  {
   "cell_type": "code",
   "execution_count": 530,
   "metadata": {},
   "outputs": [
    {
     "data": {
      "text/plain": [
       "DeviceArray([0.09034352, 0.09034352, 0.10411374], dtype=float64)"
      ]
     },
     "execution_count": 530,
     "metadata": {},
     "output_type": "execute_result"
    }
   ],
   "source": [
    "opt_S_inv @ opt_S_inv.T @ v"
   ]
  },
  {
   "cell_type": "code",
   "execution_count": 603,
   "metadata": {},
   "outputs": [
    {
     "name": "stdout",
     "output_type": "stream",
     "text": [
      "(0.16453960378553398+0j)\n",
      "0.16456386397914224\n"
     ]
    }
   ],
   "source": [
    "opt_S_inv = jnp.linalg.inv(opt_S)\n",
    "\n",
    "L, W = jnp.linalg.eig(opt_S_inv @ opt_S_inv.T)\n",
    "\n",
    "v = jnp.diag(opt_S.T @ D @ opt_S)\n",
    "v /= jnp.linalg.norm(v)\n",
    "\n",
    "print(min(L) * jnp.linalg.norm(v)**2)\n",
    "\n",
    "print(v.T @ opt_S_inv @ opt_S_inv.T @ v)\n",
    "\n"
   ]
  },
  {
   "cell_type": "code",
   "execution_count": 295,
   "metadata": {},
   "outputs": [
    {
     "data": {
      "text/plain": [
       "DeviceArray([[  22.52738671,    2.46700027,    1.81062539],\n",
       "             [ -66.8502059 ,   -7.32084365,   -5.37304577],\n",
       "             [-416.49885253,  -45.6112728 ,  -33.475849  ]],            dtype=float64)"
      ]
     },
     "execution_count": 295,
     "metadata": {},
     "output_type": "execute_result"
    }
   ],
   "source": [
    "jnp.linalg.inv(R) @ D @ R @ lmbda @ R.T @ jnp.linalg.inv(D) @ R"
   ]
  },
  {
   "cell_type": "code",
   "execution_count": 294,
   "metadata": {},
   "outputs": [
    {
     "data": {
      "text/plain": [
       "DeviceArray([[   7.03798692,    3.78078682,   -2.20569436],\n",
       "             [ -20.88528426,  -11.21951608,    6.5454162 ],\n",
       "             [-130.12221593,  -69.90128916,   40.78010381]],            dtype=float64)"
      ]
     },
     "execution_count": 294,
     "metadata": {},
     "output_type": "execute_result"
    }
   ],
   "source": [
    "jnp.linalg.inv(R) @ D @ R @ lmbda"
   ]
  },
  {
   "cell_type": "markdown",
   "metadata": {},
   "source": [
    "Given some $M$ we want to find $U$ such that \n",
    "$$MU^{-1} D U^{-T} = U^T U \\lambda$$. \n",
    "or \n",
    "$$ M = U^T U \\lambda U^T D U $$"
   ]
  },
  {
   "cell_type": "code",
   "execution_count": 351,
   "metadata": {},
   "outputs": [
    {
     "data": {
      "text/plain": [
       "DeviceArray([[ 7.04657316, -2.18204237, -4.22711258],\n",
       "             [-2.18204237,  7.04657316, -4.22711258],\n",
       "             [-4.22711258, -4.22711258,  9.00345389]], dtype=float64)"
      ]
     },
     "execution_count": 351,
     "metadata": {},
     "output_type": "execute_result"
    }
   ],
   "source": [
    "U_inv @ D @ U_inv.T "
   ]
  },
  {
   "cell_type": "code",
   "execution_count": 360,
   "metadata": {},
   "outputs": [
    {
     "data": {
      "text/plain": [
       "DeviceArray([[1.        , 0.4040276 , 0.68104522],\n",
       "             [0.4040276 , 1.        , 0.08507283],\n",
       "             [0.68104522, 0.08507283, 1.        ]], dtype=float64)"
      ]
     },
     "execution_count": 360,
     "metadata": {},
     "output_type": "execute_result"
    }
   ],
   "source": [
    "UUU = jnp.array([[ 0.73657071, 0.54588112,  0.3993462 ], [ 0.73657071, -0.54588112,  0.3993462 ], [ 0.73657071, 0.54588112,  -0.3993462 ]]).T\n",
    "UUU.T @ UUU"
   ]
  },
  {
   "cell_type": "code",
   "execution_count": 324,
   "metadata": {},
   "outputs": [
    {
     "data": {
      "text/plain": [
       "DeviceArray([[  1.953535  ,  -1.43588558,   2.06340974],\n",
       "             [ -0.23977759, -42.63251494,  -0.1812307 ],\n",
       "             [  2.17221642,  -1.14251163,   2.09570629]], dtype=float64)"
      ]
     },
     "execution_count": 324,
     "metadata": {},
     "output_type": "execute_result"
    }
   ],
   "source": [
    "jrandom_key, subkey = jrandom.split(jrandom_key)\n",
    "\n",
    "b = jnp.abs(jrandom.normal(subkey, shape=(dim, )))\n",
    "B = jnp.diag(b)\n",
    "B_inv = jnp.linalg.inv(B)\n",
    "\n",
    "H = jnp.outer(b, jnp.ones(dim)) - B_inv ** 3 - jnp.outer(1/b, 1/b**2)\n",
    "\n",
    "\n",
    "\n",
    "H"
   ]
  },
  {
   "cell_type": "code",
   "execution_count": 325,
   "metadata": {},
   "outputs": [
    {
     "data": {
      "text/plain": [
       "DeviceArray([[2.15373108, 0.        , 0.        ],\n",
       "             [0.        , 0.35965013, 0.        ],\n",
       "             [0.        , 0.        , 2.26730054]], dtype=float64)"
      ]
     },
     "execution_count": 325,
     "metadata": {},
     "output_type": "execute_result"
    }
   ],
   "source": [
    "B"
   ]
  },
  {
   "cell_type": "code",
   "execution_count": 326,
   "metadata": {},
   "outputs": [
    {
     "data": {
      "text/plain": [
       "DeviceArray([[1.62734108, 1.77017901, 1.77410482],\n",
       "             [1.77017901, 1.62734108, 1.77410482],\n",
       "             [1.79899925, 1.79899925, 1.66588087]], dtype=float64)"
      ]
     },
     "execution_count": 326,
     "metadata": {},
     "output_type": "execute_result"
    }
   ],
   "source": [
    "M\n"
   ]
  },
  {
   "cell_type": "code",
   "execution_count": null,
   "metadata": {},
   "outputs": [],
   "source": []
  }
 ],
 "metadata": {
  "kernelspec": {
   "display_name": "Python3 (new_adv)",
   "language": "python",
   "name": "new_adv"
  },
  "language_info": {
   "codemirror_mode": {
    "name": "ipython",
    "version": 3
   },
   "file_extension": ".py",
   "mimetype": "text/x-python",
   "name": "python",
   "nbconvert_exporter": "python",
   "pygments_lexer": "ipython3",
   "version": "3.6.8"
  }
 },
 "nbformat": 4,
 "nbformat_minor": 2
}
