{
 "cells": [
  {
   "cell_type": "code",
   "execution_count": 1,
   "metadata": {},
   "outputs": [],
   "source": [
    "import jax.numpy as jnp\n",
    "import jax.random as jrandom\n",
    "\n",
    "import matplotlib.pyplot as plt\n",
    "import pandas as pd\n",
    "from jax import jit, grad, jacfwd, jacrev\n",
    "\n",
    "\n",
    "\n",
    "from scipy.stats import linregress\n",
    "\n",
    "from tqdm import tqdm\n",
    "import pickle\n",
    "\n",
    "import numpy as np\n",
    "\n",
    "from jax.config import config\n",
    "config.update(\"jax_enable_x64\", True)\n",
    "\n",
    "import matplotlib.pyplot as plt"
   ]
  },
  {
   "cell_type": "code",
   "execution_count": null,
   "metadata": {},
   "outputs": [],
   "source": [
    "# def helper_linesearch(f, g, c1, c2):\n",
    "\n",
    "#     def helper(X, search_direction):\n",
    "#         f0 = f(X)\n",
    "#         f1 = g(X)\n",
    "#         dg = jnp.inner(search_direction, f1)\n",
    "\n",
    "#         def armijo_rule(alpha):\n",
    "#             return f(X + alpha * search_direction) > f0 + c1*alpha*dg\n",
    "        \n",
    "#         def armijo_update(alpha):\n",
    "#             return c2*alpha\n",
    "            \n",
    "#         alpha = 1\n",
    "#         while armijo_rule(alpha):\n",
    "#             alpha = armijo_update(alpha)\n",
    "\n",
    "\n",
    "#         return alpha\n",
    "\n",
    "#     return helper\n",
    "\n",
    "# def loss_getter(dim, N, H, sig):\n",
    "#     def helper(X):\n",
    "    \n",
    "#         S = X.reshape(N, dim).T\n",
    "\n",
    "#         SS = S.dot(S.T)\n",
    "\n",
    "#         SS_inv = jnp.linalg.inv(SS)\n",
    "#         S_sum = jnp.sum(S, axis=1)  \n",
    "\n",
    "#         first_term = S.dot(jnp.diag(S.T.dot(H.dot(S))))\n",
    "#         second_term = jnp.linalg.norm(SS_inv.dot(S), ord=\"fro\")**2        \n",
    "#         third_term = S_sum.T.dot(SS_inv.dot(SS_inv.dot(S_sum)))  \n",
    "        \n",
    "#         return jnp.linalg.norm(SS_inv.dot(first_term))**2 + sig**2*(second_term + third_term)\n",
    "#     return helper\n",
    "\n",
    "# def optimize_uncentered_S(H, sig, max_steps=15, jrandom_key=None, x_curr=None):\n",
    "    \n",
    "#     dim = H.shape[0]\n",
    "#     N = dim\n",
    "    \n",
    "#     H = (H + H.T) / 2. # to combat numerical inaccuracies. \n",
    "#     D, U = jnp.linalg.eig(H)\n",
    "#     U = jnp.real(U)\n",
    "\n",
    "#     # print(\"D\", repr(jnp.real(D)))\n",
    "#     D = jnp.diag(D)\n",
    "\n",
    "#     if x_curr is None:\n",
    "#         if jrandom_key is None:\n",
    "#             x_curr = jnp.diag(jnp.sqrt(sig / jnp.abs(jnp.diag(D)))).flatten()\n",
    "#         else:\n",
    "#             x_curr = jrandom.normal(jrandom_key, shape=(dim * dim,)) * 0.2\n",
    "        \n",
    "    \n",
    "        \n",
    "# #     x_curr = jnp.array([ 0.05915076, -0.0340726 ,  0.01818264, -0.31835382,\n",
    "# #              -0.05880886, -0.04264622,  0.01758689, -0.35780406,\n",
    "# #              -0.00296912,  0.07070069,  0.02147466, -0.25530761,\n",
    "# #               0.00104251,  0.00597147, -0.09367059, -0.20932359])\n",
    "    \n",
    "#     l = loss_getter(dim, N, D, sig)\n",
    "#     g_l = grad(l)\n",
    "#     linesearch = helper_linesearch(l, g_l, c1=0.01, c2=0.7)\n",
    "\n",
    "#     eps = 1e-4\n",
    "\n",
    "#     res = []\n",
    "#     res_x = []\n",
    "\n",
    "#     for t in range(max_steps):\n",
    "        \n",
    "# #         D = jnp.sqrt(jnp.linalg.inv(H))\n",
    "# #         tmp = x_curr.reshape(N, dim).T\n",
    "# #         tmp = D.dot(tmp\")\n",
    "# #         tmp = tmp.dot(jnp.diag(1/jnp.linalg.norm(tmp, axis=0))) * jnp.mean(jnp.linalg.norm(tmp, axis=0))\n",
    "# #         tmp = jnp.linalg.inv(D).dot(tmp)\n",
    "# #         x_curr = tmp.T.flatten()\n",
    "        \n",
    "#         res.append(l(x_curr))\n",
    "# #         res_x.append(U.dot(x_curr.reshape(N, dim).T)) # TURN ON FOR HISTORY \n",
    "\n",
    "#         curr_grad = g_l(x_curr)\n",
    "#         # print(curr_grad)\n",
    "#         if jnp.linalg.norm(curr_grad) < eps:\n",
    "#             break    \n",
    "\n",
    "#         search_direction = -curr_grad\n",
    "#         alpha = linesearch(x_curr, search_direction)\n",
    "\n",
    "#         S = x_curr.reshape(N, dim).T\n",
    "\n",
    "#         SS = S.dot(S.T)\n",
    "\n",
    "#         x_curr += alpha*search_direction \n",
    "    \n",
    "#     return U.dot(x_curr.reshape(N, dim).T), res"
   ]
  },
  {
   "cell_type": "code",
   "execution_count": null,
   "metadata": {},
   "outputs": [],
   "source": [
    "jnp.sum(jnp.linalg.inv(opt_S), axis=0)"
   ]
  },
  {
   "cell_type": "code",
   "execution_count": null,
   "metadata": {},
   "outputs": [],
   "source": [
    "dim = 2\n",
    "\n",
    "jrandom_key = jrandom.PRNGKey(2)\n",
    "jrandom_key, subkey = jrandom.split(jrandom_key)\n",
    "H = jrandom.normal(subkey, shape=(dim, dim,))\n",
    "H = (H + H.T)/2."
   ]
  },
  {
   "cell_type": "code",
   "execution_count": null,
   "metadata": {},
   "outputs": [],
   "source": [
    "sig = 1\n",
    "l = loss_getter(dim, dim, H, sig)"
   ]
  },
  {
   "cell_type": "code",
   "execution_count": null,
   "metadata": {},
   "outputs": [],
   "source": [
    "\n",
    "H = np.diag(np.linspace(1, 10, dim))/10.\n",
    "opt_S, loss_hist = optimize_uncentered_S(H, sig, max_steps=500)"
   ]
  },
  {
   "cell_type": "code",
   "execution_count": null,
   "metadata": {},
   "outputs": [],
   "source": [
    "res = []\n",
    "hists = []\n",
    "\n",
    "jrandom_key = jrandom.PRNGKey(90)\n",
    "for a in [2]:#tqdm(jnp.linspace(-10, 10, 4)):\n",
    "    H = jnp.diag(jnp.array([3, a])) \n",
    "    jrandom_key, subkey = jrandom.split(jrandom_key )\n",
    "    opt_S, loss_hist = optimize_uncentered_S(H, sig=0.01 / 0.1 , max_steps=400, jrandom_key=subkey)\n",
    "    res.append(opt_S)\n",
    "    hists.append(loss_hist)"
   ]
  },
  {
   "cell_type": "code",
   "execution_count": null,
   "metadata": {
    "scrolled": false
   },
   "outputs": [],
   "source": [
    "res = jnp.array(res)\n",
    "dim = 2\n",
    "l = loss_getter(dim, dim, H, sig=0.1)\n",
    "gl = grad(l)\n",
    "hl = jacfwd(lambda x: gl(x))\n",
    "\n",
    "\n",
    "for i in range(len(res)):\n",
    "\n",
    "#     plt.plot(hists[i])\n",
    "#     plt.yscale(\"log\")\n",
    "\n",
    "#     print(gl(res[i].T.flatten()))\n",
    "#     print(l(res[i].T.flatten()))\n",
    "#     print(jnp.linalg.eig(hl(res[i].T.flatten()))[0])\n",
    "#     a = abs(jnp.linspace(-10, 10, 3.1)[i])\n",
    "#     a = 1\n",
    "\n",
    "    print(a)\n",
    "#     a = 3.1\n",
    "    \n",
    "    H = jnp.diag(jnp.array([0.1, a])) \n",
    "#     H = jnp.eye(2)\n",
    "    X = jnp.linspace(0, jnp.sqrt(1/H[0,0]) - 1e-10, 100)\n",
    "    Y = jnp.array([jnp.sqrt((1 - H[0, 0] * x**2) / H[1, 1]) for x in X])\n",
    "    X = jnp.concatenate([X, X, -X, -X])\n",
    "    Y = jnp.concatenate([Y, -Y, Y, -Y])\n",
    "    \n",
    "    val = res[i][:, 0].dot(H.dot(res[i][:, 0]))\n",
    "    \n",
    "    \n",
    "    plt.scatter(X*val**0.5, Y*val**0.5)\n",
    "    \n",
    "    H = jnp.diag(jnp.array([3, a])) \n",
    "#     H = jnp.eye(2)\n",
    "    X = jnp.linspace(0, jnp.sqrt(1/H[0,0]) - 1e-10, 100)\n",
    "    Y = jnp.array([jnp.sqrt((1 - H[0, 0] * x**2) / H[1, 1]) for x in X])\n",
    "    X = jnp.concatenate([X, X, -X, -X])\n",
    "    Y = jnp.concatenate([Y, -Y, Y, -Y])\n",
    "    val = res[i][:, 0].dot(H.dot(res[i][:, 0]))\n",
    "\n",
    "\n",
    "#     plt.scatter(X*val**0.5, Y*val**0.5)\n",
    "\n",
    "\n",
    "    print(hists[i][-1])\n",
    "    print(repr(res[i]))\n",
    "    print(H)\n",
    "#     print()\n",
    "    \n",
    "    plt.scatter(res[i][0], res[i][1])\n",
    "    \n",
    "    resres = (H**(0.5)).dot(res[i])\n",
    "    print(res[i].T.dot(H).dot(res[i]))\n",
    "    print(np.linalg.inv(res[i]).T.dot(np.ones(2)))\n",
    "    resres = np.array([[1/np.sqrt(2), 1/np.sqrt(2)], [-1/np.sqrt(2), np.sqrt(2)]]).dot(resres)\n",
    "    plt.scatter(resres[0], resres[1])\n",
    "    \n",
    "    x_b = max([jnp.abs(jnp.min(res[:, 0])), jnp.abs(jnp.max(res[:, 0]))]) * 1.1\n",
    "    y_b = max([jnp.abs(jnp.min(res[:, 1])), jnp.abs(jnp.max(res[:, 1]))]) * 1.1\n",
    "\n",
    "#     plt.xlim(-x_b, x_b)\n",
    "#     plt.ylim(-y_b, y_b)\n",
    "    \n",
    "#     plt.xlim(-2, 2)\n",
    "#     plt.ylim(-2, 2)\n",
    "\n",
    "    plt.grid()\n",
    "\n",
    "    plt.show()\n",
    "    \n",
    "    print()"
   ]
  },
  {
   "cell_type": "code",
   "execution_count": null,
   "metadata": {},
   "outputs": [],
   "source": [
    "def gg(D):\n",
    "    \n",
    "    X = jnp.eye(D.shape[0]).flatten()\n",
    "    \n",
    "    l = lambda x: jnp.linalg.norm(jnp.linalg.inv(D.dot(x.reshape(D.shape))), \"fro\")\n",
    "    gl = grad(l)\n",
    "    \n",
    "    linesearch = helper_linesearch(l, gl, c1=0.01, c2=0.7)\n",
    "\n",
    "\n",
    "    for _ in range(10):\n",
    "        search_dir = -gl(X)\n",
    "        alpha = linesearch(X, search_dir)\n",
    "        X += alpha * search_dir\n",
    "        \n",
    "    return X\n",
    "\n",
    "D = jnp.array([[1, 0], [0, 2]])\n",
    "gg(D)"
   ]
  },
  {
   "cell_type": "code",
   "execution_count": null,
   "metadata": {},
   "outputs": [],
   "source": [
    "H = jnp.diag(jnp.linspace(100, 0.1, 4))\n",
    "\n",
    "\n",
    "for _ in range(10):\n",
    "    jrandom_key, subkey = jrandom.split(jrandom_key)\n",
    "    opt_S, loss_hist = optimize_uncentered_S(H, sig=0.01 / 0.1 , max_steps=50, jrandom_key=subkey)\n",
    "    print(loss_hist[-1])\n",
    "    print(jnp.diag(opt_S.T.dot(H.dot(opt_S))))\n",
    "    print()\n",
    "\n"
   ]
  },
  {
   "cell_type": "code",
   "execution_count": null,
   "metadata": {},
   "outputs": [],
   "source": [
    "opt_S, loss_hist = optimize_uncentered_S(H, sig=0.01 / 0.1 , max_steps=500, jrandom_key=None)\n",
    "print(loss_hist[-1])\n",
    "print(jnp.diag(opt_S.T.dot(H.dot(opt_S))))"
   ]
  },
  {
   "cell_type": "code",
   "execution_count": null,
   "metadata": {},
   "outputs": [],
   "source": [
    "opt_S.T.flatten()"
   ]
  },
  {
   "cell_type": "code",
   "execution_count": null,
   "metadata": {},
   "outputs": [],
   "source": [
    "dim = 2\n",
    "l = loss_getter(dim, dim, H, sig)\n",
    "print(grad(l)(opt_S.T.flatten()))"
   ]
  },
  {
   "cell_type": "code",
   "execution_count": null,
   "metadata": {},
   "outputs": [],
   "source": [
    "print(grad(l)(res.T.flatten()))"
   ]
  },
  {
   "cell_type": "code",
   "execution_count": null,
   "metadata": {},
   "outputs": [],
   "source": [
    "grad(l)(opt_S.T.flatten())"
   ]
  },
  {
   "cell_type": "code",
   "execution_count": null,
   "metadata": {},
   "outputs": [],
   "source": [
    "print(repr(res.T.flatten()))"
   ]
  },
  {
   "cell_type": "code",
   "execution_count": null,
   "metadata": {},
   "outputs": [],
   "source": [
    "res"
   ]
  },
  {
   "cell_type": "code",
   "execution_count": null,
   "metadata": {},
   "outputs": [],
   "source": [
    "opt_S.T.flatten()"
   ]
  },
  {
   "cell_type": "code",
   "execution_count": null,
   "metadata": {},
   "outputs": [],
   "source": [
    "opt_S.T.dot(H.dot(opt_S))"
   ]
  },
  {
   "cell_type": "code",
   "execution_count": null,
   "metadata": {},
   "outputs": [],
   "source": [
    "jnp.linalg.inv(D).dot(opt_S)"
   ]
  },
  {
   "cell_type": "code",
   "execution_count": null,
   "metadata": {},
   "outputs": [],
   "source": [
    "jnp.linalg.norm(jnp.linalg.inv(D).dot(opt_S), axis=0)"
   ]
  },
  {
   "cell_type": "code",
   "execution_count": null,
   "metadata": {},
   "outputs": [],
   "source": [
    "A = jnp.linalg.inv(opt_S / 0.69741662)\n",
    "print(A)\n",
    "print(t/jnp.pi*2)\n",
    "C1 = jnp.linalg.norm(A, \"fro\")\n",
    "C2 = jnp.linalg.norm(jnp.sum(A.T, axis=1))\n",
    "print(jnp.sqrt(C1 + C2) * (jnp.sqrt(C1) + 1/jnp.sqrt(C1)))"
   ]
  },
  {
   "cell_type": "code",
   "execution_count": null,
   "metadata": {},
   "outputs": [],
   "source": [
    "T = jnp.array([[ 2.23606798,  0.2236068 ],\n",
    " [-2.23606798,  0.2236068 ]])\n",
    "jnp.linalg.inv(D).dot(jnp.linalg.inv(T))\n"
   ]
  },
  {
   "cell_type": "code",
   "execution_count": null,
   "metadata": {},
   "outputs": [],
   "source": [
    "jnp.linalg.inv(opt_S)"
   ]
  },
  {
   "cell_type": "code",
   "execution_count": null,
   "metadata": {},
   "outputs": [],
   "source": [
    "opt_S.T.dot(H.dot(opt_S))"
   ]
  },
  {
   "cell_type": "code",
   "execution_count": null,
   "metadata": {},
   "outputs": [],
   "source": [
    "opt_S"
   ]
  },
  {
   "cell_type": "code",
   "execution_count": null,
   "metadata": {},
   "outputs": [],
   "source": [
    "dim = 4\n",
    "l = loss_getter(dim, dim, H, sig)\n",
    "print(l(opt_S.T.flatten()))"
   ]
  },
  {
   "cell_type": "code",
   "execution_count": null,
   "metadata": {},
   "outputs": [],
   "source": [
    "D = jnp.sqrt(jnp.linalg.inv(H))\n",
    "\n",
    "\n",
    "tmp = opt_S\n",
    "tmp = D.dot(tmp)\n",
    "print(tmp)\n",
    "tmp = tmp.dot(jnp.diag(1/jnp.linalg.norm(tmp, axis=0))) * jnp.linalg.norm(tmp, axis=0)[0]\n",
    "print(tmp)\n",
    "tmp = jnp.linalg.inv(D).dot(tmp)"
   ]
  },
  {
   "cell_type": "code",
   "execution_count": null,
   "metadata": {},
   "outputs": [],
   "source": [
    "print(l(opt_S.T.flatten()))"
   ]
  },
  {
   "cell_type": "code",
   "execution_count": null,
   "metadata": {},
   "outputs": [],
   "source": [
    "tmp.T.dot(H.dot(tmp))"
   ]
  },
  {
   "cell_type": "code",
   "execution_count": null,
   "metadata": {},
   "outputs": [],
   "source": [
    "tmp.T.flatten()"
   ]
  },
  {
   "cell_type": "code",
   "execution_count": null,
   "metadata": {},
   "outputs": [],
   "source": [
    "jnp.diag(opt_S.T.dot(H.dot(opt_S)))"
   ]
  },
  {
   "cell_type": "code",
   "execution_count": null,
   "metadata": {},
   "outputs": [],
   "source": [
    "opt_S"
   ]
  },
  {
   "cell_type": "code",
   "execution_count": null,
   "metadata": {
    "scrolled": true
   },
   "outputs": [],
   "source": [
    "D = jnp.sqrt(jnp.linalg.inv(H))\n",
    "\n",
    "\n",
    "for _ in range(100):\n",
    "    jrandom_key, subkey = jrandom.split(jrandom_key)\n",
    "    U = jrandom.normal(subkey, shape=(4, 4,))\n",
    "    U /= jnp.linalg.norm(U, axis=0)\n",
    "    S = D.dot(U)\n",
    "    \n",
    "    m_val = float('inf')\n",
    "    m_S = None\n",
    "    for h in jnp.logspace(-4, 1, 10):\n",
    "        if l(h*S.T.flatten()) < m_val:\n",
    "            m_val = l(h*S.T.flatten())\n",
    "            m_S = h*S\n",
    "            \n",
    "    print(m_val)\n",
    "    "
   ]
  },
  {
   "cell_type": "markdown",
   "metadata": {},
   "source": [
    "## Here we are going to compute the derivatives of each term"
   ]
  },
  {
   "cell_type": "code",
   "execution_count": 191,
   "metadata": {},
   "outputs": [],
   "source": [
    "dim = 3\n",
    "N = dim\n",
    "\n",
    "jrandom_key = jrandom.PRNGKey(1)\n",
    "jrandom_key, subkey = jrandom.split(jrandom_key)\n",
    "U = jrandom.normal(subkey, shape=(dim, N))\n",
    "U /= jnp.linalg.norm(U, axis=0)\n",
    "D_half = jnp.diag(jnp.linspace(1, 10, dim))\n",
    "D = D_half**2\n",
    "a = jnp.linspace(5, 15, dim)\n",
    "A = jnp.diag(a)\n",
    "U_inv = jnp.linalg.inv(U)\n",
    "U_inv_T = U_inv.T\n",
    "A_inv = jnp.diag(1/a)"
   ]
  },
  {
   "cell_type": "code",
   "execution_count": 194,
   "metadata": {},
   "outputs": [
    {
     "name": "stdout",
     "output_type": "stream",
     "text": [
      "Exact g [[12570.47427468     0.             0.        ]\n",
      " [    0.         -6265.11970908     0.        ]\n",
      " [    0.             0.          7523.56219726]]\n",
      "Analytic g [[12570.47427468 12570.47427468 12570.47427468]\n",
      " [-6265.11970908 -6265.11970908 -6265.11970908]\n",
      " [ 7523.56219726  7523.56219726  7523.56219726]]\n"
     ]
    }
   ],
   "source": [
    "first_A_term = lambda A: jnp.linalg.norm(D_half @ U_inv_T @ jnp.diag(A.reshape(dim, dim)))**2\n",
    "g_first_A_term = lambda A: grad(first_A_term)(A).reshape(dim, N)\n",
    "\n",
    "analytic_g_first_A = lambda A: 2 * U_inv @ D @ U_inv_T @ jnp.outer(a, jnp.ones(dim))\n",
    "\n",
    "print(\"Exact g\", g_first_A_term(A.flatten()))\n",
    "print(\"Analytic g\", analytic_g_first_A(A))"
   ]
  },
  {
   "cell_type": "code",
   "execution_count": 185,
   "metadata": {},
   "outputs": [
    {
     "name": "stdout",
     "output_type": "stream",
     "text": [
      "Exact g [[-12.11622848   3.57635372  -2.47799392]\n",
      " [  1.78817686  -0.69122928   0.38697646]\n",
      " [ -0.82599797   0.25798431  -0.17149571]]\n",
      "Analytic g [[-12.11622848   0.89408843  -0.27533266]\n",
      " [  7.15270744  -0.69122928   0.17198954]\n",
      " [ -7.43398175   0.58046469  -0.17149571]]\n"
     ]
    }
   ],
   "source": [
    "second_A_term = lambda A: jnp.linalg.norm(jnp.linalg.inv(A.reshape(dim, dim)) @ U_inv @ D_half, \"fro\")**2\n",
    "g_second_A_term = lambda A: grad(second_A_term)(A).reshape(dim, N)\n",
    "\n",
    "analytic_g_second_A = lambda A_inv: -2 *  U_inv @ D @ U_inv.T @ A_inv**3\n",
    "\n",
    "print(\"Exact g\", g_second_A_term(A.flatten()))\n",
    "print(\"Analytic g\", analytic_g_second_A(A_inv))"
   ]
  },
  {
   "cell_type": "code",
   "execution_count": 189,
   "metadata": {},
   "outputs": [
    {
     "name": "stdout",
     "output_type": "stream",
     "text": [
      "Exact g [[-11.01786867   0.           0.        ]\n",
      " [  0.           1.48392404   0.        ]\n",
      " [  0.           0.          -0.73950938]]\n",
      "Analytic g [[-11.01786867  -2.75446717  -1.22420763]\n",
      " [  5.93569615   1.48392404   0.65952179]\n",
      " [ -6.65558441  -1.6638961   -0.73950938]]\n"
     ]
    }
   ],
   "source": [
    "third_A_term = lambda A: jnp.linalg.norm(D_half @ U_inv_T @ jnp.diag(jnp.linalg.inv(A.reshape(dim, dim))))**2\n",
    "g_third_A_term = lambda A: grad(third_A_term)(A).reshape(dim, N)\n",
    "\n",
    "analytic_g_third_A = lambda A: - 2 * U_inv @ D @ U_inv_T @ jnp.outer(1/a, 1/a**2) \n",
    "\n",
    "print(\"Exact g\", g_third_A_term(A.flatten()))\n",
    "print(\"Analytic g\", analytic_g_third_A(A_inv))"
   ]
  },
  {
   "cell_type": "code",
   "execution_count": null,
   "metadata": {},
   "outputs": [],
   "source": []
  },
  {
   "cell_type": "code",
   "execution_count": 112,
   "metadata": {},
   "outputs": [
    {
     "name": "stdout",
     "output_type": "stream",
     "text": [
      "Exact g [[-1.00583772e+01 -4.72979961e+03 -2.74042177e+03]\n",
      " [-2.01167544e+01 -9.45959923e+03 -5.48084355e+03]\n",
      " [-3.01751316e+01 -1.41893988e+04 -8.22126532e+03]]\n",
      "Analytic g [[-1.00583772e+01 -4.72979961e+03 -2.74042177e+03]\n",
      " [-2.01167544e+01 -9.45959923e+03 -5.48084355e+03]\n",
      " [-3.01751316e+01 -1.41893988e+04 -8.22126532e+03]]\n"
     ]
    }
   ],
   "source": [
    "first_term = lambda U_inv: jnp.linalg.norm(D_half @ U_inv.reshape(dim, N).T @ a)**2\n",
    "g_first_term = lambda U_inv: grad(first_term)(U_inv).reshape(dim, N)\n",
    "\n",
    "analytic_g_first = lambda U_inv: 2 * np.outer(a, a) @ U_inv.reshape(dim, N) @ D_half**2\n",
    "\n",
    "print(\"Exact g\", g_first_term(U_inv.flatten()))\n",
    "print(\"Analytic g\", analytic_g_first(U_inv.flatten()))\n",
    "\n"
   ]
  },
  {
   "cell_type": "code",
   "execution_count": 121,
   "metadata": {},
   "outputs": [
    {
     "name": "stdout",
     "output_type": "stream",
     "text": [
      "Exact g [[-0.07349626 -0.55062823 -8.24363717]\n",
      " [-0.03919891 -0.14805724 -0.14729715]\n",
      " [ 0.01374052 -0.21602197  0.18656813]]\n",
      "Analytic g [[-0.07349626 -0.55062823 -8.24363717]\n",
      " [-0.03919891 -0.14805724 -0.14729715]\n",
      " [ 0.01374052 -0.21602197  0.18656813]]\n"
     ]
    }
   ],
   "source": [
    "second_term = lambda U_inv: jnp.linalg.norm(A_inv @ U_inv.reshape(dim, dim) @ D_half, \"fro\")**2 \n",
    "g_second_term = lambda U_inv: grad(second_term)(U_inv).reshape(dim, N)\n",
    "\n",
    "analytic_g_second = lambda U_inv: 2 * A_inv**2 @ U_inv.reshape(dim, dim) @ D\n",
    "\n",
    "print(\"Exact g\", g_second_term(U_inv.flatten()))\n",
    "print(\"Analytic g\", analytic_g_second(U_inv.flatten()))"
   ]
  },
  {
   "cell_type": "code",
   "execution_count": 128,
   "metadata": {},
   "outputs": [
    {
     "name": "stdout",
     "output_type": "stream",
     "text": [
      "Exact g [[-0.11173332  0.30075564  1.9740977 ]\n",
      " [ 0.05162012 -0.13894728 -0.91202118]\n",
      " [-0.00499371  0.01344171  0.08822861]]\n",
      "Analytic g [[-0.11173332  0.30075564  1.9740977 ]\n",
      " [ 0.05162012 -0.13894728 -0.91202118]\n",
      " [-0.00499371  0.01344171  0.08822861]]\n"
     ]
    }
   ],
   "source": [
    "e_idx = 0 \n",
    "e_vec = np.zeros(dim)\n",
    "e_vec[e_idx] = 1\n",
    "e_vec = jnp.array(e_vec)\n",
    "constraint_term = lambda U_inv: jnp.linalg.norm(jnp.linalg.inv(U_inv.reshape(dim, dim))[:, e_idx])**2 \n",
    "g_constraint_term = lambda U_inv: grad(constraint_term)(U_inv).reshape(dim, N)\n",
    "\n",
    "analytic_g_constraint = lambda U: - 2 * U.T @ U @ jnp.outer(e_vec, e_vec) @ U.T\n",
    "\n",
    "print(\"Exact g\", g_constraint_term(U_inv.flatten()))\n",
    "print(\"Analytic g\", analytic_g_constraint(U))"
   ]
  },
  {
   "cell_type": "code",
   "execution_count": 119,
   "metadata": {},
   "outputs": [],
   "source": [
    "import numpy as np"
   ]
  },
  {
   "cell_type": "code",
   "execution_count": null,
   "metadata": {},
   "outputs": [],
   "source": [
    "def createS(ts, dim):\n",
    "    S = []\n",
    "    for c in range(dim):\n",
    "        tmp_S = []\n",
    "        for r in range(dim):\n",
    "            curr_term = 1\n",
    "            if len(tmp_S) > 0:\n",
    "                curr_term = tmp_S[-1] / np.cos(ts[c][r-1]) * np.sin(ts[c][r - 1])\n",
    "            if r < dim - 1:\n",
    "                curr_term *= np.cos(ts[c][r])\n",
    "                \n",
    "            tmp_S.append(curr_term)\n",
    "        S.append(tmp_S)\n",
    "    S = np.array(S).T\n",
    "    return S\n",
    "\n",
    "def createPartialS(ts, dim, r_theta, c_theta):\n",
    "    \n",
    "    S = []\n",
    "    for c in range(dim):\n",
    "        tmp_S = []\n",
    "        for r in range(dim):\n",
    "            if c != c_theta:\n",
    "                tmp_S.append(0)\n",
    "                continue\n",
    "                \n",
    "            curr_term = 1\n",
    "            if len(tmp_S) > 0:\n",
    "                if r == r_theta + 1:\n",
    "                    curr_term = - tmp_S[-1] / np.sin(ts[c][r - 1]) * np.cos(ts[c][r - 1])\n",
    "                else:\n",
    "                    curr_term = tmp_S[-1] / np.cos(ts[c][r - 1]) * np.sin(ts[c][r - 1])\n",
    "            if r < dim - 1:\n",
    "                if r == r_theta:\n",
    "                    curr_term *= -np.sin(ts[c][r])\n",
    "                else:\n",
    "                    curr_term *= np.cos(ts[c][r])\n",
    "                \n",
    "            tmp_S.append(curr_term)\n",
    "            \n",
    "        S_to_append = np.zeros(dim)\n",
    "        S_to_append[r_theta:] = tmp_S[r_theta:]\n",
    "        S.append(S_to_append)\n",
    "    S = np.array(S).T\n",
    "    return S"
   ]
  },
  {
   "cell_type": "code",
   "execution_count": null,
   "metadata": {},
   "outputs": [],
   "source": [
    "dim = 5\n",
    "A = np.diag(np.linspace(1, 5, dim))\n",
    "D = np.diag(np.linspace(5, 10, dim))\n",
    "ts = np.random.normal(size=(dim, dim-1))"
   ]
  },
  {
   "cell_type": "code",
   "execution_count": null,
   "metadata": {},
   "outputs": [],
   "source": [
    "print(\"First term\")\n",
    "h = 0.00001\n",
    "first_term = lambda ts: np.linalg.norm(D.dot(np.linalg.inv(createS(ts, dim)).T).dot(np.diag(A)))**2\n",
    "\n",
    "r, c = 1, 1\n",
    "h_ts = ts.copy()\n",
    "h_ts[c][r] += h\n",
    "print(\"FD Estimate\", (first_term(h_ts) - first_term(ts))/h)"
   ]
  },
  {
   "cell_type": "code",
   "execution_count": null,
   "metadata": {},
   "outputs": [],
   "source": [
    "S = createS(ts, dim)\n",
    "S_inv = np.linalg.inv(S)\n",
    "p_S = createPartialS(ts, dim, r, c)\n",
    "-np.trace(2 * ((D**2).dot(S_inv.T).dot(np.outer(np.diag(A), np.diag(A)))).dot(S_inv).dot(p_S).dot(S_inv))"
   ]
  },
  {
   "cell_type": "code",
   "execution_count": null,
   "metadata": {},
   "outputs": [],
   "source": [
    "print(\"Second term\")\n",
    "h = 0.00001\n",
    "second_term = lambda ts: np.linalg.norm(D.dot(np.linalg.inv(createS(ts, dim)).T).dot(1/np.diag(A)))**2\n",
    "\n",
    "r, c = 1, 1\n",
    "h_ts = ts.copy()\n",
    "h_ts[c][r] += h\n",
    "print(\"FD Estimate\", (second_term(h_ts) - second_term(ts))/h)\n",
    "\n",
    "S = createS(ts, dim)\n",
    "S_inv = np.linalg.inv(S)\n",
    "p_S = createPartialS(ts, dim, r, c)\n",
    "print(\"analytic\", -np.trace(2 * ((D**2).dot(S_inv.T).dot(np.outer(1/np.diag(A), 1/np.diag(A)))).dot(S_inv).dot(p_S).dot(S_inv)))"
   ]
  },
  {
   "cell_type": "code",
   "execution_count": null,
   "metadata": {},
   "outputs": [],
   "source": [
    "print(\"Third term\")\n",
    "h = 0.00001\n",
    "third_term = lambda ts: np.linalg.norm(np.linalg.inv(A).dot(np.linalg.inv(createS(ts, dim))).dot(D), \"fro\")**2\n",
    "\n",
    "r, c = 1, 1\n",
    "h_ts = ts.copy()\n",
    "h_ts[c][r] += h\n",
    "print(\"FD Estimate\", (third_term(h_ts) - third_term(ts))/h)\n",
    "\n",
    "S = createS(ts, dim)\n",
    "S_inv = np.linalg.inv(S)\n",
    "p_S = createPartialS(ts, dim, r, c)\n",
    "print(\"analytic\", -np.trace(2 * ((D**2).dot(S_inv.T).dot(np.linalg.inv(A)**2).dot(S_inv).dot(p_S).dot(S_inv))))\n",
    "\n"
   ]
  },
  {
   "cell_type": "code",
   "execution_count": null,
   "metadata": {},
   "outputs": [],
   "source": [
    "f = lambda S: np.linalg.norm(D.dot(S).dot(np.diag(A)))**2\n",
    "\n",
    "r, c = 3, 2\n",
    "S_inv = np.linalg.inv(S)\n",
    "# tmp_S_inv = S_inv.copy()\n",
    "\n",
    "\n",
    "\n",
    "res = np.zeros(shape=(dim, dim))\n",
    "for c in range(dim):\n",
    "    for r in range(dim):\n",
    "        tmp_S_inv = S_inv.copy()\n",
    "        tmp_S_inv[c][r] += h\n",
    "    \n",
    "        res[c][r] = (f(tmp_S_inv.T) - f(S_inv.T))/h\n",
    "res"
   ]
  },
  {
   "cell_type": "code",
   "execution_count": null,
   "metadata": {},
   "outputs": [],
   "source": [
    "(2 * ((D**2).dot(S_inv.T).dot(np.outer(np.diag(A), np.diag(A))))).T"
   ]
  },
  {
   "cell_type": "code",
   "execution_count": null,
   "metadata": {},
   "outputs": [],
   "source": [
    "D = jnp.diag(jnp.array([1, 2]))\n",
    "\n",
    "A = jnp.array([2, 3])\n",
    "\n",
    "def f(X):\n",
    "    X = jnp.linalg.inv(X.reshape(2, 2))\n",
    "\n",
    "    return jnp.linalg.norm(D.dot(X.T.dot(A))) + jnp.linalg.norm(D.dot(X.T.dot(1/A)))\n",
    "\n",
    "gf = grad(f)\n",
    "\n",
    "\n"
   ]
  },
  {
   "cell_type": "code",
   "execution_count": null,
   "metadata": {},
   "outputs": [],
   "source": [
    "t = np.pi/4\n",
    "X = jnp.array([[np.cos(t), np.sin(t)], [-np.sin(t), np.cos(t)]])\n",
    "print(X.T.dot(X))\n",
    "X = X.flatten()\n",
    "\n",
    "gf(X)"
   ]
  },
  {
   "cell_type": "code",
   "execution_count": null,
   "metadata": {},
   "outputs": [],
   "source": [
    "min_val = float(\"inf\")\n",
    "min_S = None\n",
    "for _ in range(1000):\n",
    "    X = np.random.normal(size=(2, 2))\n",
    "    X /= jnp.linalg.norm(X, axis=0)\n",
    "    X = X.flatten()\n",
    "    \n",
    "    curr_val = f(X)\n",
    "    if curr_val < min_val:\n",
    "        min_val = curr_val\n",
    "        min_S = X\n",
    "    "
   ]
  },
  {
   "cell_type": "code",
   "execution_count": null,
   "metadata": {},
   "outputs": [],
   "source": [
    "min_val"
   ]
  },
  {
   "cell_type": "code",
   "execution_count": null,
   "metadata": {},
   "outputs": [],
   "source": [
    "S = min_S.reshape(2, 2)\n",
    "print(S)\n",
    "S.T.dot(S)"
   ]
  },
  {
   "cell_type": "code",
   "execution_count": null,
   "metadata": {},
   "outputs": [],
   "source": [
    "np.linalg.eig(S.T.dot(S))"
   ]
  },
  {
   "cell_type": "code",
   "execution_count": null,
   "metadata": {},
   "outputs": [],
   "source": [
    "S.T.dot(A)"
   ]
  },
  {
   "cell_type": "code",
   "execution_count": null,
   "metadata": {},
   "outputs": [],
   "source": [
    "A"
   ]
  },
  {
   "cell_type": "code",
   "execution_count": null,
   "metadata": {},
   "outputs": [],
   "source": [
    "def createU(dim):\n",
    "    res = [jnp.ones(dim)/jnp.linalg.norm(jnp.ones(dim))]\n",
    "    for i in range(dim-1):\n",
    "        tmp = np.zeros(dim)\n",
    "        tmp[:i+1] = 1\n",
    "        tmp[i + 1] = -(i + 1)\n",
    "        tmp /= np.linalg.norm(tmp)\n",
    "        res.append(tmp)\n",
    "        \n",
    "    return jnp.array(res).T\n",
    "    \n"
   ]
  },
  {
   "cell_type": "code",
   "execution_count": null,
   "metadata": {},
   "outputs": [],
   "source": [
    "dim = 3\n",
    "N = dim\n",
    "D = jnp.diag(jnp.linspace(1, 10, dim))\n",
    "sig = 1\n",
    "\n",
    "l = loss_getter(dim, N, D, sig)\n",
    "g_l = grad(l)"
   ]
  },
  {
   "cell_type": "code",
   "execution_count": null,
   "metadata": {},
   "outputs": [],
   "source": [
    "jnp.diag(jnp.linalg.inv((D**(1/2) @ opt_S)).T @ jnp.linalg.inv((D**(1/2) @ opt_S)))"
   ]
  },
  {
   "cell_type": "code",
   "execution_count": null,
   "metadata": {},
   "outputs": [],
   "source": [
    "jnp.linalg.inv(opt_S).T @ jnp.ones(3)"
   ]
  },
  {
   "cell_type": "code",
   "execution_count": null,
   "metadata": {},
   "outputs": [],
   "source": [
    "np.diag(jnp.linalg.inv(opt_S).T @ jnp.linalg.inv(opt_S))"
   ]
  },
  {
   "cell_type": "code",
   "execution_count": null,
   "metadata": {},
   "outputs": [],
   "source": [
    "jnp.linalg.inv(opt_S).T @ jnp.linalg.inv(opt_S)"
   ]
  },
  {
   "cell_type": "code",
   "execution_count": null,
   "metadata": {},
   "outputs": [],
   "source": [
    "jnp.linalg.inv(opt_S).T"
   ]
  },
  {
   "cell_type": "code",
   "execution_count": null,
   "metadata": {},
   "outputs": [],
   "source": [
    "jnp.linalg.inv(opt_S).T @ jnp.diag(opt_S.T @ D @ opt_S)"
   ]
  },
  {
   "cell_type": "code",
   "execution_count": null,
   "metadata": {},
   "outputs": [],
   "source": [
    "opt_S"
   ]
  },
  {
   "cell_type": "code",
   "execution_count": null,
   "metadata": {},
   "outputs": [],
   "source": [
    "opt_S"
   ]
  },
  {
   "cell_type": "code",
   "execution_count": null,
   "metadata": {},
   "outputs": [],
   "source": [
    "opt_S"
   ]
  },
  {
   "cell_type": "code",
   "execution_count": null,
   "metadata": {},
   "outputs": [],
   "source": [
    "res = []\n",
    "jrandom_key = jrandom.PRNGKey(0)\n",
    "eps = 1e-4\n",
    "for _ in range(1000):\n",
    "    jrandom_key, subkey = jrandom.split(jrandom_key)\n",
    "    res.append(jnp.linalg.norm(g_l(opt_S.T.flatten() + eps*jrandom.normal(subkey, shape=(9,)))))"
   ]
  },
  {
   "cell_type": "code",
   "execution_count": null,
   "metadata": {},
   "outputs": [],
   "source": [
    "sorted(res)[:10]"
   ]
  },
  {
   "cell_type": "code",
   "execution_count": null,
   "metadata": {},
   "outputs": [],
   "source": [
    "plt.hist(res)"
   ]
  },
  {
   "cell_type": "code",
   "execution_count": null,
   "metadata": {},
   "outputs": [],
   "source": [
    "opt_S.T.dot(D).dot(opt_S)"
   ]
  },
  {
   "cell_type": "code",
   "execution_count": null,
   "metadata": {},
   "outputs": [],
   "source": [
    "tmp_opt_S = jnp.array([[3.7079922 , 1.41161719, 0.96125943],\n",
    "             [1.41161719, 3.62470546, 1.22752748],\n",
    "             [0.96125943, 1.22752748, 3.75054208]])"
   ]
  },
  {
   "cell_type": "code",
   "execution_count": null,
   "metadata": {},
   "outputs": [],
   "source": [
    "g_l(opt_S.T.flatten())"
   ]
  },
  {
   "cell_type": "code",
   "execution_count": null,
   "metadata": {},
   "outputs": [],
   "source": [
    "jnp.linalg.eig(jacfwd(g_l)(opt_S.T.flatten()))"
   ]
  },
  {
   "cell_type": "code",
   "execution_count": null,
   "metadata": {},
   "outputs": [],
   "source": [
    "g_l(opt_S.T.flatten())"
   ]
  },
  {
   "cell_type": "code",
   "execution_count": null,
   "metadata": {},
   "outputs": [],
   "source": [
    "l(tmpopt_S.T.flatten())"
   ]
  },
  {
   "cell_type": "code",
   "execution_count": null,
   "metadata": {},
   "outputs": [],
   "source": [
    "tmp_S = jnp.array([[-4.02946125, -4.24458177, -3.93768356],\n",
    "                   [-1.21511798, -0.16389699,  1.51670678],\n",
    "                   [ 0.89150776, -1.25773531,  0.59004385]])\n",
    "\n",
    "tmp_S = jnp.array([[-4.1, -4.1, -4.1],\n",
    "                   [-1.2, -0.2,  1.53],\n",
    "                   [ 0.9, -1.25,  0.6]])\n",
    "\n",
    "print(tmp_S.T.flatten())\n",
    "print(l(tmp_S.T.flatten()))\n",
    "g_l(tmp_S.T.flatten())"
   ]
  },
  {
   "cell_type": "code",
   "execution_count": null,
   "metadata": {},
   "outputs": [],
   "source": [
    "(D**0.5).dot(opt_S)"
   ]
  },
  {
   "cell_type": "code",
   "execution_count": null,
   "metadata": {},
   "outputs": [],
   "source": [
    "jnp.linalg.inv(opt_S)"
   ]
  },
  {
   "cell_type": "code",
   "execution_count": null,
   "metadata": {},
   "outputs": [],
   "source": [
    "np.linalg.norm(opt_S, axis=0)"
   ]
  },
  {
   "cell_type": "code",
   "execution_count": null,
   "metadata": {},
   "outputs": [],
   "source": [
    "jnp.linalg.norm(jnp.linalg.inv(opt_U).T.dot(jnp.ones(dim)))"
   ]
  },
  {
   "cell_type": "code",
   "execution_count": null,
   "metadata": {},
   "outputs": [],
   "source": [
    "jnp.linalg.norm(jnp.linalg.inv(opt_S), \"fro\")"
   ]
  },
  {
   "cell_type": "code",
   "execution_count": null,
   "metadata": {},
   "outputs": [],
   "source": [
    "jnp.linalg.norm(jnp.linalg.inv(x_curr), \"fro\")"
   ]
  },
  {
   "cell_type": "code",
   "execution_count": null,
   "metadata": {},
   "outputs": [],
   "source": [
    "jnp.trace(jnp.linalg.inv(opt_U).T.dot(jnp.linalg.inv(opt_U)).dot(D))"
   ]
  },
  {
   "cell_type": "code",
   "execution_count": null,
   "metadata": {},
   "outputs": [],
   "source": [
    "x_inv = jnp.linalg.inv((D**0.5).dot(x_curr))\n",
    "x_inv.T.dot(x_inv)"
   ]
  },
  {
   "cell_type": "code",
   "execution_count": null,
   "metadata": {},
   "outputs": [],
   "source": [
    "jnp.linalg.inv(opt_U).T.dot(jnp.linalg.inv(opt_U))"
   ]
  },
  {
   "cell_type": "code",
   "execution_count": null,
   "metadata": {},
   "outputs": [],
   "source": [
    "jnp.linalg.norm(jnp.linalg.inv(opt_U).dot(D**0.5), \"fro\")**2"
   ]
  },
  {
   "cell_type": "code",
   "execution_count": null,
   "metadata": {},
   "outputs": [],
   "source": [
    "jnp.linalg.norm(jnp.linalg.inv(opt_U), \"fro\") * jnp.linalg.norm(D**(0.5), \"fro\")"
   ]
  },
  {
   "cell_type": "code",
   "execution_count": null,
   "metadata": {},
   "outputs": [],
   "source": [
    "jnp.linalg.inv(opt_U).T.dot(jnp.ones(dim))"
   ]
  },
  {
   "cell_type": "code",
   "execution_count": null,
   "metadata": {
    "scrolled": true
   },
   "outputs": [],
   "source": [
    "np.linalg.svd(opt_U)"
   ]
  },
  {
   "cell_type": "code",
   "execution_count": null,
   "metadata": {},
   "outputs": [],
   "source": [
    "(D**(0.5)).dot(x_curr)"
   ]
  },
  {
   "cell_type": "code",
   "execution_count": null,
   "metadata": {},
   "outputs": [],
   "source": [
    "opt_U = (D**(0.5)).dot(opt_S)\n",
    "opt_U.T.dot(opt_U)"
   ]
  },
  {
   "cell_type": "code",
   "execution_count": null,
   "metadata": {},
   "outputs": [],
   "source": [
    "g_l(opt_S.T.flatten())"
   ]
  },
  {
   "cell_type": "code",
   "execution_count": null,
   "metadata": {},
   "outputs": [],
   "source": [
    "U = createU(dim)\n",
    "S = jnp.linalg.inv(D**(0.5)).dot(U)\n",
    "\n",
    "print(S)\n",
    "for a in jnp.linspace(1, 10, 10):\n",
    "    curr_S = a * S\n",
    "    \n",
    "    print(a)\n",
    "    print(g_l(curr_S.T.flatten()))\n",
    "    print(l(curr_S.T.flatten()))\n",
    "    print()"
   ]
  },
  {
   "cell_type": "code",
   "execution_count": 597,
   "metadata": {},
   "outputs": [],
   "source": [
    "def helper_linesearch(f, g, c1, c2):\n",
    "\n",
    "    def helper(X, search_direction):\n",
    "        f0 = f(X)\n",
    "        f1 = g(X)\n",
    "        dg = jnp.inner(search_direction, f1)\n",
    "\n",
    "        def armijo_rule(alpha):\n",
    "            return f(X + alpha * search_direction) > f0 + c1*alpha*dg\n",
    "        \n",
    "        def armijo_update(alpha):\n",
    "            return c2*alpha\n",
    "            \n",
    "        alpha = 1\n",
    "        while armijo_rule(alpha):\n",
    "            alpha = armijo_update(alpha)\n",
    "\n",
    "\n",
    "        return alpha\n",
    "\n",
    "    return helper\n",
    "\n",
    "def loss_getter(dim, N, H, sig):\n",
    "    def helper(X):\n",
    "    \n",
    "#         S = X.reshape(N, dim).T\n",
    "\n",
    "#         SS = S.dot(S.T)\n",
    "\n",
    "#         SS_inv = jnp.linalg.inv(SS)\n",
    "#         S_sum = jnp.sum(S, axis=1)  \n",
    "\n",
    "#         first_term = 10*S.dot(jnp.diag(S.T.dot(H.dot(S))))\n",
    "#         first_term = jnp.linalg.norm(SS_inv.dot(first_term))**2\n",
    "        \n",
    "#         second_term = 0#*jnp.linalg.norm(SS_inv.dot(S), ord=\"fro\")**2        \n",
    "#         third_term = S_sum.T.dot(SS_inv.dot(SS_inv.dot(S_sum)))  \n",
    "        \n",
    "#         return  + sig**2*(second_term + third_term)\n",
    "\n",
    "        S = X.reshape(N, dim).T\n",
    "        \n",
    "        S_inv = jnp.linalg.inv(S)\n",
    "        \n",
    "        first_term = S_inv.T @ jnp.diag(S.T @ H @ S)\n",
    "        second_term = jnp.linalg.norm(S_inv, ord=\"fro\")**2\n",
    "        third_term = S_inv.T @ jnp.ones(dim)\n",
    "        third_term = jnp.linalg.norm(third_term)**2\n",
    "        \n",
    "        return jnp.linalg.norm(first_term)**2 + sig**2 * (second_term + third_term)\n",
    "\n",
    "    return helper\n",
    "\n",
    "def optimize_uncentered_S(H, sig, max_steps=15, jrandom_key=None, x_curr=None):\n",
    "    \n",
    "    dim = H.shape[0]\n",
    "    N = dim\n",
    "    \n",
    "    H = (H + H.T) / 2. # to combat numerical inaccuracies. \n",
    "    D, U = jnp.linalg.eig(H)\n",
    "    U = jnp.real(U)\n",
    "\n",
    "    # print(\"D\", repr(jnp.real(D)))\n",
    "    D = jnp.diag(D)\n",
    "\n",
    "    if x_curr is None:\n",
    "        if jrandom_key is None:\n",
    "#             x_curr = jnp.diag(jnp.sqrt(sig / jnp.abs(jnp.diag(D)))).flatten()\n",
    "            pass\n",
    "        else:\n",
    "            x_curr = jrandom.normal(jrandom_key, shape=(dim * dim,)) * 0.1\n",
    "        \n",
    "    \n",
    "        \n",
    "#     x_curr = jnp.array([ 0.05915076, -0.0340726 ,  0.01818264, -0.31835382,\n",
    "#              -0.05880886, -0.04264622,  0.01758689, -0.35780406,\n",
    "#              -0.00296912,  0.07070069,  0.02147466, -0.25530761,\n",
    "#               0.00104251,  0.00597147, -0.09367059, -0.20932359])\n",
    "    \n",
    "    l = loss_getter(dim, N, D, sig)\n",
    "    g_l = grad(l)\n",
    "    h_l = jacfwd(g_l)\n",
    "    linesearch = helper_linesearch(l, g_l, c1=0.2, c2=0.9)\n",
    "\n",
    "    eps = 1e-20\n",
    "\n",
    "    res = []\n",
    "    res_x = []\n",
    "\n",
    "    for t in tqdm(range(max_steps)):\n",
    "        \n",
    "#         D = jnp.sqrt(jnp.linalg.inv(H))\n",
    "#         tmp = x_curr.reshape(N, dim).T\n",
    "#         tmp = D.dot(tmp\")\n",
    "#         tmp = tmp.dot(jnp.diag(1/jnp.linalg.norm(tmp, axis=0))) * jnp.mean(jnp.linalg.norm(tmp, axis=0))\n",
    "#         tmp = jnp.linalg.inv(D).dot(tmp)\n",
    "#         x_curr = tmp.T.flatten()\n",
    "#         x_curr = np.array(x_curr.reshape(N, dim).T)\n",
    "#         x_curr[0] = np.mean(x_curr[0])\n",
    "#         x_curr = jnp.array(x_curr).T.flatten()\n",
    "        \n",
    "        res.append(l(x_curr))\n",
    "#         res_x.append(U.dot(x_curr.reshape(N, dim).T)) # TURN ON FOR HISTORY \n",
    "\n",
    "        curr_grad = g_l(x_curr)\n",
    "    \n",
    "        # print(curr_grad)\n",
    "        curr_hess = h_l(x_curr) #+ 0.2*jnp.eye(9)\n",
    "        search_direction = -jnp.linalg.inv(curr_hess) @ curr_grad #+ np.random.normal(size=(16))*0.1\n",
    "#         search_direction = -curr_grad #+ np.random.normal(size=(9))*0.1\n",
    "\n",
    "        if jnp.linalg.norm(curr_grad) < eps:\n",
    "            break    \n",
    "\n",
    "        alpha = linesearch(x_curr, search_direction)\n",
    "\n",
    "        S = x_curr.reshape(N, dim).T\n",
    "\n",
    "        SS = S.dot(S.T)\n",
    "\n",
    "        x_curr += alpha*search_direction \n",
    "    \n",
    "    return U.dot(x_curr.reshape(N, dim).T), res"
   ]
  },
  {
   "cell_type": "code",
   "execution_count": 598,
   "metadata": {},
   "outputs": [],
   "source": [
    "dim = 3\n",
    "N = dim\n",
    "D = jnp.diag(jnp.linspace(1, 10, dim))\n",
    "sig = 1\n",
    "\n",
    "l = loss_getter(dim, N, D, sig)\n",
    "g_l = grad(l)"
   ]
  },
  {
   "cell_type": "code",
   "execution_count": 599,
   "metadata": {},
   "outputs": [
    {
     "name": "stderr",
     "output_type": "stream",
     "text": [
      "100%|██████████| 10/10 [00:07<00:00,  1.54it/s]\n"
     ]
    }
   ],
   "source": [
    "jrandom_key = jrandom.PRNGKey(2)\n",
    "jrandom_key, subkey = jrandom.split(jrandom_key)\n",
    "opt_S, l_hist = optimize_uncentered_S(D, sig=sig, max_steps=10, jrandom_key=subkey, x_curr=opt_S.T.flatten())"
   ]
  },
  {
   "cell_type": "code",
   "execution_count": 600,
   "metadata": {},
   "outputs": [
    {
     "data": {
      "text/plain": [
       "[<matplotlib.lines.Line2D at 0x7fa07a3725c0>]"
      ]
     },
     "execution_count": 600,
     "metadata": {},
     "output_type": "execute_result"
    },
    {
     "data": {
      "image/png": "[encoded data removed]",
      "text/plain": [
       "<Figure size 432x288 with 1 Axes>"
      ]
     },
     "metadata": {
      "needs_background": "light"
     },
     "output_type": "display_data"
    }
   ],
   "source": [
    "plt.plot(l_hist)\n",
    "# plt.yscale(\"log\")"
   ]
  },
  {
   "cell_type": "code",
   "execution_count": 601,
   "metadata": {},
   "outputs": [
    {
     "data": {
      "text/plain": [
       "DeviceArray([ 0.00000000e+00,  1.77635684e-14, -1.68753900e-14,\n",
       "              8.88178420e-16,  7.10542736e-15,  1.24344979e-14,\n",
       "             -1.33226763e-15, -2.31781586e-15, -1.06581410e-14],            dtype=float64)"
      ]
     },
     "execution_count": 601,
     "metadata": {},
     "output_type": "execute_result"
    }
   ],
   "source": [
    "g_l(opt_S.T.flatten())"
   ]
  },
  {
   "cell_type": "code",
   "execution_count": 602,
   "metadata": {},
   "outputs": [
    {
     "data": {
      "text/plain": [
       "[DeviceArray([4.31040316e+02+0.j, 2.74094236e+02+0.j, 9.63970140e+01+0.j,\n",
       "              4.51201364e+01+0.j, 2.71308872e+01+0.j, 6.29960252e+00+0.j,\n",
       "              4.63734461e+00+0.j, 2.32416130e+00+0.j, 1.46992468e-01+0.j],            dtype=complex128),\n",
       " DeviceArray([[-1.85960640e-02+0.j, -2.28540546e-02+0.j,\n",
       "                1.79094004e-02+0.j, -6.04272285e-02+0.j,\n",
       "               -1.49398535e-01+0.j,  3.88442832e-01+0.j,\n",
       "                6.87344684e-01+0.j, -5.87191754e-01+0.j,\n",
       "               -6.86662585e-02+0.j],\n",
       "              [ 2.70802797e-01+0.j,  4.45807263e-01+0.j,\n",
       "                3.57819250e-01+0.j, -5.44245471e-01+0.j,\n",
       "                3.31510019e-01+0.j, -3.33183977e-02+0.j,\n",
       "                4.33932864e-02+0.j,  3.63040090e-02+0.j,\n",
       "               -4.35286129e-01+0.j],\n",
       "              [-1.63774455e-01+0.j, -5.35336464e-01+0.j,\n",
       "               -5.32647464e-01+0.j, -4.28178275e-01+0.j,\n",
       "                1.51999608e-01+0.j, -7.63060978e-02+0.j,\n",
       "               -2.82516504e-02+0.j, -1.74743034e-02+0.j,\n",
       "               -4.35330718e-01+0.j],\n",
       "              [-1.85960640e-02+0.j,  2.28540546e-02+0.j,\n",
       "                1.79094004e-02+0.j, -6.04272285e-02+0.j,\n",
       "                1.49398535e-01+0.j,  3.88442832e-01+0.j,\n",
       "               -6.87344684e-01+0.j, -5.87191754e-01+0.j,\n",
       "                6.86662585e-02+0.j],\n",
       "              [-2.70802797e-01+0.j,  4.45807263e-01+0.j,\n",
       "               -3.57819250e-01+0.j,  5.44245471e-01+0.j,\n",
       "                3.31510019e-01+0.j,  3.33183977e-02+0.j,\n",
       "                4.33932864e-02+0.j, -3.63040090e-02+0.j,\n",
       "               -4.35286129e-01+0.j],\n",
       "              [-1.63774455e-01+0.j,  5.35336464e-01+0.j,\n",
       "               -5.32647464e-01+0.j, -4.28178275e-01+0.j,\n",
       "               -1.51999608e-01+0.j, -7.63060978e-02+0.j,\n",
       "                2.82516504e-02+0.j, -1.74743034e-02+0.j,\n",
       "                4.35330718e-01+0.j],\n",
       "              [ 3.70208479e-02+0.j,  2.89343154e-17+0.j,\n",
       "                6.49895639e-02+0.j,  7.48099819e-02+0.j,\n",
       "                2.64792561e-16+0.j, -8.26160099e-01+0.j,\n",
       "               -7.86643568e-15+0.j, -5.53415549e-01+0.j,\n",
       "                1.00283606e-17+0.j],\n",
       "              [ 1.07898191e-15+0.j, -1.68216805e-01+0.j,\n",
       "               -1.20527479e-15+0.j, -4.46215849e-16+0.j,\n",
       "                8.30273816e-01+0.j, -8.51196810e-16+0.j,\n",
       "                2.23052245e-01+0.j, -2.26692582e-15+0.j,\n",
       "                4.82282276e-01+0.j],\n",
       "              [-8.93098749e-01+0.j, -2.85250251e-15+0.j,\n",
       "                4.14293363e-01+0.j, -1.67394836e-01+0.j,\n",
       "               -3.70174144e-17+0.j, -4.26421091e-02+0.j,\n",
       "                1.85712683e-16+0.j,  2.99374973e-02+0.j,\n",
       "                5.56418779e-16+0.j]], dtype=complex128)]"
      ]
     },
     "execution_count": 602,
     "metadata": {},
     "output_type": "execute_result"
    }
   ],
   "source": [
    "jnp.linalg.eig(jacfwd(g_l)(opt_S.T.flatten()))"
   ]
  },
  {
   "cell_type": "code",
   "execution_count": null,
   "metadata": {},
   "outputs": [],
   "source": [
    "jnp.linalg.inv(opt_S).T @ jnp.ones(3)"
   ]
  },
  {
   "cell_type": "code",
   "execution_count": 23,
   "metadata": {},
   "outputs": [
    {
     "data": {
      "text/plain": [
       "DeviceArray([[ 1.20650681,  1.27697767,  1.27211325],\n",
       "             [-0.53863084,  0.19192515,  0.23444992],\n",
       "             [-0.02617571,  0.37405106, -0.35613879]], dtype=float64)"
      ]
     },
     "execution_count": 23,
     "metadata": {},
     "output_type": "execute_result"
    }
   ],
   "source": [
    "opt_S"
   ]
  },
  {
   "cell_type": "code",
   "execution_count": 18,
   "metadata": {},
   "outputs": [
    {
     "data": {
      "text/plain": [
       "DeviceArray([[ 0.46894552,  0.47597278,  0.47130594],\n",
       "             [-0.2711654 , -0.25765545, -0.26738272],\n",
       "             [-0.00906304,  0.05779771, -0.03156821]], dtype=float64)"
      ]
     },
     "execution_count": 18,
     "metadata": {},
     "output_type": "execute_result"
    }
   ],
   "source": [
    "opt_S"
   ]
  },
  {
   "cell_type": "code",
   "execution_count": 24,
   "metadata": {},
   "outputs": [
    {
     "data": {
      "text/plain": [
       "DeviceArray([[ 7634.94445675, 13529.81519909, -2254.41501565],\n",
       "             [13529.81519909, 23980.8739728 , -3990.67954831],\n",
       "             [-2254.41501565, -3990.67954831,   895.88605011]],            dtype=float64)"
      ]
     },
     "execution_count": 24,
     "metadata": {},
     "output_type": "execute_result"
    }
   ],
   "source": [
    "tmp_S = jnp.array([[ 0.46894552,  0.47597278,  0.47130594],\n",
    "                   [-0.2711654 , -0.25765545, -0.26738272],\n",
    "                   [-0.00906304,  0.05779771, -0.03156821]])\n",
    "\n",
    "jnp.linalg.inv(tmp_S).T @ jnp.linalg.inv(tmp_S)"
   ]
  },
  {
   "cell_type": "code",
   "execution_count": 19,
   "metadata": {},
   "outputs": [
    {
     "data": {
      "text/plain": [
       "DeviceArray(4.74187763, dtype=float64)"
      ]
     },
     "execution_count": 19,
     "metadata": {},
     "output_type": "execute_result"
    }
   ],
   "source": [
    "l(opt_S.T.flatten())"
   ]
  },
  {
   "cell_type": "code",
   "execution_count": 71,
   "metadata": {},
   "outputs": [
    {
     "data": {
      "text/plain": [
       "DeviceArray([2.59581233e+00, 1.18250514e-15, 8.05796821e-03], dtype=float64)"
      ]
     },
     "execution_count": 71,
     "metadata": {},
     "output_type": "execute_result"
    }
   ],
   "source": [
    "jnp.linalg.inv(opt_S).T @ jnp.diag((opt_S.T @ D @ opt_S))"
   ]
  },
  {
   "cell_type": "code",
   "execution_count": 70,
   "metadata": {},
   "outputs": [
    {
     "data": {
      "text/plain": [
       "DeviceArray([3.65963382, 3.65963382, 3.76305915], dtype=float64)"
      ]
     },
     "execution_count": 70,
     "metadata": {},
     "output_type": "execute_result"
    }
   ],
   "source": [
    "jnp.diag((opt_S.T @ D @ opt_S))"
   ]
  },
  {
   "cell_type": "code",
   "execution_count": 132,
   "metadata": {},
   "outputs": [
    {
     "data": {
      "text/plain": [
       "DeviceArray([[ 1.40907226e+00,  1.40907226e+00,  1.45092927e+00],\n",
       "             [-4.45282412e-01,  4.45282412e-01,  1.56062810e-15],\n",
       "             [ 2.41584116e-01,  2.41584116e-01, -4.07168687e-01]],            dtype=float64)"
      ]
     },
     "execution_count": 132,
     "metadata": {},
     "output_type": "execute_result"
    }
   ],
   "source": [
    "opt_S"
   ]
  },
  {
   "cell_type": "code",
   "execution_count": 539,
   "metadata": {},
   "outputs": [],
   "source": [
    "a = jnp.linalg.norm(D**(0.5) @ opt_S, axis=0)\n",
    "A_inv = jnp.diag(1/a)\n",
    "A = jnp.diag(a)\n",
    "\n",
    "D = jnp.diag(jnp.linspace(1, 10, dim))\n",
    "\n",
    "U = D**(0.5) @ opt_S @ A_inv\n",
    "U_inv = jnp.linalg.inv(U)\n",
    "\n",
    "M = jnp.outer(a, a) + jnp.outer(1/a, 1/a) + A_inv @ A_inv\n",
    "\n",
    "LHS = M @ U_inv @ D @ U_inv.T\n",
    "\n",
    "RHS = U.T @ U"
   ]
  },
  {
   "cell_type": "code",
   "execution_count": 503,
   "metadata": {},
   "outputs": [
    {
     "data": {
      "text/plain": [
       "DeviceArray([[4.20613658, 3.9328852 , 3.98045634],\n",
       "             [3.9328852 , 4.20613658, 3.98045634],\n",
       "             [3.98045634, 3.98045634, 4.29454162]], dtype=float64)"
      ]
     },
     "execution_count": 503,
     "metadata": {},
     "output_type": "execute_result"
    }
   ],
   "source": [
    "M"
   ]
  },
  {
   "cell_type": "code",
   "execution_count": 505,
   "metadata": {},
   "outputs": [
    {
     "data": {
      "text/plain": [
       "DeviceArray([[ 7.36570715e-01,  7.36570715e-01,  7.47955431e-01],\n",
       "             [-5.45881116e-01,  5.45881116e-01,  1.49634540e-14],\n",
       "             [ 3.99346203e-01,  3.99346203e-01, -6.63748953e-01]],            dtype=float64)"
      ]
     },
     "execution_count": 505,
     "metadata": {},
     "output_type": "execute_result"
    }
   ],
   "source": [
    "U"
   ]
  },
  {
   "cell_type": "code",
   "execution_count": 362,
   "metadata": {},
   "outputs": [
    {
     "name": "stdout",
     "output_type": "stream",
     "text": [
      "[[ 4.7986754   2.38559048  0.10864699]\n",
      " [-2.00660082  5.03323623  4.51810515]\n",
      " [-4.92366488  3.81310719  8.73677208]]\n",
      "[[1.         0.4040276  0.68104522]\n",
      " [0.4040276  1.         0.08507283]\n",
      " [0.68104522 0.08507283 1.        ]]\n"
     ]
    }
   ],
   "source": [
    "print(LHS)\n",
    "print(RHS)"
   ]
  },
  {
   "cell_type": "code",
   "execution_count": 506,
   "metadata": {},
   "outputs": [
    {
     "data": {
      "text/plain": [
       "DeviceArray([[ 7.04657316, -2.18204237, -4.22711258],\n",
       "             [-2.18204237,  7.04657316, -4.22711258],\n",
       "             [-4.22711258, -4.22711258,  9.00345389]], dtype=float64)"
      ]
     },
     "execution_count": 506,
     "metadata": {},
     "output_type": "execute_result"
    }
   ],
   "source": [
    "U_inv @ D @ U_inv.T"
   ]
  },
  {
   "cell_type": "code",
   "execution_count": 335,
   "metadata": {},
   "outputs": [
    {
     "data": {
      "text/plain": [
       "DeviceArray([[ 7.04657316, -2.18204237, -4.22711258],\n",
       "             [-2.18204237,  7.04657316, -4.22711258],\n",
       "             [-4.22711258, -4.22711258,  9.00345389]], dtype=float64)"
      ]
     },
     "execution_count": 335,
     "metadata": {},
     "output_type": "execute_result"
    }
   ],
   "source": [
    "U_inv @ D @ U_inv.T "
   ]
  },
  {
   "cell_type": "code",
   "execution_count": 365,
   "metadata": {},
   "outputs": [
    {
     "data": {
      "text/plain": [
       "DeviceArray([[ 20.29051132,  -4.61430769, -15.67620363],\n",
       "             [ -4.61430769,   5.07510625,   0.46079857],\n",
       "             [-15.67620363,   0.46079857,  16.1370022 ]], dtype=float64)"
      ]
     },
     "execution_count": 365,
     "metadata": {},
     "output_type": "execute_result"
    }
   ],
   "source": [
    "U_inv @ D @ U_inv.T "
   ]
  },
  {
   "cell_type": "code",
   "execution_count": 460,
   "metadata": {},
   "outputs": [
    {
     "data": {
      "text/plain": [
       "DeviceArray([[3.71098678, 1.61467636, 1.78435418, 1.30390991, 1.33234607],\n",
       "             [1.61467636, 3.71098678, 1.14895301, 1.77023792, 1.50141922],\n",
       "             [1.78435418, 1.14895301, 3.71098678, 1.43079839, 1.67118093],\n",
       "             [1.30390991, 1.77023792, 1.43079839, 3.71098678, 1.53034029],\n",
       "             [1.33234607, 1.50141922, 1.67118093, 1.53034029, 3.71098678]],            dtype=float64)"
      ]
     },
     "execution_count": 460,
     "metadata": {},
     "output_type": "execute_result"
    }
   ],
   "source": [
    "U.T @ U @ lmbda"
   ]
  },
  {
   "cell_type": "code",
   "execution_count": 339,
   "metadata": {},
   "outputs": [
    {
     "data": {
      "text/plain": [
       "DeviceArray([[4.23128993, 1.70955798, 1.20954149],\n",
       "             [1.70955798, 4.23128993, 1.20954149],\n",
       "             [1.43329374, 1.43329374, 5.01403335]], dtype=float64)"
      ]
     },
     "execution_count": 339,
     "metadata": {},
     "output_type": "execute_result"
    }
   ],
   "source": [
    "lmbda @ U.T @ U "
   ]
  },
  {
   "cell_type": "code",
   "execution_count": 459,
   "metadata": {},
   "outputs": [
    {
     "data": {
      "text/plain": [
       "DeviceArray([[3.71098678, 1.61467636, 1.78435418, 1.30390991, 1.33234607],\n",
       "             [1.61467636, 3.71098678, 1.14895301, 1.77023792, 1.50141922],\n",
       "             [1.78435418, 1.14895301, 3.71098678, 1.43079839, 1.67118093],\n",
       "             [1.30390991, 1.77023792, 1.43079839, 3.71098678, 1.53034029],\n",
       "             [1.33234607, 1.50141922, 1.67118093, 1.53034029, 3.71098678]],            dtype=float64)"
      ]
     },
     "execution_count": 459,
     "metadata": {},
     "output_type": "execute_result"
    }
   ],
   "source": [
    "lmbda = jnp.diag(jnp.array([3.71098678, 3.71098678, 3.71098678, 3.71098678, 3.71098678]))\n",
    "\n",
    "U_inv @ D @ U @ lmbda @ U.T @ jnp.linalg.inv(D) @ U"
   ]
  },
  {
   "cell_type": "code",
   "execution_count": 333,
   "metadata": {},
   "outputs": [
    {
     "data": {
      "text/plain": [
       "DeviceArray([[2.59235675, 2.13386003, 2.21895404],\n",
       "             [2.13386003, 2.59235675, 2.21895404],\n",
       "             [2.62943683, 2.62943683, 3.02593701]], dtype=float64)"
      ]
     },
     "execution_count": 333,
     "metadata": {},
     "output_type": "execute_result"
    }
   ],
   "source": [
    "lmbda @ U.T @ jnp.linalg.inv(D) @ U"
   ]
  },
  {
   "cell_type": "code",
   "execution_count": 455,
   "metadata": {},
   "outputs": [
    {
     "data": {
      "text/plain": [
       "DeviceArray([[3.71098678, 3.71098678, 3.71098678, 3.71098678, 3.71098678],\n",
       "             [3.71098678, 3.71098678, 3.71098678, 3.71098678, 3.71098678],\n",
       "             [3.71098678, 3.71098678, 3.71098678, 3.71098678, 3.71098678],\n",
       "             [3.71098678, 3.71098678, 3.71098678, 3.71098678, 3.71098678],\n",
       "             [3.71098678, 3.71098678, 3.71098678, 3.71098678, 3.71098678]],            dtype=float64)"
      ]
     },
     "execution_count": 455,
     "metadata": {},
     "output_type": "execute_result"
    }
   ],
   "source": [
    "LHS/RHS"
   ]
  },
  {
   "cell_type": "code",
   "execution_count": 304,
   "metadata": {},
   "outputs": [
    {
     "data": {
      "text/plain": [
       "[DeviceArray([1.65394012+0.j, 0.59597238+0.j, 0.7500875 +0.j], dtype=complex128),\n",
       " DeviceArray([[-6.01457829e-01+0.j, -7.07106781e-01+0.j,\n",
       "               -3.71817805e-01+0.j],\n",
       "              [-6.01457829e-01+0.j,  7.07106781e-01+0.j,\n",
       "               -3.71817805e-01+0.j],\n",
       "              [-5.25829783e-01+0.j,  3.80837462e-15+0.j,\n",
       "                8.50589818e-01+0.j]], dtype=complex128)]"
      ]
     },
     "execution_count": 304,
     "metadata": {},
     "output_type": "execute_result"
    }
   ],
   "source": [
    "jnp.linalg.eig(U.T @ U)"
   ]
  },
  {
   "cell_type": "code",
   "execution_count": 461,
   "metadata": {},
   "outputs": [
    {
     "name": "stdout",
     "output_type": "stream",
     "text": [
      "[[11.66353269 11.21053529 11.21053529 11.21053529 11.21053529]\n",
      " [11.21053529 11.66353269 11.21053529 11.21053529 11.21053529]\n",
      " [11.21053529 11.21053529 11.66353269 11.21053529 11.21053529]\n",
      " [11.21053529 11.21053529 11.21053529 11.66353269 11.21053529]\n",
      " [11.21053529 11.21053529 11.21053529 11.21053529 11.66353269]]\n",
      "[[-2.54887105e-14  2.09631042e+00  1.92663260e+00  2.40707687e+00\n",
      "   2.37864071e+00]\n",
      " [ 2.09631042e+00 -2.35280404e-14  2.56203377e+00  1.94074886e+00\n",
      "   2.20956756e+00]\n",
      " [ 1.92663260e+00  2.56203377e+00  1.96067004e-15  2.28018839e+00\n",
      "   2.03980585e+00]\n",
      " [ 2.40707687e+00  1.94074886e+00  2.28018839e+00  0.00000000e+00\n",
      "   2.18064649e+00]\n",
      " [ 2.37864071e+00  2.20956756e+00  2.03980585e+00  2.18064649e+00\n",
      "   3.13707206e-14]]\n"
     ]
    },
    {
     "data": {
      "text/plain": [
       "DeviceArray([[2.02160206, 2.11456014, 2.11456014, 2.11456014, 2.11456014],\n",
       "             [2.11456014, 2.02160206, 2.11456014, 2.11456014, 2.11456014],\n",
       "             [2.11456014, 2.11456014, 2.02160206, 2.11456014, 2.11456014],\n",
       "             [2.11456014, 2.11456014, 2.11456014, 2.02160206, 2.11456014],\n",
       "             [2.11456014, 2.11456014, 2.11456014, 2.11456014, 2.02160206]],            dtype=float64)"
      ]
     },
     "execution_count": 461,
     "metadata": {},
     "output_type": "execute_result"
    }
   ],
   "source": [
    "C = U_inv @ D**(0.5)\n",
    "C = C @ C.T\n",
    "\n",
    "\n",
    "\n",
    "\n",
    "H = jnp.outer(a, jnp.ones(dim)) - A_inv ** 3 - jnp.outer(1/a, 1/a**2)\n",
    "\n",
    "print(M @ A)\n",
    "\n",
    "print(C @ H @ A)\n",
    "\n",
    "\n",
    "H"
   ]
  },
  {
   "cell_type": "code",
   "execution_count": 464,
   "metadata": {},
   "outputs": [
    {
     "name": "stdout",
     "output_type": "stream",
     "text": [
      "[ 8.66131328 -1.55429387 -0.72743067 -3.06870124 -2.93012794]\n",
      "[-1.55429387  8.66131328 -3.82382737 -0.79622112 -2.10621136]\n",
      "[-0.72743067 -3.82382737  8.66131328 -2.45035632 -1.27893936]\n",
      "[-3.06870124 -0.79622112 -2.45035632  8.66131328 -1.96527505]\n",
      "[-2.93012794 -2.10621136 -1.27893936 -1.96527505  8.66131328]\n"
     ]
    }
   ],
   "source": [
    "for i in range(5):\n",
    "    print(C[i])"
   ]
  },
  {
   "cell_type": "code",
   "execution_count": 348,
   "metadata": {},
   "outputs": [
    {
     "data": {
      "text/plain": [
       "DeviceArray([[3.11313105, 3.38638244, 3.44151604],\n",
       "             [3.38638244, 3.11313105, 3.44151604],\n",
       "             [3.44151604, 3.44151604, 3.23157667]], dtype=float64)"
      ]
     },
     "execution_count": 348,
     "metadata": {},
     "output_type": "execute_result"
    }
   ],
   "source": [
    "(jnp.outer(a, jnp.ones(dim)) - A_inv ** 3 - jnp.outer(1/a, 1/a**2) ) @ A"
   ]
  },
  {
   "cell_type": "code",
   "execution_count": 315,
   "metadata": {},
   "outputs": [
    {
     "data": {
      "text/plain": [
       "DeviceArray([[-2.94778312, -1.75780798,  1.52123635],\n",
       "             [-2.94778312, -1.75780798,  1.52123635],\n",
       "             [-2.94778312, -1.75780798,  1.52123635]], dtype=float64)"
      ]
     },
     "execution_count": 315,
     "metadata": {},
     "output_type": "execute_result"
    }
   ],
   "source": [
    "jrandom_key, subkey = jrandom.split(jrandom_key)\n",
    "lmbda = jrandom.normal(subkey, shape=(dim,))\n",
    "lmbda = jnp.ones(shape=(dim, dim,)) * lmbda \n",
    "jrandom_key, subkey = jrandom.split(jrandom_key)\n",
    "R = jrandom.normal(subkey, shape=(dim, dim,))\n",
    "\n",
    "lmbda.dot(R)\n"
   ]
  },
  {
   "cell_type": "code",
   "execution_count": 465,
   "metadata": {},
   "outputs": [
    {
     "data": {
      "text/plain": [
       "DeviceArray([[0.87592835, 0.87592835, 0.87592835, 0.87592835, 0.87592835],\n",
       "             [0.87592835, 0.87592835, 0.87592835, 0.87592835, 0.87592835],\n",
       "             [0.87592835, 0.87592835, 0.87592835, 0.87592835, 0.87592835],\n",
       "             [0.87592835, 0.87592835, 0.87592835, 0.87592835, 0.87592835],\n",
       "             [0.87592835, 0.87592835, 0.87592835, 0.87592835, 0.87592835]],            dtype=float64)"
      ]
     },
     "execution_count": 465,
     "metadata": {},
     "output_type": "execute_result"
    }
   ],
   "source": [
    "(jnp.outer(a, jnp.ones(dim)) + jnp.outer(1/a, 1/a**2)) @ (U_inv @ D @ U_inv.T)"
   ]
  },
  {
   "cell_type": "code",
   "execution_count": 488,
   "metadata": {},
   "outputs": [
    {
     "data": {
      "text/plain": [
       "DeviceArray([[ 0.72475227,  0.72475227,  0.72475227,  0.72475227,\n",
       "               0.72475227],\n",
       "             [-0.32866282,  0.34160635,  0.35979745, -0.19845954,\n",
       "              -0.17428145],\n",
       "             [-0.07457038, -0.24951459,  0.24210356,  0.50016954,\n",
       "              -0.41818812],\n",
       "             [-0.52008212, -0.27753713,  0.12480351,  0.15583895,\n",
       "               0.51697679],\n",
       "             [ 0.30111251, -0.46771236,  0.52066293, -0.40111421,\n",
       "               0.04705113]], dtype=float64)"
      ]
     },
     "execution_count": 488,
     "metadata": {},
     "output_type": "execute_result"
    }
   ],
   "source": [
    "U"
   ]
  },
  {
   "cell_type": "code",
   "execution_count": 487,
   "metadata": {},
   "outputs": [
    {
     "data": {
      "text/plain": [
       "DeviceArray([[3.62376137e+00, 4.24660307e-15, 3.33066907e-16,\n",
       "              3.33066907e-16, 1.26287869e-15],\n",
       "             [3.62376137e+00, 4.24660307e-15, 3.33066907e-16,\n",
       "              3.33066907e-16, 1.26287869e-15],\n",
       "             [3.62376137e+00, 4.24660307e-15, 3.33066907e-16,\n",
       "              3.33066907e-16, 1.26287869e-15],\n",
       "             [3.62376137e+00, 4.24660307e-15, 3.33066907e-16,\n",
       "              3.33066907e-16, 1.26287869e-15],\n",
       "             [3.62376137e+00, 4.24660307e-15, 3.33066907e-16,\n",
       "              3.33066907e-16, 1.26287869e-15]], dtype=float64)"
      ]
     },
     "execution_count": 487,
     "metadata": {},
     "output_type": "execute_result"
    }
   ],
   "source": [
    "jnp.outer(jnp.ones(dim), jnp.ones(dim)) @ U.T"
   ]
  },
  {
   "cell_type": "code",
   "execution_count": 507,
   "metadata": {},
   "outputs": [
    {
     "data": {
      "text/plain": [
       "DeviceArray([[ 2.22109686e+00, -1.33472332e-14,  1.34943453e-01],\n",
       "             [ 2.22109686e+00, -1.33472332e-14,  1.34943453e-01],\n",
       "             [ 2.22109686e+00, -1.33472332e-14,  1.34943453e-01]],            dtype=float64)"
      ]
     },
     "execution_count": 507,
     "metadata": {},
     "output_type": "execute_result"
    }
   ],
   "source": [
    "jnp.outer(jnp.ones(dim), jnp.ones(dim)) @ U.T"
   ]
  },
  {
   "cell_type": "code",
   "execution_count": 284,
   "metadata": {},
   "outputs": [],
   "source": [
    "R /= jnp.linalg.norm(R, axis=0)"
   ]
  },
  {
   "cell_type": "code",
   "execution_count": 285,
   "metadata": {},
   "outputs": [
    {
     "data": {
      "text/plain": [
       "DeviceArray([[ 1.59517388,  1.49538716, -2.1206521 ],\n",
       "             [ 1.49538716,  7.64693912, -5.96978696],\n",
       "             [-2.1206521 , -5.96978696,  8.90720217]], dtype=float64)"
      ]
     },
     "execution_count": 285,
     "metadata": {},
     "output_type": "execute_result"
    }
   ],
   "source": [
    "R.T @ D @ R"
   ]
  },
  {
   "cell_type": "code",
   "execution_count": 520,
   "metadata": {},
   "outputs": [
    {
     "data": {
      "text/plain": [
       "DeviceArray([2.59581233e+00, 2.44623260e-16, 8.05796821e-03], dtype=float64)"
      ]
     },
     "execution_count": 520,
     "metadata": {},
     "output_type": "execute_result"
    }
   ],
   "source": [
    "jnp.linalg.inv(opt_S.T) @ jnp.diag(opt_S.T @ D @ opt_S)"
   ]
  },
  {
   "cell_type": "code",
   "execution_count": 513,
   "metadata": {},
   "outputs": [
    {
     "data": {
      "text/plain": [
       "DeviceArray(40.9464535, dtype=float64)"
      ]
     },
     "execution_count": 513,
     "metadata": {},
     "output_type": "execute_result"
    }
   ],
   "source": [
    "jnp.linalg.norm(jnp.diag(opt_S.T @ D @ opt_S))**2"
   ]
  },
  {
   "cell_type": "code",
   "execution_count": 527,
   "metadata": {},
   "outputs": [
    {
     "data": {
      "text/plain": [
       "DeviceArray([[ 5.73022280e-01+0.j,  7.07106781e-01+0.j,\n",
       "              -4.14301179e-01+0.j],\n",
       "             [ 5.73022280e-01+0.j, -7.07106781e-01+0.j,\n",
       "              -4.14301179e-01+0.j],\n",
       "             [ 5.85910346e-01+0.j, -2.68757255e-14+0.j,\n",
       "               8.10375880e-01+0.j]], dtype=complex128)"
      ]
     },
     "execution_count": 527,
     "metadata": {},
     "output_type": "execute_result"
    }
   ],
   "source": [
    "W"
   ]
  },
  {
   "cell_type": "code",
   "execution_count": 583,
   "metadata": {},
   "outputs": [
    {
     "data": {
      "text/plain": [
       "DeviceArray(2.+0.j, dtype=complex128)"
      ]
     },
     "execution_count": 583,
     "metadata": {},
     "output_type": "execute_result"
    }
   ],
   "source": [
    "1-(W[:, 0] @ v) "
   ]
  },
  {
   "cell_type": "code",
   "execution_count": 552,
   "metadata": {},
   "outputs": [
    {
     "data": {
      "text/plain": [
       "DeviceArray([0.56539395, 0.56539395, 0.60054923], dtype=float64)"
      ]
     },
     "execution_count": 552,
     "metadata": {},
     "output_type": "execute_result"
    }
   ],
   "source": [
    "v"
   ]
  },
  {
   "cell_type": "code",
   "execution_count": 530,
   "metadata": {},
   "outputs": [
    {
     "data": {
      "text/plain": [
       "DeviceArray([0.09034352, 0.09034352, 0.10411374], dtype=float64)"
      ]
     },
     "execution_count": 530,
     "metadata": {},
     "output_type": "execute_result"
    }
   ],
   "source": [
    "opt_S_inv @ opt_S_inv.T @ v"
   ]
  },
  {
   "cell_type": "code",
   "execution_count": 603,
   "metadata": {},
   "outputs": [
    {
     "name": "stdout",
     "output_type": "stream",
     "text": [
      "(0.16453960378553398+0j)\n",
      "0.16456386397914224\n"
     ]
    }
   ],
   "source": [
    "opt_S_inv = jnp.linalg.inv(opt_S)\n",
    "\n",
    "L, W = jnp.linalg.eig(opt_S_inv @ opt_S_inv.T)\n",
    "\n",
    "v = jnp.diag(opt_S.T @ D @ opt_S)\n",
    "v /= jnp.linalg.norm(v)\n",
    "\n",
    "print(min(L) * jnp.linalg.norm(v)**2)\n",
    "\n",
    "print(v.T @ opt_S_inv @ opt_S_inv.T @ v)\n",
    "\n"
   ]
  },
  {
   "cell_type": "code",
   "execution_count": 295,
   "metadata": {},
   "outputs": [
    {
     "data": {
      "text/plain": [
       "DeviceArray([[  22.52738671,    2.46700027,    1.81062539],\n",
       "             [ -66.8502059 ,   -7.32084365,   -5.37304577],\n",
       "             [-416.49885253,  -45.6112728 ,  -33.475849  ]],            dtype=float64)"
      ]
     },
     "execution_count": 295,
     "metadata": {},
     "output_type": "execute_result"
    }
   ],
   "source": [
    "jnp.linalg.inv(R) @ D @ R @ lmbda @ R.T @ jnp.linalg.inv(D) @ R"
   ]
  },
  {
   "cell_type": "code",
   "execution_count": 294,
   "metadata": {},
   "outputs": [
    {
     "data": {
      "text/plain": [
       "DeviceArray([[   7.03798692,    3.78078682,   -2.20569436],\n",
       "             [ -20.88528426,  -11.21951608,    6.5454162 ],\n",
       "             [-130.12221593,  -69.90128916,   40.78010381]],            dtype=float64)"
      ]
     },
     "execution_count": 294,
     "metadata": {},
     "output_type": "execute_result"
    }
   ],
   "source": [
    "jnp.linalg.inv(R) @ D @ R @ lmbda"
   ]
  },
  {
   "cell_type": "markdown",
   "metadata": {},
   "source": [
    "Given some $M$ we want to find $U$ such that \n",
    "$$MU^{-1} D U^{-T} = U^T U \\lambda$$. \n",
    "or \n",
    "$$ M = U^T U \\lambda U^T D U $$"
   ]
  },
  {
   "cell_type": "code",
   "execution_count": 351,
   "metadata": {},
   "outputs": [
    {
     "data": {
      "text/plain": [
       "DeviceArray([[ 7.04657316, -2.18204237, -4.22711258],\n",
       "             [-2.18204237,  7.04657316, -4.22711258],\n",
       "             [-4.22711258, -4.22711258,  9.00345389]], dtype=float64)"
      ]
     },
     "execution_count": 351,
     "metadata": {},
     "output_type": "execute_result"
    }
   ],
   "source": [
    "U_inv @ D @ U_inv.T "
   ]
  },
  {
   "cell_type": "code",
   "execution_count": 360,
   "metadata": {},
   "outputs": [
    {
     "data": {
      "text/plain": [
       "DeviceArray([[1.        , 0.4040276 , 0.68104522],\n",
       "             [0.4040276 , 1.        , 0.08507283],\n",
       "             [0.68104522, 0.08507283, 1.        ]], dtype=float64)"
      ]
     },
     "execution_count": 360,
     "metadata": {},
     "output_type": "execute_result"
    }
   ],
   "source": [
    "UUU = jnp.array([[ 0.73657071, 0.54588112,  0.3993462 ], [ 0.73657071, -0.54588112,  0.3993462 ], [ 0.73657071, 0.54588112,  -0.3993462 ]]).T\n",
    "UUU.T @ UUU"
   ]
  },
  {
   "cell_type": "code",
   "execution_count": 324,
   "metadata": {},
   "outputs": [
    {
     "data": {
      "text/plain": [
       "DeviceArray([[  1.953535  ,  -1.43588558,   2.06340974],\n",
       "             [ -0.23977759, -42.63251494,  -0.1812307 ],\n",
       "             [  2.17221642,  -1.14251163,   2.09570629]], dtype=float64)"
      ]
     },
     "execution_count": 324,
     "metadata": {},
     "output_type": "execute_result"
    }
   ],
   "source": [
    "jrandom_key, subkey = jrandom.split(jrandom_key)\n",
    "\n",
    "b = jnp.abs(jrandom.normal(subkey, shape=(dim, )))\n",
    "B = jnp.diag(b)\n",
    "B_inv = jnp.linalg.inv(B)\n",
    "\n",
    "H = jnp.outer(b, jnp.ones(dim)) - B_inv ** 3 - jnp.outer(1/b, 1/b**2)\n",
    "\n",
    "\n",
    "\n",
    "H"
   ]
  },
  {
   "cell_type": "code",
   "execution_count": 325,
   "metadata": {},
   "outputs": [
    {
     "data": {
      "text/plain": [
       "DeviceArray([[2.15373108, 0.        , 0.        ],\n",
       "             [0.        , 0.35965013, 0.        ],\n",
       "             [0.        , 0.        , 2.26730054]], dtype=float64)"
      ]
     },
     "execution_count": 325,
     "metadata": {},
     "output_type": "execute_result"
    }
   ],
   "source": [
    "B"
   ]
  },
  {
   "cell_type": "code",
   "execution_count": 326,
   "metadata": {},
   "outputs": [
    {
     "data": {
      "text/plain": [
       "DeviceArray([[1.62734108, 1.77017901, 1.77410482],\n",
       "             [1.77017901, 1.62734108, 1.77410482],\n",
       "             [1.79899925, 1.79899925, 1.66588087]], dtype=float64)"
      ]
     },
     "execution_count": 326,
     "metadata": {},
     "output_type": "execute_result"
    }
   ],
   "source": [
    "M\n"
   ]
  },
  {
   "cell_type": "code",
   "execution_count": null,
   "metadata": {},
   "outputs": [],
   "source": []
  }
 ],
 "metadata": {
  "kernelspec": {
   "display_name": "Python3 (new_adv)",
   "language": "python",
   "name": "new_adv"
  },
  "language_info": {
   "codemirror_mode": {
    "name": "ipython",
    "version": 3
   },
   "file_extension": ".py",
   "mimetype": "text/x-python",
   "name": "python",
   "nbconvert_exporter": "python",
   "pygments_lexer": "ipython3",
   "version": "3.6.8"
  }
 },
 "nbformat": 4,
 "nbformat_minor": 2
}
