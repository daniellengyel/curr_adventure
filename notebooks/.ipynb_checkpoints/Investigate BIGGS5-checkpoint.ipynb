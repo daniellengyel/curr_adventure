{
 "cells": [
  {
   "cell_type": "code",
   "execution_count": 1,
   "metadata": {},
   "outputs": [],
   "source": [
    "import jax.numpy as jnp\n",
    "import jax.random as jrandom\n",
    "\n",
    "import matplotlib.pyplot as plt\n",
    "import pandas as pd\n",
    "from jax import jit, grad, jacfwd, jacrev\n",
    "\n",
    "\n",
    "\n",
    "from scipy.stats import linregress\n",
    "\n",
    "from tqdm import tqdm\n",
    "import pickle\n",
    "\n",
    "import numpy as np\n",
    "\n",
    "from jax.config import config\n",
    "config.update(\"jax_enable_x64\", True)\n",
    "\n",
    "import matplotlib.pyplot as plt\n",
    "\n",
    "%matplotlib inline\n",
    "plt.rcParams['figure.figsize'] = [12,12]\n",
    "plt.style.use('ggplot')\n",
    "plt.rcParams['lines.markersize'] = 8\n",
    "plt.rcParams.update({'font.size': 12})"
   ]
  },
  {
   "cell_type": "markdown",
   "metadata": {},
   "source": [
    "$$\\sqrt{\\frac{\\sqrt{\\text{sig}^4 \\text{sumSqrt}^2 \\left(8 (\\dim +1) \\text{dM}+\\text{sumSqrt}^2\\right)}+2 (\\dim +1) \\text{dM} \\text{sig}^2+\\text{sig}^2 \\text{sumSqrt}^2}{\\dim  \\text{dM}}}$$\n",
    "\n",
    "\n",
    "$$\\frac{\\sqrt{\\text{sig}^4 \\text{sumSqrt}^2 \\left(8 (\\dim +1) \\text{dM}+\\text{sumSqrt}^2\\right)}+4 (\\dim +1) \\text{dM} \\text{sig}^2+\\text{sig}^2 \\text{sumSqrt}^2}{2 \\text{dM}^2 \\sqrt{\\frac{\\sqrt{\\text{sig}^4 \\text{sumSqrt}^2 \\left(8 (\\dim +1) \\text{dM}+\\text{sumSqrt}^2\\right)}+2 (\\dim +1) \\text{dM} \\text{sig}^2+\\text{sig}^2 \\text{sumSqrt}^2}{\\dim  \\text{dM}}}}$$"
   ]
  },
  {
   "cell_type": "code",
   "execution_count": 3,
   "metadata": {},
   "outputs": [],
   "source": [
    "def createU(max_row, dim):\n",
    "    I = np.eye(dim)\n",
    "    I[:, 0] = np.ones(dim)\n",
    "    Q, R = np.linalg.qr(I)\n",
    "    Q = Q.T\n",
    "    row_tmp = Q[max_row].copy()\n",
    "    Q[max_row] = Q[0]\n",
    "    Q[0] = row_tmp\n",
    "    return jnp.array(Q)\n",
    "\n",
    "def createU_power_two(max_row, dim):\n",
    "    \n",
    "    def helper(dim):\n",
    "        if dim == 2:\n",
    "            return np.array([[1, -1]])\n",
    "        curr_row = np.ones(dim)\n",
    "        curr_row[dim//2:] = -1\n",
    "        curr_row = curr_row.reshape(1, -1)\n",
    "        \n",
    "        next_row = helper(dim//2)\n",
    "        next_row = np.concatenate([next_row, next_row], axis=1)\n",
    "        return jnp.concatenate([curr_row, next_row], axis=0)\n",
    "    \n",
    "    res = np.concatenate([jnp.ones((1, dim)), helper(dim)], axis=0)\n",
    "    tmp_row = res[max_row].copy()\n",
    "    res[max_row] = jnp.ones(dim)\n",
    "    res[0] = tmp_row\n",
    "    return 1/jnp.sqrt(dim) * jnp.array(res)\n",
    "\n",
    "\n",
    "\n",
    "def createU_4(max_row):\n",
    "    \n",
    "    res = np.array([[ 1.,  1.,  1.,  1.],\n",
    "                     [ 1.,  1., -1., -1.],\n",
    "                     [ 1., -1.,  1., -1.],\n",
    "                     [-1.,  1.,  1., -1.]])\n",
    "    \n",
    "    tmp_row = res[max_row].copy()\n",
    "    res[max_row] = jnp.ones(4)\n",
    "    res[0] = tmp_row\n",
    "    return 1/jnp.sqrt(4) * jnp.array(res)  \n",
    "        \n",
    "    \n",
    "\n",
    "def get_a(D_min, sum_sqrt, dim, sig):\n",
    "    disc = sig**4 * (sum_sqrt**2) * (8 * (dim + 1) * D_min + sum_sqrt**2)\n",
    "    return 1/jnp.sqrt(dim * D_min) * jnp.sqrt(jnp.sqrt(disc) + 2 * (dim + 1) * D_min * sig**2 + sig**2 * sum_sqrt**2)\n",
    "\n",
    "def get_lambda_max(D_min, sum_sqrt, dim, sig):\n",
    "    disc = sig**4 * (sum_sqrt**2) * (8 * (dim + 1) * D_min + sum_sqrt**2)\n",
    "    numerator = jnp.sqrt(disc) + 4 * (dim + 1) * D_min * sig**2 + sig**2 * sum_sqrt**2\n",
    "    denom = D_min**(1.5) * 2 * jnp.sqrt(1/dim) * jnp.sqrt(jnp.sqrt(disc) + 2 * (dim + 1) * D_min * sig**2 + sig**2 * sum_sqrt**2)\n",
    "    return numerator/denom\n",
    "\n",
    "def get_full_sing_vals(D, dim, sig):\n",
    "    D_diag = jnp.abs(jnp.diag(D))\n",
    "    max_row = jnp.argmin(D_diag)\n",
    "    sum_sqrt = jnp.sum(jnp.sqrt(D_diag)) - jnp.sqrt(D_diag[max_row])\n",
    "    lmbda_max = get_lambda_max(jnp.min(D_diag), sum_sqrt, dim, sig)\n",
    "    a = get_a(jnp.min(D_diag), sum_sqrt, dim, sig)\n",
    "    lmbda = sig*np.array(jnp.sqrt(lmbda_max / (a * D_diag)))\n",
    "    lmbda[max_row] = lmbda_max\n",
    "    lmbda = jnp.array(lmbda)\n",
    "    sing_val = jnp.sqrt(lmbda)\n",
    "    return sing_val\n",
    "\n",
    "def get_S(D, dim, sig):\n",
    "    D_diag = jnp.abs(jnp.diag(D))\n",
    "    max_row = jnp.argmin(D_diag)\n",
    "    \n",
    "    sing_val = get_full_sing_vals(D, dim,sig)\n",
    "    U = createU(max_row, dim)\n",
    "    return jnp.diag(sing_val) @ U\n",
    "\n"
   ]
  },
  {
   "cell_type": "code",
   "execution_count": 155,
   "metadata": {},
   "outputs": [],
   "source": [
    "\n",
    "\n",
    "def helper_linesearch(f, g, c1, c2):\n",
    "\n",
    "    def helper(X, search_direction):\n",
    "        f0 = f(X)\n",
    "        f1 = g(X)\n",
    "        dg = jnp.inner(search_direction, f1)\n",
    "\n",
    "        def armijo_rule(alpha):\n",
    "            return f(X + alpha * search_direction) > f0 + c1*alpha*dg\n",
    "        \n",
    "        def armijo_update(alpha):\n",
    "            return c2*alpha\n",
    "            \n",
    "        alpha = 1\n",
    "        while armijo_rule(alpha):\n",
    "            alpha = armijo_update(alpha)\n",
    "\n",
    "\n",
    "        return alpha\n",
    "\n",
    "    return helper\n",
    "\n",
    "# def loss_getter(dim, N, H, sig):\n",
    "#     def helper(X):\n",
    "\n",
    "#         U = X.reshape(N, dim).T\n",
    "#         S = U\n",
    "        \n",
    "#         S_inv = jnp.linalg.inv(S)\n",
    "        \n",
    "#         first_term = S_inv.T @ jnp.diag(S.T @ H @ S)\n",
    "#         second_term = jnp.linalg.norm(S_inv, ord=\"fro\")**2\n",
    "#         third_term = S_inv.T @ jnp.ones(dim)\n",
    "#         third_term = jnp.linalg.norm(third_term)**2\n",
    "        \n",
    "#         return jnp.linalg.norm(first_term)**2 + sig**2 * (second_term + third_term)\n",
    "\n",
    "#     return helper\n",
    "\n",
    "def loss_getter(dim, N, H, sig):\n",
    "    def helper(X):\n",
    "\n",
    "        S = X.reshape(N, dim).T\n",
    "        \n",
    "        S_inv = jnp.linalg.inv(S)\n",
    "        \n",
    "        first_term = S_inv.T @ jnp.diag(S.T @ H @ S)\n",
    "        second_term = jnp.linalg.norm(S_inv, ord=\"fro\")**2\n",
    "        third_term = S_inv.T @ jnp.ones(dim)\n",
    "        third_term = jnp.linalg.norm(third_term)**2\n",
    "        \n",
    "        return 1/2 * jnp.linalg.norm(first_term)**2 + sig**2 * (second_term + third_term)\n",
    "\n",
    "    return helper\n",
    "\n",
    "def optimize_uncentered_S(H, sig, max_steps=15, jrandom_key=None, x_curr=None):\n",
    "    \n",
    "    dim = H.shape[0]\n",
    "    N = dim\n",
    "    \n",
    "    H = (H + H.T) / 2. # to combat numerical inaccuracies. \n",
    "    D, U = jnp.linalg.eig(H)\n",
    "    U = jnp.real(U)\n",
    "\n",
    "    # print(\"D\", repr(jnp.real(D)))\n",
    "    D = jnp.real(jnp.diag(D))\n",
    "\n",
    "    if x_curr is None:\n",
    "\n",
    "        if jrandom_key is None:\n",
    "            x_curr = jnp.diag(jnp.sqrt(sig / jnp.abs(jnp.diag(D)))).flatten()\n",
    "            pass\n",
    "        else:\n",
    "            x_curr = jrandom.normal(jrandom_key, shape=(dim * dim,)) * 0.1\n",
    "        \n",
    "\n",
    "    \n",
    "    l = loss_getter(dim, N, D, sig)\n",
    "    g_l = grad(l)\n",
    "    h_l = jacfwd(g_l)\n",
    "    linesearch = helper_linesearch(l, g_l, c1=0.01, c2=0.9)\n",
    "\n",
    "    eps = 1e-20\n",
    "\n",
    "    res = []\n",
    "    res_x = []\n",
    "\n",
    "    for t in tqdm(range(max_steps)):\n",
    "\n",
    "        \n",
    "        res.append(l(x_curr))\n",
    "#         res_x.append(U.dot(x_curr.reshape(N, dim).T)) # TURN ON FOR HISTORY \n",
    "\n",
    "        curr_grad = g_l(x_curr)\n",
    "    \n",
    "        # print(curr_grad)\n",
    "        curr_hess = h_l(x_curr) #+ 0.2*jnp.eye(dim**2)\n",
    "        search_direction = -jnp.linalg.inv(curr_hess) @ curr_grad #+ np.random.normal(size=(dim**2))*0.1\n",
    "#         search_direction = -curr_grad #+ np.random.normal(size=(dim * dim))*0.1\n",
    "\n",
    "        if jnp.linalg.norm(curr_grad) < eps:\n",
    "            break    \n",
    "\n",
    "        alpha = linesearch(x_curr, search_direction)\n",
    "\n",
    "        S = x_curr.reshape(N, dim).T\n",
    "\n",
    "        SS = S.dot(S.T)\n",
    "\n",
    "        x_curr += alpha*search_direction \n",
    "    \n",
    "    return U.dot(x_curr.reshape(N, dim).T), res"
   ]
  },
  {
   "cell_type": "code",
   "execution_count": 156,
   "metadata": {},
   "outputs": [],
   "source": [
    "dim = 6\n",
    "N = dim\n",
    "\n",
    "\n",
    "D = jnp.diag(jnp.array([1, 2, 3, 4, 5, 1000])) #jnp.abs(jnp.diag(jnp.linspace(-11, 10, dim)))\n",
    "\n",
    "\n",
    "sig = 0.1\n",
    "\n",
    "l = loss_getter(dim, N, D, sig)\n",
    "g_l = grad(l)"
   ]
  },
  {
   "cell_type": "code",
   "execution_count": 163,
   "metadata": {},
   "outputs": [
    {
     "name": "stderr",
     "output_type": "stream",
     "text": [
      "100%|██████████| 5/5 [00:04<00:00,  1.22it/s]\n"
     ]
    }
   ],
   "source": [
    "jrandom_key = jrandom.PRNGKey(1)\n",
    "jrandom_key, subkey = jrandom.split(jrandom_key)\n",
    "opt_S, l_hist = optimize_uncentered_S(D, sig=sig, max_steps=5, jrandom_key=subkey, x_curr=opt_S.T.flatten())"
   ]
  },
  {
   "cell_type": "code",
   "execution_count": 164,
   "metadata": {},
   "outputs": [
    {
     "data": {
      "text/plain": [
       "[<matplotlib.lines.Line2D at 0x7fb4b845b128>]"
      ]
     },
     "execution_count": 164,
     "metadata": {},
     "output_type": "execute_result"
    },
    {
     "data": {
      "image/png": "[encoded data removed]",
      "text/plain": [
       "<Figure size 432x288 with 1 Axes>"
      ]
     },
     "metadata": {
      "needs_background": "light"
     },
     "output_type": "display_data"
    }
   ],
   "source": [
    "plt.plot(l_hist)\n",
    "# plt.yscale(\"log\")"
   ]
  },
  {
   "cell_type": "code",
   "execution_count": 171,
   "metadata": {},
   "outputs": [
    {
     "data": {
      "text/plain": [
       "DeviceArray(4.5142256, dtype=float64)"
      ]
     },
     "execution_count": 171,
     "metadata": {},
     "output_type": "execute_result"
    }
   ],
   "source": [
    "g_l(opt_S.T.flatten())"
   ]
  },
  {
   "cell_type": "code",
   "execution_count": 134,
   "metadata": {},
   "outputs": [
    {
     "data": {
      "text/plain": [
       "[DeviceArray([7.54621582e+05+0.j, 3.27033428e+04+0.j, 3.71745786e+04+0.j,\n",
       "              4.08209759e+04+0.j, 4.14206508e+04+0.j, 3.18147447e+03+0.j,\n",
       "              4.24697446e+01+0.j, 3.80963513e+01+0.j, 3.31312603e+01+0.j,\n",
       "              3.37865318e+01+0.j, 1.09592219e+01+0.j, 9.82376081e+00+0.j,\n",
       "              9.25364726e+00+0.j, 8.79871985e+00+0.j, 8.31618509e+00+0.j,\n",
       "              8.53219571e+00+0.j, 6.56624496e+00+0.j, 7.48791840e+00+0.j,\n",
       "              7.27687511e+00+0.j, 7.17874614e+00+0.j, 4.52502600e+00+0.j,\n",
       "              2.60131756e+00+0.j, 2.00232572e+00+0.j, 1.39579447e+00+0.j,\n",
       "              1.23231408e+00+0.j, 7.22519035e-01+0.j, 6.95313242e-01+0.j,\n",
       "              6.53516423e-01+0.j, 5.41217737e-01+0.j, 5.92696329e-01+0.j,\n",
       "              2.52281980e-01+0.j, 1.72640411e-01+0.j, 8.85806204e-02+0.j,\n",
       "              1.48519063e-03+0.j, 1.13480220e-03+0.j, 8.22570303e-04+0.j],            dtype=complex128),\n",
       " DeviceArray([[-3.15038032e-04+0.j, -3.76312130e-04+0.j,\n",
       "                4.80786460e-04+0.j, ...,  8.29731712e-04+0.j,\n",
       "               -2.46891834e-04+0.j, -1.64296695e-04+0.j],\n",
       "              [-1.07270739e-06+0.j,  2.81607219e-07+0.j,\n",
       "                1.54449460e-06+0.j, ...,  1.50506239e-04+0.j,\n",
       "               -1.88303068e-04+0.j, -1.27694510e-04+0.j],\n",
       "              [-2.63740261e-03+0.j, -3.08445276e-03+0.j,\n",
       "                3.93008935e-03+0.j, ...,  3.36987024e-01+0.j,\n",
       "               -4.11578776e-01+0.j, -3.11680244e-01+0.j],\n",
       "              ...,\n",
       "              [ 5.43820609e-03+0.j,  1.15248428e-02+0.j,\n",
       "                8.39441764e-03+0.j, ..., -1.48467816e-01+0.j,\n",
       "               -1.49373567e-01+0.j,  4.63484500e-01+0.j],\n",
       "              [ 4.98980975e-03+0.j,  1.05503279e-02+0.j,\n",
       "                7.62395137e-03+0.j, ..., -6.73482875e-02+0.j,\n",
       "                5.24507290e-01+0.j, -1.05333971e-02+0.j],\n",
       "              [-2.91206167e-01+0.j, -6.28725580e-01+0.j,\n",
       "               -4.52751134e-01+0.j, ..., -6.97809424e-04+0.j,\n",
       "                1.82395452e-03+0.j,  1.23417680e-03+0.j]],            dtype=complex128)]"
      ]
     },
     "execution_count": 134,
     "metadata": {},
     "output_type": "execute_result"
    }
   ],
   "source": [
    "jnp.linalg.eig(jacfwd(g_l)(opt_S.T.flatten()))"
   ]
  },
  {
   "cell_type": "code",
   "execution_count": 104,
   "metadata": {},
   "outputs": [],
   "source": [
    "guess_S = jnp.array([[ 1.06715691,  1.06715691,  1.06715691,  1.06715691,\n",
    "               1.06715691,  1.06715691],\n",
    "             [ 0.2186529 , -0.11578657, -0.10202273, -0.07118623,\n",
    "              -0.11245378,  0.18279641],\n",
    "             [-0.11768227,  0.21230105, -0.09272035, -0.06333371,\n",
    "              -0.08506332,  0.14649859],\n",
    "             [-0.10835807, -0.0965671 ,  0.20818934, -0.05565657,\n",
    "              -0.06845908,  0.12085147],\n",
    "             [-0.00658659,  0.00116929,  0.00445011,  0.20736463,\n",
    "              -0.18465625, -0.02174118],\n",
    "             [-0.03053527, -0.0302752 , -0.02992812,  0.02986466,\n",
    "               0.03008895,  0.03078498]])"
   ]
  },
  {
   "cell_type": "code",
   "execution_count": 151,
   "metadata": {},
   "outputs": [
    {
     "data": {
      "text/plain": [
       "array([[-1.04519127e+00, -1.12777497e+00, -1.04512150e+00,\n",
       "        -1.12777402e+00, -1.04473881e+00, -1.04476282e+00],\n",
       "       [ 4.03974925e-07, -2.28780703e-01, -2.22063739e-07,\n",
       "         2.28779868e-01, -3.42723669e-07, -5.50862501e-08],\n",
       "       [ 5.22208790e-02, -6.41624153e-05, -5.51861845e-02,\n",
       "        -6.37936254e-05, -2.27452909e-01,  2.30819543e-01],\n",
       "       [ 1.22412386e-01, -1.13885715e-03,  1.87396373e-01,\n",
       "        -1.13936316e-03, -1.61113962e-01, -1.41716600e-01],\n",
       "       [ 2.23021659e-01, -3.44140375e-04, -1.76625109e-01,\n",
       "        -3.42112712e-04,  2.41600662e-02, -6.84291072e-02],\n",
       "       [ 2.91195818e-02, -3.25389801e-02,  2.93108220e-02,\n",
       "        -3.25397173e-02,  3.00460894e-02,  3.00191702e-02]])"
      ]
     },
     "execution_count": 151,
     "metadata": {},
     "output_type": "execute_result"
    }
   ],
   "source": [
    "old_opt_S"
   ]
  },
  {
   "cell_type": "code",
   "execution_count": 166,
   "metadata": {},
   "outputs": [
    {
     "data": {
      "text/plain": [
       "(DeviceArray([[-1.00000000e+00, -4.81257170e-06,  8.90146949e-07,\n",
       "                2.96630464e-06, -1.49080612e-07,  1.41858453e-05],\n",
       "              [-4.81509612e-06,  9.99999658e-01, -2.06891735e-04,\n",
       "               -7.98660007e-04,  5.94265593e-05,  2.54007709e-06],\n",
       "              [-8.83945643e-07, -2.05522530e-04, -9.99996838e-01,\n",
       "                1.84027170e-03,  1.70168656e-03,  3.01733477e-07],\n",
       "              [-2.96446886e-06, -7.99184461e-04, -1.83585324e-03,\n",
       "               -9.99994876e-01,  2.49786494e-03, -1.33823222e-06],\n",
       "              [ 1.39887705e-07,  5.70808105e-05, -1.70628698e-03,\n",
       "               -2.49477944e-03, -9.99995431e-01,  1.12908034e-07],\n",
       "              [ 1.41858538e-05, -2.54102188e-06,  2.99981272e-07,\n",
       "               -1.33651238e-06,  1.15587952e-07,  1.00000000e+00]],            dtype=float64),\n",
       " DeviceArray([2.61398917, 0.35049932, 0.31670261, 0.29469566, 0.27864751,\n",
       "              0.07409212], dtype=float64),\n",
       " DeviceArray([[-0.40822031, -0.4082203 , -0.40822032, -0.40827606,\n",
       "               -0.4082766 , -0.40827615],\n",
       "              [ 0.32514813, -0.18987908, -0.12441899, -0.22862069,\n",
       "               -0.51029244,  0.72806507],\n",
       "              [ 0.56818681, -0.73165272,  0.16033851,  0.1457875 ,\n",
       "                0.13447246, -0.27713312],\n",
       "              [ 0.47840563,  0.30399174, -0.79132655,  0.11954306,\n",
       "                0.07140267, -0.18201781],\n",
       "              [ 0.08947875, -0.03194352, -0.04944651, -0.76521333,\n",
       "                0.61976539,  0.13735949],\n",
       "              [-0.40978071, -0.41055456, -0.40438223,  0.39993406,\n",
       "                0.40696625,  0.41764932]], dtype=float64))"
      ]
     },
     "execution_count": 166,
     "metadata": {},
     "output_type": "execute_result"
    }
   ],
   "source": [
    "jnp.linalg.svd(opt_S)"
   ]
  },
  {
   "cell_type": "code",
   "execution_count": 167,
   "metadata": {},
   "outputs": [
    {
     "data": {
      "text/plain": [
       "(DeviceArray([[-1.00000000e+00,  2.77555756e-17, -1.58503193e-09,\n",
       "               -1.58187649e-09,  1.57973103e-09,  1.73472348e-17],\n",
       "              [ 5.55111512e-17,  1.00000000e+00, -2.33159107e-08,\n",
       "                2.19680225e-08, -8.67309575e-10,  1.37292354e-09],\n",
       "              [ 1.58503169e-09, -2.33159142e-08, -1.00000000e+00,\n",
       "                1.56484201e-07,  3.22649731e-08,  6.69093631e-09],\n",
       "              [ 1.58187675e-09,  2.19680189e-08, -1.56484201e-07,\n",
       "               -1.00000000e+00,  9.09532954e-09,  7.97269392e-09],\n",
       "              [-1.57973097e-09, -8.67310152e-10, -3.22649746e-08,\n",
       "               -9.09532436e-09, -1.00000000e+00,  1.25386694e-08],\n",
       "              [ 0.00000000e+00, -1.37292391e-09,  6.69093799e-09,\n",
       "                7.97269316e-09,  1.25386691e-08,  1.00000000e+00]],            dtype=float64),\n",
       " DeviceArray([2.6139899 , 0.35035998, 0.31658598, 0.29461645, 0.27863103,\n",
       "              0.07409211], dtype=float64),\n",
       " DeviceArray([[-0.40824829, -0.40824829, -0.40824829, -0.40824829,\n",
       "               -0.40824829, -0.40824829],\n",
       "              [ 0.62408069, -0.33047889, -0.291194  , -0.20318025,\n",
       "               -0.32096639,  0.52173884],\n",
       "              [ 0.37172297, -0.6705952 ,  0.29287563,  0.20005217,\n",
       "                0.26868953, -0.46274512],\n",
       "              [ 0.36779363,  0.32777235, -0.70664539,  0.1889119 ,\n",
       "                0.23236674, -0.41019924],\n",
       "              [ 0.0236391 , -0.00419653, -0.01597134, -0.74422661,\n",
       "                0.66272678,  0.07802859],\n",
       "              [-0.41212582, -0.40861571, -0.40393126,  0.40307479,\n",
       "                0.4061019 ,  0.41549609]], dtype=float64))"
      ]
     },
     "execution_count": 167,
     "metadata": {},
     "output_type": "execute_result"
    }
   ],
   "source": [
    "jnp.linalg.svd(guess_S)"
   ]
  },
  {
   "cell_type": "code",
   "execution_count": 169,
   "metadata": {},
   "outputs": [
    {
     "data": {
      "text/plain": [
       "DeviceArray([2.25557492, 2.25474753, 2.25459492, 2.28028129, 2.28040403,\n",
       "             2.27853714], dtype=float64)"
      ]
     },
     "execution_count": 169,
     "metadata": {},
     "output_type": "execute_result"
    }
   ],
   "source": [
    "jnp.diag(guess_S.T @ D @ guess_S)"
   ]
  },
  {
   "cell_type": "code",
   "execution_count": 170,
   "metadata": {},
   "outputs": [
    {
     "data": {
      "text/plain": [
       "DeviceArray([2.26736377, 2.26724903, 2.26726218, 2.26755209, 2.2676762 ,\n",
       "             2.26768526], dtype=float64)"
      ]
     },
     "execution_count": 170,
     "metadata": {},
     "output_type": "execute_result"
    }
   ],
   "source": [
    "jnp.diag(opt_S.T @ D @ opt_S)"
   ]
  },
  {
   "cell_type": "code",
   "execution_count": null,
   "metadata": {},
   "outputs": [],
   "source": []
  }
 ],
 "metadata": {
  "kernelspec": {
   "display_name": "Python3 (new_adv)",
   "language": "python",
   "name": "new_adv"
  }
 },
 "nbformat": 4,
 "nbformat_minor": 2
}
