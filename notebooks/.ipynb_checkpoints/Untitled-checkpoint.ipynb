{
 "cells": [
  {
   "cell_type": "code",
   "execution_count": 1,
   "metadata": {},
   "outputs": [],
   "source": [
    "import jax.numpy as jnp\n",
    "import jax.random as jrandom\n",
    "\n",
    "import matplotlib.pyplot as plt\n",
    "import pandas as pd\n",
    "from jax import jit, grad, jacfwd, jacrev\n",
    "\n",
    "\n",
    "\n",
    "from scipy.stats import linregress\n",
    "\n",
    "from tqdm import tqdm\n",
    "import pickle\n",
    "\n",
    "import numpy as np\n",
    "\n",
    "from jax.config import config\n",
    "config.update(\"jax_enable_x64\", True)\n",
    "\n",
    "import matplotlib.pyplot as plt"
   ]
  },
  {
   "cell_type": "code",
   "execution_count": null,
   "metadata": {},
   "outputs": [],
   "source": [
    "# def helper_linesearch(f, g, c1, c2):\n",
    "\n",
    "#     def helper(X, search_direction):\n",
    "#         f0 = f(X)\n",
    "#         f1 = g(X)\n",
    "#         dg = jnp.inner(search_direction, f1)\n",
    "\n",
    "#         def armijo_rule(alpha):\n",
    "#             return f(X + alpha * search_direction) > f0 + c1*alpha*dg\n",
    "        \n",
    "#         def armijo_update(alpha):\n",
    "#             return c2*alpha\n",
    "            \n",
    "#         alpha = 1\n",
    "#         while armijo_rule(alpha):\n",
    "#             alpha = armijo_update(alpha)\n",
    "\n",
    "\n",
    "#         return alpha\n",
    "\n",
    "#     return helper\n",
    "\n",
    "# def loss_getter(dim, N, H, sig):\n",
    "#     def helper(X):\n",
    "    \n",
    "#         S = X.reshape(N, dim).T\n",
    "\n",
    "#         SS = S.dot(S.T)\n",
    "\n",
    "#         SS_inv = jnp.linalg.inv(SS)\n",
    "#         S_sum = jnp.sum(S, axis=1)  \n",
    "\n",
    "#         first_term = S.dot(jnp.diag(S.T.dot(H.dot(S))))\n",
    "#         second_term = jnp.linalg.norm(SS_inv.dot(S), ord=\"fro\")**2        \n",
    "#         third_term = S_sum.T.dot(SS_inv.dot(SS_inv.dot(S_sum)))  \n",
    "        \n",
    "#         return jnp.linalg.norm(SS_inv.dot(first_term))**2 + sig**2*(second_term + third_term)\n",
    "#     return helper\n",
    "\n",
    "# def optimize_uncentered_S(H, sig, max_steps=15, jrandom_key=None, x_curr=None):\n",
    "    \n",
    "#     dim = H.shape[0]\n",
    "#     N = dim\n",
    "    \n",
    "#     H = (H + H.T) / 2. # to combat numerical inaccuracies. \n",
    "#     D, U = jnp.linalg.eig(H)\n",
    "#     U = jnp.real(U)\n",
    "\n",
    "#     # print(\"D\", repr(jnp.real(D)))\n",
    "#     D = jnp.diag(D)\n",
    "\n",
    "#     if x_curr is None:\n",
    "#         if jrandom_key is None:\n",
    "#             x_curr = jnp.diag(jnp.sqrt(sig / jnp.abs(jnp.diag(D)))).flatten()\n",
    "#         else:\n",
    "#             x_curr = jrandom.normal(jrandom_key, shape=(dim * dim,)) * 0.2\n",
    "        \n",
    "    \n",
    "        \n",
    "# #     x_curr = jnp.array([ 0.05915076, -0.0340726 ,  0.01818264, -0.31835382,\n",
    "# #              -0.05880886, -0.04264622,  0.01758689, -0.35780406,\n",
    "# #              -0.00296912,  0.07070069,  0.02147466, -0.25530761,\n",
    "# #               0.00104251,  0.00597147, -0.09367059, -0.20932359])\n",
    "    \n",
    "#     l = loss_getter(dim, N, D, sig)\n",
    "#     g_l = grad(l)\n",
    "#     linesearch = helper_linesearch(l, g_l, c1=0.01, c2=0.7)\n",
    "\n",
    "#     eps = 1e-4\n",
    "\n",
    "#     res = []\n",
    "#     res_x = []\n",
    "\n",
    "#     for t in range(max_steps):\n",
    "        \n",
    "# #         D = jnp.sqrt(jnp.linalg.inv(H))\n",
    "# #         tmp = x_curr.reshape(N, dim).T\n",
    "# #         tmp = D.dot(tmp\")\n",
    "# #         tmp = tmp.dot(jnp.diag(1/jnp.linalg.norm(tmp, axis=0))) * jnp.mean(jnp.linalg.norm(tmp, axis=0))\n",
    "# #         tmp = jnp.linalg.inv(D).dot(tmp)\n",
    "# #         x_curr = tmp.T.flatten()\n",
    "        \n",
    "#         res.append(l(x_curr))\n",
    "# #         res_x.append(U.dot(x_curr.reshape(N, dim).T)) # TURN ON FOR HISTORY \n",
    "\n",
    "#         curr_grad = g_l(x_curr)\n",
    "#         # print(curr_grad)\n",
    "#         if jnp.linalg.norm(curr_grad) < eps:\n",
    "#             break    \n",
    "\n",
    "#         search_direction = -curr_grad\n",
    "#         alpha = linesearch(x_curr, search_direction)\n",
    "\n",
    "#         S = x_curr.reshape(N, dim).T\n",
    "\n",
    "#         SS = S.dot(S.T)\n",
    "\n",
    "#         x_curr += alpha*search_direction \n",
    "    \n",
    "#     return U.dot(x_curr.reshape(N, dim).T), res"
   ]
  },
  {
   "cell_type": "code",
   "execution_count": null,
   "metadata": {},
   "outputs": [],
   "source": [
    "jnp.sum(jnp.linalg.inv(opt_S), axis=0)"
   ]
  },
  {
   "cell_type": "code",
   "execution_count": null,
   "metadata": {},
   "outputs": [],
   "source": [
    "dim = 2\n",
    "\n",
    "jrandom_key = jrandom.PRNGKey(2)\n",
    "jrandom_key, subkey = jrandom.split(jrandom_key)\n",
    "H = jrandom.normal(subkey, shape=(dim, dim,))\n",
    "H = (H + H.T)/2."
   ]
  },
  {
   "cell_type": "code",
   "execution_count": null,
   "metadata": {},
   "outputs": [],
   "source": [
    "sig = 1\n",
    "l = loss_getter(dim, dim, H, sig)"
   ]
  },
  {
   "cell_type": "code",
   "execution_count": null,
   "metadata": {},
   "outputs": [],
   "source": [
    "\n",
    "H = np.diag(np.linspace(1, 10, dim))/10.\n",
    "opt_S, loss_hist = optimize_uncentered_S(H, sig, max_steps=500)"
   ]
  },
  {
   "cell_type": "code",
   "execution_count": null,
   "metadata": {},
   "outputs": [],
   "source": [
    "res = []\n",
    "hists = []\n",
    "\n",
    "jrandom_key = jrandom.PRNGKey(90)\n",
    "for a in [2]:#tqdm(jnp.linspace(-10, 10, 4)):\n",
    "    H = jnp.diag(jnp.array([3, a])) \n",
    "    jrandom_key, subkey = jrandom.split(jrandom_key )\n",
    "    opt_S, loss_hist = optimize_uncentered_S(H, sig=0.01 / 0.1 , max_steps=400, jrandom_key=subkey)\n",
    "    res.append(opt_S)\n",
    "    hists.append(loss_hist)"
   ]
  },
  {
   "cell_type": "code",
   "execution_count": null,
   "metadata": {
    "scrolled": false
   },
   "outputs": [],
   "source": [
    "res = jnp.array(res)\n",
    "dim = 2\n",
    "l = loss_getter(dim, dim, H, sig=0.1)\n",
    "gl = grad(l)\n",
    "hl = jacfwd(lambda x: gl(x))\n",
    "\n",
    "\n",
    "for i in range(len(res)):\n",
    "\n",
    "#     plt.plot(hists[i])\n",
    "#     plt.yscale(\"log\")\n",
    "\n",
    "#     print(gl(res[i].T.flatten()))\n",
    "#     print(l(res[i].T.flatten()))\n",
    "#     print(jnp.linalg.eig(hl(res[i].T.flatten()))[0])\n",
    "#     a = abs(jnp.linspace(-10, 10, 3.1)[i])\n",
    "#     a = 1\n",
    "\n",
    "    print(a)\n",
    "#     a = 3.1\n",
    "    \n",
    "    H = jnp.diag(jnp.array([0.1, a])) \n",
    "#     H = jnp.eye(2)\n",
    "    X = jnp.linspace(0, jnp.sqrt(1/H[0,0]) - 1e-10, 100)\n",
    "    Y = jnp.array([jnp.sqrt((1 - H[0, 0] * x**2) / H[1, 1]) for x in X])\n",
    "    X = jnp.concatenate([X, X, -X, -X])\n",
    "    Y = jnp.concatenate([Y, -Y, Y, -Y])\n",
    "    \n",
    "    val = res[i][:, 0].dot(H.dot(res[i][:, 0]))\n",
    "    \n",
    "    \n",
    "    plt.scatter(X*val**0.5, Y*val**0.5)\n",
    "    \n",
    "    H = jnp.diag(jnp.array([3, a])) \n",
    "#     H = jnp.eye(2)\n",
    "    X = jnp.linspace(0, jnp.sqrt(1/H[0,0]) - 1e-10, 100)\n",
    "    Y = jnp.array([jnp.sqrt((1 - H[0, 0] * x**2) / H[1, 1]) for x in X])\n",
    "    X = jnp.concatenate([X, X, -X, -X])\n",
    "    Y = jnp.concatenate([Y, -Y, Y, -Y])\n",
    "    val = res[i][:, 0].dot(H.dot(res[i][:, 0]))\n",
    "\n",
    "\n",
    "#     plt.scatter(X*val**0.5, Y*val**0.5)\n",
    "\n",
    "\n",
    "    print(hists[i][-1])\n",
    "    print(repr(res[i]))\n",
    "    print(H)\n",
    "#     print()\n",
    "    \n",
    "    plt.scatter(res[i][0], res[i][1])\n",
    "    \n",
    "    resres = (H**(0.5)).dot(res[i])\n",
    "    print(res[i].T.dot(H).dot(res[i]))\n",
    "    print(np.linalg.inv(res[i]).T.dot(np.ones(2)))\n",
    "    resres = np.array([[1/np.sqrt(2), 1/np.sqrt(2)], [-1/np.sqrt(2), np.sqrt(2)]]).dot(resres)\n",
    "    plt.scatter(resres[0], resres[1])\n",
    "    \n",
    "    x_b = max([jnp.abs(jnp.min(res[:, 0])), jnp.abs(jnp.max(res[:, 0]))]) * 1.1\n",
    "    y_b = max([jnp.abs(jnp.min(res[:, 1])), jnp.abs(jnp.max(res[:, 1]))]) * 1.1\n",
    "\n",
    "#     plt.xlim(-x_b, x_b)\n",
    "#     plt.ylim(-y_b, y_b)\n",
    "    \n",
    "#     plt.xlim(-2, 2)\n",
    "#     plt.ylim(-2, 2)\n",
    "\n",
    "    plt.grid()\n",
    "\n",
    "    plt.show()\n",
    "    \n",
    "    print()"
   ]
  },
  {
   "cell_type": "code",
   "execution_count": null,
   "metadata": {},
   "outputs": [],
   "source": [
    "def gg(D):\n",
    "    \n",
    "    X = jnp.eye(D.shape[0]).flatten()\n",
    "    \n",
    "    l = lambda x: jnp.linalg.norm(jnp.linalg.inv(D.dot(x.reshape(D.shape))), \"fro\")\n",
    "    gl = grad(l)\n",
    "    \n",
    "    linesearch = helper_linesearch(l, gl, c1=0.01, c2=0.7)\n",
    "\n",
    "\n",
    "    for _ in range(10):\n",
    "        search_dir = -gl(X)\n",
    "        alpha = linesearch(X, search_dir)\n",
    "        X += alpha * search_dir\n",
    "        \n",
    "    return X\n",
    "\n",
    "D = jnp.array([[1, 0], [0, 2]])\n",
    "gg(D)"
   ]
  },
  {
   "cell_type": "code",
   "execution_count": null,
   "metadata": {},
   "outputs": [],
   "source": [
    "H = jnp.diag(jnp.linspace(100, 0.1, 4))\n",
    "\n",
    "\n",
    "for _ in range(10):\n",
    "    jrandom_key, subkey = jrandom.split(jrandom_key)\n",
    "    opt_S, loss_hist = optimize_uncentered_S(H, sig=0.01 / 0.1 , max_steps=50, jrandom_key=subkey)\n",
    "    print(loss_hist[-1])\n",
    "    print(jnp.diag(opt_S.T.dot(H.dot(opt_S))))\n",
    "    print()\n",
    "\n"
   ]
  },
  {
   "cell_type": "code",
   "execution_count": null,
   "metadata": {},
   "outputs": [],
   "source": [
    "opt_S, loss_hist = optimize_uncentered_S(H, sig=0.01 / 0.1 , max_steps=500, jrandom_key=None)\n",
    "print(loss_hist[-1])\n",
    "print(jnp.diag(opt_S.T.dot(H.dot(opt_S))))"
   ]
  },
  {
   "cell_type": "code",
   "execution_count": null,
   "metadata": {},
   "outputs": [],
   "source": [
    "opt_S.T.flatten()"
   ]
  },
  {
   "cell_type": "code",
   "execution_count": null,
   "metadata": {},
   "outputs": [],
   "source": [
    "dim = 2\n",
    "l = loss_getter(dim, dim, H, sig)\n",
    "print(grad(l)(opt_S.T.flatten()))"
   ]
  },
  {
   "cell_type": "code",
   "execution_count": null,
   "metadata": {},
   "outputs": [],
   "source": [
    "print(grad(l)(res.T.flatten()))"
   ]
  },
  {
   "cell_type": "code",
   "execution_count": null,
   "metadata": {},
   "outputs": [],
   "source": [
    "grad(l)(opt_S.T.flatten())"
   ]
  },
  {
   "cell_type": "code",
   "execution_count": null,
   "metadata": {},
   "outputs": [],
   "source": [
    "print(repr(res.T.flatten()))"
   ]
  },
  {
   "cell_type": "code",
   "execution_count": null,
   "metadata": {},
   "outputs": [],
   "source": [
    "res"
   ]
  },
  {
   "cell_type": "code",
   "execution_count": null,
   "metadata": {},
   "outputs": [],
   "source": [
    "opt_S.T.flatten()"
   ]
  },
  {
   "cell_type": "code",
   "execution_count": null,
   "metadata": {},
   "outputs": [],
   "source": [
    "opt_S.T.dot(H.dot(opt_S))"
   ]
  },
  {
   "cell_type": "code",
   "execution_count": null,
   "metadata": {},
   "outputs": [],
   "source": [
    "jnp.linalg.inv(D).dot(opt_S)"
   ]
  },
  {
   "cell_type": "code",
   "execution_count": null,
   "metadata": {},
   "outputs": [],
   "source": [
    "jnp.linalg.norm(jnp.linalg.inv(D).dot(opt_S), axis=0)"
   ]
  },
  {
   "cell_type": "code",
   "execution_count": null,
   "metadata": {},
   "outputs": [],
   "source": [
    "A = jnp.linalg.inv(opt_S / 0.69741662)\n",
    "print(A)\n",
    "print(t/jnp.pi*2)\n",
    "C1 = jnp.linalg.norm(A, \"fro\")\n",
    "C2 = jnp.linalg.norm(jnp.sum(A.T, axis=1))\n",
    "print(jnp.sqrt(C1 + C2) * (jnp.sqrt(C1) + 1/jnp.sqrt(C1)))"
   ]
  },
  {
   "cell_type": "code",
   "execution_count": null,
   "metadata": {},
   "outputs": [],
   "source": [
    "T = jnp.array([[ 2.23606798,  0.2236068 ],\n",
    " [-2.23606798,  0.2236068 ]])\n",
    "jnp.linalg.inv(D).dot(jnp.linalg.inv(T))\n"
   ]
  },
  {
   "cell_type": "code",
   "execution_count": null,
   "metadata": {},
   "outputs": [],
   "source": [
    "jnp.linalg.inv(opt_S)"
   ]
  },
  {
   "cell_type": "code",
   "execution_count": null,
   "metadata": {},
   "outputs": [],
   "source": [
    "opt_S.T.dot(H.dot(opt_S))"
   ]
  },
  {
   "cell_type": "code",
   "execution_count": null,
   "metadata": {},
   "outputs": [],
   "source": [
    "opt_S"
   ]
  },
  {
   "cell_type": "code",
   "execution_count": null,
   "metadata": {},
   "outputs": [],
   "source": [
    "dim = 4\n",
    "l = loss_getter(dim, dim, H, sig)\n",
    "print(l(opt_S.T.flatten()))"
   ]
  },
  {
   "cell_type": "code",
   "execution_count": null,
   "metadata": {},
   "outputs": [],
   "source": [
    "D = jnp.sqrt(jnp.linalg.inv(H))\n",
    "\n",
    "\n",
    "tmp = opt_S\n",
    "tmp = D.dot(tmp)\n",
    "print(tmp)\n",
    "tmp = tmp.dot(jnp.diag(1/jnp.linalg.norm(tmp, axis=0))) * jnp.linalg.norm(tmp, axis=0)[0]\n",
    "print(tmp)\n",
    "tmp = jnp.linalg.inv(D).dot(tmp)"
   ]
  },
  {
   "cell_type": "code",
   "execution_count": null,
   "metadata": {},
   "outputs": [],
   "source": [
    "print(l(opt_S.T.flatten()))"
   ]
  },
  {
   "cell_type": "code",
   "execution_count": null,
   "metadata": {},
   "outputs": [],
   "source": [
    "tmp.T.dot(H.dot(tmp))"
   ]
  },
  {
   "cell_type": "code",
   "execution_count": null,
   "metadata": {},
   "outputs": [],
   "source": [
    "tmp.T.flatten()"
   ]
  },
  {
   "cell_type": "code",
   "execution_count": null,
   "metadata": {},
   "outputs": [],
   "source": [
    "jnp.diag(opt_S.T.dot(H.dot(opt_S)))"
   ]
  },
  {
   "cell_type": "code",
   "execution_count": null,
   "metadata": {},
   "outputs": [],
   "source": [
    "opt_S"
   ]
  },
  {
   "cell_type": "code",
   "execution_count": null,
   "metadata": {
    "scrolled": true
   },
   "outputs": [],
   "source": [
    "D = jnp.sqrt(jnp.linalg.inv(H))\n",
    "\n",
    "\n",
    "for _ in range(100):\n",
    "    jrandom_key, subkey = jrandom.split(jrandom_key)\n",
    "    U = jrandom.normal(subkey, shape=(4, 4,))\n",
    "    U /= jnp.linalg.norm(U, axis=0)\n",
    "    S = D.dot(U)\n",
    "    \n",
    "    m_val = float('inf')\n",
    "    m_S = None\n",
    "    for h in jnp.logspace(-4, 1, 10):\n",
    "        if l(h*S.T.flatten()) < m_val:\n",
    "            m_val = l(h*S.T.flatten())\n",
    "            m_S = h*S\n",
    "            \n",
    "    print(m_val)\n",
    "    "
   ]
  },
  {
   "cell_type": "code",
   "execution_count": null,
   "metadata": {},
   "outputs": [],
   "source": [
    "import numpy as np"
   ]
  },
  {
   "cell_type": "code",
   "execution_count": null,
   "metadata": {},
   "outputs": [],
   "source": [
    "def createS(ts, dim):\n",
    "    S = []\n",
    "    for c in range(dim):\n",
    "        tmp_S = []\n",
    "        for r in range(dim):\n",
    "            curr_term = 1\n",
    "            if len(tmp_S) > 0:\n",
    "                curr_term = tmp_S[-1] / np.cos(ts[c][r-1]) * np.sin(ts[c][r - 1])\n",
    "            if r < dim - 1:\n",
    "                curr_term *= np.cos(ts[c][r])\n",
    "                \n",
    "            tmp_S.append(curr_term)\n",
    "        S.append(tmp_S)\n",
    "    S = np.array(S).T\n",
    "    return S\n",
    "\n",
    "def createPartialS(ts, dim, r_theta, c_theta):\n",
    "    \n",
    "    S = []\n",
    "    for c in range(dim):\n",
    "        tmp_S = []\n",
    "        for r in range(dim):\n",
    "            if c != c_theta:\n",
    "                tmp_S.append(0)\n",
    "                continue\n",
    "                \n",
    "            curr_term = 1\n",
    "            if len(tmp_S) > 0:\n",
    "                if r == r_theta + 1:\n",
    "                    curr_term = - tmp_S[-1] / np.sin(ts[c][r - 1]) * np.cos(ts[c][r - 1])\n",
    "                else:\n",
    "                    curr_term = tmp_S[-1] / np.cos(ts[c][r - 1]) * np.sin(ts[c][r - 1])\n",
    "            if r < dim - 1:\n",
    "                if r == r_theta:\n",
    "                    curr_term *= -np.sin(ts[c][r])\n",
    "                else:\n",
    "                    curr_term *= np.cos(ts[c][r])\n",
    "                \n",
    "            tmp_S.append(curr_term)\n",
    "            \n",
    "        S_to_append = np.zeros(dim)\n",
    "        S_to_append[r_theta:] = tmp_S[r_theta:]\n",
    "        S.append(S_to_append)\n",
    "    S = np.array(S).T\n",
    "    return S"
   ]
  },
  {
   "cell_type": "code",
   "execution_count": null,
   "metadata": {},
   "outputs": [],
   "source": [
    "dim = 5\n",
    "A = np.diag(np.linspace(1, 5, dim))\n",
    "D = np.diag(np.linspace(5, 10, dim))\n",
    "ts = np.random.normal(size=(dim, dim-1))"
   ]
  },
  {
   "cell_type": "code",
   "execution_count": null,
   "metadata": {},
   "outputs": [],
   "source": [
    "print(\"First term\")\n",
    "h = 0.00001\n",
    "first_term = lambda ts: np.linalg.norm(D.dot(np.linalg.inv(createS(ts, dim)).T).dot(np.diag(A)))**2\n",
    "\n",
    "r, c = 1, 1\n",
    "h_ts = ts.copy()\n",
    "h_ts[c][r] += h\n",
    "print(\"FD Estimate\", (first_term(h_ts) - first_term(ts))/h)"
   ]
  },
  {
   "cell_type": "code",
   "execution_count": null,
   "metadata": {},
   "outputs": [],
   "source": [
    "S = createS(ts, dim)\n",
    "S_inv = np.linalg.inv(S)\n",
    "p_S = createPartialS(ts, dim, r, c)\n",
    "-np.trace(2 * ((D**2).dot(S_inv.T).dot(np.outer(np.diag(A), np.diag(A)))).dot(S_inv).dot(p_S).dot(S_inv))"
   ]
  },
  {
   "cell_type": "code",
   "execution_count": null,
   "metadata": {},
   "outputs": [],
   "source": [
    "print(\"Second term\")\n",
    "h = 0.00001\n",
    "second_term = lambda ts: np.linalg.norm(D.dot(np.linalg.inv(createS(ts, dim)).T).dot(1/np.diag(A)))**2\n",
    "\n",
    "r, c = 1, 1\n",
    "h_ts = ts.copy()\n",
    "h_ts[c][r] += h\n",
    "print(\"FD Estimate\", (second_term(h_ts) - second_term(ts))/h)\n",
    "\n",
    "S = createS(ts, dim)\n",
    "S_inv = np.linalg.inv(S)\n",
    "p_S = createPartialS(ts, dim, r, c)\n",
    "print(\"analytic\", -np.trace(2 * ((D**2).dot(S_inv.T).dot(np.outer(1/np.diag(A), 1/np.diag(A)))).dot(S_inv).dot(p_S).dot(S_inv)))"
   ]
  },
  {
   "cell_type": "code",
   "execution_count": null,
   "metadata": {},
   "outputs": [],
   "source": [
    "print(\"Third term\")\n",
    "h = 0.00001\n",
    "third_term = lambda ts: np.linalg.norm(np.linalg.inv(A).dot(np.linalg.inv(createS(ts, dim))).dot(D), \"fro\")**2\n",
    "\n",
    "r, c = 1, 1\n",
    "h_ts = ts.copy()\n",
    "h_ts[c][r] += h\n",
    "print(\"FD Estimate\", (third_term(h_ts) - third_term(ts))/h)\n",
    "\n",
    "S = createS(ts, dim)\n",
    "S_inv = np.linalg.inv(S)\n",
    "p_S = createPartialS(ts, dim, r, c)\n",
    "print(\"analytic\", -np.trace(2 * ((D**2).dot(S_inv.T).dot(np.linalg.inv(A)**2).dot(S_inv).dot(p_S).dot(S_inv))))\n",
    "\n"
   ]
  },
  {
   "cell_type": "code",
   "execution_count": null,
   "metadata": {},
   "outputs": [],
   "source": [
    "f = lambda S: np.linalg.norm(D.dot(S).dot(np.diag(A)))**2\n",
    "\n",
    "r, c = 3, 2\n",
    "S_inv = np.linalg.inv(S)\n",
    "# tmp_S_inv = S_inv.copy()\n",
    "\n",
    "\n",
    "\n",
    "res = np.zeros(shape=(dim, dim))\n",
    "for c in range(dim):\n",
    "    for r in range(dim):\n",
    "        tmp_S_inv = S_inv.copy()\n",
    "        tmp_S_inv[c][r] += h\n",
    "    \n",
    "        res[c][r] = (f(tmp_S_inv.T) - f(S_inv.T))/h\n",
    "res"
   ]
  },
  {
   "cell_type": "code",
   "execution_count": null,
   "metadata": {},
   "outputs": [],
   "source": [
    "(2 * ((D**2).dot(S_inv.T).dot(np.outer(np.diag(A), np.diag(A))))).T"
   ]
  },
  {
   "cell_type": "code",
   "execution_count": null,
   "metadata": {},
   "outputs": [],
   "source": [
    "D = jnp.diag(jnp.array([1, 2]))\n",
    "\n",
    "A = jnp.array([2, 3])\n",
    "\n",
    "def f(X):\n",
    "    X = jnp.linalg.inv(X.reshape(2, 2))\n",
    "\n",
    "    return jnp.linalg.norm(D.dot(X.T.dot(A))) + jnp.linalg.norm(D.dot(X.T.dot(1/A)))\n",
    "\n",
    "gf = grad(f)\n",
    "\n",
    "\n"
   ]
  },
  {
   "cell_type": "code",
   "execution_count": null,
   "metadata": {},
   "outputs": [],
   "source": [
    "t = np.pi/4\n",
    "X = jnp.array([[np.cos(t), np.sin(t)], [-np.sin(t), np.cos(t)]])\n",
    "print(X.T.dot(X))\n",
    "X = X.flatten()\n",
    "\n",
    "gf(X)"
   ]
  },
  {
   "cell_type": "code",
   "execution_count": null,
   "metadata": {},
   "outputs": [],
   "source": [
    "min_val = float(\"inf\")\n",
    "min_S = None\n",
    "for _ in range(1000):\n",
    "    X = np.random.normal(size=(2, 2))\n",
    "    X /= jnp.linalg.norm(X, axis=0)\n",
    "    X = X.flatten()\n",
    "    \n",
    "    curr_val = f(X)\n",
    "    if curr_val < min_val:\n",
    "        min_val = curr_val\n",
    "        min_S = X\n",
    "    "
   ]
  },
  {
   "cell_type": "code",
   "execution_count": null,
   "metadata": {},
   "outputs": [],
   "source": [
    "min_val"
   ]
  },
  {
   "cell_type": "code",
   "execution_count": null,
   "metadata": {},
   "outputs": [],
   "source": [
    "S = min_S.reshape(2, 2)\n",
    "print(S)\n",
    "S.T.dot(S)"
   ]
  },
  {
   "cell_type": "code",
   "execution_count": null,
   "metadata": {},
   "outputs": [],
   "source": [
    "np.linalg.eig(S.T.dot(S))"
   ]
  },
  {
   "cell_type": "code",
   "execution_count": null,
   "metadata": {},
   "outputs": [],
   "source": [
    "S.T.dot(A)"
   ]
  },
  {
   "cell_type": "code",
   "execution_count": null,
   "metadata": {},
   "outputs": [],
   "source": [
    "A"
   ]
  },
  {
   "cell_type": "code",
   "execution_count": null,
   "metadata": {},
   "outputs": [],
   "source": [
    "def createU(dim):\n",
    "    res = [jnp.ones(dim)/jnp.linalg.norm(jnp.ones(dim))]\n",
    "    for i in range(dim-1):\n",
    "        tmp = np.zeros(dim)\n",
    "        tmp[:i+1] = 1\n",
    "        tmp[i + 1] = -(i + 1)\n",
    "        tmp /= np.linalg.norm(tmp)\n",
    "        res.append(tmp)\n",
    "        \n",
    "    return jnp.array(res).T\n",
    "    \n"
   ]
  },
  {
   "cell_type": "code",
   "execution_count": 3,
   "metadata": {},
   "outputs": [
    {
     "name": "stderr",
     "output_type": "stream",
     "text": [
      "W0311 12:27:21.100536 4648449536 xla_bridge.py:143] No GPU/TPU found, falling back to CPU. (Set TF_CPP_MIN_LOG_LEVEL=0 and rerun for more info.)\n"
     ]
    }
   ],
   "source": [
    "dim = 3\n",
    "N = dim\n",
    "D = jnp.diag(jnp.linspace(1, 10, dim))\n",
    "sig = 1\n",
    "\n",
    "l = loss_getter(dim, N, D, sig)\n",
    "g_l = grad(l)"
   ]
  },
  {
   "cell_type": "code",
   "execution_count": null,
   "metadata": {},
   "outputs": [],
   "source": [
    "jnp.diag(jnp.linalg.inv((D**(1/2) @ opt_S)).T @ jnp.linalg.inv((D**(1/2) @ opt_S)))"
   ]
  },
  {
   "cell_type": "code",
   "execution_count": null,
   "metadata": {},
   "outputs": [],
   "source": [
    "jnp.linalg.inv(opt_S).T @ jnp.ones(3)"
   ]
  },
  {
   "cell_type": "code",
   "execution_count": null,
   "metadata": {},
   "outputs": [],
   "source": [
    "np.diag(jnp.linalg.inv(opt_S).T @ jnp.linalg.inv(opt_S))"
   ]
  },
  {
   "cell_type": "code",
   "execution_count": null,
   "metadata": {},
   "outputs": [],
   "source": [
    "jnp.linalg.inv(opt_S).T @ jnp.linalg.inv(opt_S)"
   ]
  },
  {
   "cell_type": "code",
   "execution_count": null,
   "metadata": {},
   "outputs": [],
   "source": [
    "jnp.linalg.inv(opt_S).T"
   ]
  },
  {
   "cell_type": "code",
   "execution_count": null,
   "metadata": {},
   "outputs": [],
   "source": [
    "jnp.linalg.inv(opt_S).T @ jnp.diag(opt_S.T @ D @ opt_S)"
   ]
  },
  {
   "cell_type": "code",
   "execution_count": 29,
   "metadata": {},
   "outputs": [
    {
     "data": {
      "text/plain": [
       "DeviceArray([[-0.02030561, -0.02563378,  0.0217886 ],\n",
       "             [ 0.42568413,  0.42638966,  0.426217  ],\n",
       "             [ 0.0212737 ,  0.01036255,  0.0147465 ]], dtype=float64)"
      ]
     },
     "execution_count": 29,
     "metadata": {},
     "output_type": "execute_result"
    }
   ],
   "source": [
    "opt_S"
   ]
  },
  {
   "cell_type": "code",
   "execution_count": null,
   "metadata": {},
   "outputs": [],
   "source": [
    "opt_S"
   ]
  },
  {
   "cell_type": "code",
   "execution_count": null,
   "metadata": {},
   "outputs": [],
   "source": [
    "opt_S"
   ]
  },
  {
   "cell_type": "code",
   "execution_count": null,
   "metadata": {},
   "outputs": [],
   "source": [
    "res = []\n",
    "jrandom_key = jrandom.PRNGKey(0)\n",
    "eps = 1e-4\n",
    "for _ in range(1000):\n",
    "    jrandom_key, subkey = jrandom.split(jrandom_key)\n",
    "    res.append(jnp.linalg.norm(g_l(opt_S.T.flatten() + eps*jrandom.normal(subkey, shape=(9,)))))"
   ]
  },
  {
   "cell_type": "code",
   "execution_count": null,
   "metadata": {},
   "outputs": [],
   "source": [
    "sorted(res)[:10]"
   ]
  },
  {
   "cell_type": "code",
   "execution_count": null,
   "metadata": {},
   "outputs": [],
   "source": [
    "plt.hist(res)"
   ]
  },
  {
   "cell_type": "code",
   "execution_count": null,
   "metadata": {},
   "outputs": [],
   "source": [
    "opt_S.T.dot(D).dot(opt_S)"
   ]
  },
  {
   "cell_type": "code",
   "execution_count": null,
   "metadata": {},
   "outputs": [],
   "source": [
    "tmp_opt_S = jnp.array([[3.7079922 , 1.41161719, 0.96125943],\n",
    "             [1.41161719, 3.62470546, 1.22752748],\n",
    "             [0.96125943, 1.22752748, 3.75054208]])"
   ]
  },
  {
   "cell_type": "code",
   "execution_count": null,
   "metadata": {},
   "outputs": [],
   "source": [
    "g_l(opt_S.T.flatten())"
   ]
  },
  {
   "cell_type": "code",
   "execution_count": null,
   "metadata": {},
   "outputs": [],
   "source": [
    "jnp.linalg.eig(jacfwd(g_l)(opt_S.T.flatten()))"
   ]
  },
  {
   "cell_type": "code",
   "execution_count": null,
   "metadata": {},
   "outputs": [],
   "source": [
    "g_l(opt_S.T.flatten())"
   ]
  },
  {
   "cell_type": "code",
   "execution_count": null,
   "metadata": {},
   "outputs": [],
   "source": [
    "l(tmpopt_S.T.flatten())"
   ]
  },
  {
   "cell_type": "code",
   "execution_count": null,
   "metadata": {},
   "outputs": [],
   "source": [
    "tmp_S = jnp.array([[-4.02946125, -4.24458177, -3.93768356],\n",
    "                   [-1.21511798, -0.16389699,  1.51670678],\n",
    "                   [ 0.89150776, -1.25773531,  0.59004385]])\n",
    "\n",
    "tmp_S = jnp.array([[-4.1, -4.1, -4.1],\n",
    "                   [-1.2, -0.2,  1.53],\n",
    "                   [ 0.9, -1.25,  0.6]])\n",
    "\n",
    "print(tmp_S.T.flatten())\n",
    "print(l(tmp_S.T.flatten()))\n",
    "g_l(tmp_S.T.flatten())"
   ]
  },
  {
   "cell_type": "code",
   "execution_count": null,
   "metadata": {},
   "outputs": [],
   "source": [
    "(D**0.5).dot(opt_S)"
   ]
  },
  {
   "cell_type": "code",
   "execution_count": null,
   "metadata": {},
   "outputs": [],
   "source": [
    "jnp.linalg.inv(opt_S)"
   ]
  },
  {
   "cell_type": "code",
   "execution_count": null,
   "metadata": {},
   "outputs": [],
   "source": [
    "np.linalg.norm(opt_S, axis=0)"
   ]
  },
  {
   "cell_type": "code",
   "execution_count": null,
   "metadata": {},
   "outputs": [],
   "source": [
    "jnp.linalg.norm(jnp.linalg.inv(opt_U).T.dot(jnp.ones(dim)))"
   ]
  },
  {
   "cell_type": "code",
   "execution_count": null,
   "metadata": {},
   "outputs": [],
   "source": [
    "jnp.linalg.norm(jnp.linalg.inv(opt_S), \"fro\")"
   ]
  },
  {
   "cell_type": "code",
   "execution_count": null,
   "metadata": {},
   "outputs": [],
   "source": [
    "jnp.linalg.norm(jnp.linalg.inv(x_curr), \"fro\")"
   ]
  },
  {
   "cell_type": "code",
   "execution_count": null,
   "metadata": {},
   "outputs": [],
   "source": [
    "jnp.trace(jnp.linalg.inv(opt_U).T.dot(jnp.linalg.inv(opt_U)).dot(D))"
   ]
  },
  {
   "cell_type": "code",
   "execution_count": null,
   "metadata": {},
   "outputs": [],
   "source": [
    "x_inv = jnp.linalg.inv((D**0.5).dot(x_curr))\n",
    "x_inv.T.dot(x_inv)"
   ]
  },
  {
   "cell_type": "code",
   "execution_count": null,
   "metadata": {},
   "outputs": [],
   "source": [
    "jnp.linalg.inv(opt_U).T.dot(jnp.linalg.inv(opt_U))"
   ]
  },
  {
   "cell_type": "code",
   "execution_count": null,
   "metadata": {},
   "outputs": [],
   "source": [
    "jnp.linalg.norm(jnp.linalg.inv(opt_U).dot(D**0.5), \"fro\")**2"
   ]
  },
  {
   "cell_type": "code",
   "execution_count": null,
   "metadata": {},
   "outputs": [],
   "source": [
    "jnp.linalg.norm(jnp.linalg.inv(opt_U), \"fro\") * jnp.linalg.norm(D**(0.5), \"fro\")"
   ]
  },
  {
   "cell_type": "code",
   "execution_count": null,
   "metadata": {},
   "outputs": [],
   "source": [
    "jnp.linalg.inv(opt_U).T.dot(jnp.ones(dim))"
   ]
  },
  {
   "cell_type": "code",
   "execution_count": null,
   "metadata": {
    "scrolled": true
   },
   "outputs": [],
   "source": [
    "np.linalg.svd(opt_U)"
   ]
  },
  {
   "cell_type": "code",
   "execution_count": null,
   "metadata": {},
   "outputs": [],
   "source": [
    "(D**(0.5)).dot(x_curr)"
   ]
  },
  {
   "cell_type": "code",
   "execution_count": null,
   "metadata": {},
   "outputs": [],
   "source": [
    "opt_U = (D**(0.5)).dot(opt_S)\n",
    "opt_U.T.dot(opt_U)"
   ]
  },
  {
   "cell_type": "code",
   "execution_count": null,
   "metadata": {},
   "outputs": [],
   "source": [
    "g_l(opt_S.T.flatten())"
   ]
  },
  {
   "cell_type": "code",
   "execution_count": null,
   "metadata": {},
   "outputs": [],
   "source": [
    "U = createU(dim)\n",
    "S = jnp.linalg.inv(D**(0.5)).dot(U)\n",
    "\n",
    "print(S)\n",
    "for a in jnp.linspace(1, 10, 10):\n",
    "    curr_S = a * S\n",
    "    \n",
    "    print(a)\n",
    "    print(g_l(curr_S.T.flatten()))\n",
    "    print(l(curr_S.T.flatten()))\n",
    "    print()"
   ]
  },
  {
   "cell_type": "code",
   "execution_count": 418,
   "metadata": {},
   "outputs": [
    {
     "ename": "SyntaxError",
     "evalue": "invalid syntax (<ipython-input-418-2c69e2e61716>, line 46)",
     "output_type": "error",
     "traceback": [
      "\u001b[0;36m  File \u001b[0;32m\"<ipython-input-418-2c69e2e61716>\"\u001b[0;36m, line \u001b[0;32m46\u001b[0m\n\u001b[0;31m    second_term =\u001b[0m\n\u001b[0m                  ^\u001b[0m\n\u001b[0;31mSyntaxError\u001b[0m\u001b[0;31m:\u001b[0m invalid syntax\n"
     ]
    }
   ],
   "source": [
    "def helper_linesearch(f, g, c1, c2):\n",
    "\n",
    "    def helper(X, search_direction):\n",
    "        f0 = f(X)\n",
    "        f1 = g(X)\n",
    "        dg = jnp.inner(search_direction, f1)\n",
    "\n",
    "        def armijo_rule(alpha):\n",
    "            return f(X + alpha * search_direction) > f0 + c1*alpha*dg\n",
    "        \n",
    "        def armijo_update(alpha):\n",
    "            return c2*alpha\n",
    "            \n",
    "        alpha = 1\n",
    "        while armijo_rule(alpha):\n",
    "            alpha = armijo_update(alpha)\n",
    "\n",
    "\n",
    "        return alpha\n",
    "\n",
    "    return helper\n",
    "\n",
    "def loss_getter(dim, N, H, sig):\n",
    "    def helper(X):\n",
    "    \n",
    "#         S = X.reshape(N, dim).T\n",
    "\n",
    "#         SS = S.dot(S.T)\n",
    "\n",
    "#         SS_inv = jnp.linalg.inv(SS)\n",
    "#         S_sum = jnp.sum(S, axis=1)  \n",
    "\n",
    "#         first_term = 10*S.dot(jnp.diag(S.T.dot(H.dot(S))))\n",
    "#         first_term = jnp.linalg.norm(SS_inv.dot(first_term))**2\n",
    "        \n",
    "#         second_term = 0#*jnp.linalg.norm(SS_inv.dot(S), ord=\"fro\")**2        \n",
    "#         third_term = S_sum.T.dot(SS_inv.dot(SS_inv.dot(S_sum)))  \n",
    "        \n",
    "#         return  + sig**2*(second_term + third_term)\n",
    "\n",
    "        S = X.reshape(N, dim).T\n",
    "        \n",
    "        S_inv = jnp.linalg.inv(S)\n",
    "        \n",
    "        first_term = S_inv.T @ jnp.diag(S.T @ H @ S)\n",
    "        second_term = jnp.linalg.norm(S_inv, ord=\"fro\")**2\n",
    "        third_term = S_inv.T @ jnp.ones(dim)\n",
    "        third_term = jnp.linalg.norm(third_term)**2\n",
    "        \n",
    "        return jnp.linalg.norm(first_term)**2 + sigma**2 * (second_term + third_term)\n",
    "\n",
    "    return helper\n",
    "\n",
    "def optimize_uncentered_S(H, sig, max_steps=15, jrandom_key=None, x_curr=None):\n",
    "    \n",
    "    dim = H.shape[0]\n",
    "    N = dim\n",
    "    \n",
    "    H = (H + H.T) / 2. # to combat numerical inaccuracies. \n",
    "    D, U = jnp.linalg.eig(H)\n",
    "    U = jnp.real(U)\n",
    "\n",
    "    # print(\"D\", repr(jnp.real(D)))\n",
    "    D = jnp.diag(D)\n",
    "\n",
    "    if x_curr is None:\n",
    "        if jrandom_key is None:\n",
    "#             x_curr = jnp.diag(jnp.sqrt(sig / jnp.abs(jnp.diag(D)))).flatten()\n",
    "            pass\n",
    "        else:\n",
    "            x_curr = jrandom.normal(jrandom_key, shape=(dim * dim,)) * 0.5\n",
    "        \n",
    "    \n",
    "        \n",
    "#     x_curr = jnp.array([ 0.05915076, -0.0340726 ,  0.01818264, -0.31835382,\n",
    "#              -0.05880886, -0.04264622,  0.01758689, -0.35780406,\n",
    "#              -0.00296912,  0.07070069,  0.02147466, -0.25530761,\n",
    "#               0.00104251,  0.00597147, -0.09367059, -0.20932359])\n",
    "    \n",
    "    l = loss_getter(dim, N, D, sig)\n",
    "    g_l = grad(l)\n",
    "    h_l = jacfwd(g_l)\n",
    "    linesearch = helper_linesearch(l, g_l, c1=0.2, c2=0.9)\n",
    "\n",
    "    eps = 1e-10\n",
    "\n",
    "    res = []\n",
    "    res_x = []\n",
    "\n",
    "    for t in range(max_steps):\n",
    "        \n",
    "#         D = jnp.sqrt(jnp.linalg.inv(H))\n",
    "#         tmp = x_curr.reshape(N, dim).T\n",
    "#         tmp = D.dot(tmp\")\n",
    "#         tmp = tmp.dot(jnp.diag(1/jnp.linalg.norm(tmp, axis=0))) * jnp.mean(jnp.linalg.norm(tmp, axis=0))\n",
    "#         tmp = jnp.linalg.inv(D).dot(tmp)\n",
    "#         x_curr = tmp.T.flatten()\n",
    "#         x_curr = np.array(x_curr.reshape(N, dim).T)\n",
    "#         x_curr[0] = np.mean(x_curr[0])\n",
    "#         x_curr = jnp.array(x_curr).T.flatten()\n",
    "        \n",
    "        res.append(l(x_curr))\n",
    "#         res_x.append(U.dot(x_curr.reshape(N, dim).T)) # TURN ON FOR HISTORY \n",
    "\n",
    "        curr_grad = g_l(x_curr)\n",
    "    \n",
    "        # print(curr_grad)\n",
    "        curr_hess = h_l(x_curr) # + 10*jnp.eye(9)\n",
    "        search_direction = -jnp.linalg.inv(curr_hess) @ curr_grad + np.random.normal(size=(16))*0.1\n",
    "#         search_direction = -curr_grad #+ np.random.normal(size=(16))*0.1\n",
    "\n",
    "        if jnp.linalg.norm(curr_grad) < eps:\n",
    "            break    \n",
    "\n",
    "        alpha = linesearch(x_curr, search_direction)\n",
    "\n",
    "        S = x_curr.reshape(N, dim).T\n",
    "\n",
    "        SS = S.dot(S.T)\n",
    "\n",
    "        x_curr += alpha*search_direction \n",
    "    \n",
    "    return U.dot(x_curr.reshape(N, dim).T), res"
   ]
  },
  {
   "cell_type": "code",
   "execution_count": 412,
   "metadata": {},
   "outputs": [],
   "source": [
    "dim = 4\n",
    "N = dim\n",
    "D = jnp.diag(jnp.linspace(1, 10, dim))\n",
    "sig = 1\n",
    "\n",
    "l = loss_getter(dim, N, D, sig)\n",
    "g_l = grad(l)"
   ]
  },
  {
   "cell_type": "code",
   "execution_count": 415,
   "metadata": {},
   "outputs": [],
   "source": [
    "jrandom_key = jrandom.PRNGKey(4)\n",
    "jrandom_key, subkey = jrandom.split(jrandom_key)\n",
    "opt_S, l_hist = optimize_uncentered_S(D, sig=sig, max_steps=100, jrandom_key=subkey, x_curr=opt_S.T.flatten())"
   ]
  },
  {
   "cell_type": "code",
   "execution_count": 416,
   "metadata": {},
   "outputs": [
    {
     "data": {
      "text/plain": [
       "[<matplotlib.lines.Line2D at 0x7f8604de4080>]"
      ]
     },
     "execution_count": 416,
     "metadata": {},
     "output_type": "execute_result"
    },
    {
     "data": {
      "image/png": "[encoded data removed]",
      "text/plain": [
       "<Figure size 432x288 with 1 Axes>"
      ]
     },
     "metadata": {
      "needs_background": "light"
     },
     "output_type": "display_data"
    }
   ],
   "source": [
    "plt.plot(l_hist)\n",
    "# plt.yscale(\"log\")"
   ]
  },
  {
   "cell_type": "code",
   "execution_count": 417,
   "metadata": {},
   "outputs": [
    {
     "data": {
      "text/plain": [
       "DeviceArray([  1.93231682, -17.40561516,  -6.74249331, -10.24684232,\n",
       "             -58.43586746, -11.3261345 ,   2.01234205,  -2.29721963,\n",
       "             -33.61619061,  -3.30885492, -19.43475491,  -2.30797663,\n",
       "              82.14019146,  12.16628409,   5.70449395,   1.16660515],            dtype=float64)"
      ]
     },
     "execution_count": 417,
     "metadata": {},
     "output_type": "execute_result"
    }
   ],
   "source": [
    "g_l(opt_S.T.flatten())"
   ]
  },
  {
   "cell_type": "code",
   "execution_count": 363,
   "metadata": {},
   "outputs": [
    {
     "data": {
      "text/plain": [
       "[DeviceArray([ 2.83198836e+06+0.j,  2.23129360e+06+0.j,\n",
       "               4.76910154e+05+0.j,  5.91250253e+04+0.j,\n",
       "               4.12704252e+04+0.j, -4.34161514e+04+0.j,\n",
       "              -3.72150588e+04+0.j, -1.40320270e+04+0.j,\n",
       "               1.15376983e+04+0.j,  3.80966010e+03+0.j,\n",
       "               2.05855511e+03+0.j,  2.27895030e+02+0.j,\n",
       "              -1.93674358e+03+0.j, -2.81527886e+03+0.j,\n",
       "              -4.38325666e+03+0.j, -4.68278133e+03+0.j], dtype=complex128),\n",
       " DeviceArray([[ 4.95137219e-01+0.j,  1.37493553e-01+0.j,\n",
       "                2.45240616e-01+0.j,  1.35531983e-02+0.j,\n",
       "               -2.98443396e-01+0.j,  1.16347736e-01+0.j,\n",
       "                1.86585429e-01+0.j,  4.96055968e-01+0.j,\n",
       "               -2.04881728e-02+0.j,  2.43933313e-02+0.j,\n",
       "                8.90823982e-03+0.j, -5.17681220e-01+0.j,\n",
       "                5.41575328e-02+0.j,  1.36964628e-01+0.j,\n",
       "               -3.65415719e-02+0.j,  1.21235905e-03+0.j],\n",
       "              [ 3.80618842e-01+0.j,  8.09971434e-02+0.j,\n",
       "                3.63659189e-01+0.j,  1.01646200e-01+0.j,\n",
       "                3.90255681e-01+0.j,  3.72023983e-01+0.j,\n",
       "               -5.30275579e-02+0.j, -4.15237426e-01+0.j,\n",
       "                4.15972540e-02+0.j, -4.24605125e-02+0.j,\n",
       "               -4.85614717e-01+0.j, -4.87234169e-03+0.j,\n",
       "                3.95809300e-03+0.j,  1.14755467e-02+0.j,\n",
       "               -2.19118701e-02+0.j,  6.87878177e-03+0.j],\n",
       "              [ 1.20966832e-01+0.j, -2.93183092e-02+0.j,\n",
       "                2.12588647e-02+0.j,  3.41661114e-01+0.j,\n",
       "               -2.61474640e-01+0.j, -3.42989160e-02+0.j,\n",
       "               -6.91577041e-01+0.j,  6.22810898e-04+0.j,\n",
       "               -5.87642761e-03+0.j, -5.59768505e-01+0.j,\n",
       "                6.49523259e-02+0.j, -1.49361480e-03+0.j,\n",
       "                5.59190692e-03+0.j,  7.40640178e-03+0.j,\n",
       "                5.74218155e-03+0.j,  4.22275792e-02+0.j],\n",
       "              [ 3.44015823e-01+0.j,  1.38229588e-01+0.j,\n",
       "                2.12879879e-01+0.j, -2.45619572e-01+0.j,\n",
       "               -1.09273631e-01+0.j, -6.34331708e-01+0.j,\n",
       "               -3.17264676e-02+0.j, -3.80882737e-01+0.j,\n",
       "                3.91862475e-01+0.j,  7.07007651e-02+0.j,\n",
       "                1.85837396e-01+0.j, -3.58044445e-03+0.j,\n",
       "               -1.24899443e-03+0.j, -1.02474754e-02+0.j,\n",
       "               -5.73880045e-02+0.j,  3.14517758e-04+0.j],\n",
       "              [-4.77253956e-01+0.j,  3.64614662e-01+0.j,\n",
       "                2.28753337e-01+0.j, -1.24870975e-01+0.j,\n",
       "                1.08221611e-01+0.j, -3.72499125e-02+0.j,\n",
       "               -1.70048644e-01+0.j, -2.07747607e-02+0.j,\n",
       "                8.60921234e-02+0.j, -3.79647638e-02+0.j,\n",
       "               -7.15336140e-02+0.j, -4.91092026e-01+0.j,\n",
       "               -4.81155319e-01+0.j, -5.25713749e-02+0.j,\n",
       "                1.97922852e-01+0.j,  1.80857966e-02+0.j],\n",
       "              [-3.72726353e-01+0.j,  2.84569008e-01+0.j,\n",
       "                1.65204886e-01+0.j,  2.10724966e-01+0.j,\n",
       "               -3.16580793e-01+0.j, -5.37879901e-02+0.j,\n",
       "                1.24403111e-01+0.j, -1.65834899e-01+0.j,\n",
       "                8.35210997e-02+0.j,  2.67347067e-02+0.j,\n",
       "               -2.34917432e-01+0.j, -2.74212528e-02+0.j,\n",
       "                6.30357554e-01+0.j,  2.48892071e-01+0.j,\n",
       "                1.77797190e-01+0.j,  8.81225980e-02+0.j],\n",
       "              [ 9.90294043e-03+0.j, -5.67199801e-03+0.j,\n",
       "                6.47697852e-03+0.j, -4.84439279e-01+0.j,\n",
       "                5.02512952e-01+0.j, -2.91982957e-02+0.j,\n",
       "               -2.88540930e-01+0.j,  3.22087106e-01+0.j,\n",
       "                1.04895663e-01+0.j, -1.54941467e-01+0.j,\n",
       "                6.71867261e-02+0.j, -3.02168461e-02+0.j,\n",
       "                4.48551361e-01+0.j,  1.63227661e-01+0.j,\n",
       "                2.36643936e-01+0.j, -2.23516502e-02+0.j],\n",
       "              [-2.25344227e-01+0.j,  1.70776143e-01+0.j,\n",
       "                1.08206594e-01+0.j, -2.70536745e-02+0.j,\n",
       "                1.10517250e-01+0.j,  3.91347512e-02+0.j,\n",
       "               -1.05334460e-01+0.j,  1.18594678e-01+0.j,\n",
       "                1.28585636e-01+0.j, -1.04152621e-02+0.j,\n",
       "                9.15221904e-03+0.j, -2.03823508e-02+0.j,\n",
       "                1.28754187e-01+0.j,  2.54987763e-02+0.j,\n",
       "               -9.06089591e-01+0.j, -1.15503939e-01+0.j],\n",
       "              [ 1.24302652e-01+0.j,  1.28932531e-01+0.j,\n",
       "               -5.83145852e-01+0.j,  5.91305583e-02+0.j,\n",
       "                1.55843431e-01+0.j,  1.40194593e-02+0.j,\n",
       "               -4.73184972e-02+0.j, -3.98397600e-01+0.j,\n",
       "               -2.26860409e-01+0.j,  4.75712406e-02+0.j,\n",
       "                1.70643976e-01+0.j, -4.96217670e-01+0.j,\n",
       "                1.12703220e-01+0.j,  2.93111254e-01+0.j,\n",
       "               -1.03526196e-01+0.j,  2.26369229e-02+0.j],\n",
       "              [ 8.97729234e-02+0.j,  1.03509760e-01+0.j,\n",
       "               -4.99789443e-01+0.j, -4.36071809e-02+0.j,\n",
       "               -5.03518953e-02+0.j, -2.82285048e-01+0.j,\n",
       "               -1.31279444e-02+0.j,  2.22762688e-01+0.j,\n",
       "                2.16058061e-01+0.j, -6.27741712e-02+0.j,\n",
       "               -7.19709619e-01+0.j, -1.83237552e-02+0.j,\n",
       "               -6.06940920e-02+0.j, -1.53139789e-01+0.j,\n",
       "               -3.77862798e-02+0.j,  4.12425308e-03+0.j],\n",
       "              [-4.04013267e-02+0.j,  5.81909918e-02+0.j,\n",
       "               -4.60125091e-02+0.j, -1.39349046e-01+0.j,\n",
       "                2.45308461e-02+0.j,  4.20577459e-02+0.j,\n",
       "                5.48464643e-01+0.j, -1.12414829e-01+0.j,\n",
       "                6.58074598e-02+0.j, -7.92823509e-01+0.j,\n",
       "                7.61566481e-02+0.j, -8.06370104e-03+0.j,\n",
       "               -2.94516189e-02+0.j, -1.60632920e-02+0.j,\n",
       "               -2.24855023e-02+0.j, -1.31260946e-01+0.j],\n",
       "              [-3.12470648e-03+0.j, -1.64679970e-02+0.j,\n",
       "               -2.41961119e-01+0.j, -3.16322697e-03+0.j,\n",
       "               -1.41479717e-01+0.j,  5.10365341e-01+0.j,\n",
       "               -4.32290536e-02+0.j, -4.95542177e-02+0.j,\n",
       "                7.75769109e-01+0.j,  9.27495308e-02+0.j,\n",
       "                1.91538893e-01+0.j, -2.92607032e-02+0.j,\n",
       "               -6.68678164e-03+0.j, -4.18225129e-02+0.j,\n",
       "                7.97342757e-02+0.j,  1.53387454e-02+0.j],\n",
       "              [-1.41491239e-01+0.j, -6.30458801e-01+0.j,\n",
       "                1.09485285e-01+0.j,  5.40974149e-02+0.j,\n",
       "                2.54352169e-02+0.j, -9.98039953e-02+0.j,\n",
       "                2.54813420e-02+0.j, -1.19639198e-01+0.j,\n",
       "                6.84198599e-02+0.j, -1.31980224e-02+0.j,\n",
       "               -7.49342184e-02+0.j, -4.89352135e-01+0.j,\n",
       "                2.66300327e-01+0.j, -4.66284063e-01+0.j,\n",
       "               -4.14354191e-02+0.j, -4.50338508e-02+0.j],\n",
       "              [-1.10000689e-01+0.j, -4.88946609e-01+0.j,\n",
       "                7.20871156e-02+0.j, -3.41889470e-01+0.j,\n",
       "               -2.71594907e-01+0.j,  4.44672523e-02+0.j,\n",
       "               -7.14717678e-02+0.j, -1.08689400e-01+0.j,\n",
       "                2.65647512e-02+0.j, -2.26330168e-02+0.j,\n",
       "               -2.48607173e-01+0.j, -2.65074578e-02+0.j,\n",
       "               -2.09120527e-01+0.j,  6.40826244e-01+0.j,\n",
       "               -8.02257972e-02+0.j, -9.76289429e-02+0.j],\n",
       "              [-1.87712792e-02+0.j, -8.52578904e-02+0.j,\n",
       "                1.54427792e-02+0.j, -9.90755431e-02+0.j,\n",
       "                3.58511953e-02+0.j,  7.15638405e-03+0.j,\n",
       "                7.25578557e-02+0.j,  1.65442707e-02+0.j,\n",
       "                1.48359118e-02+0.j, -9.41017203e-02+0.j,\n",
       "                3.62819934e-03+0.j, -5.02985617e-03+0.j,\n",
       "               -3.76255521e-02+0.j,  1.92052464e-02+0.j,\n",
       "               -1.33685246e-01+0.j,  9.72974533e-01+0.j],\n",
       "              [-4.23032915e-02+0.j, -1.91407208e-01+0.j,\n",
       "                5.03480330e-02+0.j,  6.02125325e-01+0.j,\n",
       "                4.22512569e-01+0.j, -2.89363161e-01+0.j,\n",
       "                1.68014695e-01+0.j,  2.02137305e-01+0.j,\n",
       "                3.04026393e-01+0.j, -8.63147103e-03+0.j,\n",
       "                5.84932282e-02+0.j, -3.21427870e-02+0.j,\n",
       "               -1.30462925e-01+0.j,  3.86165209e-01+0.j,\n",
       "                4.51750515e-02+0.j,  1.20351337e-03+0.j]],            dtype=complex128)]"
      ]
     },
     "execution_count": 363,
     "metadata": {},
     "output_type": "execute_result"
    }
   ],
   "source": [
    "jnp.linalg.eig(jacfwd(g_l)(opt_S.T.flatten()))"
   ]
  },
  {
   "cell_type": "code",
   "execution_count": 323,
   "metadata": {},
   "outputs": [
    {
     "data": {
      "text/plain": [
       "DeviceArray([-0.8773244 ,  0.36690459, -0.02110183, -0.12489412], dtype=float64)"
      ]
     },
     "execution_count": 323,
     "metadata": {},
     "output_type": "execute_result"
    }
   ],
   "source": [
    "jnp.linalg.inv(opt_S).T @ jnp.ones(4)"
   ]
  },
  {
   "cell_type": "code",
   "execution_count": 351,
   "metadata": {},
   "outputs": [
    {
     "data": {
      "text/plain": [
       "DeviceArray([[-1.07033043e+00, -1.07025786e+00, -1.04833212e+00,\n",
       "              -1.07018953e+00],\n",
       "             [ 2.38307962e-03,  3.99531435e-03,  7.65625833e-02,\n",
       "               4.68236243e-03],\n",
       "             [-1.95963865e-03,  5.67720847e-03, -2.26717269e-03,\n",
       "              -2.90999448e-03],\n",
       "             [-4.27389183e-03,  8.51151175e-04, -1.15893343e-02,\n",
       "               4.60440699e-03]], dtype=float64)"
      ]
     },
     "execution_count": 351,
     "metadata": {},
     "output_type": "execute_result"
    }
   ],
   "source": [
    "opt_S"
   ]
  },
  {
   "cell_type": "code",
   "execution_count": null,
   "metadata": {},
   "outputs": [],
   "source": []
  },
  {
   "cell_type": "code",
   "execution_count": null,
   "metadata": {},
   "outputs": [],
   "source": []
  }
 ],
 "metadata": {
  "kernelspec": {
   "display_name": "Python3 (new_adv)",
   "language": "python",
   "name": "new_adv"
  },
  "language_info": {
   "codemirror_mode": {
    "name": "ipython",
    "version": 3
   },
   "file_extension": ".py",
   "mimetype": "text/x-python",
   "name": "python",
   "nbconvert_exporter": "python",
   "pygments_lexer": "ipython3",
   "version": "3.6.8"
  }
 },
 "nbformat": 4,
 "nbformat_minor": 2
}
