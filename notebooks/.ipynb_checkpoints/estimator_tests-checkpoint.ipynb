{
 "cells": [
  {
   "cell_type": "code",
   "execution_count": 159,
   "metadata": {},
   "outputs": [
    {
     "name": "stdout",
     "output_type": "stream",
     "text": [
      "The autoreload extension is already loaded. To reload it, use:\n",
      "  %reload_ext autoreload\n"
     ]
    }
   ],
   "source": [
    "import curr_adventure as cad \n",
    "import jax.numpy as jnp\n",
    "from jax import random as jrandom\n",
    "from jax import jit, partial, grad, jacfwd\n",
    "\n",
    "\n",
    "from curr_adventure.derivative_estimation.one_E_zero import SD_1E0\n",
    "from utils import run_tests, mse_loss\n",
    "\n",
    "from scipy.stats import linregress\n",
    "import pandas as pd\n",
    "\n",
    "import matplotlib.pyplot as plt\n",
    "from tqdm import tqdm \n",
    "\n",
    "%matplotlib inline\n",
    "plt.rcParams['figure.figsize'] = [12,8]\n",
    "plt.style.use('ggplot')\n",
    "plt.rcParams['lines.markersize'] = 8\n",
    "plt.rcParams.update({'font.size': 12})\n",
    "\n",
    "from jax.config import config\n",
    "config.update(\"jax_enable_x64\", True)\n",
    "\n",
    "%load_ext autoreload\n",
    "\n",
    "%autoreload 2"
   ]
  },
  {
   "cell_type": "code",
   "execution_count": 165,
   "metadata": {},
   "outputs": [],
   "source": [
    "barrier_multiplier = 5\n",
    "\n",
    "def LogPolytopeGetter(dim, noise=0):\n",
    "    jrandom_key = jrandom.PRNGKey(0)\n",
    "    b = jnp.ones(dim*barrier_multiplier)\n",
    "    jrandom_key, subkey = jrandom.split(jrandom_key)\n",
    "    ws = jrandom.normal(subkey, shape=(dim*barrier_multiplier, dim,)).dot(jnp.diag(jnp.linspace(0.1, 5, dim)))\n",
    "    ws /= jnp.linalg.norm(ws, axis=1).reshape(-1, 1)\n",
    "    jrandom_key, subkey = jrandom.split(jrandom_key)\n",
    "    A = jrandom.normal(subkey, shape=(dim, dim))\n",
    "    U, _, _ = jnp.linalg.svd(A) # some rotation matrix\n",
    "    S = jnp.diag(jnp.linspace(0.1, 5, dim)) # the axis scaling\n",
    "    U = jnp.array([[-0.63746552,  0.77047888],\n",
    "             [ 0.77047888,  0.63746552]])\n",
    "    S = jnp.array([[0.1, 0. ],\n",
    "             [0. , 5. ]])\n",
    "    ws = ws.dot(S.dot(U.T))\n",
    "    return cad.Barriers.LogPolytopeBarrier(ws, b, noise)\n",
    "\n",
    "class Ackley:\n",
    "    def __init__(self, noise_std=0):\n",
    "        if noise_std is None:\n",
    "            noise_std = 0\n",
    "        self.noise_std = noise_std\n",
    "    \n",
    "    def f(self, X, jrandom_key=None):\n",
    "        xs = X.T\n",
    "        out_shape = xs[0].shape\n",
    "        a = jnp.exp(-0.2 * jnp.sqrt(1. / len(xs) * jnp.square(jnp.linalg.norm(xs, axis=0))))\n",
    "        b = - jnp.exp(1. / len(xs) *jnp.sum(jnp.cos(2 * jnp.pi * xs), axis=0))\n",
    "        out = jnp.array(-20 * a + b + 20 + jnp.exp(1)).reshape(out_shape)\n",
    "        if jrandom_key is not None:\n",
    "            return out + self.noise_std * jrandom.normal(jrandom_key, X.shape[0]) \n",
    "        return out\n",
    "\n",
    "\n",
    "    def f1(self, X):\n",
    "        \"\"\"del H/del xi = -20 * -0.2 * (xi * 1/n) / sqrt(1/n sum_j xj^2) * a + 2 pi sin(2 pi xi)/n * b\"\"\"\n",
    "        xs = X.T\n",
    "        out_shape = xs.shape\n",
    "        a = jnp.exp(-0.2 * jnp.sqrt(1. / len(xs) * jnp.square(jnp.linalg.norm(xs, axis=0))))\n",
    "        b = -jnp.exp(1. / len(xs) * jnp.sum(jnp.cos(2 * jnp.pi * xs), axis=0))\n",
    "        a_p = -0.2 * (xs * 1. / len(xs)) / jnp.sqrt(1. / len(xs) * jnp.square(jnp.linalg.norm(xs, axis=0)))\n",
    "        b_p = -2 * jnp.pi * jnp.sin(2 * jnp.pi * xs) / len(xs)\n",
    "        grad = jnp.nan_to_num(\n",
    "            -20 * a_p * a + b_p * b).reshape(out_shape)  # only when norm(x) == 0 do we have nan and we know the grad is zero there\n",
    "        grad = grad.T\n",
    "        \n",
    "        return grad\n",
    "\n",
    "    def f2(self, X):\n",
    "        return jacfwd(lambda x: self.f1(x))(X).reshape(X.shape[0], X.shape[1], X.shape[1])\n",
    "\n",
    "\n",
    "funcs = {\n",
    "#     \"LogPolytope\": lambda dim: LogPolytopeGetter(dim, 0.05),\n",
    "    \"Ackley\": lambda dim: Ackley(0.05)\n",
    "}\n",
    "\n",
    "def config_creator(F, x_0, h, num_samples, hessian_geometry):\n",
    "    config = {}\n",
    "    config[\"N\"] = num_samples\n",
    "    config[\"h\"] = h\n",
    "    if hessian_geometry:\n",
    "        config[\"ellipse_M\"] = jnp.linalg.inv(F.f2(x_0.reshape(1, -1))[0])\n",
    "#         print(jnp.linalg.eig(config[\"cov\"]))\n",
    "    else:\n",
    "        config[\"ellipse_M\"] = jnp.eye(x_0.shape[0])\n",
    "\n",
    "\n",
    "    config[\"sample_subspace_basis\"] = None\n",
    "    config[\"F\"] = F\n",
    "#     config[\"distribution_name\"] = \"beta\"\n",
    "    config[\"is_uniform_sphere_random\"] = False\n",
    "    return config\n",
    "    \n",
    "\n",
    "fd_estimator = lambda F, x_0, h, num_samples, subkey: SD_1E0(F, x_0, config_creator(F, x_0, h, num_samples, False), subkey, sample_based=True)\n",
    "sd_estimator = lambda F, x_0, h, num_samples, subkey: SD_1E0(F, x_0, config_creator(F, x_0, h, num_samples, True), subkey, sample_based=True)\n",
    "\n",
    "\n",
    "\n",
    "\n",
    "seed = 0\n",
    "\n",
    "standard_deviations = list(jnp.logspace(1.2, -5, 50)) # [100, 10, 1, 0.25, 0.1] \n",
    "dimensions = [2] # jnp.linspace(10, 200, 11, dtype=int) # [10] # [100] #\n",
    "\n",
    "\n",
    "\n",
    "\n"
   ]
  },
  {
   "cell_type": "code",
   "execution_count": 166,
   "metadata": {
    "scrolled": true
   },
   "outputs": [
    {
     "name": "stderr",
     "output_type": "stream",
     "text": [
      "  0%|          | 0/1 [00:00<?, ?it/s]\n"
     ]
    },
    {
     "ename": "TypeError",
     "evalue": "type object argument after * must be an iterable, not int",
     "output_type": "error",
     "traceback": [
      "\u001b[0;31m---------------------------------------------------------------------------\u001b[0m",
      "\u001b[0;31mTypeError\u001b[0m                                 Traceback (most recent call last)",
      "\u001b[0;32m<ipython-input-166-b5429c2a161d>\u001b[0m in \u001b[0;36m<module>\u001b[0;34m\u001b[0m\n\u001b[1;32m      8\u001b[0m \u001b[0mnum_runs\u001b[0m \u001b[0;34m=\u001b[0m \u001b[0;36m1\u001b[0m\u001b[0;34m\u001b[0m\u001b[0;34m\u001b[0m\u001b[0m\n\u001b[1;32m      9\u001b[0m \u001b[0;34m\u001b[0m\u001b[0m\n\u001b[0;32m---> 10\u001b[0;31m \u001b[0mFD_logs\u001b[0m \u001b[0;34m=\u001b[0m \u001b[0mrun_tests\u001b[0m\u001b[0;34m(\u001b[0m\u001b[0mfd_estimator\u001b[0m\u001b[0;34m,\u001b[0m \u001b[0mfuncs\u001b[0m\u001b[0;34m,\u001b[0m \u001b[0mx_0_generator\u001b[0m\u001b[0;34m,\u001b[0m \u001b[0mstandard_deviations\u001b[0m\u001b[0;34m,\u001b[0m \u001b[0mdimensions\u001b[0m\u001b[0;34m,\u001b[0m \u001b[0mfrac_samples\u001b[0m\u001b[0;34m,\u001b[0m \u001b[0mnum_runs\u001b[0m\u001b[0;34m,\u001b[0m \u001b[0mseed\u001b[0m\u001b[0;34m,\u001b[0m \u001b[0mloss_type\u001b[0m\u001b[0;34m=\u001b[0m\u001b[0;34m\"MSE\"\u001b[0m\u001b[0;34m)\u001b[0m\u001b[0;34m\u001b[0m\u001b[0;34m\u001b[0m\u001b[0m\n\u001b[0m\u001b[1;32m     11\u001b[0m \u001b[0;34m\u001b[0m\u001b[0m\n\u001b[1;32m     12\u001b[0m \u001b[0mSD_logs\u001b[0m \u001b[0;34m=\u001b[0m \u001b[0mrun_tests\u001b[0m\u001b[0;34m(\u001b[0m\u001b[0msd_estimator\u001b[0m\u001b[0;34m,\u001b[0m \u001b[0mfuncs\u001b[0m\u001b[0;34m,\u001b[0m \u001b[0mx_0_generator\u001b[0m\u001b[0;34m,\u001b[0m \u001b[0mstandard_deviations\u001b[0m\u001b[0;34m,\u001b[0m \u001b[0mdimensions\u001b[0m\u001b[0;34m,\u001b[0m \u001b[0mfrac_samples\u001b[0m\u001b[0;34m,\u001b[0m \u001b[0mnum_runs\u001b[0m\u001b[0;34m,\u001b[0m \u001b[0mseed\u001b[0m\u001b[0;34m,\u001b[0m \u001b[0mloss_type\u001b[0m\u001b[0;34m=\u001b[0m\u001b[0;34m\"MSE\"\u001b[0m\u001b[0;34m)\u001b[0m\u001b[0;34m\u001b[0m\u001b[0;34m\u001b[0m\u001b[0m\n",
      "\u001b[0;32m~/curr_adventure/notebooks/utils.py\u001b[0m in \u001b[0;36mrun_tests\u001b[0;34m(estimator, funcs, x_0_generator, standard_deviations, dimensions, frac_samples, num_runs, seed, loss_type)\u001b[0m\n\u001b[1;32m    139\u001b[0m                     \u001b[0mjrandom_key\u001b[0m\u001b[0;34m,\u001b[0m \u001b[0msubkey\u001b[0m \u001b[0;34m=\u001b[0m \u001b[0mjrandom\u001b[0m\u001b[0;34m.\u001b[0m\u001b[0msplit\u001b[0m\u001b[0;34m(\u001b[0m\u001b[0mjrandom_key\u001b[0m\u001b[0;34m)\u001b[0m\u001b[0;34m\u001b[0m\u001b[0;34m\u001b[0m\u001b[0m\n\u001b[1;32m    140\u001b[0m \u001b[0;34m\u001b[0m\u001b[0m\n\u001b[0;32m--> 141\u001b[0;31m                     \u001b[0mest_G\u001b[0m \u001b[0;34m=\u001b[0m \u001b[0mestimator\u001b[0m\u001b[0;34m(\u001b[0m\u001b[0mF\u001b[0m\u001b[0;34m,\u001b[0m \u001b[0mx_0\u001b[0m\u001b[0;34m,\u001b[0m \u001b[0mstd\u001b[0m\u001b[0;34m,\u001b[0m \u001b[0mnum_samples\u001b[0m\u001b[0;34m,\u001b[0m \u001b[0msubkey\u001b[0m\u001b[0;34m)\u001b[0m\u001b[0;34m\u001b[0m\u001b[0;34m\u001b[0m\u001b[0m\n\u001b[0m\u001b[1;32m    142\u001b[0m \u001b[0;34m\u001b[0m\u001b[0m\n\u001b[1;32m    143\u001b[0m                     \u001b[0mlogger\u001b[0m\u001b[0;34m.\u001b[0m\u001b[0madd_value\u001b[0m\u001b[0;34m(\u001b[0m\u001b[0;34m[\u001b[0m\u001b[0mfunc_name\u001b[0m\u001b[0;34m,\u001b[0m \u001b[0mdim\u001b[0m\u001b[0;34m,\u001b[0m \u001b[0mstd\u001b[0m\u001b[0;34m,\u001b[0m \u001b[0mfrac_s\u001b[0m\u001b[0;34m,\u001b[0m \u001b[0msubkey\u001b[0m\u001b[0;34m]\u001b[0m\u001b[0;34m,\u001b[0m \u001b[0mmse_loss\u001b[0m\u001b[0;34m(\u001b[0m\u001b[0mtrue_G\u001b[0m\u001b[0;34m,\u001b[0m \u001b[0mest_G\u001b[0m\u001b[0;34m)\u001b[0m\u001b[0;34m)\u001b[0m\u001b[0;34m\u001b[0m\u001b[0;34m\u001b[0m\u001b[0m\n",
      "\u001b[0;32m<ipython-input-165-2ea11ca757ac>\u001b[0m in \u001b[0;36m<lambda>\u001b[0;34m(F, x_0, h, num_samples, subkey)\u001b[0m\n\u001b[1;32m     76\u001b[0m \u001b[0;34m\u001b[0m\u001b[0m\n\u001b[1;32m     77\u001b[0m \u001b[0;34m\u001b[0m\u001b[0m\n\u001b[0;32m---> 78\u001b[0;31m \u001b[0mfd_estimator\u001b[0m \u001b[0;34m=\u001b[0m \u001b[0;32mlambda\u001b[0m \u001b[0mF\u001b[0m\u001b[0;34m,\u001b[0m \u001b[0mx_0\u001b[0m\u001b[0;34m,\u001b[0m \u001b[0mh\u001b[0m\u001b[0;34m,\u001b[0m \u001b[0mnum_samples\u001b[0m\u001b[0;34m,\u001b[0m \u001b[0msubkey\u001b[0m\u001b[0;34m:\u001b[0m \u001b[0mSD_1E0\u001b[0m\u001b[0;34m(\u001b[0m\u001b[0mF\u001b[0m\u001b[0;34m,\u001b[0m \u001b[0mx_0\u001b[0m\u001b[0;34m,\u001b[0m \u001b[0mconfig_creator\u001b[0m\u001b[0;34m(\u001b[0m\u001b[0mF\u001b[0m\u001b[0;34m,\u001b[0m \u001b[0mx_0\u001b[0m\u001b[0;34m,\u001b[0m \u001b[0mh\u001b[0m\u001b[0;34m,\u001b[0m \u001b[0mnum_samples\u001b[0m\u001b[0;34m,\u001b[0m \u001b[0;32mFalse\u001b[0m\u001b[0;34m)\u001b[0m\u001b[0;34m,\u001b[0m \u001b[0msubkey\u001b[0m\u001b[0;34m,\u001b[0m \u001b[0msample_based\u001b[0m\u001b[0;34m=\u001b[0m\u001b[0;32mTrue\u001b[0m\u001b[0;34m)\u001b[0m\u001b[0;34m\u001b[0m\u001b[0;34m\u001b[0m\u001b[0m\n\u001b[0m\u001b[1;32m     79\u001b[0m \u001b[0msd_estimator\u001b[0m \u001b[0;34m=\u001b[0m \u001b[0;32mlambda\u001b[0m \u001b[0mF\u001b[0m\u001b[0;34m,\u001b[0m \u001b[0mx_0\u001b[0m\u001b[0;34m,\u001b[0m \u001b[0mh\u001b[0m\u001b[0;34m,\u001b[0m \u001b[0mnum_samples\u001b[0m\u001b[0;34m,\u001b[0m \u001b[0msubkey\u001b[0m\u001b[0;34m:\u001b[0m \u001b[0mSD_1E0\u001b[0m\u001b[0;34m(\u001b[0m\u001b[0mF\u001b[0m\u001b[0;34m,\u001b[0m \u001b[0mx_0\u001b[0m\u001b[0;34m,\u001b[0m \u001b[0mconfig_creator\u001b[0m\u001b[0;34m(\u001b[0m\u001b[0mF\u001b[0m\u001b[0;34m,\u001b[0m \u001b[0mx_0\u001b[0m\u001b[0;34m,\u001b[0m \u001b[0mh\u001b[0m\u001b[0;34m,\u001b[0m \u001b[0mnum_samples\u001b[0m\u001b[0;34m,\u001b[0m \u001b[0;32mTrue\u001b[0m\u001b[0;34m)\u001b[0m\u001b[0;34m,\u001b[0m \u001b[0msubkey\u001b[0m\u001b[0;34m,\u001b[0m \u001b[0msample_based\u001b[0m\u001b[0;34m=\u001b[0m\u001b[0;32mTrue\u001b[0m\u001b[0;34m)\u001b[0m\u001b[0;34m\u001b[0m\u001b[0;34m\u001b[0m\u001b[0m\n\u001b[1;32m     80\u001b[0m \u001b[0;34m\u001b[0m\u001b[0m\n",
      "\u001b[0;32m~/curr_adventure/curr_adventure/derivative_estimation/one_E_zero.py\u001b[0m in \u001b[0;36mSD_1E0\u001b[0;34m(F, x_0, grid_config, jrandom_key, sample_based)\u001b[0m\n\u001b[1;32m     12\u001b[0m         \u001b[0mru\u001b[0m \u001b[0;34m=\u001b[0m \u001b[0msample_points\u001b[0m \u001b[0;34m-\u001b[0m \u001b[0mx_0\u001b[0m\u001b[0;34m\u001b[0m\u001b[0;34m\u001b[0m\u001b[0m\n\u001b[1;32m     13\u001b[0m     \u001b[0mjrandom_key\u001b[0m\u001b[0;34m,\u001b[0m \u001b[0msubkey\u001b[0m \u001b[0;34m=\u001b[0m \u001b[0mjrandom\u001b[0m\u001b[0;34m.\u001b[0m\u001b[0msplit\u001b[0m\u001b[0;34m(\u001b[0m\u001b[0mjrandom_key\u001b[0m\u001b[0;34m)\u001b[0m\u001b[0;34m\u001b[0m\u001b[0;34m\u001b[0m\u001b[0m\n\u001b[0;32m---> 14\u001b[0;31m     \u001b[0mout_vals\u001b[0m \u001b[0;34m=\u001b[0m \u001b[0mF\u001b[0m\u001b[0;34m.\u001b[0m\u001b[0mf\u001b[0m\u001b[0;34m(\u001b[0m\u001b[0msample_points\u001b[0m\u001b[0;34m,\u001b[0m \u001b[0msubkey\u001b[0m\u001b[0;34m)\u001b[0m\u001b[0;34m\u001b[0m\u001b[0;34m\u001b[0m\u001b[0m\n\u001b[0m\u001b[1;32m     15\u001b[0m     \u001b[0mf_ru\u001b[0m \u001b[0;34m=\u001b[0m \u001b[0mout_vals\u001b[0m\u001b[0;34m.\u001b[0m\u001b[0mT\u001b[0m\u001b[0;34m.\u001b[0m\u001b[0mdot\u001b[0m\u001b[0;34m(\u001b[0m\u001b[0mru\u001b[0m\u001b[0;34m)\u001b[0m\u001b[0;34m/\u001b[0m\u001b[0msample_points\u001b[0m\u001b[0;34m.\u001b[0m\u001b[0mshape\u001b[0m\u001b[0;34m[\u001b[0m\u001b[0;36m0\u001b[0m\u001b[0;34m]\u001b[0m\u001b[0;34m\u001b[0m\u001b[0;34m\u001b[0m\u001b[0m\n\u001b[1;32m     16\u001b[0m     \u001b[0;32mreturn\u001b[0m \u001b[0mjnp\u001b[0m\u001b[0;34m.\u001b[0m\u001b[0mlinalg\u001b[0m\u001b[0;34m.\u001b[0m\u001b[0minv\u001b[0m\u001b[0;34m(\u001b[0m\u001b[0mcov\u001b[0m\u001b[0;34m)\u001b[0m\u001b[0;34m.\u001b[0m\u001b[0mdot\u001b[0m\u001b[0;34m(\u001b[0m\u001b[0mf_ru\u001b[0m\u001b[0;34m)\u001b[0m\u001b[0;34m\u001b[0m\u001b[0;34m\u001b[0m\u001b[0m\n",
      "\u001b[0;32m<ipython-input-165-2ea11ca757ac>\u001b[0m in \u001b[0;36mf\u001b[0;34m(self, X, jrandom_key)\u001b[0m\n\u001b[1;32m     31\u001b[0m         \u001b[0mout\u001b[0m \u001b[0;34m=\u001b[0m \u001b[0mjnp\u001b[0m\u001b[0;34m.\u001b[0m\u001b[0marray\u001b[0m\u001b[0;34m(\u001b[0m\u001b[0;34m-\u001b[0m\u001b[0;36m20\u001b[0m \u001b[0;34m*\u001b[0m \u001b[0ma\u001b[0m \u001b[0;34m+\u001b[0m \u001b[0mb\u001b[0m \u001b[0;34m+\u001b[0m \u001b[0;36m20\u001b[0m \u001b[0;34m+\u001b[0m \u001b[0mjnp\u001b[0m\u001b[0;34m.\u001b[0m\u001b[0mexp\u001b[0m\u001b[0;34m(\u001b[0m\u001b[0;36m1\u001b[0m\u001b[0;34m)\u001b[0m\u001b[0;34m)\u001b[0m\u001b[0;34m.\u001b[0m\u001b[0mreshape\u001b[0m\u001b[0;34m(\u001b[0m\u001b[0mout_shape\u001b[0m\u001b[0;34m)\u001b[0m\u001b[0;34m\u001b[0m\u001b[0;34m\u001b[0m\u001b[0m\n\u001b[1;32m     32\u001b[0m         \u001b[0;32mif\u001b[0m \u001b[0mjrandom_key\u001b[0m \u001b[0;32mis\u001b[0m \u001b[0;32mnot\u001b[0m \u001b[0;32mNone\u001b[0m\u001b[0;34m:\u001b[0m\u001b[0;34m\u001b[0m\u001b[0;34m\u001b[0m\u001b[0m\n\u001b[0;32m---> 33\u001b[0;31m             \u001b[0;32mreturn\u001b[0m \u001b[0mout\u001b[0m \u001b[0;34m+\u001b[0m \u001b[0mself\u001b[0m\u001b[0;34m.\u001b[0m\u001b[0mnoise_std\u001b[0m \u001b[0;34m*\u001b[0m \u001b[0mjrandom\u001b[0m\u001b[0;34m.\u001b[0m\u001b[0mnormal\u001b[0m\u001b[0;34m(\u001b[0m\u001b[0mjrandom_key\u001b[0m\u001b[0;34m,\u001b[0m \u001b[0mX\u001b[0m\u001b[0;34m.\u001b[0m\u001b[0mshape\u001b[0m\u001b[0;34m[\u001b[0m\u001b[0;36m0\u001b[0m\u001b[0;34m]\u001b[0m\u001b[0;34m)\u001b[0m\u001b[0;34m\u001b[0m\u001b[0;34m\u001b[0m\u001b[0m\n\u001b[0m\u001b[1;32m     34\u001b[0m         \u001b[0;32mreturn\u001b[0m \u001b[0mout\u001b[0m\u001b[0;34m\u001b[0m\u001b[0;34m\u001b[0m\u001b[0m\n\u001b[1;32m     35\u001b[0m \u001b[0;34m\u001b[0m\u001b[0m\n",
      "\u001b[0;32m~/miniconda3/lib/python3.6/site-packages/jax/_src/random.py\u001b[0m in \u001b[0;36mnormal\u001b[0;34m(key, shape, dtype)\u001b[0m\n\u001b[1;32m    658\u001b[0m                      f\"got {dtype}\")\n\u001b[1;32m    659\u001b[0m   \u001b[0mdtype\u001b[0m \u001b[0;34m=\u001b[0m \u001b[0mdtypes\u001b[0m\u001b[0;34m.\u001b[0m\u001b[0mcanonicalize_dtype\u001b[0m\u001b[0;34m(\u001b[0m\u001b[0mdtype\u001b[0m\u001b[0;34m)\u001b[0m\u001b[0;34m\u001b[0m\u001b[0;34m\u001b[0m\u001b[0m\n\u001b[0;32m--> 660\u001b[0;31m   \u001b[0mshape\u001b[0m \u001b[0;34m=\u001b[0m \u001b[0mcore\u001b[0m\u001b[0;34m.\u001b[0m\u001b[0mas_named_shape\u001b[0m\u001b[0;34m(\u001b[0m\u001b[0mshape\u001b[0m\u001b[0;34m)\u001b[0m\u001b[0;34m\u001b[0m\u001b[0;34m\u001b[0m\u001b[0m\n\u001b[0m\u001b[1;32m    661\u001b[0m   \u001b[0;32mreturn\u001b[0m \u001b[0m_normal\u001b[0m\u001b[0;34m(\u001b[0m\u001b[0mkey\u001b[0m\u001b[0;34m,\u001b[0m \u001b[0mshape\u001b[0m\u001b[0;34m,\u001b[0m \u001b[0mdtype\u001b[0m\u001b[0;34m)\u001b[0m  \u001b[0;31m# type: ignore\u001b[0m\u001b[0;34m\u001b[0m\u001b[0;34m\u001b[0m\u001b[0m\n\u001b[1;32m    662\u001b[0m \u001b[0;34m\u001b[0m\u001b[0m\n",
      "\u001b[0;32m~/miniconda3/lib/python3.6/site-packages/jax/core.py\u001b[0m in \u001b[0;36mas_named_shape\u001b[0;34m(shape)\u001b[0m\n\u001b[1;32m   1492\u001b[0m   \u001b[0;32mif\u001b[0m \u001b[0misinstance\u001b[0m\u001b[0;34m(\u001b[0m\u001b[0mshape\u001b[0m\u001b[0;34m,\u001b[0m \u001b[0mNamedShape\u001b[0m\u001b[0;34m)\u001b[0m\u001b[0;34m:\u001b[0m\u001b[0;34m\u001b[0m\u001b[0;34m\u001b[0m\u001b[0m\n\u001b[1;32m   1493\u001b[0m     \u001b[0;32mreturn\u001b[0m \u001b[0mshape\u001b[0m\u001b[0;34m\u001b[0m\u001b[0;34m\u001b[0m\u001b[0m\n\u001b[0;32m-> 1494\u001b[0;31m   \u001b[0;32mreturn\u001b[0m \u001b[0mNamedShape\u001b[0m\u001b[0;34m(\u001b[0m\u001b[0;34m*\u001b[0m\u001b[0mshape\u001b[0m\u001b[0;34m)\u001b[0m\u001b[0;34m\u001b[0m\u001b[0;34m\u001b[0m\u001b[0m\n\u001b[0m\u001b[1;32m   1495\u001b[0m \u001b[0;34m\u001b[0m\u001b[0m\n\u001b[1;32m   1496\u001b[0m \u001b[0;34m\u001b[0m\u001b[0m\n",
      "\u001b[0;31mTypeError\u001b[0m: type object argument after * must be an iterable, not int"
     ]
    }
   ],
   "source": [
    "FD_logs = []\n",
    "SD_logs = []\n",
    "SSD_logs = []\n",
    "x = 0\n",
    "x_0_generator = lambda dim: x*jnp.ones(dim)/jnp.linalg.norm(jnp.ones(dim))\n",
    "\n",
    "frac_samples = [2] # list(jnp.logspace(0.1, 1.5, 3))\n",
    "num_runs = 1\n",
    "\n",
    "FD_logs = run_tests(fd_estimator, funcs, x_0_generator, standard_deviations, dimensions, frac_samples, num_runs, seed, loss_type=\"MSE\")\n",
    " \n",
    "SD_logs = run_tests(sd_estimator, funcs, x_0_generator, standard_deviations, dimensions, frac_samples, num_runs, seed, loss_type=\"MSE\")\n",
    "    "
   ]
  },
  {
   "cell_type": "code",
   "execution_count": 156,
   "metadata": {},
   "outputs": [
    {
     "name": "stdout",
     "output_type": "stream",
     "text": [
      "FD\n"
     ]
    },
    {
     "data": {
      "image/png": "[encoded data removed]",
      "text/plain": [
       "<Figure size 864x576 with 1 Axes>"
      ]
     },
     "metadata": {},
     "output_type": "display_data"
    },
    {
     "name": "stdout",
     "output_type": "stream",
     "text": [
      "SD\n"
     ]
    },
    {
     "data": {
      "image/png": "[encoded data removed]",
      "text/plain": [
       "<Figure size 864x576 with 1 Axes>"
      ]
     },
     "metadata": {},
     "output_type": "display_data"
    }
   ],
   "source": [
    "\n",
    "\n",
    "FD_means = FD_logs.mean_std()[0]\n",
    "FD_std = FD_logs.mean_std()[1]\n",
    "\n",
    "SD_means = SD_logs.mean_std()[0]\n",
    "SD_std = SD_logs.mean_std()[1]\n",
    "\n",
    "\n",
    "col_key = \"std\"\n",
    "\n",
    "def plot_feature_loss(df_means, df_std, col_key, xscale=None, namename=None):\n",
    "    df_means = df_means.stack().unstack(col_key)\n",
    "    df_std = df_std.stack().unstack(col_key)\n",
    "    for i in range(len(df_means)):\n",
    "        idx = df_means.index[i]\n",
    "#         slope, intercept, _, _, _ = linregress(jnp.log(df_means.columns.values), jnp.log(df_means.loc[idx].values))\n",
    "#         plt.errorbar(df_means.columns.values, df_means.loc[idx].values, df_std.loc[idx].values, fmt='-o', capsize=5, label=str(idx) + \"; slope:{:.2f}; intercept:{:.2f}\".format(slope, intercept))\n",
    "        plt.scatter(x=jnp.log(df_means.columns.values), y=jnp.log(df_means.loc[idx].values))\n",
    "\n",
    "\n",
    "#     if xscale is not None:\n",
    "#         plt.xscale(xscale)\n",
    "#     plt.yscale(\"log\")\n",
    "    plt.xlabel(col_key)\n",
    "    plt.ylabel(\"Loss Val\")\n",
    "    plt.yticks(jnp.arange(int(jnp.nanmin(jnp.log(df_means.values))) - 1, int(jnp.nanmax(jnp.log(df_means.values))) + 1, step=1))\n",
    "#     plt.legend()\n",
    "#     plt.savefig(\"figs/{}\".format(namename))\n",
    "    plt.show()\n",
    "\n",
    "\n",
    "        \n",
    "name = \"QuarticDegenerate_dimension\"\n",
    "print(\"FD\")\n",
    "plot_feature_loss(FD_means, FD_std, col_key, \"log\", \"FD_{}\".format(name))\n",
    "print(\"SD\")\n",
    "plot_feature_loss(SD_means, SD_std, col_key, \"log\", \"Gauss_{}\".format(name))\n",
    "# print(\"SSD\")\n",
    "# plot_feature_loss(SSD_means, SSD_std, col_key, \"log\", \"MC Gauss_{}\".format(name))\n",
    "    "
   ]
  },
  {
   "cell_type": "code",
   "execution_count": 107,
   "metadata": {},
   "outputs": [
    {
     "name": "stdout",
     "output_type": "stream",
     "text": [
      "Noise Loss [9.917318181498427]\n",
      "Bias [3.0284402787135807e-06]\n",
      "Total Loss [9.917368824985688]\n"
     ]
    }
   ],
   "source": [
    "dim = 50\n",
    "F = LogPolytopeGetter(dim, 0)\n",
    "F_noise = LogPolytopeGetter(dim, 0.1)\n",
    "x_0 = x_0_generator(dim)\n",
    "G = F.f1(x_0)\n",
    "\n",
    "std = 0.007\n",
    "\n",
    "jrandom_key, subkey = jrandom.split(jrandom_key)\n",
    "G_approx_noise = FD_1E0(F_noise, x_0, std, 10, subkey)\n",
    "G_approx = FD_1E0(F, x_0, std, 1, subkey)\n",
    "\n",
    "print(\"Noise Loss\", mse_loss(jnp.zeros(dim), G_approx_noise - G_approx))\n",
    "print(\"Bias\", mse_loss(G, G_approx))\n",
    "print(\"Total Loss\", mse_loss(G, G_approx_noise))\n"
   ]
  },
  {
   "cell_type": "code",
   "execution_count": 114,
   "metadata": {},
   "outputs": [
    {
     "name": "stdout",
     "output_type": "stream",
     "text": [
      "Noise Loss [148.77960532977582]\n",
      "Bias/Variance [0.1267893559267794]\n",
      "Total Loss [147.42151832990658]\n"
     ]
    }
   ],
   "source": [
    "jrandom_key, subkey = jrandom.split(jrandom_key)\n",
    "G_approx_noise = SD_1E0(F_noise, x_0, config_creator(F, x_0, std, dim*20), subkey, sample_based=True)\n",
    "G_approx = SD_1E0(F, x_0, config_creator(F, x_0, std, dim*20), subkey, sample_based=True)\n",
    "\n",
    "print(\"Noise Loss\", mse_loss(jnp.zeros(dim), G_approx_noise - G_approx))\n",
    "print(\"Bias/Variance\", mse_loss(G, G_approx))\n",
    "print(\"Total Loss\", mse_loss(G, G_approx_noise))\n"
   ]
  },
  {
   "cell_type": "code",
   "execution_count": 113,
   "metadata": {},
   "outputs": [
    {
     "name": "stdout",
     "output_type": "stream",
     "text": [
      "Noise Loss [0.20188592356462062]\n",
      "Bias/Variance [48.03205479591352]\n",
      "Total Loss [49.18580277368678]\n"
     ]
    }
   ],
   "source": [
    "jrandom_key, subkey = jrandom.split(jrandom_key)\n",
    "G_approx_noise = SD_1E0(F_noise, x_0, config_creator(F, x_0, std, dim*20, True), subkey, sample_based=True)\n",
    "G_approx = SD_1E0(F, x_0, config_creator(F, x_0, std, dim*20, True), subkey, sample_based=True)\n",
    "\n",
    "print(\"Noise Loss\", mse_loss(jnp.zeros(dim), G_approx_noise - G_approx))\n",
    "print(\"Bias/Variance\", mse_loss(G, G_approx))\n",
    "print(\"Total Loss\", mse_loss(G, G_approx_noise))\n"
   ]
  },
  {
   "cell_type": "code",
   "execution_count": null,
   "metadata": {},
   "outputs": [],
   "source": []
  },
  {
   "cell_type": "code",
   "execution_count": null,
   "metadata": {},
   "outputs": [],
   "source": []
  }
 ],
 "metadata": {
  "kernelspec": {
   "display_name": "Python3 (new_adv)",
   "language": "python",
   "name": "new_adv"
  },
  "language_info": {
   "codemirror_mode": {
    "name": "ipython",
    "version": 3
   },
   "file_extension": ".py",
   "mimetype": "text/x-python",
   "name": "python",
   "nbconvert_exporter": "python",
   "pygments_lexer": "ipython3",
   "version": "3.6.8"
  }
 },
 "nbformat": 4,
 "nbformat_minor": 2
}
