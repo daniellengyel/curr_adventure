{
 "cells": [
  {
   "cell_type": "code",
   "execution_count": 1,
   "metadata": {},
   "outputs": [],
   "source": [
    "import jax.numpy as jnp\n",
    "import jax.random as jrandom\n",
    "\n",
    "import matplotlib.pyplot as plt\n",
    "import pandas as pd\n",
    "from jax import jit, grad, jacfwd, jacrev\n",
    "\n",
    "\n",
    "\n",
    "from scipy.stats import linregress\n",
    "\n",
    "from tqdm import tqdm\n",
    "import pickle\n",
    "\n",
    "import numpy as np\n",
    "\n",
    "from jax.config import config\n",
    "config.update(\"jax_enable_x64\", True)\n",
    "\n",
    "import matplotlib.pyplot as plt\n",
    "\n",
    "%matplotlib inline\n",
    "plt.rcParams['figure.figsize'] = [12,12]\n",
    "plt.style.use('ggplot')\n",
    "plt.rcParams['lines.markersize'] = 8\n",
    "plt.rcParams.update({'font.size': 12})"
   ]
  },
  {
   "cell_type": "markdown",
   "metadata": {},
   "source": [
    "We want to minimize the following \n",
    "$$ \n",
    "    (tr(\\Sigma V^T D V \\Sigma))^2\n",
    "$$\n",
    "with respect to $V$ with $V$ being an orthogonal matrix.\n",
    "\n",
    "Differentiating with respect to $V$ we have \n",
    "\n",
    "$$\n",
    "    \\nabla_V tr(\\Sigma V^T D V \\Sigma) \\\\\n",
    "    = 4 tr(\\Sigma V^T D V \\Sigma) D V \\Sigma^2.\n",
    "$$\n",
    "    \n",
    "    \n",
    "Now, we also have the condition that the matrix has to be orthogonal $(V^T V) = I$ which leads to the lagrangian \n",
    "\n",
    "$$\n",
    "    \\mathcal{L}(V, \\lambda) = tr(\\Sigma V^T D V \\Sigma)^2 + \\sum_{i = 1}^d \\sum_{j = 1}^d \\lambda_{i, j}(v_i^T v_j - \\delta_{ij}).\n",
    "$$\n",
    "\n",
    "The gradient of the constraint is $V (\\lambda + \\lambda^T)$. Notice here that $(\\lambda + \\lambda^T)$ is symmetric. \n",
    "\n",
    "We get from the KKT conditions that \n",
    "\n",
    "$$\n",
    "    4 tr(\\Sigma V^T D V \\Sigma) D V \\Sigma^2 = V (\\lambda + \\lambda^T) \\\\\n",
    "    2 tr(\\Sigma V^T D V \\Sigma) D V \\Sigma^2 V^T D V \\Sigma^2 = \\frac{1}{2} (\\lambda + \\lambda^T)\n",
    "$$\n",
    "and since the RHS is symmetric we have that \n",
    "$$\n",
    "    V^T D V \\Sigma^2 = \\Sigma^2 V^T D V\n",
    "$$\n",
    "\n",
    "implying that $V^T D V$ commutes with $\\Sigma^2$. Diagonalizable matricies which commute are mutually diagonalizable. Hence there exists $P$ orthogonal such that $P^{-1} V^T D V P$ and $P^{-1} \\Sigma^2 P$ are diagonal matricies. \n",
    "\n",
    "Assume such a $P$ exists then we have that for some diagonal matrix $K$ that\n",
    "$$ \n",
    "    P^{-1} \\Sigma^2 P = K \\\\\n",
    "    \\Sigma^2 P K^{-1} = P \\\\\n",
    "    \\rightarrow \\frac{1}{K_i} \\Sigma^2 P_i = P_i \\\\\n",
    "    \\frac{1}{K_i} \\Sigma^2_j P_{ij} = P_{ij}. \\\\\n",
    "$$\n",
    "\n",
    "Since $P$ has to have full rank at least one $P_{ij} \\neq 0$. Assume that $P_{i j} \\neq 0$ for some $j$ then we have\n",
    "$$\n",
    "    K_i = \\Sigma^2_j\n",
    "$$\n",
    "which immidiately implies that for any other $j$ for which $\\Sigma^2_j \\neq K_i$ $P_{ij} = 0$. \n",
    "\n",
    "\n",
    "\n",
    "\n"
   ]
  },
  {
   "cell_type": "code",
   "execution_count": 82,
   "metadata": {},
   "outputs": [
    {
     "name": "stdout",
     "output_type": "stream",
     "text": [
      "[[ 7.26288278e+04 -1.56562135e-27  3.91039271e+05 -3.19629680e+05]\n",
      " [-7.91358056e+04  2.18442846e-28  7.23305570e+04  1.50587901e+05]\n",
      " [ 5.38840305e+04 -1.30266379e-28  1.78060919e+04  1.20892572e+05]\n",
      " [ 2.39040600e+05 -2.28706380e-27 -3.23974073e+04  7.95064201e+03]]\n"
     ]
    },
    {
     "data": {
      "text/plain": [
       "DeviceArray([[ 7.26288278e+04, -1.56562135e-27,  3.91039271e+05,\n",
       "              -3.19629680e+05],\n",
       "             [-7.91358056e+04,  2.18442846e-28,  7.23305570e+04,\n",
       "               1.50587901e+05],\n",
       "             [ 5.38840305e+04, -1.30266379e-28,  1.78060919e+04,\n",
       "               1.20892572e+05],\n",
       "             [ 2.39040600e+05, -2.28706380e-27, -3.23974073e+04,\n",
       "               7.95064201e+03]], dtype=float64)"
      ]
     },
     "execution_count": 82,
     "metadata": {},
     "output_type": "execute_result"
    }
   ],
   "source": [
    "dim = 4\n",
    "D = jnp.diag(jnp.array([-5, -2, -1, 4])) # jnp.diag(jnp.linspace(10, 20, dim))\n",
    "Sigma = jnp.diag(jnp.linspace(-5, 10, dim))\n",
    "\n",
    "jrandom_key = jrandom.PRNGKey(0)\n",
    "jrandom_key, subkey = jrandom.split(jrandom_key)\n",
    "V = jrandom.normal(subkey, shape=(dim, dim,))\n",
    "\n",
    "predicted_grad = 2 * jnp.trace(Sigma @ V.T @ D @ V @ Sigma) * 2 * D @ V @ Sigma**2\n",
    "\n",
    "def g(V):\n",
    "    def f(V):\n",
    "        V_mat = V.reshape(dim, dim)\n",
    "        return jnp.trace(Sigma @ V_mat.T @ D @ V_mat @ Sigma)**2\n",
    "    \n",
    "            \n",
    "    return grad(f)(V.flatten()).reshape(dim, dim)\n",
    "\n",
    "print(predicted_grad)\n",
    "\n",
    "g(V)\n",
    "\n",
    "\n"
   ]
  },
  {
   "cell_type": "code",
   "execution_count": null,
   "metadata": {},
   "outputs": [],
   "source": []
  },
  {
   "cell_type": "code",
   "execution_count": 7,
   "metadata": {},
   "outputs": [
    {
     "name": "stdout",
     "output_type": "stream",
     "text": [
      "[[ 6.01883334  0.54491334  1.82365967  0.74724186]\n",
      " [ 0.98134454  1.85397622 -1.50126257  2.17090589]\n",
      " [ 0.88566318 -0.48731944  4.24207644 -1.73082982]\n",
      " [-0.73719531  1.60649286 -3.40417193  2.66122907]]\n"
     ]
    },
    {
     "data": {
      "text/plain": [
       "array([[ 6.01915267,  0.54498944,  1.82405111,  0.74723094],\n",
       "       [ 0.98166387,  1.85405231, -1.50087113,  2.17089497],\n",
       "       [ 0.8859825 , -0.48724334,  4.24246788, -1.73084074],\n",
       "       [-0.73687598,  1.60656895, -3.40378049,  2.66121815]])"
      ]
     },
     "execution_count": 7,
     "metadata": {},
     "output_type": "execute_result"
    }
   ],
   "source": [
    "# jrandom_key, subkey = jrandom.split(jrandom_key)\n",
    "lmbda = jrandom.normal(subkey, shape=(dim, dim,))\n",
    "\n",
    "def g_const(V, h):\n",
    "    res = np.zeros(shape=(dim, dim))\n",
    "    for i in range(dim):\n",
    "        for j in range(dim):\n",
    "            h_add = np.zeros(shape=(dim, dim))\n",
    "            h_add[i, j] = h\n",
    "            partial = (jnp.sum(lmbda * ((V + h_add).T @ (V + h_add) - np.eye(dim))) - jnp.sum(lmbda * (V.T @ V - np.eye(dim))))/h\n",
    "            res[i, j] = partial\n",
    "            \n",
    "    return res\n",
    "\n",
    "predicted_g_const = V @ (lmbda + lmbda.T) \n",
    "\n",
    "print(predicted_g_const)\n",
    "g_const(V, 0.001)\n"
   ]
  },
  {
   "cell_type": "code",
   "execution_count": 5,
   "metadata": {},
   "outputs": [
    {
     "name": "stdout",
     "output_type": "stream",
     "text": [
      "[[-10.   0.   0.   0.]\n",
      " [  0. -64.   0.   0.]\n",
      " [  0.   0. -98.   0.]\n",
      " [  0.   0.   0. 800.]]\n"
     ]
    }
   ],
   "source": [
    "def constraint_grad(V, lmbda):\n",
    "    return V @ (lmbda + lmbda.T)\n",
    "\n",
    "def obj_grad(D, V, Sigma):\n",
    "    return 2 * D @ V @ Sigma**2\n",
    "\n",
    "\n",
    "V = jnp.eye(dim)\n",
    "\n",
    "print(obj_grad(D, V, Sigma))"
   ]
  },
  {
   "cell_type": "code",
   "execution_count": 50,
   "metadata": {},
   "outputs": [],
   "source": [
    "def orthog_linesearch(l, c1, c2):\n",
    "\n",
    "    def helper(X, search_direction, A):\n",
    "        f0 = l(X)\n",
    "        g_tau_0 = -1/2 * jnp.linalg.norm(A, \"fro\")**2\n",
    "        \n",
    "        def armijo_rule(alpha):\n",
    "            return (l(search_direction(alpha)) > f0 + c1*alpha*g_tau_0) # and alpha > 0.001\n",
    "        \n",
    "        def armijo_update(alpha):\n",
    "            return c2*alpha\n",
    "            \n",
    "        alpha = 1\n",
    "        while armijo_rule(alpha):\n",
    "            alpha = armijo_update(alpha)\n",
    "\n",
    "\n",
    "        return alpha\n",
    "\n",
    "    return helper\n",
    "\n",
    "\n",
    "def optimize_V(D, sing_vals, num_iter, x_init=None):\n",
    "    \"\"\"Constraint is V.c = \\bar{c} 1 and V.V^T = I\"\"\"\n",
    "    \n",
    "    dim = D.shape[0]\n",
    "        \n",
    "    # init X\n",
    "    if x_init is None:\n",
    "        X = jnp.eye(dim)\n",
    "    else:\n",
    "        X = x_init\n",
    "    I = jnp.eye(dim)\n",
    "    \n",
    "\n",
    "    \n",
    "    def l(V):\n",
    "        V_matrix = V.reshape(dim, dim)\n",
    "        return jnp.trace(sing_vals @ V_matrix.T @ D @ V_matrix @ sing_vals)**2\n",
    "    \n",
    "    \n",
    "    g_l = grad(l)\n",
    "    linesearch = orthog_linesearch(l, c1=0.1, c2=0.9)\n",
    "\n",
    "\n",
    "    eps = 1e-15\n",
    "    \n",
    "    l_hist = []\n",
    "    for _ in tqdm(range(num_iter)):\n",
    "\n",
    "        num_iter -= 1\n",
    "        \n",
    "        G = g_l(X).reshape(dim, dim)\n",
    "        l_hist.append(l(X))\n",
    "#         print(jnp.linalg.norm(G))\n",
    "        \n",
    "        if jnp.linalg.norm(G) < eps:\n",
    "            break\n",
    "        \n",
    "        A = G @ X.reshape(dim, dim).T - X.reshape(dim, dim) @ G.T\n",
    "                \n",
    "        Y = lambda tau: jnp.linalg.inv(I + tau/2 * A) @ (I - tau/2 * A) @ X.reshape(dim, dim)\n",
    "        \n",
    "        alpha = linesearch(X, Y, A)\n",
    "#         print(alpha)\n",
    "        \n",
    "        X = Y(alpha)\n",
    "        \n",
    "        \n",
    "    return X, l_hist\n",
    "        \n",
    "    \n",
    "\n"
   ]
  },
  {
   "cell_type": "code",
   "execution_count": 63,
   "metadata": {},
   "outputs": [
    {
     "name": "stderr",
     "output_type": "stream",
     "text": [
      " 15%|█▌        | 15/100 [00:00<00:02, 41.18it/s]\n"
     ]
    }
   ],
   "source": [
    "jrandom_key = jrandom.PRNGKey(1)\n",
    "jrandom_key, subkey = jrandom.split(jrandom_key)\n",
    "\n",
    "dim = 4\n",
    "\n",
    "\n",
    "D = jnp.diag(jnp.array([-10, -1, 4, 6]))\n",
    "\n",
    "\n",
    "x_init = jrandom.normal(subkey, shape=(4, 4))\n",
    "_, x_init = jnp.linalg.eig(x_init + x_init.T)\n",
    "x_init = jnp.real(x_init)\n",
    "\n",
    "sing_vals = jnp.diag(jnp.array([0.46924893, 0.31380567, 0.31380567, 0.31380567])) # jnp.diag(jnp.linspace(1, 10, 4))\n",
    "V, l_hist = optimize_V(D, sing_vals, num_iter=100, x_init=x_init)"
   ]
  },
  {
   "cell_type": "code",
   "execution_count": 64,
   "metadata": {},
   "outputs": [
    {
     "data": {
      "text/plain": [
       "[<matplotlib.lines.Line2D at 0x7fa590019710>]"
      ]
     },
     "execution_count": 64,
     "metadata": {},
     "output_type": "execute_result"
    },
    {
     "data": {
      "image/png": "[encoded data removed]",
      "text/plain": [
       "<Figure size 432x288 with 1 Axes>"
      ]
     },
     "metadata": {
      "needs_background": "light"
     },
     "output_type": "display_data"
    }
   ],
   "source": [
    "plt.plot(l_hist)"
   ]
  },
  {
   "cell_type": "code",
   "execution_count": 65,
   "metadata": {},
   "outputs": [
    {
     "data": {
      "text/plain": [
       "DeviceArray([[-0.12328469, -0.59835527,  0.78124085,  0.12819747],\n",
       "             [-0.96201808, -0.12373717, -0.24030635, -0.03825156],\n",
       "             [-0.09363531,  0.30782669,  0.06599854,  0.9445207 ],\n",
       "             [ 0.22484334, -0.72931667, -0.57232839,  0.29997146]],            dtype=float64)"
      ]
     },
     "execution_count": 65,
     "metadata": {},
     "output_type": "execute_result"
    }
   ],
   "source": [
    "x_init"
   ]
  },
  {
   "cell_type": "code",
   "execution_count": 54,
   "metadata": {},
   "outputs": [
    {
     "data": {
      "text/plain": [
       "DeviceArray([[ 0.35628227,  0.00078948, -0.12969641, -0.19776196],\n",
       "             [ 0.00176532, -0.49002133,  0.01873967, -0.0351345 ],\n",
       "             [-0.29000999,  0.01873967, -0.08763608, -0.06647626],\n",
       "             [-0.4422092 , -0.0351345 , -0.06647626,  0.22137514]],            dtype=float64)"
      ]
     },
     "execution_count": 54,
     "metadata": {},
     "output_type": "execute_result"
    }
   ],
   "source": [
    "V.T @ D @ V @ sing_vals**2"
   ]
  },
  {
   "cell_type": "code",
   "execution_count": 55,
   "metadata": {},
   "outputs": [
    {
     "data": {
      "text/plain": [
       "DeviceArray(2.77555756e-17, dtype=float64)"
      ]
     },
     "execution_count": 55,
     "metadata": {},
     "output_type": "execute_result"
    }
   ],
   "source": [
    "jnp.trace(sing_vals @ V.T @ D @ V @ sing_vals)"
   ]
  },
  {
   "cell_type": "code",
   "execution_count": 43,
   "metadata": {},
   "outputs": [
    {
     "data": {
      "text/plain": [
       "DeviceArray(-2., dtype=float64)"
      ]
     },
     "execution_count": 43,
     "metadata": {},
     "output_type": "execute_result"
    }
   ],
   "source": [
    "jnp.trace(D)"
   ]
  },
  {
   "cell_type": "code",
   "execution_count": 73,
   "metadata": {},
   "outputs": [
    {
     "data": {
      "text/plain": [
       "DeviceArray([-0.98481355, -0.18779332,  0.40688874,  0.76571814], dtype=float64)"
      ]
     },
     "execution_count": 73,
     "metadata": {},
     "output_type": "execute_result"
    }
   ],
   "source": [
    "jnp.diag(V @ sing_vals**2 @ V.T) @ D"
   ]
  },
  {
   "cell_type": "code",
   "execution_count": 86,
   "metadata": {},
   "outputs": [
    {
     "data": {
      "text/plain": [
       "DeviceArray([-3.06725101, -3.74186718, -5.41987588, -8.97816281], dtype=float64)"
      ]
     },
     "execution_count": 86,
     "metadata": {},
     "output_type": "execute_result"
    }
   ],
   "source": [
    "jnp.diag(D) @ V.T**2"
   ]
  },
  {
   "cell_type": "code",
   "execution_count": null,
   "metadata": {},
   "outputs": [],
   "source": []
  }
 ],
 "metadata": {
  "kernelspec": {
   "display_name": "Python3 (new_adv)",
   "language": "python",
   "name": "new_adv"
  },
  "language_info": {
   "codemirror_mode": {
    "name": "ipython",
    "version": 3
   },
   "file_extension": ".py",
   "mimetype": "text/x-python",
   "name": "python",
   "nbconvert_exporter": "python",
   "pygments_lexer": "ipython3",
   "version": "3.6.8"
  }
 },
 "nbformat": 4,
 "nbformat_minor": 2
}
