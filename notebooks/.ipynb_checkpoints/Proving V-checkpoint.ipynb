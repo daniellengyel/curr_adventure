{
 "cells": [
  {
   "cell_type": "code",
   "execution_count": 121,
   "metadata": {},
   "outputs": [],
   "source": [
    "import jax.numpy as jnp\n",
    "import jax.random as jrandom\n",
    "\n",
    "import matplotlib.pyplot as plt\n",
    "import pandas as pd\n",
    "from jax import jit, grad, jacfwd, jacrev\n",
    "\n",
    "\n",
    "\n",
    "from scipy.stats import linregress\n",
    "\n",
    "from tqdm import tqdm\n",
    "import pickle\n",
    "\n",
    "import numpy as np\n",
    "\n",
    "from jax.config import config\n",
    "config.update(\"jax_enable_x64\", True)\n",
    "\n",
    "import matplotlib.pyplot as plt\n",
    "\n",
    "%matplotlib inline\n",
    "plt.rcParams['figure.figsize'] = [12,12]\n",
    "plt.style.use('ggplot')\n",
    "plt.rcParams['lines.markersize'] = 8\n",
    "plt.rcParams.update({'font.size': 12})"
   ]
  },
  {
   "cell_type": "markdown",
   "metadata": {},
   "source": [
    "We want to minimize the following \n",
    "$$ \n",
    "    (tr(\\Sigma V^T D V \\Sigma))^2\n",
    "$$\n",
    "with respect to $V$ with $V$ being an orthogonal matrix.\n",
    "\n",
    "Differentiating with respect to $V$ we have \n",
    "\n",
    "$$\n",
    "    \\nabla_V tr(\\Sigma V^T D V \\Sigma) \\\\\n",
    "    = 4 tr(\\Sigma V^T D V \\Sigma) D V \\Sigma^2.\n",
    "$$\n",
    "    \n",
    "    \n",
    "Now, we also have the condition that the matrix has to be orthogonal $(V^T V) = I$ which leads to the lagrangian \n",
    "\n",
    "$$\n",
    "    \\mathcal{L}(V, \\lambda) = tr(\\Sigma V^T D V \\Sigma)^2 + \\sum_{i = 1}^d \\sum_{j = 1}^d \\lambda_{i, j}(v_i^T v_j - \\delta_{ij}).\n",
    "$$\n",
    "\n",
    "The gradient of the constraint is $V (\\lambda + \\lambda^T)$. Notice here that $(\\lambda + \\lambda^T)$ is symmetric. \n",
    "\n",
    "We get from the KKT conditions that \n",
    "\n",
    "$$\n",
    "    4 tr(\\Sigma V^T D V \\Sigma) D V \\Sigma^2 = V (\\lambda + \\lambda^T) \\\\\n",
    "    2 tr(\\Sigma V^T D V \\Sigma) D V \\Sigma^2 V^T D V \\Sigma^2 = \\frac{1}{2} (\\lambda + \\lambda^T)\n",
    "$$\n",
    "and since the RHS is symmetric we have that \n",
    "$$\n",
    "    V^T D V \\Sigma^2 = \\Sigma^2 V^T D V\n",
    "$$\n",
    "\n",
    "implying that $V^T D V$ commutes with $\\Sigma^2$. Diagonalizable matricies which commute are mutually diagonalizable. Hence there exists $P$ orthogonal such that $P^{-1} V^T D V P$ and $P^{-1} \\Sigma^2 P$ are diagonal matricies. \n",
    "\n",
    "Assume such a $P$ exists then we have that for some diagonal matrix $K$ that\n",
    "$$ \n",
    "    P^{-1} \\Sigma^2 P = K \\\\\n",
    "    \\Sigma^2 P K^{-1} = P \\\\\n",
    "    \\rightarrow \\frac{1}{K_i} \\Sigma^2 P_i = P_i \\\\\n",
    "    \\frac{1}{K_i} \\Sigma^2_j P_{ij} = P_{ij}. \\\\\n",
    "$$\n",
    "\n",
    "Since $P$ has to have full rank at least one $P_{ij} \\neq 0$. Assume that $P_{i j} \\neq 0$ for some $j$ then we have\n",
    "$$\n",
    "    K_i = \\Sigma^2_j\n",
    "$$\n",
    "which immidiately implies that for any other $j$ for which $\\Sigma^2_j \\neq K_i$ $P_{ij} = 0$. \n",
    "\n",
    "\n",
    "\n",
    "\n"
   ]
  },
  {
   "cell_type": "code",
   "execution_count": 82,
   "metadata": {},
   "outputs": [
    {
     "name": "stdout",
     "output_type": "stream",
     "text": [
      "[[ 7.26288278e+04 -1.56562135e-27  3.91039271e+05 -3.19629680e+05]\n",
      " [-7.91358056e+04  2.18442846e-28  7.23305570e+04  1.50587901e+05]\n",
      " [ 5.38840305e+04 -1.30266379e-28  1.78060919e+04  1.20892572e+05]\n",
      " [ 2.39040600e+05 -2.28706380e-27 -3.23974073e+04  7.95064201e+03]]\n"
     ]
    },
    {
     "data": {
      "text/plain": [
       "DeviceArray([[ 7.26288278e+04, -1.56562135e-27,  3.91039271e+05,\n",
       "              -3.19629680e+05],\n",
       "             [-7.91358056e+04,  2.18442846e-28,  7.23305570e+04,\n",
       "               1.50587901e+05],\n",
       "             [ 5.38840305e+04, -1.30266379e-28,  1.78060919e+04,\n",
       "               1.20892572e+05],\n",
       "             [ 2.39040600e+05, -2.28706380e-27, -3.23974073e+04,\n",
       "               7.95064201e+03]], dtype=float64)"
      ]
     },
     "execution_count": 82,
     "metadata": {},
     "output_type": "execute_result"
    }
   ],
   "source": [
    "dim = 4\n",
    "D = jnp.diag(jnp.array([-5, -2, -1, 4])) # jnp.diag(jnp.linspace(10, 20, dim))\n",
    "Sigma = jnp.diag(jnp.linspace(-5, 10, dim))\n",
    "\n",
    "jrandom_key = jrandom.PRNGKey(0)\n",
    "jrandom_key, subkey = jrandom.split(jrandom_key)\n",
    "V = jrandom.normal(subkey, shape=(dim, dim,))\n",
    "\n",
    "predicted_grad = 2 * jnp.trace(Sigma @ V.T @ D @ V @ Sigma) * 2 * D @ V @ Sigma**2\n",
    "\n",
    "def g(V):\n",
    "    def f(V):\n",
    "        V_mat = V.reshape(dim, dim)\n",
    "        return jnp.trace(Sigma @ V_mat.T @ D @ V_mat @ Sigma)**2\n",
    "    \n",
    "            \n",
    "    return grad(f)(V.flatten()).reshape(dim, dim)\n",
    "\n",
    "print(predicted_grad)\n",
    "\n",
    "g(V)\n",
    "\n",
    "\n"
   ]
  },
  {
   "cell_type": "code",
   "execution_count": null,
   "metadata": {},
   "outputs": [],
   "source": []
  },
  {
   "cell_type": "code",
   "execution_count": 7,
   "metadata": {},
   "outputs": [
    {
     "name": "stdout",
     "output_type": "stream",
     "text": [
      "[[ 6.01883334  0.54491334  1.82365967  0.74724186]\n",
      " [ 0.98134454  1.85397622 -1.50126257  2.17090589]\n",
      " [ 0.88566318 -0.48731944  4.24207644 -1.73082982]\n",
      " [-0.73719531  1.60649286 -3.40417193  2.66122907]]\n"
     ]
    },
    {
     "data": {
      "text/plain": [
       "array([[ 6.01915267,  0.54498944,  1.82405111,  0.74723094],\n",
       "       [ 0.98166387,  1.85405231, -1.50087113,  2.17089497],\n",
       "       [ 0.8859825 , -0.48724334,  4.24246788, -1.73084074],\n",
       "       [-0.73687598,  1.60656895, -3.40378049,  2.66121815]])"
      ]
     },
     "execution_count": 7,
     "metadata": {},
     "output_type": "execute_result"
    }
   ],
   "source": [
    "# jrandom_key, subkey = jrandom.split(jrandom_key)\n",
    "lmbda = jrandom.normal(subkey, shape=(dim, dim,))\n",
    "\n",
    "def g_const(V, h):\n",
    "    res = np.zeros(shape=(dim, dim))\n",
    "    for i in range(dim):\n",
    "        for j in range(dim):\n",
    "            h_add = np.zeros(shape=(dim, dim))\n",
    "            h_add[i, j] = h\n",
    "            partial = (jnp.sum(lmbda * ((V + h_add).T @ (V + h_add) - np.eye(dim))) - jnp.sum(lmbda * (V.T @ V - np.eye(dim))))/h\n",
    "            res[i, j] = partial\n",
    "            \n",
    "    return res\n",
    "\n",
    "predicted_g_const = V @ (lmbda + lmbda.T) \n",
    "\n",
    "print(predicted_g_const)\n",
    "g_const(V, 0.001)\n"
   ]
  },
  {
   "cell_type": "code",
   "execution_count": 5,
   "metadata": {},
   "outputs": [
    {
     "name": "stdout",
     "output_type": "stream",
     "text": [
      "[[-10.   0.   0.   0.]\n",
      " [  0. -64.   0.   0.]\n",
      " [  0.   0. -98.   0.]\n",
      " [  0.   0.   0. 800.]]\n"
     ]
    }
   ],
   "source": [
    "def constraint_grad(V, lmbda):\n",
    "    return V @ (lmbda + lmbda.T)\n",
    "\n",
    "def obj_grad(D, V, Sigma):\n",
    "    return 2 * D @ V @ Sigma**2\n",
    "\n",
    "\n",
    "V = jnp.eye(dim)\n",
    "\n",
    "print(obj_grad(D, V, Sigma))"
   ]
  },
  {
   "cell_type": "code",
   "execution_count": 50,
   "metadata": {},
   "outputs": [],
   "source": [
    "def orthog_linesearch(l, c1, c2):\n",
    "\n",
    "    def helper(X, search_direction, A):\n",
    "        f0 = l(X)\n",
    "        g_tau_0 = -1/2 * jnp.linalg.norm(A, \"fro\")**2\n",
    "        \n",
    "        def armijo_rule(alpha):\n",
    "            return (l(search_direction(alpha)) > f0 + c1*alpha*g_tau_0) # and alpha > 0.001\n",
    "        \n",
    "        def armijo_update(alpha):\n",
    "            return c2*alpha\n",
    "            \n",
    "        alpha = 1\n",
    "        while armijo_rule(alpha):\n",
    "            alpha = armijo_update(alpha)\n",
    "\n",
    "\n",
    "        return alpha\n",
    "\n",
    "    return helper\n",
    "\n",
    "\n",
    "def optimize_V(D, sing_vals, num_iter, x_init=None):\n",
    "    \"\"\"Constraint is V.c = \\bar{c} 1 and V.V^T = I\"\"\"\n",
    "    \n",
    "    dim = D.shape[0]\n",
    "        \n",
    "    # init X\n",
    "    if x_init is None:\n",
    "        X = jnp.eye(dim)\n",
    "    else:\n",
    "        X = x_init\n",
    "    I = jnp.eye(dim)\n",
    "    \n",
    "\n",
    "    \n",
    "    def l(V):\n",
    "        V_matrix = V.reshape(dim, dim)\n",
    "        return jnp.trace(sing_vals @ V_matrix.T @ D @ V_matrix @ sing_vals)**2\n",
    "    \n",
    "    \n",
    "    g_l = grad(l)\n",
    "    linesearch = orthog_linesearch(l, c1=0.1, c2=0.9)\n",
    "\n",
    "\n",
    "    eps = 1e-15\n",
    "    \n",
    "    l_hist = []\n",
    "    for _ in tqdm(range(num_iter)):\n",
    "\n",
    "        num_iter -= 1\n",
    "        \n",
    "        G = g_l(X).reshape(dim, dim)\n",
    "        l_hist.append(l(X))\n",
    "#         print(jnp.linalg.norm(G))\n",
    "        \n",
    "        if jnp.linalg.norm(G) < eps:\n",
    "            break\n",
    "        \n",
    "        A = G @ X.reshape(dim, dim).T - X.reshape(dim, dim) @ G.T\n",
    "                \n",
    "        Y = lambda tau: jnp.linalg.inv(I + tau/2 * A) @ (I - tau/2 * A) @ X.reshape(dim, dim)\n",
    "        \n",
    "        alpha = linesearch(X, Y, A)\n",
    "#         print(alpha)\n",
    "        \n",
    "        X = Y(alpha)\n",
    "        \n",
    "        \n",
    "    return X, l_hist\n",
    "        \n",
    "    \n",
    "\n"
   ]
  },
  {
   "cell_type": "code",
   "execution_count": 241,
   "metadata": {},
   "outputs": [
    {
     "name": "stderr",
     "output_type": "stream",
     "text": [
      "100%|██████████| 100/100 [00:02<00:00, 44.77it/s]\n"
     ]
    }
   ],
   "source": [
    "jrandom_key = jrandom.PRNGKey(1)\n",
    "jrandom_key, subkey = jrandom.split(jrandom_key)\n",
    "\n",
    "dim = 4\n",
    "\n",
    "\n",
    "D = jnp.diag(jnp.array([-8, 2, 4, 6]))\n",
    "\n",
    "\n",
    "x_init = jrandom.normal(subkey, shape=(4, 4))\n",
    "_, x_init = jnp.linalg.eig(x_init + x_init.T)\n",
    "x_init = jnp.real(x_init)\n",
    "\n",
    "sing_vals = jnp.diag(jnp.array([0.3845, 0.31380567, 0.31380567, 0.31380567])) # jnp.diag(jnp.linspace(1, 10, 4))\n",
    "V, l_hist = optimize_V(D, sing_vals, num_iter=100, x_init=V)"
   ]
  },
  {
   "cell_type": "code",
   "execution_count": 242,
   "metadata": {},
   "outputs": [
    {
     "data": {
      "text/plain": [
       "[<matplotlib.lines.Line2D at 0x7fa610fa26d8>]"
      ]
     },
     "execution_count": 242,
     "metadata": {},
     "output_type": "execute_result"
    },
    {
     "data": {
      "image/png": "[encoded data removed]",
      "text/plain": [
       "<Figure size 864x864 with 1 Axes>"
      ]
     },
     "metadata": {},
     "output_type": "display_data"
    }
   ],
   "source": [
    "plt.plot(l_hist)"
   ]
  },
  {
   "cell_type": "code",
   "execution_count": 217,
   "metadata": {},
   "outputs": [
    {
     "data": {
      "text/plain": [
       "DeviceArray(-7.97905416, dtype=float64)"
      ]
     },
     "execution_count": 217,
     "metadata": {},
     "output_type": "execute_result"
    }
   ],
   "source": [
    "l1, l2 = 0.3845**2, 0.31380567**2\n",
    "\n",
    "- l2 / (l1 - l2) * jnp.sum(D)\n"
   ]
  },
  {
   "cell_type": "code",
   "execution_count": 343,
   "metadata": {},
   "outputs": [],
   "source": [
    "import sympy\n",
    "from sympy import symbols, Sum, solve, solve_poly_system, Symbol\n",
    "from sympy.abc import i, j\n",
    "\n",
    "dim = 4\n",
    "a, b, l = symbols(\"a b l\")\n",
    "\n",
    "D = [1, 2, 3, 4]\n",
    "sig = 1\n",
    "\n",
    "# def a_const(a, b, l, D, sig, dim):\n",
    "#     return sum([D[i] / (a * D[i] / l + b)**0.5 for i in range(1, dim)])  + D[0] * l - a\n",
    "\n",
    "# def b_const(a, b, l, D, sig, dim):\n",
    "#     return sum([1 / (a * D[i] / l + b)**0.5 for i in range(1, dim)]) + l - b\n",
    "\n",
    "def create_a(lmbdas, D, sig, dim):\n",
    "    return sum([lmbdas[i] * D[i] for i in range(dim)])\n",
    "\n",
    "def create_b(lmbdas, D, sig, dim):\n",
    "    return sum(lmbdas)\n",
    "\n",
    "def li_const(lmbdas, D, sig, dim):\n",
    "    res = []\n",
    "    a, b = create_a(lmbdas, D, sig, dim), create_b(lmbdas, D, sig, dim)\n",
    "    for i in range(1, dim):\n",
    "        res.append(a * D[i] * lmbdas[i]**2 - lmbdas[0] * sig**2 + lmbdas[0] * lmbdas[i]**2 * b)\n",
    "        \n",
    "    return res\n",
    "\n",
    "\n",
    "\n",
    "def l_const(lmbdas, D, sig, dim):\n",
    "    a, b = create_a(lmbdas, D, sig, dim), create_b(lmbdas, D, sig, dim)\n",
    "    return a * D[0] * lmbdas[0] - 1/2 * a**2 * dim - sig**2 * (1 + dim) + b * lmbdas[0]**2\n",
    "\n"
   ]
  },
  {
   "cell_type": "code",
   "execution_count": 285,
   "metadata": {},
   "outputs": [],
   "source": [
    "import scipy\n"
   ]
  },
  {
   "cell_type": "code",
   "execution_count": 335,
   "metadata": {},
   "outputs": [
    {
     "data": {
      "text/plain": [
       "      fun: 335.98001752876155\n",
       " hess_inv: <7x7 LbfgsInvHessProduct with dtype=float64>\n",
       "      jac: array([-1.13686838e-05,  3.41060513e-05,  4.54747351e-05, -2.04636308e-04,\n",
       "        1.30739863e-03, -1.04591891e-03, -2.85353963e-03])\n",
       "  message: b'CONVERGENCE: REL_REDUCTION_OF_F_<=_FACTR*EPSMCH'\n",
       "     nfev: 776\n",
       "      nit: 66\n",
       "   status: 0\n",
       "  success: True\n",
       "        x: array([5.45682843, 0.18171607, 0.15926818, 0.14350165, 0.03286495,\n",
       "       0.01477448, 0.01477448])"
      ]
     },
     "execution_count": 335,
     "metadata": {},
     "output_type": "execute_result"
    }
   ],
   "source": [
    "def get_lambda_tilde(D, sig, coeff, eps_bound=1e-5):\n",
    "    dim = len(D)\n",
    "    lmbdas_init = np.ones(dim)\n",
    "    bounds = tuple((eps_bound, None) for _ in range(7))\n",
    "    \n",
    "    def fun(lmbdas):\n",
    "    \n",
    "        a = (D @ lmbdas)**2\n",
    "        b = np.sum(lmbdas)**2\n",
    "        return a * D[0] / lmbdas[0] + dim/lmbdas[0] + np.sum(1/lmbdas) + b\n",
    "\n",
    "\n",
    "    return scipy.optimize.minimize(fun, lmbdas_init, bounds=bounds)[-1]\n",
    "\n"
   ]
  },
  {
   "cell_type": "code",
   "execution_count": 221,
   "metadata": {},
   "outputs": [
    {
     "data": {
      "text/plain": [
       "DeviceArray(-0.00103402, dtype=float64)"
      ]
     },
     "execution_count": 221,
     "metadata": {},
     "output_type": "execute_result"
    }
   ],
   "source": [
    "jnp.trace(D @ sing_vals**2)"
   ]
  },
  {
   "cell_type": "code",
   "execution_count": 232,
   "metadata": {},
   "outputs": [
    {
     "data": {
      "text/plain": [
       "DeviceArray(0.00102152, dtype=float64)"
      ]
     },
     "execution_count": 232,
     "metadata": {},
     "output_type": "execute_result"
    }
   ],
   "source": [
    "jnp.trace(sing_vals @ V.T @ D @ V @ sing_vals)"
   ]
  },
  {
   "cell_type": "code",
   "execution_count": 222,
   "metadata": {},
   "outputs": [
    {
     "data": {
      "text/plain": [
       "DeviceArray(4, dtype=int64)"
      ]
     },
     "execution_count": 222,
     "metadata": {},
     "output_type": "execute_result"
    }
   ],
   "source": [
    "jnp.trace(D)"
   ]
  },
  {
   "cell_type": "code",
   "execution_count": 209,
   "metadata": {},
   "outputs": [
    {
     "data": {
      "text/plain": [
       "DeviceArray([-1.1887242 ,  0.20395385,  0.39391383,  0.59085653], dtype=float64)"
      ]
     },
     "execution_count": 209,
     "metadata": {},
     "output_type": "execute_result"
    }
   ],
   "source": [
    "jnp.diag(V @ sing_vals**2 @ V.T) @ D"
   ]
  },
  {
   "cell_type": "code",
   "execution_count": 120,
   "metadata": {},
   "outputs": [
    {
     "data": {
      "text/plain": [
       "DeviceArray([[-6.04395318e-04, -7.33806400e+00, -2.66855992e-01,\n",
       "              -2.39447561e+00],\n",
       "             [-3.75114464e-01, -1.62121944e-01, -7.25142677e-02,\n",
       "              -3.90249324e-01],\n",
       "             [ 2.43230742e+00,  4.15342351e-01,  1.10675812e-02,\n",
       "               1.14128265e+00],\n",
       "             [ 1.00489444e-01,  1.41641227e-03,  5.38819943e+00,\n",
       "               5.09894717e-01]], dtype=float64)"
      ]
     },
     "execution_count": 120,
     "metadata": {},
     "output_type": "execute_result"
    }
   ],
   "source": [
    "D @ V.T**2"
   ]
  },
  {
   "cell_type": "code",
   "execution_count": 124,
   "metadata": {},
   "outputs": [],
   "source": [
    "opt_S = jnp.array([[ 0.18485299,  0.10271554,  0.19002096, -0.17424537],\n",
    "             [-0.17968624, -0.28818813,  0.05176045, -0.16439829],\n",
    "             [ 0.01850348, -0.10782008, -0.29744189, -0.22187165],\n",
    "             [-0.24920671,  0.15387037, -0.0405629 , -0.14929455]])"
   ]
  },
  {
   "cell_type": "code",
   "execution_count": 125,
   "metadata": {},
   "outputs": [
    {
     "data": {
      "text/plain": [
       "(DeviceArray([[-0.32322302,  0.29401706, -0.78044825,  0.44719277],\n",
       "              [ 0.61855465, -0.63501181, -0.28772344,  0.36244359],\n",
       "              [ 0.64851522,  0.52542883, -0.32530302, -0.44444404],\n",
       "              [ 0.30388325,  0.48398194,  0.44977071,  0.68638383]],            dtype=float64),\n",
       " DeviceArray([0.46924893, 0.31380567, 0.31380567, 0.31380567], dtype=float64),\n",
       " DeviceArray([[-0.49999999, -0.50000001, -0.49999999, -0.50000001],\n",
       "              [ 0.18343688,  0.73619347, -0.48729313, -0.43233724],\n",
       "              [-0.67134978,  0.34108657, -0.26984688,  0.60011006],\n",
       "              [-0.51540313,  0.30278558,  0.66311996, -0.45050241]],            dtype=float64))"
      ]
     },
     "execution_count": 125,
     "metadata": {},
     "output_type": "execute_result"
    }
   ],
   "source": [
    "jnp.linalg.svd(opt_S)"
   ]
  },
  {
   "cell_type": "code",
   "execution_count": 122,
   "metadata": {},
   "outputs": [],
   "source": [
    "new_V = jnp.array([[-0.32322302,  0.29401706, -0.78044825,  0.44719277],\n",
    "                   [ 0.61855465, -0.63501181, -0.28772344,  0.36244359],\n",
    "                   [ 0.64851522,  0.52542883, -0.32530302, -0.44444404],\n",
    "                   [ 0.30388325,  0.48398194,  0.44977071,  0.68638383]])"
   ]
  },
  {
   "cell_type": "code",
   "execution_count": 123,
   "metadata": {},
   "outputs": [
    {
     "data": {
      "text/plain": [
       "DeviceArray([[-1.04473121, -0.38260986,  1.68228796,  0.55407018],\n",
       "             [-0.86446032, -0.40324   ,  1.10430182,  1.40543111],\n",
       "             [-6.09099471, -0.08278478,  0.42328822,  1.21376215],\n",
       "             [-1.99981374, -0.13136536,  0.79012202,  2.82673657]],            dtype=float64)"
      ]
     },
     "execution_count": 123,
     "metadata": {},
     "output_type": "execute_result"
    }
   ],
   "source": [
    "new_V.T**2 @ D"
   ]
  },
  {
   "cell_type": "code",
   "execution_count": 166,
   "metadata": {},
   "outputs": [
    {
     "data": {
      "text/plain": [
       "DeviceArray(0.21275542, dtype=float64)"
      ]
     },
     "execution_count": 166,
     "metadata": {},
     "output_type": "execute_result"
    }
   ],
   "source": [
    "jnp.trace(new_V.T @ D @ new_V @ sing_vals**2)"
   ]
  },
  {
   "cell_type": "code",
   "execution_count": 143,
   "metadata": {},
   "outputs": [],
   "source": [
    "def loss_getter(dim, N, H, sig):\n",
    "    def helper(X):\n",
    "\n",
    "        S = X.reshape(N, dim).T\n",
    "        \n",
    "        S_inv = jnp.linalg.inv(S)\n",
    "        \n",
    "        first_term = S_inv.T @ jnp.diag(S.T @ H @ S)\n",
    "        second_term = jnp.linalg.norm(S_inv, ord=\"fro\")**2\n",
    "        third_term = S_inv.T @ jnp.ones(dim)\n",
    "        third_term = jnp.linalg.norm(third_term)**2\n",
    "        print(jnp.linalg.norm(S)**2)\n",
    "        return 1/2 * jnp.linalg.norm(first_term)**2 + sig**2 * (second_term + third_term) + jnp.linalg.norm(S)**4\n",
    "\n",
    "    return helper"
   ]
  },
  {
   "cell_type": "code",
   "execution_count": 144,
   "metadata": {},
   "outputs": [
    {
     "name": "stdout",
     "output_type": "stream",
     "text": [
      "0.5156165513454362\n",
      "0.7975812929443182\n",
      "Traced<ConcreteArray(0.5156165513454362)>with<JVPTrace(level=2/0)>\n",
      "  with primal = DeviceArray(0.51561655, dtype=float64)\n",
      "       tangent = Traced<ShapedArray(float64[]):JaxprTrace(level=1/0)>\n"
     ]
    },
    {
     "data": {
      "text/plain": [
       "DeviceArray([ 1.69034499e-07, -1.30584488e-08, -1.04445054e-08,\n",
       "              1.88024357e-07, -2.44826198e-08, -2.53661010e-08,\n",
       "             -6.77335774e-09,  2.31429744e-08, -2.84264022e-07,\n",
       "             -7.16226371e-09, -1.36367292e-07, -4.34417252e-08,\n",
       "              1.21570460e-07,  1.68629482e-08, -6.96805146e-08,\n",
       "             -4.80161875e-08], dtype=float64)"
      ]
     },
     "execution_count": 144,
     "metadata": {},
     "output_type": "execute_result"
    }
   ],
   "source": [
    "l = loss_getter(dim, dim, D, 0.1)\n",
    "print(l(opt_S.T.flatten()))\n",
    "grad(l)(opt_S.T.flatten())"
   ]
  },
  {
   "cell_type": "code",
   "execution_count": 135,
   "metadata": {},
   "outputs": [
    {
     "data": {
      "text/plain": [
       "DeviceArray(0.58020651, dtype=float64)"
      ]
     },
     "execution_count": 135,
     "metadata": {},
     "output_type": "execute_result"
    }
   ],
   "source": [
    "sig = 0.1\n",
    "\n",
    "sig**2 * jnp.sum(1/jnp.diag(sing_vals)**2) + 4 * sig**2/jnp.max(jnp.diag(sing_vals))**2 + jnp.max(jnp.diag(sing_vals))**4\n",
    "\n"
   ]
  },
  {
   "cell_type": "code",
   "execution_count": 136,
   "metadata": {},
   "outputs": [
    {
     "data": {
      "text/plain": [
       "DeviceArray(35.00633304, dtype=float64)"
      ]
     },
     "execution_count": 136,
     "metadata": {},
     "output_type": "execute_result"
    }
   ],
   "source": [
    "jnp.sum(1/jnp.diag(sing_vals)**2)"
   ]
  },
  {
   "cell_type": "code",
   "execution_count": 141,
   "metadata": {},
   "outputs": [
    {
     "data": {
      "text/plain": [
       "DeviceArray(0.46924893, dtype=float64)"
      ]
     },
     "execution_count": 141,
     "metadata": {},
     "output_type": "execute_result"
    }
   ],
   "source": [
    "jnp.max(jnp.diag(sing_vals))"
   ]
  },
  {
   "cell_type": "code",
   "execution_count": 142,
   "metadata": {},
   "outputs": [
    {
     "data": {
      "text/plain": [
       "DeviceArray([[0.46924893, 0.        , 0.        , 0.        ],\n",
       "             [0.        , 0.31380567, 0.        , 0.        ],\n",
       "             [0.        , 0.        , 0.31380567, 0.        ],\n",
       "             [0.        , 0.        , 0.        , 0.31380567]],            dtype=float64)"
      ]
     },
     "execution_count": 142,
     "metadata": {},
     "output_type": "execute_result"
    }
   ],
   "source": [
    "sing_vals"
   ]
  },
  {
   "cell_type": "code",
   "execution_count": 145,
   "metadata": {},
   "outputs": [
    {
     "data": {
      "text/plain": [
       "(DeviceArray([[-0.32322302,  0.29401706, -0.78044825,  0.44719277],\n",
       "              [ 0.61855465, -0.63501181, -0.28772344,  0.36244359],\n",
       "              [ 0.64851522,  0.52542883, -0.32530302, -0.44444404],\n",
       "              [ 0.30388325,  0.48398194,  0.44977071,  0.68638383]],            dtype=float64),\n",
       " DeviceArray([0.46924893, 0.31380567, 0.31380567, 0.31380567], dtype=float64),\n",
       " DeviceArray([[-0.49999999, -0.50000001, -0.49999999, -0.50000001],\n",
       "              [ 0.18343688,  0.73619347, -0.48729313, -0.43233724],\n",
       "              [-0.67134978,  0.34108657, -0.26984688,  0.60011006],\n",
       "              [-0.51540313,  0.30278558,  0.66311996, -0.45050241]],            dtype=float64))"
      ]
     },
     "execution_count": 145,
     "metadata": {},
     "output_type": "execute_result"
    }
   ],
   "source": [
    "jnp.linalg.svd(opt_S)"
   ]
  },
  {
   "cell_type": "code",
   "execution_count": null,
   "metadata": {},
   "outputs": [],
   "source": []
  }
 ],
 "metadata": {
  "kernelspec": {
   "display_name": "Python3 (new_adv)",
   "language": "python",
   "name": "new_adv"
  },
  "language_info": {
   "codemirror_mode": {
    "name": "ipython",
    "version": 3
   },
   "file_extension": ".py",
   "mimetype": "text/x-python",
   "name": "python",
   "nbconvert_exporter": "python",
   "pygments_lexer": "ipython3",
   "version": "3.6.8"
  }
 },
 "nbformat": 4,
 "nbformat_minor": 2
}
