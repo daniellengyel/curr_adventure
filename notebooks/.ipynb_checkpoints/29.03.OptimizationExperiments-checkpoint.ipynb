{
 "cells": [
  {
   "cell_type": "code",
   "execution_count": 1,
   "metadata": {},
   "outputs": [],
   "source": [
    "import jax.numpy as jnp\n",
    "import jax.random as jrandom\n",
    "\n",
    "import matplotlib.pyplot as plt\n",
    "import pandas as pd\n",
    "from jax import jit, grad, jacfwd, jacrev\n",
    "\n",
    "\n",
    "\n",
    "from scipy.stats import linregress\n",
    "\n",
    "from tqdm import tqdm\n",
    "import pickle\n",
    "\n",
    "import numpy as np\n",
    "\n",
    "from jax.config import config\n",
    "config.update(\"jax_enable_x64\", True)\n",
    "\n",
    "import matplotlib.pyplot as plt\n",
    "\n",
    "%matplotlib inline\n",
    "plt.rcParams['figure.figsize'] = [12,12]\n",
    "plt.style.use('ggplot')\n",
    "plt.rcParams['lines.markersize'] = 8\n",
    "plt.rcParams.update({'font.size': 12})"
   ]
  },
  {
   "cell_type": "code",
   "execution_count": 3,
   "metadata": {},
   "outputs": [],
   "source": [
    "adapt_functions = [\"AIRCRFTB\", \"ALLINITU\", \"ARWHEAD\", \"BARD\", \"BDQRTIC\", \"BIGGS3\", \"BIGGS5\", \"BIGGS6\", \"BOX2\", \"BOX3\", \"BRKMCC\", \"BROWNAL\", \"BROWNDEN\", \"CLIFF\", \"CRAGGLVY\", \"CUBE\", \"DENSCHND\", \"DENSCHNE\", \"DIXMAANH\", \"DQRTIC\", \"EDENSCH\", \"EIGENALS\", \"EIGENBLS\", \"EIGENCLS\", \"ENGVAL1\", \"EXPFIT\", \"FLETCBV3\", \"FLETCHBV\", \"FREUROTH\", \"GENROSE\", \"GULF\", \"HAIRY\", \"HELIX\", \"NCB20B\", \"NONDIA\", \"NONDQUAR\", \"OSBORNEA\", \"OSBORNEB\", \"PENALTY1\", \"PFIT1LS\", \"PFIT2LS\", \"PFIT3LS\", \"PFIT4LS\", \"QUARTC\", \"SINEVAL\", \"SINQUAD\", \"SISSER\", \"SPARSQUR\", \"TOINTGSS\", \"TQUARTIC\", \"TRIDIA\", \"WATSON\", \"WOODS\", \"ZANGWIL\"]\n"
   ]
  },
  {
   "cell_type": "code",
   "execution_count": null,
   "metadata": {},
   "outputs": [],
   "source": [
    "eps = 0.1\n",
    "noise_type = \"uniform\"\n",
    "c1 = 0.1\n",
    "c2 = 0.9\n",
    "seed = 0\n",
    "sig = 0.05773502691896258\n",
    "\n",
    "\n",
    "for i in range(len(adapt_functions)):\n",
    "    test_problem_name = adapt_functions[i]\n",
    "    \n",
    "    \n",
    "    our_method = load_opt(\"OurMethod\", test_problem_name, sig, noise_type, c1, c2, seed)\n",
    "    adapt_fd = load_opt(\"AdaptFD\", test_problem_name, sig, noise_type, c1, c2, seed)"
   ]
  }
 ],
 "metadata": {
  "kernelspec": {
   "display_name": "Python3 (new_adv)",
   "language": "python",
   "name": "new_adv"
  },
  "language_info": {
   "codemirror_mode": {
    "name": "ipython",
    "version": 3
   },
   "file_extension": ".py",
   "mimetype": "text/x-python",
   "name": "python",
   "nbconvert_exporter": "python",
   "pygments_lexer": "ipython3",
   "version": "3.6.8"
  }
 },
 "nbformat": 4,
 "nbformat_minor": 2
}
