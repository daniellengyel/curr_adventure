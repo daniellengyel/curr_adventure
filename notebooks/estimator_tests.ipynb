{
 "cells": [
  {
   "cell_type": "code",
   "execution_count": 1,
   "metadata": {},
   "outputs": [],
   "source": [
    "import curr_adventure as cad \n",
    "import jax.numpy as jnp\n",
    "from jax import random as jrandom\n",
    "\n",
    "from curr_adventure.derivative_estimation.one_E_zero import FD_1E0, SD_1E0\n",
    "from utils import run_tests, mse_loss\n",
    "\n",
    "from scipy.stats import linregress\n",
    "import pandas as pd\n",
    "\n",
    "import matplotlib.pyplot as plt\n",
    "from tqdm import tqdm \n",
    "\n",
    "%matplotlib inline\n",
    "plt.rcParams['figure.figsize'] = [12,8]\n",
    "plt.style.use('ggplot')\n",
    "plt.rcParams['lines.markersize'] = 8\n",
    "plt.rcParams.update({'font.size': 12})\n",
    "\n",
    "from jax.config import config\n",
    "config.update(\"jax_enable_x64\", True)\n",
    "\n",
    "%load_ext autoreload\n",
    "\n",
    "%autoreload 2"
   ]
  },
  {
   "cell_type": "code",
   "execution_count": 34,
   "metadata": {},
   "outputs": [],
   "source": [
    "jrandom_key_w = jrandom.PRNGKey(1)\n",
    "barrier_multiplier = 5\n",
    "\n",
    "def LogPolytopeGetter(dim, noise=0):\n",
    "    b = jnp.ones(dim*barrier_multiplier)\n",
    "    w = jrandom.normal(jrandom_key_w, shape=(dim*barrier_multiplier, dim,)).dot(jnp.diag(jnp.linspace(0.1, 5, dim)))\n",
    "#     w /= jnp.linalg.norm(w, axis=1).reshape(-1, 1)\n",
    "    return cad.Barriers.LogPolytopeBarrier(w, b, noise)\n",
    "\n",
    "funcs = {\n",
    "    \"LogPolytope\": lambda dim: LogPolytopeGetter(dim, 0.001),\n",
    "}\n",
    "\n",
    "def config_creator(F, x_0, h, num_samples, hessian_geometry):\n",
    "    config = {}\n",
    "    config[\"N\"] = num_samples\n",
    "    config[\"h\"] = h\n",
    "    if hessian_geometry:\n",
    "        config[\"cov\"] = jnp.linalg.inv(F.f2(x_0.reshape(1, -1))[0])\n",
    "#         print(jnp.linalg.eig(config[\"cov\"]))\n",
    "    else:\n",
    "        config[\"cov\"] = jnp.eye(x_0.shape[0])\n",
    "\n",
    "\n",
    "    config[\"sample_subspace_basis\"] = None\n",
    "    config[\"F\"] = F\n",
    "#     config[\"distribution_name\"] = \"beta\"\n",
    "    config[\"is_uniform_sphere_random\"] = False\n",
    "    return config\n",
    "    \n",
    "\n",
    "fd_estimator = lambda F, x_0, h, num_samples, subkey: SD_1E0(F, x_0, config_creator(F, x_0, h, num_samples, False), subkey, sample_based=True)\n",
    "sd_estimator = lambda F, x_0, h, num_samples, subkey: SD_1E0(F, x_0, config_creator(F, x_0, h, num_samples, True), subkey, sample_based=True)\n",
    "\n",
    "\n",
    "\n",
    "\n",
    "seed = 0\n",
    "\n",
    "standard_deviations = list(jnp.logspace(1.2, -5, 50)) # [100, 10, 1, 0.25, 0.1] \n",
    "dimensions = [500] # jnp.linspace(10, 200, 11, dtype=int) # [10] # [100] #\n",
    "\n",
    "\n",
    "\n",
    "\n"
   ]
  },
  {
   "cell_type": "code",
   "execution_count": 35,
   "metadata": {
    "scrolled": true
   },
   "outputs": [
    {
     "name": "stderr",
     "output_type": "stream",
     "text": [
      "100%|██████████| 1/1 [00:05<00:00,  5.62s/it]\n",
      "100%|██████████| 1/1 [00:07<00:00,  7.41s/it]\n"
     ]
    }
   ],
   "source": [
    "FD_logs = []\n",
    "SD_logs = []\n",
    "SSD_logs = []\n",
    "x = 0.1\n",
    "x_0_generator = lambda dim: x*jnp.ones(dim)/jnp.linalg.norm(jnp.ones(dim))\n",
    "\n",
    "frac_samples = [2] # list(jnp.logspace(0.1, 1.5, 3))\n",
    "num_runs = 1\n",
    "\n",
    "FD_logs = run_tests(fd_estimator, funcs, x_0_generator, standard_deviations, dimensions, frac_samples, num_runs, seed, loss_type=\"MSE\")\n",
    " \n",
    "SD_logs = run_tests(sd_estimator, funcs, x_0_generator, standard_deviations, dimensions, frac_samples, num_runs, seed, loss_type=\"MSE\")\n",
    "    "
   ]
  },
  {
   "cell_type": "code",
   "execution_count": 36,
   "metadata": {},
   "outputs": [
    {
     "name": "stdout",
     "output_type": "stream",
     "text": [
      "FD\n"
     ]
    },
    {
     "data": {
      "image/png": "[encoded data removed]",
      "text/plain": [
       "<Figure size 432x288 with 1 Axes>"
      ]
     },
     "metadata": {
      "needs_background": "light"
     },
     "output_type": "display_data"
    },
    {
     "name": "stdout",
     "output_type": "stream",
     "text": [
      "SD\n"
     ]
    },
    {
     "data": {
      "image/png": "[encoded data removed]",
      "text/plain": [
       "<Figure size 432x288 with 1 Axes>"
      ]
     },
     "metadata": {
      "needs_background": "light"
     },
     "output_type": "display_data"
    }
   ],
   "source": [
    "\n",
    "\n",
    "FD_means = FD_logs.mean_std()[0]\n",
    "FD_std = FD_logs.mean_std()[1]\n",
    "\n",
    "SD_means = SD_logs.mean_std()[0]\n",
    "SD_std = SD_logs.mean_std()[1]\n",
    "\n",
    "\n",
    "col_key = \"std\"\n",
    "\n",
    "def plot_feature_loss(df_means, df_std, col_key, xscale=None, namename=None):\n",
    "    df_means = df_means.stack().unstack(col_key)\n",
    "    df_std = df_std.stack().unstack(col_key)\n",
    "    for i in range(len(df_means)):\n",
    "        idx = df_means.index[i]\n",
    "#         slope, intercept, _, _, _ = linregress(jnp.log(df_means.columns.values), jnp.log(df_means.loc[idx].values))\n",
    "#         plt.errorbar(df_means.columns.values, df_means.loc[idx].values, df_std.loc[idx].values, fmt='-o', capsize=5, label=str(idx) + \"; slope:{:.2f}; intercept:{:.2f}\".format(slope, intercept))\n",
    "        plt.scatter(x=jnp.log(df_means.columns.values), y=jnp.log(df_means.loc[idx].values))\n",
    "\n",
    "\n",
    "#     if xscale is not None:\n",
    "#         plt.xscale(xscale)\n",
    "#     plt.yscale(\"log\")\n",
    "    plt.xlabel(col_key)\n",
    "    plt.ylabel(\"Loss Val\")\n",
    "    plt.yticks(jnp.arange(int(jnp.nanmin(jnp.log(df_means.values))) - 1, int(jnp.nanmax(jnp.log(df_means.values))) + 1, step=1))\n",
    "#     plt.legend()\n",
    "#     plt.savefig(\"figs/{}\".format(namename))\n",
    "    plt.show()\n",
    "\n",
    "\n",
    "        \n",
    "name = \"QuarticDegenerate_dimension\"\n",
    "print(\"FD\")\n",
    "plot_feature_loss(FD_means, FD_std, col_key, \"log\", \"FD_{}\".format(name))\n",
    "print(\"SD\")\n",
    "plot_feature_loss(SD_means, SD_std, col_key, \"log\", \"Gauss_{}\".format(name))\n",
    "# print(\"SSD\")\n",
    "# plot_feature_loss(SSD_means, SSD_std, col_key, \"log\", \"MC Gauss_{}\".format(name))\n",
    "    "
   ]
  },
  {
   "cell_type": "code",
   "execution_count": 107,
   "metadata": {},
   "outputs": [
    {
     "name": "stdout",
     "output_type": "stream",
     "text": [
      "Noise Loss [9.917318181498427]\n",
      "Bias [3.0284402787135807e-06]\n",
      "Total Loss [9.917368824985688]\n"
     ]
    }
   ],
   "source": [
    "dim = 50\n",
    "F = LogPolytopeGetter(dim, 0)\n",
    "F_noise = LogPolytopeGetter(dim, 0.1)\n",
    "x_0 = x_0_generator(dim)\n",
    "G = F.f1(x_0)\n",
    "\n",
    "std = 0.007\n",
    "\n",
    "jrandom_key, subkey = jrandom.split(jrandom_key)\n",
    "G_approx_noise = FD_1E0(F_noise, x_0, std, 10, subkey)\n",
    "G_approx = FD_1E0(F, x_0, std, 1, subkey)\n",
    "\n",
    "print(\"Noise Loss\", mse_loss(jnp.zeros(dim), G_approx_noise - G_approx))\n",
    "print(\"Bias\", mse_loss(G, G_approx))\n",
    "print(\"Total Loss\", mse_loss(G, G_approx_noise))\n"
   ]
  },
  {
   "cell_type": "code",
   "execution_count": 114,
   "metadata": {},
   "outputs": [
    {
     "name": "stdout",
     "output_type": "stream",
     "text": [
      "Noise Loss [148.77960532977582]\n",
      "Bias/Variance [0.1267893559267794]\n",
      "Total Loss [147.42151832990658]\n"
     ]
    }
   ],
   "source": [
    "jrandom_key, subkey = jrandom.split(jrandom_key)\n",
    "G_approx_noise = SD_1E0(F_noise, x_0, config_creator(F, x_0, std, dim*20), subkey, sample_based=True)\n",
    "G_approx = SD_1E0(F, x_0, config_creator(F, x_0, std, dim*20), subkey, sample_based=True)\n",
    "\n",
    "print(\"Noise Loss\", mse_loss(jnp.zeros(dim), G_approx_noise - G_approx))\n",
    "print(\"Bias/Variance\", mse_loss(G, G_approx))\n",
    "print(\"Total Loss\", mse_loss(G, G_approx_noise))\n"
   ]
  },
  {
   "cell_type": "code",
   "execution_count": 113,
   "metadata": {},
   "outputs": [
    {
     "name": "stdout",
     "output_type": "stream",
     "text": [
      "Noise Loss [0.20188592356462062]\n",
      "Bias/Variance [48.03205479591352]\n",
      "Total Loss [49.18580277368678]\n"
     ]
    }
   ],
   "source": [
    "jrandom_key, subkey = jrandom.split(jrandom_key)\n",
    "G_approx_noise = SD_1E0(F_noise, x_0, config_creator(F, x_0, std, dim*20, True), subkey, sample_based=True)\n",
    "G_approx = SD_1E0(F, x_0, config_creator(F, x_0, std, dim*20, True), subkey, sample_based=True)\n",
    "\n",
    "print(\"Noise Loss\", mse_loss(jnp.zeros(dim), G_approx_noise - G_approx))\n",
    "print(\"Bias/Variance\", mse_loss(G, G_approx))\n",
    "print(\"Total Loss\", mse_loss(G, G_approx_noise))\n"
   ]
  },
  {
   "cell_type": "code",
   "execution_count": 47,
   "metadata": {},
   "outputs": [
    {
     "name": "stdout",
     "output_type": "stream",
     "text": [
      "[[0.20885898 0.05499809]\n",
      " [0.05499809 0.09581994]]\n",
      "[[0.20885898 0.05499809]\n",
      " [0.05499809 0.09581994]]\n",
      "[0.23120166+0.j 0.07347726+0.j]\n"
     ]
    },
    {
     "data": {
      "text/plain": [
       "<matplotlib.collections.PathCollection at 0x7fdb69200160>"
      ]
     },
     "execution_count": 47,
     "metadata": {},
     "output_type": "execute_result"
    },
    {
     "data": {
      "image/png": "[encoded data removed]",
      "text/plain": [
       "<Figure size 864x576 with 1 Axes>"
      ]
     },
     "metadata": {},
     "output_type": "display_data"
    }
   ],
   "source": [
    "def generate_ellipse(dim, N, ellipse_M, is_uniform_sphere_random, jrandom_key): \n",
    "\n",
    "    # generate points on the sphere\n",
    "    if is_uniform_sphere_random:\n",
    "        dirs = jrandom.normal(jrandom_key, shape=(N, dim)) \n",
    "        dirs = dirs/jnp.linalg.norm(dirs, axis=1).reshape(-1, 1) * jnp.sqrt(dim)\n",
    "    else:\n",
    "        forwardX = jnp.eye(dim)\n",
    "        backwardX = -jnp.eye(dim)\n",
    "\n",
    "        num_dir_samples = N // (2 * dim)\n",
    "        if num_dir_samples == 0:\n",
    "            raise Exception(\"Given too few samples, {}, for Central Differences with dimension {}\".format(N, dim))\n",
    "\n",
    "        dirs = jnp.concatenate([jnp.tile(forwardX, (num_dir_samples, 1)), jnp.tile(backwardX, (num_dir_samples, 1))])\n",
    "\n",
    "    # transform sphere to ellipse\n",
    "    if ellipse_M is not None:\n",
    "        L = jnp.linalg.cholesky(ellipse_M)\n",
    "        dirs = dirs.dot(L.T)\n",
    "\n",
    "    return dirs \n",
    "\n",
    "\n",
    "F = funcs[\"LogPolytope\"](2)\n",
    "N = 4\n",
    "x_0 = x_0_generator(2)\n",
    "ellipse_M = jnp.linalg.inv(F.f2(x_0.reshape(1, -1))[0])\n",
    "circle_M = jnp.eye(2)\n",
    "d = generate_ellipse(2, N, circle_M, False, jrandom_key_w)\n",
    "\n",
    "# de = \n",
    "L  = jnp.linalg.cholesky(ellipse_M)\n",
    "print(L.dot(L.T))\n",
    "print(ellipse_M)\n",
    "print(jnp.linalg.eigvals(ellipse_M))\n",
    "\n",
    "\n",
    "plt.scatter(d[:, 0], d[:, 1])"
   ]
  },
  {
   "cell_type": "code",
   "execution_count": null,
   "metadata": {},
   "outputs": [],
   "source": []
  }
 ],
 "metadata": {
  "kernelspec": {
   "display_name": "Python3 (new_adv)",
   "language": "python",
   "name": "new_adv"
  },
  "language_info": {
   "codemirror_mode": {
    "name": "ipython",
    "version": 3
   },
   "file_extension": ".py",
   "mimetype": "text/x-python",
   "name": "python",
   "nbconvert_exporter": "python",
   "pygments_lexer": "ipython3",
   "version": "3.6.8"
  }
 },
 "nbformat": 4,
 "nbformat_minor": 2
}
