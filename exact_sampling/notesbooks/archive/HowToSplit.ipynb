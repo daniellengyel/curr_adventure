{
 "cells": [
  {
   "cell_type": "code",
   "execution_count": 3,
   "metadata": {},
   "outputs": [],
   "source": [
    "import jax.numpy as jnp\n",
    "import numpy as np\n",
    "import jax.random as jrandom\n",
    "from jax import jit, grad, jacfwd\n",
    "\n",
    "import sys \n",
    "import os \n",
    "HOME = os.getenv(\"HOME\")\n",
    "sys.path.append(HOME + \"/curr_adventure/exact_sampling/\")\n",
    "sys.path.append(HOME + \"/curr_adventure/exact_sampling/Optimization\")\n",
    "\n",
    "from Optimization import NewtonMethod\n",
    "from pdfo import newuoa\n",
    "\n",
    "from NEWUO_test import NEWUOA_Wrapper\n",
    "\n",
    "# from pow_sampling_set import pow_SG, create_approx_S_multi\n",
    "# from Functions import PyCutestGetter, load_cutest_quadratic, HeartDisease\n",
    "# from AdaptiveFD import adapt_FD\n",
    "# from FD import FD\n",
    "\n",
    "from tqdm import tqdm\n",
    "\n",
    "import matplotlib.pyplot as plt\n",
    "\n",
    "import scipy\n",
    "\n",
    "%load_ext autoreload\n",
    "%autoreload 2"
   ]
  },
  {
   "cell_type": "code",
   "execution_count": 9,
   "metadata": {},
   "outputs": [],
   "source": [
    "def loss_getter(dim, D, sig, coeff=0.1):\n",
    "    def helper(X):\n",
    "        S = X.reshape(dim, dim).T\n",
    "        \n",
    "        S_inv = jnp.linalg.inv(S)\n",
    "        \n",
    "        first_term = S_inv.T @ jnp.diag(S.T @ D @ S)\n",
    "        second_term = jnp.linalg.norm(S_inv, ord=\"fro\")**2\n",
    "        third_term = S_inv.T @ jnp.ones(dim)\n",
    "        third_term = jnp.linalg.norm(third_term)**2\n",
    "        \n",
    "        return 1/4 * jnp.linalg.norm(first_term)**2 + sig**2 * (second_term + third_term) + coeff*jnp.linalg.norm(S, ord=\"fro\")**4\n",
    "    return helper\n",
    "\n",
    "def lmbda_loss(lmbdas, D_diag, sig, l_max_idx):\n",
    "    dim = len(D_diag)\n",
    "\n",
    "    a = D_diag @ lmbdas / len(lmbdas)\n",
    "#     print(repr(lmbdas))\n",
    "    return 1/4. * a**2 * dim / lmbdas[l_max_idx] + sig**2 * dim/lmbdas[l_max_idx] + sig**2 * jnp.sum(1/lmbdas)\n",
    "\n"
   ]
  },
  {
   "cell_type": "code",
   "execution_count": 15,
   "metadata": {},
   "outputs": [],
   "source": [
    "def lambda_coeff_zero(D_diag, sig):\n",
    "    dim = len(D_diag)\n",
    "    D_diag = jnp.abs(D_diag)\n",
    "    D_min = jnp.min(D_diag)\n",
    "    D_sum = jnp.sum(jnp.sqrt(D_diag)) - jnp.sqrt(D_min)\n",
    "    numerator = 2 * (1 + dim) * D_min * sig**2 + D_sum**2 * sig**2 + jnp.sqrt(D_sum**2 * (8 * (1 + dim) * D_min + D_sum**2) * sig**4)\n",
    "    \n",
    "    a = jnp.sqrt(2 * numerator/(dim * D_min))\n",
    "    l = (2 * (1 + dim) * D_min * sig**2 + numerator)/(D_min**2 * a)\n",
    "\n",
    "    lmbdas = [(sig * jnp.sqrt(2*l/(D_diag[i] * a))) for i in range(len(D_diag))]\n",
    "    lmbdas[jnp.argmin(jnp.abs(D_diag))] = l\n",
    "    \n",
    "    return jnp.array(lmbdas)"
   ]
  },
  {
   "cell_type": "code",
   "execution_count": 65,
   "metadata": {},
   "outputs": [],
   "source": [
    "sig = 1 \n",
    "\n",
    "D_diag1 = np.array([10])\n",
    "D_diag2 = np.array([10, 200, 1e4, 1e3, 1e4])\n",
    "\n",
    "\n"
   ]
  },
  {
   "cell_type": "code",
   "execution_count": 191,
   "metadata": {},
   "outputs": [
    {
     "name": "stdout",
     "output_type": "stream",
     "text": [
      "[70.06956454  0.44201352  0.31563015  0.2585657   0.22429736]\n"
     ]
    },
    {
     "data": {
      "text/plain": [
       "DeviceArray(27.68424963, dtype=float64)"
      ]
     },
     "execution_count": 191,
     "metadata": {},
     "output_type": "execute_result"
    }
   ],
   "source": [
    "l1 = lambda_coeff_zero(D_diag, sig)\n",
    "print(l1)\n",
    "lmbda_loss(l1, D_diag, sig, np.argmin(D_diag))"
   ]
  },
  {
   "cell_type": "code",
   "execution_count": 61,
   "metadata": {},
   "outputs": [
    {
     "name": "stdout",
     "output_type": "stream",
     "text": [
      "[0.01414214]\n",
      "fun1 282.842712474619\n",
      "[1.46831838e+01 6.32749362e-03 2.00092917e-02 6.32749362e-03]\n",
      "fun2 732.7964531258563\n",
      "sum 1015.6391656004753\n"
     ]
    }
   ],
   "source": [
    "l1 = lambda_coeff_zero(D_diag1, sig)\n",
    "print(l1)\n",
    "f1 = lmbda_loss(l1, D_diag1, sig, np.argmin(D_diag1))\n",
    "print(\"fun1\", f1)\n",
    "l2 = lambda_coeff_zero(D_diag2, sig)\n",
    "print(l2)\n",
    "f2 = lmbda_loss(l2, D_diag2, sig, np.argmin(D_diag2))\n",
    "print(\"fun2\", f2)\n",
    "print(\"sum\", f1 + f2)\n",
    "\n",
    "\n"
   ]
  },
  {
   "cell_type": "code",
   "execution_count": 66,
   "metadata": {},
   "outputs": [
    {
     "name": "stdout",
     "output_type": "stream",
     "text": [
      "[0.28284271]\n",
      "fun1 14.14213562373095\n",
      "[1.74212821e+01 5.00247545e-02 7.07456862e-03 2.23717503e-02\n",
      " 7.07456862e-03]\n",
      "fun2 695.4729766472464\n",
      "sum 709.6151122709773\n"
     ]
    }
   ],
   "source": [
    "l1 = lambda_coeff_zero(D_diag1, sig)\n",
    "print(l1)\n",
    "f1 = lmbda_loss(l1, D_diag1, sig, np.argmin(D_diag1))\n",
    "print(\"fun1\", f1)\n",
    "l2 = lambda_coeff_zero(D_diag2, sig)\n",
    "print(l2)\n",
    "f2 = lmbda_loss(l2, D_diag2, sig, np.argmin(D_diag2))\n",
    "print(\"fun2\", f2)\n",
    "print(\"sum\", f1 + f2)\n",
    "\n",
    "\n",
    "\n"
   ]
  },
  {
   "cell_type": "code",
   "execution_count": 67,
   "metadata": {},
   "outputs": [
    {
     "ename": "NameError",
     "evalue": "name 'D_diag' is not defined",
     "output_type": "error",
     "traceback": [
      "\u001b[0;31m---------------------------------------------------------------------------\u001b[0m",
      "\u001b[0;31mNameError\u001b[0m                                 Traceback (most recent call last)",
      "Input \u001b[0;32mIn [67]\u001b[0m, in \u001b[0;36m<cell line: 50>\u001b[0;34m()\u001b[0m\n\u001b[1;32m     44\u001b[0m         curr_n \u001b[38;5;241m=\u001b[39m curr_n \u001b[38;5;241m%\u001b[39m upper_n\n\u001b[1;32m     48\u001b[0m     \u001b[38;5;28;01mreturn\u001b[39;00m res\n\u001b[0;32m---> 50\u001b[0m pow_index \u001b[38;5;241m=\u001b[39m get_S_pow_index_sets(\u001b[43mD_diag\u001b[49m)\n",
      "\u001b[0;31mNameError\u001b[0m: name 'D_diag' is not defined"
     ]
    }
   ],
   "source": [
    "\n",
    "def get_S_pow_index_sets(D_diag,):\n",
    "    \"\"\"Returns a set of sets. Each set with the indecies of H to use.\"\"\"\n",
    "    dim = len(D_diag)\n",
    "    binary_dim = (bin(dim)[2:])[::-1]\n",
    "    res = {}\n",
    "    for i in range(len(binary_dim)):\n",
    "        if binary_dim[i] == \"1\":\n",
    "            res[i] = []\n",
    "            \n",
    "    bin_used = sorted(res.keys())\n",
    "    \n",
    "    curr_n = len(bin_used) - 1\n",
    "    upper_n = curr_n + 1\n",
    "    lower_n = 0\n",
    "\n",
    "    end_mid = True\n",
    "    \n",
    "    start = 0\n",
    "    if end_mid:\n",
    "        end = len(D_diag) // 2 + len(D_diag) % 2 \n",
    "    else:\n",
    "        end = len(D_diag) - 1\n",
    "    \n",
    "    argsorted_D_diag = jnp.argsort(D_diag)\n",
    "    while end < len(D_diag) and start < end:\n",
    "        while len(res[bin_used[curr_n]]) == 2**bin_used[curr_n]:\n",
    "            curr_n -= 1\n",
    "            curr_n = curr_n % upper_n\n",
    "            \n",
    "        curr_exp = bin_used[curr_n]\n",
    "        if curr_exp == 0:\n",
    "            res[curr_exp].append(int(argsorted_D_diag[start]))\n",
    "            start += 1\n",
    "        else:\n",
    "            res[curr_exp].append(int(argsorted_D_diag[start]))\n",
    "            res[curr_exp].append(int(argsorted_D_diag[end]))\n",
    "            start += 1\n",
    "            if end_mid:\n",
    "                end += 1\n",
    "            else:\n",
    "                end -=1\n",
    "\n",
    "        curr_n -= 1\n",
    "        curr_n = curr_n % upper_n\n",
    "\n",
    "        \n",
    "\n",
    "    return res\n",
    "\n"
   ]
  },
  {
   "cell_type": "code",
   "execution_count": 108,
   "metadata": {},
   "outputs": [],
   "source": [
    "D_diag = jnp.linspace(1, 1e3, 15)\n",
    "pow_index = get_S_pow_index_sets(D_diag)"
   ]
  },
  {
   "cell_type": "code",
   "execution_count": 76,
   "metadata": {},
   "outputs": [
    {
     "name": "stdout",
     "output_type": "stream",
     "text": [
      "[1.19790539e+04 4.58228169e-02 3.24027585e-02 2.64570502e-02\n",
      " 2.29126112e-02 2.04937342e-02 1.87081779e-02 1.73204360e-02\n",
      " 1.62018045e-02 1.52752227e-02 1.44913599e-02 1.38169783e-02\n",
      " 1.32287566e-02 1.27097839e-02 1.22474590e-02]\n",
      "fun all 1597.2018452165864\n"
     ]
    }
   ],
   "source": [
    "lall = lambda_coeff_zero(D_diag, sig)\n",
    "print(lall)\n",
    "fall = lmbda_loss(lall, D_diag, sig, np.argmin(D_diag))\n",
    "print(\"fun all\", fall)\n",
    "\n",
    "\n",
    "\n",
    "\n"
   ]
  },
  {
   "cell_type": "code",
   "execution_count": 78,
   "metadata": {},
   "outputs": [
    {
     "name": "stdout",
     "output_type": "stream",
     "text": [
      "[21429.35714286]\n",
      "30305.687504365327\n",
      "\n",
      "[14286.57142857 71428.85714286]\n",
      "54408.576231468076\n",
      "\n",
      "[ 7143.78571429 64286.07142857 35714.92857143 85714.42857143]\n",
      "64057.69435804452\n",
      "\n",
      "[1.00000000e+00 5.71432857e+04 2.85721429e+04 7.85716429e+04\n",
      " 4.28577143e+04 9.28572143e+04 5.00005000e+04 1.00000000e+05]\n",
      "1230.3446234779253\n",
      "\n"
     ]
    }
   ],
   "source": [
    "res = 0 \n",
    "for k in pow_index:\n",
    "    curr_D = D_diag[np.array(pow_index[k])]\n",
    "    print(curr_D)\n",
    "    l_curr = lambda_coeff_zero(curr_D, sig)\n",
    "    f_curr = lmbda_loss(l_curr, curr_D, sig, np.argmin(curr_D))\n",
    "    print(f_curr)\n",
    "    print()"
   ]
  },
  {
   "cell_type": "code",
   "execution_count": 75,
   "metadata": {},
   "outputs": [
    {
     "data": {
      "text/plain": [
       "DeviceArray(150002.30271736, dtype=float64)"
      ]
     },
     "execution_count": 75,
     "metadata": {},
     "output_type": "execute_result"
    }
   ],
   "source": [
    "res"
   ]
  },
  {
   "cell_type": "code",
   "execution_count": 854,
   "metadata": {},
   "outputs": [],
   "source": [
    "\n",
    "def helper_linesearch(f, g, c1, c2):\n",
    "\n",
    "    def helper(X, search_direction):\n",
    "        f0 = f(X)\n",
    "        f1 = g(X)\n",
    "        dg = jnp.inner(search_direction, f1)\n",
    "\n",
    "        def armijo_rule(alpha):\n",
    "            return f(X + alpha * search_direction) > f0 + c1*alpha*dg\n",
    "        \n",
    "        def armijo_update(alpha):\n",
    "            return c2*alpha\n",
    "            \n",
    "        alpha = 1\n",
    "        while armijo_rule(alpha):\n",
    "            alpha = armijo_update(alpha)\n",
    "\n",
    "\n",
    "        return alpha\n",
    "\n",
    "    return helper\n",
    "\n",
    "\n",
    "def loss_getter(dim, N, H, sig):\n",
    "    def helper(X):\n",
    "\n",
    "        S = X.reshape(N, dim).T\n",
    "        \n",
    "        S_inv = jnp.linalg.inv(S)\n",
    "        \n",
    "        first_term = S_inv.T @ jnp.diag(S.T @ H @ S)\n",
    "        second_term = jnp.linalg.norm(S_inv, ord=\"fro\")**2\n",
    "        third_term = S_inv.T @ jnp.ones(dim)\n",
    "        third_term = jnp.linalg.norm(third_term)**2\n",
    "        return 1/4 * jnp.linalg.norm(first_term)**2 + sig**2 * (second_term + third_term)\n",
    "\n",
    "    return helper\n",
    "\n",
    "def optimize_uncentered_S(H, sig, max_steps=15, jrandom_key=None, x_curr=None):\n",
    "    \n",
    "    dim = H.shape[0]\n",
    "    N = dim\n",
    "    \n",
    "    H = (H + H.T) / 2. # to combat numerical inaccuracies. \n",
    "    D, U = jnp.linalg.eigh(H)\n",
    "    U = jnp.real(U)\n",
    "\n",
    "    D = jnp.diag(D)\n",
    "\n",
    "    if x_curr is None:\n",
    "\n",
    "        if jrandom_key is None:\n",
    "            x_curr = jnp.diag(jnp.sqrt(sig / jnp.abs(jnp.diag(D)))).flatten()\n",
    "            pass\n",
    "        else:\n",
    "            x_curr = jrandom.normal(jrandom_key, shape=(dim * dim,)) * 0.1\n",
    "    \n",
    "    l = loss_getter(dim, N, D, sig)\n",
    "    g_l = grad(l)\n",
    "    linesearch = helper_linesearch(l, g_l, c1=0.1, c2=0.9)\n",
    "    h_l = jacfwd(g_l)\n",
    "\n",
    "\n",
    "    eps = 1e-20\n",
    "    \n",
    "    res = []\n",
    "\n",
    "    for t in tqdm(range(max_steps)):\n",
    "        \n",
    "        curr_grad = g_l(x_curr)\n",
    "        \n",
    "        res.append(l(x_curr))\n",
    "        \n",
    "        curr_hess = h_l(x_curr) + 1e-2*jnp.eye(dim**2)\n",
    "        search_direction = -jnp.linalg.inv(curr_hess) @ curr_grad #+ np.random.normal(size=(dim**2))*0.1\n",
    "#         search_direction = -curr_grad\n",
    "\n",
    "        if jnp.linalg.norm(curr_grad) < eps:\n",
    "            break    \n",
    "\n",
    "        alpha = linesearch(x_curr, search_direction)\n",
    "\n",
    "        x_curr += alpha*search_direction \n",
    "    \n",
    "    return U.dot(x_curr.reshape(N, dim).T), res"
   ]
  },
  {
   "cell_type": "code",
   "execution_count": 855,
   "metadata": {},
   "outputs": [
    {
     "data": {
      "text/plain": [
       "DeviceArray([[ 6.59326014e+01,  6.59198594e+01,  6.59236362e+01,\n",
       "               6.59254907e+01,  6.59289990e+01],\n",
       "             [ 1.45021291e-01,  2.19713743e-01, -2.01409568e-01,\n",
       "              -1.77089906e-01,  1.37488949e-02],\n",
       "             [ 1.84693151e-01, -2.84029067e-02,  4.51790837e-02,\n",
       "               4.54563670e-02, -2.46927990e-01],\n",
       "             [ 8.20767746e-02, -8.68360474e-02,  1.48129082e-01,\n",
       "              -2.04267894e-01,  6.08778416e-02],\n",
       "             [ 1.26865291e-01, -1.59165055e-01, -1.25865416e-01,\n",
       "               5.73885061e-02,  1.00733786e-01]], dtype=float64)"
      ]
     },
     "execution_count": 855,
     "metadata": {},
     "output_type": "execute_result"
    }
   ],
   "source": [
    "opt_S"
   ]
  },
  {
   "cell_type": "code",
   "execution_count": 856,
   "metadata": {},
   "outputs": [
    {
     "data": {
      "text/plain": [
       "DeviceArray(86.92193388, dtype=float64)"
      ]
     },
     "execution_count": 856,
     "metadata": {},
     "output_type": "execute_result"
    }
   ],
   "source": [
    "res[-1]"
   ]
  },
  {
   "cell_type": "code",
   "execution_count": 861,
   "metadata": {},
   "outputs": [
    {
     "name": "stderr",
     "output_type": "stream",
     "text": [
      "100%|██████████████████████████████████████████████████████████████████████████| 10/10 [00:00<00:00, 16.03it/s]\n"
     ]
    }
   ],
   "source": [
    "D_diag = jnp.linspace(0.1, 1e4, 5)\n",
    "\n",
    "sig = 1\n",
    "\n",
    "x_init = create_approx_S_multi(jnp.diag(D_diag), sig, None, None)\n",
    "\n",
    "opt_S, res = optimize_uncentered_S(jnp.diag(D_diag), sig, max_steps=10, jrandom_key=None, x_curr=opt_S.T.flatten())\n",
    "\n",
    "\n"
   ]
  },
  {
   "cell_type": "code",
   "execution_count": 862,
   "metadata": {},
   "outputs": [
    {
     "data": {
      "text/plain": [
       "[<matplotlib.lines.Line2D at 0x7fce47596080>]"
      ]
     },
     "execution_count": 862,
     "metadata": {},
     "output_type": "execute_result"
    },
    {
     "data": {
      "image/png": "[encoded data removed]",
      "text/plain": [
       "<Figure size 432x288 with 1 Axes>"
      ]
     },
     "metadata": {
      "needs_background": "light"
     },
     "output_type": "display_data"
    }
   ],
   "source": [
    "plt.plot(res)\n"
   ]
  },
  {
   "cell_type": "code",
   "execution_count": 863,
   "metadata": {},
   "outputs": [
    {
     "data": {
      "text/plain": [
       "DeviceArray([ 9.61854463e-09,  1.48309809e-10,  3.73404418e-10,\n",
       "              2.47474929e-10,  5.09920994e-10,  9.50887946e-09,\n",
       "              3.93225008e-10, -1.00793152e-10, -4.60879335e-10,\n",
       "             -1.12548548e-09,  9.48215706e-09, -4.84803309e-11,\n",
       "              2.01278993e-11,  9.85025395e-11, -1.09736220e-10,\n",
       "              9.46668771e-09, -1.53697499e-10,  7.73194841e-11,\n",
       "             -5.19634114e-10,  1.93598026e-10,  9.50466600e-09,\n",
       "             -5.11113374e-11,  1.87291960e-09, -6.94406310e-10,\n",
       "             -1.53002588e-09], dtype=float64)"
      ]
     },
     "execution_count": 863,
     "metadata": {},
     "output_type": "execute_result"
    }
   ],
   "source": [
    "l = loss_getter(5, 5, jnp.diag(D_diag), sig)\n",
    "g_l = grad(loss_getter(5, 5, jnp.diag(D_diag), sig))\n",
    "h_l = jacfwd(g_l)\n",
    "\n",
    "g_l(opt_S.T.flatten())"
   ]
  },
  {
   "cell_type": "code",
   "execution_count": 864,
   "metadata": {},
   "outputs": [
    {
     "data": {
      "text/plain": [
       "(DeviceArray([-4.06875622e-10,  2.68286514e-09,  3.20002756e-03,\n",
       "               7.25325924e-03,  8.60100791e-03,  9.63505220e-03,\n",
       "               1.05055885e-02,  1.67715728e+00,  9.28607864e+00,\n",
       "               1.40190945e+01,  2.52580120e+01,  1.69779818e+02,\n",
       "               3.44976438e+02,  4.20748219e+02,  4.84691221e+02,\n",
       "               5.78895234e+02,  6.60389500e+02,  9.67603140e+02,\n",
       "               1.00732566e+03,  1.26190420e+03,  1.70135414e+03,\n",
       "               4.37820017e+07,  5.66077168e+07,  7.38940611e+07,\n",
       "               8.73143488e+07], dtype=float64),\n",
       " DeviceArray([[ 5.23463080e-08,  4.68296487e-08,  4.47211557e-01,\n",
       "               -3.86035649e-01,  5.83547541e-01, -2.87806019e-01,\n",
       "                4.77002461e-01, -7.77331713e-03,  2.87872750e-03,\n",
       "               -3.62663890e-03,  1.97888702e-03, -5.76481648e-04,\n",
       "                6.34645525e-04, -1.94882038e-04,  2.13104244e-04,\n",
       "               -3.67804171e-04,  3.10544976e-04, -1.41371164e-04,\n",
       "                4.64959705e-05,  1.14114845e-04, -2.25834098e-04,\n",
       "               -1.13667528e-08,  1.42774987e-08,  8.22099489e-09,\n",
       "               -1.50471927e-08],\n",
       "              [-1.39431370e-01, -2.78398831e-01,  1.97019456e-04,\n",
       "                2.56275423e-03,  4.98911005e-04,  2.43321848e-03,\n",
       "               -5.63198570e-03, -2.89355285e-01,  3.35511344e-03,\n",
       "               -3.07227316e-01,  3.14758784e-01, -4.86982413e-01,\n",
       "               -2.81337180e-01, -2.37854348e-01, -1.60357338e-01,\n",
       "                4.08952753e-01,  1.00260648e-01, -1.11157168e-01,\n",
       "                1.89680653e-02, -2.19479659e-02,  3.68211461e-02,\n",
       "               -9.07594592e-02,  1.12829311e-01,  6.03667132e-02,\n",
       "               -1.03719576e-01],\n",
       "              [ 2.07369258e-01,  1.84268111e-01,  2.50398218e-04,\n",
       "               -9.33395863e-04, -4.33117984e-03, -1.60413008e-03,\n",
       "                3.25736736e-03,  2.27333978e-01,  3.49771461e-01,\n",
       "               -2.20465254e-01,  6.47520953e-02,  1.06481959e-01,\n",
       "                2.79858631e-01, -8.69654769e-03, -1.42625524e-01,\n",
       "                3.19563030e-01, -4.85945272e-02,  4.97492863e-01,\n",
       "               -2.64744635e-04,  2.68177132e-02,  6.81762611e-02,\n",
       "               -2.30835897e-01,  2.86941406e-01,  1.53520363e-01,\n",
       "               -2.63775319e-01],\n",
       "              [-3.01124824e-01,  3.21192648e-01,  1.11370602e-04,\n",
       "                2.69789791e-03,  2.34642332e-03,  3.67289188e-03,\n",
       "               -2.39984728e-03, -3.03095719e-01,  8.46775922e-02,\n",
       "                2.10034886e-01,  2.58676821e-02,  5.11002300e-02,\n",
       "               -8.08515631e-02, -3.79824192e-02,  4.70619283e-01,\n",
       "                4.02027404e-02, -9.20476888e-02,  1.53687767e-02,\n",
       "                3.73324195e-01, -4.16646094e-01,  7.19422553e-02,\n",
       "               -1.53961954e-01,  1.91383850e-01,  1.02388468e-01,\n",
       "               -1.75929786e-01],\n",
       "              [ 3.51322030e-02, -2.10242243e-01,  1.72167286e-04,\n",
       "               -1.36294981e-03,  1.86944546e-03, -1.31103804e-03,\n",
       "                4.05729419e-04,  6.44485102e-02, -2.96465433e-01,\n",
       "                1.46348557e-01, -1.49694891e-01,  3.72641424e-02,\n",
       "               -1.06485692e-01, -1.25602369e-02, -1.11504474e-01,\n",
       "               -3.09167398e-01, -1.80022571e-03, -1.49569271e-01,\n",
       "               -2.14331570e-01,  2.32987126e-02,  4.43378807e-01,\n",
       "               -3.17338835e-01,  3.94471621e-01,  2.11048886e-01,\n",
       "               -3.62613124e-01],\n",
       "              [ 1.66242983e-07,  1.36399180e-07,  4.47213539e-01,\n",
       "               -5.83961537e-01, -8.95456811e-02,  3.04754474e-01,\n",
       "               -5.98369393e-01,  4.56638294e-03,  3.29871332e-03,\n",
       "                2.44247482e-03, -3.23346312e-03, -7.95384377e-04,\n",
       "               -1.28194751e-05,  5.05468520e-04, -1.30007904e-04,\n",
       "                3.46833241e-04, -1.96662206e-04, -1.62946948e-04,\n",
       "                1.71420678e-06,  8.37899639e-05, -2.70511510e-04,\n",
       "               -1.27930302e-08, -6.68431865e-10, -8.91560752e-09,\n",
       "                1.80315114e-08],\n",
       "              [-1.11519010e-02, -1.44014689e-02,  2.98037704e-04,\n",
       "                1.53811169e-03,  1.86396583e-04, -1.34214807e-03,\n",
       "                3.61300346e-03,  7.30855431e-02,  2.14688610e-01,\n",
       "                2.64040994e-01, -5.53278039e-01, -2.87889771e-01,\n",
       "               -8.73592950e-02, -5.91939307e-01, -3.01388606e-02,\n",
       "               -3.56615592e-02,  1.05782556e-01,  2.04790822e-01,\n",
       "                5.23853363e-03,  1.88767371e-02, -2.52215669e-02,\n",
       "               -1.64657126e-01, -8.49627911e-03, -1.00603142e-01,\n",
       "                1.94538611e-01],\n",
       "              [ 4.52202465e-02,  2.60882303e-01, -3.86745475e-05,\n",
       "               -1.92104153e-03,  2.05031654e-03, -5.87193967e-04,\n",
       "                3.79042854e-04,  5.68599459e-02, -4.42244660e-01,\n",
       "                2.46442758e-01, -9.80139908e-03, -5.18363559e-02,\n",
       "                4.63410380e-01, -1.29018626e-01, -9.63628004e-02,\n",
       "                3.84761720e-01,  4.69401053e-01, -2.18450650e-01,\n",
       "                6.40404672e-02, -3.28428197e-02,  2.33804454e-02,\n",
       "                4.26853733e-02,  2.19330501e-03,  2.60775224e-02,\n",
       "               -5.04272748e-02],\n",
       "              [-8.72054230e-02, -2.31060386e-01, -1.17842084e-04,\n",
       "               -2.92956122e-03, -2.08751929e-03, -4.83428032e-04,\n",
       "                6.71717902e-03,  3.71348538e-01,  1.07854657e-01,\n",
       "                3.08434542e-01,  1.77141449e-01, -8.77785539e-02,\n",
       "               -2.89307653e-02, -8.80033035e-02,  4.85102234e-01,\n",
       "                1.74030592e-01, -6.32395179e-02, -5.62483582e-02,\n",
       "                7.93185770e-02,  5.11557694e-01, -7.73271914e-03,\n",
       "                1.95378921e-01,  1.00805155e-02,  1.19363474e-01,\n",
       "               -2.30823335e-01],\n",
       "              [ 2.78122534e-02,  6.63000230e-02, -2.15935901e-04,\n",
       "                1.90205418e-03,  7.35631179e-04, -2.12670592e-04,\n",
       "               -1.53745562e-03, -1.31911690e-01,  6.94766645e-02,\n",
       "               -5.72191472e-02, -2.62564467e-01, -5.89415392e-02,\n",
       "               -4.17193911e-02, -7.27073052e-02, -1.74253577e-01,\n",
       "               -1.65632578e-01,  6.27736645e-02, -3.66324504e-02,\n",
       "               -1.40920120e-02, -6.79618259e-02, -4.36882391e-01,\n",
       "                4.77180701e-01,  2.46189599e-02,  2.91536633e-01,\n",
       "               -5.63751456e-01],\n",
       "              [ 3.34960719e-08,  2.33192036e-08,  4.47213989e-01,\n",
       "                5.35466759e-01,  1.43177192e-01, -5.18102932e-01,\n",
       "               -4.73565032e-01,  7.55511046e-03,  1.66761812e-03,\n",
       "                3.61859710e-03,  2.58649124e-03,  7.41341074e-04,\n",
       "                2.11854271e-04,  1.95959035e-04,  5.99247078e-04,\n",
       "                2.56780445e-04, -5.95325300e-05, -1.41556114e-04,\n",
       "               -1.60048623e-05,  6.18504439e-05, -2.69327791e-04,\n",
       "                1.28332133e-08,  3.47636993e-09,  1.62472053e-08,\n",
       "                1.28481150e-08],\n",
       "              [ 1.42444496e-02, -1.35211678e-01, -2.73181209e-04,\n",
       "                1.56731695e-03,  3.97679598e-04, -2.62853960e-03,\n",
       "               -2.21980208e-03, -6.58791115e-02, -1.12050457e-01,\n",
       "               -3.56107060e-01, -5.05080664e-01, -3.39827435e-01,\n",
       "                1.77698975e-01,  4.50872302e-01,  3.51440658e-01,\n",
       "                6.38197847e-02,  1.05379016e-01,  4.45830958e-02,\n",
       "                1.13685054e-01,  1.14693344e-01,  4.64891358e-03,\n",
       "               -1.44215941e-01, -3.88171402e-02, -1.65413240e-01,\n",
       "               -1.26087054e-01],\n",
       "              [ 2.70026749e-01, -4.89661689e-01,  6.15229596e-05,\n",
       "                1.67776313e-03,  1.39667669e-03,  2.21121839e-03,\n",
       "               -3.03379717e-03, -2.36343168e-01, -5.71244230e-02,\n",
       "                7.76971054e-02,  8.15711361e-02, -4.15134020e-02,\n",
       "                5.11303719e-01, -1.78073216e-01, -4.42007009e-02,\n",
       "               -1.56193574e-01, -3.03829883e-01,  4.79380334e-02,\n",
       "                4.21055496e-01, -9.46670380e-02,  1.10496026e-02,\n",
       "                6.49288176e-02,  1.74687383e-02,  7.44688459e-02,\n",
       "                5.67647398e-02],\n",
       "              [-1.05783126e-01, -1.28598149e-01,  2.00976012e-04,\n",
       "               -3.02234322e-03, -1.39544129e-03, -2.45041905e-03,\n",
       "                1.09541331e-03,  2.65286504e-01, -2.37328392e-01,\n",
       "               -2.03713815e-01,  9.62309296e-02, -1.26824955e-01,\n",
       "               -2.51458003e-02, -4.43426722e-02,  2.31643425e-01,\n",
       "               -1.81406734e-01,  2.85459432e-01,  4.19055679e-01,\n",
       "               -5.86657264e-02, -3.08527662e-01,  1.20744676e-01,\n",
       "                3.18241090e-01,  8.56549518e-02,  3.64988362e-01,\n",
       "                2.78220784e-01],\n",
       "              [-5.04333077e-02, -1.47582712e-01, -1.70747882e-04,\n",
       "               -2.99205276e-03, -1.13908829e-03, -7.13151827e-04,\n",
       "                1.30827623e-03,  2.17917190e-01, -1.74928817e-01,\n",
       "               -2.33711192e-02,  3.01639002e-01,  1.62695400e-02,\n",
       "                2.15992238e-02, -1.45333197e-01,  8.89650227e-02,\n",
       "               -2.74000688e-01,  2.08642056e-01,  1.71137047e-01,\n",
       "                6.77665057e-03, -1.68247573e-01, -4.36067663e-01,\n",
       "               -3.60592368e-01, -9.70532930e-02, -4.13574315e-01,\n",
       "               -3.15248216e-01],\n",
       "              [ 3.71113463e-08,  2.82560012e-08,  4.47214040e-01,\n",
       "                4.70982699e-01,  1.43946873e-01,  7.14363095e-01,\n",
       "                2.16920609e-01,  7.50751737e-03, -3.19570863e-03,\n",
       "               -3.88159200e-03, -1.48370468e-03,  6.97500818e-04,\n",
       "                2.03060508e-04,  2.56743929e-04, -6.47732770e-04,\n",
       "               -2.16826819e-04,  5.61753884e-05, -1.91710142e-04,\n",
       "                5.58736915e-05,  1.29512909e-04, -2.27657799e-04,\n",
       "                1.37258671e-08,  5.32622502e-09, -1.96463815e-08,\n",
       "               -6.60145027e-09],\n",
       "              [-1.24317334e-01, -5.52235828e-02, -2.40219759e-04,\n",
       "                2.07141570e-03,  9.81192387e-05,  3.19270469e-03,\n",
       "                2.51914565e-03, -7.18387280e-02,  3.50200517e-01,\n",
       "                4.66172655e-01,  1.80351855e-01, -4.16034163e-01,\n",
       "                1.59684570e-01,  4.54101317e-01, -2.03087587e-01,\n",
       "               -1.76315645e-01,  2.23178998e-01,  8.03367703e-02,\n",
       "               -1.02755225e-01, -5.62962873e-02, -5.86536907e-02,\n",
       "               -1.31914314e-01, -5.11050155e-02,  1.74106862e-01,\n",
       "                5.43048489e-02],\n",
       "              [-6.09649274e-01,  2.25670454e-02,  6.18236380e-05,\n",
       "                1.13419548e-03, -5.89197981e-04,  5.96488369e-04,\n",
       "               -2.05751522e-03, -1.13500188e-01,  4.99454712e-02,\n",
       "               -1.51206273e-01,  9.71183232e-03, -2.25670404e-02,\n",
       "                4.99249025e-01, -1.88179615e-01,  5.37888278e-02,\n",
       "               -7.99084562e-02, -2.31905870e-01, -2.10910480e-02,\n",
       "               -4.70612173e-01,  5.86333057e-02,  4.26689479e-02,\n",
       "                6.77923460e-02,  2.62571647e-02, -8.94719425e-02,\n",
       "               -2.79066666e-02],\n",
       "              [-1.01900039e-02,  1.12141342e-01, -2.77105619e-04,\n",
       "                8.55601485e-04,  8.93116923e-04,  7.54056200e-04,\n",
       "               -3.57630320e-03, -1.67220640e-01, -1.02131585e-01,\n",
       "               -1.67436300e-01,  2.23643482e-02,  1.06304021e-01,\n",
       "                4.35453816e-02, -1.10621073e-01,  1.14981114e-01,\n",
       "               -1.28231521e-01,  5.60008340e-02, -6.40203865e-02,\n",
       "                8.95277784e-03,  3.36960914e-01, -3.26491791e-01,\n",
       "               -4.56455839e-01, -1.76827635e-01,  6.02411685e-01,\n",
       "                1.87895993e-01],\n",
       "              [ 1.18445189e-01,  2.47492838e-01,  7.79090542e-05,\n",
       "                3.42804663e-03,  2.69003728e-03,  4.23421565e-03,\n",
       "               -6.77900857e-03, -4.56238245e-01, -2.22117333e-02,\n",
       "               -2.73165063e-02,  1.94719410e-01, -2.76835003e-02,\n",
       "               -8.49302817e-03, -1.03156726e-01,  5.63218580e-02,\n",
       "               -3.14105277e-01,  2.95743468e-01,  3.14704897e-01,\n",
       "                6.92587707e-02,  4.66021894e-01,  2.56521648e-01,\n",
       "                1.71209565e-01,  6.63257245e-02, -2.25952760e-01,\n",
       "               -7.04708907e-02],\n",
       "              [ 4.41349405e-08,  4.71809072e-08,  4.47214042e-01,\n",
       "               -3.64550082e-02, -7.81122765e-01, -2.13209934e-01,\n",
       "                3.78013277e-01, -1.18568331e-02, -4.65241266e-03,\n",
       "                1.44599458e-03,  1.53791611e-04, -7.22189211e-05,\n",
       "               -7.84369115e-04,  2.00483649e-04,  2.25834501e-04,\n",
       "               -4.16405760e-04,  1.99206467e-04, -1.10246694e-04,\n",
       "                1.88312097e-05,  1.15934546e-04, -2.24842708e-04,\n",
       "               -1.62982740e-09, -2.35982904e-08,  4.14347362e-09,\n",
       "               -1.05954576e-08],\n",
       "              [ 2.60656155e-01,  4.83235560e-01,  1.83507668e-05,\n",
       "               -2.02961791e-03, -1.17958713e-03, -1.65137003e-03,\n",
       "                1.71290658e-03,  2.31923261e-01, -1.73042035e-01,\n",
       "               -7.06597442e-02,  1.63622634e-01, -5.74997218e-01,\n",
       "                3.15430035e-02, -6.97823086e-02,  3.62792598e-02,\n",
       "               -2.09252928e-01, -4.32576484e-01, -1.14063835e-01,\n",
       "               -1.84434014e-02, -2.12023626e-02,  1.38778208e-02,\n",
       "               -1.16838888e-03, -1.65924586e-02,  2.77420970e-03,\n",
       "               -6.67367294e-03],\n",
       "              [ 8.70330200e-02,  2.19442294e-02, -3.35063432e-04,\n",
       "                3.99317708e-05, -3.32698103e-03, -6.16605417e-04,\n",
       "                1.45717415e-03,  1.21916451e-01,  3.31526933e-01,\n",
       "               -2.08463429e-01,  4.89786258e-02,  7.76479954e-03,\n",
       "                1.22687688e-01, -4.59828627e-02,  1.09266663e-01,\n",
       "               -2.12206324e-01,  2.62807842e-01, -4.55308679e-01,\n",
       "                8.04092731e-02,  1.59746793e-02, -1.74072615e-01,\n",
       "                4.26617613e-02,  6.02519353e-01, -1.00704353e-01,\n",
       "                2.42313093e-01],\n",
       "              [ 5.04303376e-01, -7.36754544e-02,  8.26036143e-05,\n",
       "                2.40097807e-03,  2.46529032e-04,  2.84447497e-03,\n",
       "               -1.83551976e-03, -2.15014749e-01,  2.17562275e-01,\n",
       "                2.36480620e-02,  6.53252075e-02,  2.23202263e-02,\n",
       "                6.96636158e-02, -1.21660962e-01,  4.16853469e-01,\n",
       "                6.90858687e-02,  1.19725205e-01, -1.31554108e-01,\n",
       "               -5.24474936e-01, -2.61563994e-01,  9.28389371e-02,\n",
       "               -1.57896865e-02, -2.22980725e-01,  3.72627948e-02,\n",
       "               -8.96748283e-02],\n",
       "              [-1.30956338e-01,  4.40320943e-02,  1.36610884e-04,\n",
       "               -9.72233370e-04, -4.15236972e-03, -1.99150186e-03,\n",
       "                2.56238200e-03,  2.39283001e-01,  3.13707044e-01,\n",
       "               -2.64011216e-01,  2.48768281e-02,  1.91034268e-02,\n",
       "                8.92655793e-02, -1.31577857e-01, -9.77430397e-02,\n",
       "               -2.09232751e-01,  2.15622788e-01, -2.57935978e-01,\n",
       "                3.02029385e-01, -6.96961402e-02,  4.22462530e-01,\n",
       "               -3.47873073e-02, -4.91276125e-01,  8.21108325e-02,\n",
       "               -1.97567571e-01]], dtype=float64))"
      ]
     },
     "execution_count": 864,
     "metadata": {},
     "output_type": "execute_result"
    }
   ],
   "source": [
    "jnp.linalg.eigh(h_l(opt_S.T.flatten()))"
   ]
  },
  {
   "cell_type": "code",
   "execution_count": 724,
   "metadata": {},
   "outputs": [],
   "source": [
    "_, SIG, V = jnp.linalg.svd(opt_S)"
   ]
  },
  {
   "cell_type": "code",
   "execution_count": 196,
   "metadata": {},
   "outputs": [
    {
     "data": {
      "text/plain": [
       "DeviceArray([[2.00000000e-01, 2.00000000e-01, 2.00000000e-01,\n",
       "              2.00000000e-01, 2.00000000e-01],\n",
       "             [8.62957698e-04, 2.85651167e-01, 2.00445958e-01,\n",
       "              2.83489751e-01, 2.29550167e-01],\n",
       "             [4.88320787e-01, 1.59221482e-02, 2.63074223e-01,\n",
       "              2.16876373e-02, 2.10995205e-01],\n",
       "             [3.10581652e-01, 2.83587203e-01, 6.06286388e-02,\n",
       "              2.79031928e-01, 6.61705783e-02],\n",
       "             [2.34602463e-04, 2.14839482e-01, 2.75851180e-01,\n",
       "              2.15790684e-01, 2.93284050e-01]], dtype=float64)"
      ]
     },
     "execution_count": 196,
     "metadata": {},
     "output_type": "execute_result"
    }
   ],
   "source": [
    "V**2"
   ]
  },
  {
   "cell_type": "code",
   "execution_count": 203,
   "metadata": {},
   "outputs": [
    {
     "data": {
      "text/plain": [
       "DeviceArray([27.85550812, 27.85550799, 27.85550799, 27.85550798,\n",
       "             27.85550798], dtype=float64)"
      ]
     },
     "execution_count": 203,
     "metadata": {},
     "output_type": "execute_result"
    }
   ],
   "source": [
    "V.T**2 @ (SIG**2 * D_diag)"
   ]
  },
  {
   "cell_type": "code",
   "execution_count": 209,
   "metadata": {},
   "outputs": [
    {
     "data": {
      "text/plain": [
       "DeviceArray([2.00000000e-01, 8.62957698e-04, 4.88320787e-01,\n",
       "             3.10581652e-01, 2.34602463e-04], dtype=float64)"
      ]
     },
     "execution_count": 209,
     "metadata": {},
     "output_type": "execute_result"
    }
   ],
   "source": [
    "(V.T**2)[0]"
   ]
  },
  {
   "cell_type": "code",
   "execution_count": 208,
   "metadata": {},
   "outputs": [
    {
     "data": {
      "text/plain": [
       "DeviceArray([0.2       , 0.28565117, 0.01592215, 0.2835872 , 0.21483948],            dtype=float64)"
      ]
     },
     "execution_count": 208,
     "metadata": {},
     "output_type": "execute_result"
    }
   ],
   "source": [
    "(V.T**2)[1]"
   ]
  },
  {
   "cell_type": "code",
   "execution_count": 210,
   "metadata": {},
   "outputs": [
    {
     "data": {
      "text/plain": [
       "DeviceArray([0.2       , 0.20044596, 0.26307422, 0.06062864, 0.27585118],            dtype=float64)"
      ]
     },
     "execution_count": 210,
     "metadata": {},
     "output_type": "execute_result"
    }
   ],
   "source": [
    "(V.T**2)[2]"
   ]
  },
  {
   "cell_type": "code",
   "execution_count": 211,
   "metadata": {},
   "outputs": [
    {
     "data": {
      "text/plain": [
       "DeviceArray([70.06956453, 11.38184803, 15.93932236, 19.45706893,\n",
       "             22.4297362 ], dtype=float64)"
      ]
     },
     "execution_count": 211,
     "metadata": {},
     "output_type": "execute_result"
    }
   ],
   "source": [
    " (SIG**2 * D_diag)"
   ]
  },
  {
   "cell_type": "code",
   "execution_count": 333,
   "metadata": {},
   "outputs": [],
   "source": [
    "_, SIG, V = jnp.linalg.svd(opt_S)"
   ]
  },
  {
   "cell_type": "code",
   "execution_count": 334,
   "metadata": {},
   "outputs": [
    {
     "data": {
      "text/plain": [
       "DeviceArray([33.90075415, 32.68117736, 34.1853202 , 34.1853202 ,\n",
       "             33.90075415], dtype=float64)"
      ]
     },
     "execution_count": 334,
     "metadata": {},
     "output_type": "execute_result"
    }
   ],
   "source": [
    "D_diag = jnp.l(1, 1e2, 5)\n",
    "\n",
    "\n",
    "V.T**2 @ (SIG**2 * D_diag)"
   ]
  },
  {
   "cell_type": "code",
   "execution_count": 335,
   "metadata": {},
   "outputs": [
    {
     "data": {
      "text/plain": [
       "DeviceArray([[2.03107769e-01, 1.97428363e-01, 1.98178050e-01,\n",
       "              1.98178050e-01, 2.03107769e-01],\n",
       "             [1.69203849e-02, 4.97947021e-01, 2.34106105e-01,\n",
       "              2.34106105e-01, 1.69203849e-02],\n",
       "             [5.00000000e-01, 5.80550481e-24, 8.27660310e-25,\n",
       "              8.33123483e-25, 5.00000000e-01],\n",
       "             [1.72551904e-27, 3.16507320e-27, 5.00000000e-01,\n",
       "              5.00000000e-01, 1.47332791e-27],\n",
       "             [2.79971846e-01, 3.04624617e-01, 6.77158454e-02,\n",
       "              6.77158454e-02, 2.79971846e-01]], dtype=float64)"
      ]
     },
     "execution_count": 335,
     "metadata": {},
     "output_type": "execute_result"
    }
   ],
   "source": [
    "V**2"
   ]
  },
  {
   "cell_type": "code",
   "execution_count": 336,
   "metadata": {},
   "outputs": [
    {
     "data": {
      "text/plain": [
       "DeviceArray(-1., dtype=float64)"
      ]
     },
     "execution_count": 336,
     "metadata": {},
     "output_type": "execute_result"
    }
   ],
   "source": [
    "jnp.linalg.det(V)"
   ]
  },
  {
   "cell_type": "code",
   "execution_count": 868,
   "metadata": {},
   "outputs": [],
   "source": [
    "\n",
    "def generate_regular_simplex(dim):\n",
    "    res = []\n",
    "    I = np.eye(dim)\n",
    "    for i in range(dim):\n",
    "        res.append(jnp.sqrt(1 + 1/dim) * I[i] - 1/pow(dim, 3/2) *(np.sqrt(dim + 1) + 1) * np.ones(dim))\n",
    "        \n",
    "    res.append(1/np.sqrt(dim) * np.ones(dim))\n",
    "    \n",
    "    return jnp.array(res).T\n",
    "\n",
    "def loss_getter(dim, N, H, sig):\n",
    "    def helper(X):\n",
    "\n",
    "        S = X.reshape(N, dim).T\n",
    "        \n",
    "        S_inv = jnp.linalg.inv(S)\n",
    "        \n",
    "        first_term = S_inv.T @ jnp.diag(S.T @ H @ S)\n",
    "        second_term = jnp.linalg.norm(S_inv, ord=\"fro\")**2\n",
    "        third_term = S_inv.T @ jnp.ones(dim)\n",
    "        third_term = jnp.linalg.norm(third_term)**2\n",
    "        \n",
    "        return 1/2 * jnp.linalg.norm(first_term)**2 + sig**2 * (second_term + third_term)\n",
    "\n",
    "    return helper\n",
    "\n",
    "\n",
    "\n",
    "def convert_to_U(W, to_insert):\n",
    "    dim = W.shape[0] + 1\n",
    "    V = generate_regular_simplex(dim - 1)\n",
    "    tmp_U = (jnp.sqrt((dim - 1)/dim) * W @ V)\n",
    "    U = jnp.insert(tmp_U, to_insert, jnp.ones(shape=(1, dim))/jnp.sqrt(dim), axis=0)\n",
    "    return U\n",
    "\n",
    "def construct_c(sing_vals, D):\n",
    "    return sing_vals**2 * jnp.diag(D)\n",
    "\n",
    "def orthog_linesearch(l, c1, c2):\n",
    "\n",
    "    def helper(X, search_direction, A):\n",
    "        f0 = l(X)\n",
    "        g_tau_0 = -1/2 * jnp.linalg.norm(A, \"fro\")**2\n",
    "        \n",
    "        def armijo_rule(alpha):\n",
    "            return (l(search_direction(alpha)) > f0 + c1*alpha*g_tau_0) # and alpha > 0.001\n",
    "        \n",
    "        def armijo_update(alpha):\n",
    "            return c2*alpha\n",
    "            \n",
    "        alpha = 1\n",
    "        max_calls = 100\n",
    "        while armijo_rule(alpha) and max_calls > 0:\n",
    "            alpha = armijo_update(alpha)\n",
    "            max_calls -= 1\n",
    "\n",
    "        return alpha\n",
    "\n",
    "    return helper\n",
    "\n",
    "\n",
    "def optimize_W(c, num_iter, x_init=None):\n",
    "    \"\"\"Constraint is U.c = \\bar{c} 1 and U.U^T = I\"\"\"\n",
    "    \n",
    "    dim = len(c)\n",
    "    \n",
    "    V = generate_regular_simplex(dim)\n",
    "    \n",
    "    # init X\n",
    "    if x_init is None:\n",
    "        X = jnp.eye(dim)\n",
    "    else:\n",
    "        X = x_init\n",
    "    I = jnp.eye(dim)\n",
    "    \n",
    "    \n",
    "    def l(U):\n",
    "        U_matrix = U.reshape(dim, dim)\n",
    "        return jnp.linalg.norm(jnp.diag(V.T @ U_matrix.T @ jnp.diag(c) @ U_matrix @ V) - jnp.ones(dim + 1) * jnp.mean(c)) \n",
    "    \n",
    "    \n",
    "    g_l = grad(l)\n",
    "    linesearch = orthog_linesearch(l, c1=0.1, c2=0.9)\n",
    "\n",
    "\n",
    "    eps = 1e-4\n",
    "    l_eps = 1e-2\n",
    "    \n",
    "    l_hist = []\n",
    "    for _ in range(num_iter):\n",
    "        num_iter -= 1\n",
    "        \n",
    "        G = g_l(X.flatten()).reshape(dim, dim)\n",
    "        l_hist.append(l(X))\n",
    "        \n",
    "        if l_hist[-1] < l_eps:\n",
    "            break\n",
    "\n",
    "        if jnp.linalg.norm(G) < eps:\n",
    "            break\n",
    "        \n",
    "        A = G @ X.T - X @ G.T\n",
    "                \n",
    "        Y = lambda tau: jnp.linalg.inv(I + tau/2 * A) @ (I - tau/2 * A) @ X\n",
    "        \n",
    "        alpha = linesearch(X, Y, A)\n",
    "\n",
    "        \n",
    "        X = Y(alpha)\n",
    "    # plt.plot(l_hist)\n",
    "    # plt.show()\n",
    "    print(l_hist[-1])\n",
    "    return X, l_hist\n",
    "\n",
    "\n",
    "def create_S(H, sig, num_iter=10, x_init=None):\n",
    "    dim = H.shape[0] \n",
    "\n",
    "\n",
    "    sing_vals = get_full_sing_vals(D, dim, sig)\n",
    "    c = construct_c(sing_vals, D)\n",
    "    min_D = jnp.diag(D).argmin()\n",
    "    W, l_hist = optimize_W(np.delete(c, min_D), num_iter, x_init=x_init) \n",
    "    U = convert_to_U(W, min_D)\n"
   ]
  },
  {
   "cell_type": "code",
   "execution_count": 882,
   "metadata": {},
   "outputs": [
    {
     "name": "stdout",
     "output_type": "stream",
     "text": [
      "3.5999382450904065\n"
     ]
    }
   ],
   "source": [
    "min_D = D_diag.argmin()\n",
    "\n",
    "\n",
    "c = D_diag * lambda_coeff_zero(D_diag, sig)\n",
    "num_iter = 20\n",
    "\n",
    "W, l_hist = optimize_W(np.delete(c, min_D), num_iter, x_init=None) "
   ]
  },
  {
   "cell_type": "code",
   "execution_count": 883,
   "metadata": {},
   "outputs": [
    {
     "data": {
      "text/plain": [
       "[<matplotlib.lines.Line2D at 0x7fce475ebd30>]"
      ]
     },
     "execution_count": 883,
     "metadata": {},
     "output_type": "execute_result"
    },
    {
     "data": {
      "image/png": "[encoded data removed]",
      "text/plain": [
       "<Figure size 432x288 with 1 Axes>"
      ]
     },
     "metadata": {
      "needs_background": "light"
     },
     "output_type": "display_data"
    }
   ],
   "source": [
    "plt.plot(l_hist)"
   ]
  },
  {
   "cell_type": "code",
   "execution_count": 345,
   "metadata": {},
   "outputs": [
    {
     "data": {
      "text/plain": [
       "DeviceArray([[ 0.4472136 ,  0.4472136 ,  0.4472136 ,  0.4472136 ,\n",
       "               0.4472136 ],\n",
       "             [ 0.45325026, -0.36939767, -0.11589638, -0.55150087,\n",
       "               0.58354467],\n",
       "             [-0.53255701,  0.61633658, -0.12679408, -0.37818662,\n",
       "               0.42120113],\n",
       "             [-0.26450555, -0.20711341,  0.87709287, -0.33623676,\n",
       "              -0.06923716],\n",
       "             [-0.49090126, -0.49069198, -0.03463205,  0.48965959,\n",
       "               0.52656571]], dtype=float64)"
      ]
     },
     "execution_count": 345,
     "metadata": {},
     "output_type": "execute_result"
    }
   ],
   "source": [
    "convert_to_U(W, min_D)\n",
    "\n"
   ]
  },
  {
   "cell_type": "code",
   "execution_count": 346,
   "metadata": {},
   "outputs": [
    {
     "data": {
      "text/plain": [
       "DeviceArray([[0.2       , 0.2       , 0.2       , 0.2       , 0.2       ],\n",
       "             [0.2054358 , 0.13645464, 0.01343197, 0.30415321, 0.34052438],\n",
       "             [0.28361697, 0.37987078, 0.01607674, 0.14302512, 0.17741039],\n",
       "             [0.06996318, 0.04289596, 0.76929191, 0.11305516, 0.00479378],\n",
       "             [0.24098405, 0.24077862, 0.00119938, 0.23976651, 0.27727144]],            dtype=float64)"
      ]
     },
     "execution_count": 346,
     "metadata": {},
     "output_type": "execute_result"
    }
   ],
   "source": [
    "convert_to_U(W, min_D)**2"
   ]
  },
  {
   "cell_type": "code",
   "execution_count": 347,
   "metadata": {},
   "outputs": [
    {
     "data": {
      "text/plain": [
       "DeviceArray([[2.03107769e-01, 1.97428363e-01, 1.98178050e-01,\n",
       "              1.98178050e-01, 2.03107769e-01],\n",
       "             [1.69203849e-02, 4.97947021e-01, 2.34106105e-01,\n",
       "              2.34106105e-01, 1.69203849e-02],\n",
       "             [5.00000000e-01, 5.80550481e-24, 8.27660310e-25,\n",
       "              8.33123483e-25, 5.00000000e-01],\n",
       "             [1.72551904e-27, 3.16507320e-27, 5.00000000e-01,\n",
       "              5.00000000e-01, 1.47332791e-27],\n",
       "             [2.79971846e-01, 3.04624617e-01, 6.77158454e-02,\n",
       "              6.77158454e-02, 2.79971846e-01]], dtype=float64)"
      ]
     },
     "execution_count": 347,
     "metadata": {},
     "output_type": "execute_result"
    }
   ],
   "source": [
    "V**2"
   ]
  },
  {
   "cell_type": "code",
   "execution_count": 881,
   "metadata": {},
   "outputs": [
    {
     "data": {
      "text/plain": [
       "DeviceArray([1464.1212047 , 1447.96052931, 1462.53179219, 1468.72421762,\n",
       "             1494.97148799], dtype=float64)"
      ]
     },
     "execution_count": 881,
     "metadata": {},
     "output_type": "execute_result"
    }
   ],
   "source": [
    "convert_to_U(W, min_D).T**2 @ (l_curr * D_diag)"
   ]
  },
  {
   "cell_type": "code",
   "execution_count": 349,
   "metadata": {},
   "outputs": [
    {
     "data": {
      "text/plain": [
       "DeviceArray([18.83362301, 17.52869294, 15.54872977, 15.54872977,\n",
       "             18.83362301], dtype=float64)"
      ]
     },
     "execution_count": 349,
     "metadata": {},
     "output_type": "execute_result"
    }
   ],
   "source": [
    "V.T**2 @ (SIG * D_diag)"
   ]
  },
  {
   "cell_type": "code",
   "execution_count": 877,
   "metadata": {},
   "outputs": [
    {
     "data": {
      "text/plain": [
       "DeviceArray([2.17307594e+04, 1.41419684e-01, 9.99998177e-02,\n",
       "             8.16497814e-02, 7.07109027e-02], dtype=float64)"
      ]
     },
     "execution_count": 877,
     "metadata": {},
     "output_type": "execute_result"
    }
   ],
   "source": [
    "lambda_coeff_zero(D_diag, sig)"
   ]
  },
  {
   "cell_type": "code",
   "execution_count": 879,
   "metadata": {},
   "outputs": [],
   "source": [
    "l_curr = lambda_coeff_zero(D_diag, sig)**0.5\n",
    "pred_S = jnp.diag(l_curr) @ convert_to_U(W, min_D)"
   ]
  },
  {
   "cell_type": "code",
   "execution_count": 880,
   "metadata": {},
   "outputs": [
    {
     "data": {
      "text/plain": [
       "DeviceArray(97.63444412, dtype=float64)"
      ]
     },
     "execution_count": 880,
     "metadata": {},
     "output_type": "execute_result"
    }
   ],
   "source": [
    "l(pred_S.T.flatten())"
   ]
  },
  {
   "cell_type": "code",
   "execution_count": 874,
   "metadata": {},
   "outputs": [
    {
     "data": {
      "text/plain": [
       "(DeviceArray([[-1.00000000e+00, -3.38813179e-21,  8.47032947e-22,\n",
       "               -2.96461532e-21,  4.23516474e-21],\n",
       "              [-1.69406589e-21, -1.00000000e+00, -2.62012095e-17,\n",
       "                1.90143584e-16, -4.39639029e-16],\n",
       "              [ 1.69406589e-21,  1.95843395e-16, -1.00000000e+00,\n",
       "                6.65619383e-16,  2.80920175e-16],\n",
       "              [-4.23516474e-22,  1.42923323e-16,  8.05426125e-16,\n",
       "                1.00000000e+00, -4.50051790e-15],\n",
       "              [-1.27054942e-21,  3.93028239e-16,  1.14386722e-16,\n",
       "               -4.37432740e-15, -1.00000000e+00]], dtype=float64),\n",
       " DeviceArray([2.17307594e+04, 1.41419684e-01, 9.99998177e-02,\n",
       "              8.16497814e-02, 7.07109027e-02], dtype=float64),\n",
       " DeviceArray([[-0.4472136 , -0.4472136 , -0.4472136 , -0.4472136 ,\n",
       "               -0.4472136 ],\n",
       "              [-0.42816052,  0.03693098,  0.45516764,  0.51852756,\n",
       "               -0.58246567],\n",
       "              [ 0.54497768, -0.78364584,  0.17724064,  0.1974435 ,\n",
       "               -0.13601598],\n",
       "              [-0.2445252 , -0.18657843,  0.73361412, -0.55216043,\n",
       "                0.24964994],\n",
       "              [ 0.50978949,  0.38694159,  0.15237616, -0.43274021,\n",
       "               -0.61636702]], dtype=float64))"
      ]
     },
     "execution_count": 874,
     "metadata": {},
     "output_type": "execute_result"
    }
   ],
   "source": [
    "jnp.linalg.svd(pred_S)"
   ]
  },
  {
   "cell_type": "code",
   "execution_count": 875,
   "metadata": {},
   "outputs": [
    {
     "data": {
      "text/plain": [
       "(DeviceArray([[-1.00000000e+00, -3.39572120e-16,  7.19910243e-17,\n",
       "                1.25333771e-16, -1.64798730e-16],\n",
       "              [ 3.42174206e-16, -1.00000000e+00, -9.74336688e-14,\n",
       "                5.49295954e-15, -7.92018200e-15],\n",
       "              [-7.15573434e-17,  9.71879132e-14, -1.00000000e+00,\n",
       "                2.38411657e-14, -9.69862974e-15],\n",
       "              [ 1.26201133e-16,  5.66404410e-15,  2.36202210e-14,\n",
       "                1.00000000e+00, -4.06530091e-13],\n",
       "              [ 1.65666092e-16,  8.06762799e-15,  9.25963882e-15,\n",
       "               -4.06417824e-13, -1.00000000e+00]], dtype=float64),\n",
       " DeviceArray([147.41357267,   0.37605809,   0.31622748,   0.28574426,\n",
       "                0.26591522], dtype=float64),\n",
       " DeviceArray([[-0.4472136 , -0.4472136 , -0.4472136 , -0.4472136 ,\n",
       "               -0.4472136 ],\n",
       "              [-0.38602862, -0.58414521,  0.53546222,  0.47088035,\n",
       "               -0.03616874],\n",
       "              [-0.58375551,  0.09003687, -0.14334048, -0.14388487,\n",
       "                0.78094399],\n",
       "              [ 0.28725657, -0.30406382,  0.51834034, -0.71476247,\n",
       "                0.21322938],\n",
       "              [-0.47717405,  0.59850892,  0.47334661, -0.21606355,\n",
       "               -0.37861793]], dtype=float64))"
      ]
     },
     "execution_count": 875,
     "metadata": {},
     "output_type": "execute_result"
    }
   ],
   "source": [
    "jnp.linalg.svd(opt_S)"
   ]
  },
  {
   "cell_type": "code",
   "execution_count": 354,
   "metadata": {},
   "outputs": [
    {
     "data": {
      "text/plain": [
       "DeviceArray(27.80474141, dtype=float64)"
      ]
     },
     "execution_count": 354,
     "metadata": {},
     "output_type": "execute_result"
    }
   ],
   "source": [
    "l(opt_S.T.flatten())"
   ]
  },
  {
   "cell_type": "code",
   "execution_count": 866,
   "metadata": {},
   "outputs": [
    {
     "data": {
      "text/plain": [
       "DeviceArray(3617.01002089, dtype=float64)"
      ]
     },
     "execution_count": 866,
     "metadata": {},
     "output_type": "execute_result"
    }
   ],
   "source": [
    "l(create_approx_S_multi(jnp.diag(D_diag), sig, None, None).T.flatten())\n",
    "\n"
   ]
  },
  {
   "cell_type": "code",
   "execution_count": 359,
   "metadata": {},
   "outputs": [
    {
     "data": {
      "text/plain": [
       "(DeviceArray([[-1.00000000e+00, -4.15654436e-17,  5.55111512e-17,\n",
       "               -4.16333634e-17, -4.16333634e-17],\n",
       "              [ 0.00000000e+00,  1.00000000e+00, -1.66533454e-15,\n",
       "               -3.55271368e-15,  1.72084569e-15],\n",
       "              [-2.77555756e-17,  2.10678390e-15,  1.00000000e+00,\n",
       "               -4.76181594e-16,  3.44342610e-16],\n",
       "              [-1.38777878e-17, -3.66571559e-15, -8.63024929e-16,\n",
       "               -1.00000000e+00, -2.35922393e-16],\n",
       "              [-2.77555756e-17,  1.71936119e-15,  3.98986399e-17,\n",
       "                9.58434720e-17, -1.00000000e+00]], dtype=float64),\n",
       " DeviceArray([6.23450918, 0.94574161, 0.79796106, 0.59838638, 0.44872648],            dtype=float64),\n",
       " DeviceArray([[-5.00000000e-01,  0.00000000e+00, -5.00000000e-01,\n",
       "               -5.00000000e-01, -5.00000000e-01],\n",
       "              [ 0.00000000e+00,  1.00000000e+00, -2.44249065e-15,\n",
       "                1.77635684e-15,  9.99200722e-16],\n",
       "              [ 5.00000000e-01, -1.55431223e-15, -5.00000000e-01,\n",
       "                5.00000000e-01, -5.00000000e-01],\n",
       "              [-5.00000000e-01, -2.44249065e-15, -5.00000000e-01,\n",
       "                5.00000000e-01,  5.00000000e-01],\n",
       "              [-5.00000000e-01,  8.32667268e-16,  5.00000000e-01,\n",
       "                5.00000000e-01, -5.00000000e-01]], dtype=float64))"
      ]
     },
     "execution_count": 359,
     "metadata": {},
     "output_type": "execute_result"
    }
   ],
   "source": [
    "jnp.linalg.svd(create_approx_S_multi(jnp.diag(D_diag), sig, None, None))"
   ]
  },
  {
   "cell_type": "code",
   "execution_count": 878,
   "metadata": {},
   "outputs": [
    {
     "name": "stdout",
     "output_type": "stream",
     "text": [
      "[2.17307594e+04 1.41419684e-01 9.99998177e-02 8.16497814e-02\n",
      " 7.07109027e-02]\n",
      "fun all 86.92193336252464\n"
     ]
    }
   ],
   "source": [
    "lall = lambda_coeff_zero(D_diag, sig)\n",
    "print(lall)\n",
    "fall = lmbda_loss(lall, D_diag, sig, np.argmin(D_diag))\n",
    "print(\"fun all\", fall)\n",
    "\n"
   ]
  },
  {
   "cell_type": "code",
   "execution_count": 865,
   "metadata": {},
   "outputs": [
    {
     "data": {
      "text/plain": [
       "DeviceArray(86.92193336, dtype=float64)"
      ]
     },
     "execution_count": 865,
     "metadata": {},
     "output_type": "execute_result"
    }
   ],
   "source": [
    "res[-1]"
   ]
  },
  {
   "cell_type": "code",
   "execution_count": null,
   "metadata": {},
   "outputs": [],
   "source": [
    "# Only use for trying different choices for the pow_index_sets. \n",
    "def get_S_pow_index_sets_rand(D_diag, jrandom_key=None):\n",
    "    \"\"\"Returns a set of sets. Each set with the indecies of H to use.\"\"\"\n",
    "    jrandom_key = jrandom.PRNGKey(np.random.randint(0, 100))\n",
    "    dim = len(D_diag)\n",
    "    curr_n = 0\n",
    "    res = []\n",
    "    indecies = jnp.array(range(dim))\n",
    "    indecies = jrandom.permutation(jrandom_key, indecies, independent=True)\n",
    "    curr_i = 0\n",
    "    while dim > 0:\n",
    "        if dim % 2 == 1:\n",
    "            dim = (dim - 1)/2\n",
    "            res.append(jnp.sort(indecies[curr_i:curr_i + 2**curr_n]))\n",
    "            curr_i += 2**curr_n\n",
    "            curr_n += 1\n",
    "        else:\n",
    "            curr_n += 1\n",
    "            dim = dim/2\n",
    "            res.append(None)\n",
    "    return res\n",
    "\n",
    "def old_get_S_pow_index_sets(D_diag,):\n",
    "    \"\"\"Returns a set of sets. Each set with the indecies of H to use.\"\"\"\n",
    "    dim = len(D_diag)\n",
    "    curr_n = int(math.log2(dim))\n",
    "    res = []\n",
    "    curr_start = 0\n",
    "    curr_end = dim\n",
    "    while curr_n >= 0:\n",
    "\n",
    "        if dim >= 2**curr_n:\n",
    "            dim = dim - 2**curr_n\n",
    "            next_start = int(curr_start + 2**(curr_n-1))\n",
    "            next_end = int(curr_end - 2**(curr_n-1)) # will round down when curr_n == 0 while the one above will not round up. so we are good. \n",
    "            res.append(jnp.array(list(range(curr_start, next_start)) + list(range(next_end, curr_end))))\n",
    "            curr_start = next_start\n",
    "            curr_end = next_end\n",
    "            curr_n -= 1\n",
    "        else:\n",
    "            curr_n -= 1\n",
    "            res.append(None)\n",
    "    return res[::-1]"
   ]
  },
  {
   "cell_type": "code",
   "execution_count": 9,
   "metadata": {},
   "outputs": [
    {
     "data": {
      "text/plain": [
       "(array([1., 2., 2., 2., 6., 3., 4.]),\n",
       " array([50.        , 54.71428571, 59.42857143, 64.14285714, 68.85714286,\n",
       "        73.57142857, 78.28571429, 83.        ]),\n",
       " <BarContainer object of 7 artists>)"
      ]
     },
     "execution_count": 9,
     "metadata": {},
     "output_type": "execute_result"
    },
    {
     "data": {
      "image/png": "[encoded data removed]",
      "text/plain": [
       "<Figure size 432x288 with 1 Axes>"
      ]
     },
     "metadata": {
      "needs_background": "light"
     },
     "output_type": "display_data"
    }
   ],
   "source": [
    "\n",
    "grd = [71, 79, 72, 77, 60, 72, 64, 70, 80, 73, 66, 83, 69, 79, 58, 77, 58, 77, 50, 65]\n",
    "plt.hist(grd, bins=7)\n",
    "\n"
   ]
  },
  {
   "cell_type": "code",
   "execution_count": 15,
   "metadata": {},
   "outputs": [],
   "source": [
    "res = np.array([[0.00311252, 0.000101309],\n",
    "[0.00347472, 0.000236526],\n",
    "[0.0105507, 0.000229789],\n",
    "[-5.52553e-05, 0.000151498],\n",
    "[0.0024493, 0.000115099],\n",
    "[-0.00344531, 0.000123262],\n",
    "[0.00811308, 0.00013057],\n",
    "[0.0045862, 7.32582e-05],\n",
    "[-0.000467935, 0.000741309],\n",
    "[0.00645996, 0.000477385],\n",
    "[0.00360198, 0.000157982],\n",
    "[0.00478154, 0.000204837],\n",
    "[0.00276193, 7.46504e-05],\n",
    "[-0.00407409, 0.000287393],\n",
    "[-0.00186455, 0.0002852],\n",
    "[-0.00546151, 0.000676818],\n",
    "[-0.000369483, 0.000635041],\n",
    "[-0.00474919, 0.000319618],\n",
    "[-0.00325508, 0.00074294],\n",
    "[0.0107296, 0.00214335],\n",
    "[-0.0156598, 0.000680763],\n",
    "[0.00423428, 0.000554002],\n",
    "[0.0100334, 0.0002813],\n",
    "[0.00449337, 0.000217061],\n",
    "[-0.00253388, 0.000121177],\n",
    "[-0.00189742, 0.00023984],\n",
    "[0.0037909, 0.000255839],\n",
    "[0.00385595, 0.000139007],\n",
    "[0.00118621, 0.00019287],\n",
    "[0.00359684, 0.000115248],\n",
    "[-0.000671179, 0.000186274],\n",
    "[0.00383318, 0.000261197],\n",
    "[-0.00405596, 0.000141916],\n",
    "[0.00194106, 0.000151036],\n",
    "[0.00504568, 0.000123505],\n",
    "[0.003647, 0.000128514],\n",
    "[-0.0018917, 0.000111955],\n",
    "[0.00507159, 0.000106074],\n",
    "[0.000589177, 0.000115222],\n",
    "[-0.00051055, 0.000289711],\n",
    "[0.00175062, 0.000139805],\n",
    "[-0.00401138, 0.000194803],\n",
    "[0.00404799, 0.000184815],\n",
    "[-0.00179794, 0.000124969],\n",
    "[-0.00501302, 0.000222046],\n",
    "[0.00640203, 0.000963562],\n",
    "[0.0037365, 0.00022995],\n",
    "[0.000398045, 0.000329082],\n",
    "[-0.00462455, 0.00152763],\n",
    "])"
   ]
  },
  {
   "cell_type": "code",
   "execution_count": 19,
   "metadata": {},
   "outputs": [
    {
     "data": {
      "text/plain": [
       "(array([1., 0., 0., 0., 0., 0., 0., 0., 0., 0., 0., 0., 0., 0., 0., 0., 0.,\n",
       "        0., 0., 1., 3., 2., 1., 2., 1., 0., 4., 0., 4., 1., 2., 1., 1., 1.,\n",
       "        2., 1., 8., 2., 3., 2., 0., 2., 0., 0., 0., 1., 0., 0., 1., 2.]),\n",
       " array([-0.0156598 , -0.01513201, -0.01460422, -0.01407644, -0.01354865,\n",
       "        -0.01302086, -0.01249307, -0.01196528, -0.0114375 , -0.01090971,\n",
       "        -0.01038192, -0.00985413, -0.00932634, -0.00879856, -0.00827077,\n",
       "        -0.00774298, -0.00721519, -0.0066874 , -0.00615962, -0.00563183,\n",
       "        -0.00510404, -0.00457625, -0.00404846, -0.00352068, -0.00299289,\n",
       "        -0.0024651 , -0.00193731, -0.00140952, -0.00088174, -0.00035395,\n",
       "         0.00017384,  0.00070163,  0.00122942,  0.0017572 ,  0.00228499,\n",
       "         0.00281278,  0.00334057,  0.00386836,  0.00439614,  0.00492393,\n",
       "         0.00545172,  0.00597951,  0.0065073 ,  0.00703508,  0.00756287,\n",
       "         0.00809066,  0.00861845,  0.00914624,  0.00967402,  0.01020181,\n",
       "         0.0107296 ]),\n",
       " <BarContainer object of 50 artists>)"
      ]
     },
     "execution_count": 19,
     "metadata": {},
     "output_type": "execute_result"
    },
    {
     "data": {
      "image/png": "[encoded data removed]",
      "text/plain": [
       "<Figure size 432x288 with 1 Axes>"
      ]
     },
     "metadata": {
      "needs_background": "light"
     },
     "output_type": "display_data"
    }
   ],
   "source": [
    "np.mean(res[:, 0])\n",
    "\n",
    "plt.hist(res[:, 0], bins=50)"
   ]
  }
 ],
 "metadata": {
  "kernelspec": {
   "display_name": "Python (simplex_grad)",
   "language": "python",
   "name": "simplex_grad"
  },
  "language_info": {
   "codemirror_mode": {
    "name": "ipython",
    "version": 3
   },
   "file_extension": ".py",
   "mimetype": "text/x-python",
   "name": "python",
   "nbconvert_exporter": "python",
   "pygments_lexer": "ipython3",
   "version": "3.10.0"
  }
 },
 "nbformat": 4,
 "nbformat_minor": 2
}
