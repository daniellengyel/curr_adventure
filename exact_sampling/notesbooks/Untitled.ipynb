{
 "cells": [
  {
   "cell_type": "code",
   "execution_count": 392,
   "metadata": {},
   "outputs": [],
   "source": [
    "import numpy as np\n",
    "from scipy.interpolate import Rbf, RBFInterpolator\n",
    "import jax.numpy as jnp\n",
    "from jax import grad, jacfwd\n",
    "\n",
    "from jax.config import config\n",
    "config.update(\"jax_enable_x64\", True)\n",
    "\n",
    "import matplotlib.pyplot as plt"
   ]
  },
  {
   "cell_type": "code",
   "execution_count": 393,
   "metadata": {},
   "outputs": [],
   "source": [
    "def create_W(S):\n",
    "    dim = S.shape[0]\n",
    "    N = S.shape[1]\n",
    "    A = 1/2 * (S.T @ S)**2\n",
    "    eXT = jnp.concatenate([jnp.ones(shape=(N, 1)), S.T], axis=1)\n",
    "    eTX0 = jnp.concatenate([eXT.T, jnp.zeros(shape=(dim+1, dim+1))], axis=1)\n",
    "    W = jnp.concatenate([A, eXT], axis=1)\n",
    "    W = jnp.concatenate([W, eTX0], axis=0)\n",
    "    return W\n",
    "\n",
    "def get_G(S, F_vals):\n",
    "    dim = len(S)\n",
    "\n",
    "    W = create_W(S)\n",
    "    F_vals0 = jnp.concatenate([F_vals, jnp.zeros(dim + 1)])\n",
    "    lcg = jnp.linalg.solve(W, F_vals0)\n",
    "\n",
    "    lmbda = lcg[:-(dim+1)]\n",
    "\n",
    "    return S @ jnp.diag(lmbda) @ S.T\n",
    "\n",
    "def _thin_plate_f2(x, y, epsilon, coeffs, shift, scale, powers):\n",
    "    dim = len(x)\n",
    "    p = y.shape[0]\n",
    "    yeps = y*epsilon\n",
    "    xeps = x*epsilon\n",
    "    r = jnp.linalg.norm(xeps - yeps, axis=1)\n",
    "\n",
    "    log_r = jnp.log(r)\n",
    "\n",
    "    a = 2 * epsilon**2 * jnp.eye(dim) * (log_r @ coeffs[:p, 0])\n",
    "    b = 2 * epsilon**2 * (xeps - yeps).T @ ((coeffs[:p, 0]/r**2).reshape(-1, 1) * (xeps - yeps))\n",
    "    c = 2 * epsilon * jnp.eye(dim) * jnp.sum(coeffs[:p, 0])\n",
    "\n",
    "    return a + b + c\n",
    "\n",
    "def polynomial_vector(x, powers):\n",
    "    \"\"\"Evaluate monomials, with exponents from `powers`, at the point `x`.\"\"\"\n",
    "    return jnp.array([jnp.prod(x**powers[i]) for i in range(powers.shape[0])])\n",
    "\n",
    "def _thin_plate_f(x, y, epsilon, coeffs, shift, scale, powers):\n",
    "    dim = len(x)\n",
    "    p = y.shape[0]\n",
    "    yeps = y*epsilon\n",
    "    xeps = x*epsilon\n",
    "    r = jnp.linalg.norm(xeps - yeps, axis=1)\n",
    "    \n",
    "    xhat = (x - shift)/scale\n",
    "    \n",
    "    poly_vec = polynomial_vector(xhat, powers)\n",
    "    \n",
    "    kernel_term = (r**2 * jnp.log(r)) @ coeffs[:p, 0]\n",
    "    \n",
    "    return kernel_term + poly_vec @ coeffs[p:, 0]\n",
    "\n",
    "\n",
    "def get_H_rbf(x_0, S, F_vals):\n",
    "    \n",
    "    rbf = RBFInterpolator(S.T, F_vals) #, epsilon=0.1, kernel=\"gaussian\")\n",
    "    coeffs = jnp.array(rbf._coeffs)\n",
    "    y = jnp.array(rbf.y)\n",
    "    epsilon = rbf.epsilon\n",
    "    shift = jnp.array(rbf._shift)\n",
    "    scale = jnp.array(rbf._scale)\n",
    "    powers = jnp.array(rbf.powers)\n",
    "\n",
    "    H = _thin_plate_f2(x_0, y, epsilon, coeffs, shift, scale, powers)\n",
    "\n",
    "    rbf_f1 = grad(lambda x: _thin_plate_f(x, y, epsilon, coeffs, shift, scale, powers))\n",
    "    rbf_f2 = jacfwd(lambda x: rbf_f1(x))\n",
    "#     print(\"H diff approx\", jnp.linalg.norm(H - rbf_f2(x_0)))\n",
    "#     print(rbf_f2(x_0))\n",
    "    f1 = rbf_f1(jnp.array(x_0))\n",
    "    f2 = rbf_f2(jnp.array(x_0))\n",
    "\n",
    "\n",
    "    return f2, f1\n",
    "\n",
    "def get_rbf(x_0, S, F_vals):\n",
    "    rbf = RBFInterpolator(S.T, F_vals) #, epsilon=0.1, kernel=\"gaussian\")\n",
    "    coeffs = jnp.array(rbf._coeffs)\n",
    "    y = jnp.array(rbf.y)\n",
    "    epsilon = rbf.epsilon\n",
    "    shift = jnp.array(rbf._shift)\n",
    "    scale = jnp.array(rbf._scale)\n",
    "    powers = jnp.array(rbf.powers)\n",
    "\n",
    "    return lambda x: _thin_plate_f(x, y, epsilon, coeffs, shift, scale, powers)\n",
    "\n"
   ]
  },
  {
   "cell_type": "code",
   "execution_count": 394,
   "metadata": {},
   "outputs": [],
   "source": [
    "def f(Q, b):\n",
    "    def helper(x):\n",
    "        return jnp.diag(x.T @ Q @ x) + b @ x\n",
    "    return helper"
   ]
  },
  {
   "cell_type": "code",
   "execution_count": 396,
   "metadata": {},
   "outputs": [],
   "source": [
    "dim = 10\n",
    "Q = np.random.normal(size=(dim, dim))\n",
    "H = 1/2. * (Q + Q.T)\n",
    "b = np.random.normal(size=(dim)) * 10\n",
    "F = f(jnp.array(H) * 1/2., jnp.array(b))\n",
    "\n",
    "F_f1 = grad(lambda x: F(x)[0])"
   ]
  },
  {
   "cell_type": "code",
   "execution_count": 402,
   "metadata": {},
   "outputs": [
    {
     "data": {
      "text/plain": [
       "(DeviceArray([[-0.03412051, -0.06659185, -0.52653174,  0.33086283,\n",
       "               -0.75507203, -0.58364475, -1.44978701, -0.78166783,\n",
       "                0.84573838, -0.54351889],\n",
       "              [-0.06659185, -0.08751668,  0.05107925, -1.28711582,\n",
       "               -1.04254281,  0.37645262,  1.31639876,  0.67607228,\n",
       "                1.42174481, -1.28701004],\n",
       "              [-0.52653174,  0.05107925,  0.06317139, -0.42153746,\n",
       "                0.60348872,  0.77220939, -0.85744294,  1.05942487,\n",
       "                0.49758376, -0.55214744],\n",
       "              [ 0.33086283, -1.28711582, -0.42153746, -0.55618667,\n",
       "                1.11928231, -0.09184436, -0.16255057, -0.74348247,\n",
       "               -0.22046088,  0.04438425],\n",
       "              [-0.75507203, -1.04254281,  0.60348872,  1.11928231,\n",
       "               -0.24796819,  0.28111288,  0.07475028,  0.22387923,\n",
       "                0.11508978, -0.12100961],\n",
       "              [-0.58364475,  0.37645262,  0.77220939, -0.09184436,\n",
       "                0.28111288, -0.89630684,  1.49446328, -0.76190137,\n",
       "                0.91317387,  1.18740882],\n",
       "              [-1.44978701,  1.31639876, -0.85744294, -0.16255057,\n",
       "                0.07475028,  1.49446328, -0.68736461, -0.761528  ,\n",
       "               -0.4087613 ,  0.59971621],\n",
       "              [-0.78166783,  0.67607228,  1.05942487, -0.74348247,\n",
       "                0.22387923, -0.76190137, -0.761528  , -0.72755104,\n",
       "                0.11046986, -1.13783494],\n",
       "              [ 0.84573838,  1.42174481,  0.49758376, -0.22046088,\n",
       "                0.11508978,  0.91317387, -0.4087613 ,  0.11046986,\n",
       "               -0.43017434,  0.28336059],\n",
       "              [-0.54351889, -1.28701004, -0.55214744,  0.04438425,\n",
       "               -0.12100961,  1.18740882,  0.59971621, -1.13783494,\n",
       "                0.28336059, -0.59408775]], dtype=float64),\n",
       " DeviceArray([-0.67665051,  2.20895681,  8.14977665, -0.82980509,\n",
       "              21.47680247, 15.70653342,  3.02294511, -4.37128357,\n",
       "              -1.74281222,  0.66881088], dtype=float64))"
      ]
     },
     "execution_count": 402,
     "metadata": {},
     "output_type": "execute_result"
    }
   ],
   "source": [
    "N = 1000\n",
    "low = -5\n",
    "high = 5\n",
    "S = np.random.uniform(low, high, size=(dim, N))\n",
    "\n",
    "ys = F(S)\n",
    "get_H_rbf(x_0, S, ys)"
   ]
  },
  {
   "cell_type": "code",
   "execution_count": null,
   "metadata": {},
   "outputs": [],
   "source": []
  },
  {
   "cell_type": "code",
   "execution_count": 417,
   "metadata": {},
   "outputs": [
    {
     "data": {
      "text/plain": [
       "DeviceArray([[-0.06306624],\n",
       "             [ 1.68045701],\n",
       "             [ 7.61965151],\n",
       "             [-0.13264907],\n",
       "             [21.59247241],\n",
       "             [15.26633634],\n",
       "             [ 3.07693546],\n",
       "             [-3.8110191 ],\n",
       "             [-1.90396513],\n",
       "             [ 1.0192627 ]], dtype=float64)"
      ]
     },
     "execution_count": 417,
     "metadata": {},
     "output_type": "execute_result"
    }
   ],
   "source": [
    "f1 = F_f1(jnp.array(x_0).reshape(-1, 1))\n",
    "f1"
   ]
  },
  {
   "cell_type": "code",
   "execution_count": 447,
   "metadata": {},
   "outputs": [],
   "source": [
    "res = []\n",
    "\n",
    "x_0 = np.ones(dim)\n",
    "\n",
    "N = dim * dim\n",
    "low = -5\n",
    "high = 5\n",
    "S = np.random.uniform(low, high, size=(dim, N))\n",
    "\n",
    "f1 = F_f1(jnp.array(x_0).reshape(-1, 1))\n",
    "eps_space = jnp.logspace(-5, 1, 20)\n",
    "for eps in eps_space:\n",
    "    H_err_avg = 0\n",
    "    f1_err_avg = 0\n",
    "    N_samples = 10\n",
    "    for _ in range(N_samples):\n",
    "        ys = F(S) + np.random.uniform(size=N)* eps\n",
    "        H_rbf, f1_rbf = get_H_rbf(x_0, S, ys)\n",
    "        H_err_avg += jnp.linalg.norm(H_rbf.flatten() - H.flatten())\n",
    "        f1_err_avg += jnp.linalg.norm(f1_rbf.flatten() - f1.flatten())\n",
    "        \n",
    "    res.append([f1_err_avg/N_samples, H_err_avg/N_samples])\n",
    "    \n",
    "\n",
    "\n",
    "\n",
    "\n"
   ]
  },
  {
   "cell_type": "code",
   "execution_count": 449,
   "metadata": {},
   "outputs": [
    {
     "data": {
      "text/plain": [
       "<matplotlib.legend.Legend at 0x7f9c72c4d420>"
      ]
     },
     "execution_count": 449,
     "metadata": {},
     "output_type": "execute_result"
    },
    {
     "data": {
      "image/png": "[encoded data removed]",
      "text/plain": [
       "<Figure size 432x288 with 1 Axes>"
      ]
     },
     "metadata": {
      "needs_background": "light"
     },
     "output_type": "display_data"
    }
   ],
   "source": [
    "res = np.array(res)\n",
    "plt.plot(eps_space, res[:, 0], label=\"f1\")\n",
    "plt.plot(eps_space, res[:, 1], label=\"f2\")\n",
    "plt.legend()"
   ]
  },
  {
   "cell_type": "code",
   "execution_count": 378,
   "metadata": {},
   "outputs": [
    {
     "data": {
      "text/plain": [
       "[<matplotlib.lines.Line2D at 0x7f9c72bd7b20>]"
      ]
     },
     "execution_count": 378,
     "metadata": {},
     "output_type": "execute_result"
    },
    {
     "data": {
      "image/png": "[encoded data removed]",
      "text/plain": [
       "<Figure size 432x288 with 1 Axes>"
      ]
     },
     "metadata": {
      "needs_background": "light"
     },
     "output_type": "display_data"
    }
   ],
   "source": [
    "xs = jnp.linspace(-5, 5, 50)\n",
    "\n",
    "eps = 0\n",
    "\n",
    "ys = F(S) + np.random.uniform(size=N)* eps\n",
    "\n",
    "# rbf = RBFInterpolator(S.T , ys)\n",
    "# rbf_out = rbf(xs.reshape(-1, 1))\n",
    "\n",
    "rbf = get_rbf(x_0, S.reshape(1, -1), ys)\n",
    "rbf_out = np.array([rbf(x) for x in xs.reshape(-1, 1)])\n",
    "\n",
    "plt.plot(xs, F(xs.reshape(1, -1)))\n",
    "plt.plot(xs, rbf_out)"
   ]
  },
  {
   "cell_type": "code",
   "execution_count": 372,
   "metadata": {},
   "outputs": [
    {
     "data": {
      "text/plain": [
       "array([-7.51327922e+00, -7.05031035e+00, -6.47591885e+00, -5.78342299e+00,\n",
       "       -5.11356480e+00, -4.48765648e+00, -3.90249569e+00, -3.35557030e+00,\n",
       "       -2.84699991e+00, -2.37683867e+00, -1.94601941e+00, -1.55204251e+00,\n",
       "       -1.19731190e+00, -8.81275396e-01, -6.02213331e-01, -3.62381190e-01,\n",
       "       -1.61159244e-01,  1.62220451e-03,  1.26494884e-01,  2.12585516e-01,\n",
       "        2.60340633e-01,  2.69679636e-01,  2.40441636e-01,  1.73166258e-01,\n",
       "        6.73348773e-02, -7.71892890e-02, -2.59755340e-01, -4.80709231e-01,\n",
       "       -7.40115097e-01, -1.03830232e+00, -1.37424929e+00, -1.74895386e+00,\n",
       "       -2.16196043e+00, -2.61388683e+00, -3.10375481e+00, -3.63174465e+00,\n",
       "       -4.19913917e+00, -4.80353907e+00, -5.44679532e+00, -6.12890681e+00,\n",
       "       -6.85012462e+00, -7.60762242e+00, -8.40477563e+00, -9.24026011e+00,\n",
       "       -1.01158220e+01, -1.10308782e+01, -1.19814129e+01, -1.28735996e+01,\n",
       "       -1.36216722e+01, -1.43016954e+01])"
      ]
     },
     "execution_count": 372,
     "metadata": {},
     "output_type": "execute_result"
    }
   ],
   "source": [
    "rbf_out"
   ]
  },
  {
   "cell_type": "code",
   "execution_count": 414,
   "metadata": {},
   "outputs": [
    {
     "data": {
      "text/plain": [
       "DeviceArray([[-0.06306624],\n",
       "             [ 1.68045701],\n",
       "             [ 7.61965151],\n",
       "             [-0.13264907],\n",
       "             [21.59247241],\n",
       "             [15.26633634],\n",
       "             [ 3.07693546],\n",
       "             [-3.8110191 ],\n",
       "             [-1.90396513],\n",
       "             [ 1.0192627 ]], dtype=float64)"
      ]
     },
     "execution_count": 414,
     "metadata": {},
     "output_type": "execute_result"
    }
   ],
   "source": [
    "f1"
   ]
  },
  {
   "cell_type": "code",
   "execution_count": 439,
   "metadata": {},
   "outputs": [],
   "source": [
    "rbf = RBFInterpolator(S.T, ys) #get_rbf(x_0, S, ys)"
   ]
  },
  {
   "cell_type": "code",
   "execution_count": 440,
   "metadata": {},
   "outputs": [
    {
     "data": {
      "text/plain": [
       "array([45.74626397])"
      ]
     },
     "execution_count": 440,
     "metadata": {},
     "output_type": "execute_result"
    }
   ],
   "source": [
    "rbf(x_0)"
   ]
  },
  {
   "cell_type": "code",
   "execution_count": 441,
   "metadata": {},
   "outputs": [
    {
     "data": {
      "text/plain": [
       "array([-0.34858372])"
      ]
     },
     "execution_count": 441,
     "metadata": {},
     "output_type": "execute_result"
    }
   ],
   "source": [
    "h = 1e-5\n",
    "\n",
    "e = jnp.eye(dim)[0]\n",
    "\n",
    "x_0 = np.ones(dim).reshape(1, -1)\n",
    "\n",
    "\n",
    "\n",
    "(rbf(x_0 + e * h) - rbf(x_0))/h"
   ]
  },
  {
   "cell_type": "code",
   "execution_count": 446,
   "metadata": {},
   "outputs": [
    {
     "data": {
      "text/plain": [
       "DeviceArray(2.89387263, dtype=float64)"
      ]
     },
     "execution_count": 446,
     "metadata": {},
     "output_type": "execute_result"
    }
   ],
   "source": [
    "jnp.linalg.norm(f1.flatten() - get_H_rbf(x_0, S, ys)[1].flatten())"
   ]
  },
  {
   "cell_type": "code",
   "execution_count": 436,
   "metadata": {},
   "outputs": [
    {
     "data": {
      "text/plain": [
       "DeviceArray([[-0.34858362,  1.56603207,  9.26814638, -0.20017696,\n",
       "              21.98013189, 16.48546854,  2.83448474, -4.37968818,\n",
       "              -3.23538455,  2.34831591]], dtype=float64)"
      ]
     },
     "execution_count": 436,
     "metadata": {},
     "output_type": "execute_result"
    }
   ],
   "source": [
    "get_H_rbf(x_0, S, ys)[1]"
   ]
  },
  {
   "cell_type": "code",
   "execution_count": 437,
   "metadata": {},
   "outputs": [
    {
     "ename": "TypeError",
     "evalue": "sub got incompatible shapes for broadcasting: (10, 1), (50, 1).",
     "output_type": "error",
     "traceback": [
      "\u001b[0;31m---------------------------------------------------------------------------\u001b[0m",
      "\u001b[0;31mTypeError\u001b[0m                                 Traceback (most recent call last)",
      "Input \u001b[0;32mIn [437]\u001b[0m, in \u001b[0;36m<cell line: 2>\u001b[0;34m()\u001b[0m\n\u001b[1;32m      1\u001b[0m h \u001b[38;5;241m=\u001b[39m \u001b[38;5;241m1e-8\u001b[39m\n\u001b[0;32m----> 2\u001b[0m (\u001b[43mrbf_tmp\u001b[49m\u001b[43m(\u001b[49m\u001b[43mx_0\u001b[49m\u001b[38;5;241;43m.\u001b[39;49m\u001b[43mreshape\u001b[49m\u001b[43m(\u001b[49m\u001b[38;5;241;43m-\u001b[39;49m\u001b[38;5;241;43m1\u001b[39;49m\u001b[43m,\u001b[49m\u001b[43m \u001b[49m\u001b[38;5;241;43m1\u001b[39;49m\u001b[43m)\u001b[49m\u001b[43m \u001b[49m\u001b[38;5;241;43m+\u001b[39;49m\u001b[43m \u001b[49m\u001b[43mh\u001b[49m\u001b[43m)\u001b[49m \u001b[38;5;241m-\u001b[39m rbf_tmp(x_0\u001b[38;5;241m.\u001b[39mreshape(\u001b[38;5;241m-\u001b[39m\u001b[38;5;241m1\u001b[39m, \u001b[38;5;241m1\u001b[39m)))\u001b[38;5;241m/\u001b[39mh\n",
      "Input \u001b[0;32mIn [393]\u001b[0m, in \u001b[0;36mget_rbf.<locals>.<lambda>\u001b[0;34m(x)\u001b[0m\n\u001b[1;32m     85\u001b[0m scale \u001b[38;5;241m=\u001b[39m jnp\u001b[38;5;241m.\u001b[39marray(rbf\u001b[38;5;241m.\u001b[39m_scale)\n\u001b[1;32m     86\u001b[0m powers \u001b[38;5;241m=\u001b[39m jnp\u001b[38;5;241m.\u001b[39marray(rbf\u001b[38;5;241m.\u001b[39mpowers)\n\u001b[0;32m---> 88\u001b[0m \u001b[38;5;28;01mreturn\u001b[39;00m \u001b[38;5;28;01mlambda\u001b[39;00m x: \u001b[43m_thin_plate_f\u001b[49m\u001b[43m(\u001b[49m\u001b[43mx\u001b[49m\u001b[43m,\u001b[49m\u001b[43m \u001b[49m\u001b[43my\u001b[49m\u001b[43m,\u001b[49m\u001b[43m \u001b[49m\u001b[43mepsilon\u001b[49m\u001b[43m,\u001b[49m\u001b[43m \u001b[49m\u001b[43mcoeffs\u001b[49m\u001b[43m,\u001b[49m\u001b[43m \u001b[49m\u001b[43mshift\u001b[49m\u001b[43m,\u001b[49m\u001b[43m \u001b[49m\u001b[43mscale\u001b[49m\u001b[43m,\u001b[49m\u001b[43m \u001b[49m\u001b[43mpowers\u001b[49m\u001b[43m)\u001b[49m\n",
      "Input \u001b[0;32mIn [393]\u001b[0m, in \u001b[0;36m_thin_plate_f\u001b[0;34m(x, y, epsilon, coeffs, shift, scale, powers)\u001b[0m\n\u001b[1;32m     44\u001b[0m yeps \u001b[38;5;241m=\u001b[39m y\u001b[38;5;241m*\u001b[39mepsilon\n\u001b[1;32m     45\u001b[0m xeps \u001b[38;5;241m=\u001b[39m x\u001b[38;5;241m*\u001b[39mepsilon\n\u001b[0;32m---> 46\u001b[0m r \u001b[38;5;241m=\u001b[39m jnp\u001b[38;5;241m.\u001b[39mlinalg\u001b[38;5;241m.\u001b[39mnorm(\u001b[43mxeps\u001b[49m\u001b[43m \u001b[49m\u001b[38;5;241;43m-\u001b[39;49m\u001b[43m \u001b[49m\u001b[43myeps\u001b[49m, axis\u001b[38;5;241m=\u001b[39m\u001b[38;5;241m1\u001b[39m)\n\u001b[1;32m     48\u001b[0m xhat \u001b[38;5;241m=\u001b[39m (x \u001b[38;5;241m-\u001b[39m shift)\u001b[38;5;241m/\u001b[39mscale\n\u001b[1;32m     50\u001b[0m poly_vec \u001b[38;5;241m=\u001b[39m polynomial_vector(xhat, powers)\n",
      "File \u001b[0;32m~/miniconda3/envs/simplex_grad/lib/python3.10/site-packages/jax/_src/numpy/lax_numpy.py:6690\u001b[0m, in \u001b[0;36m_defer_to_unrecognized_arg.<locals>.deferring_binary_op\u001b[0;34m(self, other)\u001b[0m\n\u001b[1;32m   6688\u001b[0m \u001b[38;5;28;01mif\u001b[39;00m \u001b[38;5;129;01mnot\u001b[39;00m \u001b[38;5;28misinstance\u001b[39m(other, _accepted_binop_types):\n\u001b[1;32m   6689\u001b[0m   \u001b[38;5;28;01mreturn\u001b[39;00m \u001b[38;5;28mNotImplemented\u001b[39m\n\u001b[0;32m-> 6690\u001b[0m \u001b[38;5;28;01mreturn\u001b[39;00m \u001b[43mbinary_op\u001b[49m\u001b[43m(\u001b[49m\u001b[38;5;28;43mself\u001b[39;49m\u001b[43m,\u001b[49m\u001b[43m \u001b[49m\u001b[43mother\u001b[49m\u001b[43m)\u001b[49m\n",
      "File \u001b[0;32m~/miniconda3/envs/simplex_grad/lib/python3.10/site-packages/jax/_src/numpy/lax_numpy.py:6694\u001b[0m, in \u001b[0;36m_swap_args.<locals>.<lambda>\u001b[0;34m(x, y)\u001b[0m\n\u001b[1;32m   6693\u001b[0m \u001b[38;5;28;01mdef\u001b[39;00m \u001b[38;5;21m_swap_args\u001b[39m(f):\n\u001b[0;32m-> 6694\u001b[0m   \u001b[38;5;28;01mreturn\u001b[39;00m \u001b[38;5;28;01mlambda\u001b[39;00m x, y: \u001b[43mf\u001b[49m\u001b[43m(\u001b[49m\u001b[43my\u001b[49m\u001b[43m,\u001b[49m\u001b[43m \u001b[49m\u001b[43mx\u001b[49m\u001b[43m)\u001b[49m\n",
      "    \u001b[0;31m[... skipping hidden 14 frame]\u001b[0m\n",
      "File \u001b[0;32m~/miniconda3/envs/simplex_grad/lib/python3.10/site-packages/jax/_src/numpy/lax_numpy.py:687\u001b[0m, in \u001b[0;36m_one_to_one_binop.<locals>.<lambda>\u001b[0;34m(x1, x2)\u001b[0m\n\u001b[1;32m    685\u001b[0m   fn \u001b[38;5;241m=\u001b[39m \u001b[38;5;28;01mlambda\u001b[39;00m x1, x2: lax_fn(\u001b[38;5;241m*\u001b[39m_promote_args_inexact(numpy_fn\u001b[38;5;241m.\u001b[39m\u001b[38;5;18m__name__\u001b[39m, x1, x2))\n\u001b[1;32m    686\u001b[0m \u001b[38;5;28;01melse\u001b[39;00m:\n\u001b[0;32m--> 687\u001b[0m   fn \u001b[38;5;241m=\u001b[39m \u001b[38;5;28;01mlambda\u001b[39;00m x1, x2: \u001b[43mlax_fn\u001b[49m\u001b[43m(\u001b[49m\u001b[38;5;241;43m*\u001b[39;49m\u001b[43m_promote_args\u001b[49m\u001b[43m(\u001b[49m\u001b[43mnumpy_fn\u001b[49m\u001b[38;5;241;43m.\u001b[39;49m\u001b[38;5;18;43m__name__\u001b[39;49m\u001b[43m,\u001b[49m\u001b[43m \u001b[49m\u001b[43mx1\u001b[49m\u001b[43m,\u001b[49m\u001b[43m \u001b[49m\u001b[43mx2\u001b[49m\u001b[43m)\u001b[49m\u001b[43m)\u001b[49m\n\u001b[1;32m    688\u001b[0m fn \u001b[38;5;241m=\u001b[39m jit(fn, inline\u001b[38;5;241m=\u001b[39m\u001b[38;5;28;01mTrue\u001b[39;00m)\n\u001b[1;32m    689\u001b[0m \u001b[38;5;28;01mif\u001b[39;00m lax_doc:\n",
      "    \u001b[0;31m[... skipping hidden 5 frame]\u001b[0m\n",
      "File \u001b[0;32m~/miniconda3/envs/simplex_grad/lib/python3.10/site-packages/jax/_src/lax/lax.py:1377\u001b[0m, in \u001b[0;36m_broadcasting_shape_rule\u001b[0;34m(name, *avals)\u001b[0m\n\u001b[1;32m   1375\u001b[0m     non_1s \u001b[38;5;241m=\u001b[39m {d \u001b[38;5;28;01mfor\u001b[39;00m d \u001b[38;5;129;01min\u001b[39;00m ds \u001b[38;5;28;01mif\u001b[39;00m \u001b[38;5;129;01mnot\u001b[39;00m core\u001b[38;5;241m.\u001b[39msymbolic_equal_dim(d, \u001b[38;5;241m1\u001b[39m)}\n\u001b[1;32m   1376\u001b[0m     \u001b[38;5;28;01mif\u001b[39;00m \u001b[38;5;28mlen\u001b[39m(non_1s) \u001b[38;5;241m>\u001b[39m \u001b[38;5;241m1\u001b[39m:\n\u001b[0;32m-> 1377\u001b[0m       \u001b[38;5;28;01mraise\u001b[39;00m \u001b[38;5;167;01mTypeError\u001b[39;00m(\u001b[38;5;124mf\u001b[39m\u001b[38;5;124m'\u001b[39m\u001b[38;5;132;01m{\u001b[39;00mname\u001b[38;5;132;01m}\u001b[39;00m\u001b[38;5;124m got incompatible shapes for broadcasting: \u001b[39m\u001b[38;5;124m'\u001b[39m\n\u001b[1;32m   1378\u001b[0m                       \u001b[38;5;124mf\u001b[39m\u001b[38;5;124m'\u001b[39m\u001b[38;5;132;01m{\u001b[39;00m\u001b[38;5;124m\"\u001b[39m\u001b[38;5;124m, \u001b[39m\u001b[38;5;124m\"\u001b[39m\u001b[38;5;241m.\u001b[39mjoin(\u001b[38;5;28mmap\u001b[39m(\u001b[38;5;28mstr\u001b[39m, \u001b[38;5;28mmap\u001b[39m(\u001b[38;5;28mtuple\u001b[39m, shapes)))\u001b[38;5;132;01m}\u001b[39;00m\u001b[38;5;124m.\u001b[39m\u001b[38;5;124m'\u001b[39m)\n\u001b[1;32m   1379\u001b[0m     result_shape\u001b[38;5;241m.\u001b[39mappend(non_1s\u001b[38;5;241m.\u001b[39mpop() \u001b[38;5;28;01mif\u001b[39;00m non_1s \u001b[38;5;28;01melse\u001b[39;00m \u001b[38;5;241m1\u001b[39m)\n\u001b[1;32m   1380\u001b[0m \u001b[38;5;28;01mreturn\u001b[39;00m \u001b[38;5;28mtuple\u001b[39m(result_shape)\n",
      "\u001b[0;31mTypeError\u001b[0m: sub got incompatible shapes for broadcasting: (10, 1), (50, 1)."
     ]
    }
   ],
   "source": [
    "h = 1e-8\n",
    "(rbf_tmp(x_0.reshape(-1, 1) + h) - rbf_tmp(x_0.reshape(-1, 1)))/h"
   ]
  },
  {
   "cell_type": "code",
   "execution_count": null,
   "metadata": {},
   "outputs": [],
   "source": []
  }
 ],
 "metadata": {
  "kernelspec": {
   "display_name": "Python (simplex_grad)",
   "language": "python",
   "name": "simplex_grad"
  },
  "language_info": {
   "codemirror_mode": {
    "name": "ipython",
    "version": 3
   },
   "file_extension": ".py",
   "mimetype": "text/x-python",
   "name": "python",
   "nbconvert_exporter": "python",
   "pygments_lexer": "ipython3",
   "version": "3.10.0"
  }
 },
 "nbformat": 4,
 "nbformat_minor": 2
}
