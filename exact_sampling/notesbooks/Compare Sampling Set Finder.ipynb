{
 "cells": [
  {
   "cell_type": "code",
   "execution_count": 5,
   "metadata": {},
   "outputs": [],
   "source": [
    "import jax.numpy as jnp\n",
    "import jax.random as jrandom\n",
    "\n",
    "import matplotlib.pyplot as plt\n",
    "import pandas as pd\n",
    "from jax import jit, grad, jacfwd, jacrev\n",
    "\n",
    "import pycutest\n",
    "\n",
    "import scipy \n",
    "\n",
    "from scipy.stats import linregress\n",
    "\n",
    "from tqdm import tqdm\n",
    "import pickle\n",
    "\n",
    "import numpy as np\n",
    "\n",
    "from tqdm import tqdm\n",
    "\n",
    "from jax.config import config\n",
    "config.update(\"jax_enable_x64\", True)\n",
    "\n",
    "import matplotlib.pyplot as plt\n",
    "\n",
    "%matplotlib inline\n",
    "plt.rcParams['figure.figsize'] = [12,12]\n",
    "plt.style.use('ggplot')\n",
    "plt.rcParams['lines.markersize'] = 8\n",
    "plt.rcParams.update({'font.size': 12})\n",
    "\n",
    "%load_ext autoreload\n",
    "%autoreload 2\n",
    "\n",
    "import time"
   ]
  },
  {
   "cell_type": "code",
   "execution_count": 33,
   "metadata": {},
   "outputs": [],
   "source": [
    "import sys\n",
    "sys.path.append(\"..\")\n",
    "from Functions import PyCutestWrapper\n",
    "from USimplex import USD\n",
    "# from optimize_USG_error import create_S\n",
    "sys.path.append(\"../OptimalSetComps\")\n",
    "from custom import create_S\n",
    "from AdaptiveFD import adapt_FD\n",
    "from optimize_USG_error import get_lambda_star, loss_getter, get_alpha, get_V_star, get_lambda_tilde\n",
    "from create_W import optimize_W, convert_to_U, generate_regular_simplex\n",
    "from efficient_sampling_set import create_approx_S"
   ]
  },
  {
   "cell_type": "code",
   "execution_count": 70,
   "metadata": {},
   "outputs": [],
   "source": [
    "\n",
    "\n",
    "def helper_linesearch(f, g, c1, c2):\n",
    "\n",
    "    def helper(X, search_direction):\n",
    "        f0 = f(X)\n",
    "        f1 = g(X)\n",
    "        dg = jnp.inner(search_direction, f1)\n",
    "\n",
    "        def armijo_rule(alpha):\n",
    "            return f(X + alpha * search_direction) > f0 + c1*alpha*dg\n",
    "        \n",
    "        def armijo_update(alpha):\n",
    "            return c2*alpha\n",
    "            \n",
    "        alpha = 1\n",
    "        while armijo_rule(alpha):\n",
    "            alpha = armijo_update(alpha)\n",
    "\n",
    "\n",
    "        return alpha\n",
    "\n",
    "    return helper\n",
    "\n",
    "\n",
    "def loss_getter(dim, N, H, sig, coeff):\n",
    "    def helper(X):\n",
    "\n",
    "        S = X.reshape(N, dim).T\n",
    "        \n",
    "        S_inv = jnp.linalg.inv(S)\n",
    "        \n",
    "        first_term = S_inv.T @ jnp.diag(S.T @ H @ S)\n",
    "        second_term = jnp.linalg.norm(S_inv, ord=\"fro\")**2\n",
    "        third_term = S_inv.T @ jnp.ones(dim)\n",
    "        third_term = jnp.linalg.norm(third_term)**2\n",
    "        return 1/2 * jnp.linalg.norm(first_term)**2 + sig**2 * (second_term + third_term) + coeff*jnp.linalg.norm(S)**4\n",
    "\n",
    "    return helper\n",
    "\n",
    "def optimize_uncentered_S(H, sig, coeff, max_steps=15, jrandom_key=None, x_curr=None):\n",
    "    \n",
    "    dim = H.shape[0]\n",
    "    N = dim\n",
    "    \n",
    "    H = (H + H.T) / 2. # to combat numerical inaccuracies. \n",
    "    D, U = jnp.linalg.eig(H)\n",
    "    U = jnp.real(U)\n",
    "\n",
    "    # print(\"D\", repr(jnp.real(D)))\n",
    "#     D = jnp.abs(jnp.real(jnp.diag(D)))\n",
    "    D = jnp.diag(D)\n",
    "\n",
    "    if x_curr is None:\n",
    "\n",
    "        if jrandom_key is None:\n",
    "            x_curr = jnp.diag(jnp.sqrt(sig / jnp.abs(jnp.diag(D)))).flatten()\n",
    "            pass\n",
    "        else:\n",
    "            x_curr = jrandom.normal(jrandom_key, shape=(dim * dim,)) * 0.1\n",
    "        \n",
    "\n",
    "    \n",
    "    l = loss_getter(dim, N, D, sig, coeff)\n",
    "    g_l = grad(l)\n",
    "    h_l = jacfwd(g_l)\n",
    "    linesearch = helper_linesearch(l, g_l, c1=0.1, c2=0.9)\n",
    "\n",
    "    eps = 1e-20\n",
    "\n",
    "    res = []\n",
    "    res_x = []\n",
    "\n",
    "    for t in tqdm(range(max_steps)):\n",
    "\n",
    "        \n",
    "        res.append(l(x_curr))\n",
    "#         res_x.append(U.dot(x_curr.reshape(N, dim).T)) # TURN ON FOR HISTORY \n",
    "\n",
    "        curr_grad = g_l(x_curr)\n",
    "#         print(curr_grad)\n",
    "    \n",
    "        # print(curr_grad)\n",
    "#         curr_hess = h_l(x_curr) #+ .1*jnp.eye(dim**2)\n",
    "#         search_direction = -jnp.linalg.inv(curr_hess) @ curr_grad #+ np.random.normal(size=(dim**2))*0.1\n",
    "        search_direction = -curr_grad + np.random.normal(size=(dim * dim))*0.1\n",
    "\n",
    "        if jnp.linalg.norm(curr_grad) < eps:\n",
    "            break    \n",
    "\n",
    "        alpha = linesearch(x_curr, search_direction)\n",
    "\n",
    "\n",
    "        S = x_curr.reshape(N, dim).T\n",
    "\n",
    "        SS = S.dot(S.T)\n",
    "\n",
    "        x_curr += alpha*search_direction \n",
    "    \n",
    "    return U.dot(x_curr.reshape(N, dim).T), res"
   ]
  },
  {
   "cell_type": "code",
   "execution_count": 80,
   "metadata": {},
   "outputs": [],
   "source": [
    "jrandom_key = jrandom.PRNGKey(0)\n",
    "\n",
    "dim = 100\n",
    "# D = jnp.diag(jnp.array([1, 1, 1, 1, 100, 100]))\n",
    "D = jnp.diag(jnp.logspace(-2, 2, dim))\n",
    "# D = jnp.diag(jnp.real(jnp.array([ 6.96867074e+03+0.j, -5.65090364e+03+0.j,\n",
    "#               3.30117392e+01+0.j,  8.67518225e+00+0.j,\n",
    "#              -3.02376833e+00+0.j])))\n",
    "\n",
    "# D = jnp.diag(jnp.array([1e6, 1e3, -1, -100, -200]))\n",
    "sig = 0.1\n",
    "coeff = 0.1\n",
    "\n",
    "l = loss_getter(dim, dim, D, sig, coeff)\n",
    "\n"
   ]
  },
  {
   "cell_type": "code",
   "execution_count": 93,
   "metadata": {},
   "outputs": [
    {
     "name": "stdout",
     "output_type": "stream",
     "text": [
      "Get pow sets 0.005705833435058594\n",
      "Get S 1.9073486328125e-06\n",
      "Get S 7.152557373046875e-07\n",
      "Sing vals gets 0.09520101547241211\n",
      "Get S 0.09561419486999512\n",
      "Get S 9.5367431640625e-07\n",
      "Get S 9.5367431640625e-07\n",
      "Sing vals gets 2.406231164932251\n",
      "Get S 2.406792402267456\n",
      "Sing vals gets 3.834458112716675\n",
      "Get S 3.8349881172180176\n",
      "6.345219135284424\n"
     ]
    }
   ],
   "source": [
    "a = time.time()\n",
    "S_approx = create_approx_S(D, sig, coeff, jrandom_key)\n",
    "print(time.time() - a)"
   ]
  },
  {
   "cell_type": "code",
   "execution_count": 82,
   "metadata": {},
   "outputs": [
    {
     "data": {
      "text/plain": [
       "DeviceArray(78.40467099, dtype=float64)"
      ]
     },
     "execution_count": 82,
     "metadata": {},
     "output_type": "execute_result"
    }
   ],
   "source": [
    "l(S_approx.T.flatten())"
   ]
  },
  {
   "cell_type": "code",
   "execution_count": 89,
   "metadata": {},
   "outputs": [
    {
     "name": "stdout",
     "output_type": "stream",
     "text": [
      "4.306080102920532\n"
     ]
    }
   ],
   "source": [
    "a = time.time()\n",
    "S, _ = create_S(D, sig, num_iter=50, x_init=None, coeff=coeff)\n",
    "print(time.time() - a)"
   ]
  },
  {
   "cell_type": "code",
   "execution_count": 86,
   "metadata": {},
   "outputs": [
    {
     "data": {
      "text/plain": [
       "DeviceArray(167.08155549, dtype=float64)"
      ]
     },
     "execution_count": 86,
     "metadata": {},
     "output_type": "execute_result"
    }
   ],
   "source": [
    "l(S.T.flatten())"
   ]
  },
  {
   "cell_type": "code",
   "execution_count": 987,
   "metadata": {},
   "outputs": [
    {
     "data": {
      "text/plain": [
       "DeviceArray([-2.34537929,  0.00630642, -0.01190244, -0.05425252,\n",
       "             -2.34537927, -0.00630642,  0.01190244, -0.05425252,\n",
       "              2.34538028, -0.00630643, -0.01190244, -0.05425253,\n",
       "              2.34538032,  0.00630643,  0.01190244, -0.05425253],            dtype=float64)"
      ]
     },
     "execution_count": 987,
     "metadata": {},
     "output_type": "execute_result"
    }
   ],
   "source": [
    "grad(l)(S.T.flatten())"
   ]
  },
  {
   "cell_type": "code",
   "execution_count": 988,
   "metadata": {},
   "outputs": [
    {
     "data": {
      "text/plain": [
       "DeviceArray([[-0.01397491, -0.01397491,  0.01397491,  0.01397491],\n",
       "             [ 0.07670271, -0.07670271, -0.07670271,  0.07670271],\n",
       "             [-0.14124202,  0.14124202, -0.14124202,  0.14124202],\n",
       "             [ 1.41784695,  1.41784695,  1.41784695,  1.41784695]],            dtype=float64)"
      ]
     },
     "execution_count": 988,
     "metadata": {},
     "output_type": "execute_result"
    }
   ],
   "source": [
    "S"
   ]
  },
  {
   "cell_type": "code",
   "execution_count": 83,
   "metadata": {},
   "outputs": [
    {
     "name": "stderr",
     "output_type": "stream",
     "text": [
      "100%|██████████████████████████████████████████████████████████████████████| 50/50 [00:17<00:00,  2.88it/s]\n"
     ]
    }
   ],
   "source": [
    "jrandom_key, subkey = jrandom.split(jrandom_key)\n",
    "opt_S, l_hist = optimize_uncentered_S(D, sig=sig, coeff=coeff, max_steps=50, jrandom_key=subkey, x_curr=None)\n",
    "\n"
   ]
  },
  {
   "cell_type": "code",
   "execution_count": 84,
   "metadata": {},
   "outputs": [
    {
     "data": {
      "text/plain": [
       "DeviceArray(1931.17895715, dtype=float64)"
      ]
     },
     "execution_count": 84,
     "metadata": {},
     "output_type": "execute_result"
    }
   ],
   "source": [
    "l(opt_S.T.flatten())"
   ]
  },
  {
   "cell_type": "code",
   "execution_count": 73,
   "metadata": {},
   "outputs": [
    {
     "data": {
      "image/png": "[encoded data removed]",
      "text/plain": [
       "<Figure size 864x864 with 1 Axes>"
      ]
     },
     "metadata": {},
     "output_type": "display_data"
    }
   ],
   "source": [
    "plt.plot(l_hist)\n",
    "plt.show()"
   ]
  },
  {
   "cell_type": "code",
   "execution_count": 672,
   "metadata": {},
   "outputs": [
    {
     "data": {
      "text/plain": [
       "DeviceArray(1053.32800332, dtype=float64)"
      ]
     },
     "execution_count": 672,
     "metadata": {},
     "output_type": "execute_result"
    }
   ],
   "source": [
    "def loss_getter(dim, N, H, sig, coeff):\n",
    "    def helper(X):\n",
    "\n",
    "        S = X.reshape(N, dim).T\n",
    "        \n",
    "        S_inv = jnp.linalg.inv(S)\n",
    "        \n",
    "        first_term = S_inv.T @ jnp.diag(S.T @ H @ S)\n",
    "        second_term = jnp.linalg.norm(S_inv, ord=\"fro\")**2\n",
    "        third_term = S_inv.T @ jnp.ones(dim)\n",
    "        third_term = jnp.linalg.norm(third_term)**2\n",
    "        return 1/2 * jnp.linalg.norm(first_term)**2 + sig**2 * (second_term + third_term) + coeff*jnp.linalg.norm(S)**4\n",
    "\n",
    "    return helper\n",
    "\n",
    "l = loss_getter(dim, dim, D, sig, coeff)\n",
    "l(S.T.flatten())"
   ]
  },
  {
   "cell_type": "code",
   "execution_count": 691,
   "metadata": {},
   "outputs": [
    {
     "data": {
      "text/plain": [
       "DeviceArray(113.24176376, dtype=float64)"
      ]
     },
     "execution_count": 691,
     "metadata": {},
     "output_type": "execute_result"
    }
   ],
   "source": [
    "\n",
    "lmbda_star = get_lambda_star(dim, sig, coeff)\n",
    "a = jnp.diag(D) @ lmbda_star / len(lmbda_star)\n",
    "a"
   ]
  },
  {
   "cell_type": "code",
   "execution_count": 981,
   "metadata": {},
   "outputs": [
    {
     "data": {
      "text/plain": [
       "DeviceArray(0.44972964, dtype=float64)"
      ]
     },
     "execution_count": 981,
     "metadata": {},
     "output_type": "execute_result"
    }
   ],
   "source": [
    "def lmbda_loss(lmbdas, dim, D, sig, coeff):\n",
    "    a = D @ lmbdas / len(lmbdas)\n",
    "    b = jnp.sum(lmbdas)\n",
    "    return 1/2 * a**2 * dim / lmbdas[0] + sig**2 * dim/lmbdas[0] + sig**2 * jnp.sum(1/lmbdas) + coeff*b**2\n",
    "\n",
    "\n",
    "lmbda_tilde = get_lambda_tilde(jnp.diag(D)[::-1], sig, coeff, get_lambda_star(dim, sig, coeff))\n",
    "\n",
    "lmbda_loss(lmbda_tilde, dim, jnp.diag(D)[::-1], sig, coeff)"
   ]
  },
  {
   "cell_type": "code",
   "execution_count": 965,
   "metadata": {},
   "outputs": [
    {
     "name": "stdout",
     "output_type": "stream",
     "text": [
      "1.2602328261483324e-11\n",
      "1.2602328261483324e-11\n"
     ]
    },
    {
     "data": {
      "text/plain": [
       "DeviceArray(9.39468455e+08, dtype=float64)"
      ]
     },
     "execution_count": 965,
     "metadata": {},
     "output_type": "execute_result"
    }
   ],
   "source": [
    "S, _ = create_S(D, sig, num_iter=50, x_init=None, coeff=coeff)\n",
    "l(S.T.flatten())"
   ]
  },
  {
   "cell_type": "code",
   "execution_count": 967,
   "metadata": {},
   "outputs": [
    {
     "data": {
      "text/plain": [
       "DeviceArray([[-0.13665095, -0.13665095,  0.13665095,  0.13665095],\n",
       "             [ 0.22476864, -0.22476864, -0.22476864,  0.22476864],\n",
       "             [-0.22512494,  0.22512494, -0.22512494,  0.22512494],\n",
       "             [ 0.43152831,  0.43152831,  0.43152831,  0.43152831]],            dtype=float64)"
      ]
     },
     "execution_count": 967,
     "metadata": {},
     "output_type": "execute_result"
    }
   ],
   "source": [
    "S"
   ]
  },
  {
   "cell_type": "code",
   "execution_count": 966,
   "metadata": {},
   "outputs": [
    {
     "data": {
      "text/plain": [
       "DeviceArray([-6.86324443e+09,  1.12889235e+07,  1.13068181e+04,\n",
       "             -1.09070363e+09, -6.86324443e+09, -1.12889235e+07,\n",
       "             -1.13068181e+04, -1.09070363e+09,  6.86324443e+09,\n",
       "             -1.12889235e+07,  1.13068181e+04, -1.09070363e+09,\n",
       "              6.86324443e+09,  1.12889235e+07, -1.13068181e+04,\n",
       "             -1.09070363e+09], dtype=float64)"
      ]
     },
     "execution_count": 966,
     "metadata": {},
     "output_type": "execute_result"
    }
   ],
   "source": [
    "grad(l)(S.T.flatten())"
   ]
  },
  {
   "cell_type": "code",
   "execution_count": 471,
   "metadata": {},
   "outputs": [
    {
     "name": "stdout",
     "output_type": "stream",
     "text": [
      "[[ 0.99962264  0.00353113  0.0272416 ]\n",
      " [-0.00369661  0.99997501  0.00602662]\n",
      " [-0.02721964 -0.00612505  0.99961071]]\n",
      "39.08299683867193\n",
      "36.59666940787413\n",
      "35.48337163293935\n",
      "34.67968617730389\n",
      "34.37915913644767\n",
      "34.22864623740312\n",
      "34.14449242158221\n",
      "34.09475442998261\n",
      "34.06442613626818\n",
      "34.04558803513825\n",
      "34.033754037871454\n",
      "34.02626758248531\n",
      "34.021510521301074\n",
      "34.018479318359965\n",
      "34.0165443993508\n",
      "34.01530787615656\n",
      "34.01395561482384\n",
      "34.013435890216904\n",
      "34.0132360447869\n",
      "34.013159185700516\n",
      "34.01312962416445\n",
      "34.01311825389871\n",
      "34.01311388050289\n",
      "34.0131121983374\n",
      "34.01311155131507\n",
      "34.01311130244642\n",
      "34.01311120672235\n",
      "34.01311116990335\n",
      "34.01311115574138\n",
      "34.013111150294165\n",
      "34.01311114819898\n",
      "34.013111147393076\n",
      "34.0131111470831\n",
      "34.013111146963865\n",
      "34.01311114691801\n",
      "34.01311114690039\n",
      "34.01311114689639\n",
      "34.013111146892044\n",
      "34.01311114689039\n",
      "34.01311114688976\n",
      "34.013111146889514\n",
      "34.01311114688945\n",
      "34.01311114688939\n",
      "34.013111146889365\n",
      "34.01311114688936\n",
      "34.01311114688934\n",
      "34.01311114688934\n",
      "34.01311114688934\n",
      "34.01311114688933\n",
      "34.01311114688933\n"
     ]
    },
    {
     "data": {
      "text/plain": [
       "DeviceArray(5088.14390058, dtype=float64)"
      ]
     },
     "execution_count": 471,
     "metadata": {},
     "output_type": "execute_result"
    }
   ],
   "source": [
    "S, _ = create_S(D, sig, num_iter=50, x_init=None, coeff=coeff)\n",
    "l(S.T.flatten())"
   ]
  },
  {
   "cell_type": "code",
   "execution_count": 308,
   "metadata": {},
   "outputs": [
    {
     "name": "stderr",
     "output_type": "stream",
     "text": [
      "100%|████████████████████████████████████████████████████████████████████████| 4/4 [00:00<00:00,  4.45it/s]\n",
      "100%|██████████████████████████████████████████████████████████████████████| 28/28 [00:06<00:00,  4.24it/s]\n",
      "  4%|██▋                                                                    | 2/52 [00:00<00:13,  3.68it/s]\n",
      "\n",
      "KeyboardInterrupt\n",
      "\n"
     ]
    }
   ],
   "source": [
    "baseline_res = []\n",
    "costum_res = []\n",
    "\n",
    "for n in np.linspace(2, 50, 5):\n",
    "    start_time = time.time()\n",
    "    opt_S, _ = optimize_uncentered_S(D, sig=sig, coeff=coeff, max_steps=2*int(n), jrandom_key=jrandom_key, x_curr=None)\n",
    "    baseline_res.append([l(opt_S.T.flatten()), time.time() - start_time])\n",
    "    \n",
    "    \n",
    "    start_time = time.time()    \n",
    "    S, _ = create_S(D, sig, num_iter=int(n), x_init=None, coeff=coeff)\n",
    "    costum_res.append([l(S.T.flatten()), time.time() - start_time])\n",
    "\n"
   ]
  },
  {
   "cell_type": "code",
   "execution_count": 291,
   "metadata": {},
   "outputs": [
    {
     "data": {
      "image/png": "[encoded data removed]",
      "text/plain": [
       "<Figure size 864x864 with 1 Axes>"
      ]
     },
     "metadata": {},
     "output_type": "display_data"
    }
   ],
   "source": [
    "baseline_res = jnp.array(baseline_res)\n",
    "custom_res = jnp.array(costum_res)\n",
    "\n",
    "plt.plot(baseline_res[:, 1], baseline_res[:, 0], label=\"Baseline\")\n",
    "plt.plot(custom_res[:, 1], custom_res[:, 0], label=\"Costum\")\n",
    "plt.legend()\n",
    "plt.show()"
   ]
  }
 ],
 "metadata": {
  "kernelspec": {
   "display_name": "Python (simplex_grad)",
   "language": "python",
   "name": "simplex_grad"
  },
  "language_info": {
   "codemirror_mode": {
    "name": "ipython",
    "version": 3
   },
   "file_extension": ".py",
   "mimetype": "text/x-python",
   "name": "python",
   "nbconvert_exporter": "python",
   "pygments_lexer": "ipython3",
   "version": "3.10.0"
  }
 },
 "nbformat": 4,
 "nbformat_minor": 2
}
