{
 "cells": [
  {
   "cell_type": "code",
   "execution_count": 273,
   "metadata": {},
   "outputs": [],
   "source": [
    "import numpy as np\n",
    "from scipy.interpolate import Rbf, RBFInterpolator\n",
    "import jax.numpy as jnp\n",
    "from jax import grad, jacfwd\n",
    "\n",
    "from jax.config import config\n",
    "config.update(\"jax_enable_x64\", True)\n",
    "\n",
    "import matplotlib.pyplot as plt"
   ]
  },
  {
   "cell_type": "code",
   "execution_count": 357,
   "metadata": {},
   "outputs": [],
   "source": [
    "def create_W(S):\n",
    "    dim = S.shape[0]\n",
    "    N = S.shape[1]\n",
    "    A = 1/2 * (S.T @ S)**2\n",
    "    eXT = jnp.concatenate([jnp.ones(shape=(N, 1)), S.T], axis=1)\n",
    "    eTX0 = jnp.concatenate([eXT.T, jnp.zeros(shape=(dim+1, dim+1))], axis=1)\n",
    "    W = jnp.concatenate([A, eXT], axis=1)\n",
    "    W = jnp.concatenate([W, eTX0], axis=0)\n",
    "    return W\n",
    "\n",
    "def get_G(S, F_vals):\n",
    "    dim = len(S)\n",
    "\n",
    "    W = create_W(S)\n",
    "    F_vals0 = jnp.concatenate([F_vals, jnp.zeros(dim + 1)])\n",
    "    lcg = jnp.linalg.solve(W, F_vals0)\n",
    "\n",
    "    lmbda = lcg[:-(dim+1)]\n",
    "\n",
    "    return S @ jnp.diag(lmbda) @ S.T\n",
    "\n",
    "def _thin_plate_f2(x, y, epsilon, coeffs, shift, scale, powers):\n",
    "    dim = len(x)\n",
    "    p = y.shape[0]\n",
    "    yeps = y*epsilon\n",
    "    xeps = x*epsilon\n",
    "    r = jnp.linalg.norm(xeps - yeps, axis=1)\n",
    "\n",
    "    log_r = jnp.log(r)\n",
    "\n",
    "    a = 2 * epsilon**2 * jnp.eye(dim) * (log_r @ coeffs[:p, 0])\n",
    "    b = 2 * epsilon**2 * (xeps - yeps).T @ ((coeffs[:p, 0]/r**2).reshape(-1, 1) * (xeps - yeps))\n",
    "    c = 2 * epsilon * jnp.eye(dim) * jnp.sum(coeffs[:p, 0])\n",
    "\n",
    "    return a + b + c\n",
    "\n",
    "def polynomial_vector(x, powers):\n",
    "    \"\"\"Evaluate monomials, with exponents from `powers`, at the point `x`.\"\"\"\n",
    "    return jnp.array([jnp.prod(x**powers[i]) for i in range(powers.shape[0])])\n",
    "\n",
    "def _thin_plate_f(x, y, epsilon, coeffs, shift, scale, powers):\n",
    "    dim = len(x)\n",
    "    p = y.shape[0]\n",
    "    yeps = y*epsilon\n",
    "    xeps = x*epsilon\n",
    "    r = jnp.linalg.norm(xeps - yeps, axis=1)\n",
    "    \n",
    "    xhat = (x - shift)/scale\n",
    "    \n",
    "    poly_vec = polynomial_vector(xhat, powers)\n",
    "    \n",
    "    kernel_term = (r**2 * jnp.log(r)) @ coeffs[:p, 0]\n",
    "    \n",
    "    return kernel_term + poly_vec @ coeffs[p:, 0]\n",
    "\n",
    "\n",
    "def get_H_rbf(x_0, S, F_vals):\n",
    "    \n",
    "    rbf = RBFInterpolator(S.T, F_vals) #, epsilon=0.1, kernel=\"gaussian\")\n",
    "    coeffs = jnp.array(rbf._coeffs)\n",
    "    y = jnp.array(rbf.y)\n",
    "    epsilon = rbf.epsilon\n",
    "    shift = jnp.array(rbf._shift)\n",
    "    scale = jnp.array(rbf._scale)\n",
    "    powers = jnp.array(rbf.powers)\n",
    "\n",
    "    H = _thin_plate_f2(x_0, y, epsilon, coeffs, shift, scale, powers)\n",
    "\n",
    "    rbf_f1 = grad(lambda x: _thin_plate_f(x, y, epsilon, coeffs, shift, scale, powers))\n",
    "    rbf_f2 = jacfwd(lambda x: rbf_f1(x))\n",
    "#     print(\"H diff approx\", jnp.linalg.norm(H - rbf_f2(x_0)))\n",
    "#     print(rbf_f2(x_0))\n",
    "    f1 = rbf_f1(jnp.array(x_0))\n",
    "    f2 = rbf_f2(jnp.array(x_0))\n",
    "\n",
    "\n",
    "    return f2, f1\n",
    "\n",
    "\n",
    "\n"
   ]
  },
  {
   "cell_type": "code",
   "execution_count": 354,
   "metadata": {},
   "outputs": [],
   "source": [
    "def f(Q, b):\n",
    "    def helper(x):\n",
    "        return jnp.diag(x.T @ Q @ x) + b @ x\n",
    "    return helper"
   ]
  },
  {
   "cell_type": "code",
   "execution_count": 355,
   "metadata": {},
   "outputs": [],
   "source": [
    "dim = 1\n",
    "Q = np.random.normal(size=(dim, dim))\n",
    "H = 1/2. * (Q + Q.T)\n",
    "b = np.random.normal(size=(dim))\n",
    "F = f(jnp.array(H) * 1/2., jnp.array(b))\n",
    "\n",
    "F_f1 = grad(lambda x: F(x)[0])"
   ]
  },
  {
   "cell_type": "code",
   "execution_count": 288,
   "metadata": {},
   "outputs": [],
   "source": [
    "N = 1000\n",
    "low = 0\n",
    "high = 2\n",
    "S = np.random.uniform(low, high, size=(dim, N))"
   ]
  },
  {
   "cell_type": "code",
   "execution_count": 289,
   "metadata": {},
   "outputs": [],
   "source": [
    "x_0 = np.ones(dim)\n",
    "ys = F(S + x_0.reshape(-1, 1))\n",
    "rbf_f = get_H_rbf(x_0, S, ys)\n",
    "\n"
   ]
  },
  {
   "cell_type": "code",
   "execution_count": 290,
   "metadata": {},
   "outputs": [],
   "source": [
    "S = np.random.uniform(low, high, size=(dim, N))"
   ]
  },
  {
   "cell_type": "code",
   "execution_count": 292,
   "metadata": {},
   "outputs": [
    {
     "name": "stdout",
     "output_type": "stream",
     "text": [
      "0.10683257606793038\n"
     ]
    }
   ],
   "source": [
    "rbf = RBFInterpolator(S.T, ys)\n",
    "print(jnp.linalg.norm(rbf(S.T) - true_y)/N)"
   ]
  },
  {
   "cell_type": "code",
   "execution_count": 293,
   "metadata": {},
   "outputs": [
    {
     "data": {
      "text/plain": [
       "(DeviceArray([[-4.32386866]], dtype=float64),\n",
       " DeviceArray([-0.21146735], dtype=float64))"
      ]
     },
     "execution_count": 293,
     "metadata": {},
     "output_type": "execute_result"
    }
   ],
   "source": [
    "x_0 = np.ones(dim)\n",
    "ys = F(S + x_0.reshape(-1, 1))\n",
    "get_H_rbf(x_0, S, ys)\n",
    "\n",
    "\n"
   ]
  },
  {
   "cell_type": "code",
   "execution_count": 359,
   "metadata": {},
   "outputs": [
    {
     "ename": "TypeError",
     "evalue": "cannot unpack non-iterable function object",
     "output_type": "error",
     "traceback": [
      "\u001b[0;31m---------------------------------------------------------------------------\u001b[0m",
      "\u001b[0;31mTypeError\u001b[0m                                 Traceback (most recent call last)",
      "Input \u001b[0;32mIn [359]\u001b[0m, in \u001b[0;36m<cell line: 12>\u001b[0;34m()\u001b[0m\n\u001b[1;32m     16\u001b[0m \u001b[38;5;28;01mfor\u001b[39;00m _ \u001b[38;5;129;01min\u001b[39;00m \u001b[38;5;28mrange\u001b[39m(N_samples):\n\u001b[1;32m     17\u001b[0m     ys \u001b[38;5;241m=\u001b[39m F(S \u001b[38;5;241m+\u001b[39m x_0\u001b[38;5;241m.\u001b[39mreshape(\u001b[38;5;241m-\u001b[39m\u001b[38;5;241m1\u001b[39m, \u001b[38;5;241m1\u001b[39m)) \u001b[38;5;241m+\u001b[39m np\u001b[38;5;241m.\u001b[39mrandom\u001b[38;5;241m.\u001b[39muniform(size\u001b[38;5;241m=\u001b[39mN)\u001b[38;5;241m*\u001b[39m eps\n\u001b[0;32m---> 18\u001b[0m     H_rbf, f1_rbf \u001b[38;5;241m=\u001b[39m get_H_rbf(x_0, S, ys)\n\u001b[1;32m     19\u001b[0m     H_err_avg \u001b[38;5;241m+\u001b[39m\u001b[38;5;241m=\u001b[39m jnp\u001b[38;5;241m.\u001b[39mlinalg\u001b[38;5;241m.\u001b[39mnorm(H_rbf \u001b[38;5;241m-\u001b[39m H)\n\u001b[1;32m     20\u001b[0m     f1_err_avg \u001b[38;5;241m+\u001b[39m\u001b[38;5;241m=\u001b[39m jnp\u001b[38;5;241m.\u001b[39mlinalg\u001b[38;5;241m.\u001b[39mnorm(f1_rbf \u001b[38;5;241m-\u001b[39m f1)\n",
      "\u001b[0;31mTypeError\u001b[0m: cannot unpack non-iterable function object"
     ]
    }
   ],
   "source": [
    "res = []\n",
    "\n",
    "x_0 = np.ones(dim)\n",
    "\n",
    "N = 50\n",
    "low = -5\n",
    "high = 5\n",
    "S = np.random.uniform(low, high, size=(dim, N))\n",
    "\n",
    "f1 = F_f1(jnp.array(x_0).reshape(-1, 1))\n",
    "eps_space = jnp.logspace(-5, -1, 20)\n",
    "for eps in eps_space:\n",
    "    H_err_avg = 0\n",
    "    f1_err_avg = 0\n",
    "    N_samples = 10\n",
    "    for _ in range(N_samples):\n",
    "        ys = F(S + x_0.reshape(-1, 1)) + np.random.uniform(size=N)* eps\n",
    "        H_rbf, f1_rbf = get_H_rbf(x_0, S, ys)\n",
    "        H_err_avg += jnp.linalg.norm(H_rbf - H)\n",
    "        f1_err_avg += jnp.linalg.norm(f1_rbf - f1)\n",
    "        \n",
    "    res.append([f1_err_avg/N_samples, H_err_avg/N_samples])\n",
    "    \n",
    "\n",
    "\n",
    "\n",
    "\n"
   ]
  },
  {
   "cell_type": "code",
   "execution_count": 300,
   "metadata": {},
   "outputs": [
    {
     "data": {
      "text/plain": [
       "<matplotlib.legend.Legend at 0x7f9c93b4b430>"
      ]
     },
     "execution_count": 300,
     "metadata": {},
     "output_type": "execute_result"
    },
    {
     "data": {
      "image/png": "[encoded data removed]",
      "text/plain": [
       "<Figure size 432x288 with 1 Axes>"
      ]
     },
     "metadata": {
      "needs_background": "light"
     },
     "output_type": "display_data"
    }
   ],
   "source": [
    "res = np.array(res)\n",
    "plt.plot(eps_space, res[:, 0], label=\"f1\")\n",
    "# plt.show()\n",
    "plt.plot(eps_space, res[:, 1], label=\"f2\")\n",
    "plt.legend()"
   ]
  },
  {
   "cell_type": "code",
   "execution_count": 358,
   "metadata": {},
   "outputs": [
    {
     "data": {
      "text/plain": [
       "[<matplotlib.lines.Line2D at 0x7f9c93db0580>]"
      ]
     },
     "execution_count": 358,
     "metadata": {},
     "output_type": "execute_result"
    },
    {
     "data": {
      "image/png": "[encoded data removed]",
      "text/plain": [
       "<Figure size 432x288 with 1 Axes>"
      ]
     },
     "metadata": {
      "needs_background": "light"
     },
     "output_type": "display_data"
    }
   ],
   "source": [
    "xs = jnp.linspace(-5, 5, 50)\n",
    "\n",
    "eps = 0\n",
    "\n",
    "ys = F(S) + np.random.uniform(size=N)* eps\n",
    "\n",
    "rbf = RBFInterpolator(S.T , ys)\n",
    "rbf_out = rbf(xs.reshape(-1, 1))\n",
    "\n",
    "rbf_tmp = get_H_rbf(x_0, S.reshape(1, -1), ys)\n",
    "rbf_out = np.array([rbf_tmp(x) for x in xs.reshape(-1, 1)])\n",
    "\n",
    "plt.plot(xs, F(xs.reshape(1, -1)))\n",
    "plt.plot(xs, rbf_out)"
   ]
  },
  {
   "cell_type": "code",
   "execution_count": 339,
   "metadata": {},
   "outputs": [
    {
     "data": {
      "text/plain": [
       "array([10.98521439, 11.06623168,  9.9651462 , 13.2252675 ,  7.22447316,\n",
       "        8.53177905, 11.35228345, 13.58976878, 10.1428419 ,  7.8551454 ,\n",
       "        8.50950073, 13.84085062, 13.82516439,  9.54458515, 11.44198456,\n",
       "       12.27634503, 12.19923542, 13.03440848, 15.59510281, 12.71563431,\n",
       "       14.51643532,  9.67231383,  6.04649706,  8.33923832,  7.84000398,\n",
       "        8.67715715, 13.98466358,  7.7723617 , 13.85228581, 13.35630166,\n",
       "       12.10200099,  9.09699443, 13.06844568, 11.49718248, 10.80173862,\n",
       "       10.03427615, 13.64401985, 10.38829762, 12.7273333 , 11.1763733 ,\n",
       "       13.28608617, 11.29003771,  9.77629293, 13.58167287, 14.46527504,\n",
       "        7.19227186, 13.8559566 , 12.17597415,  9.74450998, 13.05219395])"
      ]
     },
     "execution_count": 339,
     "metadata": {},
     "output_type": "execute_result"
    }
   ],
   "source": [
    "rbf_out"
   ]
  },
  {
   "cell_type": "code",
   "execution_count": 350,
   "metadata": {},
   "outputs": [
    {
     "name": "stdout",
     "output_type": "stream",
     "text": [
      "52\n",
      "[0.02218202]\n",
      "[4.79657628]\n"
     ]
    },
    {
     "data": {
      "text/plain": [
       "<function __main__.get_H_rbf.<locals>.<lambda>(x)>"
      ]
     },
     "execution_count": 350,
     "metadata": {},
     "output_type": "execute_result"
    }
   ],
   "source": [
    "get_H_rbf(x_0, S, ys)"
   ]
  },
  {
   "cell_type": "code",
   "execution_count": 326,
   "metadata": {},
   "outputs": [
    {
     "data": {
      "text/plain": [
       "DeviceArray([[-0.09571258]], dtype=float64)"
      ]
     },
     "execution_count": 326,
     "metadata": {},
     "output_type": "execute_result"
    }
   ],
   "source": [
    "f1"
   ]
  },
  {
   "cell_type": "code",
   "execution_count": 327,
   "metadata": {},
   "outputs": [
    {
     "data": {
      "text/plain": [
       "array([[0.22253383]])"
      ]
     },
     "execution_count": 327,
     "metadata": {},
     "output_type": "execute_result"
    }
   ],
   "source": [
    "H"
   ]
  },
  {
   "cell_type": "code",
   "execution_count": 328,
   "metadata": {},
   "outputs": [
    {
     "data": {
      "text/plain": [
       "array([-0.09550154])"
      ]
     },
     "execution_count": 328,
     "metadata": {},
     "output_type": "execute_result"
    }
   ],
   "source": [
    "h = 1e-5\n",
    "(rbf(x_0.reshape(-1, 1) + h) - rbf(x_0.reshape(-1, 1)))/h"
   ]
  },
  {
   "cell_type": "code",
   "execution_count": 344,
   "metadata": {},
   "outputs": [
    {
     "data": {
      "text/plain": [
       "DeviceArray(-2.53864965, dtype=float64)"
      ]
     },
     "execution_count": 344,
     "metadata": {},
     "output_type": "execute_result"
    }
   ],
   "source": [
    "h = 1e-8\n",
    "(rbf_tmp(x_0.reshape(-1, 1) + h) - rbf_tmp(x_0.reshape(-1, 1)))/h"
   ]
  },
  {
   "cell_type": "code",
   "execution_count": null,
   "metadata": {},
   "outputs": [],
   "source": []
  }
 ],
 "metadata": {
  "kernelspec": {
   "display_name": "Python (simplex_grad)",
   "language": "python",
   "name": "simplex_grad"
  },
  "language_info": {
   "codemirror_mode": {
    "name": "ipython",
    "version": 3
   },
   "file_extension": ".py",
   "mimetype": "text/x-python",
   "name": "python",
   "nbconvert_exporter": "python",
   "pygments_lexer": "ipython3",
   "version": "3.10.0"
  }
 },
 "nbformat": 4,
 "nbformat_minor": 2
}
