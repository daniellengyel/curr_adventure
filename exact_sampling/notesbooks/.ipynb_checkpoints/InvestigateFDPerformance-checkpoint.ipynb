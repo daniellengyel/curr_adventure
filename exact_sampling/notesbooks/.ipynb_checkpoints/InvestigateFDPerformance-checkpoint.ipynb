{
 "cells": [
  {
   "cell_type": "code",
   "execution_count": 113,
   "metadata": {},
   "outputs": [
    {
     "name": "stdout",
     "output_type": "stream",
     "text": [
      "The autoreload extension is already loaded. To reload it, use:\n",
      "  %reload_ext autoreload\n"
     ]
    }
   ],
   "source": [
    "import jax.numpy as jnp\n",
    "import jax.random as jrandom\n",
    "\n",
    "\n",
    "import sys \n",
    "import os \n",
    "HOME = os.getenv(\"HOME\")\n",
    "sys.path.append(HOME + \"/curr_adventure/exact_sampling/\")\n",
    "sys.path.append(HOME + \"/curr_adventure/exact_sampling/Optimization\")\n",
    "\n",
    "from Optimization import NewtonMethod\n",
    "from pdfo import newuoa\n",
    "\n",
    "from NEWUO_test import NEWUOA_Wrapper\n",
    "\n",
    "from pow_sampling_set import pow_SG\n",
    "from Functions import PyCutestGetter, load_cutest_quadratic, HeartDisease\n",
    "from AdaptiveFD import adapt_FD\n",
    "from FD import FD\n",
    "\n",
    "from tqdm import tqdm\n",
    "\n",
    "import matplotlib.pyplot as plt\n",
    "\n",
    "%load_ext autoreload\n",
    "%autoreload 2"
   ]
  },
  {
   "cell_type": "code",
   "execution_count": 2,
   "metadata": {},
   "outputs": [],
   "source": [
    "import pycutest\n"
   ]
  },
  {
   "cell_type": "code",
   "execution_count": 123,
   "metadata": {},
   "outputs": [
    {
     "name": "stdout",
     "output_type": "stream",
     "text": [
      "961.069980939949\n",
      "2.7258527897407743\n"
     ]
    },
    {
     "data": {
      "text/plain": [
       "DeviceArray(1001568.39783139, dtype=float64)"
      ]
     },
     "execution_count": 123,
     "metadata": {},
     "output_type": "execute_result"
    }
   ],
   "source": [
    "F = load_cutest_quadratic(\"DUAL2\", 1, 1, \"uniform\")"
   ]
  },
  {
   "cell_type": "code",
   "execution_count": 112,
   "metadata": {},
   "outputs": [
    {
     "data": {
      "text/plain": [
       "DeviceArray([-1.], dtype=float64)"
      ]
     },
     "execution_count": 112,
     "metadata": {},
     "output_type": "execute_result"
    }
   ],
   "source": [
    "F.bs"
   ]
  },
  {
   "cell_type": "code",
   "execution_count": 110,
   "metadata": {},
   "outputs": [
    {
     "name": "stdout",
     "output_type": "stream",
     "text": [
      "[0. 0. 0. 0. 0. 0. 0. 0. 0. 0. 0. 0. 0. 0. 0. 0. 0. 0. 0. 0. 0. 0. 0. 0.\n",
      " 0. 0. 0. 0. 0. 0. 0. 0. 0. 0. 0. 0. 0. 0. 0. 0. 0. 0. 0. 0. 0. 0. 0. 0.\n",
      " 0. 0. 0. 0. 0. 0. 0. 0. 0. 0. 0. 0. 0. 0. 0. 0. 0. 0. 0. 0. 0. 0. 0. 0.\n",
      " 0. 0.]\n"
     ]
    },
    {
     "data": {
      "text/plain": [
       "DeviceArray([ 0.        ,  0.        ,  0.        ,  0.        ,\n",
       "              0.        ,  0.        ,  0.        ,  0.        ,\n",
       "              0.        ,  0.        ,  0.        ,  0.        ,\n",
       "              0.        ,  0.        ,  0.        ,  0.        ,\n",
       "              0.        ,  0.        ,  0.        ,  0.        ,\n",
       "              0.        ,  0.        ,  0.        ,  0.        ,\n",
       "              0.        ,  0.        ,  0.        ,  0.        ,\n",
       "              0.        ,  0.        ,  0.        ,  0.        ,\n",
       "              0.        ,  0.        ,  0.        ,  0.        ,\n",
       "              0.        ,  0.        ,  0.        ,  0.        ,\n",
       "              0.        ,  0.        ,  0.        ,  0.        ,\n",
       "              0.        ,  0.        ,  0.        ,  0.        ,\n",
       "              0.        ,  0.        ,  0.        ,  0.        ,\n",
       "              0.        ,  0.        ,  0.        ,  0.        ,\n",
       "              0.        ,  0.        ,  0.        ,  0.        ,\n",
       "              0.        ,  0.        ,  0.        ,  0.        ,\n",
       "              7.75333333,  3.03108891, 26.32      , 21.05      ,\n",
       "              8.20060973,  1.29      ,  5.        ,  7.07106781,\n",
       "              0.        ,  0.        ], dtype=float64)"
      ]
     },
     "execution_count": 110,
     "metadata": {},
     "output_type": "execute_result"
    }
   ],
   "source": [
    "X = F.x0\n",
    "\n",
    "\n",
    "X_len_along_ws = X.dot(F.ws.T)/jnp.linalg.norm(F.ws, axis=1)\n",
    "print(X_len_along_ws)\n",
    "hyperplane_dist = F.bs/jnp.linalg.norm(F.ws, axis=1)\n",
    "dist = X_len_along_ws - hyperplane_dist # dist.shape = (N_ws)\n",
    "signs = 2*(dist * jnp.sign(hyperplane_dist) > 0) - 1\n",
    "dist"
   ]
  },
  {
   "cell_type": "code",
   "execution_count": 6,
   "metadata": {},
   "outputs": [
    {
     "name": "stderr",
     "output_type": "stream",
     "text": [
      "100%|█████████████████████████████████████████████████████████████████████████| 1/1 [00:00<00:00,  8.81it/s]\n"
     ]
    },
    {
     "name": "stdout",
     "output_type": "stream",
     "text": [
      "BDQRTIC\n"
     ]
    },
    {
     "name": "stderr",
     "output_type": "stream",
     "text": [
      "\r",
      "  0%|                                                                                 | 0/1 [00:00<?, ?it/s]"
     ]
    },
    {
     "name": "stdout",
     "output_type": "stream",
     "text": [
      "BDQRTIC\n"
     ]
    },
    {
     "name": "stderr",
     "output_type": "stream",
     "text": [
      "100%|█████████████████████████████████████████████████████████████████████████| 1/1 [00:01<00:00,  1.37s/it]\n",
      "  0%|                                                                                 | 0/1 [00:00<?, ?it/s]"
     ]
    },
    {
     "name": "stdout",
     "output_type": "stream",
     "text": [
      "BDQRTIC\n"
     ]
    },
    {
     "name": "stderr",
     "output_type": "stream",
     "text": [
      "100%|█████████████████████████████████████████████████████████████████████████| 1/1 [00:02<00:00,  2.82s/it]\n",
      "  0%|                                                                                 | 0/1 [00:00<?, ?it/s]"
     ]
    },
    {
     "name": "stdout",
     "output_type": "stream",
     "text": [
      "BDQRTIC\n"
     ]
    },
    {
     "name": "stderr",
     "output_type": "stream",
     "text": [
      "100%|█████████████████████████████████████████████████████████████████████████| 1/1 [00:17<00:00, 17.70s/it]\n"
     ]
    },
    {
     "data": {
      "image/png": "[encoded data removed]",
      "text/plain": [
       "<Figure size 432x288 with 1 Axes>"
      ]
     },
     "metadata": {
      "needs_background": "light"
     },
     "output_type": "display_data"
    },
    {
     "data": {
      "image/png": "[encoded data removed]",
      "text/plain": [
       "<Figure size 432x288 with 1 Axes>"
      ]
     },
     "metadata": {
      "needs_background": "light"
     },
     "output_type": "display_data"
    },
    {
     "data": {
      "image/png": "[encoded data removed]",
      "text/plain": [
       "<Figure size 432x288 with 1 Axes>"
      ]
     },
     "metadata": {
      "needs_background": "light"
     },
     "output_type": "display_data"
    }
   ],
   "source": [
    "sig = 20\n",
    "noise_type=\"uniform\"\n",
    "\n",
    "step_size = 1e-5\n",
    "num_total_steps = 50\n",
    "grad_eps = 1e-10\n",
    "seed = 10\n",
    "\n",
    "jrandom_key = jrandom.PRNGKey(seed)\n",
    "\n",
    "test_problem_iter = range(4, 5)\n",
    "dim_i = 0\n",
    "dim_iter = range(10)\n",
    "\n",
    "verbose = False\n",
    "\n",
    "# # regular BFGS\n",
    "# for i in test_problem_iter:\n",
    "#     print(i)\n",
    "#     for d in dim_iter:\n",
    "#         F_name, x_0, F = PyCutestGetter(func_i=i, dim_i = d, sig=sig, noise_type=noise_type)\n",
    "#         if F is None:\n",
    "#             break\n",
    "#         print(\"F name\", F_name)\n",
    "#         print(\"dim\", len(x_0))\n",
    "#         print()\n",
    "for i in tqdm(test_problem_iter):\n",
    "    F_name, x_0, F = PyCutestGetter(func_i=i, dim_i=dim_i, sig=sig, noise_type=noise_type)\n",
    "    print(F_name)\n",
    "    GD_sig = 0\n",
    "    optimizer = GradientDescent(x_0, F, step_size, num_total_steps, GD_sig, None, grad_eps, verbose=verbose)\n",
    "    final_X, exact_res, exact_X_data = optimizer.run_opt()\n",
    "\n",
    "\n",
    "# adaptive FD\n",
    "# # test_problem_iter = [2] # [19] # range(0, 1)\n",
    "# for i in tqdm(test_problem_iter):\n",
    "#     F_name, x_0, F = PyCutestGetter(func_i=i, dim_i=dim_i, sig=sig, noise_type=noise_type)\n",
    "#     print(F_name)\n",
    "#     grad_getter = adapt_FD(sig, rl=1.5, ru=6) \n",
    "#     optimizer = BFGS(x_0, F, step_size, num_total_steps, sig, jrandom_key, grad_getter, grad_eps, verbose=True)\n",
    "#     final_X, adaptFD_res, _ = optimizer.run_opt()\n",
    "#     # save_opt(adaptFD_res, \"AdaptFD\", F_name, sig, \"uniform\", step_size, seed)\n",
    "\n",
    "# standard FD\n",
    "# test_problem_iter = [2] # [19] # range(0, 1)\n",
    "for i in tqdm(test_problem_iter):\n",
    "    F_name, x_0, F = PyCutestGetter(func_i=i, dim_i=dim_i, sig=sig, noise_type=noise_type)\n",
    "    print(F_name)\n",
    "    grad_getter = FD(sig, is_central=False, h=.1) \n",
    "    optimizer = BFGS(x_0, F, step_size, num_total_steps, sig, jrandom_key, grad_getter, grad_eps, verbose=verbose)\n",
    "    final_X, FD_res, FD_X_data = optimizer.run_opt()\n",
    "\n",
    "# Central FD\n",
    "# test_problem_iter = [2] # [19] # range(0, 1)\n",
    "for i in tqdm(test_problem_iter):\n",
    "    F_name, x_0, F = PyCutestGetter(func_i=i, dim_i=dim_i, sig=sig, noise_type=noise_type)\n",
    "    print(F_name)\n",
    "    grad_getter = FD(sig, is_central=True, h=.1) \n",
    "    optimizer = BFGS(x_0, F, step_size, num_total_steps, sig, jrandom_key, grad_getter, grad_eps, verbose=verbose)\n",
    "    final_X, central_FD_res, CFG_X_data = optimizer.run_opt()\n",
    "    # save_opt(adaptFD_res, \"AdaptFD\", F_name, sig, \"uniform\", step_size, seed)\n",
    "\n",
    "\n",
    "# Our Method\n",
    "# test_problem_iter = [2] # range(15, 54) # range(0, 1)\n",
    "for i in tqdm(test_problem_iter):\n",
    "    F_name, x_0, F = PyCutestGetter(func_i=i, dim_i=dim_i, sig=sig, noise_type=noise_type)\n",
    "\n",
    "    if F is None:\n",
    "        continue\n",
    "    print(F_name)\n",
    "\n",
    "    grad_getter = pow_SG(sig, max_h=0.1)\n",
    "    optimizer = BFGS(x_0, F, step_size, num_total_steps, sig, jrandom_key, grad_getter, grad_eps, verbose=verbose)\n",
    "    final_X, our_res, our_X_data = optimizer.run_opt()\n",
    "    # _, our_res = save_opt(opt_res, \"OurMethod\", F_name, sig, noise_type, step_size, seed)\n",
    "\n",
    "# # NEWUOA\n",
    "# for i in tqdm(test_problem_iter):\n",
    "#     F_name, x_0, F = PyCutestGetter(i, sig=sig, noise_type=noise_type)\n",
    "\n",
    "#     if F is None:\n",
    "#         continue\n",
    "#     print(F_name)\n",
    "\n",
    "\n",
    "#     curr_F_inst = NEWUOA_Wrapper(F, jrandom_key)\n",
    "#     curr_F = lambda X: float(curr_F_inst.f(X))\n",
    "\n",
    "\n",
    "#     newuoa_full_res = newuoa(curr_F, x_0) \n",
    "#     newuoa_res = newuoa_full_res[\"fhist\"]\n",
    "#     # _, our_res = save_opt(opt_res, \"OurMethod\", F_name, sig, noise_type, step_size, seed)\n",
    "\n",
    "\n",
    "# plt.plot(adaptFD_res[:, 1], adaptFD_res[:, 0], label=\"Adapt\")\n",
    "# plt.plot(our_res[:, 1], our_res[:, 0], label=\"Our\")\n",
    "# plt.xlabel(\"Time\")\n",
    "# plt.yscale(\"log\")\n",
    "# plt.legend()\n",
    "# plt.show()\n",
    "\n",
    "plt.plot(range(len(exact_res[:, 2])), exact_res[:, -1], label=\"Exact\")\n",
    "# plt.plot(adaptFD_res[:, 2], adaptFD_res[:, -1], label=\"Adapt\")\n",
    "plt.plot(range(len(FD_res[:, 2])), FD_res[:, -1], label=\"FD\")\n",
    "plt.plot(range(len(central_FD_res[:, 2])), central_FD_res[:, -1], label=\"Central FD\")\n",
    "plt.plot(range(len(our_res[:, 2])), our_res[:, -1], label=\"Our\")\n",
    "# # plt.plot(newuoa_res, label=\"NEWUOA\")\n",
    "plt.xlabel(\"Func Calls\")\n",
    "# plt.yscale(\"log\")\n",
    "plt.legend()\n",
    "plt.show()\n",
    "\n",
    "plt.plot(exact_res[:, 2], exact_res[:, 0], label=\"Exact\")\n",
    "# plt.plot(adaptFD_res[:, 2], adaptFD_res[:, 0], label=\"Adapt\")\n",
    "plt.plot(FD_res[:, 2], FD_res[:, 0], label=\"FD\")\n",
    "plt.plot(central_FD_res[:, 2], central_FD_res[:, 0], label=\"Central FD\")\n",
    "plt.plot(our_res[:, 2], our_res[:, 0], label=\"Our\")\n",
    "# plt.plot(newuoa_res, label=\"NEWUOA\")\n",
    "plt.xlabel(\"Func Calls\")\n",
    "plt.yscale(\"log\")\n",
    "plt.legend()\n",
    "plt.show()\n",
    "\n",
    "plt.plot(range(len(exact_res[:, 2])), exact_res[:, 0], label=\"Exact\")\n",
    "# plt.plot(range(len(adaptFD_res[:, 2])), adaptFD_res[:, 0], label=\"Adapt\")\n",
    "plt.plot(range(len(FD_res[:, 2])), FD_res[:, 0], label=\"FD\")\n",
    "plt.plot(range(len(central_FD_res[:, 2])), central_FD_res[:, 0], label=\"Central FD\")\n",
    "plt.plot(range(len(our_res[:, 2])), our_res[:, 0], label=\"Our\")\n",
    "# # plt.plot(newuoa_res, label=\"NEWUOA\")\n",
    "plt.xlabel(\"Num Iter\")\n",
    "plt.yscale(\"log\")\n",
    "plt.legend()\n",
    "plt.show()"
   ]
  },
  {
   "cell_type": "code",
   "execution_count": 51,
   "metadata": {},
   "outputs": [
    {
     "data": {
      "image/png": "[encoded data removed]",
      "text/plain": [
       "<Figure size 432x288 with 1 Axes>"
      ]
     },
     "metadata": {
      "needs_background": "light"
     },
     "output_type": "display_data"
    }
   ],
   "source": [
    "our_grad_getter = pow_SG(sig, max_h=0.5)\n",
    "FD_grad_getter = FD(sig, is_central=False, h=.5) \n",
    "\n",
    "jrandom_key = jrandom.PRNGKey(1)\n",
    "\n",
    "res_our = []\n",
    "res_FD = []\n",
    "\n",
    "x_FD_our_dist = []\n",
    "x_exact_our_dist = []\n",
    "x_exact_FD_dist = []\n",
    "\n",
    "dist_best_our = []\n",
    "dist_best_FD = []\n",
    "\n",
    "grad_diff_ours = []\n",
    "grad_diff_FD = []\n",
    "\n",
    "grad_cos_ours = []\n",
    "grad_cos_FD = []\n",
    "\n",
    "\n",
    "for i in range(len(our_X_data)):\n",
    "    jrandom_key, subkey = jrandom.split(jrandom_key)\n",
    "    \n",
    "    curr_FD_X = FD_X_data[i]\n",
    "    curr_our_X = our_X_data[i]\n",
    "    \n",
    "#     res_our.append(F.f(our_X_data[i]))\n",
    "#     res_FD.append(F.f(FD_X_data[i]))\n",
    "    \n",
    "#     x_FD_our_dist.append(jnp.linalg.norm(curr_FD_X - curr_our_X))\n",
    "#     x_exact_our_dist.append(jnp.linalg.norm(curr_our_X - exact_X_data[i]))\n",
    "#     x_exact_FD_dist.append(jnp.linalg.norm(curr_FD_X - exact_X_data[i]))\n",
    "    \n",
    "#     dist_best_our.append(jnp.linalg.norm(exact_X_data[-1] - curr_our_X))\n",
    "#     dist_best_FD.append(jnp.linalg.norm(exact_X_data[-1] - curr_FD_X)) \n",
    "\n",
    "    grad_exact_ours = F.f1(curr_our_X)\n",
    "    grad_exact_FD = F.f1(curr_FD_X)\n",
    "    \n",
    "    grad_ours = our_grad_getter.grad(F, curr_our_X, subkey, H=F.f2(curr_our_X))[0]\n",
    "    grad_FD = FD_grad_getter.grad(F, curr_FD_X, subkey, H=F.f2(curr_FD_X))[0]\n",
    "    \n",
    "    grad_diff_ours.append(jnp.linalg.norm(grad_exact_ours - grad_ours))\n",
    "    grad_diff_FD.append(jnp.linalg.norm(grad_exact_FD - grad_FD))\n",
    "\n",
    "    grad_cos_ours.append(float(grad_ours @ grad_exact_ours) / (jnp.linalg.norm(grad_exact_ours) * jnp.linalg.norm(grad_ours)))\n",
    "    grad_cos_FD.append(float(grad_FD @ grad_exact_FD) / (jnp.linalg.norm(grad_exact_FD) * jnp.linalg.norm(grad_FD)))\n",
    "    \n",
    "    \n",
    "    if grad_cos_FD[-1] < 0:\n",
    "        print(subkey)\n",
    "        print(i)\n",
    "\n",
    "\n",
    "\n",
    "\n",
    "# plt.plot(x_FD_our_dist, label=\"FD our\")\n",
    "# plt.plot(x_exact_our_dist, label=\"exact our\")\n",
    "# plt.plot(x_exact_FD_dist, label=\"exact FD\")\n",
    "\n",
    "# plt.plot(dist_best_our, label=\"Dist best our\")\n",
    "# plt.plot(dist_best_FD, label=\"Dist best FD\")\n",
    "\n",
    "# plt.plot(grad_cos_ours, label=\"grad_cos_ours\")\n",
    "# plt.plot(grad_cos_FD, label=\"grad_cos_FD\")\n",
    "\n",
    "\n",
    "plt.plot(grad_diff_ours, label=\"grad_diff_ours\")\n",
    "plt.plot(grad_diff_FD, label=\"grad_diff_FD\")\n",
    "\n",
    "plt.legend()\n",
    "plt.show()\n",
    "    \n",
    "# plt.plot(res_our)\n",
    "# plt.plot(res_FD)\n"
   ]
  },
  {
   "cell_type": "code",
   "execution_count": 52,
   "metadata": {},
   "outputs": [
    {
     "data": {
      "image/png": "[encoded data removed]",
      "text/plain": [
       "<Figure size 432x288 with 1 Axes>"
      ]
     },
     "metadata": {
      "needs_background": "light"
     },
     "output_type": "display_data"
    }
   ],
   "source": [
    "# plt.plot(x_FD_our_dist, label=\"FD our\")\n",
    "# plt.plot(x_exact_our_dist, label=\"exact our\")\n",
    "# plt.plot(x_exact_FD_dist, label=\"exact FD\")\n",
    "\n",
    "# plt.plot(dist_best_our, label=\"Dist best our\")\n",
    "# plt.plot(dist_best_FD, label=\"Dist best FD\")\n",
    "\n",
    "plt.plot(grad_cos_ours, label=\"grad_cos_ours\")\n",
    "plt.plot(grad_cos_FD, label=\"grad_cos_FD\")\n",
    "\n",
    "\n",
    "# plt.plot(grad_diff_ours, label=\"grad_diff_ours\")\n",
    "# plt.plot(grad_diff_FD, label=\"grad_diff_FD\")\n",
    "\n",
    "plt.legend()\n",
    "plt.show()\n",
    "    \n",
    "# plt.plot(res_our)\n",
    "# plt.plot(res_FD)"
   ]
  },
  {
   "cell_type": "code",
   "execution_count": 49,
   "metadata": {},
   "outputs": [
    {
     "name": "stdout",
     "output_type": "stream",
     "text": [
      "[0.61424755 0.12271319 0.12266113 0.1222437 ]\n",
      "[0.1 0.1 0.1 0.1]\n",
      "[11.0319086   0.32074529  0.32069332  0.32054969  0.320331    0.32020154\n",
      "  0.31995485  0.319826    0.319701    0.31953989  0.31923467  0.31921263\n",
      "  0.31898403  0.31870093  0.31847815  0.31833511  0.31529506  0.31372422\n",
      "  0.31151978  0.30961533  0.30728846  0.30455514  0.301862    0.29887068\n",
      "  0.29556581  0.29238979  0.28897029  0.2854575   0.281981    0.27798162\n",
      "  0.27462796  0.27114762]\n",
      "[0.1 0.1 0.1 0.1 0.1 0.1 0.1 0.1 0.1 0.1 0.1 0.1 0.1 0.1 0.1 0.1 0.1 0.1\n",
      " 0.1 0.1 0.1 0.1 0.1 0.1 0.1 0.1 0.1 0.1 0.1 0.1 0.1 0.1]\n",
      "[4.41577998e+02 1.64559620e+00 1.36684288e+00 1.22438152e+00\n",
      " 1.11996000e+00 1.05886250e+00 1.05872076e+00 1.05569218e+00\n",
      " 1.05534504e+00 1.05156367e+00 1.05034027e+00 1.04998421e+00\n",
      " 1.04867596e+00 1.04758676e+00 1.04630825e+00 1.04370127e+00\n",
      " 1.04222864e+00 1.04151071e+00 1.04019914e+00 1.03982808e+00\n",
      " 1.03892231e+00 1.03778823e+00 1.03714413e+00 1.03631211e+00\n",
      " 1.03587502e+00 1.03549691e+00 1.03499703e+00 1.03464668e+00\n",
      " 1.03449787e+00 1.03295490e+00 1.03244710e+00 1.03175245e+00\n",
      " 8.58984709e-01 8.46975790e-01 8.35452035e-01 8.22738747e-01\n",
      " 8.11415786e-01 8.01240297e-01 7.90309102e-01 7.79519261e-01\n",
      " 7.69593153e-01 7.60049477e-01 7.49803446e-01 7.41422489e-01\n",
      " 7.33154650e-01 7.24539517e-01 7.16526771e-01 7.09511502e-01\n",
      " 7.02081370e-01 6.96463415e-01 6.89615952e-01 6.84362951e-01\n",
      " 6.80756153e-01 6.74914876e-01 6.70265116e-01 6.67385400e-01\n",
      " 6.63712503e-01 6.61381275e-01 6.57794253e-01 6.57202082e-01\n",
      " 6.54662675e-01 6.52962890e-01 6.51639804e-01 1.65937264e-01]\n",
      "[0.1        0.1        0.1        0.1        0.1        0.1\n",
      " 0.1        0.1        0.1        0.1        0.1        0.1\n",
      " 0.1        0.1        0.1        0.1        0.1        0.1\n",
      " 0.1        0.1        0.1        0.1        0.1        0.1\n",
      " 0.1        0.1        0.1        0.1        0.1        0.1\n",
      " 0.1        0.1        0.1        0.1        0.1        0.1\n",
      " 0.1        0.1        0.1        0.1        0.1        0.1\n",
      " 0.1        0.1        0.1        0.1        0.1        0.1\n",
      " 0.1        0.1        0.1        0.1        0.1        0.1\n",
      " 0.1        0.1        0.1        0.1        0.1        0.1\n",
      " 0.1        0.1        0.1        0.07692475]\n"
     ]
    }
   ],
   "source": [
    "\n",
    "subkey = jnp.array([ 577314444, 1000872112], dtype=jnp.uint32)\n",
    "\n",
    "i = 48\n",
    "curr_FD_X = FD_X_data[i]\n",
    "curr_our_X = our_X_data[i]\n",
    "\n",
    "grad_exact_ours = F.f1(curr_our_X)\n",
    "grad_exact_FD = F.f1(curr_FD_X)\n",
    "\n",
    "grad_ours = our_grad_getter.grad(F, curr_our_X, subkey, H=F.f2(curr_our_X))[0]\n",
    "grad_FD = FD_grad_getter.grad(F, curr_FD_X, subkey, H=F.f2(curr_FD_X))[0]\n",
    "\n",
    "# grad_diff_ours.append(jnp.linalg.norm(grad_exact_ours - grad_ours))\n",
    "# grad_diff_FD.append(jnp.linalg.norm(grad_exact_FD - grad_FD))\n",
    "\n",
    "# grad_cos_ours.append(float(grad_ours @ grad_exact_ours) / (jnp.linalg.norm(grad_exact_ours) * jnp.linalg.norm(grad_ours)))\n",
    "# grad_cos_FD.append(float(grad_FD @ grad_exact_FD) / (jnp.linalg.norm(grad_exact_FD) * jnp.linalg.norm(grad_FD)))\n",
    "\n",
    "    "
   ]
  },
  {
   "cell_type": "code",
   "execution_count": 38,
   "metadata": {},
   "outputs": [
    {
     "data": {
      "text/plain": [
       "DeviceArray(-0.16034916, dtype=float64)"
      ]
     },
     "execution_count": 38,
     "metadata": {},
     "output_type": "execute_result"
    }
   ],
   "source": [
    "float(grad_FD @ grad_exact_FD) / (jnp.linalg.norm(grad_exact_FD) * jnp.linalg.norm(grad_FD))"
   ]
  },
  {
   "cell_type": "code",
   "execution_count": 39,
   "metadata": {},
   "outputs": [
    {
     "data": {
      "text/plain": [
       "DeviceArray(3402.36907314, dtype=float64)"
      ]
     },
     "execution_count": 39,
     "metadata": {},
     "output_type": "execute_result"
    }
   ],
   "source": [
    "jnp.linalg.norm(grad_exact_ours - grad_ours)"
   ]
  },
  {
   "cell_type": "code",
   "execution_count": 40,
   "metadata": {},
   "outputs": [
    {
     "data": {
      "text/plain": [
       "DeviceArray(3468.70129774, dtype=float64)"
      ]
     },
     "execution_count": 40,
     "metadata": {},
     "output_type": "execute_result"
    }
   ],
   "source": [
    "jnp.linalg.norm(grad_exact_FD - grad_FD)"
   ]
  },
  {
   "cell_type": "code",
   "execution_count": 44,
   "metadata": {},
   "outputs": [
    {
     "data": {
      "text/plain": [
       "DeviceArray(2430.74262945, dtype=float64)"
      ]
     },
     "execution_count": 44,
     "metadata": {},
     "output_type": "execute_result"
    }
   ],
   "source": [
    "jnp.linalg.norm(grad_exact_FD)"
   ]
  },
  {
   "cell_type": "code",
   "execution_count": 45,
   "metadata": {},
   "outputs": [
    {
     "data": {
      "text/plain": [
       "DeviceArray(4107.54724383, dtype=float64)"
      ]
     },
     "execution_count": 45,
     "metadata": {},
     "output_type": "execute_result"
    }
   ],
   "source": [
    "jnp.linalg.norm(grad_ours)"
   ]
  },
  {
   "cell_type": "code",
   "execution_count": 46,
   "metadata": {},
   "outputs": [
    {
     "data": {
      "text/plain": [
       "DeviceArray(2115.28689269, dtype=float64)"
      ]
     },
     "execution_count": 46,
     "metadata": {},
     "output_type": "execute_result"
    }
   ],
   "source": [
    "jnp.linalg.norm(grad_FD)"
   ]
  },
  {
   "cell_type": "code",
   "execution_count": 2,
   "metadata": {},
   "outputs": [
    {
     "name": "stderr",
     "output_type": "stream",
     "text": [
      "WARNING:absl:No GPU/TPU found, falling back to CPU. (Set TF_CPP_MIN_LOG_LEVEL=0 and rerun for more info.)\n"
     ]
    }
   ],
   "source": [
    "coeffs = jnp.array([[ 0.60503153],\n",
    "             [ 0.65019324],\n",
    "             [-0.18282388],\n",
    "             [ 0.02177779],\n",
    "             [-0.15677926],\n",
    "             [-0.77314505],\n",
    "             [-0.14794334],\n",
    "             [ 0.0451133 ],\n",
    "             [-0.7386706 ],\n",
    "             [-0.57372443],\n",
    "             [-0.31213219],\n",
    "             [ 0.2576806 ],\n",
    "             [ 0.02836906],\n",
    "             [-0.31737118],\n",
    "             [-0.41519877],\n",
    "             [-0.64678855],\n",
    "             [ 0.12945895],\n",
    "             [-0.06360384],\n",
    "             [ 0.32841647],\n",
    "             [ 0.61064402],\n",
    "             [ 0.14097531],\n",
    "             [ 0.13838584],\n",
    "             [ 0.59156236],\n",
    "             [ 0.54893088],\n",
    "             [ 0.02112292],\n",
    "             [-0.14635513],\n",
    "             [-0.23356675],\n",
    "             [ 0.5904407 ],\n",
    "             [ 1.11707578],\n",
    "             [-0.38707984],\n",
    "             [ 0.71628752],\n",
    "             [ 0.00629796],\n",
    "             [ 0.16268752],\n",
    "             [ 0.10558802],\n",
    "             [ 0.60853589],\n",
    "             [-0.10179551],\n",
    "             [ 0.03420837],\n",
    "             [ 0.05705361],\n",
    "             [ 0.11873885],\n",
    "             [-0.29369613],\n",
    "             [-0.04330291],\n",
    "             [ 0.07585459]])\n",
    "y = jnp.array([[ 0.63090349,  0.63090349,  0.63090349,  0.63090349,\n",
    "               0.2773501 ,  0.2773501 ,  0.2773501 ,  0.2773501 ,\n",
    "               0.2773501 ,  0.63090349,  0.63090349,  0.63090349,\n",
    "               0.63090349],\n",
    "             [ 0.63090349, -0.07620329,  0.63090349, -0.07620329,\n",
    "               0.2773501 ,  0.2773501 ,  0.2773501 ,  0.2773501 ,\n",
    "               0.2773501 ,  0.63090349, -0.07620329,  0.63090349,\n",
    "              -0.07620329],\n",
    "             [ 0.63090349,  0.63090349, -0.07620329, -0.07620329,\n",
    "               0.2773501 ,  0.2773501 ,  0.2773501 ,  0.2773501 ,\n",
    "               0.2773501 ,  0.63090349,  0.63090349, -0.07620329,\n",
    "              -0.07620329],\n",
    "             [ 0.63090349, -0.07620329, -0.07620329,  0.63090349,\n",
    "               0.2773501 ,  0.2773501 ,  0.2773501 ,  0.2773501 ,\n",
    "               0.2773501 ,  0.63090349, -0.07620329, -0.07620329,\n",
    "               0.63090349],\n",
    "             [ 0.2773501 ,  0.2773501 ,  0.2773501 ,  0.2773501 ,\n",
    "               0.7773501 ,  0.7773501 ,  0.2773501 ,  0.7773501 ,\n",
    "               0.7773501 ,  0.2773501 ,  0.2773501 ,  0.2773501 ,\n",
    "               0.2773501 ],\n",
    "             [ 0.2773501 ,  0.2773501 ,  0.2773501 ,  0.2773501 ,\n",
    "               0.7773501 , -0.2226499 ,  0.2773501 ,  0.7773501 ,\n",
    "              -0.2226499 ,  0.2773501 ,  0.2773501 ,  0.2773501 ,\n",
    "               0.2773501 ],\n",
    "             [ 0.2773501 ,  0.2773501 ,  0.2773501 ,  0.2773501 ,\n",
    "               0.2773501 ,  0.2773501 ,  1.2773501 ,  0.2773501 ,\n",
    "               0.2773501 ,  0.2773501 ,  0.2773501 ,  0.2773501 ,\n",
    "               0.2773501 ],\n",
    "             [ 0.2773501 ,  0.2773501 ,  0.2773501 ,  0.2773501 ,\n",
    "               0.7773501 ,  0.7773501 ,  0.2773501 , -0.2226499 ,\n",
    "              -0.2226499 ,  0.2773501 ,  0.2773501 ,  0.2773501 ,\n",
    "               0.2773501 ],\n",
    "             [ 0.2773501 ,  0.2773501 ,  0.2773501 ,  0.2773501 ,\n",
    "               0.7773501 , -0.2226499 ,  0.2773501 , -0.2226499 ,\n",
    "               0.7773501 ,  0.2773501 ,  0.2773501 ,  0.2773501 ,\n",
    "               0.2773501 ],\n",
    "             [ 0.63090349,  0.63090349,  0.63090349,  0.63090349,\n",
    "               0.2773501 ,  0.2773501 ,  0.2773501 ,  0.2773501 ,\n",
    "               0.2773501 , -0.07620329, -0.07620329, -0.07620329,\n",
    "              -0.07620329],\n",
    "             [ 0.63090349, -0.07620329,  0.63090349, -0.07620329,\n",
    "               0.2773501 ,  0.2773501 ,  0.2773501 ,  0.2773501 ,\n",
    "               0.2773501 , -0.07620329,  0.63090349, -0.07620329,\n",
    "               0.63090349],\n",
    "             [ 0.63090349,  0.63090349, -0.07620329, -0.07620329,\n",
    "               0.2773501 ,  0.2773501 ,  0.2773501 ,  0.2773501 ,\n",
    "               0.2773501 , -0.07620329, -0.07620329,  0.63090349,\n",
    "               0.63090349],\n",
    "             [ 0.63090349, -0.07620329, -0.07620329,  0.63090349,\n",
    "               0.2773501 ,  0.2773501 ,  0.2773501 ,  0.2773501 ,\n",
    "               0.2773501 , -0.07620329,  0.63090349,  0.63090349,\n",
    "              -0.07620329],\n",
    "             [ 0.2773501 ,  0.2773501 ,  0.2773501 ,  0.2773501 ,\n",
    "               0.2773501 ,  0.2773501 ,  0.2773501 ,  0.2773501 ,\n",
    "               0.2773501 ,  0.2773501 ,  0.2773501 ,  0.2773501 ,\n",
    "               0.2773501 ],\n",
    "             [ 0.70000513,  0.46290432,  0.61615802,  0.59816094,\n",
    "               0.26307314,  0.06889067,  0.28172035,  0.28589698,\n",
    "               0.27624285,  0.5183195 ,  0.72134154,  0.51773465,\n",
    "               0.57585023],\n",
    "             [ 0.70000513, -0.24420246,  0.61615802, -0.10894584,\n",
    "               0.26307314,  0.06889067,  0.28172035,  0.28589698,\n",
    "               0.27624285,  0.5183195 ,  0.01423476,  0.51773465,\n",
    "              -0.13125655],\n",
    "             [ 0.70000513,  0.46290432, -0.09094876, -0.10894584,\n",
    "               0.26307314,  0.06889067,  0.28172035,  0.28589698,\n",
    "               0.27624285,  0.5183195 ,  0.72134154, -0.18937214,\n",
    "              -0.13125655],\n",
    "             [ 0.70000513, -0.24420246, -0.09094876,  0.59816094,\n",
    "               0.26307314,  0.06889067,  0.28172035,  0.28589698,\n",
    "               0.27624285,  0.5183195 ,  0.01423476, -0.18937214,\n",
    "               0.57585023],\n",
    "             [ 0.34645174,  0.10935093,  0.26260463,  0.24460755,\n",
    "               0.76307314,  0.56889067,  0.28172035,  0.78589698,\n",
    "               0.77624285,  0.16476611,  0.36778815,  0.16418125,\n",
    "               0.22229684],\n",
    "             [ 0.34645174,  0.10935093,  0.26260463,  0.24460755,\n",
    "               0.76307314, -0.43110933,  0.28172035,  0.78589698,\n",
    "              -0.22375715,  0.16476611,  0.36778815,  0.16418125,\n",
    "               0.22229684],\n",
    "             [ 0.34645174,  0.10935093,  0.26260463,  0.24460755,\n",
    "               0.26307314,  0.06889067,  1.28172035,  0.28589698,\n",
    "               0.27624285,  0.16476611,  0.36778815,  0.16418125,\n",
    "               0.22229684],\n",
    "             [ 0.34645174,  0.10935093,  0.26260463,  0.24460755,\n",
    "               0.76307314,  0.56889067,  0.28172035, -0.21410302,\n",
    "              -0.22375715,  0.16476611,  0.36778815,  0.16418125,\n",
    "               0.22229684],\n",
    "             [ 0.34645174,  0.10935093,  0.26260463,  0.24460755,\n",
    "               0.76307314, -0.43110933,  0.28172035, -0.21410302,\n",
    "               0.77624285,  0.16476611,  0.36778815,  0.16418125,\n",
    "               0.22229684],\n",
    "             [ 0.70000513,  0.46290432,  0.61615802,  0.59816094,\n",
    "               0.26307314,  0.06889067,  0.28172035,  0.28589698,\n",
    "               0.27624285, -0.18878729,  0.01423476, -0.18937214,\n",
    "              -0.13125655],\n",
    "             [ 0.70000513, -0.24420246,  0.61615802, -0.10894584,\n",
    "               0.26307314,  0.06889067,  0.28172035,  0.28589698,\n",
    "               0.27624285, -0.18878729,  0.72134154, -0.18937214,\n",
    "               0.57585023],\n",
    "             [ 0.70000513,  0.46290432, -0.09094876, -0.10894584,\n",
    "               0.26307314,  0.06889067,  0.28172035,  0.28589698,\n",
    "               0.27624285, -0.18878729,  0.01423476,  0.51773465,\n",
    "               0.57585023],\n",
    "             [ 0.70000513, -0.24420246, -0.09094876,  0.59816094,\n",
    "               0.26307314,  0.06889067,  0.28172035,  0.28589698,\n",
    "               0.27624285, -0.18878729,  0.72134154,  0.51773465,\n",
    "              -0.13125655],\n",
    "             [ 0.34645174,  0.10935093,  0.26260463,  0.24460755,\n",
    "               0.26307314,  0.06889067,  0.28172035,  0.28589698,\n",
    "               0.27624285,  0.16476611,  0.36778815,  0.16418125,\n",
    "               0.22229684]])\n",
    "epsilon = 1.0\n",
    "shift = jnp.array([0.48867761, 0.19335051, 0.26997736, 0.26097882, 0.52021162,\n",
    "             0.17312038, 0.77953522, 0.28162354, 0.27679647, 0.2210581 ,\n",
    "             0.32256913, 0.22076568, 0.24982347])\n",
    "scale = jnp.array([0.21132751, 0.43755297, 0.36092613, 0.36992467, 0.25713848,\n",
    "             0.60422972, 0.50218512, 0.50427344, 0.50055362, 0.40984539,\n",
    "             0.39877242, 0.41013781, 0.38108002])\n",
    "powers = jnp.array([[0, 0, 0, 0, 0, 0, 0, 0, 0, 0, 0, 0, 0],\n",
    "             [1, 0, 0, 0, 0, 0, 0, 0, 0, 0, 0, 0, 0],\n",
    "             [0, 1, 0, 0, 0, 0, 0, 0, 0, 0, 0, 0, 0],\n",
    "             [0, 0, 1, 0, 0, 0, 0, 0, 0, 0, 0, 0, 0],\n",
    "             [0, 0, 0, 1, 0, 0, 0, 0, 0, 0, 0, 0, 0],\n",
    "             [0, 0, 0, 0, 1, 0, 0, 0, 0, 0, 0, 0, 0],\n",
    "             [0, 0, 0, 0, 0, 1, 0, 0, 0, 0, 0, 0, 0],\n",
    "             [0, 0, 0, 0, 0, 0, 1, 0, 0, 0, 0, 0, 0],\n",
    "             [0, 0, 0, 0, 0, 0, 0, 1, 0, 0, 0, 0, 0],\n",
    "             [0, 0, 0, 0, 0, 0, 0, 0, 1, 0, 0, 0, 0],\n",
    "             [0, 0, 0, 0, 0, 0, 0, 0, 0, 1, 0, 0, 0],\n",
    "             [0, 0, 0, 0, 0, 0, 0, 0, 0, 0, 1, 0, 0],\n",
    "             [0, 0, 0, 0, 0, 0, 0, 0, 0, 0, 0, 1, 0],\n",
    "             [0, 0, 0, 0, 0, 0, 0, 0, 0, 0, 0, 0, 1]])\n",
    "\n",
    "x_0 = jnp.array([ 0.76779029, -0.11431359,  0.26817611,  0.17697289,\n",
    "              0.25895237, -0.00389235,  0.35407486,  0.26704059,\n",
    "              0.25411589,  0.17638295,  0.45930562,  0.25520673,\n",
    "              0.21642574])"
   ]
  },
  {
   "cell_type": "code",
   "execution_count": 3,
   "metadata": {},
   "outputs": [],
   "source": [
    "def _evaluate(x, y, epsilon, coeffs, shift, scale, powers):\n",
    "    p = y.shape[0]\n",
    "\n",
    "    yeps = y*epsilon\n",
    "    xeps = x*epsilon\n",
    "    xhat = (x - shift)/scale\n",
    "\n",
    "    r = jnp.linalg.norm(xeps - yeps, axis=1)\n",
    "    kernel_vec = r**2 * jnp.log(r)\n",
    "    # kernel_vec = jnp.exp(-r**2) # jnp.nan_to_num(kernel_vec, 0)\n",
    "\n",
    "    poly_vec = jnp.prod(xhat ** powers, axis=1)\n",
    "\n",
    "    out = kernel_vec @ coeffs[:p, 0] #+ poly_vec @ coeffs[p:, 0]\n",
    "\n",
    "    return out\n",
    "\n",
    "def _this_plate_f1(x, y, epsilon, coeffs, shift, scale, powers):\n",
    "    p = y.shape[0]\n",
    "    yeps = y*epsilon\n",
    "    xeps = x*epsilon\n",
    "    r = jnp.linalg.norm(xeps - yeps, axis=1)\n",
    "\n",
    "    log_r = jnp.log(r)\n",
    "\n",
    "    tmp = 2 * epsilon * (xeps - yeps).T * log_r + 2 * (xeps - yeps).T\n",
    "\n",
    "    out = tmp @ coeffs[:p, 0]\n",
    "    return out"
   ]
  },
  {
   "cell_type": "code",
   "execution_count": 4,
   "metadata": {},
   "outputs": [],
   "source": [
    "from jax import jit, grad, jacfwd\n",
    "import time"
   ]
  },
  {
   "cell_type": "code",
   "execution_count": 5,
   "metadata": {},
   "outputs": [],
   "source": [
    "rbf_f1 = grad(lambda x: _evaluate(x, y, epsilon, coeffs, shift, scale, powers))\n",
    "rbf_f2 = jacfwd(lambda x: rbf_f1(x))"
   ]
  },
  {
   "cell_type": "code",
   "execution_count": 6,
   "metadata": {},
   "outputs": [
    {
     "name": "stdout",
     "output_type": "stream",
     "text": [
      "H compute 0.9046530723571777\n"
     ]
    }
   ],
   "source": [
    "start_time = time.time() \n",
    "\n",
    "H = rbf_f2(jnp.array(x_0))\n",
    "print(\"H compute\", time.time() - start_time)"
   ]
  },
  {
   "cell_type": "code",
   "execution_count": 7,
   "metadata": {},
   "outputs": [
    {
     "data": {
      "text/plain": [
       "DeviceArray([-0.26693019,  0.10872587, -0.12057052,  0.06947575,\n",
       "              0.04466862, -0.08706928,  0.02365669,  0.02573072,\n",
       "              0.03391662, -0.08426323, -0.08736169, -0.22738158,\n",
       "             -0.11307409], dtype=float64)"
      ]
     },
     "execution_count": 7,
     "metadata": {},
     "output_type": "execute_result"
    }
   ],
   "source": [
    "rbf_f1(x_0)"
   ]
  },
  {
   "cell_type": "code",
   "execution_count": 8,
   "metadata": {},
   "outputs": [],
   "source": [
    "p = y.shape[0]\n",
    "yeps = y*epsilon\n",
    "xeps = x_0*epsilon\n",
    "r = jnp.linalg.norm(xeps - yeps, axis=1)\n",
    "\n",
    "log_r = jnp.log(r)\n",
    "\n",
    "tmp = 2 * epsilon * (xeps - yeps).T * log_r + 2 * (xeps - yeps).T\n",
    "\n",
    "f_t = tmp @ coeffs[:p, 0]\n",
    "\n",
    "\n",
    "\n"
   ]
  },
  {
   "cell_type": "code",
   "execution_count": 9,
   "metadata": {},
   "outputs": [],
   "source": [
    "dim = 13"
   ]
  },
  {
   "cell_type": "code",
   "execution_count": 10,
   "metadata": {},
   "outputs": [
    {
     "data": {
      "text/plain": [
       "DeviceArray([[ 1.87379960e-02, -1.02010381e-01, -4.96525903e-02, ...,\n",
       "               1.25275336e-02,  1.24601867e-02, -8.03676091e-04],\n",
       "             [-1.02010381e-01,  5.55348496e-01,  2.70310639e-01, ...,\n",
       "              -6.82003818e-02, -6.78337424e-02,  4.37524400e-03],\n",
       "             [-4.96525903e-02,  2.70310639e-01,  1.31571152e-01, ...,\n",
       "              -3.31958921e-02, -3.30174339e-02,  2.12960872e-03],\n",
       "             ...,\n",
       "             [ 1.25275336e-02, -6.82003818e-02, -3.31958921e-02, ...,\n",
       "               8.37544732e-03,  8.33042164e-03, -5.37308218e-04],\n",
       "             [ 1.24601867e-02, -6.78337424e-02, -3.30174339e-02, ...,\n",
       "               8.33042164e-03,  8.28563801e-03, -5.34419696e-04],\n",
       "             [-8.03676091e-04,  4.37524400e-03,  2.12960872e-03, ...,\n",
       "              -5.37308218e-04, -5.34419696e-04,  3.44698152e-05]],            dtype=float64)"
      ]
     },
     "execution_count": 10,
     "metadata": {},
     "output_type": "execute_result"
    }
   ],
   "source": [
    "jnp.outer(xeps - yeps, xeps - yeps)"
   ]
  },
  {
   "cell_type": "code",
   "execution_count": 11,
   "metadata": {},
   "outputs": [],
   "source": [
    "def _thin_plate_f2(x, y, epsilon, coeffs, shift, scale, powers):\n",
    "    dim = len(x)\n",
    "    p = y.shape[0]\n",
    "    yeps = y*epsilon\n",
    "    xeps = x*epsilon\n",
    "    r = jnp.linalg.norm(xeps - yeps, axis=1)\n",
    "\n",
    "    log_r = jnp.log(r)\n",
    "\n",
    "    tstart_time = time.time()\n",
    "    start_time = time.time()\n",
    "    a = 2 * epsilon**2 * jnp.eye(dim) * (log_r @ coeffs[:p, 0])\n",
    "    print(\"A\", time.time() - start_time)\n",
    "    start_time = time.time()\n",
    "    # b = 2 * epsilon**2 * (xeps - yeps).T @ jnp.diag(coeffs[:p, 0]/r**2) @ (xeps - yeps)\n",
    "    b = 2 * epsilon**2 * (xeps - yeps).T @ ((coeffs[:p, 0]/r**2).reshape(-1, 1) * (xeps - yeps))\n",
    "\n",
    "    print(\"B\", time.time() - start_time)\n",
    "    start_time = time.time()\n",
    "    c = 2 * epsilon * jnp.eye(dim) * jnp.sum(coeffs[:p, 0])\n",
    "    print(\"C\", time.time() - start_time)\n",
    "\n",
    "    print(\"abc\", time.time() - tstart_time)\n",
    "\n",
    "    return a + b + c"
   ]
  },
  {
   "cell_type": "code",
   "execution_count": 12,
   "metadata": {},
   "outputs": [
    {
     "name": "stdout",
     "output_type": "stream",
     "text": [
      "A 0.04497504234313965\n",
      "B 0.0414431095123291\n",
      "C 0.01421809196472168\n",
      "abc 0.10077190399169922\n",
      "\n"
     ]
    }
   ],
   "source": [
    "_thin_plate_f2(x_0, y, epsilon, coeffs, shift, scale, powers)\n",
    "print()"
   ]
  },
  {
   "cell_type": "code",
   "execution_count": 56,
   "metadata": {},
   "outputs": [
    {
     "data": {
      "text/plain": [
       "DeviceArray(3.67334639e-15, dtype=float64)"
      ]
     },
     "execution_count": 56,
     "metadata": {},
     "output_type": "execute_result"
    }
   ],
   "source": [
    "H_1 = a + b + c\n",
    "jnp.linalg.norm(H_1 - H)"
   ]
  },
  {
   "cell_type": "code",
   "execution_count": 11,
   "metadata": {},
   "outputs": [
    {
     "data": {
      "text/plain": [
       "0.0027828216552734375"
      ]
     },
     "execution_count": 11,
     "metadata": {},
     "output_type": "execute_result"
    }
   ],
   "source": [
    "start_time = time.time() \n",
    "\n",
    "\n",
    "_rbf_f1(x_0, y, epsilon, coeffs, shift, scale, powers)\n",
    "\n",
    "time.time() - start_time"
   ]
  },
  {
   "cell_type": "code",
   "execution_count": 12,
   "metadata": {},
   "outputs": [
    {
     "ename": "NameError",
     "evalue": "name 'r' is not defined",
     "output_type": "error",
     "traceback": [
      "\u001b[0;31m---------------------------------------------------------------------------\u001b[0m",
      "\u001b[0;31mNameError\u001b[0m                                 Traceback (most recent call last)",
      "Input \u001b[0;32mIn [12]\u001b[0m, in \u001b[0;36m<cell line: 1>\u001b[0;34m()\u001b[0m\n\u001b[0;32m----> 1\u001b[0m (\u001b[43mr\u001b[49m \u001b[38;5;241m*\u001b[39m (xeps \u001b[38;5;241m-\u001b[39m yeps)\u001b[38;5;241m.\u001b[39mT)\u001b[38;5;241m.\u001b[39mshape\n",
      "\u001b[0;31mNameError\u001b[0m: name 'r' is not defined"
     ]
    }
   ],
   "source": [
    "(r * (xeps - yeps).T).shape"
   ]
  },
  {
   "cell_type": "code",
   "execution_count": 149,
   "metadata": {},
   "outputs": [],
   "source": [
    "import math\n",
    "def get_S_pow_index_sets(D_diag,):\n",
    "    \"\"\"Returns a set of sets. Each set with the indecies of H to use.\"\"\"\n",
    "    dim = len(D_diag)\n",
    "    binary_dim = (bin(dim)[2:])[::-1]\n",
    "    res = {}\n",
    "    for i in range(len(binary_dim)):\n",
    "        if binary_dim[i] == \"1\":\n",
    "            res[i] = []\n",
    "            \n",
    "    bin_used = sorted(res.keys())\n",
    "    \n",
    "    curr_n = len(bin_used) - 1\n",
    "    upper_n = curr_n + 1\n",
    "    lower_n = 0\n",
    "    \n",
    "    start = 0\n",
    "    end = len(D_diag) // 2 + len(D_diag) % 2 #len(D_diag) - 1\n",
    "    \n",
    "    argsorted_D_diag = jnp.argsort(D_diag)\n",
    "    while end < len(D_diag): #start < end:\n",
    "        while len(res[bin_used[curr_n]]) == 2**bin_used[curr_n]:\n",
    "            curr_n -= 1\n",
    "            curr_n = curr_n % upper_n\n",
    "            \n",
    "        curr_exp = bin_used[curr_n]\n",
    "        if curr_exp == 0:\n",
    "            res[curr_exp].append(int(argsorted_D_diag[start]))\n",
    "            start += 1\n",
    "        else:\n",
    "            res[curr_exp].append(int(argsorted_D_diag[start]))\n",
    "            res[curr_exp].append(int(argsorted_D_diag[end]))\n",
    "            start += 1\n",
    "#             end -= 1\n",
    "            end += 1\n",
    "\n",
    "        curr_n -= 1\n",
    "        curr_n = curr_n % upper_n\n",
    "\n",
    "        \n",
    "\n",
    "    return res"
   ]
  },
  {
   "cell_type": "code",
   "execution_count": 154,
   "metadata": {},
   "outputs": [
    {
     "data": {
      "text/plain": [
       "{0: [1],\n",
       " 6: [0,\n",
       "  33,\n",
       "  2,\n",
       "  34,\n",
       "  3,\n",
       "  35,\n",
       "  4,\n",
       "  36,\n",
       "  5,\n",
       "  37,\n",
       "  6,\n",
       "  38,\n",
       "  7,\n",
       "  39,\n",
       "  8,\n",
       "  40,\n",
       "  9,\n",
       "  41,\n",
       "  10,\n",
       "  42,\n",
       "  11,\n",
       "  43,\n",
       "  12,\n",
       "  44,\n",
       "  13,\n",
       "  45,\n",
       "  14,\n",
       "  46,\n",
       "  15,\n",
       "  47,\n",
       "  16,\n",
       "  48,\n",
       "  17,\n",
       "  49,\n",
       "  18,\n",
       "  50,\n",
       "  19,\n",
       "  51,\n",
       "  20,\n",
       "  52,\n",
       "  21,\n",
       "  53,\n",
       "  22,\n",
       "  54,\n",
       "  23,\n",
       "  55,\n",
       "  24,\n",
       "  56,\n",
       "  25,\n",
       "  57,\n",
       "  26,\n",
       "  58,\n",
       "  27,\n",
       "  59,\n",
       "  28,\n",
       "  60,\n",
       "  29,\n",
       "  61,\n",
       "  30,\n",
       "  62,\n",
       "  31,\n",
       "  63,\n",
       "  32,\n",
       "  64]}"
      ]
     },
     "execution_count": 154,
     "metadata": {},
     "output_type": "execute_result"
    }
   ],
   "source": [
    "D_diag = jnp.linspace(1, 100, 65)\n",
    "\n",
    "get_S_pow_index_sets(D_diag)"
   ]
  },
  {
   "cell_type": "code",
   "execution_count": 142,
   "metadata": {},
   "outputs": [
    {
     "data": {
      "text/plain": [
       "{6: [0,\n",
       "  1,\n",
       "  2,\n",
       "  3,\n",
       "  4,\n",
       "  5,\n",
       "  6,\n",
       "  7,\n",
       "  8,\n",
       "  9,\n",
       "  10,\n",
       "  11,\n",
       "  12,\n",
       "  13,\n",
       "  14,\n",
       "  15,\n",
       "  16,\n",
       "  17,\n",
       "  18,\n",
       "  19,\n",
       "  20,\n",
       "  21,\n",
       "  22,\n",
       "  23,\n",
       "  24,\n",
       "  25,\n",
       "  26,\n",
       "  27,\n",
       "  28,\n",
       "  29,\n",
       "  30,\n",
       "  31,\n",
       "  32,\n",
       "  33,\n",
       "  34,\n",
       "  35,\n",
       "  36,\n",
       "  37,\n",
       "  38,\n",
       "  39,\n",
       "  40,\n",
       "  41,\n",
       "  42,\n",
       "  43,\n",
       "  44,\n",
       "  45,\n",
       "  46,\n",
       "  47,\n",
       "  48,\n",
       "  49,\n",
       "  50,\n",
       "  51,\n",
       "  52,\n",
       "  53,\n",
       "  54,\n",
       "  55,\n",
       "  56,\n",
       "  57,\n",
       "  58,\n",
       "  59,\n",
       "  60,\n",
       "  61,\n",
       "  62]}"
      ]
     },
     "execution_count": 142,
     "metadata": {},
     "output_type": "execute_result"
    }
   ],
   "source": [
    "D_diag = jnp.linspace(1, 100, 64)\n",
    "\n",
    "get_S_pow_index_sets(D_diag)"
   ]
  },
  {
   "cell_type": "code",
   "execution_count": 155,
   "metadata": {},
   "outputs": [
    {
     "data": {
      "text/plain": [
       "0.025"
      ]
     },
     "execution_count": 155,
     "metadata": {},
     "output_type": "execute_result"
    }
   ],
   "source": [
    "2.5e-2"
   ]
  },
  {
   "cell_type": "code",
   "execution_count": null,
   "metadata": {},
   "outputs": [],
   "source": []
  },
  {
   "cell_type": "code",
   "execution_count": 158,
   "metadata": {},
   "outputs": [],
   "source": [
    "from Functions import HeartDisease, load_cutest_quadratic, generate_quadratic\n",
    "from FD import FD\n"
   ]
  },
  {
   "cell_type": "code",
   "execution_count": 160,
   "metadata": {},
   "outputs": [],
   "source": [
    "sig = 0\n",
    "step_size = 1e-4\n",
    "noise_type=\"uniform\"\n",
    "h = 1\n",
    "smoothing = 10\n",
    "\n",
    "num_total_steps = 200\n",
    "grad_eps = 1e-4\n",
    "\n",
    "verbose = False\n",
    "\n",
    "dim = 16\n",
    "\n",
    "# test_problem_iter = [\"{}_{}_{}_{}_{}\".format(dim, \"lin\", 0.001, 1000, 0)]\n",
    "test_problem_iter = [\"{}_{}_{}_{}_{}\".format(dim, \"log\", 2, 2, 0)]\n",
    "\n",
    "F_no_noise, x_0 = generate_quadratic(test_problem_iter[0], 0, noise_type)\n",
    "F, x_0 = generate_quadratic(test_problem_iter[0], sig, noise_type)\n",
    "\n",
    "jrandom_key = jrandom.PRNGKey(1)\n",
    "\n",
    "grad_getter = FD(sig, is_central=False, h=h, use_H=False) \n"
   ]
  },
  {
   "cell_type": "code",
   "execution_count": 165,
   "metadata": {},
   "outputs": [
    {
     "data": {
      "text/plain": [
       "DeviceArray([150.14646465, 150.79576858, 149.21819203, 149.31974494,\n",
       "             151.42380027, 148.20385898, 150.89208807, 150.98415739,\n",
       "             151.24926378, 148.791178  , 151.06698209, 150.96712649,\n",
       "             150.73876377, 149.58206378, 149.46096861, 149.75336448],            dtype=float64)"
      ]
     },
     "execution_count": 165,
     "metadata": {},
     "output_type": "execute_result"
    }
   ],
   "source": [
    "grad_getter.grad(F, x_0, jrandom_key)[0]"
   ]
  },
  {
   "cell_type": "code",
   "execution_count": 166,
   "metadata": {},
   "outputs": [
    {
     "data": {
      "text/plain": [
       "DeviceArray([50.14646465, 50.79576858, 49.21819203, 49.31974494,\n",
       "             51.42380027, 48.20385898, 50.89208807, 50.98415739,\n",
       "             51.24926378, 48.791178  , 51.06698209, 50.96712649,\n",
       "             50.73876377, 49.58206378, 49.46096861, 49.75336448],            dtype=float64)"
      ]
     },
     "execution_count": 166,
     "metadata": {},
     "output_type": "execute_result"
    }
   ],
   "source": [
    "F.f1(x_0)"
   ]
  },
  {
   "cell_type": "code",
   "execution_count": null,
   "metadata": {},
   "outputs": [],
   "source": [
    "xs = jnp.array([[ 0.70710678,  0.70710678],\n",
    "             [ 0.70710678,  0.70710678],\n",
    "             [ 0.68297125,  0.68288537],\n",
    "             [ 0.65931843,  0.65914838],\n",
    "             [ 0.63613867,  0.63588614],\n",
    "             [ 0.61342251,  0.61308914],\n",
    "             [ 0.59116066,  0.59074807],\n",
    "             [ 0.56934406,  0.56885383],\n",
    "             [ 0.54796378,  0.54739748],\n",
    "             [ 0.52701112,  0.52637025],\n",
    "             [ 0.5064775 ,  0.50576357],\n",
    "             [ 0.48635456,  0.48556902],\n",
    "             [ 0.46663407,  0.46577836],\n",
    "             [ 0.447308  ,  0.44638352],\n",
    "             [ 0.42836845,  0.42737657],\n",
    "             [ 0.40980769,  0.40874976],\n",
    "             [ 0.39161814,  0.39049548],\n",
    "             [ 0.37379238,  0.3726063 ],\n",
    "             [ 0.35632314,  0.35507489],\n",
    "             [ 0.33920329,  0.33789412],\n",
    "             [ 0.32242583,  0.32105696],\n",
    "             [ 0.30598392,  0.30455654],\n",
    "             [ 0.28987085,  0.28838613],\n",
    "             [ 0.27408004,  0.27253913],\n",
    "             [ 0.25860505,  0.25700907],\n",
    "             [ 0.24343955,  0.24178961],\n",
    "             [ 0.22857737,  0.22687454],\n",
    "             [ 0.21401243,  0.21225777],\n",
    "             [ 0.19973879,  0.19793334],\n",
    "             [ 0.18575062,  0.18389539],\n",
    "             [ 0.17204221,  0.1701382 ],\n",
    "             [ 0.15860798,  0.15665616],\n",
    "             [ 0.14544242,  0.14344376],\n",
    "             [ 0.13254018,  0.13049561],\n",
    "             [ 0.11989599,  0.11780642],\n",
    "             [ 0.10750467,  0.10537101],\n",
    "             [ 0.09536119,  0.09318431],\n",
    "             [ 0.08346057,  0.08124135],\n",
    "             [ 0.07179797,  0.06953724],\n",
    "             [ 0.06036861,  0.05806722],\n",
    "             [ 0.04916785,  0.0468266 ],\n",
    "             [ 0.0381911 ,  0.03581079],\n",
    "             [ 0.02743388,  0.02501529],\n",
    "             [ 0.01689181,  0.01443571],\n",
    "             [ 0.00656059,  0.00406772],\n",
    "             [-0.00356402, -0.00609292],\n",
    "             [-0.01348613, -0.01605034],\n",
    "             [-0.0232098 , -0.02580861],\n",
    "             [-0.032739  , -0.03537171],\n",
    "             [-0.04207761, -0.04474356],\n",
    "             [-0.05122945, -0.05392796],\n",
    "             [-0.06019826, -0.06292868],\n",
    "             [-0.06898768, -0.07174939],\n",
    "             [-0.07760132, -0.08039368],\n",
    "             [-0.08604269, -0.08886508],\n",
    "             [-0.09431523, -0.09716706],\n",
    "             [-0.10242232, -0.105303  ],\n",
    "             [-0.11036726, -0.11327621],\n",
    "             [-0.11815331, -0.12108997],\n",
    "             [-0.12578364, -0.12874745],\n",
    "             [-0.13326136, -0.13625178],\n",
    "             [-0.14058952, -0.14360602],\n",
    "             [-0.14777112, -0.15081318],\n",
    "             [-0.15480909, -0.15787619],\n",
    "             [-0.16170631, -0.16479795],\n",
    "             [-0.16846557, -0.17158127],\n",
    "             [-0.17508965, -0.17822892],\n",
    "             [-0.18158125, -0.18474362],\n",
    "             [-0.18794302, -0.19112802],\n",
    "             [-0.19417755, -0.19738474],\n",
    "             [-0.20028739, -0.20351633],\n",
    "             [-0.20627504, -0.20952528],\n",
    "             [-0.21214293, -0.21541405],\n",
    "             [-0.21789347, -0.22118505],\n",
    "             [-0.22352899, -0.22684062],\n",
    "             [-0.2290518 , -0.23238309],\n",
    "             [-0.23446416, -0.23781471],\n",
    "             [-0.23976827, -0.24313769],\n",
    "             [-0.2449663 , -0.24835421],\n",
    "             [-0.25006036, -0.25346641],\n",
    "             [-0.25505255, -0.25847636],\n",
    "             [-0.25994489, -0.26338611],\n",
    "             [-0.26473938, -0.26819767],\n",
    "             [-0.26943799, -0.27291299],\n",
    "             [-0.27404262, -0.27753401],\n",
    "             [-0.27855516, -0.28206261],\n",
    "             [-0.28297745, -0.28650063],\n",
    "             [-0.2873113 , -0.2908499 ],\n",
    "             [-0.29155846, -0.29511218],\n",
    "             [-0.29572069, -0.29928921],\n",
    "             [-0.29979967, -0.30338271],\n",
    "             [-0.30379707, -0.30739433],\n",
    "             [-0.30771452, -0.31132572],\n",
    "             [-0.31155362, -0.31517849],\n",
    "             [-0.31531594, -0.31895419],\n",
    "             [-0.31900301, -0.32265439],\n",
    "             [-0.32261635, -0.32628058],\n",
    "             [-0.32615741, -0.32983425],\n",
    "             [-0.32962766, -0.33331684],\n",
    "             [-0.3330285 , -0.33672978],\n",
    "             [-0.33636132, -0.34007446]])"
   ]
  }
 ],
 "metadata": {
  "kernelspec": {
   "display_name": "Python (simplex_grad)",
   "language": "python",
   "name": "simplex_grad"
  },
  "language_info": {
   "codemirror_mode": {
    "name": "ipython",
    "version": 3
   },
   "file_extension": ".py",
   "mimetype": "text/x-python",
   "name": "python",
   "nbconvert_exporter": "python",
   "pygments_lexer": "ipython3",
   "version": "3.10.0"
  }
 },
 "nbformat": 4,
 "nbformat_minor": 2
}
