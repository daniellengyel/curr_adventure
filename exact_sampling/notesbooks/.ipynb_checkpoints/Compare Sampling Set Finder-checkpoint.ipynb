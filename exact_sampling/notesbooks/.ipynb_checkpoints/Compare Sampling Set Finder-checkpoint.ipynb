{
 "cells": [
  {
   "cell_type": "code",
   "execution_count": 5,
   "metadata": {},
   "outputs": [],
   "source": [
    "import jax.numpy as jnp\n",
    "import jax.random as jrandom\n",
    "\n",
    "import matplotlib.pyplot as plt\n",
    "import pandas as pd\n",
    "from jax import jit, grad, jacfwd, jacrev\n",
    "\n",
    "import pycutest\n",
    "\n",
    "import scipy \n",
    "\n",
    "from scipy.stats import linregress\n",
    "\n",
    "from tqdm import tqdm\n",
    "import pickle\n",
    "\n",
    "import numpy as np\n",
    "\n",
    "from tqdm import tqdm\n",
    "\n",
    "from jax.config import config\n",
    "config.update(\"jax_enable_x64\", True)\n",
    "\n",
    "import matplotlib.pyplot as plt\n",
    "\n",
    "%matplotlib inline\n",
    "plt.rcParams['figure.figsize'] = [12,12]\n",
    "plt.style.use('ggplot')\n",
    "plt.rcParams['lines.markersize'] = 8\n",
    "plt.rcParams.update({'font.size': 12})\n",
    "\n",
    "%load_ext autoreload\n",
    "%autoreload 2\n",
    "\n",
    "import time"
   ]
  },
  {
   "cell_type": "code",
   "execution_count": 6,
   "metadata": {},
   "outputs": [],
   "source": [
    "import sys\n",
    "sys.path.append(\"..\")\n",
    "from Functions import PyCutestWrapper\n",
    "from USimplex import USD\n",
    "# from optimize_USG_error import create_S\n",
    "sys.path.append(\"../OptimalSetComps\")\n",
    "from custom import create_S\n",
    "from AdaptiveFD import adapt_FD\n",
    "from optimize_USG_error import get_lambda_star, loss_getter, get_alpha, get_V_star, get_lambda_tilde\n",
    "from create_W import optimize_W, convert_to_U, generate_regular_simplex"
   ]
  },
  {
   "cell_type": "code",
   "execution_count": 946,
   "metadata": {},
   "outputs": [],
   "source": [
    "\n",
    "\n",
    "def helper_linesearch(f, g, c1, c2):\n",
    "\n",
    "    def helper(X, search_direction):\n",
    "        f0 = f(X)\n",
    "        f1 = g(X)\n",
    "        dg = jnp.inner(search_direction, f1)\n",
    "\n",
    "        def armijo_rule(alpha):\n",
    "            return f(X + alpha * search_direction) > f0 + c1*alpha*dg\n",
    "        \n",
    "        def armijo_update(alpha):\n",
    "            return c2*alpha\n",
    "            \n",
    "        alpha = 1\n",
    "        while armijo_rule(alpha):\n",
    "            alpha = armijo_update(alpha)\n",
    "\n",
    "\n",
    "        return alpha\n",
    "\n",
    "    return helper\n",
    "\n",
    "\n",
    "def loss_getter(dim, N, H, sig, coeff):\n",
    "    def helper(X):\n",
    "\n",
    "        S = X.reshape(N, dim).T\n",
    "        \n",
    "        S_inv = jnp.linalg.inv(S)\n",
    "        \n",
    "        first_term = S_inv.T @ jnp.diag(S.T @ H @ S)\n",
    "        second_term = jnp.linalg.norm(S_inv, ord=\"fro\")**2\n",
    "        third_term = S_inv.T @ jnp.ones(dim)\n",
    "        third_term = jnp.linalg.norm(third_term)**2\n",
    "        return 1/2 * jnp.linalg.norm(first_term)**2 + sig**2 * (second_term + third_term) + coeff*jnp.linalg.norm(S)**4\n",
    "\n",
    "    return helper\n",
    "\n",
    "def optimize_uncentered_S(H, sig, coeff, max_steps=15, jrandom_key=None, x_curr=None):\n",
    "    \n",
    "    dim = H.shape[0]\n",
    "    N = dim\n",
    "    \n",
    "    H = (H + H.T) / 2. # to combat numerical inaccuracies. \n",
    "    D, U = jnp.linalg.eig(H)\n",
    "    U = jnp.real(U)\n",
    "\n",
    "    # print(\"D\", repr(jnp.real(D)))\n",
    "#     D = jnp.abs(jnp.real(jnp.diag(D)))\n",
    "    D = jnp.diag(D)\n",
    "\n",
    "    if x_curr is None:\n",
    "\n",
    "        if jrandom_key is None:\n",
    "            x_curr = jnp.diag(jnp.sqrt(sig / jnp.abs(jnp.diag(D)))).flatten()\n",
    "            pass\n",
    "        else:\n",
    "            x_curr = jrandom.normal(jrandom_key, shape=(dim * dim,)) * 0.1\n",
    "        \n",
    "\n",
    "    \n",
    "    l = loss_getter(dim, N, D, sig, coeff)\n",
    "    g_l = grad(l)\n",
    "    h_l = jacfwd(g_l)\n",
    "    linesearch = helper_linesearch(l, g_l, c1=0.1, c2=0.9)\n",
    "\n",
    "    eps = 1e-20\n",
    "\n",
    "    res = []\n",
    "    res_x = []\n",
    "\n",
    "    for t in tqdm(range(max_steps)):\n",
    "\n",
    "        \n",
    "        res.append(l(x_curr))\n",
    "#         res_x.append(U.dot(x_curr.reshape(N, dim).T)) # TURN ON FOR HISTORY \n",
    "\n",
    "        curr_grad = g_l(x_curr)\n",
    "#         print(curr_grad)\n",
    "    \n",
    "        # print(curr_grad)\n",
    "        curr_hess = h_l(x_curr) #+ .1*jnp.eye(dim**2)\n",
    "        search_direction = -jnp.linalg.inv(curr_hess) @ curr_grad #+ np.random.normal(size=(dim**2))*0.1\n",
    "#         search_direction = -curr_grad + np.random.normal(size=(dim * dim))*0.1\n",
    "\n",
    "        if jnp.linalg.norm(curr_grad) < eps:\n",
    "            break    \n",
    "\n",
    "        alpha = linesearch(x_curr, search_direction)\n",
    "\n",
    "\n",
    "        S = x_curr.reshape(N, dim).T\n",
    "\n",
    "        SS = S.dot(S.T)\n",
    "\n",
    "        x_curr += alpha*search_direction \n",
    "    \n",
    "    return U.dot(x_curr.reshape(N, dim).T), res"
   ]
  },
  {
   "cell_type": "code",
   "execution_count": 984,
   "metadata": {},
   "outputs": [],
   "source": [
    "jrandom_key = jrandom.PRNGKey(0)\n",
    "\n",
    "dim = 4\n",
    "# D = jnp.diag(jnp.array([1, 1, 1, 1, 100, 100]))\n",
    "# D = jnp.diag(jrandom.normal(jrandom_key, shape=(dim,)))*100\n",
    "# D = jnp.diag(jnp.real(jnp.array([ 6.96867074e+03+0.j, -5.65090364e+03+0.j,\n",
    "#               3.30117392e+01+0.j,  8.67518225e+00+0.j,\n",
    "#              -3.02376833e+00+0.j])))\n",
    "\n",
    "D = jnp.diag(jnp.array([1e6, 1e3, -1, -100]))\n",
    "sig = 0.1\n",
    "coeff = 0.1\n",
    "\n",
    "l = loss_getter(dim, dim, D, sig, coeff)\n",
    "\n"
   ]
  },
  {
   "cell_type": "code",
   "execution_count": 985,
   "metadata": {},
   "outputs": [
    {
     "name": "stdout",
     "output_type": "stream",
     "text": [
      "118646.37972856469\n"
     ]
    },
    {
     "data": {
      "text/plain": [
       "DeviceArray(19.99631933, dtype=float64)"
      ]
     },
     "execution_count": 985,
     "metadata": {},
     "output_type": "execute_result"
    }
   ],
   "source": [
    "S, _ = create_S(D, sig, num_iter=50, x_init=None, coeff=coeff)\n",
    "l(S.T.flatten())"
   ]
  },
  {
   "cell_type": "code",
   "execution_count": 987,
   "metadata": {},
   "outputs": [
    {
     "data": {
      "text/plain": [
       "DeviceArray([-2.34537929,  0.00630642, -0.01190244, -0.05425252,\n",
       "             -2.34537927, -0.00630642,  0.01190244, -0.05425252,\n",
       "              2.34538028, -0.00630643, -0.01190244, -0.05425253,\n",
       "              2.34538032,  0.00630643,  0.01190244, -0.05425253],            dtype=float64)"
      ]
     },
     "execution_count": 987,
     "metadata": {},
     "output_type": "execute_result"
    }
   ],
   "source": [
    "grad(l)(S.T.flatten())"
   ]
  },
  {
   "cell_type": "code",
   "execution_count": 988,
   "metadata": {},
   "outputs": [
    {
     "data": {
      "text/plain": [
       "DeviceArray([[-0.01397491, -0.01397491,  0.01397491,  0.01397491],\n",
       "             [ 0.07670271, -0.07670271, -0.07670271,  0.07670271],\n",
       "             [-0.14124202,  0.14124202, -0.14124202,  0.14124202],\n",
       "             [ 1.41784695,  1.41784695,  1.41784695,  1.41784695]],            dtype=float64)"
      ]
     },
     "execution_count": 988,
     "metadata": {},
     "output_type": "execute_result"
    }
   ],
   "source": [
    "S"
   ]
  },
  {
   "cell_type": "code",
   "execution_count": 954,
   "metadata": {},
   "outputs": [
    {
     "name": "stderr",
     "output_type": "stream",
     "text": [
      "100%|██████████████████████████████████████████████████████████████████████| 50/50 [00:04<00:00, 11.28it/s]\n"
     ]
    }
   ],
   "source": [
    "# jrandom_key, subkey = jrandom.split(jrandom_key)\n",
    "opt_S, l_hist = optimize_uncentered_S(D, sig=sig, coeff=coeff, max_steps=50, jrandom_key=subkey, x_curr=opt_S.T.flatten())\n",
    "\n"
   ]
  },
  {
   "cell_type": "code",
   "execution_count": 955,
   "metadata": {},
   "outputs": [
    {
     "data": {
      "text/plain": [
       "DeviceArray([-1.49832369e-11, -2.77555756e-17, -2.44387843e-14,\n",
       "              4.73175665e-12, -1.57815983e-11,  2.77555756e-17,\n",
       "             -2.62012634e-14, -4.98390218e-12, -1.09932063e-11,\n",
       "              1.52655666e-16,  1.78468351e-14, -3.47152862e-12,\n",
       "             -1.01931796e-11, -2.77555756e-17,  1.68892678e-14,\n",
       "              3.21911942e-12], dtype=float64)"
      ]
     },
     "execution_count": 955,
     "metadata": {},
     "output_type": "execute_result"
    }
   ],
   "source": [
    "grad(l)(opt_S.T.flatten())"
   ]
  },
  {
   "cell_type": "code",
   "execution_count": 956,
   "metadata": {},
   "outputs": [
    {
     "data": {
      "image/png": "[encoded data removed]",
      "text/plain": [
       "<Figure size 864x864 with 1 Axes>"
      ]
     },
     "metadata": {},
     "output_type": "display_data"
    }
   ],
   "source": [
    "plt.plot(l_hist)\n",
    "plt.show()"
   ]
  },
  {
   "cell_type": "code",
   "execution_count": 980,
   "metadata": {},
   "outputs": [
    {
     "data": {
      "text/plain": [
       "DeviceArray([0.86295372, 0.45027237, 0.44956028, 0.27326958], dtype=float64)"
      ]
     },
     "execution_count": 980,
     "metadata": {},
     "output_type": "execute_result"
    }
   ],
   "source": [
    "get_lambda_tilde(jnp.diag(D)[::-1], sig, coeff, get_lambda_star(dim, sig, coeff))**0.5"
   ]
  },
  {
   "cell_type": "code",
   "execution_count": 641,
   "metadata": {},
   "outputs": [],
   "source": [
    "diag_D = jnp.diag(D)\n",
    "lmbda_star = get_lambda_star(dim, sig, coeff)\n",
    "alpha = get_alpha(diag_D, lmbda_star[0], lmbda_star[1])"
   ]
  },
  {
   "cell_type": "code",
   "execution_count": 642,
   "metadata": {},
   "outputs": [
    {
     "data": {
      "text/plain": [
       "DeviceArray(-0.57027843, dtype=float64)"
      ]
     },
     "execution_count": 642,
     "metadata": {},
     "output_type": "execute_result"
    }
   ],
   "source": [
    "alpha"
   ]
  },
  {
   "cell_type": "code",
   "execution_count": 648,
   "metadata": {},
   "outputs": [
    {
     "data": {
      "text/plain": [
       "(DeviceArray([[ 2.16453976e-04, -6.39557851e-14,  7.10542736e-14,\n",
       "               -9.99999977e-01],\n",
       "              [-8.52928839e-14,  1.00000000e+00,  2.93033842e-05,\n",
       "               -6.40251741e-14],\n",
       "              [ 9.99999977e-01,  8.50500226e-14,  7.16093851e-15,\n",
       "                2.16453976e-04],\n",
       "              [-6.93889390e-15, -2.93033842e-05,  1.00000000e+00,\n",
       "                7.11652959e-14]], dtype=float64),\n",
       " DeviceArray([0.86305662, 0.45024989, 0.44953728, 0.27330198], dtype=float64),\n",
       " DeviceArray([[ 0.50014731,  0.49985264,  0.49985264,  0.50014731],\n",
       "              [-0.05535831, -0.70493649,  0.70493649,  0.05535831],\n",
       "              [ 0.70493649, -0.05535831,  0.05535831, -0.70493649],\n",
       "              [ 0.49985264, -0.50014731, -0.50014731,  0.49985264]],            dtype=float64))"
      ]
     },
     "execution_count": 648,
     "metadata": {},
     "output_type": "execute_result"
    }
   ],
   "source": [
    "jnp.linalg.svd(opt_S)"
   ]
  },
  {
   "cell_type": "code",
   "execution_count": 640,
   "metadata": {},
   "outputs": [
    {
     "data": {
      "text/plain": [
       "(DeviceArray([[ 2.16453976e-04, -6.39557851e-14,  7.10542736e-14,\n",
       "               -9.99999977e-01],\n",
       "              [-8.52928839e-14,  1.00000000e+00,  2.93033842e-05,\n",
       "               -6.40251741e-14],\n",
       "              [ 9.99999977e-01,  8.50500226e-14,  7.16093851e-15,\n",
       "                2.16453976e-04],\n",
       "              [-6.93889390e-15, -2.93033842e-05,  1.00000000e+00,\n",
       "                7.11652959e-14]], dtype=float64),\n",
       " DeviceArray([0.86305662, 0.45024989, 0.44953728, 0.27330198], dtype=float64),\n",
       " DeviceArray([[ 0.50014731,  0.49985264,  0.49985264,  0.50014731],\n",
       "              [-0.05535831, -0.70493649,  0.70493649,  0.05535831],\n",
       "              [ 0.70493649, -0.05535831,  0.05535831, -0.70493649],\n",
       "              [ 0.49985264, -0.50014731, -0.50014731,  0.49985264]],            dtype=float64))"
      ]
     },
     "execution_count": 640,
     "metadata": {},
     "output_type": "execute_result"
    }
   ],
   "source": [
    "jnp.linalg.svd(opt_S)"
   ]
  },
  {
   "cell_type": "code",
   "execution_count": 672,
   "metadata": {},
   "outputs": [
    {
     "data": {
      "text/plain": [
       "DeviceArray(1053.32800332, dtype=float64)"
      ]
     },
     "execution_count": 672,
     "metadata": {},
     "output_type": "execute_result"
    }
   ],
   "source": [
    "def loss_getter(dim, N, H, sig, coeff):\n",
    "    def helper(X):\n",
    "\n",
    "        S = X.reshape(N, dim).T\n",
    "        \n",
    "        S_inv = jnp.linalg.inv(S)\n",
    "        \n",
    "        first_term = S_inv.T @ jnp.diag(S.T @ H @ S)\n",
    "        second_term = jnp.linalg.norm(S_inv, ord=\"fro\")**2\n",
    "        third_term = S_inv.T @ jnp.ones(dim)\n",
    "        third_term = jnp.linalg.norm(third_term)**2\n",
    "        return 1/2 * jnp.linalg.norm(first_term)**2 + sig**2 * (second_term + third_term) + coeff*jnp.linalg.norm(S)**4\n",
    "\n",
    "    return helper\n",
    "\n",
    "l = loss_getter(dim, dim, D, sig, coeff)\n",
    "l(S.T.flatten())"
   ]
  },
  {
   "cell_type": "code",
   "execution_count": 691,
   "metadata": {},
   "outputs": [
    {
     "data": {
      "text/plain": [
       "DeviceArray(113.24176376, dtype=float64)"
      ]
     },
     "execution_count": 691,
     "metadata": {},
     "output_type": "execute_result"
    }
   ],
   "source": [
    "\n",
    "lmbda_star = get_lambda_star(dim, sig, coeff)\n",
    "a = jnp.diag(D) @ lmbda_star / len(lmbda_star)\n",
    "a"
   ]
  },
  {
   "cell_type": "code",
   "execution_count": 981,
   "metadata": {},
   "outputs": [
    {
     "data": {
      "text/plain": [
       "DeviceArray(0.44972964, dtype=float64)"
      ]
     },
     "execution_count": 981,
     "metadata": {},
     "output_type": "execute_result"
    }
   ],
   "source": [
    "def lmbda_loss(lmbdas, dim, D, sig, coeff):\n",
    "    a = D @ lmbdas / len(lmbdas)\n",
    "    b = jnp.sum(lmbdas)\n",
    "    return 1/2 * a**2 * dim / lmbdas[0] + sig**2 * dim/lmbdas[0] + sig**2 * jnp.sum(1/lmbdas) + coeff*b**2\n",
    "\n",
    "\n",
    "lmbda_tilde = get_lambda_tilde(jnp.diag(D)[::-1], sig, coeff, get_lambda_star(dim, sig, coeff))\n",
    "\n",
    "lmbda_loss(lmbda_tilde, dim, jnp.diag(D)[::-1], sig, coeff)"
   ]
  },
  {
   "cell_type": "code",
   "execution_count": 674,
   "metadata": {},
   "outputs": [
    {
     "data": {
      "text/plain": [
       "DeviceArray(0.00152031, dtype=float64)"
      ]
     },
     "execution_count": 674,
     "metadata": {},
     "output_type": "execute_result"
    }
   ],
   "source": [
    "jnp.diag(D) @ jnp.array([0.3440479 , 0.4172701 , 0.41829161, 1.0871636 ])**2"
   ]
  },
  {
   "cell_type": "code",
   "execution_count": 657,
   "metadata": {},
   "outputs": [
    {
     "data": {
      "text/plain": [
       "DeviceArray(0.81750222, dtype=float64)"
      ]
     },
     "execution_count": 657,
     "metadata": {},
     "output_type": "execute_result"
    }
   ],
   "source": [
    "lmbda_loss(jnp.array([0.34404701, 0.41828919, 1.08716077, 0.41726774])**2, dim, diag_D, sig, coeff)"
   ]
  },
  {
   "cell_type": "code",
   "execution_count": 659,
   "metadata": {},
   "outputs": [
    {
     "data": {
      "text/plain": [
       "DeviceArray([0.11836835, 0.17496585, 1.18191854, 0.17411237], dtype=float64)"
      ]
     },
     "execution_count": 659,
     "metadata": {},
     "output_type": "execute_result"
    }
   ],
   "source": [
    "jnp.array([0.34404701, 0.41828919, 1.08716077, 0.41726774])**2"
   ]
  },
  {
   "cell_type": "code",
   "execution_count": 658,
   "metadata": {},
   "outputs": [
    {
     "data": {
      "text/plain": [
       "(DeviceArray([[ 1.11022302e-16, -2.77555756e-16, -2.72004641e-15,\n",
       "               -1.00000000e+00],\n",
       "              [-2.77555756e-17, -1.00000000e+00,  9.45910017e-14,\n",
       "                5.55111512e-17],\n",
       "              [ 1.00000000e+00,  2.22044605e-16, -5.55111512e-17,\n",
       "                1.11022302e-16],\n",
       "              [ 1.11022302e-16, -9.47020240e-14, -1.00000000e+00,\n",
       "                2.83106871e-15]], dtype=float64),\n",
       " DeviceArray([1.08716222, 0.41827874, 0.41729139, 0.34404746], dtype=float64),\n",
       " DeviceArray([[ 0.5,  0.5,  0.5,  0.5],\n",
       "              [-0.5,  0.5,  0.5, -0.5],\n",
       "              [ 0.5,  0.5, -0.5, -0.5],\n",
       "              [ 0.5, -0.5,  0.5, -0.5]], dtype=float64))"
      ]
     },
     "execution_count": 658,
     "metadata": {},
     "output_type": "execute_result"
    }
   ],
   "source": [
    "jnp.linalg.svd(S)"
   ]
  },
  {
   "cell_type": "code",
   "execution_count": 649,
   "metadata": {},
   "outputs": [
    {
     "data": {
      "text/plain": [
       "DeviceArray([[ 1.15253062e-03, -3.73030360e+01, -3.72872196e+01,\n",
       "               2.39412329e-03],\n",
       "             [-3.73030360e+01,  1.15230361e-03,  2.02635670e-01,\n",
       "              -3.72872196e+01],\n",
       "             [-3.72872196e+01,  2.02635670e-01,  1.15230361e-03,\n",
       "              -3.73030360e+01],\n",
       "             [ 2.39412329e-03, -3.72872196e+01, -3.73030360e+01,\n",
       "               1.15253062e-03]], dtype=float64)"
      ]
     },
     "execution_count": 649,
     "metadata": {},
     "output_type": "execute_result"
    }
   ],
   "source": [
    "opt_S.T @ D @ opt_S"
   ]
  },
  {
   "cell_type": "code",
   "execution_count": 556,
   "metadata": {},
   "outputs": [
    {
     "data": {
      "text/plain": [
       "DeviceArray([[ 0.00000000e+00,  3.00509826e-01, -6.84021095e-17,\n",
       "              -9.53778719e-01],\n",
       "             [-1.11022302e-16, -9.53778719e-01, -1.13972967e-16,\n",
       "              -3.00509826e-01],\n",
       "             [ 1.00000000e+00, -1.11022302e-16,  1.03263746e-17,\n",
       "               0.00000000e+00],\n",
       "             [-1.03263746e-17, -8.81494840e-17,  1.00000000e+00,\n",
       "              -9.94904728e-17]], dtype=float64)"
      ]
     },
     "execution_count": 556,
     "metadata": {},
     "output_type": "execute_result"
    }
   ],
   "source": [
    "V"
   ]
  },
  {
   "cell_type": "code",
   "execution_count": 395,
   "metadata": {},
   "outputs": [
    {
     "data": {
      "text/plain": [
       "DeviceArray([[-7.62401380e+01, -1.37043965e-15, -1.24990960e+01],\n",
       "             [-1.37043965e-15, -2.16431907e-01,  5.13117330e-14],\n",
       "             [-1.24990960e+01,  5.13117330e-14,  7.64600126e+01]],            dtype=float64)"
      ]
     },
     "execution_count": 395,
     "metadata": {},
     "output_type": "execute_result"
    }
   ],
   "source": [
    " jnp.diag(sing_vals) @ V.T @ D @ V @ jnp.diag(sing_vals)"
   ]
  },
  {
   "cell_type": "code",
   "execution_count": 387,
   "metadata": {},
   "outputs": [
    {
     "data": {
      "text/plain": [
       "DeviceArray([ 1.70813363e-11,  5.13734835e-18, -5.40159584e-12,\n",
       "              8.14481815e-12,  1.80411242e-14,  2.56936139e-12,\n",
       "              8.14470713e-12, -1.80411242e-14,  2.56934751e-12],            dtype=float64)"
      ]
     },
     "execution_count": 387,
     "metadata": {},
     "output_type": "execute_result"
    }
   ],
   "source": [
    "grad(l)(opt_S.T.flatten())"
   ]
  },
  {
   "cell_type": "code",
   "execution_count": null,
   "metadata": {},
   "outputs": [],
   "source": []
  },
  {
   "cell_type": "code",
   "execution_count": 957,
   "metadata": {},
   "outputs": [
    {
     "data": {
      "text/plain": [
       "DeviceArray(0.44972962, dtype=float64)"
      ]
     },
     "execution_count": 957,
     "metadata": {},
     "output_type": "execute_result"
    }
   ],
   "source": [
    "l(opt_S.T.flatten())"
   ]
  },
  {
   "cell_type": "code",
   "execution_count": 958,
   "metadata": {},
   "outputs": [
    {
     "data": {
      "text/plain": [
       "(DeviceArray([[-1.77635684e-15, -2.22044605e-16,  4.44089210e-16,\n",
       "               -1.00000000e+00],\n",
       "              [-4.44089210e-16, -3.72202269e-14,  1.00000000e+00,\n",
       "                3.33066907e-16],\n",
       "              [ 3.88578059e-16, -1.00000000e+00, -3.70259379e-14,\n",
       "                3.88578059e-16],\n",
       "              [-1.00000000e+00, -5.55111512e-16, -1.66533454e-16,\n",
       "                1.77635684e-15]], dtype=float64),\n",
       " DeviceArray([0.86305631, 0.45024915, 0.44953611, 0.27330195], dtype=float64),\n",
       " DeviceArray([[-0.5, -0.5, -0.5, -0.5],\n",
       "              [ 0.5, -0.5,  0.5, -0.5],\n",
       "              [-0.5, -0.5,  0.5,  0.5],\n",
       "              [-0.5,  0.5,  0.5, -0.5]], dtype=float64))"
      ]
     },
     "execution_count": 958,
     "metadata": {},
     "output_type": "execute_result"
    }
   ],
   "source": [
    "jnp.linalg.svd(opt_S)"
   ]
  },
  {
   "cell_type": "code",
   "execution_count": 965,
   "metadata": {},
   "outputs": [
    {
     "name": "stdout",
     "output_type": "stream",
     "text": [
      "1.2602328261483324e-11\n",
      "1.2602328261483324e-11\n"
     ]
    },
    {
     "data": {
      "text/plain": [
       "DeviceArray(9.39468455e+08, dtype=float64)"
      ]
     },
     "execution_count": 965,
     "metadata": {},
     "output_type": "execute_result"
    }
   ],
   "source": [
    "S, _ = create_S(D, sig, num_iter=50, x_init=None, coeff=coeff)\n",
    "l(S.T.flatten())"
   ]
  },
  {
   "cell_type": "code",
   "execution_count": 967,
   "metadata": {},
   "outputs": [
    {
     "data": {
      "text/plain": [
       "DeviceArray([[-0.13665095, -0.13665095,  0.13665095,  0.13665095],\n",
       "             [ 0.22476864, -0.22476864, -0.22476864,  0.22476864],\n",
       "             [-0.22512494,  0.22512494, -0.22512494,  0.22512494],\n",
       "             [ 0.43152831,  0.43152831,  0.43152831,  0.43152831]],            dtype=float64)"
      ]
     },
     "execution_count": 967,
     "metadata": {},
     "output_type": "execute_result"
    }
   ],
   "source": [
    "S"
   ]
  },
  {
   "cell_type": "code",
   "execution_count": 966,
   "metadata": {},
   "outputs": [
    {
     "data": {
      "text/plain": [
       "DeviceArray([-6.86324443e+09,  1.12889235e+07,  1.13068181e+04,\n",
       "             -1.09070363e+09, -6.86324443e+09, -1.12889235e+07,\n",
       "             -1.13068181e+04, -1.09070363e+09,  6.86324443e+09,\n",
       "             -1.12889235e+07,  1.13068181e+04, -1.09070363e+09,\n",
       "              6.86324443e+09,  1.12889235e+07, -1.13068181e+04,\n",
       "             -1.09070363e+09], dtype=float64)"
      ]
     },
     "execution_count": 966,
     "metadata": {},
     "output_type": "execute_result"
    }
   ],
   "source": [
    "grad(l)(S.T.flatten())"
   ]
  },
  {
   "cell_type": "code",
   "execution_count": 471,
   "metadata": {},
   "outputs": [
    {
     "name": "stdout",
     "output_type": "stream",
     "text": [
      "[[ 0.99962264  0.00353113  0.0272416 ]\n",
      " [-0.00369661  0.99997501  0.00602662]\n",
      " [-0.02721964 -0.00612505  0.99961071]]\n",
      "39.08299683867193\n",
      "36.59666940787413\n",
      "35.48337163293935\n",
      "34.67968617730389\n",
      "34.37915913644767\n",
      "34.22864623740312\n",
      "34.14449242158221\n",
      "34.09475442998261\n",
      "34.06442613626818\n",
      "34.04558803513825\n",
      "34.033754037871454\n",
      "34.02626758248531\n",
      "34.021510521301074\n",
      "34.018479318359965\n",
      "34.0165443993508\n",
      "34.01530787615656\n",
      "34.01395561482384\n",
      "34.013435890216904\n",
      "34.0132360447869\n",
      "34.013159185700516\n",
      "34.01312962416445\n",
      "34.01311825389871\n",
      "34.01311388050289\n",
      "34.0131121983374\n",
      "34.01311155131507\n",
      "34.01311130244642\n",
      "34.01311120672235\n",
      "34.01311116990335\n",
      "34.01311115574138\n",
      "34.013111150294165\n",
      "34.01311114819898\n",
      "34.013111147393076\n",
      "34.0131111470831\n",
      "34.013111146963865\n",
      "34.01311114691801\n",
      "34.01311114690039\n",
      "34.01311114689639\n",
      "34.013111146892044\n",
      "34.01311114689039\n",
      "34.01311114688976\n",
      "34.013111146889514\n",
      "34.01311114688945\n",
      "34.01311114688939\n",
      "34.013111146889365\n",
      "34.01311114688936\n",
      "34.01311114688934\n",
      "34.01311114688934\n",
      "34.01311114688934\n",
      "34.01311114688933\n",
      "34.01311114688933\n"
     ]
    },
    {
     "data": {
      "text/plain": [
       "DeviceArray(5088.14390058, dtype=float64)"
      ]
     },
     "execution_count": 471,
     "metadata": {},
     "output_type": "execute_result"
    }
   ],
   "source": [
    "S, _ = create_S(D, sig, num_iter=50, x_init=None, coeff=coeff)\n",
    "l(S.T.flatten())"
   ]
  },
  {
   "cell_type": "code",
   "execution_count": 651,
   "metadata": {},
   "outputs": [
    {
     "data": {
      "text/plain": [
       "DeviceArray([[ 3.81092511e-04, -5.90964662e+01,  8.78596458e-02,\n",
       "              -5.91839448e+01],\n",
       "             [-5.90964662e+01,  3.81092511e-04, -5.91839448e+01,\n",
       "               8.78596458e-02],\n",
       "             [ 8.78596458e-02, -5.91839448e+01,  3.81092511e-04,\n",
       "              -5.90964662e+01],\n",
       "             [-5.91839448e+01,  8.78596458e-02, -5.90964662e+01,\n",
       "               3.81092511e-04]], dtype=float64)"
      ]
     },
     "execution_count": 651,
     "metadata": {},
     "output_type": "execute_result"
    }
   ],
   "source": [
    "S.T @ D @ S"
   ]
  },
  {
   "cell_type": "code",
   "execution_count": 308,
   "metadata": {},
   "outputs": [
    {
     "name": "stderr",
     "output_type": "stream",
     "text": [
      "100%|████████████████████████████████████████████████████████████████████████| 4/4 [00:00<00:00,  4.45it/s]\n",
      "100%|██████████████████████████████████████████████████████████████████████| 28/28 [00:06<00:00,  4.24it/s]\n",
      "  4%|██▋                                                                    | 2/52 [00:00<00:13,  3.68it/s]\n",
      "\n",
      "KeyboardInterrupt\n",
      "\n"
     ]
    }
   ],
   "source": [
    "baseline_res = []\n",
    "costum_res = []\n",
    "\n",
    "for n in np.linspace(2, 50, 5):\n",
    "    start_time = time.time()\n",
    "    opt_S, _ = optimize_uncentered_S(D, sig=sig, coeff=coeff, max_steps=2*int(n), jrandom_key=jrandom_key, x_curr=None)\n",
    "    baseline_res.append([l(opt_S.T.flatten()), time.time() - start_time])\n",
    "    \n",
    "    \n",
    "    start_time = time.time()    \n",
    "    S, _ = create_S(D, sig, num_iter=int(n), x_init=None, coeff=coeff)\n",
    "    costum_res.append([l(S.T.flatten()), time.time() - start_time])\n",
    "\n"
   ]
  },
  {
   "cell_type": "code",
   "execution_count": 291,
   "metadata": {},
   "outputs": [
    {
     "data": {
      "image/png": "[encoded data removed]",
      "text/plain": [
       "<Figure size 864x864 with 1 Axes>"
      ]
     },
     "metadata": {},
     "output_type": "display_data"
    }
   ],
   "source": [
    "baseline_res = jnp.array(baseline_res)\n",
    "custom_res = jnp.array(costum_res)\n",
    "\n",
    "plt.plot(baseline_res[:, 1], baseline_res[:, 0], label=\"Baseline\")\n",
    "plt.plot(custom_res[:, 1], custom_res[:, 0], label=\"Costum\")\n",
    "plt.legend()\n",
    "plt.show()"
   ]
  },
  {
   "cell_type": "code",
   "execution_count": 321,
   "metadata": {},
   "outputs": [
    {
     "data": {
      "text/plain": [
       "DeviceArray([[ 3.21069678e+03,  0.00000000e+00,  0.00000000e+00,\n",
       "               0.00000000e+00,  0.00000000e+00],\n",
       "             [ 0.00000000e+00, -3.21900867e+03,  0.00000000e+00,\n",
       "               0.00000000e+00,  0.00000000e+00],\n",
       "             [ 0.00000000e+00,  0.00000000e+00,  7.08512389e+00,\n",
       "               0.00000000e+00,  0.00000000e+00],\n",
       "             [ 0.00000000e+00,  0.00000000e+00,  0.00000000e+00,\n",
       "               1.89533247e+00,  0.00000000e+00],\n",
       "             [ 0.00000000e+00,  0.00000000e+00,  0.00000000e+00,\n",
       "               0.00000000e+00, -6.65067651e-01]], dtype=float64)"
      ]
     },
     "execution_count": 321,
     "metadata": {},
     "output_type": "execute_result"
    }
   ],
   "source": [
    "A"
   ]
  },
  {
   "cell_type": "code",
   "execution_count": 323,
   "metadata": {},
   "outputs": [
    {
     "data": {
      "text/plain": [
       "DeviceArray([[-1.66088702e-01, -1.15938689e+02, -1.04766511e+02,\n",
       "               1.04350902e+02, -6.76081658e-01],\n",
       "             [-1.15938689e+02,  3.74859263e-02,  3.68502328e-02,\n",
       "               5.61205234e-01, -1.76398451e+01],\n",
       "             [-1.04766511e+02,  3.68502328e-02,  2.34758874e-01,\n",
       "               6.46285090e-01, -1.61424596e+01],\n",
       "             [ 1.04350902e+02,  5.61205234e-01,  6.46285090e-01,\n",
       "              -6.78779609e-02,  1.67711879e+01],\n",
       "             [-6.76081658e-01, -1.76398451e+01, -1.61424596e+01,\n",
       "               1.67711879e+01,  3.83787841e-01]], dtype=float64)"
      ]
     },
     "execution_count": 323,
     "metadata": {},
     "output_type": "execute_result"
    }
   ],
   "source": [
    "opt_S.T @ D @ opt_S"
   ]
  },
  {
   "cell_type": "code",
   "execution_count": 451,
   "metadata": {},
   "outputs": [],
   "source": [
    "diag_D = jnp.diag(D)\n",
    "lambda_star = get_lambda_star(dim, sig, coeff)\n",
    "\n",
    "\n",
    "lmbda = get_lambda_tilde(diag_D, sig, coeff, lambda_star, eps_bound=1e-5)\n",
    "V = np.eye(dim)\n",
    "Skew_Sym = (jnp.eye(dim) - V)@jnp.linalg.inv(jnp.eye(dim) + V)\n",
    "tmp_noise = jrandom.normal(subkey, shape=(dim, dim))*0.05\n",
    "Skew_Sym = Skew_Sym + (tmp_noise - tmp_noise.T)/2.\n",
    "V = (jnp.eye(dim) - Skew_Sym) @ jnp.linalg.inv(jnp.eye(dim) + Skew_Sym)\n",
    "\n",
    "\n",
    "V = jnp.real(jnp.linalg.eig(V + V.T)[1])\n",
    "P = np.eye(dim)\n",
    "tmp_row = P[lmbda.argmax()].copy()\n",
    "P[lmbda.argmax()] = P[0].copy()\n",
    "P[0] = tmp_row\n",
    "P = jnp.array(P)\n",
    "\n",
    "\n",
    "sing_vals = jnp.diag(lmbda**0.5)\n",
    "\n",
    "jrandom_key, subkey = jrandom.split(jrandom_key)\n",
    "x_init = jrandom.normal(subkey, shape=(dim - 1, dim - 1))\n",
    "x_init = jnp.linalg.eig(x_init + x_init.T)[1]\n",
    "\n",
    "\n",
    "A = sing_vals @ V.T @ D @ V @ sing_vals\n",
    "W, l_hist = optimize_W(P @ A @ P.T, num_iter=50, x_init=x_init, jrandom_key=subkey) \n",
    "U = P.T @ convert_to_U(W, 0)\n",
    "S = V @ sing_vals @ U"
   ]
  },
  {
   "cell_type": "code",
   "execution_count": 453,
   "metadata": {},
   "outputs": [],
   "source": [
    "R = generate_regular_simplex(dim - 1)"
   ]
  },
  {
   "cell_type": "code",
   "execution_count": 456,
   "metadata": {},
   "outputs": [
    {
     "data": {
      "text/plain": [
       "DeviceArray([[  125.05658506+0.j,  -161.72774546+0.j,   189.51304635+0.j,\n",
       "              -1339.41138462+0.j,   154.4872763 +0.j],\n",
       "             [ -161.72774546+0.j,   166.86370869+0.j,  -152.28031791+0.j,\n",
       "                910.7071014 +0.j,  -133.92448407+0.j],\n",
       "             [  189.51304635+0.j,  -152.28031791+0.j,    87.43814208+0.j,\n",
       "               -319.51907877+0.j,   102.10826484+0.j],\n",
       "             [-1339.41138462+0.j,   910.7071014 +0.j,  -319.51907877+0.j,\n",
       "                166.02210738+0.j,  -560.58319591+0.j],\n",
       "             [  154.4872763 +0.j,  -133.92448407+0.j,   102.10826484+0.j,\n",
       "               -560.58319591+0.j,   109.10165898+0.j]], dtype=complex128)"
      ]
     },
     "execution_count": 456,
     "metadata": {},
     "output_type": "execute_result"
    }
   ],
   "source": [
    "S.T @ D @ S"
   ]
  },
  {
   "cell_type": "code",
   "execution_count": 445,
   "metadata": {},
   "outputs": [
    {
     "data": {
      "text/plain": [
       "DeviceArray(155.52893497, dtype=float64)"
      ]
     },
     "execution_count": 445,
     "metadata": {},
     "output_type": "execute_result"
    }
   ],
   "source": [
    "l_hist[-1]"
   ]
  },
  {
   "cell_type": "code",
   "execution_count": 447,
   "metadata": {},
   "outputs": [
    {
     "data": {
      "text/plain": [
       "DeviceArray([[ 0.95731373, -0.25893144,  0.08618709, -0.05815855,\n",
       "              -0.07546058],\n",
       "             [ 0.2488742 ,  0.95553763,  0.10333408, -0.09647411,\n",
       "               0.07088222],\n",
       "             [-0.10625564, -0.06059009,  0.98195827,  0.10466345,\n",
       "              -0.09920737],\n",
       "             [ 0.09622627,  0.07308861, -0.0770515 ,  0.98170851,\n",
       "               0.12533963],\n",
       "             [ 0.03259293, -0.10435156,  0.1082353 , -0.11226881,\n",
       "               0.98169715]], dtype=float64)"
      ]
     },
     "execution_count": 447,
     "metadata": {},
     "output_type": "execute_result"
    }
   ],
   "source": [
    "V = np.eye(dim)\n",
    "Skew_Sym = (jnp.eye(dim) - V)@jnp.linalg.inv(jnp.eye(dim) + V)\n",
    "tmp_noise = jrandom.normal(subkey, shape=(dim, dim))*0.1\n",
    "Skew_Sym = Skew_Sym + (tmp_noise - tmp_noise.T)/2.\n",
    "V = (jnp.eye(dim) - Skew_Sym) @ jnp.linalg.inv(jnp.eye(dim) + Skew_Sym)\n",
    "V"
   ]
  },
  {
   "cell_type": "code",
   "execution_count": 452,
   "metadata": {},
   "outputs": [
    {
     "data": {
      "text/plain": [
       "[<matplotlib.lines.Line2D at 0x7fdb843438b0>]"
      ]
     },
     "execution_count": 452,
     "metadata": {},
     "output_type": "execute_result"
    },
    {
     "data": {
      "image/png": "[encoded data removed]",
      "text/plain": [
       "<Figure size 864x864 with 1 Axes>"
      ]
     },
     "metadata": {},
     "output_type": "display_data"
    }
   ],
   "source": [
    "plt.plot(l_hist)"
   ]
  },
  {
   "cell_type": "code",
   "execution_count": 342,
   "metadata": {},
   "outputs": [
    {
     "data": {
      "text/plain": [
       "DeviceArray(0.37363425, dtype=float64)"
      ]
     },
     "execution_count": 342,
     "metadata": {},
     "output_type": "execute_result"
    }
   ],
   "source": [
    "alpha = get_alpha(diag_D, lambda_star[0], lambda_star[1])\n",
    "alpha"
   ]
  },
  {
   "cell_type": "code",
   "execution_count": 302,
   "metadata": {},
   "outputs": [
    {
     "data": {
      "text/plain": [
       "[<matplotlib.lines.Line2D at 0x7fdbc4185600>]"
      ]
     },
     "execution_count": 302,
     "metadata": {},
     "output_type": "execute_result"
    },
    {
     "data": {
      "image/png": "[encoded data removed]",
      "text/plain": [
       "<Figure size 864x864 with 1 Axes>"
      ]
     },
     "metadata": {},
     "output_type": "display_data"
    }
   ],
   "source": [
    "plt.plot(l_hist)"
   ]
  },
  {
   "cell_type": "code",
   "execution_count": 33,
   "metadata": {},
   "outputs": [
    {
     "data": {
      "text/plain": [
       "DeviceArray([[ 0.1767767 ,  0.1767767 ,  0.1767767 , ...,  0.1767767 ,\n",
       "               0.1767767 ,  0.1767767 ],\n",
       "             [ 0.96203946, -0.03796054, -0.03796054, ..., -0.03796054,\n",
       "              -0.03796054,  0.1767767 ],\n",
       "             [-0.03796054,  0.96203946, -0.03796054, ..., -0.03796054,\n",
       "              -0.03796054,  0.1767767 ],\n",
       "             ...,\n",
       "             [-0.03796054, -0.03796054, -0.03796054, ..., -0.03796054,\n",
       "              -0.03796054,  0.1767767 ],\n",
       "             [-0.03796054, -0.03796054, -0.03796054, ...,  0.96203946,\n",
       "              -0.03796054,  0.1767767 ],\n",
       "             [-0.03796054, -0.03796054, -0.03796054, ..., -0.03796054,\n",
       "               0.96203946,  0.1767767 ]], dtype=float64)"
      ]
     },
     "execution_count": 33,
     "metadata": {},
     "output_type": "execute_result"
    }
   ],
   "source": [
    "convert_to_U(jnp.eye(31), 0)"
   ]
  },
  {
   "cell_type": "code",
   "execution_count": 52,
   "metadata": {},
   "outputs": [
    {
     "data": {
      "text/plain": [
       "(DeviceArray([[-0.16018862, -0.16018862, -0.16018862, -0.16018862,\n",
       "                0.54691816,  0.54691816,  0.54691816],\n",
       "              [-0.16018862, -0.16018862,  0.54691816,  0.54691816,\n",
       "               -0.16018862, -0.16018862,  0.54691816],\n",
       "              [ 0.54691816,  0.54691816, -0.16018862, -0.16018862,\n",
       "               -0.16018862, -0.16018862,  0.54691816],\n",
       "              [-0.16018862,  0.54691816, -0.16018862,  0.54691816,\n",
       "               -0.16018862,  0.54691816, -0.16018862],\n",
       "              [-0.54691816,  0.16018862, -0.54691816,  0.16018862,\n",
       "                0.16018862, -0.54691816,  0.16018862],\n",
       "              [ 0.54691816, -0.16018862, -0.16018862,  0.54691816,\n",
       "                0.54691816, -0.16018862, -0.16018862],\n",
       "              [-0.16018862,  0.54691816,  0.54691816, -0.16018862,\n",
       "                0.54691816, -0.16018862, -0.16018862]], dtype=float64),\n",
       " [DeviceArray(1.27070833e-15, dtype=float64),\n",
       "  DeviceArray(1.24622225e-15, dtype=float64)])"
      ]
     },
     "execution_count": 52,
     "metadata": {},
     "output_type": "execute_result"
    }
   ],
   "source": [
    "jrandom_key = jrandom.PRNGKey(0)\n",
    "dim = 8\n",
    "A = jrandom.normal(jrandom_key, shape=(dim,))\n",
    "\n",
    "W = optimize_W(jnp.diag(A), num_iter=50, x_init=(B[1:] @ R.T) * jnp.sqrt(7/8), jrandom_key=None) \n",
    "W "
   ]
  },
  {
   "cell_type": "code",
   "execution_count": 29,
   "metadata": {},
   "outputs": [
    {
     "data": {
      "text/plain": [
       "DeviceArray([[ 0.35355339,  0.35355339,  0.35355339,  0.35355339,\n",
       "               0.35355339,  0.35355339,  0.35355339,  0.35355339],\n",
       "             [ 0.31101943, -0.42472392,  0.33051811, -0.42238726,\n",
       "              -0.43427231, -0.05595422,  0.32115088,  0.37464929],\n",
       "             [-0.07900215,  0.74120539, -0.0484258 , -0.20996349,\n",
       "              -0.48909016, -0.02446072, -0.22091667,  0.33065362],\n",
       "             [-0.64760952, -0.17249846,  0.31115792, -0.16135273,\n",
       "               0.32702136,  0.09984313, -0.25341383,  0.49685213],\n",
       "             [-0.04721961, -0.27740671, -0.0502633 ,  0.76776448,\n",
       "              -0.42922511, -0.06133714, -0.21198123,  0.30966861],\n",
       "             [ 0.49692339, -0.13589262, -0.48680283, -0.16512533,\n",
       "               0.31602699, -0.00457255, -0.44054106,  0.41998401],\n",
       "             [-0.01706093, -0.1403599 , -0.09125596, -0.09851571,\n",
       "              -0.23688527,  0.92137196, -0.17366877, -0.16362542],\n",
       "             [-0.32120688, -0.01860819, -0.64711855, -0.00596787,\n",
       "              -0.00578931,  0.0926969 ,  0.62423237,  0.28176152]],            dtype=float64)"
      ]
     },
     "execution_count": 29,
     "metadata": {},
     "output_type": "execute_result"
    }
   ],
   "source": [
    "convert_to_U(W[0], 0)"
   ]
  },
  {
   "cell_type": "code",
   "execution_count": 46,
   "metadata": {},
   "outputs": [],
   "source": [
    "B = jnp.array([ [ 1,  1,  1,  1,  1,  1,  1,  1],\n",
    "                [-1, -1, -1, -1,  1,  1,  1,  1],\n",
    "                [-1, -1,  1,  1, -1, -1,  1,  1],\n",
    "                [ 1,  1, -1, -1, -1, -1,  1,  1],\n",
    "                [-1,  1, -1,  1, -1,  1, -1,  1],\n",
    "                [-1,  1, -1,  1,  1, -1,  1, -1],     \n",
    "                [ 1, -1, -1,  1,  1, -1, -1,  1],\n",
    "                [-1,  1,  1, -1,  1, -1, -1,  1]]) / jnp.sqrt(8)\n"
   ]
  },
  {
   "cell_type": "code",
   "execution_count": 22,
   "metadata": {},
   "outputs": [
    {
     "data": {
      "text/plain": [
       "DeviceArray([[1., 0., 0., 0., 0., 0., 0., 0.],\n",
       "             [0., 1., 0., 0., 0., 0., 0., 0.],\n",
       "             [0., 0., 1., 0., 0., 0., 0., 0.],\n",
       "             [0., 0., 0., 1., 0., 0., 0., 0.],\n",
       "             [0., 0., 0., 0., 1., 0., 0., 0.],\n",
       "             [0., 0., 0., 0., 0., 1., 0., 0.],\n",
       "             [0., 0., 0., 0., 0., 0., 1., 0.],\n",
       "             [0., 0., 0., 0., 0., 0., 0., 1.]], dtype=float64)"
      ]
     },
     "execution_count": 22,
     "metadata": {},
     "output_type": "execute_result"
    }
   ],
   "source": [
    "def generate_all_pow(n):\n",
    "    \"\"\"Return matrix with dim 2^n x 2^n\"\"\"\n",
    "    if n == 1:\n",
    "        return [jnp.array([[1]])]\n",
    "    pow_m = generate_all_pow(n - 1)\n",
    "    sub_m = pow_m[-1]\n",
    "    curr_m = jnp.concatenate([jnp.concatenate([sub_m, sub_m], axis=1), jnp.concatenate([sub_m, -sub_m], axis=1)])\n",
    "    pow_m.append(curr_m / jnp.sqrt(2))\n",
    "    return pow_m\n",
    "\n",
    "M = generate_all_pow(4)\n",
    "M[-1].T @ M[-1]"
   ]
  },
  {
   "cell_type": "code",
   "execution_count": 19,
   "metadata": {},
   "outputs": [
    {
     "data": {
      "text/plain": [
       "[DeviceArray([1], dtype=int64), DeviceArray([0, 2, 3, 4], dtype=int64)]"
      ]
     },
     "execution_count": 19,
     "metadata": {},
     "output_type": "execute_result"
    }
   ],
   "source": [
    "def get_S_pow_sets(H, jrandom_key):\n",
    "    \"\"\"Returns a set of sets. Each set with the indecies of H to use.\"\"\"\n",
    "    dim = len(H)\n",
    "    curr_n = 0\n",
    "    res = []\n",
    "    indecies = jnp.array(range(dim))\n",
    "    indecies = jrandom.permutation(jrandom_key, indecies, independent=True)\n",
    "    curr_i = 0\n",
    "    while dim > 0:\n",
    "        if dim % 2 == 1:\n",
    "            dim = (dim - 1)/2\n",
    "            res.append(jnp.sort(indecies[curr_i:curr_i + 2**curr_n]))\n",
    "            curr_i += 2**curr_n\n",
    "            curr_n += 1\n",
    "        else:\n",
    "            curr_n += 1\n",
    "            dim = dim/2\n",
    "    return res\n",
    "\n",
    "\n",
    "jrandom_key = jrandom.PRNGKey(0)\n",
    "H = jnp.eye(5)\n",
    "get_S_pow_sets(H, jrandom_key)"
   ]
  },
  {
   "cell_type": "code",
   "execution_count": 3,
   "metadata": {},
   "outputs": [],
   "source": [
    "def create_S_pows(H, sig, num_iter=10, x_init=None, coeff=0.1):\n",
    "    S_pow_set = get_S_pow_sets(H, jrandom_key)\n",
    "    \n",
    "    \n",
    "    "
   ]
  },
  {
   "cell_type": "code",
   "execution_count": 27,
   "metadata": {},
   "outputs": [
    {
     "data": {
      "text/plain": [
       "DeviceArray([[[0., 0., 0., 0., 5., 0., 0., 0., 0., 0.],\n",
       "              [0., 0., 0., 0., 5., 0., 0., 0., 0., 0.]],\n",
       "\n",
       "             [[0., 0., 3., 0., 0., 0., 0., 0., 0., 0.],\n",
       "              [0., 0., 3., 0., 0., 0., 0., 0., 0., 0.]]], dtype=float64)"
      ]
     },
     "execution_count": 27,
     "metadata": {},
     "output_type": "execute_result"
    }
   ],
   "source": [
    "D = jnp.diag(jnp.linspace(1, 10, 10))\n",
    "\n",
    "idxs = jnp.array([1, 5, 3])\n",
    "D[jnp.array([[4, 2], [4, 2]]).T]"
   ]
  },
  {
   "cell_type": "code",
   "execution_count": null,
   "metadata": {},
   "outputs": [],
   "source": []
  },
  {
   "cell_type": "code",
   "execution_count": null,
   "metadata": {},
   "outputs": [],
   "source": []
  }
 ],
 "metadata": {
  "kernelspec": {
   "display_name": "Python (simplex_grad)",
   "language": "python",
   "name": "simplex_grad"
  },
  "language_info": {
   "codemirror_mode": {
    "name": "ipython",
    "version": 3
   },
   "file_extension": ".py",
   "mimetype": "text/x-python",
   "name": "python",
   "nbconvert_exporter": "python",
   "pygments_lexer": "ipython3",
   "version": "3.10.0"
  }
 },
 "nbformat": 4,
 "nbformat_minor": 2
}
