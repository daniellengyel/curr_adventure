{
 "cells": [
  {
   "cell_type": "code",
   "execution_count": 371,
   "metadata": {},
   "outputs": [
    {
     "name": "stdout",
     "output_type": "stream",
     "text": [
      "The autoreload extension is already loaded. To reload it, use:\n",
      "  %reload_ext autoreload\n"
     ]
    }
   ],
   "source": [
    "import jax.numpy as jnp\n",
    "import jax.random as jrandom\n",
    "\n",
    "\n",
    "import sys \n",
    "import os \n",
    "HOME = os.getenv(\"HOME\")\n",
    "sys.path.append(HOME + \"/curr_adventure/exact_sampling/\")\n",
    "sys.path.append(HOME + \"/curr_adventure/exact_sampling/Optimization\")\n",
    "\n",
    "from Optimization import BFGS, NewtonMethod, GradientDescent, Trust\n",
    "from pdfo import newuoa\n",
    "\n",
    "from NEWUO_test import NEWUOA_Wrapper\n",
    "\n",
    "from pow_sampling_set import pow_SG\n",
    "from Functions import PyCutestGetter, Quadratic, HeartDisease\n",
    "from AdaptiveFD import adapt_FD\n",
    "from FD import FD\n",
    "\n",
    "from pow_sampling_set import create_approx_S_multi\n",
    "\n",
    "from tqdm import tqdm\n",
    "\n",
    "import matplotlib.pyplot as plt\n",
    "\n",
    "%matplotlib inline\n",
    "plt.rcParams['figure.figsize'] = [15,15]\n",
    "plt.style.use('default')\n",
    "plt.rcParams['lines.markersize'] = 8\n",
    "plt.rcParams.update({'font.size': 12})\n",
    "\n",
    "\n",
    "\n",
    "%load_ext autoreload\n",
    "%autoreload 2"
   ]
  },
  {
   "cell_type": "code",
   "execution_count": 384,
   "metadata": {},
   "outputs": [
    {
     "name": "stdout",
     "output_type": "stream",
     "text": [
      "[18.07223616  2.21604402  1.2315875   0.68266814]\n",
      "[0.5        0.5        0.5        0.45772153]\n",
      "[ 0.89059393  0.9987964   3.23372579 10.52481486]\n"
     ]
    },
    {
     "data": {
      "text/plain": [
       "DeviceArray([[ 0.25      , -0.25      ,  0.25      , -0.25      ],\n",
       "             [ 0.25      ,  0.25      ,  0.25      ,  0.25      ],\n",
       "             [ 0.25      ,  0.25      , -0.25      , -0.25      ],\n",
       "             [ 0.22886076, -0.22886076, -0.22886076,  0.22886076]],            dtype=float64)"
      ]
     },
     "execution_count": 384,
     "metadata": {},
     "output_type": "execute_result"
    }
   ],
   "source": [
    "D = jnp.array([0.9987964, 0.89059393, 3.23372579, 10.52481486])\n",
    "\n",
    "\n",
    "create_approx_S_multi(jnp.diag(D), sig=1, max_h=0.5, pool=None)"
   ]
  },
  {
   "cell_type": "code",
   "execution_count": 25,
   "metadata": {},
   "outputs": [],
   "source": [
    "dim = 32\n",
    "Q = jnp.diag(jnp.logspace(-2, 4, dim))\n",
    "b = jnp.zeros(dim)\n",
    "sig = 1\n",
    "\n",
    "x_0 = jnp.ones(dim)/2\n",
    "\n"
   ]
  },
  {
   "cell_type": "code",
   "execution_count": 61,
   "metadata": {},
   "outputs": [
    {
     "name": "stderr",
     "output_type": "stream",
     "text": [
      "100%|████████████████████████████████████████████████████████████████████████████| 4/4 [00:00<00:00,  5.01it/s]\n"
     ]
    }
   ],
   "source": [
    "H = F.f2(x_0)\n",
    "res = []\n",
    "for k in tqdm(jnp.linspace(1, dim*dim, 4)):\n",
    "    sig = 2\n",
    "    F = Quadratic(Q, b, sig=sig, noise_type=\"uniform\")\n",
    "\n",
    "\n",
    "#     F = HeartDisease(sig, noise_type=\"uniform\")\n",
    "#     x_0 = jnp.array([-0.00549042, -0.83499842,  0.90540353, -0.35528798,\n",
    "#              -0.28677555,  0.06359361,  0.23585258,  0.59582554,\n",
    "#              -0.49040073, -0.70567094,  0.33217319, -0.85092055,\n",
    "#              -0.22942091]) + jrandom.normal(jrandom_key, shape=(13,)) * 1\n",
    "\n",
    "\n",
    "    N = int(dim * k)\n",
    "    jrandom_key = jrandom.PRNGKey(0)\n",
    "\n",
    "    X = jrandom.normal(jrandom_key, shape=(dim, N))\n",
    "    F_vals = []\n",
    "    for i in range(N):\n",
    "        jrandom_key, subkey = jrandom.split(jrandom_key)\n",
    "        F_vals.append(F.f(X[:, i], subkey))\n",
    "    F_vals = jnp.array(F_vals)\n",
    "    \n",
    "    G = get_G(X, F_vals)\n",
    " \n",
    "    res.append(jnp.linalg.norm(G - H)/jnp.linalg.norm(H))\n",
    "#     jnp.linalg.eigh(G)"
   ]
  },
  {
   "cell_type": "code",
   "execution_count": 62,
   "metadata": {},
   "outputs": [
    {
     "data": {
      "text/plain": [
       "[<matplotlib.lines.Line2D at 0x7fa5ed9cdff0>]"
      ]
     },
     "execution_count": 62,
     "metadata": {},
     "output_type": "execute_result"
    },
    {
     "data": {
      "image/png": "[encoded data removed]",
      "text/plain": [
       "<Figure size 432x288 with 1 Axes>"
      ]
     },
     "metadata": {
      "needs_background": "light"
     },
     "output_type": "display_data"
    }
   ],
   "source": [
    "plt.plot(jnp.linspace(1, dim*dim, 4), res)"
   ]
  },
  {
   "cell_type": "code",
   "execution_count": 7,
   "metadata": {},
   "outputs": [],
   "source": [
    "\n",
    "def create_W(S):\n",
    "    dim = S.shape[0]\n",
    "    N = S.shape[1]\n",
    "    A = 1/2 * (S.T @ S)**2\n",
    "    eXT = jnp.concatenate([jnp.ones(shape=(N, 1)), S.T], axis=1)\n",
    "    eTX0 = jnp.concatenate([eXT.T, jnp.zeros(shape=(dim+1, dim+1))], axis=1)\n",
    "    W = jnp.concatenate([A, eXT], axis=1)\n",
    "    W = jnp.concatenate([W, eTX0], axis=0)\n",
    "    return W\n",
    "\n",
    "def get_G(S, F_vals):\n",
    "    dim = len(S)\n",
    "\n",
    "    W = create_W(S)\n",
    "    F_vals0 = jnp.concatenate([F_vals, jnp.zeros(dim + 1)])\n",
    "    lcg = jnp.linalg.solve(W, F_vals0)\n",
    "\n",
    "    lmbda = lcg[:-(dim+1)]\n",
    "\n",
    "    return S @ jnp.diag(lmbda) @ S.T\n",
    "\n",
    "      \n"
   ]
  },
  {
   "cell_type": "code",
   "execution_count": 37,
   "metadata": {},
   "outputs": [
    {
     "name": "stdout",
     "output_type": "stream",
     "text": [
      "2.4549352205142988e-14\n"
     ]
    },
    {
     "data": {
      "text/plain": [
       "(DeviceArray([2.00000000e-02, 3.12304602e-02, 4.87670820e-02,\n",
       "              7.61509205e-02, 1.18911414e-01, 1.85682909e-01,\n",
       "              2.89948134e-01, 4.52760682e-01, 7.06996221e-01,\n",
       "              1.10399086e+00, 1.72390713e+00, 2.69192065e+00,\n",
       "              4.20349602e+00, 6.56385574e+00, 1.02496118e+01,\n",
       "              1.60050046e+01, 2.49921828e+01, 3.90258685e+01,\n",
       "              6.09397914e+01, 9.51588863e+01, 1.48592790e+02,\n",
       "              2.32031060e+02, 3.62321839e+02, 5.65773887e+02,\n",
       "              8.83468941e+02, 1.37955708e+03, 2.15421011e+03,\n",
       "              3.36384865e+03, 5.25272706e+03, 8.20225414e+03,\n",
       "              1.28080085e+04, 2.00000000e+04], dtype=float64),\n",
       " DeviceArray([[ 1.00000000e+00,  4.86783131e-11,  2.04307733e-11, ...,\n",
       "                1.05339588e-15, -1.27817921e-15,  5.45697367e-16],\n",
       "              [ 4.86783131e-11, -1.00000000e+00,  1.03647171e-09, ...,\n",
       "                1.36002321e-15, -5.27355937e-16,  1.33226763e-15],\n",
       "              [ 2.04307734e-11, -1.03647178e-09, -1.00000000e+00, ...,\n",
       "                1.22733165e-15,  1.07657631e-15,  7.68435935e-16],\n",
       "              ...,\n",
       "              [ 1.05339588e-15, -1.37390099e-15, -1.25160299e-15, ...,\n",
       "               -1.00000000e+00,  8.41340886e-15, -1.45022883e-15],\n",
       "              [-1.27817921e-15,  5.82867088e-16, -9.70577785e-16, ...,\n",
       "               -8.75688411e-15, -1.00000000e+00, -4.05925293e-16],\n",
       "              [ 5.45697367e-16, -1.30451205e-15, -7.22512328e-16, ...,\n",
       "                1.22644950e-15,  2.32452946e-16, -1.00000000e+00]],            dtype=float64))"
      ]
     },
     "execution_count": 37,
     "metadata": {},
     "output_type": "execute_result"
    }
   ],
   "source": [
    "G = get_G(X, F_vals)\n",
    "H = F.f2(x_0)\n",
    "print(jnp.linalg.norm(G - H)/jnp.linalg.norm(H))\n",
    "jnp.linalg.eigh(G)"
   ]
  },
  {
   "cell_type": "code",
   "execution_count": 138,
   "metadata": {},
   "outputs": [
    {
     "name": "stdout",
     "output_type": "stream",
     "text": [
      "1.0007848960975605\n"
     ]
    },
    {
     "data": {
      "text/plain": [
       "(DeviceArray([-2.21972998e+01, -2.06935238e+01, -1.90635372e+01,\n",
       "              -1.68782370e+01, -1.14279403e+01, -5.93895589e+00,\n",
       "              -3.49491081e+00,  1.39091291e+00,  4.25148608e+00,\n",
       "               6.24140118e+00,  1.17549176e+01,  1.25880240e+01,\n",
       "               1.49941481e+01,  1.89119795e+01,  2.13597272e+01,\n",
       "               2.70292629e+01,  3.23856070e+01,  4.62572996e+01,\n",
       "               5.17262584e+01,  8.85224293e+01,  1.51073740e+02,\n",
       "               2.28506644e+02,  3.63578978e+02,  5.66340436e+02,\n",
       "               8.84131186e+02,  1.38935999e+03,  2.15988076e+03,\n",
       "               3.36710825e+03,  5.25217898e+03,  8.21157151e+03,\n",
       "               1.28146509e+04,  2.00030246e+04], dtype=float64),\n",
       " DeviceArray([[-3.97122848e-02, -3.01408361e-01,  5.42190380e-01, ...,\n",
       "               -4.90970297e-05, -3.38306663e-04,  1.89012549e-04],\n",
       "              [ 1.09114576e-01,  2.27415292e-01,  1.63225649e-01, ...,\n",
       "                1.04759133e-04,  2.77926092e-04, -4.68367352e-05],\n",
       "              [-3.24206923e-01, -1.23513579e-01, -2.71973596e-02, ...,\n",
       "               -1.04973529e-04, -4.84397216e-05, -3.90680159e-05],\n",
       "              ...,\n",
       "              [-2.39045663e-04, -5.79400575e-04,  4.34475798e-04, ...,\n",
       "               -9.99995051e-01, -1.08293958e-04, -3.80617842e-05],\n",
       "              [ 8.49085895e-05,  5.93780902e-05, -6.21836679e-04, ...,\n",
       "                1.08239124e-04, -9.99998917e-01, -2.19161080e-04],\n",
       "              [-5.88583787e-04, -7.21606771e-05, -9.85415953e-05, ...,\n",
       "               -3.77923319e-05, -2.18967723e-04,  9.99999338e-01]],            dtype=float64))"
      ]
     },
     "execution_count": 138,
     "metadata": {},
     "output_type": "execute_result"
    }
   ],
   "source": [
    "G = get_G(X - x_0.reshape(-1, 1), F_vals)\n",
    "print(jnp.linalg.norm(G - Q)/jnp.linalg.norm(Q))\n",
    "jnp.linalg.eigh(G)"
   ]
  },
  {
   "cell_type": "code",
   "execution_count": 328,
   "metadata": {
    "scrolled": false
   },
   "outputs": [
    {
     "name": "stderr",
     "output_type": "stream",
     "text": [
      " 12%|█████████                                                                  | 3/25 [00:00<00:02,  9.20it/s]"
     ]
    },
    {
     "name": "stdout",
     "output_type": "stream",
     "text": [
      "H diff 1.001384932700066\n",
      "H diff 1.000260417572776\n"
     ]
    },
    {
     "name": "stderr",
     "output_type": "stream",
     "text": [
      " 20%|███████████████                                                            | 5/25 [00:00<00:02,  7.94it/s]"
     ]
    },
    {
     "name": "stdout",
     "output_type": "stream",
     "text": [
      "H diff 0.9998911371145295\n",
      "H diff 0.9972502648100198\n"
     ]
    },
    {
     "name": "stderr",
     "output_type": "stream",
     "text": [
      " 28%|█████████████████████                                                      | 7/25 [00:00<00:02,  7.16it/s]"
     ]
    },
    {
     "name": "stdout",
     "output_type": "stream",
     "text": [
      "H diff 0.9939800401005706\n",
      "H diff 0.9963659254532435\n"
     ]
    },
    {
     "name": "stderr",
     "output_type": "stream",
     "text": [
      " 36%|███████████████████████████                                                | 9/25 [00:01<00:02,  6.92it/s]"
     ]
    },
    {
     "name": "stdout",
     "output_type": "stream",
     "text": [
      "H diff 0.9949252181297021\n",
      "H diff 0.9936124033250501\n"
     ]
    },
    {
     "name": "stderr",
     "output_type": "stream",
     "text": [
      " 44%|████████████████████████████████▌                                         | 11/25 [00:01<00:02,  6.90it/s]"
     ]
    },
    {
     "name": "stdout",
     "output_type": "stream",
     "text": [
      "H diff 0.9936271030446503\n",
      "H diff 0.9921344587092116\n"
     ]
    },
    {
     "name": "stderr",
     "output_type": "stream",
     "text": [
      " 52%|██████████████████████████████████████▍                                   | 13/25 [00:01<00:01,  6.29it/s]"
     ]
    },
    {
     "name": "stdout",
     "output_type": "stream",
     "text": [
      "H diff 0.9940517198123416\n",
      "H diff 0.9935127226546112\n"
     ]
    },
    {
     "name": "stderr",
     "output_type": "stream",
     "text": [
      " 60%|████████████████████████████████████████████▍                             | 15/25 [00:02<00:01,  6.58it/s]"
     ]
    },
    {
     "name": "stdout",
     "output_type": "stream",
     "text": [
      "H diff 0.9933149121202978\n",
      "H diff 0.9901279260372663\n"
     ]
    },
    {
     "name": "stderr",
     "output_type": "stream",
     "text": [
      " 68%|██████████████████████████████████████████████████▎                       | 17/25 [00:02<00:01,  6.71it/s]"
     ]
    },
    {
     "name": "stdout",
     "output_type": "stream",
     "text": [
      "H diff 0.9886521343338632\n",
      "H diff 0.9873060041859174\n"
     ]
    },
    {
     "name": "stderr",
     "output_type": "stream",
     "text": [
      " 76%|████████████████████████████████████████████████████████▏                 | 19/25 [00:02<00:00,  6.63it/s]"
     ]
    },
    {
     "name": "stdout",
     "output_type": "stream",
     "text": [
      "H diff 0.9881935500262478\n",
      "H diff 0.9868606988326815\n"
     ]
    },
    {
     "name": "stderr",
     "output_type": "stream",
     "text": [
      " 84%|██████████████████████████████████████████████████████████████▏           | 21/25 [00:03<00:00,  6.18it/s]"
     ]
    },
    {
     "name": "stdout",
     "output_type": "stream",
     "text": [
      "H diff 0.9884782138278765\n",
      "H diff 0.9879814467221503\n"
     ]
    },
    {
     "name": "stderr",
     "output_type": "stream",
     "text": [
      " 92%|████████████████████████████████████████████████████████████████████      | 23/25 [00:03<00:00,  6.48it/s]"
     ]
    },
    {
     "name": "stdout",
     "output_type": "stream",
     "text": [
      "H diff 0.9893622136589001\n",
      "H diff 0.9867414363623149\n"
     ]
    },
    {
     "name": "stderr",
     "output_type": "stream",
     "text": [
      "100%|██████████████████████████████████████████████████████████████████████████| 25/25 [00:03<00:00,  6.82it/s]\n"
     ]
    },
    {
     "name": "stdout",
     "output_type": "stream",
     "text": [
      "H diff 0.9854650285743479\n"
     ]
    },
    {
     "name": "stderr",
     "output_type": "stream",
     "text": [
      "100%|██████████████████████████████████████████████████████████████████████████| 25/25 [00:02<00:00, 10.31it/s]\n"
     ]
    },
    {
     "data": {
      "image/png": "[encoded data removed]",
      "text/plain": [
       "<Figure size 640x480 with 1 Axes>"
      ]
     },
     "metadata": {},
     "output_type": "display_data"
    },
    {
     "data": {
      "image/png": "[encoded data removed]",
      "text/plain": [
       "<Figure size 640x480 with 1 Axes>"
      ]
     },
     "metadata": {},
     "output_type": "display_data"
    },
    {
     "data": {
      "image/png": "[encoded data removed]",
      "text/plain": [
       "<Figure size 640x480 with 1 Axes>"
      ]
     },
     "metadata": {},
     "output_type": "display_data"
    }
   ],
   "source": [
    "noise_type=\"uniform\"\n",
    "\n",
    "step_size = 1e-5\n",
    "num_total_steps = 50\n",
    "grad_eps = 1e-10\n",
    "seed = 10\n",
    "\n",
    "jrandom_key = jrandom.PRNGKey(seed)\n",
    "\n",
    "dim = 32\n",
    "Q = jnp.diag(jnp.logspace(-2, 4, dim))\n",
    "b = jnp.zeros(dim)\n",
    "sig = 0.1\n",
    "F = Quadratic(Q, b, sig=sig, noise_type=\"uniform\")\n",
    "\n",
    "x_0 = jnp.ones(dim)/2\n",
    "\n",
    "verbose = False\n",
    "# ----- \n",
    "sig = 1\n",
    "noise_type=\"uniform\"\n",
    "F = HeartDisease(sig, noise_type)\n",
    "x_0 = jnp.array([-0.00549042, -0.83499842,  0.90540353, -0.35528798,\n",
    "             -0.28677555,  0.06359361,  0.23585258,  0.59582554,\n",
    "             -0.49040073, -0.70567094,  0.33217319, -0.85092055,\n",
    "             -0.22942091]) + jrandom.normal(jrandom_key, shape=(13,)) * 1\n",
    "\n",
    "jrandom_key = jrandom.PRNGKey(seed)\n",
    "# sig = 1\n",
    "# dim = 32\n",
    "# Q = jnp.diag(jnp.logspace(-2, 4, dim))\n",
    "# b = jnp.zeros(dim)\n",
    "# F = Quadratic(Q, b, sig=sig, noise_type=\"uniform\")\n",
    "\n",
    "# x_0 = jnp.ones(dim)/2\n",
    "\n",
    "step_size = 1e-5\n",
    "num_total_steps = 25\n",
    "grad_eps = 1e-10\n",
    "seed = 10\n",
    "\n",
    "jrandom_key = jrandom.PRNGKey(seed)\n",
    "\n",
    "\n",
    "# # Our Trust Method\n",
    "grad_getter = pow_SG(sig, max_h=1)\n",
    "optimizer = Trust(x_0, F, step_size, num_total_steps, sig, jrandom_key, grad_getter, grad_eps, verbose=verbose)\n",
    "final_X, our_res, our_X_data = optimizer.run_opt()\n",
    "\n",
    "# # Our BFGS Method\n",
    "grad_getter = pow_SG(sig, max_h=1)\n",
    "optimizer = BFGS(x_0, F, step_size, num_total_steps, sig, jrandom_key, grad_getter, grad_eps, verbose=verbose)\n",
    "final_X, our_bfgs_res, our_bfgs_X_data = optimizer.run_opt()\n",
    "\n",
    "\n",
    "plt.plot(range(len(our_res[:, 2])), our_res[:, -1], label=\"Our Trust\")\n",
    "plt.plot(range(len(our_bfgs_res[:, 2])), our_bfgs_res[:, -1], label=\"Our BFGS\")\n",
    "\n",
    "\n",
    "plt.xlabel(\"Func Calls\")\n",
    "# plt.yscale(\"log\")\n",
    "plt.legend()\n",
    "plt.show()\n",
    "\n",
    "plt.plot(our_res[:, 2], our_res[:, 0], label=\"Our Trust\")\n",
    "plt.plot(our_bfgs_res[:, 2], our_bfgs_res[:, 0], label=\"Our BFGS\")\n",
    "\n",
    "\n",
    "plt.xlabel(\"Func Calls\")\n",
    "plt.yscale(\"log\")\n",
    "plt.legend()\n",
    "plt.show()\n",
    "\n",
    "plt.plot(range(len(our_res[:, 2])), our_res[:, 0], label=\"Our Trust\")\n",
    "plt.plot(range(len(our_bfgs_res[:, 2])), our_bfgs_res[:, 0], label=\"Our BFGS\")\n",
    "\n",
    "\n",
    "# # plt.plot(newuoa_res, label=\"NEWUOA\")\n",
    "plt.xlabel(\"Num Iter\")\n",
    "plt.yscale(\"log\")\n",
    "plt.legend()\n",
    "plt.show()"
   ]
  },
  {
   "cell_type": "code",
   "execution_count": 334,
   "metadata": {},
   "outputs": [
    {
     "name": "stderr",
     "output_type": "stream",
     "text": [
      "100%|██████████████████████████████████████████████████████████████████████████| 20/20 [00:02<00:00,  8.74it/s]\n"
     ]
    }
   ],
   "source": [
    "jrandom_key = jrandom.PRNGKey(seed)\n",
    "sig = 2\n",
    "dim = 32\n",
    "Q = jnp.diag(jnp.logspace(-2, 4, dim))\n",
    "b = jnp.zeros(dim)\n",
    "F = Quadratic(Q, b, sig=sig, noise_type=\"uniform\")\n",
    "num_total_steps = 20\n",
    "x_0 = jnp.ones(dim)/dim\n",
    "\n",
    "\n",
    "# # Our Trust Method\n",
    "grad_getter = pow_SG(sig, max_h=1)\n",
    "optimizer = Trust(x_0, F, step_size, num_total_steps, sig, jrandom_key, grad_getter, grad_eps, verbose=verbose)\n",
    "final_X, our_res, our_X_data = optimizer.run_opt()"
   ]
  },
  {
   "cell_type": "code",
   "execution_count": 284,
   "metadata": {},
   "outputs": [],
   "source": [
    "res = []\n",
    "for i in range(len(optimizer.interp_points.T)):\n",
    "    x = optimizer.interp_points[:, i]\n",
    "               \n",
    "    res.append(F.f(x) - optimizer.F_vals[i])\n",
    "    "
   ]
  },
  {
   "cell_type": "code",
   "execution_count": 285,
   "metadata": {},
   "outputs": [
    {
     "data": {
      "text/plain": [
       "DeviceArray(2.14751966, dtype=float64)"
      ]
     },
     "execution_count": 285,
     "metadata": {},
     "output_type": "execute_result"
    }
   ],
   "source": [
    "jnp.std(jnp.array(res))"
   ]
  },
  {
   "cell_type": "code",
   "execution_count": 286,
   "metadata": {},
   "outputs": [
    {
     "data": {
      "text/plain": [
       "DeviceArray(0.415369, dtype=float64)"
      ]
     },
     "execution_count": 286,
     "metadata": {},
     "output_type": "execute_result"
    }
   ],
   "source": [
    "G = get_G(optimizer.interp_points, optimizer.F_vals)\n",
    "H = F.f2(x_0)\n",
    "jnp.linalg.norm(G - H)/jnp.linalg.norm(H)"
   ]
  },
  {
   "cell_type": "code",
   "execution_count": 92,
   "metadata": {},
   "outputs": [
    {
     "data": {
      "text/plain": [
       "<matplotlib.collections.PathCollection at 0x7fa5eeaccd30>"
      ]
     },
     "execution_count": 92,
     "metadata": {},
     "output_type": "execute_result"
    },
    {
     "data": {
      "image/png": "[encoded data removed]",
      "text/plain": [
       "<Figure size 640x480 with 1 Axes>"
      ]
     },
     "metadata": {},
     "output_type": "display_data"
    }
   ],
   "source": [
    "plt.scatter(optimizer.interp_points[0], optimizer.interp_points[1])"
   ]
  },
  {
   "cell_type": "code",
   "execution_count": 140,
   "metadata": {},
   "outputs": [],
   "source": [
    "\n",
    "F_vals = []\n",
    "for i in range(len(optimizer.interp_points[0])):\n",
    "    jrandom_key, subkey = jrandom.split(jrandom_key)\n",
    "    F = Quadratic(Q, b, sig=0, noise_type=\"uniform\")\n",
    "\n",
    "\n",
    "    F_vals.append(F.f(optimizer.interp_points[:, i], subkey))\n",
    "F_vals = jnp.array(F_vals)\n",
    "\n",
    "G = get_G(optimizer.interp_points, F_vals)\n",
    "\n",
    "# jnp.linalg.norm(G - H)/jnp.linalg.norm(H)\n",
    "#     jnp.linalg.eigh(G)"
   ]
  },
  {
   "cell_type": "code",
   "execution_count": 93,
   "metadata": {},
   "outputs": [
    {
     "name": "stderr",
     "output_type": "stream",
     "text": [
      "100%|██████████████████████████████████████████████████████████████████████████| 60/60 [00:06<00:00,  9.02it/s]\n"
     ]
    }
   ],
   "source": [
    "res = []\n",
    "\n",
    "for i in tqdm(range(optimizer.interp_points.shape[1])):\n",
    "    for j in range(optimizer.interp_points.shape[1]):\n",
    "        if i == j:\n",
    "            continue\n",
    "        res.append(jnp.linalg.norm(optimizer.interp_points[:, i] - optimizer.interp_points[:, j]))\n"
   ]
  },
  {
   "cell_type": "code",
   "execution_count": 94,
   "metadata": {},
   "outputs": [
    {
     "data": {
      "text/plain": [
       "DeviceArray(0.00055861, dtype=float64)"
      ]
     },
     "execution_count": 94,
     "metadata": {},
     "output_type": "execute_result"
    }
   ],
   "source": [
    "min(res)"
   ]
  },
  {
   "cell_type": "code",
   "execution_count": 82,
   "metadata": {},
   "outputs": [
    {
     "data": {
      "text/plain": [
       "660"
      ]
     },
     "execution_count": 82,
     "metadata": {},
     "output_type": "execute_result"
    }
   ],
   "source": [
    "optimizer.interp_points.shape[1]\n"
   ]
  },
  {
   "cell_type": "code",
   "execution_count": 102,
   "metadata": {},
   "outputs": [],
   "source": [
    "from scipy.interpolate import Rbf, RBFInterpolator\n"
   ]
  },
  {
   "cell_type": "code",
   "execution_count": 305,
   "metadata": {},
   "outputs": [],
   "source": [
    "\n",
    "def _evaluate(x, y, epsilon, coeffs):\n",
    "    \"\"\"Evaluate the RBF interpolant at `x`.\n",
    "    Parameters\n",
    "    ----------\n",
    "    x : (Q, N) float ndarray\n",
    "        Evaluation point coordinates.\n",
    "    y : (P, N) float ndarray\n",
    "        Data point coordinates.\n",
    "    kernel : str\n",
    "        Name of the RBF.\n",
    "    epsilon : float\n",
    "        Shape parameter.\n",
    "    powers : (R, N) int ndarray\n",
    "        The exponents for each monomial in the polynomial.\n",
    "    shift : (N,) float ndarray\n",
    "        Shifts the polynomial domain for numerical stability.\n",
    "    scale : (N,) float ndarray\n",
    "        Scales the polynomial domain for numerical stability.\n",
    "    coeffs : (P + R, S) float ndarray\n",
    "        Coefficients for each RBF and monomial.\n",
    "    Returns\n",
    "    -------\n",
    "    (Q, S) float ndarray\n",
    "    \"\"\"\n",
    "    q = x.shape[0]\n",
    "    p = y.shape[0]\n",
    "\n",
    "    yeps = y*epsilon\n",
    "    xeps = x*epsilon\n",
    "    \n",
    "    vec = jnp.exp(-jnp.linalg.norm(xeps - yeps, axis=1)**2)\n",
    "\n",
    "    #         polynomial_vector(xhat[i], powers, vec[p:])\n",
    "    # Compute the dot product between coeffs and vec. Do not use np.dot\n",
    "    # because that introduces build complications with BLAS (see\n",
    "    # https://github.com/serge-sans-paille/pythran/issues/1346)\n",
    "    out = vec @ coeffs[:-1, 0] + coeffs[-1, 0]\n",
    "\n",
    "    return out"
   ]
  },
  {
   "cell_type": "code",
   "execution_count": 352,
   "metadata": {},
   "outputs": [
    {
     "data": {
      "text/plain": [
       "array([[0, 0, 0, ..., 0, 0, 0],\n",
       "       [1, 0, 0, ..., 0, 0, 0],\n",
       "       [0, 1, 0, ..., 0, 0, 0],\n",
       "       ...,\n",
       "       [0, 0, 0, ..., 1, 0, 0],\n",
       "       [0, 0, 0, ..., 0, 1, 0],\n",
       "       [0, 0, 0, ..., 0, 0, 1]])"
      ]
     },
     "execution_count": 352,
     "metadata": {},
     "output_type": "execute_result"
    }
   ],
   "source": [
    "rbf.powers"
   ]
  },
  {
   "cell_type": "code",
   "execution_count": 353,
   "metadata": {
    "collapsed": true
   },
   "outputs": [
    {
     "ename": "TypeError",
     "evalue": "_evaluate() missing 3 required positional arguments: 'shift', 'scale', and 'powers'",
     "output_type": "error",
     "traceback": [
      "\u001b[0;31m---------------------------------------------------------------------------\u001b[0m",
      "\u001b[0;31mTypeError\u001b[0m                                 Traceback (most recent call last)",
      "Input \u001b[0;32mIn [353]\u001b[0m, in \u001b[0;36m<cell line: 8>\u001b[0;34m()\u001b[0m\n\u001b[1;32m      6\u001b[0m curr_x \u001b[38;5;241m=\u001b[39m jnp\u001b[38;5;241m.\u001b[39marray(optimizer\u001b[38;5;241m.\u001b[39minterp_points[:,\u001b[38;5;241m-\u001b[39m\u001b[38;5;241m1\u001b[39m])\n\u001b[1;32m      7\u001b[0m H \u001b[38;5;241m=\u001b[39m F\u001b[38;5;241m.\u001b[39mf2(curr_x)\n\u001b[0;32m----> 8\u001b[0m \u001b[38;5;28mprint\u001b[39m(\u001b[43m_evaluate\u001b[49m\u001b[43m(\u001b[49m\u001b[43mcurr_x\u001b[49m\u001b[43m,\u001b[49m\u001b[43m \u001b[49m\u001b[43my\u001b[49m\u001b[43m,\u001b[49m\u001b[43m \u001b[49m\u001b[43mepsilon\u001b[49m\u001b[43m,\u001b[49m\u001b[43m \u001b[49m\u001b[43mcoeffs\u001b[49m\u001b[43m)\u001b[49m)\n\u001b[1;32m     10\u001b[0m rbf_f1 \u001b[38;5;241m=\u001b[39m grad(\u001b[38;5;28;01mlambda\u001b[39;00m x: _evaluate(x, y, epsilon, coeffs))\n\u001b[1;32m     11\u001b[0m rbf_f2 \u001b[38;5;241m=\u001b[39m jacfwd(\u001b[38;5;28;01mlambda\u001b[39;00m x: rbf_f1(x))\n",
      "\u001b[0;31mTypeError\u001b[0m: _evaluate() missing 3 required positional arguments: 'shift', 'scale', and 'powers'"
     ]
    }
   ],
   "source": [
    "from jax import jit, grad, jacfwd\n",
    "\n",
    "coeffs = jnp.array(rbf._coeffs)\n",
    "y = jnp.array(rbf.y)\n",
    "epsilon = rbf.epsilon\n",
    "curr_x = jnp.array(optimizer.interp_points[:,-1])\n",
    "H = F.f2(curr_x)\n",
    "print(_evaluate(curr_x, y, epsilon, coeffs))\n",
    "\n",
    "rbf_f1 = grad(lambda x: _evaluate(x, y, epsilon, coeffs))\n",
    "rbf_f2 = jacfwd(lambda x: rbf_f1(x))\n",
    "\n",
    "jnp.linalg.norm(rbf_f2(curr_x) - H)/jnp.linalg.norm(H)"
   ]
  },
  {
   "cell_type": "code",
   "execution_count": 370,
   "metadata": {},
   "outputs": [
    {
     "name": "stdout",
     "output_type": "stream",
     "text": [
      "180.37732945877588\n",
      "[180.37732946]\n",
      "2.8104935269224747\n"
     ]
    },
    {
     "data": {
      "text/plain": [
       "DeviceArray(0.94070034, dtype=float64)"
      ]
     },
     "execution_count": 370,
     "metadata": {},
     "output_type": "execute_result"
    }
   ],
   "source": [
    "rbf = RBFInterpolator(optimizer.interp_points.T, optimizer.F_vals, kernel=\"gaussian\", epsilon=2, smoothing=1)\n",
    "\n",
    "\n",
    "\n",
    "\n",
    "def _evaluate(x, y, epsilon, coeffs, shift, scale, powers):\n",
    "    p = y.shape[0]\n",
    "\n",
    "    yeps = y*epsilon\n",
    "    xeps = x*epsilon\n",
    "    xhat = (x - shift)/scale\n",
    "\n",
    "    r = jnp.linalg.norm(xeps - yeps, axis=1)\n",
    "    kernel_vec = r**2 * jnp.log(r)\n",
    "#     kernel_vec = jnp.exp(-r**2) # jnp.nan_to_num(kernel_vec, 0)\n",
    "    \n",
    "    poly_vec = jnp.prod(xhat ** powers, axis=1)\n",
    "\n",
    "    out = kernel_vec @ coeffs[:p, 0] + poly_vec @ coeffs[p:, 0]\n",
    "\n",
    "    return out\n",
    "\n",
    "coeffs = jnp.array(rbf._coeffs)\n",
    "y = jnp.array(rbf.y)\n",
    "epsilon = rbf.epsilon\n",
    "shift = jnp.array(rbf._shift)\n",
    "scale = jnp.array(rbf._scale)\n",
    "powers = jnp.array(rbf.powers)\n",
    "curr_x = jnp.array(optimizer.interp_points[:,-1])\n",
    "H = F.f2(curr_x + 0.1)\n",
    "print(_evaluate(curr_x, y, epsilon, coeffs, shift, scale, powers))\n",
    "print(rbf(curr_x.reshape(1, -1)))\n",
    "print(F.f(curr_x))\n",
    "Tm\n",
    "rbf_f1 = grad(lambda x: _evaluate(x, y, epsilon, coeffs, shift, scale, powers))\n",
    "rbf_f2 = jacfwd(lambda x: rbf_f1(x))\n",
    "\n",
    "jnp.linalg.norm(rbf_f2(curr_x + 0.1) - H)/jnp.linalg.norm(H)\n"
   ]
  },
  {
   "cell_type": "code",
   "execution_count": 350,
   "metadata": {},
   "outputs": [
    {
     "data": {
      "text/plain": [
       "(693, 1)"
      ]
     },
     "execution_count": 350,
     "metadata": {},
     "output_type": "execute_result"
    }
   ],
   "source": [
    "coeffs.shape"
   ]
  },
  {
   "cell_type": "code",
   "execution_count": 341,
   "metadata": {},
   "outputs": [
    {
     "data": {
      "text/plain": [
       "DeviceArray([ 1.00000000e+00, -9.03195889e-01,  3.11397927e-02,\n",
       "              3.12360946e-02,  3.14232967e-02,  3.12560125e-02,\n",
       "              3.12564190e-02,  3.12070433e-02,  3.13564939e-02,\n",
       "              3.11439201e-02,  3.12464495e-02,  3.13399200e-02,\n",
       "              3.13145103e-02,  3.13801056e-02,  3.13175889e-02,\n",
       "              3.12243315e-02,  3.11697930e-02,  3.10326842e-02,\n",
       "              3.09738626e-02,  3.10370692e-02,  3.03998399e-02,\n",
       "              3.03240257e-02,  2.97882601e-02,  2.90421025e-02,\n",
       "              2.81102243e-02,  2.64685644e-02,  2.40534811e-02,\n",
       "              2.05750655e-02,  1.63392569e-02,  1.11251976e-02,\n",
       "              6.19166197e-03,  2.22919575e-03,  3.60007336e-04],            dtype=float64)"
      ]
     },
     "execution_count": 341,
     "metadata": {},
     "output_type": "execute_result"
    }
   ],
   "source": [
    "jnp.prod(curr_x ** powers, axis=1)"
   ]
  },
  {
   "cell_type": "code",
   "execution_count": 303,
   "metadata": {},
   "outputs": [
    {
     "data": {
      "text/plain": [
       "<matplotlib.collections.PathCollection at 0x7fa60c4f3310>"
      ]
     },
     "execution_count": 303,
     "metadata": {},
     "output_type": "execute_result"
    },
    {
     "data": {
      "image/png": "[encoded data removed]",
      "text/plain": [
       "<Figure size 640x480 with 2 Axes>"
      ]
     },
     "metadata": {},
     "output_type": "display_data"
    }
   ],
   "source": [
    "X = jnp.linspace(-1, 2, 100)\n",
    "X, Y = jnp.meshgrid(X, X)\n",
    "XY = jnp.vstack([X.ravel(), Y.ravel()])\n",
    "\n",
    "\n",
    "Z = rbf(XY.T).reshape(X.shape[0], Y.shape[0])\n",
    "# Z = jnp.diag(XY.T @ G @ XY).reshape(X.shape[0], Y.shape[0])\n",
    "\n",
    "\n",
    "\n",
    "\n",
    "\n",
    "cp = plt.contourf(X, Y, Z)\n",
    "plt.colorbar(cp)\n",
    "\n",
    "plt.scatter(optimizer.interp_points[0], optimizer.interp_points[1])"
   ]
  },
  {
   "cell_type": "code",
   "execution_count": 161,
   "metadata": {},
   "outputs": [
    {
     "data": {
      "text/plain": [
       "array([[0, 0]])"
      ]
     },
     "execution_count": 161,
     "metadata": {},
     "output_type": "execute_result"
    }
   ],
   "source": [
    "rbf.powers"
   ]
  },
  {
   "cell_type": "code",
   "execution_count": 159,
   "metadata": {},
   "outputs": [
    {
     "data": {
      "text/plain": [
       "array([0.4281817 , 0.45000815])"
      ]
     },
     "execution_count": 159,
     "metadata": {},
     "output_type": "execute_result"
    }
   ],
   "source": [
    "rbf._shift"
   ]
  },
  {
   "cell_type": "code",
   "execution_count": 158,
   "metadata": {},
   "outputs": [
    {
     "data": {
      "text/plain": [
       "array([[-1.88163270e+09],\n",
       "       [-2.04421645e+09],\n",
       "       [-5.30700478e+11],\n",
       "       [ 4.92679708e+09],\n",
       "       [ 4.16520475e+09],\n",
       "       [ 9.96431599e+11],\n",
       "       [-2.49548983e+12],\n",
       "       [ 4.71130503e+12],\n",
       "       [ 4.52406891e+12],\n",
       "       [ 3.67993970e+12],\n",
       "       [-4.37158091e+12],\n",
       "       [-1.03174296e+13],\n",
       "       [-8.45110788e+12],\n",
       "       [ 9.73702708e+12],\n",
       "       [ 1.73807087e+12],\n",
       "       [ 2.62852845e+12],\n",
       "       [-2.31301844e+12],\n",
       "       [ 3.98669918e+12],\n",
       "       [-3.01594057e+11],\n",
       "       [-3.49287702e+12],\n",
       "       [ 5.02414409e+12],\n",
       "       [-2.10644289e+12],\n",
       "       [-3.50985826e+11],\n",
       "       [-1.16584728e+11],\n",
       "       [ 1.88511895e+12],\n",
       "       [-2.93693502e+12],\n",
       "       [ 6.63127150e+11],\n",
       "       [-4.30549347e+10],\n",
       "       [-2.40769755e+12],\n",
       "       [-5.42380943e+12],\n",
       "       [ 6.80012013e+12],\n",
       "       [ 1.97061577e+12],\n",
       "       [-2.75110403e+12],\n",
       "       [ 1.89363292e+12],\n",
       "       [ 1.41836591e+12],\n",
       "       [ 2.83422433e+12],\n",
       "       [-2.65037557e+12],\n",
       "       [-9.58892241e+11],\n",
       "       [-3.77987110e+12],\n",
       "       [-3.25210255e+11],\n",
       "       [ 1.79501449e+12],\n",
       "       [-2.98112714e+11],\n",
       "       [-1.56604454e+12],\n",
       "       [ 7.99228880e+11],\n",
       "       [-3.73755924e+12],\n",
       "       [-1.91238430e+12],\n",
       "       [-1.63462765e+11],\n",
       "       [-1.37893603e+12],\n",
       "       [-2.20720047e+12],\n",
       "       [ 3.03494057e+11],\n",
       "       [-2.40633684e+12],\n",
       "       [ 4.55883178e+12],\n",
       "       [-2.72029763e+12],\n",
       "       [ 1.50971095e+12],\n",
       "       [ 1.32430925e+12],\n",
       "       [ 2.33622844e+12],\n",
       "       [ 3.80515794e+12],\n",
       "       [ 2.08108850e+12],\n",
       "       [-3.43242099e+12],\n",
       "       [ 2.93786677e+12],\n",
       "       [ 1.71091069e+05]])"
      ]
     },
     "execution_count": 158,
     "metadata": {},
     "output_type": "execute_result"
    }
   ],
   "source": [
    "rbf._coeffs"
   ]
  },
  {
   "cell_type": "code",
   "execution_count": 180,
   "metadata": {},
   "outputs": [
    {
     "data": {
      "text/plain": [
       "array([1.72603327e+09])"
      ]
     },
     "execution_count": 180,
     "metadata": {},
     "output_type": "execute_result"
    }
   ],
   "source": [
    "curr_x = optimizer.interp_points[:, -1]\n",
    "\n",
    "I = jnp.eye(2)\n",
    "\n",
    "rbf(curr_x.reshape(1, -1))"
   ]
  },
  {
   "cell_type": "code",
   "execution_count": null,
   "metadata": {},
   "outputs": [],
   "source": []
  },
  {
   "cell_type": "code",
   "execution_count": 179,
   "metadata": {},
   "outputs": [],
   "source": [
    "rbf._coeffs[0][0] = 0"
   ]
  },
  {
   "cell_type": "code",
   "execution_count": 171,
   "metadata": {},
   "outputs": [],
   "source": [
    "# [0.4281817 , 0.45000815])\n",
    "rbf._shift[1] = 0"
   ]
  },
  {
   "cell_type": "code",
   "execution_count": 172,
   "metadata": {},
   "outputs": [
    {
     "data": {
      "text/plain": [
       "array([0.21863844])"
      ]
     },
     "execution_count": 172,
     "metadata": {},
     "output_type": "execute_result"
    }
   ],
   "source": [
    "curr_x = optimizer.interp_points[:, -1]\n",
    "\n",
    "I = jnp.eye(2)\n",
    "\n",
    "rbf(curr_x.reshape(1, -1))"
   ]
  },
  {
   "cell_type": "code",
   "execution_count": 174,
   "metadata": {},
   "outputs": [],
   "source": [
    "rbf._scale[0] = 1000"
   ]
  },
  {
   "cell_type": "code",
   "execution_count": null,
   "metadata": {},
   "outputs": [],
   "source": []
  }
 ],
 "metadata": {
  "kernelspec": {
   "display_name": "Python (simplex_grad)",
   "language": "python",
   "name": "simplex_grad"
  },
  "language_info": {
   "codemirror_mode": {
    "name": "ipython",
    "version": 3
   },
   "file_extension": ".py",
   "mimetype": "text/x-python",
   "name": "python",
   "nbconvert_exporter": "python",
   "pygments_lexer": "ipython3",
   "version": "3.10.0"
  }
 },
 "nbformat": 4,
 "nbformat_minor": 2
}
