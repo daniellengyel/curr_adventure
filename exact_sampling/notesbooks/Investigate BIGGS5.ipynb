{
 "cells": [
  {
   "cell_type": "code",
   "execution_count": 1,
   "metadata": {},
   "outputs": [],
   "source": [
    "import jax.numpy as jnp\n",
    "import jax.random as jrandom\n",
    "\n",
    "import matplotlib.pyplot as plt\n",
    "import pandas as pd\n",
    "from jax import jit, grad, jacfwd, jacrev\n",
    "\n",
    "import pycutest\n",
    "\n",
    "\n",
    "from scipy.stats import linregress\n",
    "\n",
    "from tqdm import tqdm\n",
    "import pickle\n",
    "\n",
    "import numpy as np\n",
    "\n",
    "from tqdm import tqdm\n",
    "\n",
    "from jax.config import config\n",
    "config.update(\"jax_enable_x64\", True)\n",
    "\n",
    "import matplotlib.pyplot as plt\n",
    "\n",
    "%matplotlib inline\n",
    "plt.rcParams['figure.figsize'] = [12,12]\n",
    "plt.style.use('ggplot')\n",
    "plt.rcParams['lines.markersize'] = 8\n",
    "plt.rcParams.update({'font.size': 12})"
   ]
  },
  {
   "cell_type": "code",
   "execution_count": 2,
   "metadata": {},
   "outputs": [],
   "source": [
    "import sys\n",
    "sys.path.append(\"..\")\n",
    "from Functions import PyCutestWrapper\n",
    "from USimplex import USD"
   ]
  },
  {
   "cell_type": "code",
   "execution_count": null,
   "metadata": {},
   "outputs": [],
   "source": []
  },
  {
   "cell_type": "code",
   "execution_count": null,
   "metadata": {},
   "outputs": [],
   "source": []
  },
  {
   "cell_type": "code",
   "execution_count": 545,
   "metadata": {},
   "outputs": [],
   "source": [
    "def simplex_gradient(F, x_0, S, jrandom_key_f):\n",
    "    num_func_calls = 0\n",
    "    jrandom_key, subkey = jrandom.split(jrandom_key_f)\n",
    "    FS = []\n",
    "    for s_i in S.T:\n",
    "        jrandom_key, subkey = jrandom.split(jrandom_key)\n",
    "        FS.append(F.f(s_i + x_0, subkey))\n",
    "        num_func_calls += 1\n",
    "    FS = jnp.array(FS)\n",
    "    jrandom_key, subkey = jrandom.split(jrandom_key)\n",
    "    F_x_0 = F.f(x_0, subkey)\n",
    "    num_func_calls += 1\n",
    "    SS_inv = jnp.linalg.inv(S.dot(S.T))\n",
    "    return SS_inv.dot(S.dot(FS - F_x_0)), num_func_calls\n",
    "\n",
    "\n",
    "\n",
    "\n",
    "def get_a(D_min, sum_sqrt, dim, sig):\n",
    "    disc = sig**4 * (sum_sqrt**2) * (8 * (dim + 1) * D_min + sum_sqrt**2)\n",
    "    return 1/jnp.sqrt(dim * D_min) * jnp.sqrt(jnp.sqrt(disc) + 2 * (dim + 1) * D_min * sig**2 + sig**2 * sum_sqrt**2)\n",
    "\n",
    "def get_lambda_max(D_min, sum_sqrt, dim, sig):\n",
    "    disc = sig**4 * (sum_sqrt**2) * (8 * (dim + 1) * D_min + sum_sqrt**2)\n",
    "    numerator = jnp.sqrt(disc) + 4 * (dim + 1) * D_min * sig**2 + sig**2 * sum_sqrt**2\n",
    "    denom = D_min**(1.5) * 2 * jnp.sqrt(1/dim) * jnp.sqrt(jnp.sqrt(disc) + 2 * (dim + 1) * D_min * sig**2 + sig**2 * sum_sqrt**2)\n",
    "    return numerator/denom\n",
    "\n",
    "def get_full_sing_vals(D, dim, sig):\n",
    "    D_diag = jnp.abs(jnp.diag(D))\n",
    "    max_row = jnp.argmin(D_diag)\n",
    "    sum_sqrt = jnp.sum(jnp.sqrt(D_diag)) - jnp.sqrt(D_diag[max_row])\n",
    "    lmbda_max = get_lambda_max(jnp.min(D_diag), sum_sqrt, dim, sig)\n",
    "    a = get_a(jnp.min(D_diag), sum_sqrt, dim, sig)\n",
    "    lmbda = sig*np.array(jnp.sqrt(lmbda_max / (a * D_diag)))\n",
    "    lmbda = lmbda.at[max_row].set(lmbda_max)\n",
    "    lmbda = jnp.array(lmbda)\n",
    "    sing_val = jnp.sqrt(lmbda)\n",
    "    return sing_val\n",
    "\n",
    "def loss_getter(dim, N, H, sig):\n",
    "    def helper(X):\n",
    "\n",
    "        S = X.reshape(N, dim).T\n",
    "        \n",
    "        S_inv = jnp.linalg.inv(S)\n",
    "        \n",
    "        first_term = S_inv.T @ jnp.diag(S.T @ H @ S)\n",
    "        second_term = jnp.linalg.norm(S_inv, ord=\"fro\")**2\n",
    "        third_term = S_inv.T @ jnp.ones(dim)\n",
    "        third_term = jnp.linalg.norm(third_term)**2\n",
    "        \n",
    "        return 1/2 * jnp.linalg.norm(first_term)**2 + sig**2 * (second_term + third_term)\n",
    "\n",
    "    return helper\n",
    "\n",
    "\n",
    "def generate_regular_simplex(dim):\n",
    "    res = []\n",
    "    I = np.eye(dim)\n",
    "    for i in range(dim):\n",
    "        res.append(jnp.sqrt(1 + 1/dim) * I[i] - 1/pow(dim, 3/2) *(np.sqrt(dim + 1) + 1) * np.ones(dim))\n",
    "        \n",
    "    res.append(1/np.sqrt(dim) * np.ones(dim))\n",
    "    \n",
    "    return jnp.array(res).T\n",
    "\n",
    "def convert_to_U(W, to_insert):\n",
    "    dim = W.shape[0] + 1\n",
    "    V = generate_regular_simplex(dim - 1)\n",
    "    tmp_U = (jnp.sqrt((dim - 1)/dim) * W @ V)\n",
    "    U = jnp.insert(tmp_U, to_insert, jnp.ones(shape=(1, dim))/jnp.sqrt(dim), axis=0)\n",
    "    return U\n",
    "\n",
    "def construct_c(sing_vals, D):\n",
    "    return sing_vals**2 * jnp.diag(D)\n",
    "\n",
    "def orthog_linesearch(l, c1, c2):\n",
    "\n",
    "    def helper(X, search_direction, A):\n",
    "        f0 = l(X)\n",
    "        g_tau_0 = -1/2 * jnp.linalg.norm(A, \"fro\")**2\n",
    "        \n",
    "        def armijo_rule(alpha):\n",
    "            return (l(search_direction(alpha)) > f0 + c1*alpha*g_tau_0) # and alpha > 0.001\n",
    "        \n",
    "        def armijo_update(alpha):\n",
    "            return c2*alpha\n",
    "            \n",
    "        alpha = 1\n",
    "        max_calls = 1000\n",
    "        while armijo_rule(alpha):# and max_calls > 0:\n",
    "            alpha = armijo_update(alpha)\n",
    "            max_calls -= 1\n",
    "\n",
    "        return alpha\n",
    "\n",
    "    return helper\n",
    "\n",
    "\n",
    "def optimize_W(c, num_iter, x_init=None):\n",
    "    \"\"\"Constraint is U.c = \\bar{c} 1 and U.U^T = I\"\"\"\n",
    "    \n",
    "    dim = len(c)\n",
    "    \n",
    "    V = generate_regular_simplex(dim)\n",
    "    \n",
    "    # init X\n",
    "    if x_init is None:\n",
    "        X = jnp.eye(dim)\n",
    "    else:\n",
    "        X = x_init\n",
    "    I = jnp.eye(dim)\n",
    "    \n",
    "    \n",
    "    def l(U):\n",
    "        U_matrix = U.reshape(dim, dim)\n",
    "        return jnp.linalg.norm(jnp.diag(V.T @ U_matrix.T @ jnp.diag(c) @ U_matrix @ V) - jnp.ones(dim + 1) * jnp.mean(c)) \n",
    "    \n",
    "    \n",
    "    g_l = grad(l)\n",
    "    linesearch = orthog_linesearch(l, c1=0.1, c2=0.9)\n",
    "\n",
    "\n",
    "    eps = 1e-4\n",
    "    l_eps = 1e-2\n",
    "    \n",
    "    l_hist = []\n",
    "    for _ in tqdm(range(num_iter)):\n",
    "        num_iter -= 1\n",
    "        \n",
    "        G = g_l(X.flatten()).reshape(dim, dim)\n",
    "        l_hist.append(l(X))\n",
    "        \n",
    "        if l_hist[-1] < l_eps:\n",
    "            break\n",
    "\n",
    "        if jnp.linalg.norm(G) < eps:\n",
    "            break\n",
    "        \n",
    "        A = G @ X.T - X @ G.T\n",
    "                \n",
    "        Y = lambda tau: jnp.linalg.inv(I + tau/2 * A) @ (I - tau/2 * A) @ X\n",
    "        \n",
    "        alpha = linesearch(X, Y, A)\n",
    "\n",
    "        \n",
    "        X = Y(alpha)\n",
    "    # plt.plot(l_hist)\n",
    "    # plt.show()\n",
    "    print(l_hist[-1])\n",
    "    return X, l_hist\n",
    "\n",
    "\n",
    "def create_S(H, sig, num_iter=10, x_init=None):\n",
    "    dim = H.shape[0] \n",
    "\n",
    "    H = (H + H.T) / 2. # to combat numerical inaccuracies. \n",
    "    D, U_D = jnp.linalg.eig(H)\n",
    "    U_D = jnp.real(U_D)\n",
    "    D = jnp.abs(jnp.real(jnp.diag(D)))\n",
    "    # print(repr(jnp.diag(D)))\n",
    "    # D = D + 0.01 * jnp.eye(dim)\n",
    "    # print(D)\n",
    "\n",
    "    sing_vals = get_full_sing_vals(D, dim, sig)\n",
    "    c = construct_c(sing_vals, D)\n",
    "    min_D = jnp.diag(D).argmin()\n",
    "    W, l_hist = optimize_W(np.delete(c, min_D), num_iter, x_init=x_init) \n",
    "    U = convert_to_U(W, min_D)\n",
    "    S = jnp.diag(sing_vals) @ U\n",
    "\n",
    "    return U_D @ S, W\n"
   ]
  },
  {
   "cell_type": "code",
   "execution_count": 546,
   "metadata": {},
   "outputs": [],
   "source": [
    "cutest_f = pycutest.import_problem(\"BIGGS5\")\n",
    "eps = 0.1\n",
    "sig = eps/jnp.sqrt(3)\n",
    "noise_type = \"uniform\"\n",
    "F = PyCutestWrapper(cutest_f, eps, noise_type)\n",
    "x_0 = jnp.array(cutest_f.x0)\n",
    "jrandom_key = jrandom.PRNGKey(0)\n",
    "\n"
   ]
  },
  {
   "cell_type": "code",
   "execution_count": 547,
   "metadata": {},
   "outputs": [],
   "source": [
    "H = F.f2(x_0)\n",
    "f1 = F.f1(x_0)\n",
    "\n",
    "dim = H.shape[0] \n",
    "\n",
    "H = (H + H.T) / 2. # to combat numerical inaccuracies. \n",
    "D, U_D = jnp.linalg.eig(H)\n",
    "U_D = jnp.real(U_D)\n",
    "D = jnp.real(jnp.diag(D))\n",
    "\n",
    "\n",
    "mse_loss = loss_getter(dim, dim, H, sig)"
   ]
  },
  {
   "cell_type": "code",
   "execution_count": 385,
   "metadata": {},
   "outputs": [
    {
     "name": "stderr",
     "output_type": "stream",
     "text": [
      "100%|███████████████████████████████████████| 1000/1000 [00:22<00:00, 44.07it/s]\n"
     ]
    },
    {
     "name": "stdout",
     "output_type": "stream",
     "text": [
      "0.2619609503742462\n"
     ]
    },
    {
     "data": {
      "image/png": "[encoded data removed]",
      "text/plain": [
       "<Figure size 864x864 with 1 Axes>"
      ]
     },
     "metadata": {},
     "output_type": "display_data"
    }
   ],
   "source": [
    "sing_vals = get_full_sing_vals(D, dim, sig)\n",
    "c = construct_c(sing_vals, D)\n",
    "min_D = jnp.diag(D).argmin()\n",
    "\n",
    "\n",
    "W, l_hist = optimize_W(np.delete(c, min_D), 1000, x_init=jnp.eye(dim - 1)) \n",
    "plt.plot(l_hist)\n",
    "plt.show()\n"
   ]
  },
  {
   "cell_type": "code",
   "execution_count": 386,
   "metadata": {},
   "outputs": [
    {
     "data": {
      "text/plain": [
       "DeviceArray(98.1855226, dtype=float64)"
      ]
     },
     "execution_count": 386,
     "metadata": {},
     "output_type": "execute_result"
    }
   ],
   "source": [
    "U = convert_to_U(W, min_D)\n",
    "S = jnp.diag(sing_vals) @ U\n",
    "S = U_D @ S\n",
    "\n",
    "mse_loss(S)"
   ]
  },
  {
   "cell_type": "code",
   "execution_count": 387,
   "metadata": {},
   "outputs": [
    {
     "data": {
      "text/plain": [
       "DeviceArray([1.16301614, 0.88484976, 0.97171415, 0.97171383, 1.16300658,\n",
       "             3.70486369], dtype=float64)"
      ]
     },
     "execution_count": 387,
     "metadata": {},
     "output_type": "execute_result"
    }
   ],
   "source": [
    "V = generate_regular_simplex(5)\n",
    "U_matrix = U\n",
    "\n",
    "jnp.diag(V.T @ U_matrix.T @ jnp.diag(c) @ U_matrix @ V)\n"
   ]
  },
  {
   "cell_type": "code",
   "execution_count": 447,
   "metadata": {},
   "outputs": [
    {
     "name": "stdout",
     "output_type": "stream",
     "text": [
      "true grad [ 1.26263701 -0.58071465 -0.61127356 -0.26607037  0.30967437]\n"
     ]
    }
   ],
   "source": [
    "print(\"true grad\", F.f1(x_0))"
   ]
  },
  {
   "cell_type": "code",
   "execution_count": 642,
   "metadata": {},
   "outputs": [
    {
     "name": "stdout",
     "output_type": "stream",
     "text": [
      "simplex grad (DeviceArray([ 1.52985436, -0.40769232,  3.62673255,  2.05152286,\n",
      "              0.2820486 ], dtype=float64), 6)\n",
      "simplex grad (DeviceArray([-28.27337028,   1.22197152,  24.71828913,  -9.97615798,\n",
      "              -7.70390385], dtype=float64), 6)\n",
      "simplex grad opt_S (DeviceArray([ 0.21725892, -0.59387414, -0.44979869, -0.33098876,\n",
      "             -0.23477427], dtype=float64), 6)\n"
     ]
    }
   ],
   "source": [
    "jrandom_key, subkey = jrandom.split(jrandom_key)\n",
    "print(\"simplex grad\", simplex_gradient(F, x_0, jnp.diag(sing_vals), jrandom_key))\n",
    "print(\"simplex grad\", simplex_gradient(F, x_0, S, jrandom_key))\n",
    "print(\"simplex grad opt_S\", simplex_gradient(F, x_0, opt_S, jrandom_key))\n",
    "\n",
    "\n",
    "\n"
   ]
  },
  {
   "cell_type": "code",
   "execution_count": null,
   "metadata": {},
   "outputs": [],
   "source": []
  },
  {
   "cell_type": "code",
   "execution_count": null,
   "metadata": {},
   "outputs": [],
   "source": []
  },
  {
   "cell_type": "code",
   "execution_count": null,
   "metadata": {},
   "outputs": [],
   "source": []
  },
  {
   "cell_type": "code",
   "execution_count": 452,
   "metadata": {},
   "outputs": [
    {
     "data": {
      "text/plain": [
       "(DeviceArray([[ 0.01205802, -0.64039668,  0.2669273 , -0.67088887,\n",
       "               -0.2615428 ],\n",
       "              [ 0.55937332, -0.54540392,  0.23077164,  0.53908061,\n",
       "                0.21394533],\n",
       "              [ 0.39291472,  0.15666659, -0.13558945, -0.48907383,\n",
       "                0.75066363],\n",
       "              [ 0.70461442,  0.4330183 ,  0.13479597, -0.14156613,\n",
       "               -0.52706997],\n",
       "              [ 0.18998062, -0.28350907, -0.91593658, -0.00812647,\n",
       "               -0.21100738]], dtype=float64),\n",
       " DeviceArray([13.11861449,  1.14270195,  1.0298615 ,  0.77327792,\n",
       "               0.40538438], dtype=float64),\n",
       " DeviceArray([[ 4.47213595e-01,  4.47213595e-01,  4.47213595e-01,\n",
       "                4.47213595e-01,  4.47213595e-01],\n",
       "              [ 7.07105396e-01,  6.44379372e-07,  1.62577464e-04,\n",
       "               -1.60489324e-04, -7.07108129e-01],\n",
       "              [-1.60532030e-04, -5.69582878e-06,  7.07108609e-01,\n",
       "               -7.07104916e-01,  1.62534755e-04],\n",
       "              [ 8.48454847e-02, -8.63204468e-01,  3.46752293e-01,\n",
       "                3.46761298e-01,  8.48453922e-02],\n",
       "              [ 5.41112905e-01, -2.34260639e-01, -4.23981409e-01,\n",
       "               -4.23980205e-01,  5.41109348e-01]], dtype=float64))"
      ]
     },
     "execution_count": 452,
     "metadata": {},
     "output_type": "execute_result"
    }
   ],
   "source": [
    "jnp.linalg.svd(S)"
   ]
  },
  {
   "cell_type": "code",
   "execution_count": 453,
   "metadata": {},
   "outputs": [
    {
     "data": {
      "text/plain": [
       "DeviceArray([ 0.40538438,  0.77327792,  1.0298615 ,  1.14270195,\n",
       "             13.11861449], dtype=float64)"
      ]
     },
     "execution_count": 453,
     "metadata": {},
     "output_type": "execute_result"
    }
   ],
   "source": [
    "sing_vals"
   ]
  },
  {
   "cell_type": "code",
   "execution_count": 964,
   "metadata": {},
   "outputs": [],
   "source": [
    "\n",
    "\n",
    "def helper_linesearch(f, g, c1, c2):\n",
    "\n",
    "    def helper(X, search_direction):\n",
    "        f0 = f(X)\n",
    "        f1 = g(X)\n",
    "        dg = jnp.inner(search_direction, f1)\n",
    "\n",
    "        def armijo_rule(alpha):\n",
    "            return f(X + alpha * search_direction) > f0 + c1*alpha*dg\n",
    "        \n",
    "        def armijo_update(alpha):\n",
    "            return c2*alpha\n",
    "            \n",
    "        alpha = 1\n",
    "        while armijo_rule(alpha):\n",
    "            alpha = armijo_update(alpha)\n",
    "\n",
    "\n",
    "        return alpha\n",
    "\n",
    "    return helper\n",
    "\n",
    "# def loss_getter(dim, N, H, sig):\n",
    "#     def helper(X):\n",
    "\n",
    "#         U = X.reshape(N, dim).T\n",
    "#         S = U\n",
    "        \n",
    "#         S_inv = jnp.linalg.inv(S)\n",
    "        \n",
    "#         first_term = S_inv.T @ jnp.diag(S.T @ H @ S)\n",
    "#         second_term = jnp.linalg.norm(S_inv, ord=\"fro\")**2\n",
    "#         third_term = S_inv.T @ jnp.ones(dim)\n",
    "#         third_term = jnp.linalg.norm(third_term)**2\n",
    "        \n",
    "#         return jnp.linalg.norm(first_term)**2 + sig**2 * (second_term + third_term)\n",
    "\n",
    "#     return helper\n",
    "\n",
    "def loss_getter(dim, N, H, sig):\n",
    "    def helper(X):\n",
    "\n",
    "        S = X.reshape(N, dim).T\n",
    "        \n",
    "        S_inv = jnp.linalg.inv(S)\n",
    "        \n",
    "        first_term = S_inv.T @ jnp.diag(S.T @ H @ S)\n",
    "        second_term = jnp.linalg.norm(S_inv, ord=\"fro\")**2\n",
    "        third_term = S_inv.T @ jnp.ones(dim)\n",
    "        third_term = jnp.linalg.norm(third_term)**2\n",
    "        return 1/2 * jnp.linalg.norm(first_term)**2 + sig**2 * (second_term + third_term) + jnp.linalg.norm(S)**4\n",
    "\n",
    "    return helper\n",
    "\n",
    "def optimize_uncentered_S(H, sig, max_steps=15, jrandom_key=None, x_curr=None):\n",
    "    \n",
    "    dim = H.shape[0]\n",
    "    N = dim\n",
    "    \n",
    "    H = (H + H.T) / 2. # to combat numerical inaccuracies. \n",
    "    D, U = jnp.linalg.eig(H)\n",
    "    U = jnp.real(U)\n",
    "\n",
    "    # print(\"D\", repr(jnp.real(D)))\n",
    "#     D = jnp.abs(jnp.real(jnp.diag(D)))\n",
    "    D = jnp.diag(D)\n",
    "\n",
    "    if x_curr is None:\n",
    "\n",
    "        if jrandom_key is None:\n",
    "            x_curr = jnp.diag(jnp.sqrt(sig / jnp.abs(jnp.diag(D)))).flatten()\n",
    "            pass\n",
    "        else:\n",
    "            x_curr = jrandom.normal(jrandom_key, shape=(dim * dim,)) * 0.1\n",
    "        \n",
    "\n",
    "    \n",
    "    l = loss_getter(dim, N, D, sig)\n",
    "    g_l = grad(l)\n",
    "    h_l = jacfwd(g_l)\n",
    "    linesearch = helper_linesearch(l, g_l, c1=0.1, c2=0.9)\n",
    "\n",
    "    eps = 1e-20\n",
    "\n",
    "    res = []\n",
    "    res_x = []\n",
    "\n",
    "    for t in tqdm(range(max_steps)):\n",
    "\n",
    "        \n",
    "        res.append(l(x_curr))\n",
    "#         res_x.append(U.dot(x_curr.reshape(N, dim).T)) # TURN ON FOR HISTORY \n",
    "\n",
    "        curr_grad = g_l(x_curr)\n",
    "#         print(curr_grad)\n",
    "    \n",
    "        # print(curr_grad)\n",
    "        curr_hess = h_l(x_curr) #+ 0.1*jnp.eye(dim**2)\n",
    "        search_direction = -jnp.linalg.inv(curr_hess) @ curr_grad #+ np.random.normal(size=(dim**2))*0.1\n",
    "#         search_direction = -curr_grad + np.random.normal(size=(dim * dim))*0.1\n",
    "\n",
    "        if jnp.linalg.norm(curr_grad) < eps:\n",
    "            break    \n",
    "\n",
    "        alpha = linesearch(x_curr, search_direction)\n",
    "\n",
    "\n",
    "        S = x_curr.reshape(N, dim).T\n",
    "\n",
    "        SS = S.dot(S.T)\n",
    "\n",
    "        x_curr += alpha*search_direction \n",
    "    \n",
    "    return U.dot(x_curr.reshape(N, dim).T), res"
   ]
  },
  {
   "cell_type": "code",
   "execution_count": 965,
   "metadata": {},
   "outputs": [
    {
     "name": "stderr",
     "output_type": "stream",
     "text": [
      "100%|███████████████████████████████████████████| 10/10 [00:01<00:00,  7.25it/s]\n"
     ]
    }
   ],
   "source": [
    "jrandom_key = jrandom.PRNGKey(12)\n",
    "jrandom_key, subkey = jrandom.split(jrandom_key)\n",
    "\n",
    "D = jnp.diag(jnp.array([-15, -1, -3, 4, 20]))\n",
    "dim = 5\n",
    "sig = 0.1\n",
    "\n",
    "l = loss_getter(dim, dim, D, sig)\n",
    "g_l = grad(l)\n",
    "\n",
    "opt_S, l_hist = optimize_uncentered_S(D, sig=sig, max_steps=10, jrandom_key=jrandom_key, x_curr=opt_S.T.flatten())\n",
    "\n"
   ]
  },
  {
   "cell_type": "code",
   "execution_count": 966,
   "metadata": {},
   "outputs": [
    {
     "data": {
      "text/plain": [
       "[<matplotlib.lines.Line2D at 0x7fb7ef6f46a0>]"
      ]
     },
     "execution_count": 966,
     "metadata": {},
     "output_type": "execute_result"
    },
    {
     "data": {
      "image/png": "[encoded data removed]",
      "text/plain": [
       "<Figure size 864x864 with 1 Axes>"
      ]
     },
     "metadata": {},
     "output_type": "display_data"
    }
   ],
   "source": [
    "plt.plot(l_hist)"
   ]
  },
  {
   "cell_type": "code",
   "execution_count": 967,
   "metadata": {},
   "outputs": [
    {
     "data": {
      "text/plain": [
       "DeviceArray([-9.01673181e-12,  2.18985940e-12, -8.19552759e-13,\n",
       "              1.59705582e-12,  7.06629200e-12,  1.96445638e-12,\n",
       "              2.04847250e-12,  1.11537168e-12, -2.17026050e-13,\n",
       "             -3.75888209e-12, -5.80907544e-12,  1.08352216e-12,\n",
       "             -1.92096339e-12, -3.92866295e-13, -5.62594415e-12,\n",
       "              3.55912522e-12,  6.50979270e-13, -5.17619281e-12,\n",
       "             -7.64638353e-13,  9.82375292e-12,  3.22636362e-12,\n",
       "              4.37205827e-13,  3.86357613e-14,  1.36135547e-12,\n",
       "             -3.66917607e-12], dtype=float64)"
      ]
     },
     "execution_count": 967,
     "metadata": {},
     "output_type": "execute_result"
    }
   ],
   "source": [
    "g_l(opt_S.T.flatten())"
   ]
  },
  {
   "cell_type": "code",
   "execution_count": null,
   "metadata": {},
   "outputs": [],
   "source": []
  },
  {
   "cell_type": "code",
   "execution_count": 940,
   "metadata": {},
   "outputs": [
    {
     "data": {
      "text/plain": [
       "[DeviceArray([ 1.30720795e+03+0.j,  8.27363014e+02+0.j,\n",
       "               5.90981479e+02+0.j,  4.24048118e+01+0.j,\n",
       "               3.95600313e+01+0.j, -2.73588573e+01+0.j,\n",
       "               4.84037490e+01+0.j, -2.39439687e+01+0.j,\n",
       "               2.40536480e+01+0.j, -2.29936626e-03+0.j,\n",
       "               2.04360468e+01+0.j,  1.39694060e+01+0.j,\n",
       "               1.31466834e+01+0.j,  1.13595794e+01+0.j,\n",
       "               2.46115621e+00+0.j,  8.75240173e+00+0.j,\n",
       "               9.93114886e+00+0.j,  1.02979358e+01+0.j,\n",
       "               5.22491574e+00+0.j,  4.46008174e+00+0.j,\n",
       "               4.72211452e+00+0.j,  6.40211690e-01+0.j,\n",
       "               1.01845237e+01+0.j,  3.69281923e+00+0.j,\n",
       "               4.63058215e+00+0.j], dtype=complex128),\n",
       " DeviceArray([[-1.18862301e-01+0.j,  4.86673419e-01+0.j,\n",
       "                4.71776718e-01+0.j,  3.00813832e-02+0.j,\n",
       "                8.64987946e-03+0.j, -1.48792843e-03+0.j,\n",
       "                3.92753567e-17+0.j,  4.10775740e-17+0.j,\n",
       "                2.54397978e-16+0.j,  2.54918850e-01+0.j,\n",
       "                6.79451752e-16+0.j, -2.03097856e-01+0.j,\n",
       "               -1.26472915e-03+0.j, -3.21588313e-01+0.j,\n",
       "               -9.72864975e-02+0.j, -7.03993519e-02+0.j,\n",
       "               -4.19345199e-01+0.j,  2.61710519e-01+0.j,\n",
       "                5.31228663e-03+0.j, -1.13352132e-01+0.j,\n",
       "                2.10171574e-01+0.j, -3.09785150e-15+0.j,\n",
       "               -2.71600645e-14+0.j, -1.95782356e-15+0.j,\n",
       "               -1.95994104e-14+0.j],\n",
       "              [ 6.69773622e-03+0.j, -2.84311164e-02+0.j,\n",
       "               -2.78530056e-02+0.j,  5.68181382e-02+0.j,\n",
       "                4.77663412e-03+0.j, -6.68374599e-02+0.j,\n",
       "                7.85272715e-18+0.j, -1.24515143e-16+0.j,\n",
       "                1.02428038e-16+0.j, -3.93405126e-04+0.j,\n",
       "               -1.79861835e-15+0.j,  1.00163552e-01+0.j,\n",
       "               -4.05155153e-01+0.j,  1.58384951e-01+0.j,\n",
       "               -5.23882286e-01+0.j,  6.99820810e-02+0.j,\n",
       "                1.43570626e-01+0.j, -1.74051493e-01+0.j,\n",
       "                1.42007070e-01+0.j, -1.99939102e-01+0.j,\n",
       "                6.33233792e-01+0.j, -5.67862786e-15+0.j,\n",
       "                2.01589317e-14+0.j, -3.36801186e-15+0.j,\n",
       "               -5.79753938e-14+0.j],\n",
       "              [ 7.98414823e-17+0.j, -3.98252425e-17+0.j,\n",
       "                1.97170111e-16+0.j,  3.31920664e-17+0.j,\n",
       "                7.92946808e-17+0.j, -3.01197984e-16+0.j,\n",
       "               -1.00137584e-01+0.j,  1.44747467e-01+0.j,\n",
       "                1.73276812e-03+0.j,  1.25330136e-14+0.j,\n",
       "               -3.86162318e-01+0.j,  6.61085527e-16+0.j,\n",
       "                1.86368075e-15+0.j,  5.54047405e-15+0.j,\n",
       "                2.17442107e-16+0.j, -3.02303189e-16+0.j,\n",
       "                1.83539411e-14+0.j, -3.09070991e-14+0.j,\n",
       "               -3.47655364e-15+0.j, -1.25124869e-15+0.j,\n",
       "               -8.22379402e-14+0.j,  5.92350119e-01+0.j,\n",
       "                3.77181936e-01+0.j,  4.41425675e-01+0.j,\n",
       "                3.63173227e-01+0.j],\n",
       "              [ 3.45621637e-02+0.j, -1.39121644e-01+0.j,\n",
       "               -1.35888239e-01+0.j, -6.54054620e-03+0.j,\n",
       "               -1.80038155e-02+0.j, -9.17092747e-03+0.j,\n",
       "               -1.99674929e-17+0.j, -2.24931369e-16+0.j,\n",
       "                2.06488436e-16+0.j, -5.18997241e-01+0.j,\n",
       "                3.05358877e-16+0.j, -2.33424635e-01+0.j,\n",
       "                3.79786573e-02+0.j, -2.01331388e-01+0.j,\n",
       "               -1.29111120e-01+0.j,  6.19918069e-01+0.j,\n",
       "               -4.38306593e-01+0.j, -4.91520282e-03+0.j,\n",
       "                2.26211236e-02+0.j, -3.25929846e-02+0.j,\n",
       "                5.75737118e-03+0.j,  2.05027470e-15+0.j,\n",
       "                9.69394263e-15+0.j,  2.38625454e-16+0.j,\n",
       "               -1.74614320e-16+0.j],\n",
       "              [ 1.19420974e-01+0.j, -4.91689074e-01+0.j,\n",
       "               -4.75548774e-01+0.j, -8.42667354e-03+0.j,\n",
       "               -2.92519875e-02+0.j, -3.64139464e-02+0.j,\n",
       "                1.78415905e-16+0.j,  2.37332464e-16+0.j,\n",
       "                1.59643438e-16+0.j,  3.99783182e-01+0.j,\n",
       "                3.71951295e-16+0.j, -1.42570265e-01+0.j,\n",
       "                5.21180393e-02+0.j, -2.67538597e-01+0.j,\n",
       "               -5.70235481e-02+0.j, -2.51738856e-01+0.j,\n",
       "               -2.88970680e-01+0.j,  2.69649002e-01+0.j,\n",
       "               -1.79520175e-02+0.j, -9.45686672e-02+0.j,\n",
       "                1.70384386e-01+0.j, -3.45620791e-15+0.j,\n",
       "               -3.06645863e-14+0.j, -1.64247632e-15+0.j,\n",
       "               -1.60344736e-14+0.j],\n",
       "              [ 1.21881006e-02+0.j,  1.52016302e-11+0.j,\n",
       "                3.31953684e-02+0.j, -8.81648421e-04+0.j,\n",
       "                8.35869381e-04+0.j, -6.99717203e-01+0.j,\n",
       "                3.30339429e-03+0.j,  6.75235503e-01+0.j,\n",
       "               -1.00338463e-03+0.j, -3.64581218e-13+0.j,\n",
       "               -3.07194221e-12+0.j, -1.38879491e-03+0.j,\n",
       "               -2.71624373e-14+0.j,  6.02944500e-03+0.j,\n",
       "               -2.82627292e-12+0.j,  9.70218726e-04+0.j,\n",
       "               -1.30530256e-12+0.j, -3.62535720e-03+0.j,\n",
       "               -7.57993734e-02+0.j, -1.05391917e-12+0.j,\n",
       "               -5.78443197e-02+0.j,  5.30902834e-13+0.j,\n",
       "               -1.97646241e-01+0.j, -6.78279782e-02+0.j,\n",
       "                1.95044854e-02+0.j],\n",
       "              [ 1.62613683e-04+0.j,  2.56766929e-13+0.j,\n",
       "                8.06501087e-04+0.j,  1.78660586e-03+0.j,\n",
       "               -7.14944456e-02+0.j, -3.88621787e-03+0.j,\n",
       "               -7.47003197e-03+0.j,  5.62287724e-02+0.j,\n",
       "                4.23684264e-01+0.j, -2.31932036e-13+0.j,\n",
       "                9.82630185e-12+0.j,  5.54618910e-01+0.j,\n",
       "               -4.55179966e-13+0.j, -4.22385448e-01+0.j,\n",
       "               -1.20218390e-12+0.j,  6.92320526e-02+0.j,\n",
       "               -4.78849335e-12+0.j, -6.33116218e-02+0.j,\n",
       "                1.25566746e-03+0.j,  3.68880999e-12+0.j,\n",
       "               -7.41318610e-03+0.j,  2.34562715e-12+0.j,\n",
       "                3.47975386e-01+0.j, -4.24140706e-01+0.j,\n",
       "                1.27639964e-01+0.j],\n",
       "              [-7.83370266e-03+0.j, -1.23647378e-11+0.j,\n",
       "               -3.23070424e-02+0.j, -9.59281936e-03+0.j,\n",
       "                7.02221173e-01+0.j, -1.43453758e-03+0.j,\n",
       "                4.74500328e-03+0.j, -4.17076168e-02+0.j,\n",
       "                5.66113571e-01+0.j, -6.14586550e-14+0.j,\n",
       "               -9.22682209e-12+0.j,  4.14666847e-02+0.j,\n",
       "                3.70223315e-13+0.j, -6.17595652e-02+0.j,\n",
       "               -2.51662949e-13+0.j,  9.08783694e-03+0.j,\n",
       "               -6.85993078e-13+0.j, -8.29197103e-03+0.j,\n",
       "                9.35268862e-04+0.j,  1.00243065e-12+0.j,\n",
       "               -5.30868159e-04+0.j, -1.74045844e-12+0.j,\n",
       "               -2.62954385e-01+0.j,  3.15516362e-01+0.j,\n",
       "               -9.51724815e-02+0.j],\n",
       "              [-8.65245594e-13+0.j,  3.48264956e-02+0.j,\n",
       "               -2.12156097e-11+0.j, -1.24274274e-13+0.j,\n",
       "               -4.37847061e-13+0.j, -1.49954336e-12+0.j,\n",
       "               -4.50236815e-13+0.j,  2.43846253e-12+0.j,\n",
       "                1.26344367e-12+0.j, -5.32468731e-05+0.j,\n",
       "                5.92350120e-01+0.j,  5.06461102e-12+0.j,\n",
       "                5.75795331e-01+0.j,  3.90355304e-12+0.j,\n",
       "               -3.60610105e-01+0.j,  1.17096955e-12+0.j,\n",
       "                1.53783433e-01+0.j,  1.48337484e-12+0.j,\n",
       "                4.61316735e-12+0.j, -1.16438211e-01+0.j,\n",
       "                2.51341242e-11+0.j,  3.86162318e-01+0.j,\n",
       "               -4.54892256e-12+0.j,  1.29411381e-11+0.j,\n",
       "               -2.59386232e-12+0.j],\n",
       "              [-2.52351787e-02+0.j,  7.74375972e-12+0.j,\n",
       "                2.07143004e-02+0.j, -7.00561137e-01+0.j,\n",
       "               -8.96931874e-03+0.j,  1.42655400e-03+0.j,\n",
       "                6.91303280e-01+0.j, -2.72597222e-03+0.j,\n",
       "                6.94026070e-04+0.j, -4.24967830e-14+0.j,\n",
       "                4.87612696e-13+0.j,  3.83279115e-04+0.j,\n",
       "               -6.29808815e-14+0.j,  9.03881514e-04+0.j,\n",
       "                3.51729576e-14+0.j, -1.57579744e-04+0.j,\n",
       "                3.94510826e-13+0.j, -2.15804386e-02+0.j,\n",
       "               -5.22560086e-02+0.j,  1.23499296e-11+0.j,\n",
       "                6.97733374e-02+0.j, -8.51327486e-14+0.j,\n",
       "                4.40044591e-03+0.j,  3.52033022e-02+0.j,\n",
       "                1.44337195e-01+0.j],\n",
       "              [ 6.25672331e-01+0.j,  1.18739497e-10+0.j,\n",
       "                1.56917822e-01+0.j, -2.99140022e-02+0.j,\n",
       "               -6.00802663e-04+0.j, -5.17342708e-03+0.j,\n",
       "               -5.02621548e-17+0.j,  4.23661893e-16+0.j,\n",
       "                1.17251803e-17+0.j, -9.56144515e-13+0.j,\n",
       "                2.27588613e-15+0.j, -2.59495395e-01+0.j,\n",
       "                1.09157060e-11+0.j, -2.89096777e-01+0.j,\n",
       "                1.54628705e-12+0.j, -2.06421490e-01+0.j,\n",
       "               -3.74219415e-11+0.j, -5.51975152e-01+0.j,\n",
       "                2.81050003e-01+0.j, -3.32806558e-11+0.j,\n",
       "               -7.61488551e-02+0.j,  2.79643208e-15+0.j,\n",
       "                6.70596731e-14+0.j,  3.94692095e-15+0.j,\n",
       "                1.24462822e-14+0.j],\n",
       "              [-2.93031187e-02+0.j, -5.97979945e-12+0.j,\n",
       "               -8.65890614e-03+0.j, -9.29534478e-02+0.j,\n",
       "                2.51981509e-03+0.j, -8.69900489e-02+0.j,\n",
       "               -4.80908004e-16+0.j,  3.75892942e-16+0.j,\n",
       "                4.65409264e-16+0.j,  8.50499911e-13+0.j,\n",
       "               -1.18986994e-15+0.j,  1.05352084e-01+0.j,\n",
       "               -2.33583236e-11+0.j,  1.00001652e-01+0.j,\n",
       "               -3.78208731e-13+0.j,  4.07399564e-02+0.j,\n",
       "                1.50002155e-11+0.j,  3.36445787e-01+0.j,\n",
       "                9.06614340e-01+0.j, -7.88474747e-11+0.j,\n",
       "               -1.57949116e-01+0.j,  8.58629122e-16+0.j,\n",
       "               -4.19595120e-14+0.j,  3.35640083e-15+0.j,\n",
       "                2.33265883e-14+0.j],\n",
       "              [ 1.08007044e-18+0.j,  4.41338468e-20+0.j,\n",
       "               -3.00132258e-19+0.j, -1.33798054e-16+0.j,\n",
       "                8.99942306e-17+0.j, -2.37895984e-16+0.j,\n",
       "                1.54809627e-01+0.j,  1.90769783e-01+0.j,\n",
       "                2.27080883e-03+0.j, -1.60800543e-16+0.j,\n",
       "               -1.20430641e-11+0.j,  2.06968857e-16+0.j,\n",
       "                5.60738662e-16+0.j,  3.99159539e-15+0.j,\n",
       "               -4.85311899e-17+0.j, -1.10740719e-14+0.j,\n",
       "                3.07726042e-14+0.j, -3.71421029e-14+0.j,\n",
       "                3.78217756e-15+0.j,  5.28940242e-15+0.j,\n",
       "                1.53232884e-13+0.j,  1.13443833e-11+0.j,\n",
       "                5.06790900e-01+0.j,  1.99286494e-01+0.j,\n",
       "               -8.01924928e-01+0.j],\n",
       "              [-3.33844136e-12+0.j,  5.43940042e-03+0.j,\n",
       "               -4.76643947e-12+0.j,  5.29758308e-13+0.j,\n",
       "               -1.11268575e-12+0.j,  2.27376991e-12+0.j,\n",
       "               -1.12835510e-16+0.j,  2.96999352e-17+0.j,\n",
       "               -4.03504043e-16+0.j,  1.07995306e-01+0.j,\n",
       "                8.11385278e-17+0.j, -5.37957222e-12+0.j,\n",
       "               -1.72493564e-02+0.j, -2.45637977e-12+0.j,\n",
       "               -3.63652785e-01+0.j, -3.84514766e-11+0.j,\n",
       "               -9.24230698e-02+0.j,  9.54919187e-12+0.j,\n",
       "                6.11762024e-11+0.j,  9.20447997e-01+0.j,\n",
       "               -1.08733814e-10+0.j, -1.90096330e-15+0.j,\n",
       "                2.82443331e-16+0.j,  5.85685352e-15+0.j,\n",
       "               -6.06829183e-15+0.j],\n",
       "              [ 7.39407810e-01+0.j,  1.40273382e-10+0.j,\n",
       "                1.85009128e-01+0.j, -1.43894677e-02+0.j,\n",
       "                2.87058462e-02+0.j,  3.74187812e-02+0.j,\n",
       "                8.56172455e-17+0.j, -5.07665388e-16+0.j,\n",
       "               -1.59028290e-16+0.j,  1.25986660e-12+0.j,\n",
       "               -1.95118285e-15+0.j,  2.25224446e-01+0.j,\n",
       "               -1.08468188e-11+0.j,  2.46310435e-01+0.j,\n",
       "               -2.37514472e-12+0.j,  1.75864472e-01+0.j,\n",
       "                3.17990186e-11+0.j,  4.79555614e-01+0.j,\n",
       "               -2.00118771e-01+0.j,  3.00316519e-11+0.j,\n",
       "                6.53617773e-02+0.j, -2.27306747e-15+0.j,\n",
       "               -5.81891874e-14+0.j, -3.17532716e-15+0.j,\n",
       "               -1.02237714e-14+0.j],\n",
       "              [ 1.21881006e-02+0.j,  1.52016338e-11+0.j,\n",
       "                3.31953684e-02+0.j, -8.81648421e-04+0.j,\n",
       "                8.35869381e-04+0.j, -6.99717203e-01+0.j,\n",
       "               -3.30339429e-03+0.j, -6.75235503e-01+0.j,\n",
       "                1.00338463e-03+0.j, -3.63906210e-13+0.j,\n",
       "                3.07211884e-12+0.j, -1.38879491e-03+0.j,\n",
       "               -2.67004943e-14+0.j,  6.02944500e-03+0.j,\n",
       "               -2.82687685e-12+0.j,  9.70218726e-04+0.j,\n",
       "               -1.28279231e-12+0.j, -3.62535720e-03+0.j,\n",
       "               -7.57993734e-02+0.j, -1.05361987e-12+0.j,\n",
       "               -5.78443197e-02+0.j, -5.30676880e-13+0.j,\n",
       "                1.97646241e-01+0.j,  6.78279782e-02+0.j,\n",
       "               -1.95044854e-02+0.j],\n",
       "              [ 1.62613683e-04+0.j,  2.56768910e-13+0.j,\n",
       "                8.06501087e-04+0.j,  1.78660586e-03+0.j,\n",
       "               -7.14944456e-02+0.j, -3.88621787e-03+0.j,\n",
       "                7.47003197e-03+0.j, -5.62287724e-02+0.j,\n",
       "               -4.23684264e-01+0.j, -2.31637230e-13+0.j,\n",
       "               -9.82682174e-12+0.j,  5.54618910e-01+0.j,\n",
       "               -4.56219819e-13+0.j, -4.22385448e-01+0.j,\n",
       "               -1.20364676e-12+0.j,  6.92320526e-02+0.j,\n",
       "               -4.83016143e-12+0.j, -6.33116218e-02+0.j,\n",
       "                1.25566746e-03+0.j,  3.69157498e-12+0.j,\n",
       "               -7.41318610e-03+0.j, -2.34543376e-12+0.j,\n",
       "               -3.47975386e-01+0.j,  4.24140706e-01+0.j,\n",
       "               -1.27639964e-01+0.j],\n",
       "              [ 7.83370266e-03+0.j,  1.23647364e-11+0.j,\n",
       "                3.23070424e-02+0.j,  9.59281936e-03+0.j,\n",
       "               -7.02221173e-01+0.j,  1.43453758e-03+0.j,\n",
       "                4.74500328e-03+0.j, -4.17076168e-02+0.j,\n",
       "                5.66113571e-01+0.j,  6.22282258e-14+0.j,\n",
       "               -9.22727510e-12+0.j, -4.14666847e-02+0.j,\n",
       "               -3.70437957e-13+0.j,  6.17595652e-02+0.j,\n",
       "                2.50454877e-13+0.j, -9.08783694e-03+0.j,\n",
       "                6.55167685e-13+0.j,  8.29197103e-03+0.j,\n",
       "               -9.35268862e-04+0.j, -1.00022475e-12+0.j,\n",
       "                5.30868159e-04+0.j, -1.74055680e-12+0.j,\n",
       "               -2.62954385e-01+0.j,  3.15516362e-01+0.j,\n",
       "               -9.51724815e-02+0.j],\n",
       "              [-8.65234508e-13+0.j,  3.48264956e-02+0.j,\n",
       "               -2.12156062e-11+0.j, -1.24253703e-13+0.j,\n",
       "               -4.37853547e-13+0.j, -1.49952115e-12+0.j,\n",
       "                4.49860609e-13+0.j, -2.43823493e-12+0.j,\n",
       "               -1.26370719e-12+0.j, -5.32468731e-05+0.j,\n",
       "               -5.92350120e-01+0.j,  5.06235233e-12+0.j,\n",
       "                5.75795331e-01+0.j,  3.89947454e-12+0.j,\n",
       "               -3.60610105e-01+0.j,  1.16556029e-12+0.j,\n",
       "                1.53783433e-01+0.j,  1.48575160e-12+0.j,\n",
       "                4.61340406e-12+0.j, -1.16438211e-01+0.j,\n",
       "                2.51406089e-11+0.j, -3.86162318e-01+0.j,\n",
       "                4.55071251e-12+0.j, -1.29362410e-11+0.j,\n",
       "                2.59814902e-12+0.j],\n",
       "              [-2.52351787e-02+0.j,  7.74375999e-12+0.j,\n",
       "                2.07143004e-02+0.j, -7.00561137e-01+0.j,\n",
       "               -8.96931874e-03+0.j,  1.42655400e-03+0.j,\n",
       "               -6.91303280e-01+0.j,  2.72597222e-03+0.j,\n",
       "               -6.94026070e-04+0.j, -4.28221996e-14+0.j,\n",
       "               -4.87797296e-13+0.j,  3.83279115e-04+0.j,\n",
       "               -6.32272197e-14+0.j,  9.03881514e-04+0.j,\n",
       "                3.57274087e-14+0.j, -1.57579744e-04+0.j,\n",
       "                3.94913600e-13+0.j, -2.15804386e-02+0.j,\n",
       "               -5.22560086e-02+0.j,  1.23517786e-11+0.j,\n",
       "                6.97733374e-02+0.j,  8.46999469e-14+0.j,\n",
       "               -4.40044591e-03+0.j, -3.52033022e-02+0.j,\n",
       "               -1.44337195e-01+0.j],\n",
       "              [-1.18862301e-01+0.j, -4.86673418e-01+0.j,\n",
       "                4.71776718e-01+0.j,  3.00813832e-02+0.j,\n",
       "                8.64987947e-03+0.j, -1.48792843e-03+0.j,\n",
       "               -2.25334237e-16+0.j, -7.36898334e-17+0.j,\n",
       "               -1.39238366e-16+0.j, -2.54918850e-01+0.j,\n",
       "                9.74732462e-16+0.j, -2.03097856e-01+0.j,\n",
       "                1.26472918e-03+0.j, -3.21588313e-01+0.j,\n",
       "                9.72864975e-02+0.j, -7.03993519e-02+0.j,\n",
       "                4.19345199e-01+0.j,  2.61710519e-01+0.j,\n",
       "                5.31228664e-03+0.j,  1.13352132e-01+0.j,\n",
       "                2.10171574e-01+0.j,  1.75547003e-15+0.j,\n",
       "               -3.10177423e-14+0.j, -1.75080293e-15+0.j,\n",
       "               -2.13387615e-14+0.j],\n",
       "              [ 6.69773622e-03+0.j,  2.84311164e-02+0.j,\n",
       "               -2.78530057e-02+0.j,  5.68181382e-02+0.j,\n",
       "                4.77663412e-03+0.j, -6.68374599e-02+0.j,\n",
       "               -2.12253447e-16+0.j,  9.12927139e-17+0.j,\n",
       "               -1.55835746e-16+0.j,  3.93405127e-04+0.j,\n",
       "                7.02030584e-16+0.j,  1.00163552e-01+0.j,\n",
       "                4.05155153e-01+0.j,  1.58384951e-01+0.j,\n",
       "                5.23882286e-01+0.j,  6.99820810e-02+0.j,\n",
       "               -1.43570626e-01+0.j, -1.74051493e-01+0.j,\n",
       "                1.42007070e-01+0.j,  1.99939102e-01+0.j,\n",
       "                6.33233792e-01+0.j,  1.00631520e-15+0.j,\n",
       "                2.23115336e-14+0.j, -8.07423685e-15+0.j,\n",
       "               -6.31679678e-14+0.j],\n",
       "              [-1.22178469e-19+0.j,  2.77675782e-18+0.j,\n",
       "               -3.50658653e-18+0.j,  3.22703687e-17+0.j,\n",
       "                6.30676187e-17+0.j, -1.64114888e-16+0.j,\n",
       "               -1.00137584e-01+0.j,  1.44747467e-01+0.j,\n",
       "                1.73276813e-03+0.j, -9.42753899e-15+0.j,\n",
       "                3.86162318e-01+0.j,  1.16864560e-15+0.j,\n",
       "                9.58278833e-16+0.j,  4.95279574e-15+0.j,\n",
       "               -2.83958774e-15+0.j, -3.80315164e-15+0.j,\n",
       "                1.99900055e-14+0.j, -2.95453358e-14+0.j,\n",
       "               -2.71175991e-15+0.j, -2.12399860e-15+0.j,\n",
       "               -7.51294176e-14+0.j, -5.92350120e-01+0.j,\n",
       "                3.77181936e-01+0.j,  4.41425675e-01+0.j,\n",
       "                3.63173227e-01+0.j],\n",
       "              [-3.45621637e-02+0.j, -1.39121644e-01+0.j,\n",
       "                1.35888239e-01+0.j,  6.54054620e-03+0.j,\n",
       "                1.80038155e-02+0.j,  9.17092747e-03+0.j,\n",
       "               -6.84474152e-17+0.j, -9.21544966e-17+0.j,\n",
       "                1.32917839e-18+0.j, -5.18997241e-01+0.j,\n",
       "               -5.71140282e-16+0.j,  2.33424635e-01+0.j,\n",
       "                3.79786573e-02+0.j,  2.01331388e-01+0.j,\n",
       "               -1.29111120e-01+0.j, -6.19918069e-01+0.j,\n",
       "               -4.38306593e-01+0.j,  4.91520280e-03+0.j,\n",
       "               -2.26211236e-02+0.j, -3.25929847e-02+0.j,\n",
       "               -5.75737118e-03+0.j,  3.46378963e-15+0.j,\n",
       "               -4.95840447e-15+0.j,  1.72346302e-15+0.j,\n",
       "                1.67966785e-15+0.j],\n",
       "              [ 1.19420974e-01+0.j,  4.91689074e-01+0.j,\n",
       "               -4.75548774e-01+0.j, -8.42667354e-03+0.j,\n",
       "               -2.92519875e-02+0.j, -3.64139464e-02+0.j,\n",
       "               -1.83732206e-16+0.j,  3.18523821e-17+0.j,\n",
       "               -1.80712395e-16+0.j, -3.99783182e-01+0.j,\n",
       "                6.08988817e-16+0.j, -1.42570265e-01+0.j,\n",
       "               -5.21180393e-02+0.j, -2.67538597e-01+0.j,\n",
       "                5.70235481e-02+0.j, -2.51738856e-01+0.j,\n",
       "                2.88970680e-01+0.j,  2.69649002e-01+0.j,\n",
       "               -1.79520175e-02+0.j,  9.45686672e-02+0.j,\n",
       "                1.70384386e-01+0.j,  2.79428453e-15+0.j,\n",
       "               -3.33966807e-14+0.j, -9.94042718e-16+0.j,\n",
       "               -1.72642955e-14+0.j]], dtype=complex128)]"
      ]
     },
     "execution_count": 940,
     "metadata": {},
     "output_type": "execute_result"
    }
   ],
   "source": [
    "jnp.linalg.eig(jacfwd(g_l)(opt_S.T.flatten()))"
   ]
  },
  {
   "cell_type": "code",
   "execution_count": 946,
   "metadata": {},
   "outputs": [
    {
     "data": {
      "text/plain": [
       "(DeviceArray([[-6.38803782e-01,  7.68973390e-01, -2.55384602e-12,\n",
       "                2.46911706e-02, -3.08387225e-16],\n",
       "              [ 7.66249274e-01,  6.38772681e-01,  1.48553669e-11,\n",
       "               -6.95090774e-02, -3.03391737e-16],\n",
       "              [-3.93748071e-17, -2.77827866e-16, -5.01999665e-17,\n",
       "                2.36304382e-17, -1.00000000e+00],\n",
       "              [ 1.27927668e-11,  7.44376782e-12, -1.00000000e+00,\n",
       "               -4.28679314e-12,  7.98597453e-17],\n",
       "              [-6.92226762e-02, -2.54830700e-02,  3.19980153e-12,\n",
       "               -9.97275706e-01,  6.39222855e-17]], dtype=float64),\n",
       " DeviceArray([0.48253651, 0.31378798, 0.30533245, 0.29871853, 0.22193108],            dtype=float64),\n",
       " DeviceArray([[ 4.53095775e-01,  4.34702952e-01,  4.59864246e-01,\n",
       "                4.34702952e-01,  4.53095775e-01],\n",
       "              [-3.04000786e-01,  5.54087207e-01, -4.48488325e-01,\n",
       "                5.54087207e-01, -3.04000786e-01],\n",
       "              [ 7.07106781e-01,  1.32663325e-11,  1.78260462e-11,\n",
       "                1.32667211e-11, -7.07106781e-01],\n",
       "              [ 4.49764094e-01, -6.34090731e-02, -7.66409224e-01,\n",
       "               -6.34090731e-02,  4.49764094e-01],\n",
       "              [ 0.00000000e+00, -7.07106781e-01,  1.11022302e-16,\n",
       "                7.07106781e-01,  5.55111512e-17]], dtype=float64))"
      ]
     },
     "execution_count": 946,
     "metadata": {},
     "output_type": "execute_result"
    }
   ],
   "source": [
    "jnp.linalg.svd(opt_S)"
   ]
  },
  {
   "cell_type": "code",
   "execution_count": 968,
   "metadata": {},
   "outputs": [
    {
     "data": {
      "text/plain": [
       "DeviceArray([-2.54074539e-13, -2.22905028e-13, -1.92956762e-13,\n",
       "             -3.17301740e-13, -5.86197757e-14], dtype=float64)"
      ]
     },
     "execution_count": 968,
     "metadata": {},
     "output_type": "execute_result"
    }
   ],
   "source": [
    "jnp.diag(opt_S.T @ D @ opt_S)"
   ]
  },
  {
   "cell_type": "code",
   "execution_count": 878,
   "metadata": {},
   "outputs": [
    {
     "data": {
      "text/plain": [
       "(DeviceArray([[-9.99307563e-01,  2.18516600e-15,  4.09985761e-14,\n",
       "                3.91690211e-03,  3.70007049e-02],\n",
       "              [ 2.23632144e-15,  1.00000000e+00,  4.37167968e-14,\n",
       "               -4.21705802e-15, -2.95587398e-16],\n",
       "              [ 4.03980841e-14, -4.40746888e-14,  1.00000000e+00,\n",
       "               -6.95375486e-14, -9.59040604e-15],\n",
       "              [ 3.89913526e-03,  4.10929294e-15,  6.93388381e-14,\n",
       "                9.99992246e-01, -5.52324393e-04],\n",
       "              [-3.70025814e-02, -2.03529256e-16, -8.24857444e-15,\n",
       "               -4.07671191e-04, -9.99315087e-01]], dtype=float64),\n",
       " DeviceArray([0.49203156, 0.30083822, 0.30004298, 0.29911264, 0.28504604],            dtype=float64),\n",
       " DeviceArray([[-4.44498314e-01, -4.44782476e-01, -4.44782476e-01,\n",
       "               -4.50975802e-01, -4.50975802e-01],\n",
       "              [-3.07583775e-15, -4.09925726e-14,  4.66332166e-14,\n",
       "               -7.07106781e-01,  7.07106781e-01],\n",
       "              [-3.64486773e-12,  7.07106781e-01, -7.07106781e-01,\n",
       "                2.08943973e-13,  2.96429548e-13],\n",
       "              [-8.31310881e-01,  3.92358421e-01,  3.92358421e-01,\n",
       "                2.27151710e-02,  2.27151710e-02],\n",
       "              [-3.33681687e-01, -3.84997946e-01, -3.84997946e-01,\n",
       "                5.44155168e-01,  5.44155168e-01]], dtype=float64))"
      ]
     },
     "execution_count": 878,
     "metadata": {},
     "output_type": "execute_result"
    }
   ],
   "source": [
    "jnp.linalg.svd(opt_S)"
   ]
  },
  {
   "cell_type": "code",
   "execution_count": 203,
   "metadata": {},
   "outputs": [],
   "source": [
    "V, sing_vals, U = jnp.linalg.svd(opt_S)"
   ]
  },
  {
   "cell_type": "code",
   "execution_count": 205,
   "metadata": {},
   "outputs": [
    {
     "data": {
      "text/plain": [
       "DeviceArray([[ 5.57458916e-01, -3.22416608e-02,  6.31891790e-17,\n",
       "               5.17842654e-18],\n",
       "             [ 4.41027518e-02,  4.07534689e-01, -1.57972947e-17,\n",
       "               4.18779847e-17],\n",
       "             [ 1.24167513e-16, -1.13467036e-16, -1.89719175e-01,\n",
       "              -8.99862621e-16],\n",
       "             [-2.69807095e-17, -9.63238765e-17, -9.73062168e-16,\n",
       "               1.75447366e-01]], dtype=float64)"
      ]
     },
     "execution_count": 205,
     "metadata": {},
     "output_type": "execute_result"
    }
   ],
   "source": [
    "V @ jnp.diag(sing_vals)"
   ]
  },
  {
   "cell_type": "code",
   "execution_count": 181,
   "metadata": {},
   "outputs": [
    {
     "data": {
      "text/plain": [
       "DeviceArray([0.4728708 , 0.31622777, 0.31622777, 0.31622777], dtype=float64)"
      ]
     },
     "execution_count": 181,
     "metadata": {},
     "output_type": "execute_result"
    }
   ],
   "source": [
    "sing_vals"
   ]
  },
  {
   "cell_type": "code",
   "execution_count": 224,
   "metadata": {},
   "outputs": [
    {
     "data": {
      "text/plain": [
       "DeviceArray([[-1.        ,  0.        ,  0.        ,  0.        ],\n",
       "             [ 0.        ,  2.66666667,  0.        ,  0.        ],\n",
       "             [ 0.        ,  0.        ,  6.33333333,  0.        ],\n",
       "             [ 0.        ,  0.        ,  0.        , 10.        ]],            dtype=float64)"
      ]
     },
     "execution_count": 224,
     "metadata": {},
     "output_type": "execute_result"
    }
   ],
   "source": [
    "D"
   ]
  },
  {
   "cell_type": "code",
   "execution_count": 229,
   "metadata": {},
   "outputs": [],
   "source": [
    "old_opt_S = V @ jnp.diag(sing_vals) @ U"
   ]
  },
  {
   "cell_type": "code",
   "execution_count": 331,
   "metadata": {},
   "outputs": [
    {
     "data": {
      "text/plain": [
       "0.5407418735600995"
      ]
     },
     "execution_count": 331,
     "metadata": {},
     "output_type": "execute_result"
    }
   ],
   "source": [
    "(sig**2 * (5 ) / 2)**(1/6.)"
   ]
  },
  {
   "cell_type": "code",
   "execution_count": 928,
   "metadata": {},
   "outputs": [
    {
     "data": {
      "text/plain": [
       "DeviceArray(-5.72440205e-07, dtype=float64)"
      ]
     },
     "execution_count": 928,
     "metadata": {},
     "output_type": "execute_result"
    }
   ],
   "source": [
    "sing_vals = jnp.array([0.47436416, 0.30309184, 0.30309177, 0.30309176, 0.30309169])\n",
    "\n",
    "-(6)/sing_vals[0]**4 * 0.1**2 + 2 * jnp.sum(sing_vals**2)"
   ]
  },
  {
   "cell_type": "code",
   "execution_count": null,
   "metadata": {},
   "outputs": [],
   "source": []
  }
 ],
 "metadata": {
  "kernelspec": {
   "display_name": "Python (simplex_grad)",
   "language": "python",
   "name": "simplex_grad"
  },
  "language_info": {
   "codemirror_mode": {
    "name": "ipython",
    "version": 3
   },
   "file_extension": ".py",
   "mimetype": "text/x-python",
   "name": "python",
   "nbconvert_exporter": "python",
   "pygments_lexer": "ipython3",
   "version": "3.10.0"
  }
 },
 "nbformat": 4,
 "nbformat_minor": 2
}
