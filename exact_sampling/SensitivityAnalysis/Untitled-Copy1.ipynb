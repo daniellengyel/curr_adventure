{
 "cells": [
  {
   "cell_type": "code",
   "execution_count": 157,
   "metadata": {},
   "outputs": [
    {
     "name": "stdout",
     "output_type": "stream",
     "text": [
      "The autoreload extension is already loaded. To reload it, use:\n",
      "  %reload_ext autoreload\n"
     ]
    }
   ],
   "source": [
    "import jax.numpy as jnp\n",
    "import jax.random as jrandom\n",
    "import numpy as np\n",
    "from jax import grad\n",
    "from jax import jit, grad, jacfwd, jacrev\n",
    "from jax.lax import fori_loop\n",
    "from jax import jit\n",
    "from functools import partial\n",
    "\n",
    "import math\n",
    "\n",
    "\n",
    "import scipy \n",
    "\n",
    "import matplotlib.pyplot as plt\n",
    "import plotly.graph_objects as go\n",
    "\n",
    "%matplotlib inline\n",
    "plt.rcParams['figure.figsize'] = [15,15]\n",
    "plt.style.use('default')\n",
    "plt.rcParams['lines.markersize'] = 8\n",
    "plt.rcParams.update({'font.size': 12})\n",
    "\n",
    "\n",
    "from tqdm import tqdm\n",
    "import time\n",
    "\n",
    "from jax.config import config\n",
    "config.update(\"jax_enable_x64\", True)\n",
    "\n",
    "import sys\n",
    "sys.path.append(\"..\")\n",
    "\n",
    "from Ours import Ours\n",
    "from FD import FD\n",
    "from Functions import Quadratic, PyCutestGetter, Ackley\n",
    "from RBF import RBF\n",
    "from utils import mse_sensitivity, get_rbfs\n",
    "\n",
    "\n",
    "from DynamicalSystems import Laser, LaserFull, Monod, invert_Laser_params, Cancer\n",
    "\n",
    "%load_ext autoreload\n",
    "%autoreload 2"
   ]
  },
  {
   "cell_type": "markdown",
   "metadata": {},
   "source": [
    "# Compare against true Hessian (so optimal benefit we can obtain) to some coarse model. "
   ]
  },
  {
   "cell_type": "markdown",
   "metadata": {},
   "source": [
    "# Laser"
   ]
  },
  {
   "cell_type": "code",
   "execution_count": 29,
   "metadata": {},
   "outputs": [],
   "source": [
    "sigma = 11\n",
    "alpha = 1\n",
    "delta = 1.017\n",
    "gamma = 1e-3\n",
    "epsilon = 1e-5\n",
    "\n",
    "final_T = 5e5\n",
    "dt = 10\n",
    "\n",
    "x_init = 0.03\n",
    "y_init = 0.998\n",
    "z_init = -0.014\n",
    "\n",
    "normalize_const_diag = jnp.diag(jnp.logspace(0, 3, 11))\n",
    "gamma_0, gamma_c, gamma_f, I_0, A, s_prime, e, V, k, g, N_t, S_init, N_init, I_init = invert_Laser_params(sigma, alpha, delta, gamma, epsilon, x_init, y_init, z_init)\n",
    "prmts_0 = normalize_const_diag @ jnp.array([gamma_0, gamma_c, gamma_f, I_0, A, s_prime, e, V, k, g, N_t])\n",
    "prct_bound = 1e-8 # we look at a neighborhood of +/- p%. \n",
    "\n",
    "\n",
    "\n",
    "Fs = [LaserFull(S_init, N_init, I_init, dt, final_T, normalize_const_diag=normalize_const_diag, sig=0, noise_type=\"gaussian\", output_var=\"S\"),\n",
    "      LaserFull(S_init, N_init, I_init, dt, final_T, normalize_const_diag=normalize_const_diag, sig=0, noise_type=\"gaussian\", output_var=\"N\"),\n",
    "      LaserFull(S_init, N_init, I_init, dt, final_T, normalize_const_diag=normalize_const_diag, sig=0, noise_type=\"gaussian\", output_var=\"I\")]\n",
    "sig = 1e-4\n",
    "Fs_tilde = [LaserFull(S_init, N_init, I_init, dt, final_T, normalize_const_diag=normalize_const_diag, sig=sig, noise_type=\"gaussian\", output_var=\"S\"),\n",
    "            LaserFull(S_init, N_init, I_init, dt, final_T, normalize_const_diag=normalize_const_diag, sig=sig, noise_type=\"gaussian\", output_var=\"N\"),\n",
    "            LaserFull(S_init, N_init, I_init, dt, final_T, normalize_const_diag=normalize_const_diag, sig=sig, noise_type=\"gaussian\", output_var=\"I\")]\n",
    "            \n",
    "\n",
    "jrandom_key = jrandom.PRNGKey(0)\n"
   ]
  },
  {
   "cell_type": "code",
   "execution_count": 30,
   "metadata": {},
   "outputs": [
    {
     "name": "stderr",
     "output_type": "stream",
     "text": [
      "100%|███████████████████████████████████| 10000/10000 [00:07<00:00, 1335.40it/s]\n"
     ]
    }
   ],
   "source": [
    "jrandom_key = jrandom.PRNGKey(1)\n",
    "jrandom_key, subkey = jrandom.split(jrandom_key)\n",
    "\n",
    "N_pts = int(1e4)\n",
    "rbfs = get_rbfs([Fs[0]], prmts_0, N_pts, prct_bound, subkey, smoothing=0)\n",
    "    "
   ]
  },
  {
   "cell_type": "code",
   "execution_count": 31,
   "metadata": {},
   "outputs": [],
   "source": [
    "p = pts[0]"
   ]
  },
  {
   "cell_type": "code",
   "execution_count": 32,
   "metadata": {},
   "outputs": [
    {
     "name": "stdout",
     "output_type": "stream",
     "text": [
      "[nan nan nan nan nan nan nan nan nan nan nan]\n"
     ]
    }
   ],
   "source": [
    "true_h = 1e-10\n",
    "grad_getter_cfd_true = FD(sig=0, is_central=True, h=true_h)\n",
    "true_grad = grad_getter_cfd_true.grad(Fs[0], p, jrandom_key=subkey, H=None)[0]\n",
    "print(true_grad)"
   ]
  },
  {
   "cell_type": "code",
   "execution_count": 15,
   "metadata": {},
   "outputs": [
    {
     "data": {
      "text/plain": [
       "DeviceArray([nan, nan, nan, nan, nan, nan, nan, nan, nan, nan, nan], dtype=float64)"
      ]
     },
     "execution_count": 15,
     "metadata": {},
     "output_type": "execute_result"
    }
   ],
   "source": [
    "rbfs[0].f1(p)"
   ]
  },
  {
   "cell_type": "code",
   "execution_count": 16,
   "metadata": {},
   "outputs": [
    {
     "data": {
      "text/plain": [
       "DeviceArray(nan, dtype=float64)"
      ]
     },
     "execution_count": 16,
     "metadata": {},
     "output_type": "execute_result"
    }
   ],
   "source": [
    "jnp.linalg.norm(rbfs[0].f1(p) - true_grad)"
   ]
  },
  {
   "cell_type": "code",
   "execution_count": 33,
   "metadata": {},
   "outputs": [
    {
     "name": "stderr",
     "output_type": "stream",
     "text": [
      "\r",
      "  0%|                                                    | 0/10 [00:00<?, ?it/s]"
     ]
    },
    {
     "name": "stdout",
     "output_type": "stream",
     "text": [
      "19.744701824863736\n",
      "[-4.84729736 -2.66223341 -2.07341294 -2.0620822  -2.06205824 -2.06205824\n",
      " -2.06205797 -2.06130283 -2.01164163 -1.02399451  0.24549864]\n"
     ]
    },
    {
     "name": "stderr",
     "output_type": "stream",
     "text": [
      "\r",
      " 10%|████▍                                       | 1/10 [00:00<00:06,  1.39it/s]"
     ]
    },
    {
     "name": "stdout",
     "output_type": "stream",
     "text": [
      "84.39324245476851\n",
      "[-6.4113913  -1.45952895 -0.12916691 -0.12129536 -0.1212897  -0.1212897\n",
      " -0.12128743 -0.1198989  -0.07597043  1.90690759  5.44002442]\n"
     ]
    },
    {
     "name": "stderr",
     "output_type": "stream",
     "text": [
      "\r",
      " 20%|████████▊                                   | 2/10 [00:01<00:05,  1.50it/s]"
     ]
    },
    {
     "name": "stdout",
     "output_type": "stream",
     "text": [
      "10.377037844085812\n",
      "[-11.03441008  -3.70136886  -2.95544678  -2.8105338   -2.81047653\n",
      "  -2.81047253  -2.81047253  -2.80940769  -2.71881064  -1.06334874\n",
      "   4.60955032]\n"
     ]
    },
    {
     "name": "stderr",
     "output_type": "stream",
     "text": [
      "\r",
      " 30%|█████████████▏                              | 3/10 [00:02<00:05,  1.33it/s]"
     ]
    },
    {
     "name": "stdout",
     "output_type": "stream",
     "text": [
      "8.920859627800974\n",
      "[ 1.21983859  5.59816883  6.00196202  6.056325    6.05709317  6.05720868\n",
      "  6.05720868  6.05721171  6.06592407  6.57634583 10.88200887]\n"
     ]
    },
    {
     "name": "stderr",
     "output_type": "stream",
     "text": [
      "\r",
      " 40%|█████████████████▌                          | 4/10 [00:02<00:04,  1.37it/s]"
     ]
    },
    {
     "name": "stdout",
     "output_type": "stream",
     "text": [
      "43.47679500544751\n",
      "[-12.42636168  -9.01150226  -7.35505781  -7.25577571  -7.25362233\n",
      "  -7.25362151  -7.25362151  -7.25349264  -7.25307371  -7.18789145\n",
      "  -0.28581595]\n"
     ]
    },
    {
     "name": "stderr",
     "output_type": "stream",
     "text": [
      "\r",
      " 50%|██████████████████████                      | 5/10 [00:03<00:03,  1.39it/s]"
     ]
    },
    {
     "name": "stdout",
     "output_type": "stream",
     "text": [
      "3.7350239784831905\n",
      "[-3.95173319  5.3661877   6.40194505  6.50623373  6.50628766  6.50628766\n",
      "  6.50647757  6.515165    6.5358095   9.91668536 14.75981823]\n"
     ]
    },
    {
     "name": "stderr",
     "output_type": "stream",
     "text": [
      "\r",
      " 60%|██████████████████████████▍                 | 6/10 [00:04<00:03,  1.30it/s]"
     ]
    },
    {
     "name": "stdout",
     "output_type": "stream",
     "text": [
      "4.64746332686075\n",
      "[-20.29045042  -9.36998878  -9.03816575  -8.64726583  -8.58411109\n",
      "  -8.58408191  -8.58408191  -8.58407808  -8.58275816  -8.5258385\n",
      "   4.36591943]\n"
     ]
    },
    {
     "name": "stderr",
     "output_type": "stream",
     "text": [
      "\r",
      " 70%|██████████████████████████████▊             | 7/10 [00:05<00:02,  1.35it/s]"
     ]
    },
    {
     "name": "stdout",
     "output_type": "stream",
     "text": [
      "66.47049040827903\n",
      "[-2.44269104 -0.76611604 -0.47200241 -0.46573899 -0.4657318  -0.46573163\n",
      " -0.46573163 -0.46430999 -0.46228556 -0.0367485   1.3840397 ]\n"
     ]
    },
    {
     "name": "stderr",
     "output_type": "stream",
     "text": [
      "\r",
      " 80%|███████████████████████████████████▏        | 8/10 [00:05<00:01,  1.40it/s]"
     ]
    },
    {
     "name": "stdout",
     "output_type": "stream",
     "text": [
      "29.573622385554675\n",
      "[-11.6962399   -3.00800358   0.82065524   2.60900066   2.63823547\n",
      "   2.63829713   2.63829713   2.63841534   2.63844152   2.83442123\n",
      "  24.26974818]\n"
     ]
    },
    {
     "name": "stderr",
     "output_type": "stream",
     "text": [
      "\r",
      " 90%|███████████████████████████████████████▌    | 9/10 [00:06<00:00,  1.46it/s]"
     ]
    },
    {
     "name": "stdout",
     "output_type": "stream",
     "text": [
      "16.84009777764412\n",
      "[-4.16141407 -1.34919658 -0.77704853 -0.47908486 -0.40740768 -0.40740768\n",
      " -0.40740666 -0.40739872 -0.38116959 -0.2712136   4.56726347]\n"
     ]
    },
    {
     "name": "stderr",
     "output_type": "stream",
     "text": [
      "100%|███████████████████████████████████████████| 10/10 [00:07<00:00,  1.37it/s]\n"
     ]
    }
   ],
   "source": [
    "jrandom_key = jrandom.PRNGKey(2)\n",
    "jrandom_key, subkey = jrandom.split(jrandom_key)\n",
    "# sample from uniform distribution\n",
    "N_pts = int(1e1)\n",
    "pts_prct = prct_bound*(jrandom.uniform(subkey, shape=(N_pts, 11)) - 0.5)*2\n",
    "pts = prmts_0.reshape(1, 11)*(1 + pts_prct)\n",
    "h_space = jnp.logspace(-7, -6, 6)\n",
    "\n",
    "jrandom_key, subkey = jrandom.split(jrandom_key)\n",
    "res_fd, res_cfd, res_ours, res_rbf = mse_sensitivity(Fs[0], Fs_tilde[0], sig, pts, rbfs[0], h_space, subkey, num_runs=1)\n"
   ]
  },
  {
   "cell_type": "code",
   "execution_count": 34,
   "metadata": {},
   "outputs": [
    {
     "data": {
      "text/plain": [
       "[DeviceArray(2.27017775, dtype=float64),\n",
       " DeviceArray(2.33056104, dtype=float64),\n",
       " DeviceArray(2.3098538, dtype=float64),\n",
       " DeviceArray(2.26474506, dtype=float64),\n",
       " DeviceArray(2.34059959, dtype=float64),\n",
       " DeviceArray(2.32146828, dtype=float64),\n",
       " DeviceArray(2.29875817, dtype=float64),\n",
       " DeviceArray(2.4118013, dtype=float64),\n",
       " DeviceArray(2.2960874, dtype=float64),\n",
       " DeviceArray(2.32146415, dtype=float64)]"
      ]
     },
     "execution_count": 34,
     "metadata": {},
     "output_type": "execute_result"
    }
   ],
   "source": [
    "res_rbf"
   ]
  },
  {
   "cell_type": "code",
   "execution_count": 35,
   "metadata": {},
   "outputs": [
    {
     "data": {
      "text/plain": [
       "[[[DeviceArray(308.51156736, dtype=float64)],\n",
       "  [DeviceArray(194.12503717, dtype=float64)],\n",
       "  [DeviceArray(127.73835204, dtype=float64)],\n",
       "  [DeviceArray(103.04445138, dtype=float64)],\n",
       "  [DeviceArray(77.74126841, dtype=float64)],\n",
       "  [DeviceArray(85.62078496, dtype=float64)]],\n",
       " [[DeviceArray(306.12602821, dtype=float64)],\n",
       "  [DeviceArray(187.82143659, dtype=float64)],\n",
       "  [DeviceArray(113.2953096, dtype=float64)],\n",
       "  [DeviceArray(81.16443902, dtype=float64)],\n",
       "  [DeviceArray(62.41680291, dtype=float64)],\n",
       "  [DeviceArray(76.28712425, dtype=float64)]],\n",
       " [[DeviceArray(307.68394221, dtype=float64)],\n",
       "  [DeviceArray(191.75801229, dtype=float64)],\n",
       "  [DeviceArray(122.55591867, dtype=float64)],\n",
       "  [DeviceArray(96.02007832, dtype=float64)],\n",
       "  [DeviceArray(73.56644415, dtype=float64)],\n",
       "  [DeviceArray(85.88362966, dtype=float64)]],\n",
       " [[DeviceArray(304.59336047, dtype=float64)],\n",
       "  [DeviceArray(184.18325197, dtype=float64)],\n",
       "  [DeviceArray(104.61270302, dtype=float64)],\n",
       "  [DeviceArray(68.30600427, dtype=float64)],\n",
       "  [DeviceArray(61.21754394, dtype=float64)],\n",
       "  [DeviceArray(79.28516678, dtype=float64)]],\n",
       " [[DeviceArray(310.168893, dtype=float64)],\n",
       "  [DeviceArray(198.15508508, dtype=float64)],\n",
       "  [DeviceArray(136.78312343, dtype=float64)],\n",
       "  [DeviceArray(117.68282523, dtype=float64)],\n",
       "  [DeviceArray(95.11435535, dtype=float64)],\n",
       "  [DeviceArray(98.65660652, dtype=float64)]],\n",
       " [[DeviceArray(306.50338682, dtype=float64)],\n",
       "  [DeviceArray(188.44617115, dtype=float64)],\n",
       "  [DeviceArray(114.35680755, dtype=float64)],\n",
       "  [DeviceArray(82.69794017, dtype=float64)],\n",
       "  [DeviceArray(65.44483651, dtype=float64)],\n",
       "  [DeviceArray(78.11314034, dtype=float64)]],\n",
       " [[DeviceArray(304.60775773, dtype=float64)],\n",
       "  [DeviceArray(184.30522412, dtype=float64)],\n",
       "  [DeviceArray(104.81428942, dtype=float64)],\n",
       "  [DeviceArray(67.59089777, dtype=float64)],\n",
       "  [DeviceArray(61.25541069, dtype=float64)],\n",
       "  [DeviceArray(73.5876316, dtype=float64)]],\n",
       " [[DeviceArray(307.06269767, dtype=float64)],\n",
       "  [DeviceArray(190.15705532, dtype=float64)],\n",
       "  [DeviceArray(119.51187533, dtype=float64)],\n",
       "  [DeviceArray(93.60646062, dtype=float64)],\n",
       "  [DeviceArray(69.70571512, dtype=float64)],\n",
       "  [DeviceArray(99.61262716, dtype=float64)]],\n",
       " [[DeviceArray(309.93849389, dtype=float64)],\n",
       "  [DeviceArray(197.61904552, dtype=float64)],\n",
       "  [DeviceArray(135.69858461, dtype=float64)],\n",
       "  [DeviceArray(115.95497879, dtype=float64)],\n",
       "  [DeviceArray(90.62662054, dtype=float64)],\n",
       "  [DeviceArray(100.81154929, dtype=float64)]],\n",
       " [[DeviceArray(307.19935833, dtype=float64)],\n",
       "  [DeviceArray(190.12159475, dtype=float64)],\n",
       "  [DeviceArray(120.08437266, dtype=float64)],\n",
       "  [DeviceArray(97.58851064, dtype=float64)],\n",
       "  [DeviceArray(78.81773161, dtype=float64)],\n",
       "  [DeviceArray(115.13972333, dtype=float64)]]]"
      ]
     },
     "execution_count": 35,
     "metadata": {},
     "output_type": "execute_result"
    }
   ],
   "source": [
    "res_ours"
   ]
  },
  {
   "cell_type": "code",
   "execution_count": 36,
   "metadata": {},
   "outputs": [
    {
     "data": {
      "text/plain": [
       "[[[DeviceArray(311.69640151, dtype=float64)],\n",
       "  [DeviceArray(199.16906337, dtype=float64)],\n",
       "  [DeviceArray(130.50344295, dtype=float64)],\n",
       "  [DeviceArray(106.08900152, dtype=float64)],\n",
       "  [DeviceArray(133.16959912, dtype=float64)],\n",
       "  [DeviceArray(135.95856537, dtype=float64)]],\n",
       " [[DeviceArray(311.6939529, dtype=float64)],\n",
       "  [DeviceArray(199.16787923, dtype=float64)],\n",
       "  [DeviceArray(130.50652399, dtype=float64)],\n",
       "  [DeviceArray(106.1009214, dtype=float64)],\n",
       "  [DeviceArray(133.2168139, dtype=float64)],\n",
       "  [DeviceArray(136.26730838, dtype=float64)]],\n",
       " [[DeviceArray(311.69670915, dtype=float64)],\n",
       "  [DeviceArray(199.17110443, dtype=float64)],\n",
       "  [DeviceArray(130.51020963, dtype=float64)],\n",
       "  [DeviceArray(106.10344544, dtype=float64)],\n",
       "  [DeviceArray(133.21139967, dtype=float64)],\n",
       "  [DeviceArray(136.20559021, dtype=float64)]],\n",
       " [[DeviceArray(311.69477501, dtype=float64)],\n",
       "  [DeviceArray(199.16585102, dtype=float64)],\n",
       "  [DeviceArray(130.49653029, dtype=float64)],\n",
       "  [DeviceArray(106.07910772, dtype=float64)],\n",
       "  [DeviceArray(133.14948631, dtype=float64)],\n",
       "  [DeviceArray(135.86107585, dtype=float64)]],\n",
       " [[DeviceArray(311.69205939, dtype=float64)],\n",
       "  [DeviceArray(199.16559309, dtype=float64)],\n",
       "  [DeviceArray(130.504366, dtype=float64)],\n",
       "  [DeviceArray(106.09976103, dtype=float64)],\n",
       "  [DeviceArray(133.21946645, dtype=float64)],\n",
       "  [DeviceArray(136.28939445, dtype=float64)]],\n",
       " [[DeviceArray(311.69754763, dtype=float64)],\n",
       "  [DeviceArray(199.17052625, dtype=float64)],\n",
       "  [DeviceArray(130.5070044, dtype=float64)],\n",
       "  [DeviceArray(106.09802268, dtype=float64)],\n",
       "  [DeviceArray(133.2078046, dtype=float64)],\n",
       "  [DeviceArray(136.22608825, dtype=float64)]],\n",
       " [[DeviceArray(311.70016577, dtype=float64)],\n",
       "  [DeviceArray(199.17427482, dtype=float64)],\n",
       "  [DeviceArray(130.51274851, dtype=float64)],\n",
       "  [DeviceArray(106.1050308, dtype=float64)],\n",
       "  [DeviceArray(133.20564859, dtype=float64)],\n",
       "  [DeviceArray(136.14879916, dtype=float64)]],\n",
       " [[DeviceArray(311.69482328, dtype=float64)],\n",
       "  [DeviceArray(199.17019524, dtype=float64)],\n",
       "  [DeviceArray(130.5137375, dtype=float64)],\n",
       "  [DeviceArray(106.11686322, dtype=float64)],\n",
       "  [DeviceArray(133.25890489, dtype=float64)],\n",
       "  [DeviceArray(136.49742646, dtype=float64)]],\n",
       " [[DeviceArray(311.702118, dtype=float64)],\n",
       "  [DeviceArray(199.1755087, dtype=float64)],\n",
       "  [DeviceArray(130.51159574, dtype=float64)],\n",
       "  [DeviceArray(106.09920037, dtype=float64)],\n",
       "  [DeviceArray(133.19810625, dtype=float64)],\n",
       "  [DeviceArray(136.15016523, dtype=float64)]],\n",
       " [[DeviceArray(311.69647386, dtype=float64)],\n",
       "  [DeviceArray(199.17030936, dtype=float64)],\n",
       "  [DeviceArray(130.50911176, dtype=float64)],\n",
       "  [DeviceArray(106.10358076, dtype=float64)],\n",
       "  [DeviceArray(133.21463494, dtype=float64)],\n",
       "  [DeviceArray(136.22702954, dtype=float64)]]]"
      ]
     },
     "execution_count": 36,
     "metadata": {},
     "output_type": "execute_result"
    }
   ],
   "source": [
    "res_fd"
   ]
  },
  {
   "cell_type": "markdown",
   "metadata": {},
   "source": [
    "# Monod"
   ]
  },
  {
   "cell_type": "code",
   "execution_count": 137,
   "metadata": {},
   "outputs": [],
   "source": [
    "S_init = 10\n",
    "X_init = 0.1\n",
    "\n",
    "mu_max = 0.25 # 0.5\n",
    "Y = 0.75 # 0.5\n",
    "K_d = 0.03\n",
    "K_S = 20\n",
    "\n",
    "dt = 1e-4\n",
    "final_T = 10\n",
    "\n",
    "prmts_0 = jnp.array([mu_max, Y, K_S, K_d])\n",
    "\n",
    "Fs = [Monod(S_init, X_init, dt, final_T, sig=0, output_var=\"S\"),\n",
    "      Monod(S_init, X_init, dt, final_T, sig=0, output_var=\"X\")]\n",
    "\n",
    "sig = 1e-3\n",
    "Fs_tilde = [Monod(S_init, X_init, dt, final_T, sig=sig, output_var=\"S\"),\n",
    "            Monod(S_init, X_init, dt, final_T, sig=sig, output_var=\"X\")]\n",
    "            \n",
    "\n",
    "prct_bound = 0.2 # we look at a neighborhood of +/- p%. \n",
    "jrandom_key = jrandom.PRNGKey(0)\n",
    "\n"
   ]
  },
  {
   "cell_type": "code",
   "execution_count": 138,
   "metadata": {},
   "outputs": [
    {
     "name": "stderr",
     "output_type": "stream",
     "text": [
      "100%|████████████████████████████████████| 10000/10000 [00:12<00:00, 771.91it/s]\n"
     ]
    }
   ],
   "source": [
    "jrandom_key = jrandom.PRNGKey(1)\n",
    "jrandom_key, subkey = jrandom.split(jrandom_key)\n",
    "\n",
    "N_pts = int(1e4)\n",
    "rbfs = get_rbfs([Fs[1]], prmts_0, N_pts, prct_bound, subkey, smoothing=0)\n",
    "    "
   ]
  },
  {
   "cell_type": "code",
   "execution_count": 139,
   "metadata": {},
   "outputs": [
    {
     "name": "stderr",
     "output_type": "stream",
     "text": [
      "100%|█████████████████████████████████████████| 100/100 [00:29<00:00,  3.35it/s]\n"
     ]
    }
   ],
   "source": [
    "jrandom_key = jrandom.PRNGKey(2)\n",
    "jrandom_key, subkey = jrandom.split(jrandom_key)\n",
    "# sample from uniform distribution\n",
    "N_pts = int(1e2)\n",
    "pts_prct = prct_bound*(jrandom.uniform(subkey, shape=(N_pts, 4)) - 0.5)*2\n",
    "pts = prmts_0.reshape(1, 4)*(1 + pts_prct)\n",
    "h_space = jnp.logspace(-1, -6, 6)\n",
    "\n",
    "jrandom_key, subkey = jrandom.split(jrandom_key)\n",
    "res_fd, res_cfd, res_ours, res_rbf = mse_sensitivity(Fs[1], Fs_tilde[1], sig, pts, rbfs[0], h_space, subkey, num_runs=1)\n",
    "\n"
   ]
  },
  {
   "cell_type": "code",
   "execution_count": 140,
   "metadata": {},
   "outputs": [],
   "source": [
    "def postprocess(res):\n",
    "    res = jnp.array(res)\n",
    "    res = jnp.mean(res, axis=2)\n",
    "    return np.array(jnp.min(jnp.array(res), axis=1))"
   ]
  },
  {
   "cell_type": "code",
   "execution_count": 141,
   "metadata": {},
   "outputs": [
    {
     "data": {
      "text/plain": [
       "(array([ 1.,  0.,  0.,  5.,  4.,  3.,  9.,  6.,  6.,  7., 10.,  8., 11.,\n",
       "         8.,  7.,  7.,  2.,  3.,  2.,  1.]),\n",
       " array([-5.05480458, -4.77533739, -4.4958702 , -4.21640301, -3.93693582,\n",
       "        -3.65746864, -3.37800145, -3.09853426, -2.81906707, -2.53959988,\n",
       "        -2.26013269, -1.98066551, -1.70119832, -1.42173113, -1.14226394,\n",
       "        -0.86279675, -0.58332956, -0.30386238, -0.02439519,  0.255072  ,\n",
       "         0.53453919]),\n",
       " <BarContainer object of 20 artists>)"
      ]
     },
     "execution_count": 141,
     "metadata": {},
     "output_type": "execute_result"
    },
    {
     "data": {
      "image/png": "[encoded data removed]",
      "text/plain": [
       "<Figure size 640x480 with 1 Axes>"
      ]
     },
     "metadata": {},
     "output_type": "display_data"
    }
   ],
   "source": [
    "plt.hist([float(c) for c in jnp.log(jnp.array(res_rbf)/postprocess(res_ours))/jnp.log(2)], bins=20)"
   ]
  },
  {
   "cell_type": "code",
   "execution_count": 142,
   "metadata": {},
   "outputs": [
    {
     "data": {
      "image/png": "[encoded data removed]",
      "text/plain": [
       "<Figure size 640x480 with 1 Axes>"
      ]
     },
     "metadata": {},
     "output_type": "display_data"
    }
   ],
   "source": [
    "plt.hist(postprocess(res_cfd) - postprocess(res_ours))\n",
    "plt.show()"
   ]
  },
  {
   "cell_type": "code",
   "execution_count": 143,
   "metadata": {},
   "outputs": [
    {
     "data": {
      "text/plain": [
       "(array([ 1.,  0.,  2.,  1.,  7.,  2.,  9.,  6., 17.,  6.,  3.,  1.,  0.,\n",
       "         1.,  2.,  2.,  7., 14.,  8., 11.]),\n",
       " array([-0.65297832, -0.62250619, -0.59203406, -0.56156193, -0.53108979,\n",
       "        -0.50061766, -0.47014553, -0.4396734 , -0.40920127, -0.37872913,\n",
       "        -0.348257  , -0.31778487, -0.28731274, -0.25684061, -0.22636847,\n",
       "        -0.19589634, -0.16542421, -0.13495208, -0.10447994, -0.07400781,\n",
       "        -0.04353568]),\n",
       " <BarContainer object of 20 artists>)"
      ]
     },
     "execution_count": 143,
     "metadata": {},
     "output_type": "execute_result"
    },
    {
     "data": {
      "image/png": "[encoded data removed]",
      "text/plain": [
       "<Figure size 640x480 with 1 Axes>"
      ]
     },
     "metadata": {},
     "output_type": "display_data"
    }
   ],
   "source": [
    "plt.hist([float(c) for c in jnp.log(postprocess(res_fd)/postprocess(res_ours))/jnp.log(2)], bins=20)"
   ]
  },
  {
   "cell_type": "code",
   "execution_count": 144,
   "metadata": {},
   "outputs": [
    {
     "data": {
      "text/plain": [
       "(array([ 1.,  0.,  1.,  2.,  5.,  4., 10., 10., 15.,  4.,  3.,  0.,  0.,\n",
       "         1.,  2.,  1.,  6., 16.,  9., 10.]),\n",
       " array([-2.07490592, -2.04464826, -2.01439059, -1.98413293, -1.95387527,\n",
       "        -1.9236176 , -1.89335994, -1.86310227, -1.83284461, -1.80258695,\n",
       "        -1.77232928, -1.74207162, -1.71181395, -1.68155629, -1.65129863,\n",
       "        -1.62104096, -1.5907833 , -1.56052563, -1.53026797, -1.50001031,\n",
       "        -1.46975264]),\n",
       " <BarContainer object of 20 artists>)"
      ]
     },
     "execution_count": 144,
     "metadata": {},
     "output_type": "execute_result"
    },
    {
     "data": {
      "image/png": "[encoded data removed]",
      "text/plain": [
       "<Figure size 640x480 with 1 Axes>"
      ]
     },
     "metadata": {},
     "output_type": "display_data"
    }
   ],
   "source": [
    "plt.hist([float(c) for c in jnp.log(postprocess(res_cfd)/postprocess(res_ours))/jnp.log(2)], bins=20)"
   ]
  },
  {
   "cell_type": "markdown",
   "metadata": {},
   "source": [
    "# Cutest hopes"
   ]
  },
  {
   "cell_type": "code",
   "execution_count": 145,
   "metadata": {},
   "outputs": [],
   "source": [
    "from Functions import Ackley"
   ]
  },
  {
   "cell_type": "code",
   "execution_count": 149,
   "metadata": {},
   "outputs": [],
   "source": [
    "dim = 32 \n",
    "sig = 1e-3\n",
    "\n",
    "\n",
    "\n",
    "\n",
    "prmts_0 = jnp.zeros(dim)\n",
    "\n",
    "F = Ackley()\n",
    "F_tilde = Ackley(sig)\n",
    "            \n",
    "\n",
    "prct_bound = 0.2 # we look at a neighborhood of +/- p%. \n",
    "fixed_bound = 1\n",
    "jrandom_key = jrandom.PRNGKey(0)\n",
    "\n",
    "\n"
   ]
  },
  {
   "cell_type": "code",
   "execution_count": 151,
   "metadata": {},
   "outputs": [
    {
     "name": "stderr",
     "output_type": "stream",
     "text": [
      "100%|███████████████████████████████████| 10000/10000 [00:09<00:00, 1011.40it/s]\n"
     ]
    }
   ],
   "source": [
    "jrandom_key = jrandom.PRNGKey(1)\n",
    "jrandom_key, subkey = jrandom.split(jrandom_key)\n",
    "\n",
    "N_pts = int(1e4)\n",
    "rbfs = get_rbfs([F], prmts_0, N_pts, prct_bound, subkey, fixed_bound=fixed_bound, smoothing=0)\n",
    "    "
   ]
  },
  {
   "cell_type": "code",
   "execution_count": 153,
   "metadata": {},
   "outputs": [
    {
     "name": "stderr",
     "output_type": "stream",
     "text": [
      "100%|█████████████████████████████████████████| 100/100 [02:38<00:00,  1.58s/it]\n"
     ]
    }
   ],
   "source": [
    "jrandom_key = jrandom.PRNGKey(2)\n",
    "jrandom_key, subkey = jrandom.split(jrandom_key)\n",
    "# sample from uniform distribution\n",
    "N_pts = int(1e2)\n",
    "pts = prmts_0.reshape(1, len(prmts_0)) + fixed_bound*(jrandom.uniform(subkey, shape=(N_pts, len(prmts_0))) - 0.5)*2\n",
    "h_space = jnp.logspace(-1, -6, 6)\n",
    "\n",
    "jrandom_key, subkey = jrandom.split(jrandom_key)\n",
    "res_fd, res_cfd, res_ours, res_rbf = mse_sensitivity(F, F_tilde, sig, pts, rbfs[0], h_space, subkey, num_runs=1)\n",
    "\n",
    "\n"
   ]
  },
  {
   "cell_type": "code",
   "execution_count": 154,
   "metadata": {},
   "outputs": [
    {
     "data": {
      "text/plain": [
       "(array([ 1.,  0.,  0.,  2.,  2.,  3.,  1.,  5.,  7.,  6.,  6., 16.,  9.,\n",
       "        13., 10.,  5., 11.,  2.,  0.,  1.]),\n",
       " array([1.8559919 , 1.94073331, 2.02547472, 2.11021613, 2.19495754,\n",
       "        2.27969895, 2.36444036, 2.44918177, 2.53392318, 2.61866459,\n",
       "        2.703406  , 2.78814742, 2.87288883, 2.95763024, 3.04237165,\n",
       "        3.12711306, 3.21185447, 3.29659588, 3.38133729, 3.4660787 ,\n",
       "        3.55082011]),\n",
       " <BarContainer object of 20 artists>)"
      ]
     },
     "execution_count": 154,
     "metadata": {},
     "output_type": "execute_result"
    },
    {
     "data": {
      "image/png": "[encoded data removed]",
      "text/plain": [
       "<Figure size 640x480 with 1 Axes>"
      ]
     },
     "metadata": {},
     "output_type": "display_data"
    }
   ],
   "source": [
    "plt.hist([float(c) for c in jnp.log(jnp.array(res_rbf)/postprocess(res_ours))/jnp.log(2)], bins=20)"
   ]
  },
  {
   "cell_type": "code",
   "execution_count": 155,
   "metadata": {},
   "outputs": [
    {
     "data": {
      "text/plain": [
       "(array([ 1.,  0.,  0.,  2.,  4.,  4., 11.,  5.,  8.,  8.,  6.,  8.,  5.,\n",
       "         5., 10.,  9.,  4.,  4.,  4.,  2.]),\n",
       " array([0.66570789, 0.7208679 , 0.77602791, 0.83118792, 0.88634793,\n",
       "        0.94150794, 0.99666795, 1.05182796, 1.10698797, 1.16214798,\n",
       "        1.21730799, 1.272468  , 1.32762801, 1.38278802, 1.43794803,\n",
       "        1.49310804, 1.54826806, 1.60342807, 1.65858808, 1.71374809,\n",
       "        1.7689081 ]),\n",
       " <BarContainer object of 20 artists>)"
      ]
     },
     "execution_count": 155,
     "metadata": {},
     "output_type": "execute_result"
    },
    {
     "data": {
      "image/png": "[encoded data removed]",
      "text/plain": [
       "<Figure size 640x480 with 1 Axes>"
      ]
     },
     "metadata": {},
     "output_type": "display_data"
    }
   ],
   "source": [
    "plt.hist([float(c) for c in jnp.log(postprocess(res_fd)/postprocess(res_ours))/jnp.log(2)], bins=20)"
   ]
  },
  {
   "cell_type": "code",
   "execution_count": 156,
   "metadata": {},
   "outputs": [
    {
     "data": {
      "text/plain": [
       "(array([ 1.,  1.,  3.,  1.,  0.,  3.,  5.,  4.,  7.,  6.,  7., 12.,  9.,\n",
       "         6.,  7.,  8.,  8.,  5.,  5.,  2.]),\n",
       " array([-1.43231835, -1.37076145, -1.30920456, -1.24764766, -1.18609077,\n",
       "        -1.12453387, -1.06297698, -1.00142008, -0.93986319, -0.87830629,\n",
       "        -0.81674939, -0.7551925 , -0.6936356 , -0.63207871, -0.57052181,\n",
       "        -0.50896492, -0.44740802, -0.38585113, -0.32429423, -0.26273734,\n",
       "        -0.20118044]),\n",
       " <BarContainer object of 20 artists>)"
      ]
     },
     "execution_count": 156,
     "metadata": {},
     "output_type": "execute_result"
    },
    {
     "data": {
      "image/png": "[encoded data removed]",
      "text/plain": [
       "<Figure size 640x480 with 1 Axes>"
      ]
     },
     "metadata": {},
     "output_type": "display_data"
    }
   ],
   "source": [
    "plt.hist([float(c) for c in jnp.log(postprocess(res_cfd)/postprocess(res_ours))/jnp.log(2)], bins=20)"
   ]
  },
  {
   "cell_type": "markdown",
   "metadata": {},
   "source": [
    "# Cancer"
   ]
  },
  {
   "cell_type": "code",
   "execution_count": 160,
   "metadata": {},
   "outputs": [],
   "source": [
    "a1 = 0.1\n",
    "a2 = 0.3\n",
    "a3 = 0.69\n",
    "b1 = 0.1\n",
    "b2 = 0.3\n",
    "b3 = 0.397\n",
    "gamma = 0.139\n",
    "k0 = 0.1\n",
    "m0 = 0.1\n",
    "k1 = 0.0003\n",
    "m1 = 0.0004\n",
    "\n",
    "final_T = 100\n",
    "dt = 0.01\n",
    "\n",
    "x_init = 1\n",
    "y_init = 100\n",
    "z_init = 100\n",
    "\n",
    "prmts_0 = jnp.array([a1, a2, a3, b1, b2, b3, gamma, k0, m0, k1, m1])\n",
    "\n",
    "Fs = [Cancer(x_init, y_init, z_init, dt, final_T, sig=0, output_var=\"N0\"),\n",
    "      Cancer(x_init, y_init, z_init, dt, final_T, sig=0, output_var=\"N1\"),\n",
    "      Cancer(x_init, y_init, z_init, dt, final_T, sig=0, output_var=\"N2\")]\n",
    "\n",
    "sig = 1e-3\n",
    "Fs_tilde = [Cancer(x_init, y_init, z_init, dt, final_T, sig=sig, output_var=\"N0\"),\n",
    "            Cancer(x_init, y_init, z_init, dt, final_T, sig=sig, output_var=\"N1\"),\n",
    "            Cancer(x_init, y_init, z_init, dt, final_T, sig=sig, output_var=\"N2\")]\n",
    "            \n",
    "\n",
    "prct_bound = 0.1 # we look at a neighborhood of +/- p%. \n",
    "jrandom_key = jrandom.PRNGKey(0)\n",
    "\n",
    "\n"
   ]
  },
  {
   "cell_type": "code",
   "execution_count": 163,
   "metadata": {},
   "outputs": [
    {
     "name": "stderr",
     "output_type": "stream",
     "text": [
      "100%|███████████████████████████████████| 10000/10000 [00:02<00:00, 4181.73it/s]\n"
     ]
    }
   ],
   "source": [
    "jrandom_key = jrandom.PRNGKey(1)\n",
    "jrandom_key, subkey = jrandom.split(jrandom_key)\n",
    "\n",
    "N_pts = int(1e4)\n",
    "rbfs = get_rbfs([Fs[0]], prmts_0, N_pts, prct_bound, subkey, smoothing=0)\n",
    "    "
   ]
  },
  {
   "cell_type": "code",
   "execution_count": 192,
   "metadata": {},
   "outputs": [
    {
     "name": "stderr",
     "output_type": "stream",
     "text": [
      "100%|█████████████████████████████████████████| 100/100 [00:54<00:00,  1.82it/s]\n",
      "100%|█████████████████████████████████████████| 100/100 [00:49<00:00,  2.04it/s]\n",
      "100%|█████████████████████████████████████████| 100/100 [01:03<00:00,  1.57it/s]\n",
      "100%|█████████████████████████████████████████| 100/100 [00:44<00:00,  2.24it/s]\n",
      "100%|█████████████████████████████████████████| 100/100 [00:44<00:00,  2.26it/s]\n",
      "100%|█████████████████████████████████████████| 100/100 [00:42<00:00,  2.38it/s]\n",
      "100%|█████████████████████████████████████████| 100/100 [00:43<00:00,  2.32it/s]\n",
      "100%|█████████████████████████████████████████| 100/100 [00:46<00:00,  2.13it/s]\n",
      "100%|█████████████████████████████████████████| 100/100 [00:51<00:00,  1.93it/s]\n",
      "100%|█████████████████████████████████████████| 100/100 [00:42<00:00,  2.33it/s]\n"
     ]
    }
   ],
   "source": [
    "jrandom_key = jrandom.PRNGKey(2)\n",
    "jrandom_key, subkey = jrandom.split(jrandom_key)\n",
    "# sample from uniform distribution\n",
    "N_pts = int(1e2)\n",
    "pts_prct = prct_bound*(jrandom.uniform(subkey, shape=(N_pts, len(prmts_0))) - 0.5)*2\n",
    "pts = prmts_0.reshape(1, len(prmts_0))*(1 + pts_prct)\n",
    "h_space = jnp.logspace(-2, -3.5, 6)\n",
    "true_h = 1e-11\n",
    "\n",
    "jrandom_key, subkey = jrandom.split(jrandom_key)\n",
    "res_fd, res_cfd, res_ours, res_rbf = mse_sensitivity(Fs[0], Fs_tilde[0], sig, pts, rbfs[0], h_space, subkey, true_h=true_h, num_runs=10)\n",
    "\n",
    "\n"
   ]
  },
  {
   "cell_type": "code",
   "execution_count": 193,
   "metadata": {},
   "outputs": [
    {
     "data": {
      "text/plain": [
       "(array([ 2., 11., 15., 24., 11.,  5., 10.,  4.,  3.,  4.,  2.,  0.,  0.,\n",
       "         1.,  3.,  2.,  1.,  0.,  0.,  2.]),\n",
       " array([0.62676629, 0.74354731, 0.86032833, 0.97710935, 1.09389037,\n",
       "        1.21067139, 1.32745241, 1.44423344, 1.56101446, 1.67779548,\n",
       "        1.7945765 , 1.91135752, 2.02813854, 2.14491956, 2.26170058,\n",
       "        2.3784816 , 2.49526262, 2.61204364, 2.72882466, 2.84560568,\n",
       "        2.9623867 ]),\n",
       " <BarContainer object of 20 artists>)"
      ]
     },
     "execution_count": 193,
     "metadata": {},
     "output_type": "execute_result"
    },
    {
     "data": {
      "image/png": "[encoded data removed]",
      "text/plain": [
       "<Figure size 640x480 with 1 Axes>"
      ]
     },
     "metadata": {},
     "output_type": "display_data"
    }
   ],
   "source": [
    "plt.hist([float(c) for c in jnp.log(jnp.array(res_rbf)/postprocess(res_ours))/jnp.log(2)], bins=20)"
   ]
  },
  {
   "cell_type": "code",
   "execution_count": 194,
   "metadata": {},
   "outputs": [
    {
     "data": {
      "text/plain": [
       "(array([ 1.,  0.,  2.,  0.,  0.,  1.,  1.,  2.,  8.,  6.,  8., 12., 10.,\n",
       "        13., 18.,  5.,  6.,  5.,  1.,  1.]),\n",
       " array([0.9284893 , 0.99147442, 1.05445954, 1.11744467, 1.18042979,\n",
       "        1.24341492, 1.30640004, 1.36938516, 1.43237029, 1.49535541,\n",
       "        1.55834053, 1.62132566, 1.68431078, 1.7472959 , 1.81028103,\n",
       "        1.87326615, 1.93625128, 1.9992364 , 2.06222152, 2.12520665,\n",
       "        2.18819177]),\n",
       " <BarContainer object of 20 artists>)"
      ]
     },
     "execution_count": 194,
     "metadata": {},
     "output_type": "execute_result"
    },
    {
     "data": {
      "image/png": "[encoded data removed]",
      "text/plain": [
       "<Figure size 640x480 with 1 Axes>"
      ]
     },
     "metadata": {},
     "output_type": "display_data"
    }
   ],
   "source": [
    "plt.hist([float(c) for c in jnp.log(postprocess(res_fd)/postprocess(res_ours))/jnp.log(2)], bins=20)"
   ]
  },
  {
   "cell_type": "code",
   "execution_count": 195,
   "metadata": {},
   "outputs": [
    {
     "data": {
      "text/plain": [
       "(array([ 1.,  2.,  0.,  0.,  0.,  1.,  5.,  4.,  3.,  8., 11., 17., 10.,\n",
       "        19.,  9.,  7.,  1.,  0.,  1.,  1.]),\n",
       " array([-0.99096636, -0.92977127, -0.86857617, -0.80738108, -0.74618599,\n",
       "        -0.68499089, -0.6237958 , -0.5626007 , -0.50140561, -0.44021051,\n",
       "        -0.37901542, -0.31782032, -0.25662523, -0.19543013, -0.13423504,\n",
       "        -0.07303994, -0.01184485,  0.04935025,  0.11054534,  0.17174043,\n",
       "         0.23293553]),\n",
       " <BarContainer object of 20 artists>)"
      ]
     },
     "execution_count": 195,
     "metadata": {},
     "output_type": "execute_result"
    },
    {
     "data": {
      "image/png": "[encoded data removed]",
      "text/plain": [
       "<Figure size 640x480 with 1 Axes>"
      ]
     },
     "metadata": {},
     "output_type": "display_data"
    }
   ],
   "source": [
    "plt.hist([float(c) for c in jnp.log(postprocess(res_cfd)/postprocess(res_ours))/jnp.log(2)], bins=20)"
   ]
  },
  {
   "cell_type": "code",
   "execution_count": null,
   "metadata": {},
   "outputs": [],
   "source": []
  }
 ],
 "metadata": {
  "kernelspec": {
   "display_name": "Python (simplex_grad)",
   "language": "python",
   "name": "simplex_grad"
  },
  "language_info": {
   "codemirror_mode": {
    "name": "ipython",
    "version": 3
   },
   "file_extension": ".py",
   "mimetype": "text/x-python",
   "name": "python",
   "nbconvert_exporter": "python",
   "pygments_lexer": "ipython3",
   "version": "3.10.0"
  }
 },
 "nbformat": 4,
 "nbformat_minor": 2
}
