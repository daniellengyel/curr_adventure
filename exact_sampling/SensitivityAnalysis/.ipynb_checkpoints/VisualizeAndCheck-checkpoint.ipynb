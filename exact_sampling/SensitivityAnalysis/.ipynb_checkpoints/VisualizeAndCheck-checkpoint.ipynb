{
 "cells": [
  {
   "cell_type": "code",
   "execution_count": 1,
   "metadata": {},
   "outputs": [],
   "source": [
    "import jax.numpy as jnp\n",
    "import jax.random as jrandom\n",
    "import numpy as np\n",
    "from jax import grad\n",
    "from jax import jit, grad, jacfwd, jacrev\n",
    "import math\n",
    "\n",
    "\n",
    "import scipy \n",
    "\n",
    "import matplotlib.pyplot as plt\n",
    "\n",
    "%matplotlib inline\n",
    "plt.rcParams['figure.figsize'] = [15,15]\n",
    "plt.style.use('default')\n",
    "plt.rcParams['lines.markersize'] = 8\n",
    "plt.rcParams.update({'font.size': 12})\n",
    "\n",
    "\n",
    "from tqdm import tqdm\n",
    "import time\n",
    "\n",
    "from jax.config import config\n",
    "config.update(\"jax_enable_x64\", True)\n",
    "\n",
    "import sys\n",
    "sys.path.append(\"..\")\n",
    "\n",
    "from Ours import Ours\n",
    "from FD import FD\n",
    "from Functions import Quadratic, PyCutestGetter, Ackley\n",
    "from RBF import RBF\n",
    "\n",
    "from scipy.interpolate import Rbf, RBFInterpolator\n",
    "\n",
    "%load_ext autoreload\n",
    "%autoreload 2"
   ]
  },
  {
   "cell_type": "markdown",
   "metadata": {},
   "source": [
    "$$\\frac{dS}{dt} = - \\frac{1}{Y} \\frac{\\mu_{max} S}{K_S + S} X$$\n",
    "\n",
    "$$\\frac{dX}{dt} = \\frac{\\mu_{max} S}{K_S + S} X - K_d X$$"
   ]
  },
  {
   "cell_type": "code",
   "execution_count": 17,
   "metadata": {},
   "outputs": [],
   "source": [
    "def simulateMonod(S_init, X_init, mu_max, Y, K_S, K_d, dt, final_T):\n",
    "    curr_T = 0\n",
    "    S = S_init\n",
    "    X = X_init \n",
    "    res_S = [S]\n",
    "    \n",
    "    while curr_T < final_T:\n",
    "        S_delta = -1/Y * (mu_max * S)/(K_S + S)*X\n",
    "        X_delta = (mu_max * S)/(K_S + S) * X - K_d * X\n",
    "        S += dt * S_delta\n",
    "        X += dt * X_delta\n",
    "        curr_T += delta_t\n",
    "        res_S.append(S)\n",
    "        \n",
    "    return X, S, res_S\n",
    "    \n",
    "    "
   ]
  },
  {
   "cell_type": "code",
   "execution_count": 20,
   "metadata": {},
   "outputs": [],
   "source": [
    "S_init = 10\n",
    "X_init = 0.1\n",
    "mu_max = 0.5\n",
    "Y = 0.5\n",
    "K_d = 0.03\n",
    "K_S = 20 \n",
    "dt = 1e-4\n",
    "final_T = 50\n",
    "\n",
    "X, S, res_S = simulateMonod(S_init, X_init, mu_max, Y, K_S, K_d, dt, final_T)\n"
   ]
  },
  {
   "cell_type": "code",
   "execution_count": 22,
   "metadata": {},
   "outputs": [
    {
     "data": {
      "text/plain": [
       "[<matplotlib.lines.Line2D at 0x7feeb17b6080>]"
      ]
     },
     "execution_count": 22,
     "metadata": {},
     "output_type": "execute_result"
    },
    {
     "data": {
      "image/png": "[encoded data removed]",
      "text/plain": [
       "<Figure size 640x480 with 1 Axes>"
      ]
     },
     "metadata": {},
     "output_type": "display_data"
    }
   ],
   "source": [
    "X, S, res_S = simulateMonod(S_init, X_init, mu_max, Y, K_S, K_d, dt, final_T)\n",
    "plt.plot(np.linspace(0, final_T, len(res_S)), res_S)"
   ]
  },
  {
   "cell_type": "code",
   "execution_count": 54,
   "metadata": {},
   "outputs": [
    {
     "data": {
      "text/plain": [
       "DeviceArray([[2.50000000e-01, 2.50000000e-01, 1.50000000e-02,\n",
       "              1.00000000e+01],\n",
       "             [2.50000000e-01, 2.50000000e-01, 1.50000000e-02,\n",
       "              1.66666667e+01],\n",
       "             [2.50000000e-01, 2.50000000e-01, 1.50000000e-02,\n",
       "              2.33333333e+01],\n",
       "             [2.50000000e-01, 2.50000000e-01, 1.50000000e-02,\n",
       "              3.00000000e+01],\n",
       "             [2.50000000e-01, 2.50000000e-01, 2.50000000e-02,\n",
       "              1.00000000e+01],\n",
       "             [2.50000000e-01, 2.50000000e-01, 2.50000000e-02,\n",
       "              1.66666667e+01],\n",
       "             [2.50000000e-01, 2.50000000e-01, 2.50000000e-02,\n",
       "              2.33333333e+01],\n",
       "             [2.50000000e-01, 2.50000000e-01, 2.50000000e-02,\n",
       "              3.00000000e+01],\n",
       "             [2.50000000e-01, 2.50000000e-01, 3.50000000e-02,\n",
       "              1.00000000e+01],\n",
       "             [2.50000000e-01, 2.50000000e-01, 3.50000000e-02,\n",
       "              1.66666667e+01],\n",
       "             [2.50000000e-01, 2.50000000e-01, 3.50000000e-02,\n",
       "              2.33333333e+01],\n",
       "             [2.50000000e-01, 2.50000000e-01, 3.50000000e-02,\n",
       "              3.00000000e+01],\n",
       "             [2.50000000e-01, 2.50000000e-01, 4.50000000e-02,\n",
       "              1.00000000e+01],\n",
       "             [2.50000000e-01, 2.50000000e-01, 4.50000000e-02,\n",
       "              1.66666667e+01],\n",
       "             [2.50000000e-01, 2.50000000e-01, 4.50000000e-02,\n",
       "              2.33333333e+01],\n",
       "             [2.50000000e-01, 2.50000000e-01, 4.50000000e-02,\n",
       "              3.00000000e+01],\n",
       "             [4.16666667e-01, 2.50000000e-01, 1.50000000e-02,\n",
       "              1.00000000e+01],\n",
       "             [4.16666667e-01, 2.50000000e-01, 1.50000000e-02,\n",
       "              1.66666667e+01],\n",
       "             [4.16666667e-01, 2.50000000e-01, 1.50000000e-02,\n",
       "              2.33333333e+01],\n",
       "             [4.16666667e-01, 2.50000000e-01, 1.50000000e-02,\n",
       "              3.00000000e+01]], dtype=float64)"
      ]
     },
     "execution_count": 54,
     "metadata": {},
     "output_type": "execute_result"
    }
   ],
   "source": [
    "# Recall, there are four inputs given that we fix X and S\n",
    "# We choose the order to be mu_max, Y, K_d, K_s\n",
    "\n",
    "# we look at a neighborhood of +/- 100%. \n",
    "percentage_delta = jnp.linspace(-0.5, 0.5, 4)\n",
    "all_points = jnp.array([x.reshape(-1) for x in jnp.meshgrid(percentage_delta, percentage_delta, percentage_delta, percentage_delta)]).T\n",
    "\n",
    "prmts_0 = jnp.array([mu_max, Y, K_S, K_d])\n",
    "prmts = prmts_0.reshape(1, 4)*(1 + all_points)\n",
    "\n",
    "out = []\n",
    "for p in prmts:\n",
    "    out.append(simulateMonod(S_init, X_init, prmts[0], prmts[1], prmts[2], prmts[3], dt, final_T)[1])\n"
   ]
  },
  {
   "cell_type": "code",
   "execution_count": 52,
   "metadata": {},
   "outputs": [
    {
     "data": {
      "text/plain": [
       "(4, 256)"
      ]
     },
     "execution_count": 52,
     "metadata": {},
     "output_type": "execute_result"
    }
   ],
   "source": [
    "all_points.shape"
   ]
  },
  {
   "cell_type": "code",
   "execution_count": null,
   "metadata": {},
   "outputs": [],
   "source": []
  }
 ],
 "metadata": {
  "kernelspec": {
   "display_name": "Python (simplex_grad)",
   "language": "python",
   "name": "simplex_grad"
  },
  "language_info": {
   "codemirror_mode": {
    "name": "ipython",
    "version": 3
   },
   "file_extension": ".py",
   "mimetype": "text/x-python",
   "name": "python",
   "nbconvert_exporter": "python",
   "pygments_lexer": "ipython3",
   "version": "3.10.0"
  }
 },
 "nbformat": 4,
 "nbformat_minor": 2
}
