{
 "cells": [
  {
   "cell_type": "code",
   "execution_count": 1,
   "metadata": {},
   "outputs": [
    {
     "name": "stderr",
     "output_type": "stream",
     "text": [
      "WARNING:absl:No GPU/TPU found, falling back to CPU. (Set TF_CPP_MIN_LOG_LEVEL=0 and rerun for more info.)\n"
     ]
    }
   ],
   "source": [
    "import jax.numpy as jnp\n",
    "import jax.random as jrandom\n",
    "import numpy as np\n",
    "from jax import grad\n",
    "from jax import jit, grad, jacfwd, jacrev\n",
    "from jax.lax import fori_loop\n",
    "from jax import jit\n",
    "from functools import partial\n",
    "\n",
    "import math\n",
    "\n",
    "\n",
    "import scipy \n",
    "\n",
    "import matplotlib.pyplot as plt\n",
    "import plotly.graph_objects as go\n",
    "\n",
    "%matplotlib inline\n",
    "plt.rcParams['figure.figsize'] = [15,15]\n",
    "plt.style.use('default')\n",
    "plt.rcParams['lines.markersize'] = 8\n",
    "plt.rcParams.update({'font.size': 12})\n",
    "\n",
    "\n",
    "from tqdm import tqdm\n",
    "import time\n",
    "\n",
    "from jax.config import config\n",
    "config.update(\"jax_enable_x64\", True)\n",
    "\n",
    "import sys\n",
    "sys.path.append(\"..\")\n",
    "\n",
    "from Ours import Ours\n",
    "from FD import FD\n",
    "from Functions import Quadratic, PyCutestGetter, Ackley\n",
    "from RBF import RBF\n",
    "from utils import mse_sensitivity, get_rbfs\n",
    "\n",
    "\n",
    "from DynamicalSystems import Laser, LaserFull, Monod, invert_Laser_params\n",
    "\n",
    "%load_ext autoreload\n",
    "%autoreload 2"
   ]
  },
  {
   "cell_type": "markdown",
   "metadata": {},
   "source": [
    "# Laser"
   ]
  },
  {
   "cell_type": "code",
   "execution_count": 29,
   "metadata": {},
   "outputs": [],
   "source": [
    "sigma = 11\n",
    "alpha = 1\n",
    "delta = 1.017\n",
    "gamma = 1e-3\n",
    "epsilon = 1e-5\n",
    "\n",
    "final_T = 5e5\n",
    "dt = 10\n",
    "\n",
    "x_init = 0.03\n",
    "y_init = 0.998\n",
    "z_init = -0.014\n",
    "\n",
    "normalize_const_diag = jnp.diag(jnp.logspace(0, 3, 11))\n",
    "gamma_0, gamma_c, gamma_f, I_0, A, s_prime, e, V, k, g, N_t, S_init, N_init, I_init = invert_Laser_params(sigma, alpha, delta, gamma, epsilon, x_init, y_init, z_init)\n",
    "prmts_0 = normalize_const_diag @ jnp.array([gamma_0, gamma_c, gamma_f, I_0, A, s_prime, e, V, k, g, N_t])\n",
    "prct_bound = 1e-8 # we look at a neighborhood of +/- p%. \n",
    "\n",
    "\n",
    "\n",
    "Fs = [LaserFull(S_init, N_init, I_init, dt, final_T, normalize_const_diag=normalize_const_diag, sig=0, noise_type=\"gaussian\", output_var=\"S\"),\n",
    "      LaserFull(S_init, N_init, I_init, dt, final_T, normalize_const_diag=normalize_const_diag, sig=0, noise_type=\"gaussian\", output_var=\"N\"),\n",
    "      LaserFull(S_init, N_init, I_init, dt, final_T, normalize_const_diag=normalize_const_diag, sig=0, noise_type=\"gaussian\", output_var=\"I\")]\n",
    "sig = 1e-4\n",
    "Fs_tilde = [LaserFull(S_init, N_init, I_init, dt, final_T, normalize_const_diag=normalize_const_diag, sig=sig, noise_type=\"gaussian\", output_var=\"S\"),\n",
    "            LaserFull(S_init, N_init, I_init, dt, final_T, normalize_const_diag=normalize_const_diag, sig=sig, noise_type=\"gaussian\", output_var=\"N\"),\n",
    "            LaserFull(S_init, N_init, I_init, dt, final_T, normalize_const_diag=normalize_const_diag, sig=sig, noise_type=\"gaussian\", output_var=\"I\")]\n",
    "            \n",
    "\n",
    "jrandom_key = jrandom.PRNGKey(0)\n"
   ]
  },
  {
   "cell_type": "code",
   "execution_count": 30,
   "metadata": {},
   "outputs": [
    {
     "name": "stderr",
     "output_type": "stream",
     "text": [
      "100%|███████████████████████████████████| 10000/10000 [00:07<00:00, 1335.40it/s]\n"
     ]
    }
   ],
   "source": [
    "jrandom_key = jrandom.PRNGKey(1)\n",
    "jrandom_key, subkey = jrandom.split(jrandom_key)\n",
    "\n",
    "N_pts = int(1e4)\n",
    "rbfs = get_rbfs([Fs[0]], prmts_0, N_pts, prct_bound, subkey, smoothing=0)\n",
    "    "
   ]
  },
  {
   "cell_type": "code",
   "execution_count": 31,
   "metadata": {},
   "outputs": [],
   "source": [
    "p = pts[0]"
   ]
  },
  {
   "cell_type": "code",
   "execution_count": 32,
   "metadata": {},
   "outputs": [
    {
     "name": "stdout",
     "output_type": "stream",
     "text": [
      "[nan nan nan nan nan nan nan nan nan nan nan]\n"
     ]
    }
   ],
   "source": [
    "true_h = 1e-10\n",
    "grad_getter_cfd_true = FD(sig=0, is_central=True, h=true_h)\n",
    "true_grad = grad_getter_cfd_true.grad(Fs[0], p, jrandom_key=subkey, H=None)[0]\n",
    "print(true_grad)"
   ]
  },
  {
   "cell_type": "code",
   "execution_count": 15,
   "metadata": {},
   "outputs": [
    {
     "data": {
      "text/plain": [
       "DeviceArray([nan, nan, nan, nan, nan, nan, nan, nan, nan, nan, nan], dtype=float64)"
      ]
     },
     "execution_count": 15,
     "metadata": {},
     "output_type": "execute_result"
    }
   ],
   "source": [
    "rbfs[0].f1(p)"
   ]
  },
  {
   "cell_type": "code",
   "execution_count": 16,
   "metadata": {},
   "outputs": [
    {
     "data": {
      "text/plain": [
       "DeviceArray(nan, dtype=float64)"
      ]
     },
     "execution_count": 16,
     "metadata": {},
     "output_type": "execute_result"
    }
   ],
   "source": [
    "jnp.linalg.norm(rbfs[0].f1(p) - true_grad)"
   ]
  },
  {
   "cell_type": "code",
   "execution_count": 33,
   "metadata": {},
   "outputs": [
    {
     "name": "stderr",
     "output_type": "stream",
     "text": [
      "\r",
      "  0%|                                                    | 0/10 [00:00<?, ?it/s]"
     ]
    },
    {
     "name": "stdout",
     "output_type": "stream",
     "text": [
      "19.744701824863736\n",
      "[-4.84729736 -2.66223341 -2.07341294 -2.0620822  -2.06205824 -2.06205824\n",
      " -2.06205797 -2.06130283 -2.01164163 -1.02399451  0.24549864]\n"
     ]
    },
    {
     "name": "stderr",
     "output_type": "stream",
     "text": [
      "\r",
      " 10%|████▍                                       | 1/10 [00:00<00:06,  1.39it/s]"
     ]
    },
    {
     "name": "stdout",
     "output_type": "stream",
     "text": [
      "84.39324245476851\n",
      "[-6.4113913  -1.45952895 -0.12916691 -0.12129536 -0.1212897  -0.1212897\n",
      " -0.12128743 -0.1198989  -0.07597043  1.90690759  5.44002442]\n"
     ]
    },
    {
     "name": "stderr",
     "output_type": "stream",
     "text": [
      "\r",
      " 20%|████████▊                                   | 2/10 [00:01<00:05,  1.50it/s]"
     ]
    },
    {
     "name": "stdout",
     "output_type": "stream",
     "text": [
      "10.377037844085812\n",
      "[-11.03441008  -3.70136886  -2.95544678  -2.8105338   -2.81047653\n",
      "  -2.81047253  -2.81047253  -2.80940769  -2.71881064  -1.06334874\n",
      "   4.60955032]\n"
     ]
    },
    {
     "name": "stderr",
     "output_type": "stream",
     "text": [
      "\r",
      " 30%|█████████████▏                              | 3/10 [00:02<00:05,  1.33it/s]"
     ]
    },
    {
     "name": "stdout",
     "output_type": "stream",
     "text": [
      "8.920859627800974\n",
      "[ 1.21983859  5.59816883  6.00196202  6.056325    6.05709317  6.05720868\n",
      "  6.05720868  6.05721171  6.06592407  6.57634583 10.88200887]\n"
     ]
    },
    {
     "name": "stderr",
     "output_type": "stream",
     "text": [
      "\r",
      " 40%|█████████████████▌                          | 4/10 [00:02<00:04,  1.37it/s]"
     ]
    },
    {
     "name": "stdout",
     "output_type": "stream",
     "text": [
      "43.47679500544751\n",
      "[-12.42636168  -9.01150226  -7.35505781  -7.25577571  -7.25362233\n",
      "  -7.25362151  -7.25362151  -7.25349264  -7.25307371  -7.18789145\n",
      "  -0.28581595]\n"
     ]
    },
    {
     "name": "stderr",
     "output_type": "stream",
     "text": [
      "\r",
      " 50%|██████████████████████                      | 5/10 [00:03<00:03,  1.39it/s]"
     ]
    },
    {
     "name": "stdout",
     "output_type": "stream",
     "text": [
      "3.7350239784831905\n",
      "[-3.95173319  5.3661877   6.40194505  6.50623373  6.50628766  6.50628766\n",
      "  6.50647757  6.515165    6.5358095   9.91668536 14.75981823]\n"
     ]
    },
    {
     "name": "stderr",
     "output_type": "stream",
     "text": [
      "\r",
      " 60%|██████████████████████████▍                 | 6/10 [00:04<00:03,  1.30it/s]"
     ]
    },
    {
     "name": "stdout",
     "output_type": "stream",
     "text": [
      "4.64746332686075\n",
      "[-20.29045042  -9.36998878  -9.03816575  -8.64726583  -8.58411109\n",
      "  -8.58408191  -8.58408191  -8.58407808  -8.58275816  -8.5258385\n",
      "   4.36591943]\n"
     ]
    },
    {
     "name": "stderr",
     "output_type": "stream",
     "text": [
      "\r",
      " 70%|██████████████████████████████▊             | 7/10 [00:05<00:02,  1.35it/s]"
     ]
    },
    {
     "name": "stdout",
     "output_type": "stream",
     "text": [
      "66.47049040827903\n",
      "[-2.44269104 -0.76611604 -0.47200241 -0.46573899 -0.4657318  -0.46573163\n",
      " -0.46573163 -0.46430999 -0.46228556 -0.0367485   1.3840397 ]\n"
     ]
    },
    {
     "name": "stderr",
     "output_type": "stream",
     "text": [
      "\r",
      " 80%|███████████████████████████████████▏        | 8/10 [00:05<00:01,  1.40it/s]"
     ]
    },
    {
     "name": "stdout",
     "output_type": "stream",
     "text": [
      "29.573622385554675\n",
      "[-11.6962399   -3.00800358   0.82065524   2.60900066   2.63823547\n",
      "   2.63829713   2.63829713   2.63841534   2.63844152   2.83442123\n",
      "  24.26974818]\n"
     ]
    },
    {
     "name": "stderr",
     "output_type": "stream",
     "text": [
      "\r",
      " 90%|███████████████████████████████████████▌    | 9/10 [00:06<00:00,  1.46it/s]"
     ]
    },
    {
     "name": "stdout",
     "output_type": "stream",
     "text": [
      "16.84009777764412\n",
      "[-4.16141407 -1.34919658 -0.77704853 -0.47908486 -0.40740768 -0.40740768\n",
      " -0.40740666 -0.40739872 -0.38116959 -0.2712136   4.56726347]\n"
     ]
    },
    {
     "name": "stderr",
     "output_type": "stream",
     "text": [
      "100%|███████████████████████████████████████████| 10/10 [00:07<00:00,  1.37it/s]\n"
     ]
    }
   ],
   "source": [
    "jrandom_key = jrandom.PRNGKey(2)\n",
    "jrandom_key, subkey = jrandom.split(jrandom_key)\n",
    "# sample from uniform distribution\n",
    "N_pts = int(1e1)\n",
    "pts_prct = prct_bound*(jrandom.uniform(subkey, shape=(N_pts, 11)) - 0.5)*2\n",
    "pts = prmts_0.reshape(1, 11)*(1 + pts_prct)\n",
    "h_space = jnp.logspace(-7, -6, 6)\n",
    "\n",
    "jrandom_key, subkey = jrandom.split(jrandom_key)\n",
    "res_fd, res_cfd, res_ours, res_rbf = mse_sensitivity(Fs[0], Fs_tilde[0], sig, pts, rbfs[0], h_space, subkey, num_runs=1)\n"
   ]
  },
  {
   "cell_type": "code",
   "execution_count": 34,
   "metadata": {},
   "outputs": [
    {
     "data": {
      "text/plain": [
       "[DeviceArray(2.27017775, dtype=float64),\n",
       " DeviceArray(2.33056104, dtype=float64),\n",
       " DeviceArray(2.3098538, dtype=float64),\n",
       " DeviceArray(2.26474506, dtype=float64),\n",
       " DeviceArray(2.34059959, dtype=float64),\n",
       " DeviceArray(2.32146828, dtype=float64),\n",
       " DeviceArray(2.29875817, dtype=float64),\n",
       " DeviceArray(2.4118013, dtype=float64),\n",
       " DeviceArray(2.2960874, dtype=float64),\n",
       " DeviceArray(2.32146415, dtype=float64)]"
      ]
     },
     "execution_count": 34,
     "metadata": {},
     "output_type": "execute_result"
    }
   ],
   "source": [
    "res_rbf"
   ]
  },
  {
   "cell_type": "code",
   "execution_count": 35,
   "metadata": {},
   "outputs": [
    {
     "data": {
      "text/plain": [
       "[[[DeviceArray(308.51156736, dtype=float64)],\n",
       "  [DeviceArray(194.12503717, dtype=float64)],\n",
       "  [DeviceArray(127.73835204, dtype=float64)],\n",
       "  [DeviceArray(103.04445138, dtype=float64)],\n",
       "  [DeviceArray(77.74126841, dtype=float64)],\n",
       "  [DeviceArray(85.62078496, dtype=float64)]],\n",
       " [[DeviceArray(306.12602821, dtype=float64)],\n",
       "  [DeviceArray(187.82143659, dtype=float64)],\n",
       "  [DeviceArray(113.2953096, dtype=float64)],\n",
       "  [DeviceArray(81.16443902, dtype=float64)],\n",
       "  [DeviceArray(62.41680291, dtype=float64)],\n",
       "  [DeviceArray(76.28712425, dtype=float64)]],\n",
       " [[DeviceArray(307.68394221, dtype=float64)],\n",
       "  [DeviceArray(191.75801229, dtype=float64)],\n",
       "  [DeviceArray(122.55591867, dtype=float64)],\n",
       "  [DeviceArray(96.02007832, dtype=float64)],\n",
       "  [DeviceArray(73.56644415, dtype=float64)],\n",
       "  [DeviceArray(85.88362966, dtype=float64)]],\n",
       " [[DeviceArray(304.59336047, dtype=float64)],\n",
       "  [DeviceArray(184.18325197, dtype=float64)],\n",
       "  [DeviceArray(104.61270302, dtype=float64)],\n",
       "  [DeviceArray(68.30600427, dtype=float64)],\n",
       "  [DeviceArray(61.21754394, dtype=float64)],\n",
       "  [DeviceArray(79.28516678, dtype=float64)]],\n",
       " [[DeviceArray(310.168893, dtype=float64)],\n",
       "  [DeviceArray(198.15508508, dtype=float64)],\n",
       "  [DeviceArray(136.78312343, dtype=float64)],\n",
       "  [DeviceArray(117.68282523, dtype=float64)],\n",
       "  [DeviceArray(95.11435535, dtype=float64)],\n",
       "  [DeviceArray(98.65660652, dtype=float64)]],\n",
       " [[DeviceArray(306.50338682, dtype=float64)],\n",
       "  [DeviceArray(188.44617115, dtype=float64)],\n",
       "  [DeviceArray(114.35680755, dtype=float64)],\n",
       "  [DeviceArray(82.69794017, dtype=float64)],\n",
       "  [DeviceArray(65.44483651, dtype=float64)],\n",
       "  [DeviceArray(78.11314034, dtype=float64)]],\n",
       " [[DeviceArray(304.60775773, dtype=float64)],\n",
       "  [DeviceArray(184.30522412, dtype=float64)],\n",
       "  [DeviceArray(104.81428942, dtype=float64)],\n",
       "  [DeviceArray(67.59089777, dtype=float64)],\n",
       "  [DeviceArray(61.25541069, dtype=float64)],\n",
       "  [DeviceArray(73.5876316, dtype=float64)]],\n",
       " [[DeviceArray(307.06269767, dtype=float64)],\n",
       "  [DeviceArray(190.15705532, dtype=float64)],\n",
       "  [DeviceArray(119.51187533, dtype=float64)],\n",
       "  [DeviceArray(93.60646062, dtype=float64)],\n",
       "  [DeviceArray(69.70571512, dtype=float64)],\n",
       "  [DeviceArray(99.61262716, dtype=float64)]],\n",
       " [[DeviceArray(309.93849389, dtype=float64)],\n",
       "  [DeviceArray(197.61904552, dtype=float64)],\n",
       "  [DeviceArray(135.69858461, dtype=float64)],\n",
       "  [DeviceArray(115.95497879, dtype=float64)],\n",
       "  [DeviceArray(90.62662054, dtype=float64)],\n",
       "  [DeviceArray(100.81154929, dtype=float64)]],\n",
       " [[DeviceArray(307.19935833, dtype=float64)],\n",
       "  [DeviceArray(190.12159475, dtype=float64)],\n",
       "  [DeviceArray(120.08437266, dtype=float64)],\n",
       "  [DeviceArray(97.58851064, dtype=float64)],\n",
       "  [DeviceArray(78.81773161, dtype=float64)],\n",
       "  [DeviceArray(115.13972333, dtype=float64)]]]"
      ]
     },
     "execution_count": 35,
     "metadata": {},
     "output_type": "execute_result"
    }
   ],
   "source": [
    "res_ours"
   ]
  },
  {
   "cell_type": "code",
   "execution_count": 36,
   "metadata": {},
   "outputs": [
    {
     "data": {
      "text/plain": [
       "[[[DeviceArray(311.69640151, dtype=float64)],\n",
       "  [DeviceArray(199.16906337, dtype=float64)],\n",
       "  [DeviceArray(130.50344295, dtype=float64)],\n",
       "  [DeviceArray(106.08900152, dtype=float64)],\n",
       "  [DeviceArray(133.16959912, dtype=float64)],\n",
       "  [DeviceArray(135.95856537, dtype=float64)]],\n",
       " [[DeviceArray(311.6939529, dtype=float64)],\n",
       "  [DeviceArray(199.16787923, dtype=float64)],\n",
       "  [DeviceArray(130.50652399, dtype=float64)],\n",
       "  [DeviceArray(106.1009214, dtype=float64)],\n",
       "  [DeviceArray(133.2168139, dtype=float64)],\n",
       "  [DeviceArray(136.26730838, dtype=float64)]],\n",
       " [[DeviceArray(311.69670915, dtype=float64)],\n",
       "  [DeviceArray(199.17110443, dtype=float64)],\n",
       "  [DeviceArray(130.51020963, dtype=float64)],\n",
       "  [DeviceArray(106.10344544, dtype=float64)],\n",
       "  [DeviceArray(133.21139967, dtype=float64)],\n",
       "  [DeviceArray(136.20559021, dtype=float64)]],\n",
       " [[DeviceArray(311.69477501, dtype=float64)],\n",
       "  [DeviceArray(199.16585102, dtype=float64)],\n",
       "  [DeviceArray(130.49653029, dtype=float64)],\n",
       "  [DeviceArray(106.07910772, dtype=float64)],\n",
       "  [DeviceArray(133.14948631, dtype=float64)],\n",
       "  [DeviceArray(135.86107585, dtype=float64)]],\n",
       " [[DeviceArray(311.69205939, dtype=float64)],\n",
       "  [DeviceArray(199.16559309, dtype=float64)],\n",
       "  [DeviceArray(130.504366, dtype=float64)],\n",
       "  [DeviceArray(106.09976103, dtype=float64)],\n",
       "  [DeviceArray(133.21946645, dtype=float64)],\n",
       "  [DeviceArray(136.28939445, dtype=float64)]],\n",
       " [[DeviceArray(311.69754763, dtype=float64)],\n",
       "  [DeviceArray(199.17052625, dtype=float64)],\n",
       "  [DeviceArray(130.5070044, dtype=float64)],\n",
       "  [DeviceArray(106.09802268, dtype=float64)],\n",
       "  [DeviceArray(133.2078046, dtype=float64)],\n",
       "  [DeviceArray(136.22608825, dtype=float64)]],\n",
       " [[DeviceArray(311.70016577, dtype=float64)],\n",
       "  [DeviceArray(199.17427482, dtype=float64)],\n",
       "  [DeviceArray(130.51274851, dtype=float64)],\n",
       "  [DeviceArray(106.1050308, dtype=float64)],\n",
       "  [DeviceArray(133.20564859, dtype=float64)],\n",
       "  [DeviceArray(136.14879916, dtype=float64)]],\n",
       " [[DeviceArray(311.69482328, dtype=float64)],\n",
       "  [DeviceArray(199.17019524, dtype=float64)],\n",
       "  [DeviceArray(130.5137375, dtype=float64)],\n",
       "  [DeviceArray(106.11686322, dtype=float64)],\n",
       "  [DeviceArray(133.25890489, dtype=float64)],\n",
       "  [DeviceArray(136.49742646, dtype=float64)]],\n",
       " [[DeviceArray(311.702118, dtype=float64)],\n",
       "  [DeviceArray(199.1755087, dtype=float64)],\n",
       "  [DeviceArray(130.51159574, dtype=float64)],\n",
       "  [DeviceArray(106.09920037, dtype=float64)],\n",
       "  [DeviceArray(133.19810625, dtype=float64)],\n",
       "  [DeviceArray(136.15016523, dtype=float64)]],\n",
       " [[DeviceArray(311.69647386, dtype=float64)],\n",
       "  [DeviceArray(199.17030936, dtype=float64)],\n",
       "  [DeviceArray(130.50911176, dtype=float64)],\n",
       "  [DeviceArray(106.10358076, dtype=float64)],\n",
       "  [DeviceArray(133.21463494, dtype=float64)],\n",
       "  [DeviceArray(136.22702954, dtype=float64)]]]"
      ]
     },
     "execution_count": 36,
     "metadata": {},
     "output_type": "execute_result"
    }
   ],
   "source": [
    "res_fd"
   ]
  },
  {
   "cell_type": "markdown",
   "metadata": {},
   "source": [
    "# Monod"
   ]
  },
  {
   "cell_type": "code",
   "execution_count": 62,
   "metadata": {},
   "outputs": [],
   "source": [
    "S_init = 10\n",
    "X_init = 0.1\n",
    "\n",
    "mu_max = 0.25 # 0.5\n",
    "Y = 0.75 # 0.5\n",
    "K_d = 0.03\n",
    "K_S = 20\n",
    "\n",
    "dt = 1e-4\n",
    "final_T = 10\n",
    "\n",
    "prmts_0 = jnp.array([mu_max, Y, K_S, K_d])\n",
    "\n",
    "Fs = [Monod(S_init, X_init, dt, final_T, sig=0, output_var=\"S\"),\n",
    "      Monod(S_init, X_init, dt, final_T, sig=0, output_var=\"X\")]\n",
    "\n",
    "sig = 1e-4\n",
    "Fs_tilde = [Monod(S_init, X_init, dt, final_T, sig=sig, output_var=\"S\"),\n",
    "            Monod(S_init, X_init, dt, final_T, sig=sig, output_var=\"X\")]\n",
    "            \n",
    "\n",
    "prct_bound = 0.25 # we look at a neighborhood of +/- p%. \n",
    "jrandom_key = jrandom.PRNGKey(0)\n",
    "\n"
   ]
  },
  {
   "cell_type": "code",
   "execution_count": 63,
   "metadata": {},
   "outputs": [
    {
     "name": "stderr",
     "output_type": "stream",
     "text": [
      "100%|██████████████████████████████████████| 1000/1000 [00:01<00:00, 785.48it/s]\n"
     ]
    }
   ],
   "source": [
    "jrandom_key = jrandom.PRNGKey(1)\n",
    "jrandom_key, subkey = jrandom.split(jrandom_key)\n",
    "\n",
    "N_pts = int(1e3)\n",
    "rbfs = get_rbfs([Fs[0]], prmts_0, N_pts, prct_bound, subkey, smoothing=0)\n",
    "    "
   ]
  },
  {
   "cell_type": "code",
   "execution_count": 64,
   "metadata": {},
   "outputs": [
    {
     "name": "stderr",
     "output_type": "stream",
     "text": [
      "\r",
      "  0%|                                                    | 0/10 [00:00<?, ?it/s]"
     ]
    },
    {
     "name": "stdout",
     "output_type": "stream",
     "text": [
      "7.622165475167135\n",
      "[-1.56214505 -0.93094982 -0.24018475  0.20494767]\n"
     ]
    },
    {
     "name": "stderr",
     "output_type": "stream",
     "text": [
      "\r",
      " 10%|████▍                                       | 1/10 [00:00<00:03,  2.58it/s]"
     ]
    },
    {
     "name": "stdout",
     "output_type": "stream",
     "text": [
      "15.23714568806294\n",
      "[-4.17032158 -1.19410144  0.27369441  0.34565233]\n"
     ]
    },
    {
     "name": "stderr",
     "output_type": "stream",
     "text": [
      "\r",
      " 20%|████████▊                                   | 2/10 [00:00<00:02,  2.93it/s]"
     ]
    },
    {
     "name": "stdout",
     "output_type": "stream",
     "text": [
      "5.235638806121677\n",
      "[-0.87056207  0.20467572  0.43782308  1.07160815]\n"
     ]
    },
    {
     "name": "stderr",
     "output_type": "stream",
     "text": [
      "\r",
      " 30%|█████████████▏                              | 3/10 [00:01<00:02,  2.91it/s]"
     ]
    },
    {
     "name": "stdout",
     "output_type": "stream",
     "text": [
      "8.50313646839588\n",
      "[-2.86481611 -0.78653051 -0.33691287  0.88550347]\n"
     ]
    },
    {
     "name": "stderr",
     "output_type": "stream",
     "text": [
      "\r",
      " 40%|█████████████████▌                          | 4/10 [00:01<00:02,  2.88it/s]"
     ]
    },
    {
     "name": "stdout",
     "output_type": "stream",
     "text": [
      "169.7239856168245\n",
      "[-3.80303294 -1.20004528  0.02240716  0.52210584]\n"
     ]
    },
    {
     "name": "stderr",
     "output_type": "stream",
     "text": [
      "\r",
      " 50%|██████████████████████                      | 5/10 [00:01<00:01,  2.94it/s]"
     ]
    },
    {
     "name": "stdout",
     "output_type": "stream",
     "text": [
      "45.16483828554948\n",
      "[-1.56187091 -0.37234268  0.03458157  0.36658208]\n"
     ]
    },
    {
     "name": "stderr",
     "output_type": "stream",
     "text": [
      "\r",
      " 60%|██████████████████████████▍                 | 6/10 [00:02<00:01,  3.05it/s]"
     ]
    },
    {
     "name": "stdout",
     "output_type": "stream",
     "text": [
      "4.981922139050557\n",
      "[-3.21927019 -1.40774    -0.86226805 -0.64619039]\n"
     ]
    },
    {
     "name": "stderr",
     "output_type": "stream",
     "text": [
      "\r",
      " 70%|██████████████████████████████▊             | 7/10 [00:02<00:01,  2.85it/s]"
     ]
    },
    {
     "name": "stdout",
     "output_type": "stream",
     "text": [
      "9.012115197735504\n",
      "[-2.47432416 -1.3750394  -0.27455532  0.5316934 ]\n"
     ]
    },
    {
     "name": "stderr",
     "output_type": "stream",
     "text": [
      "\r",
      " 80%|███████████████████████████████████▏        | 8/10 [00:02<00:00,  2.66it/s]"
     ]
    },
    {
     "name": "stdout",
     "output_type": "stream",
     "text": [
      "24.038706709652924\n",
      "[-2.03614888 -0.65856193 -0.08470293  0.13282992]\n"
     ]
    },
    {
     "name": "stderr",
     "output_type": "stream",
     "text": [
      "\r",
      " 90%|███████████████████████████████████████▌    | 9/10 [00:03<00:00,  2.71it/s]"
     ]
    },
    {
     "name": "stdout",
     "output_type": "stream",
     "text": [
      "13.130494517877572\n",
      "[-1.56938515 -0.452459   -0.11952217  0.31295631]\n"
     ]
    },
    {
     "name": "stderr",
     "output_type": "stream",
     "text": [
      "100%|███████████████████████████████████████████| 10/10 [00:03<00:00,  2.83it/s]\n"
     ]
    }
   ],
   "source": [
    "jrandom_key = jrandom.PRNGKey(2)\n",
    "jrandom_key, subkey = jrandom.split(jrandom_key)\n",
    "# sample from uniform distribution\n",
    "N_pts = int(1e1)\n",
    "pts_prct = prct_bound*(jrandom.uniform(subkey, shape=(N_pts, 4)) - 0.5)*2\n",
    "pts = prmts_0.reshape(1, 4)*(1 + pts_prct)\n",
    "h_space = jnp.logspace(-1, -3, 6)\n",
    "\n",
    "jrandom_key, subkey = jrandom.split(jrandom_key)\n",
    "res_fd, res_cfd, res_ours, res_rbf = mse_sensitivity(Fs[0], Fs_tilde[0], sig, pts, rbfs[0], h_space, subkey, num_runs=1)\n",
    "\n"
   ]
  },
  {
   "cell_type": "code",
   "execution_count": 65,
   "metadata": {},
   "outputs": [],
   "source": [
    "def postprocess(res):\n",
    "    res = jnp.array(res)\n",
    "    res = jnp.mean(res, axis=2)\n",
    "    return jnp.min(jnp.array(res), axis=1)"
   ]
  },
  {
   "cell_type": "code",
   "execution_count": 66,
   "metadata": {},
   "outputs": [
    {
     "data": {
      "text/plain": [
       "(array([2., 0., 0., 0., 0., 0., 0., 0., 1., 0., 1., 1., 1., 0., 1., 0., 0.,\n",
       "        1., 0., 2.]),\n",
       " array([0.0294095 , 0.1980888 , 0.3667681 , 0.53544741, 0.70412671,\n",
       "        0.87280601, 1.04148532, 1.21016462, 1.37884392, 1.54752322,\n",
       "        1.71620253, 1.88488183, 2.05356113, 2.22224044, 2.39091974,\n",
       "        2.55959904, 2.72827835, 2.89695765, 3.06563695, 3.23431626,\n",
       "        3.40299556]),\n",
       " <BarContainer object of 20 artists>)"
      ]
     },
     "execution_count": 66,
     "metadata": {},
     "output_type": "execute_result"
    },
    {
     "data": {
      "image/png": "[encoded data removed]",
      "text/plain": [
       "<Figure size 640x480 with 1 Axes>"
      ]
     },
     "metadata": {},
     "output_type": "display_data"
    }
   ],
   "source": [
    "plt.hist([float(c) for c in jnp.log(jnp.array(res_rbf)/postprocess(res_ours))/jnp.log(2)], bins=20)"
   ]
  },
  {
   "cell_type": "code",
   "execution_count": 67,
   "metadata": {},
   "outputs": [
    {
     "data": {
      "text/plain": [
       "(array([1., 0., 0., 2., 0., 1., 0., 1., 1., 1., 1., 0., 0., 0., 0., 0., 1.,\n",
       "        0., 0., 1.]),\n",
       " array([0.04967354, 0.12799659, 0.20631963, 0.28464267, 0.36296571,\n",
       "        0.44128875, 0.5196118 , 0.59793484, 0.67625788, 0.75458092,\n",
       "        0.83290396, 0.911227  , 0.98955005, 1.06787309, 1.14619613,\n",
       "        1.22451917, 1.30284221, 1.38116526, 1.4594883 , 1.53781134,\n",
       "        1.61613438]),\n",
       " <BarContainer object of 20 artists>)"
      ]
     },
     "execution_count": 67,
     "metadata": {},
     "output_type": "execute_result"
    },
    {
     "data": {
      "image/png": "[encoded data removed]",
      "text/plain": [
       "<Figure size 640x480 with 1 Axes>"
      ]
     },
     "metadata": {},
     "output_type": "display_data"
    }
   ],
   "source": [
    "plt.hist([float(c) for c in jnp.log(postprocess(res_fd)/postprocess(res_ours))/jnp.log(2)], bins=20)"
   ]
  },
  {
   "cell_type": "code",
   "execution_count": 68,
   "metadata": {},
   "outputs": [
    {
     "data": {
      "text/plain": [
       "(array([1., 0., 0., 0., 1., 0., 1., 0., 0., 4., 1., 0., 0., 0., 1., 0., 0.,\n",
       "        0., 0., 1.]),\n",
       " array([-2.70110249, -2.64155986, -2.58201722, -2.52247458, -2.46293195,\n",
       "        -2.40338931, -2.34384667, -2.28430404, -2.2247614 , -2.16521876,\n",
       "        -2.10567613, -2.04613349, -1.98659085, -1.92704822, -1.86750558,\n",
       "        -1.80796294, -1.74842031, -1.68887767, -1.62933503, -1.5697924 ,\n",
       "        -1.51024976]),\n",
       " <BarContainer object of 20 artists>)"
      ]
     },
     "execution_count": 68,
     "metadata": {},
     "output_type": "execute_result"
    },
    {
     "data": {
      "image/png": "[encoded data removed]",
      "text/plain": [
       "<Figure size 640x480 with 1 Axes>"
      ]
     },
     "metadata": {},
     "output_type": "display_data"
    }
   ],
   "source": [
    "plt.hist([float(c) for c in jnp.log(postprocess(res_cfd)/postprocess(res_ours))/jnp.log(2)], bins=20)"
   ]
  },
  {
   "cell_type": "code",
   "execution_count": null,
   "metadata": {},
   "outputs": [],
   "source": []
  },
  {
   "cell_type": "code",
   "execution_count": null,
   "metadata": {},
   "outputs": [],
   "source": [
    "d"
   ]
  }
 ],
 "metadata": {
  "kernelspec": {
   "display_name": "Python (simplex_grad)",
   "language": "python",
   "name": "simplex_grad"
  },
  "language_info": {
   "codemirror_mode": {
    "name": "ipython",
    "version": 3
   },
   "file_extension": ".py",
   "mimetype": "text/x-python",
   "name": "python",
   "nbconvert_exporter": "python",
   "pygments_lexer": "ipython3",
   "version": "3.10.0"
  }
 },
 "nbformat": 4,
 "nbformat_minor": 2
}
