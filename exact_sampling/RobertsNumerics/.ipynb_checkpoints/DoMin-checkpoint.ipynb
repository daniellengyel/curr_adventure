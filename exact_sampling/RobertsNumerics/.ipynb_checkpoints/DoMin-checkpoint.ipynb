{
 "cells": [
  {
   "cell_type": "code",
   "execution_count": 1,
   "metadata": {},
   "outputs": [],
   "source": [
    "import jax.numpy as jnp\n",
    "import jax.random as jrandom\n",
    "import numpy as np\n",
    "from jax import grad\n",
    "from jax import jit, grad, jacfwd, jacrev\n",
    "import math\n",
    "\n",
    "\n",
    "import scipy \n",
    "\n",
    "import matplotlib.pyplot as plt\n",
    "\n",
    "%matplotlib inline\n",
    "plt.rcParams['figure.figsize'] = [15,15]\n",
    "plt.style.use('default')\n",
    "plt.rcParams['lines.markersize'] = 8\n",
    "plt.rcParams.update({'font.size': 12})\n",
    "\n",
    "\n",
    "from tqdm import tqdm\n",
    "import time\n",
    "\n",
    "from jax.config import config\n",
    "config.update(\"jax_enable_x64\", True)\n",
    "\n",
    "import sys\n",
    "HOME = \"/Users/daniellengyel/curr_adventure/exact_sampling\"\n",
    "sys.path.append(HOME)\n",
    "\n",
    "from Ours import Ours\n",
    "from FD import FD\n",
    "from Functions import Quadratic, PyCutestGetter\n",
    "from RBF import RBF\n",
    "\n",
    "from scipy.interpolate import Rbf, RBFInterpolator\n",
    "\n",
    "%load_ext autoreload\n",
    "%autoreload 2"
   ]
  },
  {
   "cell_type": "code",
   "execution_count": 2,
   "metadata": {},
   "outputs": [],
   "source": [
    "func_name = \"ARWHEAD\"\n",
    "dim = 100\n",
    "sig = 0.1\n",
    "_, x_init, F = PyCutestGetter(func_name=func_name, func_dim=dim, func_i=None, dim_i=None, sig=0, noise_type=\"gaussian\")"
   ]
  },
  {
   "cell_type": "code",
   "execution_count": 3,
   "metadata": {},
   "outputs": [
    {
     "name": "stderr",
     "output_type": "stream",
     "text": [
      "WARNING:absl:No GPU/TPU found, falling back to CPU. (Set TF_CPP_MIN_LOG_LEVEL=0 and rerun for more info.)\n"
     ]
    },
    {
     "data": {
      "text/plain": [
       "297.0"
      ]
     },
     "execution_count": 3,
     "metadata": {},
     "output_type": "execute_result"
    }
   ],
   "source": [
    "F.f(jnp.ones(dim))"
   ]
  },
  {
   "cell_type": "code",
   "execution_count": null,
   "metadata": {},
   "outputs": [],
   "source": []
  },
  {
   "cell_type": "code",
   "execution_count": 9,
   "metadata": {},
   "outputs": [],
   "source": [
    "import jax.numpy as jnp\n",
    "from jax import grad\n",
    "from jax import random as jrandom\n",
    "import time\n",
    "from tqdm import tqdm \n",
    "\n",
    "from jax import jit, grad, jacfwd\n",
    "from scipy.interpolate import Rbf, RBFInterpolator\n",
    "\n",
    "\n",
    "from jax.config import config\n",
    "config.update(\"jax_enable_x64\", True)\n",
    "\n",
    "class OptimizationBlueprint:\n",
    "    def __init__(self, x_init, F, step_size, num_total_steps, sig, jrandom_key, grad_eps=0, verbose=False, x_opt=None):\n",
    "        self.jrandom_key = jrandom_key\n",
    "\n",
    "        self.step_size = step_size\n",
    "\n",
    "        self.sig = sig\n",
    "\n",
    "        self.F = F\n",
    "\n",
    "        self.loop_steps_remaining = num_total_steps\n",
    "        self.num_total_steps = num_total_steps\n",
    "        self.grad_eps = grad_eps\n",
    "\n",
    "        self.verbose = True\n",
    "        self.x_init = x_init\n",
    "        self.dim = len(x_init)\n",
    "        self.verbose = verbose\n",
    "\n",
    "        self.x_opt = x_opt\n",
    "         \n",
    "\n",
    "    def run_opt(self):\n",
    "        X = self.x_init\n",
    "\n",
    "        vals_arr = []\n",
    "        x_arr = []\n",
    "        total_func_calls = 0\n",
    "        start_time = time.time()\n",
    "\n",
    "        vals_arr.append((self.F.f(X), time.time() - start_time, total_func_calls, 0))\n",
    "        x_arr.append(X)\n",
    "\n",
    "        for t in tqdm(range(self.loop_steps_remaining)):\n",
    "\n",
    "            \n",
    "            # get search direction\n",
    "            if self.jrandom_key is not None:\n",
    "                self.jrandom_key, subkey = jrandom.split(self.jrandom_key)\n",
    "                search_direction, f1, num_func_calls = self.step_getter(X, subkey)\n",
    "            else:\n",
    "                search_direction, f1, num_func_calls = self.step_getter(X)\n",
    "            total_func_calls += num_func_calls\n",
    "\n",
    "            vals_arr.append((self.F.f(X), time.time() - start_time, total_func_calls, float(jnp.linalg.norm(f1 - self.F.f1(X))))) # jnp.linalg.norm(X - self.F.x_opt))) #float(f1.T @ self.F.f1(X)) / (jnp.linalg.norm(self.F.f1(X)) * jnp.linalg.norm(f1))))#  float(jnp.linalg.norm(f1 - self.F.f1(X)))/jnp.linalg.norm(self.F.f1(X))))# jnp.linalg.norm(X - self.x_init)))# # jnp.linalg.norm(self.F.f1(X)))) # #float(jnp.linalg.norm(self.grad_curr - self.F.f1(X))/jnp.linalg.norm(self.F.f1(X))))) #/jnp.linalg.norm(self.F.f1(X))))) jnp.linalg.norm(alpha * search_direction))) #\n",
    "            x_arr.append(X)\n",
    "\n",
    "            if jnp.linalg.norm(f1)/self.dim < self.grad_eps:\n",
    "                break\n",
    "\n",
    "            if self.verbose:\n",
    "                # print(X)\n",
    "                print(\"Number Iterations\", t)\n",
    "                print(\"Num Function Calls\", total_func_calls)\n",
    "                print(\"Obj\", self.F.f(X))\n",
    "                print(\"Grad norm\", jnp.linalg.norm(f1))\n",
    "                print(\"True Norm\", jnp.linalg.norm(self.F.f1(X)))\n",
    "                print()\n",
    "\n",
    "            if self.F.f(X) == float(\"inf\"):\n",
    "                break\n",
    "            \n",
    "            # update step\n",
    "            X = X + self.step_size * search_direction\n",
    "\n",
    "            if vals_arr[-1][-1] > 1e10:\n",
    "                break\n",
    "\n",
    "        return X, jnp.array(vals_arr), jnp.array(x_arr)\n",
    "\n",
    "\n",
    "    def step_getter(self, X, jrandom_key=None):\n",
    "        pass\n",
    "\n",
    "\n",
    "class NewtonMethod(OptimizationBlueprint):\n",
    "    def __init__(self, x_init, F, step_size, num_total_steps, sig, jrandom_key, grad_eps=0, verbose=False):\n",
    "        super().__init__(x_init, F, step_size, num_total_steps, sig, jrandom_key, grad_eps, verbose)\n",
    "        self.sig = 0\n",
    "        self.grad_curr = None\n",
    "    \n",
    "    def step_getter(self, X, jrandom_key=None):\n",
    "        f1 = self.F.f1(X)\n",
    "        f2 = self.F.f2(X)\n",
    "        self.grad_curr = f1\n",
    "        return -jnp.linalg.inv(f2).dot(f1), f1, 2\n",
    "\n",
    "class GradientDescent(OptimizationBlueprint):\n",
    "    def __init__(self, x_init, F, step_size, num_total_steps, sig, jrandom_key, grad_eps=0, verbose=False):\n",
    "        super().__init__(x_init, F, step_size, num_total_steps, sig, jrandom_key, grad_eps, verbose)\n",
    "        self.sig = 0\n",
    "        self.grad_curr = None\n",
    "    \n",
    "    def step_getter(self, X, jrandom_key=None):\n",
    "        f1 = self.F.f1(X)\n",
    "        self.grad_curr = f1\n",
    "        return -f1, f1, 2 \n",
    "\n",
    "\n",
    "class ExactH_GD(OptimizationBlueprint):\n",
    "    def __init__(self, x_init, F, step_size, num_total_steps, sig, jrandom_key, grad_getter, grad_eps=0, verbose=False):\n",
    "        super().__init__(x_init, F, step_size, num_total_steps, sig, jrandom_key, grad_eps, verbose)\n",
    "\n",
    "        self.grad_getter = grad_getter\n",
    "        \n",
    "\n",
    "    def step_getter(self, X, jrandom_key):\n",
    "        num_func_calls = 0\n",
    "        \n",
    "        H = self.F.f2(X)\n",
    "        f1, num_func_calls, _, _, _ = self.grad_getter.grad(self.F, X, jrandom_key, H=H)\n",
    "\n",
    "        if self.verbose:\n",
    "            print(\"Grad diff\", jnp.linalg.norm(f1 - self.F.f1(X))/jnp.linalg.norm(self.F.f1(X)))\n",
    "\n",
    "        return -f1, f1, num_func_calls\n",
    "\n",
    "\n",
    "\n",
    "class InterpH_GD(OptimizationBlueprint):\n",
    "    def __init__(self, x_init, F, step_size, num_total_steps, sig, jrandom_key, grad_getter, grad_eps=0, verbose=False, smoothing=1):\n",
    "        super().__init__(x_init, F, step_size, num_total_steps, sig, jrandom_key, grad_eps, verbose)\n",
    "\n",
    "\n",
    "        self.X_prev = None\n",
    "        self.grad_curr = None\n",
    "        self.grad_getter = grad_getter\n",
    "        \n",
    "        self.interp_points = None\n",
    "        self.F_vals = None\n",
    "        \n",
    "        self.smoothing = smoothing\n",
    "        \n",
    "\n",
    "    def step_getter(self, X, jrandom_key):\n",
    "        num_func_calls = 0\n",
    "        if (self.interp_points is not None) and (self.interp_points.shape[1] > 2 * len(X) + 1):\n",
    "            curr_interp_points = []\n",
    "            curr_F_vals = []\n",
    "            \n",
    "            curr_interp_points = self.interp_points[:, -1000:] # int(-self.dim**2 * 2):]# self.interp_points # jnp.array(curr_interp_points).T # \n",
    "            curr_F_vals = self.F_vals[-1000:] # [-int(self.dim**2 * 2): ] # self.F_vals # jnp.array(curr_F_vals) # \n",
    "            \n",
    "            curr_rbf = RBF(curr_interp_points, curr_F_vals, self.smoothing)\n",
    "            H, rbf_f1 = curr_rbf.f2(X), curr_rbf.f1(X)\n",
    "#             print(repr(H))\n",
    "#             print(jnp.linalg.cond(H))\n",
    "            print(\"grad diff\", jnp.linalg.norm(rbf_f1 - self.F.f1(X))/jnp.linalg.norm(self.F.f1(X)))\n",
    "            print(\"H diff\", jnp.linalg.norm(H - self.F.f2(X))/jnp.linalg.norm(self.F.f2(X)))\n",
    "\n",
    "        else:\n",
    "            H = jnp.eye(len(X))\n",
    "            rbf_f1 = None\n",
    "\n",
    "        self.grad_curr, num_func_calls, F_x_0, FS, S = self.grad_getter.grad(self.F, X, jrandom_key, H=H)\n",
    "        print(\"Grad diff\", jnp.linalg.norm(self.grad_curr - self.F.f1(X))/jnp.linalg.norm(self.F.f1(X)))\n",
    "\n",
    "\n",
    "        if self.interp_points is None:\n",
    "            self.interp_points = jnp.concatenate([S + X.reshape(-1, 1), X.reshape(-1, 1)], axis=1)\n",
    "            self.F_vals = jnp.concatenate([FS, jnp.array([F_x_0])])\n",
    "        else:\n",
    "            self.interp_points = jnp.concatenate([self.interp_points, S + X.reshape(-1, 1), X.reshape(-1, 1)], axis=1)\n",
    "            self.F_vals = jnp.concatenate([self.F_vals, FS, jnp.array([F_x_0])])\n",
    "        \n",
    "        if self.verbose:\n",
    "\n",
    "            print(\"Grad diff\", jnp.linalg.norm(self.grad_curr - self.F.f1(X))/jnp.linalg.norm(self.F.f1(X)))\n",
    "#             print(\"H diff\", jnp.linalg.norm(H - self.F.f2(X))/jnp.linalg.norm(self.F.f2(X)))\n",
    "            # print(\"H eigs\", (jnp.linalg.eigh(H)[0] - jnp.linalg.eigh(self.F.f2(X))[0])/jnp.linalg.eigh(self.F.f2(X))[0])\n",
    "            \n",
    "        f1 = self.grad_curr\n",
    "\n",
    "        return -f1, f1, num_func_calls\n",
    "    \n",
    "    \n",
    "\n"
   ]
  },
  {
   "cell_type": "code",
   "execution_count": 10,
   "metadata": {},
   "outputs": [
    {
     "name": "stderr",
     "output_type": "stream",
     "text": [
      " 10%|████▍                                       | 1/10 [00:00<00:02,  3.18it/s]"
     ]
    },
    {
     "name": "stdout",
     "output_type": "stream",
     "text": [
      "Grad diff 0.021335796369136927\n"
     ]
    },
    {
     "name": "stderr",
     "output_type": "stream",
     "text": [
      " 20%|████████▊                                   | 2/10 [00:00<00:02,  3.08it/s]"
     ]
    },
    {
     "name": "stdout",
     "output_type": "stream",
     "text": [
      "Grad diff 0.09816201646125804\n"
     ]
    },
    {
     "name": "stderr",
     "output_type": "stream",
     "text": [
      "\n"
     ]
    },
    {
     "ename": "ValueError",
     "evalue": "Expected the first axis of `d` to have length 100.",
     "output_type": "error",
     "traceback": [
      "\u001b[0;31m---------------------------------------------------------------------------\u001b[0m",
      "\u001b[0;31mValueError\u001b[0m                                Traceback (most recent call last)",
      "Input \u001b[0;32mIn [10]\u001b[0m, in \u001b[0;36m<cell line: 11>\u001b[0;34m()\u001b[0m\n\u001b[1;32m      7\u001b[0m jrandom_key \u001b[38;5;241m=\u001b[39m jrandom\u001b[38;5;241m.\u001b[39mPRNGKey(\u001b[38;5;241m0\u001b[39m)\n\u001b[1;32m     10\u001b[0m \u001b[38;5;66;03m# X_final, l_hist_1, x_path = ExactH_GD(x_init, F, step_size, num_total_steps, sig, jrandom_key, grad_getter, grad_eps=0, verbose=False).run_opt()\u001b[39;00m\n\u001b[0;32m---> 11\u001b[0m X_final, l_hist_2, x_path \u001b[38;5;241m=\u001b[39m \u001b[43mInterpH_GD\u001b[49m\u001b[43m(\u001b[49m\u001b[43mx_init\u001b[49m\u001b[43m,\u001b[49m\u001b[43m \u001b[49m\u001b[43mF\u001b[49m\u001b[43m,\u001b[49m\u001b[43m \u001b[49m\u001b[43mstep_size\u001b[49m\u001b[43m,\u001b[49m\u001b[43m \u001b[49m\u001b[43mnum_total_steps\u001b[49m\u001b[43m,\u001b[49m\u001b[43m \u001b[49m\u001b[43msig\u001b[49m\u001b[43m,\u001b[49m\u001b[43m \u001b[49m\u001b[43mjrandom_key\u001b[49m\u001b[43m,\u001b[49m\u001b[43m \u001b[49m\u001b[43mgrad_getter\u001b[49m\u001b[43m,\u001b[49m\u001b[43m \u001b[49m\u001b[43mgrad_eps\u001b[49m\u001b[38;5;241;43m=\u001b[39;49m\u001b[38;5;241;43m0\u001b[39;49m\u001b[43m,\u001b[49m\u001b[43m \u001b[49m\u001b[43mverbose\u001b[49m\u001b[38;5;241;43m=\u001b[39;49m\u001b[38;5;28;43;01mFalse\u001b[39;49;00m\u001b[43m)\u001b[49m\u001b[38;5;241;43m.\u001b[39;49m\u001b[43mrun_opt\u001b[49m\u001b[43m(\u001b[49m\u001b[43m)\u001b[49m\n",
      "Input \u001b[0;32mIn [9]\u001b[0m, in \u001b[0;36mOptimizationBlueprint.run_opt\u001b[0;34m(self)\u001b[0m\n\u001b[1;32m     51\u001b[0m \u001b[38;5;28;01mif\u001b[39;00m \u001b[38;5;28mself\u001b[39m\u001b[38;5;241m.\u001b[39mjrandom_key \u001b[38;5;129;01mis\u001b[39;00m \u001b[38;5;129;01mnot\u001b[39;00m \u001b[38;5;28;01mNone\u001b[39;00m:\n\u001b[1;32m     52\u001b[0m     \u001b[38;5;28mself\u001b[39m\u001b[38;5;241m.\u001b[39mjrandom_key, subkey \u001b[38;5;241m=\u001b[39m jrandom\u001b[38;5;241m.\u001b[39msplit(\u001b[38;5;28mself\u001b[39m\u001b[38;5;241m.\u001b[39mjrandom_key)\n\u001b[0;32m---> 53\u001b[0m     search_direction, f1, num_func_calls \u001b[38;5;241m=\u001b[39m \u001b[38;5;28;43mself\u001b[39;49m\u001b[38;5;241;43m.\u001b[39;49m\u001b[43mstep_getter\u001b[49m\u001b[43m(\u001b[49m\u001b[43mX\u001b[49m\u001b[43m,\u001b[49m\u001b[43m \u001b[49m\u001b[43msubkey\u001b[49m\u001b[43m)\u001b[49m\n\u001b[1;32m     54\u001b[0m \u001b[38;5;28;01melse\u001b[39;00m:\n\u001b[1;32m     55\u001b[0m     search_direction, f1, num_func_calls \u001b[38;5;241m=\u001b[39m \u001b[38;5;28mself\u001b[39m\u001b[38;5;241m.\u001b[39mstep_getter(X)\n",
      "Input \u001b[0;32mIn [9]\u001b[0m, in \u001b[0;36mInterpH_GD.step_getter\u001b[0;34m(self, X, jrandom_key)\u001b[0m\n\u001b[1;32m    154\u001b[0m             curr_interp_points \u001b[38;5;241m=\u001b[39m \u001b[38;5;28mself\u001b[39m\u001b[38;5;241m.\u001b[39minterp_points[:, \u001b[38;5;241m-\u001b[39m\u001b[38;5;241m1000\u001b[39m:] \u001b[38;5;66;03m# int(-self.dim**2 * 2):]# self.interp_points # jnp.array(curr_interp_points).T # \u001b[39;00m\n\u001b[1;32m    155\u001b[0m             curr_F_vals \u001b[38;5;241m=\u001b[39m \u001b[38;5;28mself\u001b[39m\u001b[38;5;241m.\u001b[39mF_vals[\u001b[38;5;241m-\u001b[39m\u001b[38;5;241m1000\u001b[39m:] \u001b[38;5;66;03m# [-int(self.dim**2 * 2): ] # self.F_vals # jnp.array(curr_F_vals) # \u001b[39;00m\n\u001b[0;32m--> 157\u001b[0m             curr_rbf \u001b[38;5;241m=\u001b[39m \u001b[43mRBF\u001b[49m\u001b[43m(\u001b[49m\u001b[43mcurr_interp_points\u001b[49m\u001b[38;5;241;43m.\u001b[39;49m\u001b[43mT\u001b[49m\u001b[43m,\u001b[49m\u001b[43m \u001b[49m\u001b[43mcurr_F_vals\u001b[49m\u001b[43m,\u001b[49m\u001b[43m \u001b[49m\u001b[38;5;28;43mself\u001b[39;49m\u001b[38;5;241;43m.\u001b[39;49m\u001b[43msmoothing\u001b[49m\u001b[43m)\u001b[49m\n\u001b[1;32m    158\u001b[0m             H, rbf_f1 \u001b[38;5;241m=\u001b[39m curr_rbf\u001b[38;5;241m.\u001b[39mf2(X), curr_rbf\u001b[38;5;241m.\u001b[39mf1(X)\n\u001b[1;32m    159\u001b[0m \u001b[38;5;66;03m#             print(repr(H))\u001b[39;00m\n\u001b[1;32m    160\u001b[0m \u001b[38;5;66;03m#             print(jnp.linalg.cond(H))\u001b[39;00m\n",
      "File \u001b[0;32m~/curr_adventure/exact_sampling/RBF.py:10\u001b[0m, in \u001b[0;36mRBF.__init__\u001b[0;34m(self, X, F_vals, smoothing)\u001b[0m\n\u001b[1;32m      9\u001b[0m \u001b[38;5;28;01mdef\u001b[39;00m \u001b[38;5;21m__init__\u001b[39m(\u001b[38;5;28mself\u001b[39m, X, F_vals, smoothing):\n\u001b[0;32m---> 10\u001b[0m     \u001b[38;5;28mself\u001b[39m\u001b[38;5;241m.\u001b[39mrbf \u001b[38;5;241m=\u001b[39m \u001b[43mRBFInterpolator\u001b[49m\u001b[43m(\u001b[49m\u001b[43mX\u001b[49m\u001b[38;5;241;43m.\u001b[39;49m\u001b[43mT\u001b[49m\u001b[43m,\u001b[49m\u001b[43m \u001b[49m\u001b[43mF_vals\u001b[49m\u001b[43m,\u001b[49m\u001b[43m \u001b[49m\u001b[43msmoothing\u001b[49m\u001b[38;5;241;43m=\u001b[39;49m\u001b[43msmoothing\u001b[49m\u001b[43m)\u001b[49m \u001b[38;5;66;03m#, epsilon=0.1, kernel=\"gaussian\")\u001b[39;00m\n\u001b[1;32m     11\u001b[0m     \u001b[38;5;28mself\u001b[39m\u001b[38;5;241m.\u001b[39mcoeffs \u001b[38;5;241m=\u001b[39m jnp\u001b[38;5;241m.\u001b[39marray(\u001b[38;5;28mself\u001b[39m\u001b[38;5;241m.\u001b[39mrbf\u001b[38;5;241m.\u001b[39m_coeffs)\n\u001b[1;32m     12\u001b[0m     \u001b[38;5;28mself\u001b[39m\u001b[38;5;241m.\u001b[39my \u001b[38;5;241m=\u001b[39m jnp\u001b[38;5;241m.\u001b[39marray(\u001b[38;5;28mself\u001b[39m\u001b[38;5;241m.\u001b[39mrbf\u001b[38;5;241m.\u001b[39my)\n",
      "File \u001b[0;32m~/miniconda3/envs/simplex_grad/lib/python3.10/site-packages/scipy/interpolate/_rbfinterp.py:297\u001b[0m, in \u001b[0;36mRBFInterpolator.__init__\u001b[0;34m(self, y, d, neighbors, smoothing, kernel, epsilon, degree)\u001b[0m\n\u001b[1;32m    295\u001b[0m d \u001b[38;5;241m=\u001b[39m np\u001b[38;5;241m.\u001b[39masarray(d, dtype\u001b[38;5;241m=\u001b[39md_dtype, order\u001b[38;5;241m=\u001b[39m\u001b[38;5;124m\"\u001b[39m\u001b[38;5;124mC\u001b[39m\u001b[38;5;124m\"\u001b[39m)\n\u001b[1;32m    296\u001b[0m \u001b[38;5;28;01mif\u001b[39;00m d\u001b[38;5;241m.\u001b[39mshape[\u001b[38;5;241m0\u001b[39m] \u001b[38;5;241m!=\u001b[39m ny:\n\u001b[0;32m--> 297\u001b[0m     \u001b[38;5;28;01mraise\u001b[39;00m \u001b[38;5;167;01mValueError\u001b[39;00m(\n\u001b[1;32m    298\u001b[0m         \u001b[38;5;124mf\u001b[39m\u001b[38;5;124m\"\u001b[39m\u001b[38;5;124mExpected the first axis of `d` to have length \u001b[39m\u001b[38;5;132;01m{\u001b[39;00mny\u001b[38;5;132;01m}\u001b[39;00m\u001b[38;5;124m.\u001b[39m\u001b[38;5;124m\"\u001b[39m\n\u001b[1;32m    299\u001b[0m         )\n\u001b[1;32m    301\u001b[0m d_shape \u001b[38;5;241m=\u001b[39m d\u001b[38;5;241m.\u001b[39mshape[\u001b[38;5;241m1\u001b[39m:]\n\u001b[1;32m    302\u001b[0m d \u001b[38;5;241m=\u001b[39m d\u001b[38;5;241m.\u001b[39mreshape((ny, \u001b[38;5;241m-\u001b[39m\u001b[38;5;241m1\u001b[39m))\n",
      "\u001b[0;31mValueError\u001b[0m: Expected the first axis of `d` to have length 100."
     ]
    }
   ],
   "source": [
    "grad_getter = Ours(sig, max_h=0.1)\n",
    "# grad_getter = FD(sig, is_central=False, h=0.1)\n",
    "\n",
    "\n",
    "step_size = 0.001\n",
    "num_total_steps = 10\n",
    "jrandom_key = jrandom.PRNGKey(0)\n",
    "\n",
    "\n",
    "# X_final, l_hist_1, x_path = ExactH_GD(x_init, F, step_size, num_total_steps, sig, jrandom_key, grad_getter, grad_eps=0, verbose=False).run_opt()\n",
    "X_final, l_hist_2, x_path = InterpH_GD(x_init, F, step_size, num_total_steps, sig, jrandom_key, grad_getter, grad_eps=0, verbose=False).run_opt()\n",
    "\n",
    "\n"
   ]
  },
  {
   "cell_type": "code",
   "execution_count": 6,
   "metadata": {},
   "outputs": [
    {
     "ename": "NameError",
     "evalue": "name 'l_hist_1' is not defined",
     "output_type": "error",
     "traceback": [
      "\u001b[0;31m---------------------------------------------------------------------------\u001b[0m",
      "\u001b[0;31mNameError\u001b[0m                                 Traceback (most recent call last)",
      "Input \u001b[0;32mIn [6]\u001b[0m, in \u001b[0;36m<cell line: 1>\u001b[0;34m()\u001b[0m\n\u001b[0;32m----> 1\u001b[0m plt\u001b[38;5;241m.\u001b[39mplot(\u001b[43ml_hist_1\u001b[49m[:, \u001b[38;5;241m0\u001b[39m], label\u001b[38;5;241m=\u001b[39m\u001b[38;5;124m\"\u001b[39m\u001b[38;5;124mexact\u001b[39m\u001b[38;5;124m\"\u001b[39m)\n\u001b[1;32m      2\u001b[0m plt\u001b[38;5;241m.\u001b[39mplot(l_hist_2[:, \u001b[38;5;241m0\u001b[39m], label\u001b[38;5;241m=\u001b[39m\u001b[38;5;124m\"\u001b[39m\u001b[38;5;124minterp\u001b[39m\u001b[38;5;124m\"\u001b[39m)\n\u001b[1;32m      3\u001b[0m plt\u001b[38;5;241m.\u001b[39myscale(\u001b[38;5;124m\"\u001b[39m\u001b[38;5;124mlog\u001b[39m\u001b[38;5;124m\"\u001b[39m)\n",
      "\u001b[0;31mNameError\u001b[0m: name 'l_hist_1' is not defined"
     ]
    }
   ],
   "source": [
    "plt.plot(l_hist_1[:, 0], label=\"exact\")\n",
    "plt.plot(l_hist_2[:, 0], label=\"interp\")\n",
    "plt.yscale(\"log\")\n",
    "plt.legend()"
   ]
  },
  {
   "cell_type": "code",
   "execution_count": 46,
   "metadata": {},
   "outputs": [
    {
     "data": {
      "image/png": "[encoded data removed]",
      "text/plain": [
       "<Figure size 640x480 with 1 Axes>"
      ]
     },
     "metadata": {},
     "output_type": "display_data"
    }
   ],
   "source": [
    "plt.plot(l_hist_1[:, 0])\n",
    "plt.plot(l_hist_2[:, 0])\n",
    "plt.yscale(\"log\")"
   ]
  },
  {
   "cell_type": "code",
   "execution_count": 15,
   "metadata": {},
   "outputs": [
    {
     "data": {
      "text/plain": [
       "DeviceArray([[2.97000000e+02, 2.67028809e-05, 0.00000000e+00,\n",
       "              0.00000000e+00],\n",
       "             [2.97000000e+02, 3.09940815e-01, 1.01000000e+02,\n",
       "              2.88788663e+00],\n",
       "             [3.70504194e+09, 5.23132801e-01, 2.02000000e+02,\n",
       "              6.50953491e+01],\n",
       "             [1.27593137e+31, 7.44532824e-01, 3.03000000e+02,\n",
       "              2.69363828e+24]], dtype=float64)"
      ]
     },
     "execution_count": 15,
     "metadata": {},
     "output_type": "execute_result"
    }
   ],
   "source": [
    "l_hist"
   ]
  },
  {
   "cell_type": "code",
   "execution_count": null,
   "metadata": {},
   "outputs": [],
   "source": []
  }
 ],
 "metadata": {
  "kernelspec": {
   "display_name": "Python (simplex_grad)",
   "language": "python",
   "name": "simplex_grad"
  },
  "language_info": {
   "codemirror_mode": {
    "name": "ipython",
    "version": 3
   },
   "file_extension": ".py",
   "mimetype": "text/x-python",
   "name": "python",
   "nbconvert_exporter": "python",
   "pygments_lexer": "ipython3",
   "version": "3.10.0"
  }
 },
 "nbformat": 4,
 "nbformat_minor": 2
}
